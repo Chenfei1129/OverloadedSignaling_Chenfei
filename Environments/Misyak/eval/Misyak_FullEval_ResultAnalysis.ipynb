{
 "cells": [
  {
   "cell_type": "code",
   "execution_count": 4,
   "metadata": {
    "ExecuteTime": {
     "end_time": "2020-09-09T16:09:38.812654Z",
     "start_time": "2020-09-09T16:09:38.793689Z"
    }
   },
   "outputs": [],
   "source": [
    "import sys\n",
    "sys.path.append('/home/stacyste/Documents/Research/OverloadedSignaling/Environments/Misyak')\n",
    "sys.path.append('/home/stacyste/Documents/Research/OverloadedSignaling/Environments/Misyak/eval')\n",
    "sys.path.append('/home/stacyste/Documents/Research/OverloadedSignaling/Environments/Misyak/simulations')\n",
    "import numpy as np\n",
    "import pandas as pd\n",
    "\n",
    "from evaluateMisyak_FullExperimentalConditions import EvaluateOverloadedSignaler"
   ]
  },
  {
   "cell_type": "code",
   "execution_count": 5,
   "metadata": {
    "ExecuteTime": {
     "end_time": "2020-09-09T16:09:40.716655Z",
     "start_time": "2020-09-09T16:09:40.706997Z"
    }
   },
   "outputs": [],
   "source": [
    "%load_ext autoreload\n",
    "%autoreload 2"
   ]
  },
  {
   "cell_type": "code",
   "execution_count": 6,
   "metadata": {
    "ExecuteTime": {
     "end_time": "2020-09-09T16:09:43.356315Z",
     "start_time": "2020-09-09T16:09:43.314303Z"
    }
   },
   "outputs": [],
   "source": [
    "humanResults = pd.read_pickle('/home/stacyste/Documents/Research/OverloadedSignaling/Environments/Misyak/data/humanResultsStrategyPDFs.pkl')\n",
    "\n",
    "tuneGrid8 = pd.read_pickle('./evalResults-2020-8-28-valueFixed1-cost01-signalCost.pkl')\n",
    "tuneGrid9 = pd.read_pickle(\"./evalResults-2020-9-1-valueFixed1-cost01-signalCost-largerAlpha.pkl\")\n",
    "tuneGrid92 = pd.read_pickle(\"./evalResults-2020-9-2-alpha17-25.pkl\")\n",
    "tuneGrid828 = pd.concat([tuneGrid8, tuneGrid9,tuneGrid92])\n",
    "\n",
    "rsaTG = pd.read_pickle('./evalResults-2020-9-1-RSA.pkl')"
   ]
  },
  {
   "cell_type": "code",
   "execution_count": 45,
   "metadata": {
    "ExecuteTime": {
     "end_time": "2020-09-09T17:56:38.224272Z",
     "start_time": "2020-09-09T17:56:38.212934Z"
    }
   },
   "outputs": [],
   "source": [
    "def getMatchingStrategies(modelPreds):\n",
    "    indxNames = list(modelPreds.index.names)\n",
    "    indxNames.remove('strategy')\n",
    "    \n",
    "    hStrat = modelPreds.groupby(indxNames).apply(lambda y: y['humanResults'].values.argmax())\n",
    "    mStrat = modelPreds.groupby(indxNames).apply(lambda y: y['modelResults'].values.argmax())\n",
    "    matches = (hStrat == mStrat).value_counts()\n",
    "    #keyConditionMatches = (hStrat.loc[[(2, 2, 1, 2), (1, 2, 1, 2),(1,1,1,2), (1,2,0,2)]]==mStrat.loc[[(2, 2, 1, 2), (1, 2, 1, 2),(1,1,1,2), (1,2,0,2)]]).value_counts()\n",
    "    \n",
    "    keyConditionMatches = [hStrat.loc[(2, 2, 1, 2)]==mStrat.loc[(2, 2, 1, 2)], \n",
    "                       hStrat.loc[(1, 2, 1, 2)]==mStrat.loc[(1, 2, 1, 2)],\n",
    "                       hStrat.loc[(1,1,1,2)]==mStrat.loc[(1,1,1,2)],\n",
    "                       hStrat.loc[(1,2,0,2)]==mStrat.loc[(1,2,0,2)]]\n",
    "    print(keyConditionMatches)\n",
    "    return(matches, keyConditionMatches)"
   ]
  },
  {
   "cell_type": "code",
   "execution_count": 8,
   "metadata": {
    "ExecuteTime": {
     "end_time": "2020-09-09T16:09:45.776852Z",
     "start_time": "2020-09-09T16:09:45.767804Z"
    }
   },
   "outputs": [],
   "source": [
    "def getNMatches(dfRow):\n",
    "    getModelingResults =  EvaluateOverloadedSignaler(humanResults, returnStrategyBreakdown = True)\n",
    "    modelStrategyPDF = getModelingResults(alpha=dfRow.index.get_level_values('alpha')[0], \n",
    "                                      valueOfReward=dfRow.index.get_level_values('valueOfReward')[0], \n",
    "                                      signalMeaningPrior=dfRow.index.get_level_values('signalTypePriors')[0], \n",
    "                                      costOfSignal = 0, \n",
    "                                      costOfPunishment = 0)\n",
    "    stratMatches = getMatchingStrategies(modelStrategyPDF)\n",
    "    return(stratMatches)"
   ]
  },
  {
   "cell_type": "markdown",
   "metadata": {},
   "source": [
    "# Best Parameters"
   ]
  },
  {
   "cell_type": "markdown",
   "metadata": {},
   "source": [
    "Best parameters for the imaged we model"
   ]
  },
  {
   "cell_type": "code",
   "execution_count": 12,
   "metadata": {
    "ExecuteTime": {
     "end_time": "2020-09-09T16:25:19.632253Z",
     "start_time": "2020-09-09T16:25:19.604084Z"
    },
    "scrolled": false
   },
   "outputs": [
    {
     "data": {
      "text/html": [
       "<div>\n",
       "<style scoped>\n",
       "    .dataframe tbody tr th:only-of-type {\n",
       "        vertical-align: middle;\n",
       "    }\n",
       "\n",
       "    .dataframe tbody tr th {\n",
       "        vertical-align: top;\n",
       "    }\n",
       "\n",
       "    .dataframe thead th {\n",
       "        text-align: right;\n",
       "    }\n",
       "</style>\n",
       "<table border=\"1\" class=\"dataframe\">\n",
       "  <thead>\n",
       "    <tr style=\"text-align: right;\">\n",
       "      <th></th>\n",
       "      <th></th>\n",
       "      <th></th>\n",
       "      <th></th>\n",
       "      <th></th>\n",
       "      <th>keyConditionRMSE</th>\n",
       "      <th>keyConditionVariance</th>\n",
       "      <th>totalRMSE</th>\n",
       "      <th>totalVariance</th>\n",
       "    </tr>\n",
       "    <tr>\n",
       "      <th>alpha</th>\n",
       "      <th>signalTypePriors</th>\n",
       "      <th>valueOfReward</th>\n",
       "      <th>costOfNonReward</th>\n",
       "      <th>costOfSignal</th>\n",
       "      <th></th>\n",
       "      <th></th>\n",
       "      <th></th>\n",
       "      <th></th>\n",
       "    </tr>\n",
       "  </thead>\n",
       "  <tbody>\n",
       "    <tr>\n",
       "      <th>9.0</th>\n",
       "      <th>0.55</th>\n",
       "      <th>1.0</th>\n",
       "      <th>0.5</th>\n",
       "      <th>0.0</th>\n",
       "      <td>0.113940</td>\n",
       "      <td>0.012982</td>\n",
       "      <td>0.306759</td>\n",
       "      <td>0.094101</td>\n",
       "    </tr>\n",
       "    <tr>\n",
       "      <th>10.0</th>\n",
       "      <th>0.55</th>\n",
       "      <th>1.0</th>\n",
       "      <th>0.5</th>\n",
       "      <th>0.0</th>\n",
       "      <td>0.112634</td>\n",
       "      <td>0.012686</td>\n",
       "      <td>0.301415</td>\n",
       "      <td>0.090851</td>\n",
       "    </tr>\n",
       "    <tr>\n",
       "      <th>11.0</th>\n",
       "      <th>0.55</th>\n",
       "      <th>1.0</th>\n",
       "      <th>0.5</th>\n",
       "      <th>0.0</th>\n",
       "      <td>0.112136</td>\n",
       "      <td>0.012575</td>\n",
       "      <td>0.296579</td>\n",
       "      <td>0.087959</td>\n",
       "    </tr>\n",
       "    <tr>\n",
       "      <th>12.0</th>\n",
       "      <th>0.55</th>\n",
       "      <th>1.0</th>\n",
       "      <th>0.5</th>\n",
       "      <th>0.0</th>\n",
       "      <td>0.112428</td>\n",
       "      <td>0.012640</td>\n",
       "      <td>0.292205</td>\n",
       "      <td>0.085384</td>\n",
       "    </tr>\n",
       "    <tr>\n",
       "      <th>13.0</th>\n",
       "      <th>0.55</th>\n",
       "      <th>1.0</th>\n",
       "      <th>0.5</th>\n",
       "      <th>0.0</th>\n",
       "      <td>0.113465</td>\n",
       "      <td>0.012874</td>\n",
       "      <td>0.288247</td>\n",
       "      <td>0.083087</td>\n",
       "    </tr>\n",
       "  </tbody>\n",
       "</table>\n",
       "</div>"
      ],
      "text/plain": [
       "                                                                   keyConditionRMSE  \\\n",
       "alpha signalTypePriors valueOfReward costOfNonReward costOfSignal                     \n",
       "9.0   0.55             1.0           0.5             0.0                   0.113940   \n",
       "10.0  0.55             1.0           0.5             0.0                   0.112634   \n",
       "11.0  0.55             1.0           0.5             0.0                   0.112136   \n",
       "12.0  0.55             1.0           0.5             0.0                   0.112428   \n",
       "13.0  0.55             1.0           0.5             0.0                   0.113465   \n",
       "\n",
       "                                                                   keyConditionVariance  \\\n",
       "alpha signalTypePriors valueOfReward costOfNonReward costOfSignal                         \n",
       "9.0   0.55             1.0           0.5             0.0                       0.012982   \n",
       "10.0  0.55             1.0           0.5             0.0                       0.012686   \n",
       "11.0  0.55             1.0           0.5             0.0                       0.012575   \n",
       "12.0  0.55             1.0           0.5             0.0                       0.012640   \n",
       "13.0  0.55             1.0           0.5             0.0                       0.012874   \n",
       "\n",
       "                                                                   totalRMSE  \\\n",
       "alpha signalTypePriors valueOfReward costOfNonReward costOfSignal              \n",
       "9.0   0.55             1.0           0.5             0.0            0.306759   \n",
       "10.0  0.55             1.0           0.5             0.0            0.301415   \n",
       "11.0  0.55             1.0           0.5             0.0            0.296579   \n",
       "12.0  0.55             1.0           0.5             0.0            0.292205   \n",
       "13.0  0.55             1.0           0.5             0.0            0.288247   \n",
       "\n",
       "                                                                   totalVariance  \n",
       "alpha signalTypePriors valueOfReward costOfNonReward costOfSignal                 \n",
       "9.0   0.55             1.0           0.5             0.0                0.094101  \n",
       "10.0  0.55             1.0           0.5             0.0                0.090851  \n",
       "11.0  0.55             1.0           0.5             0.0                0.087959  \n",
       "12.0  0.55             1.0           0.5             0.0                0.085384  \n",
       "13.0  0.55             1.0           0.5             0.0                0.083087  "
      ]
     },
     "execution_count": 12,
     "metadata": {},
     "output_type": "execute_result"
    }
   ],
   "source": [
    "tuneGrid828.loc[tuneGrid828['keyConditionRMSE']<.115]"
   ]
  },
  {
   "cell_type": "code",
   "execution_count": 41,
   "metadata": {
    "ExecuteTime": {
     "end_time": "2020-09-09T17:41:45.959796Z",
     "start_time": "2020-09-09T17:41:45.942978Z"
    }
   },
   "outputs": [],
   "source": [
    "byAlpha_tuneGrid = tuneGrid828.loc[(tuneGrid828.index.get_level_values('costOfNonReward') == 1.0) &\n",
    "                                   (tuneGrid828.index.get_level_values('signalTypePriors') == .55) &\n",
    "                                   (tuneGrid828.index.get_level_values('costOfSignal')==0)]"
   ]
  },
  {
   "cell_type": "code",
   "execution_count": 14,
   "metadata": {
    "ExecuteTime": {
     "end_time": "2020-09-09T16:26:23.664617Z",
     "start_time": "2020-09-09T16:26:23.643155Z"
    },
    "collapsed": true
   },
   "outputs": [
    {
     "data": {
      "text/html": [
       "<div>\n",
       "<style scoped>\n",
       "    .dataframe tbody tr th:only-of-type {\n",
       "        vertical-align: middle;\n",
       "    }\n",
       "\n",
       "    .dataframe tbody tr th {\n",
       "        vertical-align: top;\n",
       "    }\n",
       "\n",
       "    .dataframe thead th {\n",
       "        text-align: right;\n",
       "    }\n",
       "</style>\n",
       "<table border=\"1\" class=\"dataframe\">\n",
       "  <thead>\n",
       "    <tr style=\"text-align: right;\">\n",
       "      <th></th>\n",
       "      <th></th>\n",
       "      <th></th>\n",
       "      <th></th>\n",
       "      <th></th>\n",
       "      <th>keyConditionRMSE</th>\n",
       "      <th>keyConditionVariance</th>\n",
       "      <th>totalRMSE</th>\n",
       "      <th>totalVariance</th>\n",
       "    </tr>\n",
       "    <tr>\n",
       "      <th>alpha</th>\n",
       "      <th>signalTypePriors</th>\n",
       "      <th>valueOfReward</th>\n",
       "      <th>costOfNonReward</th>\n",
       "      <th>costOfSignal</th>\n",
       "      <th></th>\n",
       "      <th></th>\n",
       "      <th></th>\n",
       "      <th></th>\n",
       "    </tr>\n",
       "  </thead>\n",
       "  <tbody>\n",
       "    <tr>\n",
       "      <th>1.0</th>\n",
       "      <th>0.55</th>\n",
       "      <th>1.0</th>\n",
       "      <th>1.0</th>\n",
       "      <th>0.0</th>\n",
       "      <td>0.182928</td>\n",
       "      <td>0.033463</td>\n",
       "      <td>0.354347</td>\n",
       "      <td>0.125562</td>\n",
       "    </tr>\n",
       "    <tr>\n",
       "      <th>2.0</th>\n",
       "      <th>0.55</th>\n",
       "      <th>1.0</th>\n",
       "      <th>1.0</th>\n",
       "      <th>0.0</th>\n",
       "      <td>0.149434</td>\n",
       "      <td>0.022330</td>\n",
       "      <td>0.345808</td>\n",
       "      <td>0.119583</td>\n",
       "    </tr>\n",
       "    <tr>\n",
       "      <th>3.0</th>\n",
       "      <th>0.55</th>\n",
       "      <th>1.0</th>\n",
       "      <th>1.0</th>\n",
       "      <th>0.0</th>\n",
       "      <td>0.136316</td>\n",
       "      <td>0.018582</td>\n",
       "      <td>0.341344</td>\n",
       "      <td>0.116515</td>\n",
       "    </tr>\n",
       "    <tr>\n",
       "      <th>4.0</th>\n",
       "      <th>0.55</th>\n",
       "      <th>1.0</th>\n",
       "      <th>1.0</th>\n",
       "      <th>0.0</th>\n",
       "      <td>0.129914</td>\n",
       "      <td>0.016878</td>\n",
       "      <td>0.334698</td>\n",
       "      <td>0.112023</td>\n",
       "    </tr>\n",
       "    <tr>\n",
       "      <th>5.0</th>\n",
       "      <th>0.55</th>\n",
       "      <th>1.0</th>\n",
       "      <th>1.0</th>\n",
       "      <th>0.0</th>\n",
       "      <td>0.125186</td>\n",
       "      <td>0.015672</td>\n",
       "      <td>0.327161</td>\n",
       "      <td>0.107034</td>\n",
       "    </tr>\n",
       "    <tr>\n",
       "      <th>6.0</th>\n",
       "      <th>0.55</th>\n",
       "      <th>1.0</th>\n",
       "      <th>1.0</th>\n",
       "      <th>0.0</th>\n",
       "      <td>0.121533</td>\n",
       "      <td>0.014770</td>\n",
       "      <td>0.320100</td>\n",
       "      <td>0.102464</td>\n",
       "    </tr>\n",
       "    <tr>\n",
       "      <th>7.0</th>\n",
       "      <th>0.55</th>\n",
       "      <th>1.0</th>\n",
       "      <th>1.0</th>\n",
       "      <th>0.0</th>\n",
       "      <td>0.118986</td>\n",
       "      <td>0.014158</td>\n",
       "      <td>0.313972</td>\n",
       "      <td>0.098579</td>\n",
       "    </tr>\n",
       "    <tr>\n",
       "      <th>8.0</th>\n",
       "      <th>0.55</th>\n",
       "      <th>1.0</th>\n",
       "      <th>1.0</th>\n",
       "      <th>0.0</th>\n",
       "      <td>0.117610</td>\n",
       "      <td>0.013832</td>\n",
       "      <td>0.308799</td>\n",
       "      <td>0.095357</td>\n",
       "    </tr>\n",
       "    <tr>\n",
       "      <th>9.0</th>\n",
       "      <th>0.55</th>\n",
       "      <th>1.0</th>\n",
       "      <th>1.0</th>\n",
       "      <th>0.0</th>\n",
       "      <td>0.117422</td>\n",
       "      <td>0.013788</td>\n",
       "      <td>0.304464</td>\n",
       "      <td>0.092698</td>\n",
       "    </tr>\n",
       "    <tr>\n",
       "      <th>10.0</th>\n",
       "      <th>0.55</th>\n",
       "      <th>1.0</th>\n",
       "      <th>1.0</th>\n",
       "      <th>0.0</th>\n",
       "      <td>0.118384</td>\n",
       "      <td>0.014015</td>\n",
       "      <td>0.300841</td>\n",
       "      <td>0.090505</td>\n",
       "    </tr>\n",
       "    <tr>\n",
       "      <th>11.0</th>\n",
       "      <th>0.55</th>\n",
       "      <th>1.0</th>\n",
       "      <th>1.0</th>\n",
       "      <th>0.0</th>\n",
       "      <td>0.120406</td>\n",
       "      <td>0.014498</td>\n",
       "      <td>0.297822</td>\n",
       "      <td>0.088698</td>\n",
       "    </tr>\n",
       "    <tr>\n",
       "      <th>12.0</th>\n",
       "      <th>0.55</th>\n",
       "      <th>1.0</th>\n",
       "      <th>1.0</th>\n",
       "      <th>0.0</th>\n",
       "      <td>0.123359</td>\n",
       "      <td>0.015217</td>\n",
       "      <td>0.295324</td>\n",
       "      <td>0.087216</td>\n",
       "    </tr>\n",
       "    <tr>\n",
       "      <th>13.0</th>\n",
       "      <th>0.55</th>\n",
       "      <th>1.0</th>\n",
       "      <th>1.0</th>\n",
       "      <th>0.0</th>\n",
       "      <td>0.127090</td>\n",
       "      <td>0.016152</td>\n",
       "      <td>0.293279</td>\n",
       "      <td>0.086013</td>\n",
       "    </tr>\n",
       "    <tr>\n",
       "      <th>14.0</th>\n",
       "      <th>0.55</th>\n",
       "      <th>1.0</th>\n",
       "      <th>1.0</th>\n",
       "      <th>0.0</th>\n",
       "      <td>0.131439</td>\n",
       "      <td>0.017276</td>\n",
       "      <td>0.291633</td>\n",
       "      <td>0.085050</td>\n",
       "    </tr>\n",
       "    <tr>\n",
       "      <th>15.0</th>\n",
       "      <th>0.55</th>\n",
       "      <th>1.0</th>\n",
       "      <th>1.0</th>\n",
       "      <th>0.0</th>\n",
       "      <td>0.136253</td>\n",
       "      <td>0.018565</td>\n",
       "      <td>0.290335</td>\n",
       "      <td>0.084295</td>\n",
       "    </tr>\n",
       "    <tr>\n",
       "      <th>16.0</th>\n",
       "      <th>0.55</th>\n",
       "      <th>1.0</th>\n",
       "      <th>1.0</th>\n",
       "      <th>0.0</th>\n",
       "      <td>0.141391</td>\n",
       "      <td>0.019992</td>\n",
       "      <td>0.289343</td>\n",
       "      <td>0.083719</td>\n",
       "    </tr>\n",
       "    <tr>\n",
       "      <th rowspan=\"2\" valign=\"top\">17.0</th>\n",
       "      <th rowspan=\"2\" valign=\"top\">0.55</th>\n",
       "      <th rowspan=\"2\" valign=\"top\">1.0</th>\n",
       "      <th rowspan=\"2\" valign=\"top\">1.0</th>\n",
       "      <th>0.0</th>\n",
       "      <td>0.146734</td>\n",
       "      <td>0.021531</td>\n",
       "      <td>0.288614</td>\n",
       "      <td>0.083298</td>\n",
       "    </tr>\n",
       "    <tr>\n",
       "      <th>0.0</th>\n",
       "      <td>0.146734</td>\n",
       "      <td>0.021531</td>\n",
       "      <td>0.288614</td>\n",
       "      <td>0.083298</td>\n",
       "    </tr>\n",
       "    <tr>\n",
       "      <th>18.0</th>\n",
       "      <th>0.55</th>\n",
       "      <th>1.0</th>\n",
       "      <th>1.0</th>\n",
       "      <th>0.0</th>\n",
       "      <td>0.152177</td>\n",
       "      <td>0.023158</td>\n",
       "      <td>0.288112</td>\n",
       "      <td>0.083009</td>\n",
       "    </tr>\n",
       "    <tr>\n",
       "      <th>19.0</th>\n",
       "      <th>0.55</th>\n",
       "      <th>1.0</th>\n",
       "      <th>1.0</th>\n",
       "      <th>0.0</th>\n",
       "      <td>0.157640</td>\n",
       "      <td>0.024850</td>\n",
       "      <td>0.287804</td>\n",
       "      <td>0.082831</td>\n",
       "    </tr>\n",
       "    <tr>\n",
       "      <th>20.0</th>\n",
       "      <th>0.55</th>\n",
       "      <th>1.0</th>\n",
       "      <th>1.0</th>\n",
       "      <th>0.0</th>\n",
       "      <td>0.163057</td>\n",
       "      <td>0.026588</td>\n",
       "      <td>0.287659</td>\n",
       "      <td>0.082748</td>\n",
       "    </tr>\n",
       "    <tr>\n",
       "      <th>21.0</th>\n",
       "      <th>0.55</th>\n",
       "      <th>1.0</th>\n",
       "      <th>1.0</th>\n",
       "      <th>0.0</th>\n",
       "      <td>0.168379</td>\n",
       "      <td>0.028351</td>\n",
       "      <td>0.287650</td>\n",
       "      <td>0.082743</td>\n",
       "    </tr>\n",
       "    <tr>\n",
       "      <th>22.0</th>\n",
       "      <th>0.55</th>\n",
       "      <th>1.0</th>\n",
       "      <th>1.0</th>\n",
       "      <th>0.0</th>\n",
       "      <td>0.173568</td>\n",
       "      <td>0.030126</td>\n",
       "      <td>0.287754</td>\n",
       "      <td>0.082802</td>\n",
       "    </tr>\n",
       "    <tr>\n",
       "      <th>23.0</th>\n",
       "      <th>0.55</th>\n",
       "      <th>1.0</th>\n",
       "      <th>1.0</th>\n",
       "      <th>0.0</th>\n",
       "      <td>0.178600</td>\n",
       "      <td>0.031898</td>\n",
       "      <td>0.287949</td>\n",
       "      <td>0.082915</td>\n",
       "    </tr>\n",
       "    <tr>\n",
       "      <th>24.0</th>\n",
       "      <th>0.55</th>\n",
       "      <th>1.0</th>\n",
       "      <th>1.0</th>\n",
       "      <th>0.0</th>\n",
       "      <td>0.183455</td>\n",
       "      <td>0.033656</td>\n",
       "      <td>0.288219</td>\n",
       "      <td>0.083070</td>\n",
       "    </tr>\n",
       "    <tr>\n",
       "      <th>25.0</th>\n",
       "      <th>0.55</th>\n",
       "      <th>1.0</th>\n",
       "      <th>1.0</th>\n",
       "      <th>0.0</th>\n",
       "      <td>0.188124</td>\n",
       "      <td>0.035391</td>\n",
       "      <td>0.288549</td>\n",
       "      <td>0.083260</td>\n",
       "    </tr>\n",
       "  </tbody>\n",
       "</table>\n",
       "</div>"
      ],
      "text/plain": [
       "                                                                   keyConditionRMSE  \\\n",
       "alpha signalTypePriors valueOfReward costOfNonReward costOfSignal                     \n",
       "1.0   0.55             1.0           1.0             0.0                   0.182928   \n",
       "2.0   0.55             1.0           1.0             0.0                   0.149434   \n",
       "3.0   0.55             1.0           1.0             0.0                   0.136316   \n",
       "4.0   0.55             1.0           1.0             0.0                   0.129914   \n",
       "5.0   0.55             1.0           1.0             0.0                   0.125186   \n",
       "6.0   0.55             1.0           1.0             0.0                   0.121533   \n",
       "7.0   0.55             1.0           1.0             0.0                   0.118986   \n",
       "8.0   0.55             1.0           1.0             0.0                   0.117610   \n",
       "9.0   0.55             1.0           1.0             0.0                   0.117422   \n",
       "10.0  0.55             1.0           1.0             0.0                   0.118384   \n",
       "11.0  0.55             1.0           1.0             0.0                   0.120406   \n",
       "12.0  0.55             1.0           1.0             0.0                   0.123359   \n",
       "13.0  0.55             1.0           1.0             0.0                   0.127090   \n",
       "14.0  0.55             1.0           1.0             0.0                   0.131439   \n",
       "15.0  0.55             1.0           1.0             0.0                   0.136253   \n",
       "16.0  0.55             1.0           1.0             0.0                   0.141391   \n",
       "17.0  0.55             1.0           1.0             0.0                   0.146734   \n",
       "                                                     0.0                   0.146734   \n",
       "18.0  0.55             1.0           1.0             0.0                   0.152177   \n",
       "19.0  0.55             1.0           1.0             0.0                   0.157640   \n",
       "20.0  0.55             1.0           1.0             0.0                   0.163057   \n",
       "21.0  0.55             1.0           1.0             0.0                   0.168379   \n",
       "22.0  0.55             1.0           1.0             0.0                   0.173568   \n",
       "23.0  0.55             1.0           1.0             0.0                   0.178600   \n",
       "24.0  0.55             1.0           1.0             0.0                   0.183455   \n",
       "25.0  0.55             1.0           1.0             0.0                   0.188124   \n",
       "\n",
       "                                                                   keyConditionVariance  \\\n",
       "alpha signalTypePriors valueOfReward costOfNonReward costOfSignal                         \n",
       "1.0   0.55             1.0           1.0             0.0                       0.033463   \n",
       "2.0   0.55             1.0           1.0             0.0                       0.022330   \n",
       "3.0   0.55             1.0           1.0             0.0                       0.018582   \n",
       "4.0   0.55             1.0           1.0             0.0                       0.016878   \n",
       "5.0   0.55             1.0           1.0             0.0                       0.015672   \n",
       "6.0   0.55             1.0           1.0             0.0                       0.014770   \n",
       "7.0   0.55             1.0           1.0             0.0                       0.014158   \n",
       "8.0   0.55             1.0           1.0             0.0                       0.013832   \n",
       "9.0   0.55             1.0           1.0             0.0                       0.013788   \n",
       "10.0  0.55             1.0           1.0             0.0                       0.014015   \n",
       "11.0  0.55             1.0           1.0             0.0                       0.014498   \n",
       "12.0  0.55             1.0           1.0             0.0                       0.015217   \n",
       "13.0  0.55             1.0           1.0             0.0                       0.016152   \n",
       "14.0  0.55             1.0           1.0             0.0                       0.017276   \n",
       "15.0  0.55             1.0           1.0             0.0                       0.018565   \n",
       "16.0  0.55             1.0           1.0             0.0                       0.019992   \n",
       "17.0  0.55             1.0           1.0             0.0                       0.021531   \n",
       "                                                     0.0                       0.021531   \n",
       "18.0  0.55             1.0           1.0             0.0                       0.023158   \n",
       "19.0  0.55             1.0           1.0             0.0                       0.024850   \n",
       "20.0  0.55             1.0           1.0             0.0                       0.026588   \n",
       "21.0  0.55             1.0           1.0             0.0                       0.028351   \n",
       "22.0  0.55             1.0           1.0             0.0                       0.030126   \n",
       "23.0  0.55             1.0           1.0             0.0                       0.031898   \n",
       "24.0  0.55             1.0           1.0             0.0                       0.033656   \n",
       "25.0  0.55             1.0           1.0             0.0                       0.035391   \n",
       "\n",
       "                                                                   totalRMSE  \\\n",
       "alpha signalTypePriors valueOfReward costOfNonReward costOfSignal              \n",
       "1.0   0.55             1.0           1.0             0.0            0.354347   \n",
       "2.0   0.55             1.0           1.0             0.0            0.345808   \n",
       "3.0   0.55             1.0           1.0             0.0            0.341344   \n",
       "4.0   0.55             1.0           1.0             0.0            0.334698   \n",
       "5.0   0.55             1.0           1.0             0.0            0.327161   \n",
       "6.0   0.55             1.0           1.0             0.0            0.320100   \n",
       "7.0   0.55             1.0           1.0             0.0            0.313972   \n",
       "8.0   0.55             1.0           1.0             0.0            0.308799   \n",
       "9.0   0.55             1.0           1.0             0.0            0.304464   \n",
       "10.0  0.55             1.0           1.0             0.0            0.300841   \n",
       "11.0  0.55             1.0           1.0             0.0            0.297822   \n",
       "12.0  0.55             1.0           1.0             0.0            0.295324   \n",
       "13.0  0.55             1.0           1.0             0.0            0.293279   \n",
       "14.0  0.55             1.0           1.0             0.0            0.291633   \n",
       "15.0  0.55             1.0           1.0             0.0            0.290335   \n",
       "16.0  0.55             1.0           1.0             0.0            0.289343   \n",
       "17.0  0.55             1.0           1.0             0.0            0.288614   \n",
       "                                                     0.0            0.288614   \n",
       "18.0  0.55             1.0           1.0             0.0            0.288112   \n",
       "19.0  0.55             1.0           1.0             0.0            0.287804   \n",
       "20.0  0.55             1.0           1.0             0.0            0.287659   \n",
       "21.0  0.55             1.0           1.0             0.0            0.287650   \n",
       "22.0  0.55             1.0           1.0             0.0            0.287754   \n",
       "23.0  0.55             1.0           1.0             0.0            0.287949   \n",
       "24.0  0.55             1.0           1.0             0.0            0.288219   \n",
       "25.0  0.55             1.0           1.0             0.0            0.288549   \n",
       "\n",
       "                                                                   totalVariance  \n",
       "alpha signalTypePriors valueOfReward costOfNonReward costOfSignal                 \n",
       "1.0   0.55             1.0           1.0             0.0                0.125562  \n",
       "2.0   0.55             1.0           1.0             0.0                0.119583  \n",
       "3.0   0.55             1.0           1.0             0.0                0.116515  \n",
       "4.0   0.55             1.0           1.0             0.0                0.112023  \n",
       "5.0   0.55             1.0           1.0             0.0                0.107034  \n",
       "6.0   0.55             1.0           1.0             0.0                0.102464  \n",
       "7.0   0.55             1.0           1.0             0.0                0.098579  \n",
       "8.0   0.55             1.0           1.0             0.0                0.095357  \n",
       "9.0   0.55             1.0           1.0             0.0                0.092698  \n",
       "10.0  0.55             1.0           1.0             0.0                0.090505  \n",
       "11.0  0.55             1.0           1.0             0.0                0.088698  \n",
       "12.0  0.55             1.0           1.0             0.0                0.087216  \n",
       "13.0  0.55             1.0           1.0             0.0                0.086013  \n",
       "14.0  0.55             1.0           1.0             0.0                0.085050  \n",
       "15.0  0.55             1.0           1.0             0.0                0.084295  \n",
       "16.0  0.55             1.0           1.0             0.0                0.083719  \n",
       "17.0  0.55             1.0           1.0             0.0                0.083298  \n",
       "                                                     0.0                0.083298  \n",
       "18.0  0.55             1.0           1.0             0.0                0.083009  \n",
       "19.0  0.55             1.0           1.0             0.0                0.082831  \n",
       "20.0  0.55             1.0           1.0             0.0                0.082748  \n",
       "21.0  0.55             1.0           1.0             0.0                0.082743  \n",
       "22.0  0.55             1.0           1.0             0.0                0.082802  \n",
       "23.0  0.55             1.0           1.0             0.0                0.082915  \n",
       "24.0  0.55             1.0           1.0             0.0                0.083070  \n",
       "25.0  0.55             1.0           1.0             0.0                0.083260  "
      ]
     },
     "execution_count": 14,
     "metadata": {},
     "output_type": "execute_result"
    }
   ],
   "source": [
    "byAlpha_tuneGrid"
   ]
  },
  {
   "cell_type": "markdown",
   "metadata": {},
   "source": [
    "Best parameters for imagined we model applied to the rsa"
   ]
  },
  {
   "cell_type": "code",
   "execution_count": null,
   "metadata": {
    "ExecuteTime": {
     "end_time": "2020-09-02T17:16:44.722040Z",
     "start_time": "2020-09-02T17:16:44.696900Z"
    }
   },
   "outputs": [],
   "source": [
    "rsaByAlpha = rsaTG.loc[(rsaTG.index.get_level_values('costOfNonReward') == 1.0) &\n",
    "                                   (rsaTG.index.get_level_values('signalTypePriors') == .55) &\n",
    "                                   (rsaTG.index.get_level_values('costOfSignal')==0)]\n",
    "rsaByAlpha"
   ]
  },
  {
   "cell_type": "markdown",
   "metadata": {},
   "source": [
    "optimal rsa parameters directly to human data"
   ]
  },
  {
   "cell_type": "code",
   "execution_count": null,
   "metadata": {
    "ExecuteTime": {
     "end_time": "2020-09-02T17:18:13.304165Z",
     "start_time": "2020-09-02T17:18:13.277251Z"
    }
   },
   "outputs": [],
   "source": [
    "rsaTG.loc[rsaTG['keyConditionRMSE']<.096]"
   ]
  },
  {
   "cell_type": "code",
   "execution_count": null,
   "metadata": {
    "ExecuteTime": {
     "end_time": "2020-09-02T17:18:45.575459Z",
     "start_time": "2020-09-02T17:18:45.549743Z"
    }
   },
   "outputs": [],
   "source": [
    "rsaByAlphaO = rsaTG.loc[(rsaTG.index.get_level_values('costOfNonReward') == 1.0) &\n",
    "                                   (rsaTG.index.get_level_values('signalTypePriors') == .625) &\n",
    "                                   (rsaTG.index.get_level_values('costOfSignal')==0.1)]\n",
    "rsaByAlphaO"
   ]
  },
  {
   "cell_type": "code",
   "execution_count": 9,
   "metadata": {
    "ExecuteTime": {
     "end_time": "2020-09-09T16:10:02.371543Z",
     "start_time": "2020-09-09T16:10:02.362130Z"
    }
   },
   "outputs": [],
   "source": [
    "rsaFixedParams = rsaTG.loc[(rsaTG.index.get_level_values('costOfNonReward') == 1.0) & \n",
    "                           (rsaTG.index.get_level_values('signalTypePriors') == 0.6000000000000001) &\n",
    "                           (rsaTG.index.get_level_values('costOfSignal')==0.0)]\n"
   ]
  },
  {
   "cell_type": "code",
   "execution_count": 10,
   "metadata": {
    "ExecuteTime": {
     "end_time": "2020-09-09T16:10:02.920143Z",
     "start_time": "2020-09-09T16:10:02.883060Z"
    }
   },
   "outputs": [
    {
     "data": {
      "text/html": [
       "<div>\n",
       "<style scoped>\n",
       "    .dataframe tbody tr th:only-of-type {\n",
       "        vertical-align: middle;\n",
       "    }\n",
       "\n",
       "    .dataframe tbody tr th {\n",
       "        vertical-align: top;\n",
       "    }\n",
       "\n",
       "    .dataframe thead th {\n",
       "        text-align: right;\n",
       "    }\n",
       "</style>\n",
       "<table border=\"1\" class=\"dataframe\">\n",
       "  <thead>\n",
       "    <tr style=\"text-align: right;\">\n",
       "      <th></th>\n",
       "      <th></th>\n",
       "      <th></th>\n",
       "      <th></th>\n",
       "      <th></th>\n",
       "      <th>keyConditionRMSE</th>\n",
       "      <th>keyConditionVariance</th>\n",
       "      <th>totalRMSE</th>\n",
       "      <th>totalVariance</th>\n",
       "    </tr>\n",
       "    <tr>\n",
       "      <th>alpha</th>\n",
       "      <th>signalTypePriors</th>\n",
       "      <th>valueOfReward</th>\n",
       "      <th>costOfNonReward</th>\n",
       "      <th>costOfSignal</th>\n",
       "      <th></th>\n",
       "      <th></th>\n",
       "      <th></th>\n",
       "      <th></th>\n",
       "    </tr>\n",
       "  </thead>\n",
       "  <tbody>\n",
       "    <tr>\n",
       "      <th>1.0</th>\n",
       "      <th>0.6</th>\n",
       "      <th>1.0</th>\n",
       "      <th>1.0</th>\n",
       "      <th>0.0</th>\n",
       "      <td>0.176216</td>\n",
       "      <td>0.031052</td>\n",
       "      <td>0.300979</td>\n",
       "      <td>0.090589</td>\n",
       "    </tr>\n",
       "    <tr>\n",
       "      <th>2.0</th>\n",
       "      <th>0.6</th>\n",
       "      <th>1.0</th>\n",
       "      <th>1.0</th>\n",
       "      <th>0.0</th>\n",
       "      <td>0.153145</td>\n",
       "      <td>0.023453</td>\n",
       "      <td>0.256626</td>\n",
       "      <td>0.065857</td>\n",
       "    </tr>\n",
       "    <tr>\n",
       "      <th>3.0</th>\n",
       "      <th>0.6</th>\n",
       "      <th>1.0</th>\n",
       "      <th>1.0</th>\n",
       "      <th>0.0</th>\n",
       "      <td>0.140679</td>\n",
       "      <td>0.019791</td>\n",
       "      <td>0.238324</td>\n",
       "      <td>0.056798</td>\n",
       "    </tr>\n",
       "    <tr>\n",
       "      <th>4.0</th>\n",
       "      <th>0.6</th>\n",
       "      <th>1.0</th>\n",
       "      <th>1.0</th>\n",
       "      <th>0.0</th>\n",
       "      <td>0.135888</td>\n",
       "      <td>0.018466</td>\n",
       "      <td>0.236343</td>\n",
       "      <td>0.055858</td>\n",
       "    </tr>\n",
       "    <tr>\n",
       "      <th>5.0</th>\n",
       "      <th>0.6</th>\n",
       "      <th>1.0</th>\n",
       "      <th>1.0</th>\n",
       "      <th>0.0</th>\n",
       "      <td>0.133767</td>\n",
       "      <td>0.017893</td>\n",
       "      <td>0.239303</td>\n",
       "      <td>0.057266</td>\n",
       "    </tr>\n",
       "    <tr>\n",
       "      <th>6.0</th>\n",
       "      <th>0.6</th>\n",
       "      <th>1.0</th>\n",
       "      <th>1.0</th>\n",
       "      <th>0.0</th>\n",
       "      <td>0.132578</td>\n",
       "      <td>0.017577</td>\n",
       "      <td>0.242392</td>\n",
       "      <td>0.058754</td>\n",
       "    </tr>\n",
       "    <tr>\n",
       "      <th>7.0</th>\n",
       "      <th>0.6</th>\n",
       "      <th>1.0</th>\n",
       "      <th>1.0</th>\n",
       "      <th>0.0</th>\n",
       "      <td>0.131839</td>\n",
       "      <td>0.017381</td>\n",
       "      <td>0.244475</td>\n",
       "      <td>0.059768</td>\n",
       "    </tr>\n",
       "    <tr>\n",
       "      <th>8.0</th>\n",
       "      <th>0.6</th>\n",
       "      <th>1.0</th>\n",
       "      <th>1.0</th>\n",
       "      <th>0.0</th>\n",
       "      <td>0.131364</td>\n",
       "      <td>0.017256</td>\n",
       "      <td>0.245593</td>\n",
       "      <td>0.060316</td>\n",
       "    </tr>\n",
       "    <tr>\n",
       "      <th>9.0</th>\n",
       "      <th>0.6</th>\n",
       "      <th>1.0</th>\n",
       "      <th>1.0</th>\n",
       "      <th>0.0</th>\n",
       "      <td>0.131054</td>\n",
       "      <td>0.017175</td>\n",
       "      <td>0.246016</td>\n",
       "      <td>0.060524</td>\n",
       "    </tr>\n",
       "    <tr>\n",
       "      <th>10.0</th>\n",
       "      <th>0.6</th>\n",
       "      <th>1.0</th>\n",
       "      <th>1.0</th>\n",
       "      <th>0.0</th>\n",
       "      <td>0.130849</td>\n",
       "      <td>0.017122</td>\n",
       "      <td>0.245989</td>\n",
       "      <td>0.060511</td>\n",
       "    </tr>\n",
       "    <tr>\n",
       "      <th>11.0</th>\n",
       "      <th>0.6</th>\n",
       "      <th>1.0</th>\n",
       "      <th>1.0</th>\n",
       "      <th>0.0</th>\n",
       "      <td>0.130712</td>\n",
       "      <td>0.017086</td>\n",
       "      <td>0.245684</td>\n",
       "      <td>0.060361</td>\n",
       "    </tr>\n",
       "    <tr>\n",
       "      <th>12.0</th>\n",
       "      <th>0.6</th>\n",
       "      <th>1.0</th>\n",
       "      <th>1.0</th>\n",
       "      <th>0.0</th>\n",
       "      <td>0.130619</td>\n",
       "      <td>0.017061</td>\n",
       "      <td>0.245217</td>\n",
       "      <td>0.060131</td>\n",
       "    </tr>\n",
       "    <tr>\n",
       "      <th>13.0</th>\n",
       "      <th>0.6</th>\n",
       "      <th>1.0</th>\n",
       "      <th>1.0</th>\n",
       "      <th>0.0</th>\n",
       "      <td>0.130555</td>\n",
       "      <td>0.017045</td>\n",
       "      <td>0.244657</td>\n",
       "      <td>0.059857</td>\n",
       "    </tr>\n",
       "    <tr>\n",
       "      <th>14.0</th>\n",
       "      <th>0.6</th>\n",
       "      <th>1.0</th>\n",
       "      <th>1.0</th>\n",
       "      <th>0.0</th>\n",
       "      <td>0.130510</td>\n",
       "      <td>0.017033</td>\n",
       "      <td>0.244048</td>\n",
       "      <td>0.059560</td>\n",
       "    </tr>\n",
       "    <tr>\n",
       "      <th>15.0</th>\n",
       "      <th>0.6</th>\n",
       "      <th>1.0</th>\n",
       "      <th>1.0</th>\n",
       "      <th>0.0</th>\n",
       "      <td>0.130478</td>\n",
       "      <td>0.017024</td>\n",
       "      <td>0.243418</td>\n",
       "      <td>0.059252</td>\n",
       "    </tr>\n",
       "    <tr>\n",
       "      <th>16.0</th>\n",
       "      <th>0.6</th>\n",
       "      <th>1.0</th>\n",
       "      <th>1.0</th>\n",
       "      <th>0.0</th>\n",
       "      <td>0.130455</td>\n",
       "      <td>0.017018</td>\n",
       "      <td>0.242782</td>\n",
       "      <td>0.058943</td>\n",
       "    </tr>\n",
       "    <tr>\n",
       "      <th>17.0</th>\n",
       "      <th>0.6</th>\n",
       "      <th>1.0</th>\n",
       "      <th>1.0</th>\n",
       "      <th>0.0</th>\n",
       "      <td>0.130438</td>\n",
       "      <td>0.017014</td>\n",
       "      <td>0.242149</td>\n",
       "      <td>0.058636</td>\n",
       "    </tr>\n",
       "  </tbody>\n",
       "</table>\n",
       "</div>"
      ],
      "text/plain": [
       "                                                                   keyConditionRMSE  \\\n",
       "alpha signalTypePriors valueOfReward costOfNonReward costOfSignal                     \n",
       "1.0   0.6              1.0           1.0             0.0                   0.176216   \n",
       "2.0   0.6              1.0           1.0             0.0                   0.153145   \n",
       "3.0   0.6              1.0           1.0             0.0                   0.140679   \n",
       "4.0   0.6              1.0           1.0             0.0                   0.135888   \n",
       "5.0   0.6              1.0           1.0             0.0                   0.133767   \n",
       "6.0   0.6              1.0           1.0             0.0                   0.132578   \n",
       "7.0   0.6              1.0           1.0             0.0                   0.131839   \n",
       "8.0   0.6              1.0           1.0             0.0                   0.131364   \n",
       "9.0   0.6              1.0           1.0             0.0                   0.131054   \n",
       "10.0  0.6              1.0           1.0             0.0                   0.130849   \n",
       "11.0  0.6              1.0           1.0             0.0                   0.130712   \n",
       "12.0  0.6              1.0           1.0             0.0                   0.130619   \n",
       "13.0  0.6              1.0           1.0             0.0                   0.130555   \n",
       "14.0  0.6              1.0           1.0             0.0                   0.130510   \n",
       "15.0  0.6              1.0           1.0             0.0                   0.130478   \n",
       "16.0  0.6              1.0           1.0             0.0                   0.130455   \n",
       "17.0  0.6              1.0           1.0             0.0                   0.130438   \n",
       "\n",
       "                                                                   keyConditionVariance  \\\n",
       "alpha signalTypePriors valueOfReward costOfNonReward costOfSignal                         \n",
       "1.0   0.6              1.0           1.0             0.0                       0.031052   \n",
       "2.0   0.6              1.0           1.0             0.0                       0.023453   \n",
       "3.0   0.6              1.0           1.0             0.0                       0.019791   \n",
       "4.0   0.6              1.0           1.0             0.0                       0.018466   \n",
       "5.0   0.6              1.0           1.0             0.0                       0.017893   \n",
       "6.0   0.6              1.0           1.0             0.0                       0.017577   \n",
       "7.0   0.6              1.0           1.0             0.0                       0.017381   \n",
       "8.0   0.6              1.0           1.0             0.0                       0.017256   \n",
       "9.0   0.6              1.0           1.0             0.0                       0.017175   \n",
       "10.0  0.6              1.0           1.0             0.0                       0.017122   \n",
       "11.0  0.6              1.0           1.0             0.0                       0.017086   \n",
       "12.0  0.6              1.0           1.0             0.0                       0.017061   \n",
       "13.0  0.6              1.0           1.0             0.0                       0.017045   \n",
       "14.0  0.6              1.0           1.0             0.0                       0.017033   \n",
       "15.0  0.6              1.0           1.0             0.0                       0.017024   \n",
       "16.0  0.6              1.0           1.0             0.0                       0.017018   \n",
       "17.0  0.6              1.0           1.0             0.0                       0.017014   \n",
       "\n",
       "                                                                   totalRMSE  \\\n",
       "alpha signalTypePriors valueOfReward costOfNonReward costOfSignal              \n",
       "1.0   0.6              1.0           1.0             0.0            0.300979   \n",
       "2.0   0.6              1.0           1.0             0.0            0.256626   \n",
       "3.0   0.6              1.0           1.0             0.0            0.238324   \n",
       "4.0   0.6              1.0           1.0             0.0            0.236343   \n",
       "5.0   0.6              1.0           1.0             0.0            0.239303   \n",
       "6.0   0.6              1.0           1.0             0.0            0.242392   \n",
       "7.0   0.6              1.0           1.0             0.0            0.244475   \n",
       "8.0   0.6              1.0           1.0             0.0            0.245593   \n",
       "9.0   0.6              1.0           1.0             0.0            0.246016   \n",
       "10.0  0.6              1.0           1.0             0.0            0.245989   \n",
       "11.0  0.6              1.0           1.0             0.0            0.245684   \n",
       "12.0  0.6              1.0           1.0             0.0            0.245217   \n",
       "13.0  0.6              1.0           1.0             0.0            0.244657   \n",
       "14.0  0.6              1.0           1.0             0.0            0.244048   \n",
       "15.0  0.6              1.0           1.0             0.0            0.243418   \n",
       "16.0  0.6              1.0           1.0             0.0            0.242782   \n",
       "17.0  0.6              1.0           1.0             0.0            0.242149   \n",
       "\n",
       "                                                                   totalVariance  \n",
       "alpha signalTypePriors valueOfReward costOfNonReward costOfSignal                 \n",
       "1.0   0.6              1.0           1.0             0.0                0.090589  \n",
       "2.0   0.6              1.0           1.0             0.0                0.065857  \n",
       "3.0   0.6              1.0           1.0             0.0                0.056798  \n",
       "4.0   0.6              1.0           1.0             0.0                0.055858  \n",
       "5.0   0.6              1.0           1.0             0.0                0.057266  \n",
       "6.0   0.6              1.0           1.0             0.0                0.058754  \n",
       "7.0   0.6              1.0           1.0             0.0                0.059768  \n",
       "8.0   0.6              1.0           1.0             0.0                0.060316  \n",
       "9.0   0.6              1.0           1.0             0.0                0.060524  \n",
       "10.0  0.6              1.0           1.0             0.0                0.060511  \n",
       "11.0  0.6              1.0           1.0             0.0                0.060361  \n",
       "12.0  0.6              1.0           1.0             0.0                0.060131  \n",
       "13.0  0.6              1.0           1.0             0.0                0.059857  \n",
       "14.0  0.6              1.0           1.0             0.0                0.059560  \n",
       "15.0  0.6              1.0           1.0             0.0                0.059252  \n",
       "16.0  0.6              1.0           1.0             0.0                0.058943  \n",
       "17.0  0.6              1.0           1.0             0.0                0.058636  "
      ]
     },
     "execution_count": 10,
     "metadata": {},
     "output_type": "execute_result"
    }
   ],
   "source": [
    "rsaFixedParams"
   ]
  },
  {
   "cell_type": "markdown",
   "metadata": {},
   "source": [
    "# Matches Among the best parameters"
   ]
  },
  {
   "cell_type": "code",
   "execution_count": 47,
   "metadata": {
    "ExecuteTime": {
     "end_time": "2020-09-09T18:23:12.677276Z",
     "start_time": "2020-09-09T18:07:55.308824Z"
    }
   },
   "outputs": [
    {
     "name": "stdout",
     "output_type": "stream",
     "text": [
      "[True, False, True, True]\n",
      "[True, False, True, True]\n",
      "[True, False, True, True]\n",
      "[True, False, True, True]\n",
      "[True, False, True, True]\n",
      "[True, False, True, True]\n",
      "[True, False, True, True]\n",
      "[True, False, True, True]\n",
      "[True, False, True, True]\n",
      "[True, True, True, True]\n",
      "[True, True, True, True]\n",
      "[True, True, True, True]\n",
      "[True, True, True, True]\n",
      "[True, True, True, True]\n",
      "[True, True, True, True]\n",
      "[True, True, True, True]\n",
      "[True, True, True, True]\n",
      "[True, True, True, True]\n",
      "[True, True, True, True]\n",
      "[True, True, False, True]\n",
      "[True, True, False, True]\n",
      "[True, True, False, True]\n",
      "[True, True, False, True]\n",
      "[True, True, False, True]\n",
      "[True, True, False, True]\n"
     ]
    },
    {
     "data": {
      "text/plain": [
       "alpha  signalTypePriors  valueOfReward  costOfNonReward  costOfSignal\n",
       "1.0    0.55              1.0            1.0              0.0              ([9, 7], [True, False, True, True])\n",
       "2.0    0.55              1.0            1.0              0.0              ([9, 7], [True, False, True, True])\n",
       "3.0    0.55              1.0            1.0              0.0              ([9, 7], [True, False, True, True])\n",
       "4.0    0.55              1.0            1.0              0.0              ([8, 8], [True, False, True, True])\n",
       "5.0    0.55              1.0            1.0              0.0              ([9, 7], [True, False, True, True])\n",
       "6.0    0.55              1.0            1.0              0.0              ([9, 7], [True, False, True, True])\n",
       "7.0    0.55              1.0            1.0              0.0              ([9, 7], [True, False, True, True])\n",
       "8.0    0.55              1.0            1.0              0.0              ([9, 7], [True, False, True, True])\n",
       "9.0    0.55              1.0            1.0              0.0              ([9, 7], [True, False, True, True])\n",
       "10.0   0.55              1.0            1.0              0.0              ([11, 5], [True, True, True, True])\n",
       "11.0   0.55              1.0            1.0              0.0              ([11, 5], [True, True, True, True])\n",
       "12.0   0.55              1.0            1.0              0.0              ([11, 5], [True, True, True, True])\n",
       "13.0   0.55              1.0            1.0              0.0              ([11, 5], [True, True, True, True])\n",
       "14.0   0.55              1.0            1.0              0.0              ([11, 5], [True, True, True, True])\n",
       "15.0   0.55              1.0            1.0              0.0              ([11, 5], [True, True, True, True])\n",
       "16.0   0.55              1.0            1.0              0.0              ([11, 5], [True, True, True, True])\n",
       "17.0   0.55              1.0            1.0              0.0              ([11, 5], [True, True, True, True])\n",
       "18.0   0.55              1.0            1.0              0.0              ([11, 5], [True, True, True, True])\n",
       "19.0   0.55              1.0            1.0              0.0              ([11, 5], [True, True, True, True])\n",
       "20.0   0.55              1.0            1.0              0.0             ([10, 6], [True, True, False, True])\n",
       "21.0   0.55              1.0            1.0              0.0             ([10, 6], [True, True, False, True])\n",
       "22.0   0.55              1.0            1.0              0.0             ([10, 6], [True, True, False, True])\n",
       "23.0   0.55              1.0            1.0              0.0             ([10, 6], [True, True, False, True])\n",
       "24.0   0.55              1.0            1.0              0.0             ([11, 5], [True, True, False, True])\n",
       "25.0   0.55              1.0            1.0              0.0             ([11, 5], [True, True, False, True])\n",
       "dtype: object"
      ]
     },
     "execution_count": 47,
     "metadata": {},
     "output_type": "execute_result"
    }
   ],
   "source": [
    "#optimal fits of iw\n",
    "byAlpha_tuneGrid.groupby(byAlpha_tuneGrid.index.names).apply(getNMatches)"
   ]
  },
  {
   "cell_type": "code",
   "execution_count": null,
   "metadata": {
    "ExecuteTime": {
     "end_time": "2020-09-02T18:36:49.854016Z",
     "start_time": "2020-09-02T18:30:45.693992Z"
    }
   },
   "outputs": [],
   "source": [
    "#optimal fits of rsa\n",
    "rsaByAlphaO.groupby(rsaByAlphaO.index.names).apply(getNMatches)"
   ]
  },
  {
   "cell_type": "code",
   "execution_count": 46,
   "metadata": {
    "ExecuteTime": {
     "end_time": "2020-09-09T18:07:10.025551Z",
     "start_time": "2020-09-09T17:56:43.084379Z"
    }
   },
   "outputs": [
    {
     "name": "stdout",
     "output_type": "stream",
     "text": [
      "[True, False, True, True]\n",
      "[True, False, True, True]\n",
      "[True, False, True, True]\n",
      "[True, False, True, True]\n",
      "[True, False, True, True]\n",
      "[True, False, True, True]\n",
      "[True, False, True, True]\n",
      "[True, False, True, True]\n",
      "[True, False, True, True]\n",
      "[True, False, True, True]\n",
      "[True, False, True, True]\n",
      "[True, False, True, True]\n",
      "[True, False, True, True]\n",
      "[True, False, True, True]\n",
      "[True, False, True, True]\n",
      "[True, False, True, True]\n",
      "[True, False, True, True]\n"
     ]
    },
    {
     "data": {
      "text/plain": [
       "alpha  signalTypePriors  valueOfReward  costOfNonReward  costOfSignal\n",
       "1.0    0.6               1.0            1.0              0.0              ([9, 7], [True, False, True, True])\n",
       "2.0    0.6               1.0            1.0              0.0              ([9, 7], [True, False, True, True])\n",
       "3.0    0.6               1.0            1.0              0.0              ([8, 8], [True, False, True, True])\n",
       "4.0    0.6               1.0            1.0              0.0              ([9, 7], [True, False, True, True])\n",
       "5.0    0.6               1.0            1.0              0.0              ([9, 7], [True, False, True, True])\n",
       "6.0    0.6               1.0            1.0              0.0             ([10, 6], [True, False, True, True])\n",
       "7.0    0.6               1.0            1.0              0.0             ([10, 6], [True, False, True, True])\n",
       "8.0    0.6               1.0            1.0              0.0             ([10, 6], [True, False, True, True])\n",
       "9.0    0.6               1.0            1.0              0.0             ([11, 5], [True, False, True, True])\n",
       "10.0   0.6               1.0            1.0              0.0             ([12, 4], [True, False, True, True])\n",
       "11.0   0.6               1.0            1.0              0.0             ([12, 4], [True, False, True, True])\n",
       "12.0   0.6               1.0            1.0              0.0             ([12, 4], [True, False, True, True])\n",
       "13.0   0.6               1.0            1.0              0.0             ([12, 4], [True, False, True, True])\n",
       "14.0   0.6               1.0            1.0              0.0             ([12, 4], [True, False, True, True])\n",
       "15.0   0.6               1.0            1.0              0.0             ([12, 4], [True, False, True, True])\n",
       "16.0   0.6               1.0            1.0              0.0             ([12, 4], [True, False, True, True])\n",
       "17.0   0.6               1.0            1.0              0.0             ([12, 4], [True, False, True, True])\n",
       "dtype: object"
      ]
     },
     "execution_count": 46,
     "metadata": {},
     "output_type": "execute_result"
    }
   ],
   "source": [
    "rsaFixedParams.groupby(rsaFixedParams.index.names).apply(getNMatches)"
   ]
  },
  {
   "cell_type": "code",
   "execution_count": 11,
   "metadata": {
    "ExecuteTime": {
     "end_time": "2020-09-09T16:20:10.043456Z",
     "start_time": "2020-09-09T16:10:09.821879Z"
    }
   },
   "outputs": [
    {
     "data": {
      "text/plain": [
       "alpha  signalTypePriors  valueOfReward  costOfNonReward  costOfSignal\n",
       "1.0    0.6               1.0            1.0              0.0              ([9, 7], [3, 1])\n",
       "2.0    0.6               1.0            1.0              0.0              ([9, 7], [3, 1])\n",
       "3.0    0.6               1.0            1.0              0.0              ([8, 8], [3, 1])\n",
       "4.0    0.6               1.0            1.0              0.0              ([9, 7], [3, 1])\n",
       "5.0    0.6               1.0            1.0              0.0              ([9, 7], [3, 1])\n",
       "6.0    0.6               1.0            1.0              0.0             ([10, 6], [3, 1])\n",
       "7.0    0.6               1.0            1.0              0.0             ([10, 6], [3, 1])\n",
       "8.0    0.6               1.0            1.0              0.0             ([10, 6], [3, 1])\n",
       "9.0    0.6               1.0            1.0              0.0             ([11, 5], [3, 1])\n",
       "10.0   0.6               1.0            1.0              0.0             ([12, 4], [3, 1])\n",
       "11.0   0.6               1.0            1.0              0.0             ([12, 4], [3, 1])\n",
       "12.0   0.6               1.0            1.0              0.0             ([12, 4], [3, 1])\n",
       "13.0   0.6               1.0            1.0              0.0             ([12, 4], [3, 1])\n",
       "14.0   0.6               1.0            1.0              0.0             ([12, 4], [3, 1])\n",
       "15.0   0.6               1.0            1.0              0.0             ([12, 4], [3, 1])\n",
       "16.0   0.6               1.0            1.0              0.0             ([12, 4], [3, 1])\n",
       "17.0   0.6               1.0            1.0              0.0             ([12, 4], [3, 1])\n",
       "dtype: object"
      ]
     },
     "execution_count": 11,
     "metadata": {},
     "output_type": "execute_result"
    }
   ],
   "source": [
    "rsaFixedParams.groupby(rsaFixedParams.index.names).apply(getNMatches)"
   ]
  },
  {
   "cell_type": "markdown",
   "metadata": {},
   "source": [
    "# Benefit of Signal Cost\n",
    "\n",
    "Fixing signal type prior at .55, average RMSE across alphas comparing cost and no cost of signaling"
   ]
  },
  {
   "cell_type": "code",
   "execution_count": null,
   "metadata": {
    "ExecuteTime": {
     "end_time": "2020-09-02T17:34:45.916181Z",
     "start_time": "2020-09-02T17:34:45.903537Z"
    }
   },
   "outputs": [],
   "source": [
    "tuneGrid828.loc[(tuneGrid828.index.get_level_values('signalTypePriors')== .55) &\n",
    "                                (tuneGrid828.index.get_level_values('costOfSignal') == 0)]['keyConditionRMSE'].mean()"
   ]
  },
  {
   "cell_type": "code",
   "execution_count": null,
   "metadata": {
    "ExecuteTime": {
     "end_time": "2020-09-02T17:34:46.267255Z",
     "start_time": "2020-09-02T17:34:46.255541Z"
    }
   },
   "outputs": [],
   "source": [
    "tuneGrid828.loc[(tuneGrid828.index.get_level_values('signalTypePriors')== .55) &\n",
    "                                (tuneGrid828.index.get_level_values('costOfSignal') == 0.1)]['keyConditionRMSE'].mean()"
   ]
  },
  {
   "cell_type": "markdown",
   "metadata": {},
   "source": [
    " For signal prior .575"
   ]
  },
  {
   "cell_type": "code",
   "execution_count": null,
   "metadata": {
    "ExecuteTime": {
     "end_time": "2020-09-02T17:34:48.210658Z",
     "start_time": "2020-09-02T17:34:48.199926Z"
    }
   },
   "outputs": [],
   "source": [
    "tuneGrid828.loc[(tuneGrid828.index.get_level_values('signalTypePriors')== .575) &\n",
    "                                (tuneGrid828.index.get_level_values('costOfSignal') == 0)]['keyConditionRMSE'].mean()"
   ]
  },
  {
   "cell_type": "code",
   "execution_count": null,
   "metadata": {
    "ExecuteTime": {
     "end_time": "2020-09-02T17:34:48.412719Z",
     "start_time": "2020-09-02T17:34:48.401586Z"
    }
   },
   "outputs": [],
   "source": [
    "tuneGrid828.loc[(tuneGrid828.index.get_level_values('signalTypePriors')== .575) &\n",
    "                                (tuneGrid828.index.get_level_values('costOfSignal') == 0.1)]['keyConditionRMSE'].mean()"
   ]
  },
  {
   "cell_type": "markdown",
   "metadata": {},
   "source": [
    "For signal prior .6"
   ]
  },
  {
   "cell_type": "code",
   "execution_count": null,
   "metadata": {
    "ExecuteTime": {
     "end_time": "2020-09-02T17:34:49.985333Z",
     "start_time": "2020-09-02T17:34:49.975167Z"
    }
   },
   "outputs": [],
   "source": [
    "tuneGrid828.loc[(tuneGrid828.index.get_level_values('signalTypePriors')== .6) &\n",
    "                                (tuneGrid828.index.get_level_values('costOfSignal') == 0)]['keyConditionRMSE'].mean()"
   ]
  },
  {
   "cell_type": "code",
   "execution_count": null,
   "metadata": {
    "ExecuteTime": {
     "end_time": "2020-09-02T17:34:50.165653Z",
     "start_time": "2020-09-02T17:34:50.155417Z"
    }
   },
   "outputs": [],
   "source": [
    "tuneGrid828.loc[(tuneGrid828.index.get_level_values('signalTypePriors')== .6) &\n",
    "                                (tuneGrid828.index.get_level_values('costOfSignal') == 0.1)]['keyConditionRMSE'].mean()"
   ]
  },
  {
   "cell_type": "markdown",
   "metadata": {
    "ExecuteTime": {
     "end_time": "2020-09-01T19:19:25.464113Z",
     "start_time": "2020-09-01T19:19:25.448549Z"
    }
   },
   "source": [
    "For signal prior .7"
   ]
  },
  {
   "cell_type": "code",
   "execution_count": null,
   "metadata": {
    "ExecuteTime": {
     "end_time": "2020-09-02T17:34:51.841482Z",
     "start_time": "2020-09-02T17:34:51.830711Z"
    }
   },
   "outputs": [],
   "source": [
    "tuneGrid828.loc[(tuneGrid828.index.get_level_values('signalTypePriors')== .7) &\n",
    "                                (tuneGrid828.index.get_level_values('costOfSignal') == 0)]['keyConditionRMSE'].mean()"
   ]
  },
  {
   "cell_type": "code",
   "execution_count": null,
   "metadata": {
    "ExecuteTime": {
     "end_time": "2020-09-02T17:34:52.015650Z",
     "start_time": "2020-09-02T17:34:52.004016Z"
    }
   },
   "outputs": [],
   "source": [
    "tuneGrid828.loc[(tuneGrid828.index.get_level_values('signalTypePriors')== .7) &\n",
    "                                (tuneGrid828.index.get_level_values('costOfSignal') == 0.1)]['keyConditionRMSE'].mean()"
   ]
  },
  {
   "cell_type": "markdown",
   "metadata": {},
   "source": [
    "# Value of Reward\n",
    "\n",
    "Fixed signal prior and cost of signal, comparison between different scorpion costs"
   ]
  },
  {
   "cell_type": "code",
   "execution_count": null,
   "metadata": {
    "ExecuteTime": {
     "end_time": "2020-09-02T17:34:53.412170Z",
     "start_time": "2020-09-02T17:34:53.396298Z"
    }
   },
   "outputs": [],
   "source": [
    "tuneGrid828.loc[(tuneGrid828.index.get_level_values('costOfNonReward')== 0) &\n",
    "                (tuneGrid828.index.get_level_values('signalTypePriors')== .55) &\n",
    "                (tuneGrid828.index.get_level_values('costOfSignal') == 0)]['keyConditionRMSE'].mean()"
   ]
  },
  {
   "cell_type": "code",
   "execution_count": null,
   "metadata": {
    "ExecuteTime": {
     "end_time": "2020-09-02T17:34:53.626843Z",
     "start_time": "2020-09-02T17:34:53.611266Z"
    }
   },
   "outputs": [],
   "source": [
    "tuneGrid828.loc[(tuneGrid828.index.get_level_values('costOfNonReward')== .5) &\n",
    "                (tuneGrid828.index.get_level_values('signalTypePriors')== .55) &\n",
    "                (tuneGrid828.index.get_level_values('costOfSignal') == 0)]['keyConditionRMSE'].mean()"
   ]
  },
  {
   "cell_type": "code",
   "execution_count": null,
   "metadata": {
    "ExecuteTime": {
     "end_time": "2020-09-02T17:34:53.838334Z",
     "start_time": "2020-09-02T17:34:53.827091Z"
    }
   },
   "outputs": [],
   "source": [
    "tuneGrid828.loc[(tuneGrid828.index.get_level_values('costOfNonReward')== 1) &\n",
    "                (tuneGrid828.index.get_level_values('signalTypePriors')== .55) &\n",
    "                (tuneGrid828.index.get_level_values('costOfSignal') == 0)]['keyConditionRMSE'].mean()"
   ]
  },
  {
   "cell_type": "markdown",
   "metadata": {},
   "source": [
    "Fixed signal prior, alpha, and cost of signal, comparison between different scorpion costs"
   ]
  },
  {
   "cell_type": "code",
   "execution_count": null,
   "metadata": {
    "ExecuteTime": {
     "end_time": "2020-09-02T17:34:54.600863Z",
     "start_time": "2020-09-02T17:34:54.577151Z"
    }
   },
   "outputs": [],
   "source": [
    "tuneGrid828.loc[(tuneGrid828.index.get_level_values('alpha')> 6) &\n",
    "                (tuneGrid828.index.get_level_values('signalTypePriors')== .55) &\n",
    "                (tuneGrid828.index.get_level_values('costOfSignal') == 0)]"
   ]
  },
  {
   "cell_type": "code",
   "execution_count": null,
   "metadata": {},
   "outputs": [],
   "source": []
  },
  {
   "cell_type": "markdown",
   "metadata": {},
   "source": [
    "# Example Strategy Distribution for Specific Parameter Set"
   ]
  },
  {
   "cell_type": "code",
   "execution_count": null,
   "metadata": {
    "ExecuteTime": {
     "end_time": "2020-09-02T18:07:24.108881Z",
     "start_time": "2020-09-02T18:07:24.098778Z"
    }
   },
   "outputs": [],
   "source": [
    "from evaluateMisyak_FullExperimentalConditions import EvaluateOverloadedSignaler"
   ]
  },
  {
   "cell_type": "code",
   "execution_count": 20,
   "metadata": {
    "ExecuteTime": {
     "end_time": "2020-09-09T16:55:55.043905Z",
     "start_time": "2020-09-09T16:55:55.029146Z"
    }
   },
   "outputs": [],
   "source": [
    "alpha = 10\n",
    "reward = 1\n",
    "prior = .55\n",
    "sigCost = 0.0\n",
    "scorpion = -1"
   ]
  },
  {
   "cell_type": "code",
   "execution_count": 21,
   "metadata": {
    "ExecuteTime": {
     "end_time": "2020-09-09T16:56:32.309296Z",
     "start_time": "2020-09-09T16:55:55.631237Z"
    }
   },
   "outputs": [],
   "source": [
    "getModelingResults =  EvaluateOverloadedSignaler(humanResults, returnStrategyBreakdown = True)\n",
    "modelPredictions = getModelingResults(alpha=alpha, \n",
    "                                      valueOfReward=reward, \n",
    "                                      signalMeaningPrior=prior, \n",
    "                                      costOfSignal = sigCost, \n",
    "                                      costOfPunishment = scorpion)"
   ]
  },
  {
   "cell_type": "code",
   "execution_count": 35,
   "metadata": {
    "ExecuteTime": {
     "end_time": "2020-09-09T17:27:29.160993Z",
     "start_time": "2020-09-09T17:27:29.146622Z"
    }
   },
   "outputs": [
    {
     "data": {
      "text/html": [
       "<div>\n",
       "<style scoped>\n",
       "    .dataframe tbody tr th:only-of-type {\n",
       "        vertical-align: middle;\n",
       "    }\n",
       "\n",
       "    .dataframe tbody tr th {\n",
       "        vertical-align: top;\n",
       "    }\n",
       "\n",
       "    .dataframe thead th {\n",
       "        text-align: right;\n",
       "    }\n",
       "</style>\n",
       "<table border=\"1\" class=\"dataframe\">\n",
       "  <thead>\n",
       "    <tr style=\"text-align: right;\">\n",
       "      <th></th>\n",
       "      <th>humanResults</th>\n",
       "      <th>modelResults</th>\n",
       "    </tr>\n",
       "    <tr>\n",
       "      <th>strategy</th>\n",
       "      <th></th>\n",
       "      <th></th>\n",
       "    </tr>\n",
       "  </thead>\n",
       "  <tbody>\n",
       "    <tr>\n",
       "      <th>avoid</th>\n",
       "      <td>0.0</td>\n",
       "      <td>0.00002</td>\n",
       "    </tr>\n",
       "    <tr>\n",
       "      <th>mixed</th>\n",
       "      <td>0.0</td>\n",
       "      <td>0.00000</td>\n",
       "    </tr>\n",
       "    <tr>\n",
       "      <th>open</th>\n",
       "      <td>1.0</td>\n",
       "      <td>0.99998</td>\n",
       "    </tr>\n",
       "    <tr>\n",
       "      <th>silent</th>\n",
       "      <td>0.0</td>\n",
       "      <td>0.00000</td>\n",
       "    </tr>\n",
       "  </tbody>\n",
       "</table>\n",
       "</div>"
      ],
      "text/plain": [
       "          humanResults  modelResults\n",
       "strategy                            \n",
       "avoid              0.0       0.00002\n",
       "mixed              0.0       0.00000\n",
       "open               1.0       0.99998\n",
       "silent             0.0       0.00000"
      ]
     },
     "execution_count": 35,
     "metadata": {},
     "output_type": "execute_result"
    }
   ],
   "source": [
    "modelPredictions.loc[(2, 2, 1, 2)].round(5) #two token"
   ]
  },
  {
   "cell_type": "code",
   "execution_count": 36,
   "metadata": {
    "ExecuteTime": {
     "end_time": "2020-09-09T17:27:40.256380Z",
     "start_time": "2020-09-09T17:27:40.236560Z"
    }
   },
   "outputs": [
    {
     "data": {
      "text/html": [
       "<div>\n",
       "<style scoped>\n",
       "    .dataframe tbody tr th:only-of-type {\n",
       "        vertical-align: middle;\n",
       "    }\n",
       "\n",
       "    .dataframe tbody tr th {\n",
       "        vertical-align: top;\n",
       "    }\n",
       "\n",
       "    .dataframe thead th {\n",
       "        text-align: right;\n",
       "    }\n",
       "</style>\n",
       "<table border=\"1\" class=\"dataframe\">\n",
       "  <thead>\n",
       "    <tr style=\"text-align: right;\">\n",
       "      <th></th>\n",
       "      <th>humanResults</th>\n",
       "      <th>modelResults</th>\n",
       "    </tr>\n",
       "    <tr>\n",
       "      <th>strategy</th>\n",
       "      <th></th>\n",
       "      <th></th>\n",
       "    </tr>\n",
       "  </thead>\n",
       "  <tbody>\n",
       "    <tr>\n",
       "      <th>avoid</th>\n",
       "      <td>0.562500</td>\n",
       "      <td>0.531894</td>\n",
       "    </tr>\n",
       "    <tr>\n",
       "      <th>mixed</th>\n",
       "      <td>0.000000</td>\n",
       "      <td>0.000000</td>\n",
       "    </tr>\n",
       "    <tr>\n",
       "      <th>open</th>\n",
       "      <td>0.421875</td>\n",
       "      <td>0.260119</td>\n",
       "    </tr>\n",
       "    <tr>\n",
       "      <th>silent</th>\n",
       "      <td>0.015625</td>\n",
       "      <td>0.207987</td>\n",
       "    </tr>\n",
       "  </tbody>\n",
       "</table>\n",
       "</div>"
      ],
      "text/plain": [
       "          humanResults  modelResults\n",
       "strategy                            \n",
       "avoid         0.562500      0.531894\n",
       "mixed         0.000000      0.000000\n",
       "open          0.421875      0.260119\n",
       "silent        0.015625      0.207987"
      ]
     },
     "execution_count": 36,
     "metadata": {},
     "output_type": "execute_result"
    }
   ],
   "source": [
    "modelPredictions.loc[(1, 2, 1, 2)] #inversion"
   ]
  },
  {
   "cell_type": "code",
   "execution_count": 37,
   "metadata": {
    "ExecuteTime": {
     "end_time": "2020-09-09T17:27:52.408416Z",
     "start_time": "2020-09-09T17:27:52.385392Z"
    }
   },
   "outputs": [
    {
     "data": {
      "text/html": [
       "<div>\n",
       "<style scoped>\n",
       "    .dataframe tbody tr th:only-of-type {\n",
       "        vertical-align: middle;\n",
       "    }\n",
       "\n",
       "    .dataframe tbody tr th {\n",
       "        vertical-align: top;\n",
       "    }\n",
       "\n",
       "    .dataframe thead th {\n",
       "        text-align: right;\n",
       "    }\n",
       "</style>\n",
       "<table border=\"1\" class=\"dataframe\">\n",
       "  <thead>\n",
       "    <tr style=\"text-align: right;\">\n",
       "      <th></th>\n",
       "      <th>humanResults</th>\n",
       "      <th>modelResults</th>\n",
       "    </tr>\n",
       "    <tr>\n",
       "      <th>strategy</th>\n",
       "      <th></th>\n",
       "      <th></th>\n",
       "    </tr>\n",
       "  </thead>\n",
       "  <tbody>\n",
       "    <tr>\n",
       "      <th>avoid</th>\n",
       "      <td>0.375</td>\n",
       "      <td>0.382510</td>\n",
       "    </tr>\n",
       "    <tr>\n",
       "      <th>mixed</th>\n",
       "      <td>0.000</td>\n",
       "      <td>0.000000</td>\n",
       "    </tr>\n",
       "    <tr>\n",
       "      <th>open</th>\n",
       "      <td>0.625</td>\n",
       "      <td>0.378296</td>\n",
       "    </tr>\n",
       "    <tr>\n",
       "      <th>silent</th>\n",
       "      <td>0.000</td>\n",
       "      <td>0.239193</td>\n",
       "    </tr>\n",
       "  </tbody>\n",
       "</table>\n",
       "</div>"
      ],
      "text/plain": [
       "          humanResults  modelResults\n",
       "strategy                            \n",
       "avoid            0.375      0.382510\n",
       "mixed            0.000      0.000000\n",
       "open             0.625      0.378296\n",
       "silent           0.000      0.239193"
      ]
     },
     "execution_count": 37,
     "metadata": {},
     "output_type": "execute_result"
    }
   ],
   "source": [
    "modelPredictions.loc[(1, 1, 1, 2)] #axes"
   ]
  },
  {
   "cell_type": "code",
   "execution_count": 38,
   "metadata": {
    "ExecuteTime": {
     "end_time": "2020-09-09T17:28:03.060894Z",
     "start_time": "2020-09-09T17:28:03.048787Z"
    }
   },
   "outputs": [
    {
     "data": {
      "text/html": [
       "<div>\n",
       "<style scoped>\n",
       "    .dataframe tbody tr th:only-of-type {\n",
       "        vertical-align: middle;\n",
       "    }\n",
       "\n",
       "    .dataframe tbody tr th {\n",
       "        vertical-align: top;\n",
       "    }\n",
       "\n",
       "    .dataframe thead th {\n",
       "        text-align: right;\n",
       "    }\n",
       "</style>\n",
       "<table border=\"1\" class=\"dataframe\">\n",
       "  <thead>\n",
       "    <tr style=\"text-align: right;\">\n",
       "      <th></th>\n",
       "      <th>humanResults</th>\n",
       "      <th>modelResults</th>\n",
       "    </tr>\n",
       "    <tr>\n",
       "      <th>strategy</th>\n",
       "      <th></th>\n",
       "      <th></th>\n",
       "    </tr>\n",
       "  </thead>\n",
       "  <tbody>\n",
       "    <tr>\n",
       "      <th>avoid</th>\n",
       "      <td>0.234375</td>\n",
       "      <td>0.112198</td>\n",
       "    </tr>\n",
       "    <tr>\n",
       "      <th>mixed</th>\n",
       "      <td>0.000000</td>\n",
       "      <td>0.000000</td>\n",
       "    </tr>\n",
       "    <tr>\n",
       "      <th>open</th>\n",
       "      <td>0.765625</td>\n",
       "      <td>0.727698</td>\n",
       "    </tr>\n",
       "    <tr>\n",
       "      <th>silent</th>\n",
       "      <td>0.000000</td>\n",
       "      <td>0.160104</td>\n",
       "    </tr>\n",
       "  </tbody>\n",
       "</table>\n",
       "</div>"
      ],
      "text/plain": [
       "          humanResults  modelResults\n",
       "strategy                            \n",
       "avoid         0.234375      0.112198\n",
       "mixed         0.000000      0.000000\n",
       "open          0.765625      0.727698\n",
       "silent        0.000000      0.160104"
      ]
     },
     "execution_count": 38,
     "metadata": {},
     "output_type": "execute_result"
    }
   ],
   "source": [
    "modelPredictions.loc[(1, 2, 0, 2)] #wall"
   ]
  },
  {
   "cell_type": "code",
   "execution_count": 15,
   "metadata": {
    "ExecuteTime": {
     "end_time": "2020-09-09T16:52:50.814570Z",
     "start_time": "2020-09-09T16:52:50.800886Z"
    }
   },
   "outputs": [],
   "source": [
    "\"\"\"a = 9\n",
    "reward = 1\n",
    "p = .625\n",
    "sigCostRSA = 0.1\n",
    "scorpion = -1\"\"\"\n",
    "\n",
    "a = 17\n",
    "reward = 1\n",
    "p = .6\n",
    "sigCostRSA = 0\n",
    "scorpion = -1"
   ]
  },
  {
   "cell_type": "code",
   "execution_count": 16,
   "metadata": {
    "ExecuteTime": {
     "end_time": "2020-09-09T16:52:55.906018Z",
     "start_time": "2020-09-09T16:52:54.861415Z"
    }
   },
   "outputs": [],
   "source": [
    "getModelingResultsRSA =  EvaluateOverloadedSignaler(humanResults, returnStrategyBreakdown = True, model='RSA')\n",
    "modelPredictionsRSA = getModelingResultsRSA(alpha=a, \n",
    "                                      valueOfReward=reward, \n",
    "                                      signalMeaningPrior=p, \n",
    "                                      costOfSignal = sigCostRSA, \n",
    "                                      costOfPunishment = scorpion)"
   ]
  },
  {
   "cell_type": "code",
   "execution_count": 39,
   "metadata": {
    "ExecuteTime": {
     "end_time": "2020-09-09T17:29:01.968202Z",
     "start_time": "2020-09-09T17:29:01.947234Z"
    }
   },
   "outputs": [
    {
     "data": {
      "text/html": [
       "<div>\n",
       "<style scoped>\n",
       "    .dataframe tbody tr th:only-of-type {\n",
       "        vertical-align: middle;\n",
       "    }\n",
       "\n",
       "    .dataframe tbody tr th {\n",
       "        vertical-align: top;\n",
       "    }\n",
       "\n",
       "    .dataframe thead th {\n",
       "        text-align: right;\n",
       "    }\n",
       "</style>\n",
       "<table border=\"1\" class=\"dataframe\">\n",
       "  <thead>\n",
       "    <tr style=\"text-align: right;\">\n",
       "      <th></th>\n",
       "      <th>humanResults</th>\n",
       "      <th>modelResults</th>\n",
       "    </tr>\n",
       "    <tr>\n",
       "      <th>strategy</th>\n",
       "      <th></th>\n",
       "      <th></th>\n",
       "    </tr>\n",
       "  </thead>\n",
       "  <tbody>\n",
       "    <tr>\n",
       "      <th>avoid</th>\n",
       "      <td>0.0</td>\n",
       "      <td>0.0</td>\n",
       "    </tr>\n",
       "    <tr>\n",
       "      <th>mixed</th>\n",
       "      <td>0.0</td>\n",
       "      <td>0.0</td>\n",
       "    </tr>\n",
       "    <tr>\n",
       "      <th>open</th>\n",
       "      <td>1.0</td>\n",
       "      <td>1.0</td>\n",
       "    </tr>\n",
       "    <tr>\n",
       "      <th>silent</th>\n",
       "      <td>0.0</td>\n",
       "      <td>0.0</td>\n",
       "    </tr>\n",
       "  </tbody>\n",
       "</table>\n",
       "</div>"
      ],
      "text/plain": [
       "          humanResults  modelResults\n",
       "strategy                            \n",
       "avoid              0.0           0.0\n",
       "mixed              0.0           0.0\n",
       "open               1.0           1.0\n",
       "silent             0.0           0.0"
      ]
     },
     "execution_count": 39,
     "metadata": {},
     "output_type": "execute_result"
    }
   ],
   "source": [
    "modelPredictionsRSA.loc[(2, 2, 1, 2)].round(5) #two token"
   ]
  },
  {
   "cell_type": "code",
   "execution_count": 31,
   "metadata": {
    "ExecuteTime": {
     "end_time": "2020-09-09T17:26:13.407937Z",
     "start_time": "2020-09-09T17:26:13.395487Z"
    }
   },
   "outputs": [
    {
     "data": {
      "text/html": [
       "<div>\n",
       "<style scoped>\n",
       "    .dataframe tbody tr th:only-of-type {\n",
       "        vertical-align: middle;\n",
       "    }\n",
       "\n",
       "    .dataframe tbody tr th {\n",
       "        vertical-align: top;\n",
       "    }\n",
       "\n",
       "    .dataframe thead th {\n",
       "        text-align: right;\n",
       "    }\n",
       "</style>\n",
       "<table border=\"1\" class=\"dataframe\">\n",
       "  <thead>\n",
       "    <tr style=\"text-align: right;\">\n",
       "      <th></th>\n",
       "      <th>humanResults</th>\n",
       "      <th>modelResults</th>\n",
       "    </tr>\n",
       "    <tr>\n",
       "      <th>strategy</th>\n",
       "      <th></th>\n",
       "      <th></th>\n",
       "    </tr>\n",
       "  </thead>\n",
       "  <tbody>\n",
       "    <tr>\n",
       "      <th>avoid</th>\n",
       "      <td>0.562500</td>\n",
       "      <td>0.25</td>\n",
       "    </tr>\n",
       "    <tr>\n",
       "      <th>mixed</th>\n",
       "      <td>0.000000</td>\n",
       "      <td>0.00</td>\n",
       "    </tr>\n",
       "    <tr>\n",
       "      <th>open</th>\n",
       "      <td>0.421875</td>\n",
       "      <td>0.50</td>\n",
       "    </tr>\n",
       "    <tr>\n",
       "      <th>silent</th>\n",
       "      <td>0.015625</td>\n",
       "      <td>0.25</td>\n",
       "    </tr>\n",
       "  </tbody>\n",
       "</table>\n",
       "</div>"
      ],
      "text/plain": [
       "          humanResults  modelResults\n",
       "strategy                            \n",
       "avoid         0.562500          0.25\n",
       "mixed         0.000000          0.00\n",
       "open          0.421875          0.50\n",
       "silent        0.015625          0.25"
      ]
     },
     "execution_count": 31,
     "metadata": {},
     "output_type": "execute_result"
    }
   ],
   "source": [
    "modelPredictionsRSA.loc[(1, 2, 1, 2)] #inversion"
   ]
  },
  {
   "cell_type": "code",
   "execution_count": 32,
   "metadata": {
    "ExecuteTime": {
     "end_time": "2020-09-09T17:26:14.276865Z",
     "start_time": "2020-09-09T17:26:14.248777Z"
    }
   },
   "outputs": [
    {
     "data": {
      "text/html": [
       "<div>\n",
       "<style scoped>\n",
       "    .dataframe tbody tr th:only-of-type {\n",
       "        vertical-align: middle;\n",
       "    }\n",
       "\n",
       "    .dataframe tbody tr th {\n",
       "        vertical-align: top;\n",
       "    }\n",
       "\n",
       "    .dataframe thead th {\n",
       "        text-align: right;\n",
       "    }\n",
       "</style>\n",
       "<table border=\"1\" class=\"dataframe\">\n",
       "  <thead>\n",
       "    <tr style=\"text-align: right;\">\n",
       "      <th></th>\n",
       "      <th>humanResults</th>\n",
       "      <th>modelResults</th>\n",
       "    </tr>\n",
       "    <tr>\n",
       "      <th>strategy</th>\n",
       "      <th></th>\n",
       "      <th></th>\n",
       "    </tr>\n",
       "  </thead>\n",
       "  <tbody>\n",
       "    <tr>\n",
       "      <th>avoid</th>\n",
       "      <td>0.375</td>\n",
       "      <td>0.25</td>\n",
       "    </tr>\n",
       "    <tr>\n",
       "      <th>mixed</th>\n",
       "      <td>0.000</td>\n",
       "      <td>0.00</td>\n",
       "    </tr>\n",
       "    <tr>\n",
       "      <th>open</th>\n",
       "      <td>0.625</td>\n",
       "      <td>0.50</td>\n",
       "    </tr>\n",
       "    <tr>\n",
       "      <th>silent</th>\n",
       "      <td>0.000</td>\n",
       "      <td>0.25</td>\n",
       "    </tr>\n",
       "  </tbody>\n",
       "</table>\n",
       "</div>"
      ],
      "text/plain": [
       "          humanResults  modelResults\n",
       "strategy                            \n",
       "avoid            0.375          0.25\n",
       "mixed            0.000          0.00\n",
       "open             0.625          0.50\n",
       "silent           0.000          0.25"
      ]
     },
     "execution_count": 32,
     "metadata": {},
     "output_type": "execute_result"
    }
   ],
   "source": [
    "modelPredictionsRSA.loc[(1, 1, 1, 2)] #axes"
   ]
  },
  {
   "cell_type": "code",
   "execution_count": 33,
   "metadata": {
    "ExecuteTime": {
     "end_time": "2020-09-09T17:26:14.714096Z",
     "start_time": "2020-09-09T17:26:14.694592Z"
    }
   },
   "outputs": [
    {
     "data": {
      "text/html": [
       "<div>\n",
       "<style scoped>\n",
       "    .dataframe tbody tr th:only-of-type {\n",
       "        vertical-align: middle;\n",
       "    }\n",
       "\n",
       "    .dataframe tbody tr th {\n",
       "        vertical-align: top;\n",
       "    }\n",
       "\n",
       "    .dataframe thead th {\n",
       "        text-align: right;\n",
       "    }\n",
       "</style>\n",
       "<table border=\"1\" class=\"dataframe\">\n",
       "  <thead>\n",
       "    <tr style=\"text-align: right;\">\n",
       "      <th></th>\n",
       "      <th>humanResults</th>\n",
       "      <th>modelResults</th>\n",
       "    </tr>\n",
       "    <tr>\n",
       "      <th>strategy</th>\n",
       "      <th></th>\n",
       "      <th></th>\n",
       "    </tr>\n",
       "  </thead>\n",
       "  <tbody>\n",
       "    <tr>\n",
       "      <th>avoid</th>\n",
       "      <td>0.234375</td>\n",
       "      <td>0.332389</td>\n",
       "    </tr>\n",
       "    <tr>\n",
       "      <th>mixed</th>\n",
       "      <td>0.000000</td>\n",
       "      <td>0.000000</td>\n",
       "    </tr>\n",
       "    <tr>\n",
       "      <th>open</th>\n",
       "      <td>0.765625</td>\n",
       "      <td>0.664778</td>\n",
       "    </tr>\n",
       "    <tr>\n",
       "      <th>silent</th>\n",
       "      <td>0.000000</td>\n",
       "      <td>0.002833</td>\n",
       "    </tr>\n",
       "  </tbody>\n",
       "</table>\n",
       "</div>"
      ],
      "text/plain": [
       "          humanResults  modelResults\n",
       "strategy                            \n",
       "avoid         0.234375      0.332389\n",
       "mixed         0.000000      0.000000\n",
       "open          0.765625      0.664778\n",
       "silent        0.000000      0.002833"
      ]
     },
     "execution_count": 33,
     "metadata": {},
     "output_type": "execute_result"
    }
   ],
   "source": [
    "modelPredictionsRSA.loc[(1, 2, 0, 2)] #wall"
   ]
  },
  {
   "cell_type": "markdown",
   "metadata": {},
   "source": [
    "# Plot Strategy Grid Success"
   ]
  },
  {
   "cell_type": "code",
   "execution_count": 23,
   "metadata": {
    "ExecuteTime": {
     "end_time": "2020-09-09T17:24:16.936663Z",
     "start_time": "2020-09-09T17:24:16.915028Z"
    }
   },
   "outputs": [],
   "source": [
    "import matplotlib.pyplot as plt\n",
    "import matplotlib.patches as mpatches "
   ]
  },
  {
   "cell_type": "code",
   "execution_count": 24,
   "metadata": {
    "ExecuteTime": {
     "end_time": "2020-09-09T17:24:17.279070Z",
     "start_time": "2020-09-09T17:24:17.264464Z"
    }
   },
   "outputs": [],
   "source": [
    "def drawPerformanceBarPlot(dfCondition,  axForDraw, nConditions = 4, hatches = None, barWidth = .35):\n",
    "    N = nConditions\n",
    "    ind = np.arange(N)  # the x locations for the groups\n",
    "    width = barWidth      # the width of the bars\n",
    "    #mpl.rcParams['hatch.color'] = 'grey'\n",
    "    \n",
    "    labels = dfCondition.columns\n",
    "    avoid = dfCondition.loc['avoid']\n",
    "    openCondition = dfCondition.loc['open']\n",
    "    silent = dfCondition.loc['silent']\n",
    "    mixed = dfCondition.loc['mixed']\n",
    "    \n",
    "    cols = ['thistle','thistle','royalblue', 'royalblue','gold', 'gold','lightsalmon', 'lightsalmon']\n",
    "    hatchPattern = ['n', '//', 'n', '//', 'n', '//', 'n','//']\n",
    "\n",
    "    axForDraw.bar(labels, openCondition, width, label='Open', color = 'royalblue')\n",
    "    axForDraw.bar(labels, avoid, width, bottom = openCondition, label='Avoid', color = 'thistle')\n",
    "    axForDraw.bar(labels, silent, width, bottom=openCondition+avoid, label='Silent', color = 'gold')\n",
    "    axForDraw.bar(labels, mixed, width, bottom=openCondition+avoid+silent, label='Mixed', color = 'lightsalmon')\n",
    "    \n",
    "    axForDraw.set_yticks([0,.5,1])\n",
    "    axForDraw.set_xticks([])"
   ]
  },
  {
   "cell_type": "code",
   "execution_count": null,
   "metadata": {},
   "outputs": [],
   "source": []
  },
  {
   "cell_type": "code",
   "execution_count": null,
   "metadata": {},
   "outputs": [],
   "source": []
  },
  {
   "cell_type": "code",
   "execution_count": 25,
   "metadata": {
    "ExecuteTime": {
     "end_time": "2020-09-09T17:24:19.041650Z",
     "start_time": "2020-09-09T17:24:19.032980Z"
    }
   },
   "outputs": [],
   "source": [
    "#plotting hyperparameters\n",
    "figureSize = (25,18)\n",
    "horizontalSpaceBetweenSubplots = .45\n",
    "legendColors = {'avoid' : 'thistle', 'open':'royalblue' ,'silent':'gold','mixed':'lightsalmon'}\n",
    "hatch = {'twoToken':'n', 'twoToken_goto':'//','inversion':'n','inversion_goto':'//', 'wall':'n','wall_goto':'//', 'oneAx':'n', 'oneAx_goto':'//'}"
   ]
  },
  {
   "cell_type": "code",
   "execution_count": 26,
   "metadata": {
    "ExecuteTime": {
     "end_time": "2020-09-09T17:24:19.289897Z",
     "start_time": "2020-09-09T17:24:19.271890Z"
    }
   },
   "outputs": [],
   "source": [
    "#dataframe to plot\n",
    "dataframeName = modelPredictions\n",
    "dataFrameRowLength = 4\n",
    "dataFrameColLength = 4"
   ]
  },
  {
   "cell_type": "code",
   "execution_count": 27,
   "metadata": {
    "ExecuteTime": {
     "end_time": "2020-09-09T17:24:20.495880Z",
     "start_time": "2020-09-09T17:24:19.593092Z"
    }
   },
   "outputs": [
    {
     "data": {
      "image/png": "[encoded data removed]",
      "text/plain": [
       "<Figure size 1800x1296 with 16 Axes>"
      ]
     },
     "metadata": {
      "needs_background": "light"
     },
     "output_type": "display_data"
    }
   ],
   "source": [
    "fig = plt.figure(figsize=figureSize)\n",
    "numRows = dataFrameRowLength\n",
    "numColumns = dataFrameColLength\n",
    "plotCounter = 1\n",
    "\n",
    "for condition, grp in dataframeName.groupby(['n_tokens','n_axes','show_imprints','n_bananas']):\n",
    "    grp.index = grp.index.droplevel(['n_tokens','n_axes','show_imprints','n_bananas'])\n",
    "    #for signalTypePriors, group in grp.groupby('signalTypePriors'):\n",
    "\n",
    "    keyConditions = [(2,2,1,2),(1,2,1,2),(1,1,1,2),(1,2,0,2)] #2 token, inversion, one ax, wall\n",
    "    #subplot axis labels\n",
    "    axForDraw = fig.add_subplot(numRows, numColumns, plotCounter)\n",
    "    axForDraw.set_title('condition: {}'.format(condition))\n",
    "    if condition in keyConditions:\n",
    "        axForDraw.set_title('condition: {}'.format(condition), color = 'red')\n",
    "    axForDraw.set_ylim(0, 1)\n",
    "\n",
    "    #draw subplot\n",
    "    drawPerformanceBarPlot(grp, axForDraw, 2)\n",
    "\n",
    "    plotCounter += 1\n",
    "\n",
    "#Title\n",
    "plt.suptitle('Modeling and Human Strategy Comparison')\n",
    "\n",
    "#legend\n",
    "legend_dict = legendColors\n",
    "patchList = []\n",
    "trialList = [\"avoid\", 'mixed', 'open', 'silent']\n",
    "for key in trialList:\n",
    "    data_key = mpatches.Patch(color=legend_dict[key], label=key)\n",
    "    patchList.append(data_key)\n",
    "plt.legend(handles=patchList, loc='best')\n",
    "\n",
    "#adjust horizontal spacing of subplots\n",
    "fig.subplots_adjust(wspace=.2)\n",
    "\n",
    "plt.show()"
   ]
  },
  {
   "cell_type": "code",
   "execution_count": 40,
   "metadata": {
    "ExecuteTime": {
     "end_time": "2020-09-09T17:36:49.591499Z",
     "start_time": "2020-09-09T17:36:48.677362Z"
    }
   },
   "outputs": [
    {
     "data": {
      "image/png": "[encoded data removed]",
      "text/plain": [
       "<Figure size 1800x1296 with 16 Axes>"
      ]
     },
     "metadata": {
      "needs_background": "light"
     },
     "output_type": "display_data"
    }
   ],
   "source": [
    "#dataframe to plot\n",
    "dataframeName = modelPredictionsRSA\n",
    "dataFrameRowLength = 4\n",
    "dataFrameColLength = 4\n",
    "\n",
    "fig = plt.figure(figsize=figureSize)\n",
    "numRows = dataFrameRowLength\n",
    "numColumns = dataFrameColLength\n",
    "plotCounter = 1\n",
    "\n",
    "for condition, grp in dataframeName.groupby(['n_tokens','n_axes','show_imprints','n_bananas']):\n",
    "    grp.index = grp.index.droplevel(['n_tokens','n_axes','show_imprints','n_bananas'])\n",
    "    #for signalTypePriors, group in grp.groupby('signalTypePriors'):\n",
    "\n",
    "    keyConditions = [(2,2,1,2),(1,2,1,2),(1,1,1,2),(1,2,0,2)]\n",
    "    #subplot axis labels\n",
    "    axForDraw = fig.add_subplot(numRows, numColumns, plotCounter)\n",
    "    axForDraw.set_title('condition: {}'.format(condition))\n",
    "    if condition in keyConditions:\n",
    "        axForDraw.set_title('condition: {}'.format(condition), color = 'red')\n",
    "    axForDraw.set_ylim(0, 1)\n",
    "\n",
    "    #draw subplot\n",
    "    drawPerformanceBarPlot(grp, axForDraw, 2)\n",
    "\n",
    "    plotCounter += 1\n",
    "\n",
    "#Title\n",
    "plt.suptitle('RSA')\n",
    "\n",
    "#legend\n",
    "legend_dict = legendColors\n",
    "patchList = []\n",
    "trialList = [\"avoid\", 'mixed', 'open', 'silent']\n",
    "for key in trialList:\n",
    "    data_key = mpatches.Patch(color=legend_dict[key], label=key)\n",
    "    patchList.append(data_key)\n",
    "plt.legend(handles=patchList, loc='best')\n",
    "\n",
    "#adjust horizontal spacing of subplots\n",
    "fig.subplots_adjust(wspace=.2)\n",
    "\n",
    "plt.show()"
   ]
  },
  {
   "cell_type": "code",
   "execution_count": null,
   "metadata": {},
   "outputs": [],
   "source": []
  }
 ],
 "metadata": {
  "kernelspec": {
   "display_name": "Python 3",
   "language": "python",
   "name": "python3"
  },
  "language_info": {
   "codemirror_mode": {
    "name": "ipython",
    "version": 3
   },
   "file_extension": ".py",
   "mimetype": "text/x-python",
   "name": "python",
   "nbconvert_exporter": "python",
   "pygments_lexer": "ipython3",
   "version": "3.5.6"
  },
  "toc": {
   "base_numbering": 1,
   "nav_menu": {},
   "number_sections": true,
   "sideBar": true,
   "skip_h1_title": false,
   "title_cell": "Table of Contents",
   "title_sidebar": "Contents",
   "toc_cell": false,
   "toc_position": {},
   "toc_section_display": true,
   "toc_window_display": false
  }
 },
 "nbformat": 4,
 "nbformat_minor": 2
}
