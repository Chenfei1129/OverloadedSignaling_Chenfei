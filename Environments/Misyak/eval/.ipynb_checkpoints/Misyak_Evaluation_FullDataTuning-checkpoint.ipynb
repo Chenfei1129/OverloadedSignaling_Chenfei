{
 "cells": [
  {
   "cell_type": "code",
   "execution_count": 1,
   "metadata": {
    "ExecuteTime": {
     "end_time": "2020-08-28T18:40:45.936538Z",
     "start_time": "2020-08-28T18:40:45.926570Z"
    }
   },
   "outputs": [],
   "source": [
    "import sys\n",
    "sys.path.append('/home/stacyste/Documents/Research/OverloadedSignaling/Environments/Misyak')\n",
    "sys.path.append('/home/stacyste/Documents/Research/OverloadedSignaling/Environments/Misyak/eval')"
   ]
  },
  {
   "cell_type": "code",
   "execution_count": 2,
   "metadata": {
    "ExecuteTime": {
     "end_time": "2020-08-28T18:40:46.233078Z",
     "start_time": "2020-08-28T18:40:46.211263Z"
    }
   },
   "outputs": [],
   "source": [
    "%load_ext autoreload\n",
    "%autoreload 2"
   ]
  },
  {
   "cell_type": "code",
   "execution_count": 3,
   "metadata": {
    "ExecuteTime": {
     "end_time": "2020-08-28T18:40:46.840305Z",
     "start_time": "2020-08-28T18:40:46.537864Z"
    }
   },
   "outputs": [],
   "source": [
    "import numpy as np\n",
    "import pandas as pd\n",
    "from collections import OrderedDict\n",
    "\n",
    "#from GenerativeSignaler import SignalerZero\n",
    "#from consistentSignalChecks_Misyak import signalIsConsistent_Boxes\n",
    "\n",
    "#from misyakConstruction import *\n",
    "\n",
    "from evaluateMisyak_FullExperimentalConditions import *\n",
    "\n",
    "import matplotlib.pyplot as plt\n",
    "import matplotlib.patches as mpatches \n",
    "from tqdm import tqdm"
   ]
  },
  {
   "cell_type": "code",
   "execution_count": 4,
   "metadata": {
    "ExecuteTime": {
     "end_time": "2020-08-28T18:40:47.117514Z",
     "start_time": "2020-08-28T18:40:47.061891Z"
    }
   },
   "outputs": [],
   "source": [
    "humanResults = pd.read_pickle('/home/stacyste/Documents/Research/OverloadedSignaling/Environments/Misyak/data/humanResultsStrategyPDFs.pkl')"
   ]
  },
  {
   "cell_type": "markdown",
   "metadata": {},
   "source": [
    "# Tuning Variable Grids"
   ]
  },
  {
   "cell_type": "code",
   "execution_count": 5,
   "metadata": {
    "ExecuteTime": {
     "end_time": "2020-08-28T18:40:48.070359Z",
     "start_time": "2020-08-28T18:40:48.043193Z"
    }
   },
   "outputs": [],
   "source": [
    "manipulatedVariables = OrderedDict()\n",
    "manipulatedVariables['alpha'] = list(np.linspace(1.0,10.0,10))\n",
    "manipulatedVariables['signalTypePriors'] = [0.55, .575, .6, .625, .65, .675, .7, .725, .75, .766]\n",
    "manipulatedVariables['valueOfReward'] = [1.0]\n",
    "manipulatedVariables['costOfNonReward'] = [0.0, .5, 1.0]\n",
    "manipulatedVariables['costOfSignal'] = [0.0, .1]"
   ]
  },
  {
   "cell_type": "code",
   "execution_count": 6,
   "metadata": {
    "ExecuteTime": {
     "end_time": "2020-08-28T22:07:06.104968Z",
     "start_time": "2020-08-28T18:40:50.107536Z"
    },
    "scrolled": true
   },
   "outputs": [
    {
     "name": "stdout",
     "output_type": "stream",
     "text": [
      "alpha 1.0 reward value 1.0 meaning prior 0.55 scorpion cost  0.0 signal cost 0.0\n",
      "alpha 1.0 reward value 1.0 meaning prior 0.55 scorpion cost  0.0 signal cost 0.1\n",
      "alpha 1.0 reward value 1.0 meaning prior 0.55 scorpion cost  0.5 signal cost 0.0\n",
      "alpha 1.0 reward value 1.0 meaning prior 0.55 scorpion cost  0.5 signal cost 0.1\n",
      "alpha 1.0 reward value 1.0 meaning prior 0.55 scorpion cost  1.0 signal cost 0.0\n",
      "alpha 1.0 reward value 1.0 meaning prior 0.55 scorpion cost  1.0 signal cost 0.1\n",
      "alpha 1.0 reward value 1.0 meaning prior 0.575 scorpion cost  0.0 signal cost 0.0\n",
      "alpha 1.0 reward value 1.0 meaning prior 0.575 scorpion cost  0.0 signal cost 0.1\n",
      "alpha 1.0 reward value 1.0 meaning prior 0.575 scorpion cost  0.5 signal cost 0.0\n",
      "alpha 1.0 reward value 1.0 meaning prior 0.575 scorpion cost  0.5 signal cost 0.1\n",
      "alpha 1.0 reward value 1.0 meaning prior 0.575 scorpion cost  1.0 signal cost 0.0\n",
      "alpha 1.0 reward value 1.0 meaning prior 0.575 scorpion cost  1.0 signal cost 0.1\n",
      "alpha 1.0 reward value 1.0 meaning prior 0.6 scorpion cost  0.0 signal cost 0.0\n",
      "alpha 1.0 reward value 1.0 meaning prior 0.6 scorpion cost  0.0 signal cost 0.1\n",
      "alpha 1.0 reward value 1.0 meaning prior 0.6 scorpion cost  0.5 signal cost 0.0\n",
      "alpha 1.0 reward value 1.0 meaning prior 0.6 scorpion cost  0.5 signal cost 0.1\n",
      "alpha 1.0 reward value 1.0 meaning prior 0.6 scorpion cost  1.0 signal cost 0.0\n",
      "alpha 1.0 reward value 1.0 meaning prior 0.6 scorpion cost  1.0 signal cost 0.1\n",
      "alpha 1.0 reward value 1.0 meaning prior 0.625 scorpion cost  0.0 signal cost 0.0\n",
      "alpha 1.0 reward value 1.0 meaning prior 0.625 scorpion cost  0.0 signal cost 0.1\n",
      "alpha 1.0 reward value 1.0 meaning prior 0.625 scorpion cost  0.5 signal cost 0.0\n",
      "alpha 1.0 reward value 1.0 meaning prior 0.625 scorpion cost  0.5 signal cost 0.1\n",
      "alpha 1.0 reward value 1.0 meaning prior 0.625 scorpion cost  1.0 signal cost 0.0\n",
      "alpha 1.0 reward value 1.0 meaning prior 0.625 scorpion cost  1.0 signal cost 0.1\n",
      "alpha 1.0 reward value 1.0 meaning prior 0.65 scorpion cost  0.0 signal cost 0.0\n",
      "alpha 1.0 reward value 1.0 meaning prior 0.65 scorpion cost  0.0 signal cost 0.1\n",
      "alpha 1.0 reward value 1.0 meaning prior 0.65 scorpion cost  0.5 signal cost 0.0\n",
      "alpha 1.0 reward value 1.0 meaning prior 0.65 scorpion cost  0.5 signal cost 0.1\n",
      "alpha 1.0 reward value 1.0 meaning prior 0.65 scorpion cost  1.0 signal cost 0.0\n",
      "alpha 1.0 reward value 1.0 meaning prior 0.65 scorpion cost  1.0 signal cost 0.1\n",
      "alpha 1.0 reward value 1.0 meaning prior 0.675 scorpion cost  0.0 signal cost 0.0\n",
      "alpha 1.0 reward value 1.0 meaning prior 0.675 scorpion cost  0.0 signal cost 0.1\n",
      "alpha 1.0 reward value 1.0 meaning prior 0.675 scorpion cost  0.5 signal cost 0.0\n",
      "alpha 1.0 reward value 1.0 meaning prior 0.675 scorpion cost  0.5 signal cost 0.1\n",
      "alpha 1.0 reward value 1.0 meaning prior 0.675 scorpion cost  1.0 signal cost 0.0\n",
      "alpha 1.0 reward value 1.0 meaning prior 0.675 scorpion cost  1.0 signal cost 0.1\n",
      "alpha 1.0 reward value 1.0 meaning prior 0.7 scorpion cost  0.0 signal cost 0.0\n",
      "alpha 1.0 reward value 1.0 meaning prior 0.7 scorpion cost  0.0 signal cost 0.1\n",
      "alpha 1.0 reward value 1.0 meaning prior 0.7 scorpion cost  0.5 signal cost 0.0\n",
      "alpha 1.0 reward value 1.0 meaning prior 0.7 scorpion cost  0.5 signal cost 0.1\n",
      "alpha 1.0 reward value 1.0 meaning prior 0.7 scorpion cost  1.0 signal cost 0.0\n",
      "alpha 1.0 reward value 1.0 meaning prior 0.7 scorpion cost  1.0 signal cost 0.1\n",
      "alpha 1.0 reward value 1.0 meaning prior 0.725 scorpion cost  0.0 signal cost 0.0\n",
      "alpha 1.0 reward value 1.0 meaning prior 0.725 scorpion cost  0.0 signal cost 0.1\n",
      "alpha 1.0 reward value 1.0 meaning prior 0.725 scorpion cost  0.5 signal cost 0.0\n",
      "alpha 1.0 reward value 1.0 meaning prior 0.725 scorpion cost  0.5 signal cost 0.1\n",
      "alpha 1.0 reward value 1.0 meaning prior 0.725 scorpion cost  1.0 signal cost 0.0\n",
      "alpha 1.0 reward value 1.0 meaning prior 0.725 scorpion cost  1.0 signal cost 0.1\n",
      "alpha 1.0 reward value 1.0 meaning prior 0.75 scorpion cost  0.0 signal cost 0.0\n",
      "alpha 1.0 reward value 1.0 meaning prior 0.75 scorpion cost  0.0 signal cost 0.1\n",
      "alpha 1.0 reward value 1.0 meaning prior 0.75 scorpion cost  0.5 signal cost 0.0\n",
      "alpha 1.0 reward value 1.0 meaning prior 0.75 scorpion cost  0.5 signal cost 0.1\n",
      "alpha 1.0 reward value 1.0 meaning prior 0.75 scorpion cost  1.0 signal cost 0.0\n",
      "alpha 1.0 reward value 1.0 meaning prior 0.75 scorpion cost  1.0 signal cost 0.1\n",
      "alpha 1.0 reward value 1.0 meaning prior 0.766 scorpion cost  0.0 signal cost 0.0\n",
      "alpha 1.0 reward value 1.0 meaning prior 0.766 scorpion cost  0.0 signal cost 0.1\n",
      "alpha 1.0 reward value 1.0 meaning prior 0.766 scorpion cost  0.5 signal cost 0.0\n",
      "alpha 1.0 reward value 1.0 meaning prior 0.766 scorpion cost  0.5 signal cost 0.1\n",
      "alpha 1.0 reward value 1.0 meaning prior 0.766 scorpion cost  1.0 signal cost 0.0\n",
      "alpha 1.0 reward value 1.0 meaning prior 0.766 scorpion cost  1.0 signal cost 0.1\n",
      "alpha 2.0 reward value 1.0 meaning prior 0.55 scorpion cost  0.0 signal cost 0.0\n",
      "alpha 2.0 reward value 1.0 meaning prior 0.55 scorpion cost  0.0 signal cost 0.1\n",
      "alpha 2.0 reward value 1.0 meaning prior 0.55 scorpion cost  0.5 signal cost 0.0\n",
      "alpha 2.0 reward value 1.0 meaning prior 0.55 scorpion cost  0.5 signal cost 0.1\n",
      "alpha 2.0 reward value 1.0 meaning prior 0.55 scorpion cost  1.0 signal cost 0.0\n",
      "alpha 2.0 reward value 1.0 meaning prior 0.55 scorpion cost  1.0 signal cost 0.1\n",
      "alpha 2.0 reward value 1.0 meaning prior 0.575 scorpion cost  0.0 signal cost 0.0\n",
      "alpha 2.0 reward value 1.0 meaning prior 0.575 scorpion cost  0.0 signal cost 0.1\n",
      "alpha 2.0 reward value 1.0 meaning prior 0.575 scorpion cost  0.5 signal cost 0.0\n",
      "alpha 2.0 reward value 1.0 meaning prior 0.575 scorpion cost  0.5 signal cost 0.1\n",
      "alpha 2.0 reward value 1.0 meaning prior 0.575 scorpion cost  1.0 signal cost 0.0\n",
      "alpha 2.0 reward value 1.0 meaning prior 0.575 scorpion cost  1.0 signal cost 0.1\n",
      "alpha 2.0 reward value 1.0 meaning prior 0.6 scorpion cost  0.0 signal cost 0.0\n",
      "alpha 2.0 reward value 1.0 meaning prior 0.6 scorpion cost  0.0 signal cost 0.1\n",
      "alpha 2.0 reward value 1.0 meaning prior 0.6 scorpion cost  0.5 signal cost 0.0\n",
      "alpha 2.0 reward value 1.0 meaning prior 0.6 scorpion cost  0.5 signal cost 0.1\n",
      "alpha 2.0 reward value 1.0 meaning prior 0.6 scorpion cost  1.0 signal cost 0.0\n",
      "alpha 2.0 reward value 1.0 meaning prior 0.6 scorpion cost  1.0 signal cost 0.1\n",
      "alpha 2.0 reward value 1.0 meaning prior 0.625 scorpion cost  0.0 signal cost 0.0\n",
      "alpha 2.0 reward value 1.0 meaning prior 0.625 scorpion cost  0.0 signal cost 0.1\n",
      "alpha 2.0 reward value 1.0 meaning prior 0.625 scorpion cost  0.5 signal cost 0.0\n",
      "alpha 2.0 reward value 1.0 meaning prior 0.625 scorpion cost  0.5 signal cost 0.1\n",
      "alpha 2.0 reward value 1.0 meaning prior 0.625 scorpion cost  1.0 signal cost 0.0\n",
      "alpha 2.0 reward value 1.0 meaning prior 0.625 scorpion cost  1.0 signal cost 0.1\n",
      "alpha 2.0 reward value 1.0 meaning prior 0.65 scorpion cost  0.0 signal cost 0.0\n",
      "alpha 2.0 reward value 1.0 meaning prior 0.65 scorpion cost  0.0 signal cost 0.1\n",
      "alpha 2.0 reward value 1.0 meaning prior 0.65 scorpion cost  0.5 signal cost 0.0\n",
      "alpha 2.0 reward value 1.0 meaning prior 0.65 scorpion cost  0.5 signal cost 0.1\n",
      "alpha 2.0 reward value 1.0 meaning prior 0.65 scorpion cost  1.0 signal cost 0.0\n",
      "alpha 2.0 reward value 1.0 meaning prior 0.65 scorpion cost  1.0 signal cost 0.1\n",
      "alpha 2.0 reward value 1.0 meaning prior 0.675 scorpion cost  0.0 signal cost 0.0\n",
      "alpha 2.0 reward value 1.0 meaning prior 0.675 scorpion cost  0.0 signal cost 0.1\n",
      "alpha 2.0 reward value 1.0 meaning prior 0.675 scorpion cost  0.5 signal cost 0.0\n",
      "alpha 2.0 reward value 1.0 meaning prior 0.675 scorpion cost  0.5 signal cost 0.1\n",
      "alpha 2.0 reward value 1.0 meaning prior 0.675 scorpion cost  1.0 signal cost 0.0\n",
      "alpha 2.0 reward value 1.0 meaning prior 0.675 scorpion cost  1.0 signal cost 0.1\n",
      "alpha 2.0 reward value 1.0 meaning prior 0.7 scorpion cost  0.0 signal cost 0.0\n",
      "alpha 2.0 reward value 1.0 meaning prior 0.7 scorpion cost  0.0 signal cost 0.1\n",
      "alpha 2.0 reward value 1.0 meaning prior 0.7 scorpion cost  0.5 signal cost 0.0\n",
      "alpha 2.0 reward value 1.0 meaning prior 0.7 scorpion cost  0.5 signal cost 0.1\n",
      "alpha 2.0 reward value 1.0 meaning prior 0.7 scorpion cost  1.0 signal cost 0.0\n"
     ]
    },
    {
     "name": "stdout",
     "output_type": "stream",
     "text": [
      "alpha 2.0 reward value 1.0 meaning prior 0.7 scorpion cost  1.0 signal cost 0.1\n",
      "alpha 2.0 reward value 1.0 meaning prior 0.725 scorpion cost  0.0 signal cost 0.0\n",
      "alpha 2.0 reward value 1.0 meaning prior 0.725 scorpion cost  0.0 signal cost 0.1\n",
      "alpha 2.0 reward value 1.0 meaning prior 0.725 scorpion cost  0.5 signal cost 0.0\n",
      "alpha 2.0 reward value 1.0 meaning prior 0.725 scorpion cost  0.5 signal cost 0.1\n",
      "alpha 2.0 reward value 1.0 meaning prior 0.725 scorpion cost  1.0 signal cost 0.0\n",
      "alpha 2.0 reward value 1.0 meaning prior 0.725 scorpion cost  1.0 signal cost 0.1\n",
      "alpha 2.0 reward value 1.0 meaning prior 0.75 scorpion cost  0.0 signal cost 0.0\n",
      "alpha 2.0 reward value 1.0 meaning prior 0.75 scorpion cost  0.0 signal cost 0.1\n",
      "alpha 2.0 reward value 1.0 meaning prior 0.75 scorpion cost  0.5 signal cost 0.0\n",
      "alpha 2.0 reward value 1.0 meaning prior 0.75 scorpion cost  0.5 signal cost 0.1\n",
      "alpha 2.0 reward value 1.0 meaning prior 0.75 scorpion cost  1.0 signal cost 0.0\n",
      "alpha 2.0 reward value 1.0 meaning prior 0.75 scorpion cost  1.0 signal cost 0.1\n",
      "alpha 2.0 reward value 1.0 meaning prior 0.766 scorpion cost  0.0 signal cost 0.0\n",
      "alpha 2.0 reward value 1.0 meaning prior 0.766 scorpion cost  0.0 signal cost 0.1\n",
      "alpha 2.0 reward value 1.0 meaning prior 0.766 scorpion cost  0.5 signal cost 0.0\n",
      "alpha 2.0 reward value 1.0 meaning prior 0.766 scorpion cost  0.5 signal cost 0.1\n",
      "alpha 2.0 reward value 1.0 meaning prior 0.766 scorpion cost  1.0 signal cost 0.0\n",
      "alpha 2.0 reward value 1.0 meaning prior 0.766 scorpion cost  1.0 signal cost 0.1\n",
      "alpha 3.0 reward value 1.0 meaning prior 0.55 scorpion cost  0.0 signal cost 0.0\n",
      "alpha 3.0 reward value 1.0 meaning prior 0.55 scorpion cost  0.0 signal cost 0.1\n",
      "alpha 3.0 reward value 1.0 meaning prior 0.55 scorpion cost  0.5 signal cost 0.0\n",
      "alpha 3.0 reward value 1.0 meaning prior 0.55 scorpion cost  0.5 signal cost 0.1\n",
      "alpha 3.0 reward value 1.0 meaning prior 0.55 scorpion cost  1.0 signal cost 0.0\n",
      "alpha 3.0 reward value 1.0 meaning prior 0.55 scorpion cost  1.0 signal cost 0.1\n",
      "alpha 3.0 reward value 1.0 meaning prior 0.575 scorpion cost  0.0 signal cost 0.0\n",
      "alpha 3.0 reward value 1.0 meaning prior 0.575 scorpion cost  0.0 signal cost 0.1\n",
      "alpha 3.0 reward value 1.0 meaning prior 0.575 scorpion cost  0.5 signal cost 0.0\n",
      "alpha 3.0 reward value 1.0 meaning prior 0.575 scorpion cost  0.5 signal cost 0.1\n",
      "alpha 3.0 reward value 1.0 meaning prior 0.575 scorpion cost  1.0 signal cost 0.0\n",
      "alpha 3.0 reward value 1.0 meaning prior 0.575 scorpion cost  1.0 signal cost 0.1\n",
      "alpha 3.0 reward value 1.0 meaning prior 0.6 scorpion cost  0.0 signal cost 0.0\n",
      "alpha 3.0 reward value 1.0 meaning prior 0.6 scorpion cost  0.0 signal cost 0.1\n",
      "alpha 3.0 reward value 1.0 meaning prior 0.6 scorpion cost  0.5 signal cost 0.0\n",
      "alpha 3.0 reward value 1.0 meaning prior 0.6 scorpion cost  0.5 signal cost 0.1\n",
      "alpha 3.0 reward value 1.0 meaning prior 0.6 scorpion cost  1.0 signal cost 0.0\n",
      "alpha 3.0 reward value 1.0 meaning prior 0.6 scorpion cost  1.0 signal cost 0.1\n",
      "alpha 3.0 reward value 1.0 meaning prior 0.625 scorpion cost  0.0 signal cost 0.0\n",
      "alpha 3.0 reward value 1.0 meaning prior 0.625 scorpion cost  0.0 signal cost 0.1\n",
      "alpha 3.0 reward value 1.0 meaning prior 0.625 scorpion cost  0.5 signal cost 0.0\n",
      "alpha 3.0 reward value 1.0 meaning prior 0.625 scorpion cost  0.5 signal cost 0.1\n",
      "alpha 3.0 reward value 1.0 meaning prior 0.625 scorpion cost  1.0 signal cost 0.0\n",
      "alpha 3.0 reward value 1.0 meaning prior 0.625 scorpion cost  1.0 signal cost 0.1\n",
      "alpha 3.0 reward value 1.0 meaning prior 0.65 scorpion cost  0.0 signal cost 0.0\n",
      "alpha 3.0 reward value 1.0 meaning prior 0.65 scorpion cost  0.0 signal cost 0.1\n",
      "alpha 3.0 reward value 1.0 meaning prior 0.65 scorpion cost  0.5 signal cost 0.0\n",
      "alpha 3.0 reward value 1.0 meaning prior 0.65 scorpion cost  0.5 signal cost 0.1\n",
      "alpha 3.0 reward value 1.0 meaning prior 0.65 scorpion cost  1.0 signal cost 0.0\n",
      "alpha 3.0 reward value 1.0 meaning prior 0.65 scorpion cost  1.0 signal cost 0.1\n",
      "alpha 3.0 reward value 1.0 meaning prior 0.675 scorpion cost  0.0 signal cost 0.0\n",
      "alpha 3.0 reward value 1.0 meaning prior 0.675 scorpion cost  0.0 signal cost 0.1\n",
      "alpha 3.0 reward value 1.0 meaning prior 0.675 scorpion cost  0.5 signal cost 0.0\n",
      "alpha 3.0 reward value 1.0 meaning prior 0.675 scorpion cost  0.5 signal cost 0.1\n",
      "alpha 3.0 reward value 1.0 meaning prior 0.675 scorpion cost  1.0 signal cost 0.0\n",
      "alpha 3.0 reward value 1.0 meaning prior 0.675 scorpion cost  1.0 signal cost 0.1\n",
      "alpha 3.0 reward value 1.0 meaning prior 0.7 scorpion cost  0.0 signal cost 0.0\n",
      "alpha 3.0 reward value 1.0 meaning prior 0.7 scorpion cost  0.0 signal cost 0.1\n",
      "alpha 3.0 reward value 1.0 meaning prior 0.7 scorpion cost  0.5 signal cost 0.0\n",
      "alpha 3.0 reward value 1.0 meaning prior 0.7 scorpion cost  0.5 signal cost 0.1\n",
      "alpha 3.0 reward value 1.0 meaning prior 0.7 scorpion cost  1.0 signal cost 0.0\n",
      "alpha 3.0 reward value 1.0 meaning prior 0.7 scorpion cost  1.0 signal cost 0.1\n",
      "alpha 3.0 reward value 1.0 meaning prior 0.725 scorpion cost  0.0 signal cost 0.0\n",
      "alpha 3.0 reward value 1.0 meaning prior 0.725 scorpion cost  0.0 signal cost 0.1\n",
      "alpha 3.0 reward value 1.0 meaning prior 0.725 scorpion cost  0.5 signal cost 0.0\n",
      "alpha 3.0 reward value 1.0 meaning prior 0.725 scorpion cost  0.5 signal cost 0.1\n",
      "alpha 3.0 reward value 1.0 meaning prior 0.725 scorpion cost  1.0 signal cost 0.0\n",
      "alpha 3.0 reward value 1.0 meaning prior 0.725 scorpion cost  1.0 signal cost 0.1\n",
      "alpha 3.0 reward value 1.0 meaning prior 0.75 scorpion cost  0.0 signal cost 0.0\n",
      "alpha 3.0 reward value 1.0 meaning prior 0.75 scorpion cost  0.0 signal cost 0.1\n",
      "alpha 3.0 reward value 1.0 meaning prior 0.75 scorpion cost  0.5 signal cost 0.0\n",
      "alpha 3.0 reward value 1.0 meaning prior 0.75 scorpion cost  0.5 signal cost 0.1\n",
      "alpha 3.0 reward value 1.0 meaning prior 0.75 scorpion cost  1.0 signal cost 0.0\n",
      "alpha 3.0 reward value 1.0 meaning prior 0.75 scorpion cost  1.0 signal cost 0.1\n",
      "alpha 3.0 reward value 1.0 meaning prior 0.766 scorpion cost  0.0 signal cost 0.0\n",
      "alpha 3.0 reward value 1.0 meaning prior 0.766 scorpion cost  0.0 signal cost 0.1\n",
      "alpha 3.0 reward value 1.0 meaning prior 0.766 scorpion cost  0.5 signal cost 0.0\n",
      "alpha 3.0 reward value 1.0 meaning prior 0.766 scorpion cost  0.5 signal cost 0.1\n",
      "alpha 3.0 reward value 1.0 meaning prior 0.766 scorpion cost  1.0 signal cost 0.0\n",
      "alpha 3.0 reward value 1.0 meaning prior 0.766 scorpion cost  1.0 signal cost 0.1\n",
      "alpha 4.0 reward value 1.0 meaning prior 0.55 scorpion cost  0.0 signal cost 0.0\n",
      "alpha 4.0 reward value 1.0 meaning prior 0.55 scorpion cost  0.0 signal cost 0.1\n",
      "alpha 4.0 reward value 1.0 meaning prior 0.55 scorpion cost  0.5 signal cost 0.0\n",
      "alpha 4.0 reward value 1.0 meaning prior 0.55 scorpion cost  0.5 signal cost 0.1\n",
      "alpha 4.0 reward value 1.0 meaning prior 0.55 scorpion cost  1.0 signal cost 0.0\n",
      "alpha 4.0 reward value 1.0 meaning prior 0.55 scorpion cost  1.0 signal cost 0.1\n",
      "alpha 4.0 reward value 1.0 meaning prior 0.575 scorpion cost  0.0 signal cost 0.0\n",
      "alpha 4.0 reward value 1.0 meaning prior 0.575 scorpion cost  0.0 signal cost 0.1\n",
      "alpha 4.0 reward value 1.0 meaning prior 0.575 scorpion cost  0.5 signal cost 0.0\n",
      "alpha 4.0 reward value 1.0 meaning prior 0.575 scorpion cost  0.5 signal cost 0.1\n",
      "alpha 4.0 reward value 1.0 meaning prior 0.575 scorpion cost  1.0 signal cost 0.0\n",
      "alpha 4.0 reward value 1.0 meaning prior 0.575 scorpion cost  1.0 signal cost 0.1\n",
      "alpha 4.0 reward value 1.0 meaning prior 0.6 scorpion cost  0.0 signal cost 0.0\n",
      "alpha 4.0 reward value 1.0 meaning prior 0.6 scorpion cost  0.0 signal cost 0.1\n",
      "alpha 4.0 reward value 1.0 meaning prior 0.6 scorpion cost  0.5 signal cost 0.0\n",
      "alpha 4.0 reward value 1.0 meaning prior 0.6 scorpion cost  0.5 signal cost 0.1\n",
      "alpha 4.0 reward value 1.0 meaning prior 0.6 scorpion cost  1.0 signal cost 0.0\n",
      "alpha 4.0 reward value 1.0 meaning prior 0.6 scorpion cost  1.0 signal cost 0.1\n",
      "alpha 4.0 reward value 1.0 meaning prior 0.625 scorpion cost  0.0 signal cost 0.0\n",
      "alpha 4.0 reward value 1.0 meaning prior 0.625 scorpion cost  0.0 signal cost 0.1\n",
      "alpha 4.0 reward value 1.0 meaning prior 0.625 scorpion cost  0.5 signal cost 0.0\n",
      "alpha 4.0 reward value 1.0 meaning prior 0.625 scorpion cost  0.5 signal cost 0.1\n"
     ]
    },
    {
     "name": "stdout",
     "output_type": "stream",
     "text": [
      "alpha 4.0 reward value 1.0 meaning prior 0.625 scorpion cost  1.0 signal cost 0.0\n",
      "alpha 4.0 reward value 1.0 meaning prior 0.625 scorpion cost  1.0 signal cost 0.1\n",
      "alpha 4.0 reward value 1.0 meaning prior 0.65 scorpion cost  0.0 signal cost 0.0\n",
      "alpha 4.0 reward value 1.0 meaning prior 0.65 scorpion cost  0.0 signal cost 0.1\n",
      "alpha 4.0 reward value 1.0 meaning prior 0.65 scorpion cost  0.5 signal cost 0.0\n",
      "alpha 4.0 reward value 1.0 meaning prior 0.65 scorpion cost  0.5 signal cost 0.1\n",
      "alpha 4.0 reward value 1.0 meaning prior 0.65 scorpion cost  1.0 signal cost 0.0\n",
      "alpha 4.0 reward value 1.0 meaning prior 0.65 scorpion cost  1.0 signal cost 0.1\n",
      "alpha 4.0 reward value 1.0 meaning prior 0.675 scorpion cost  0.0 signal cost 0.0\n",
      "alpha 4.0 reward value 1.0 meaning prior 0.675 scorpion cost  0.0 signal cost 0.1\n",
      "alpha 4.0 reward value 1.0 meaning prior 0.675 scorpion cost  0.5 signal cost 0.0\n",
      "alpha 4.0 reward value 1.0 meaning prior 0.675 scorpion cost  0.5 signal cost 0.1\n",
      "alpha 4.0 reward value 1.0 meaning prior 0.675 scorpion cost  1.0 signal cost 0.0\n",
      "alpha 4.0 reward value 1.0 meaning prior 0.675 scorpion cost  1.0 signal cost 0.1\n",
      "alpha 4.0 reward value 1.0 meaning prior 0.7 scorpion cost  0.0 signal cost 0.0\n",
      "alpha 4.0 reward value 1.0 meaning prior 0.7 scorpion cost  0.0 signal cost 0.1\n",
      "alpha 4.0 reward value 1.0 meaning prior 0.7 scorpion cost  0.5 signal cost 0.0\n",
      "alpha 4.0 reward value 1.0 meaning prior 0.7 scorpion cost  0.5 signal cost 0.1\n",
      "alpha 4.0 reward value 1.0 meaning prior 0.7 scorpion cost  1.0 signal cost 0.0\n",
      "alpha 4.0 reward value 1.0 meaning prior 0.7 scorpion cost  1.0 signal cost 0.1\n",
      "alpha 4.0 reward value 1.0 meaning prior 0.725 scorpion cost  0.0 signal cost 0.0\n",
      "alpha 4.0 reward value 1.0 meaning prior 0.725 scorpion cost  0.0 signal cost 0.1\n",
      "alpha 4.0 reward value 1.0 meaning prior 0.725 scorpion cost  0.5 signal cost 0.0\n",
      "alpha 4.0 reward value 1.0 meaning prior 0.725 scorpion cost  0.5 signal cost 0.1\n",
      "alpha 4.0 reward value 1.0 meaning prior 0.725 scorpion cost  1.0 signal cost 0.0\n",
      "alpha 4.0 reward value 1.0 meaning prior 0.725 scorpion cost  1.0 signal cost 0.1\n",
      "alpha 4.0 reward value 1.0 meaning prior 0.75 scorpion cost  0.0 signal cost 0.0\n",
      "alpha 4.0 reward value 1.0 meaning prior 0.75 scorpion cost  0.0 signal cost 0.1\n",
      "alpha 4.0 reward value 1.0 meaning prior 0.75 scorpion cost  0.5 signal cost 0.0\n",
      "alpha 4.0 reward value 1.0 meaning prior 0.75 scorpion cost  0.5 signal cost 0.1\n",
      "alpha 4.0 reward value 1.0 meaning prior 0.75 scorpion cost  1.0 signal cost 0.0\n",
      "alpha 4.0 reward value 1.0 meaning prior 0.75 scorpion cost  1.0 signal cost 0.1\n",
      "alpha 4.0 reward value 1.0 meaning prior 0.766 scorpion cost  0.0 signal cost 0.0\n",
      "alpha 4.0 reward value 1.0 meaning prior 0.766 scorpion cost  0.0 signal cost 0.1\n",
      "alpha 4.0 reward value 1.0 meaning prior 0.766 scorpion cost  0.5 signal cost 0.0\n",
      "alpha 4.0 reward value 1.0 meaning prior 0.766 scorpion cost  0.5 signal cost 0.1\n",
      "alpha 4.0 reward value 1.0 meaning prior 0.766 scorpion cost  1.0 signal cost 0.0\n",
      "alpha 4.0 reward value 1.0 meaning prior 0.766 scorpion cost  1.0 signal cost 0.1\n",
      "alpha 5.0 reward value 1.0 meaning prior 0.55 scorpion cost  0.0 signal cost 0.0\n",
      "alpha 5.0 reward value 1.0 meaning prior 0.55 scorpion cost  0.0 signal cost 0.1\n",
      "alpha 5.0 reward value 1.0 meaning prior 0.55 scorpion cost  0.5 signal cost 0.0\n",
      "alpha 5.0 reward value 1.0 meaning prior 0.55 scorpion cost  0.5 signal cost 0.1\n",
      "alpha 5.0 reward value 1.0 meaning prior 0.55 scorpion cost  1.0 signal cost 0.0\n",
      "alpha 5.0 reward value 1.0 meaning prior 0.55 scorpion cost  1.0 signal cost 0.1\n",
      "alpha 5.0 reward value 1.0 meaning prior 0.575 scorpion cost  0.0 signal cost 0.0\n",
      "alpha 5.0 reward value 1.0 meaning prior 0.575 scorpion cost  0.0 signal cost 0.1\n",
      "alpha 5.0 reward value 1.0 meaning prior 0.575 scorpion cost  0.5 signal cost 0.0\n",
      "alpha 5.0 reward value 1.0 meaning prior 0.575 scorpion cost  0.5 signal cost 0.1\n",
      "alpha 5.0 reward value 1.0 meaning prior 0.575 scorpion cost  1.0 signal cost 0.0\n",
      "alpha 5.0 reward value 1.0 meaning prior 0.575 scorpion cost  1.0 signal cost 0.1\n",
      "alpha 5.0 reward value 1.0 meaning prior 0.6 scorpion cost  0.0 signal cost 0.0\n",
      "alpha 5.0 reward value 1.0 meaning prior 0.6 scorpion cost  0.0 signal cost 0.1\n",
      "alpha 5.0 reward value 1.0 meaning prior 0.6 scorpion cost  0.5 signal cost 0.0\n",
      "alpha 5.0 reward value 1.0 meaning prior 0.6 scorpion cost  0.5 signal cost 0.1\n",
      "alpha 5.0 reward value 1.0 meaning prior 0.6 scorpion cost  1.0 signal cost 0.0\n",
      "alpha 5.0 reward value 1.0 meaning prior 0.6 scorpion cost  1.0 signal cost 0.1\n",
      "alpha 5.0 reward value 1.0 meaning prior 0.625 scorpion cost  0.0 signal cost 0.0\n",
      "alpha 5.0 reward value 1.0 meaning prior 0.625 scorpion cost  0.0 signal cost 0.1\n",
      "alpha 5.0 reward value 1.0 meaning prior 0.625 scorpion cost  0.5 signal cost 0.0\n",
      "alpha 5.0 reward value 1.0 meaning prior 0.625 scorpion cost  0.5 signal cost 0.1\n",
      "alpha 5.0 reward value 1.0 meaning prior 0.625 scorpion cost  1.0 signal cost 0.0\n",
      "alpha 5.0 reward value 1.0 meaning prior 0.625 scorpion cost  1.0 signal cost 0.1\n",
      "alpha 5.0 reward value 1.0 meaning prior 0.65 scorpion cost  0.0 signal cost 0.0\n",
      "alpha 5.0 reward value 1.0 meaning prior 0.65 scorpion cost  0.0 signal cost 0.1\n",
      "alpha 5.0 reward value 1.0 meaning prior 0.65 scorpion cost  0.5 signal cost 0.0\n",
      "alpha 5.0 reward value 1.0 meaning prior 0.65 scorpion cost  0.5 signal cost 0.1\n",
      "alpha 5.0 reward value 1.0 meaning prior 0.65 scorpion cost  1.0 signal cost 0.0\n",
      "alpha 5.0 reward value 1.0 meaning prior 0.65 scorpion cost  1.0 signal cost 0.1\n",
      "alpha 5.0 reward value 1.0 meaning prior 0.675 scorpion cost  0.0 signal cost 0.0\n",
      "alpha 5.0 reward value 1.0 meaning prior 0.675 scorpion cost  0.0 signal cost 0.1\n",
      "alpha 5.0 reward value 1.0 meaning prior 0.675 scorpion cost  0.5 signal cost 0.0\n",
      "alpha 5.0 reward value 1.0 meaning prior 0.675 scorpion cost  0.5 signal cost 0.1\n",
      "alpha 5.0 reward value 1.0 meaning prior 0.675 scorpion cost  1.0 signal cost 0.0\n",
      "alpha 5.0 reward value 1.0 meaning prior 0.675 scorpion cost  1.0 signal cost 0.1\n",
      "alpha 5.0 reward value 1.0 meaning prior 0.7 scorpion cost  0.0 signal cost 0.0\n",
      "alpha 5.0 reward value 1.0 meaning prior 0.7 scorpion cost  0.0 signal cost 0.1\n",
      "alpha 5.0 reward value 1.0 meaning prior 0.7 scorpion cost  0.5 signal cost 0.0\n",
      "alpha 5.0 reward value 1.0 meaning prior 0.7 scorpion cost  0.5 signal cost 0.1\n",
      "alpha 5.0 reward value 1.0 meaning prior 0.7 scorpion cost  1.0 signal cost 0.0\n",
      "alpha 5.0 reward value 1.0 meaning prior 0.7 scorpion cost  1.0 signal cost 0.1\n",
      "alpha 5.0 reward value 1.0 meaning prior 0.725 scorpion cost  0.0 signal cost 0.0\n",
      "alpha 5.0 reward value 1.0 meaning prior 0.725 scorpion cost  0.0 signal cost 0.1\n",
      "alpha 5.0 reward value 1.0 meaning prior 0.725 scorpion cost  0.5 signal cost 0.0\n",
      "alpha 5.0 reward value 1.0 meaning prior 0.725 scorpion cost  0.5 signal cost 0.1\n",
      "alpha 5.0 reward value 1.0 meaning prior 0.725 scorpion cost  1.0 signal cost 0.0\n",
      "alpha 5.0 reward value 1.0 meaning prior 0.725 scorpion cost  1.0 signal cost 0.1\n",
      "alpha 5.0 reward value 1.0 meaning prior 0.75 scorpion cost  0.0 signal cost 0.0\n",
      "alpha 5.0 reward value 1.0 meaning prior 0.75 scorpion cost  0.0 signal cost 0.1\n",
      "alpha 5.0 reward value 1.0 meaning prior 0.75 scorpion cost  0.5 signal cost 0.0\n",
      "alpha 5.0 reward value 1.0 meaning prior 0.75 scorpion cost  0.5 signal cost 0.1\n",
      "alpha 5.0 reward value 1.0 meaning prior 0.75 scorpion cost  1.0 signal cost 0.0\n",
      "alpha 5.0 reward value 1.0 meaning prior 0.75 scorpion cost  1.0 signal cost 0.1\n",
      "alpha 5.0 reward value 1.0 meaning prior 0.766 scorpion cost  0.0 signal cost 0.0\n",
      "alpha 5.0 reward value 1.0 meaning prior 0.766 scorpion cost  0.0 signal cost 0.1\n",
      "alpha 5.0 reward value 1.0 meaning prior 0.766 scorpion cost  0.5 signal cost 0.0\n",
      "alpha 5.0 reward value 1.0 meaning prior 0.766 scorpion cost  0.5 signal cost 0.1\n",
      "alpha 5.0 reward value 1.0 meaning prior 0.766 scorpion cost  1.0 signal cost 0.0\n",
      "alpha 5.0 reward value 1.0 meaning prior 0.766 scorpion cost  1.0 signal cost 0.1\n",
      "alpha 6.0 reward value 1.0 meaning prior 0.55 scorpion cost  0.0 signal cost 0.0\n",
      "alpha 6.0 reward value 1.0 meaning prior 0.55 scorpion cost  0.0 signal cost 0.1\n",
      "alpha 6.0 reward value 1.0 meaning prior 0.55 scorpion cost  0.5 signal cost 0.0\n"
     ]
    },
    {
     "name": "stdout",
     "output_type": "stream",
     "text": [
      "alpha 6.0 reward value 1.0 meaning prior 0.55 scorpion cost  0.5 signal cost 0.1\n",
      "alpha 6.0 reward value 1.0 meaning prior 0.55 scorpion cost  1.0 signal cost 0.0\n",
      "alpha 6.0 reward value 1.0 meaning prior 0.55 scorpion cost  1.0 signal cost 0.1\n",
      "alpha 6.0 reward value 1.0 meaning prior 0.575 scorpion cost  0.0 signal cost 0.0\n",
      "alpha 6.0 reward value 1.0 meaning prior 0.575 scorpion cost  0.0 signal cost 0.1\n",
      "alpha 6.0 reward value 1.0 meaning prior 0.575 scorpion cost  0.5 signal cost 0.0\n",
      "alpha 6.0 reward value 1.0 meaning prior 0.575 scorpion cost  0.5 signal cost 0.1\n",
      "alpha 6.0 reward value 1.0 meaning prior 0.575 scorpion cost  1.0 signal cost 0.0\n",
      "alpha 6.0 reward value 1.0 meaning prior 0.575 scorpion cost  1.0 signal cost 0.1\n",
      "alpha 6.0 reward value 1.0 meaning prior 0.6 scorpion cost  0.0 signal cost 0.0\n",
      "alpha 6.0 reward value 1.0 meaning prior 0.6 scorpion cost  0.0 signal cost 0.1\n",
      "alpha 6.0 reward value 1.0 meaning prior 0.6 scorpion cost  0.5 signal cost 0.0\n",
      "alpha 6.0 reward value 1.0 meaning prior 0.6 scorpion cost  0.5 signal cost 0.1\n",
      "alpha 6.0 reward value 1.0 meaning prior 0.6 scorpion cost  1.0 signal cost 0.0\n",
      "alpha 6.0 reward value 1.0 meaning prior 0.6 scorpion cost  1.0 signal cost 0.1\n",
      "alpha 6.0 reward value 1.0 meaning prior 0.625 scorpion cost  0.0 signal cost 0.0\n",
      "alpha 6.0 reward value 1.0 meaning prior 0.625 scorpion cost  0.0 signal cost 0.1\n",
      "alpha 6.0 reward value 1.0 meaning prior 0.625 scorpion cost  0.5 signal cost 0.0\n",
      "alpha 6.0 reward value 1.0 meaning prior 0.625 scorpion cost  0.5 signal cost 0.1\n",
      "alpha 6.0 reward value 1.0 meaning prior 0.625 scorpion cost  1.0 signal cost 0.0\n",
      "alpha 6.0 reward value 1.0 meaning prior 0.625 scorpion cost  1.0 signal cost 0.1\n",
      "alpha 6.0 reward value 1.0 meaning prior 0.65 scorpion cost  0.0 signal cost 0.0\n",
      "alpha 6.0 reward value 1.0 meaning prior 0.65 scorpion cost  0.0 signal cost 0.1\n",
      "alpha 6.0 reward value 1.0 meaning prior 0.65 scorpion cost  0.5 signal cost 0.0\n",
      "alpha 6.0 reward value 1.0 meaning prior 0.65 scorpion cost  0.5 signal cost 0.1\n",
      "alpha 6.0 reward value 1.0 meaning prior 0.65 scorpion cost  1.0 signal cost 0.0\n",
      "alpha 6.0 reward value 1.0 meaning prior 0.65 scorpion cost  1.0 signal cost 0.1\n",
      "alpha 6.0 reward value 1.0 meaning prior 0.675 scorpion cost  0.0 signal cost 0.0\n",
      "alpha 6.0 reward value 1.0 meaning prior 0.675 scorpion cost  0.0 signal cost 0.1\n",
      "alpha 6.0 reward value 1.0 meaning prior 0.675 scorpion cost  0.5 signal cost 0.0\n",
      "alpha 6.0 reward value 1.0 meaning prior 0.675 scorpion cost  0.5 signal cost 0.1\n",
      "alpha 6.0 reward value 1.0 meaning prior 0.675 scorpion cost  1.0 signal cost 0.0\n",
      "alpha 6.0 reward value 1.0 meaning prior 0.675 scorpion cost  1.0 signal cost 0.1\n",
      "alpha 6.0 reward value 1.0 meaning prior 0.7 scorpion cost  0.0 signal cost 0.0\n",
      "alpha 6.0 reward value 1.0 meaning prior 0.7 scorpion cost  0.0 signal cost 0.1\n",
      "alpha 6.0 reward value 1.0 meaning prior 0.7 scorpion cost  0.5 signal cost 0.0\n",
      "alpha 6.0 reward value 1.0 meaning prior 0.7 scorpion cost  0.5 signal cost 0.1\n",
      "alpha 6.0 reward value 1.0 meaning prior 0.7 scorpion cost  1.0 signal cost 0.0\n",
      "alpha 6.0 reward value 1.0 meaning prior 0.7 scorpion cost  1.0 signal cost 0.1\n",
      "alpha 6.0 reward value 1.0 meaning prior 0.725 scorpion cost  0.0 signal cost 0.0\n",
      "alpha 6.0 reward value 1.0 meaning prior 0.725 scorpion cost  0.0 signal cost 0.1\n",
      "alpha 6.0 reward value 1.0 meaning prior 0.725 scorpion cost  0.5 signal cost 0.0\n",
      "alpha 6.0 reward value 1.0 meaning prior 0.725 scorpion cost  0.5 signal cost 0.1\n",
      "alpha 6.0 reward value 1.0 meaning prior 0.725 scorpion cost  1.0 signal cost 0.0\n",
      "alpha 6.0 reward value 1.0 meaning prior 0.725 scorpion cost  1.0 signal cost 0.1\n",
      "alpha 6.0 reward value 1.0 meaning prior 0.75 scorpion cost  0.0 signal cost 0.0\n",
      "alpha 6.0 reward value 1.0 meaning prior 0.75 scorpion cost  0.0 signal cost 0.1\n",
      "alpha 6.0 reward value 1.0 meaning prior 0.75 scorpion cost  0.5 signal cost 0.0\n",
      "alpha 6.0 reward value 1.0 meaning prior 0.75 scorpion cost  0.5 signal cost 0.1\n",
      "alpha 6.0 reward value 1.0 meaning prior 0.75 scorpion cost  1.0 signal cost 0.0\n",
      "alpha 6.0 reward value 1.0 meaning prior 0.75 scorpion cost  1.0 signal cost 0.1\n",
      "alpha 6.0 reward value 1.0 meaning prior 0.766 scorpion cost  0.0 signal cost 0.0\n",
      "alpha 6.0 reward value 1.0 meaning prior 0.766 scorpion cost  0.0 signal cost 0.1\n",
      "alpha 6.0 reward value 1.0 meaning prior 0.766 scorpion cost  0.5 signal cost 0.0\n",
      "alpha 6.0 reward value 1.0 meaning prior 0.766 scorpion cost  0.5 signal cost 0.1\n",
      "alpha 6.0 reward value 1.0 meaning prior 0.766 scorpion cost  1.0 signal cost 0.0\n",
      "alpha 6.0 reward value 1.0 meaning prior 0.766 scorpion cost  1.0 signal cost 0.1\n",
      "alpha 7.0 reward value 1.0 meaning prior 0.55 scorpion cost  0.0 signal cost 0.0\n",
      "alpha 7.0 reward value 1.0 meaning prior 0.55 scorpion cost  0.0 signal cost 0.1\n",
      "alpha 7.0 reward value 1.0 meaning prior 0.55 scorpion cost  0.5 signal cost 0.0\n",
      "alpha 7.0 reward value 1.0 meaning prior 0.55 scorpion cost  0.5 signal cost 0.1\n",
      "alpha 7.0 reward value 1.0 meaning prior 0.55 scorpion cost  1.0 signal cost 0.0\n",
      "alpha 7.0 reward value 1.0 meaning prior 0.55 scorpion cost  1.0 signal cost 0.1\n",
      "alpha 7.0 reward value 1.0 meaning prior 0.575 scorpion cost  0.0 signal cost 0.0\n",
      "alpha 7.0 reward value 1.0 meaning prior 0.575 scorpion cost  0.0 signal cost 0.1\n",
      "alpha 7.0 reward value 1.0 meaning prior 0.575 scorpion cost  0.5 signal cost 0.0\n",
      "alpha 7.0 reward value 1.0 meaning prior 0.575 scorpion cost  0.5 signal cost 0.1\n",
      "alpha 7.0 reward value 1.0 meaning prior 0.575 scorpion cost  1.0 signal cost 0.0\n",
      "alpha 7.0 reward value 1.0 meaning prior 0.575 scorpion cost  1.0 signal cost 0.1\n",
      "alpha 7.0 reward value 1.0 meaning prior 0.6 scorpion cost  0.0 signal cost 0.0\n",
      "alpha 7.0 reward value 1.0 meaning prior 0.6 scorpion cost  0.0 signal cost 0.1\n",
      "alpha 7.0 reward value 1.0 meaning prior 0.6 scorpion cost  0.5 signal cost 0.0\n",
      "alpha 7.0 reward value 1.0 meaning prior 0.6 scorpion cost  0.5 signal cost 0.1\n",
      "alpha 7.0 reward value 1.0 meaning prior 0.6 scorpion cost  1.0 signal cost 0.0\n",
      "alpha 7.0 reward value 1.0 meaning prior 0.6 scorpion cost  1.0 signal cost 0.1\n",
      "alpha 7.0 reward value 1.0 meaning prior 0.625 scorpion cost  0.0 signal cost 0.0\n",
      "alpha 7.0 reward value 1.0 meaning prior 0.625 scorpion cost  0.0 signal cost 0.1\n",
      "alpha 7.0 reward value 1.0 meaning prior 0.625 scorpion cost  0.5 signal cost 0.0\n",
      "alpha 7.0 reward value 1.0 meaning prior 0.625 scorpion cost  0.5 signal cost 0.1\n",
      "alpha 7.0 reward value 1.0 meaning prior 0.625 scorpion cost  1.0 signal cost 0.0\n",
      "alpha 7.0 reward value 1.0 meaning prior 0.625 scorpion cost  1.0 signal cost 0.1\n",
      "alpha 7.0 reward value 1.0 meaning prior 0.65 scorpion cost  0.0 signal cost 0.0\n",
      "alpha 7.0 reward value 1.0 meaning prior 0.65 scorpion cost  0.0 signal cost 0.1\n",
      "alpha 7.0 reward value 1.0 meaning prior 0.65 scorpion cost  0.5 signal cost 0.0\n",
      "alpha 7.0 reward value 1.0 meaning prior 0.65 scorpion cost  0.5 signal cost 0.1\n",
      "alpha 7.0 reward value 1.0 meaning prior 0.65 scorpion cost  1.0 signal cost 0.0\n",
      "alpha 7.0 reward value 1.0 meaning prior 0.65 scorpion cost  1.0 signal cost 0.1\n",
      "alpha 7.0 reward value 1.0 meaning prior 0.675 scorpion cost  0.0 signal cost 0.0\n",
      "alpha 7.0 reward value 1.0 meaning prior 0.675 scorpion cost  0.0 signal cost 0.1\n",
      "alpha 7.0 reward value 1.0 meaning prior 0.675 scorpion cost  0.5 signal cost 0.0\n",
      "alpha 7.0 reward value 1.0 meaning prior 0.675 scorpion cost  0.5 signal cost 0.1\n",
      "alpha 7.0 reward value 1.0 meaning prior 0.675 scorpion cost  1.0 signal cost 0.0\n",
      "alpha 7.0 reward value 1.0 meaning prior 0.675 scorpion cost  1.0 signal cost 0.1\n",
      "alpha 7.0 reward value 1.0 meaning prior 0.7 scorpion cost  0.0 signal cost 0.0\n",
      "alpha 7.0 reward value 1.0 meaning prior 0.7 scorpion cost  0.0 signal cost 0.1\n",
      "alpha 7.0 reward value 1.0 meaning prior 0.7 scorpion cost  0.5 signal cost 0.0\n",
      "alpha 7.0 reward value 1.0 meaning prior 0.7 scorpion cost  0.5 signal cost 0.1\n",
      "alpha 7.0 reward value 1.0 meaning prior 0.7 scorpion cost  1.0 signal cost 0.0\n",
      "alpha 7.0 reward value 1.0 meaning prior 0.7 scorpion cost  1.0 signal cost 0.1\n",
      "alpha 7.0 reward value 1.0 meaning prior 0.725 scorpion cost  0.0 signal cost 0.0\n",
      "alpha 7.0 reward value 1.0 meaning prior 0.725 scorpion cost  0.0 signal cost 0.1\n"
     ]
    },
    {
     "name": "stdout",
     "output_type": "stream",
     "text": [
      "alpha 7.0 reward value 1.0 meaning prior 0.725 scorpion cost  0.5 signal cost 0.0\n",
      "alpha 7.0 reward value 1.0 meaning prior 0.725 scorpion cost  0.5 signal cost 0.1\n",
      "alpha 7.0 reward value 1.0 meaning prior 0.725 scorpion cost  1.0 signal cost 0.0\n",
      "alpha 7.0 reward value 1.0 meaning prior 0.725 scorpion cost  1.0 signal cost 0.1\n",
      "alpha 7.0 reward value 1.0 meaning prior 0.75 scorpion cost  0.0 signal cost 0.0\n",
      "alpha 7.0 reward value 1.0 meaning prior 0.75 scorpion cost  0.0 signal cost 0.1\n",
      "alpha 7.0 reward value 1.0 meaning prior 0.75 scorpion cost  0.5 signal cost 0.0\n",
      "alpha 7.0 reward value 1.0 meaning prior 0.75 scorpion cost  0.5 signal cost 0.1\n",
      "alpha 7.0 reward value 1.0 meaning prior 0.75 scorpion cost  1.0 signal cost 0.0\n",
      "alpha 7.0 reward value 1.0 meaning prior 0.75 scorpion cost  1.0 signal cost 0.1\n",
      "alpha 7.0 reward value 1.0 meaning prior 0.766 scorpion cost  0.0 signal cost 0.0\n",
      "alpha 7.0 reward value 1.0 meaning prior 0.766 scorpion cost  0.0 signal cost 0.1\n",
      "alpha 7.0 reward value 1.0 meaning prior 0.766 scorpion cost  0.5 signal cost 0.0\n",
      "alpha 7.0 reward value 1.0 meaning prior 0.766 scorpion cost  0.5 signal cost 0.1\n",
      "alpha 7.0 reward value 1.0 meaning prior 0.766 scorpion cost  1.0 signal cost 0.0\n",
      "alpha 7.0 reward value 1.0 meaning prior 0.766 scorpion cost  1.0 signal cost 0.1\n",
      "alpha 8.0 reward value 1.0 meaning prior 0.55 scorpion cost  0.0 signal cost 0.0\n",
      "alpha 8.0 reward value 1.0 meaning prior 0.55 scorpion cost  0.0 signal cost 0.1\n",
      "alpha 8.0 reward value 1.0 meaning prior 0.55 scorpion cost  0.5 signal cost 0.0\n",
      "alpha 8.0 reward value 1.0 meaning prior 0.55 scorpion cost  0.5 signal cost 0.1\n",
      "alpha 8.0 reward value 1.0 meaning prior 0.55 scorpion cost  1.0 signal cost 0.0\n",
      "alpha 8.0 reward value 1.0 meaning prior 0.55 scorpion cost  1.0 signal cost 0.1\n",
      "alpha 8.0 reward value 1.0 meaning prior 0.575 scorpion cost  0.0 signal cost 0.0\n",
      "alpha 8.0 reward value 1.0 meaning prior 0.575 scorpion cost  0.0 signal cost 0.1\n",
      "alpha 8.0 reward value 1.0 meaning prior 0.575 scorpion cost  0.5 signal cost 0.0\n",
      "alpha 8.0 reward value 1.0 meaning prior 0.575 scorpion cost  0.5 signal cost 0.1\n",
      "alpha 8.0 reward value 1.0 meaning prior 0.575 scorpion cost  1.0 signal cost 0.0\n",
      "alpha 8.0 reward value 1.0 meaning prior 0.575 scorpion cost  1.0 signal cost 0.1\n",
      "alpha 8.0 reward value 1.0 meaning prior 0.6 scorpion cost  0.0 signal cost 0.0\n",
      "alpha 8.0 reward value 1.0 meaning prior 0.6 scorpion cost  0.0 signal cost 0.1\n",
      "alpha 8.0 reward value 1.0 meaning prior 0.6 scorpion cost  0.5 signal cost 0.0\n",
      "alpha 8.0 reward value 1.0 meaning prior 0.6 scorpion cost  0.5 signal cost 0.1\n",
      "alpha 8.0 reward value 1.0 meaning prior 0.6 scorpion cost  1.0 signal cost 0.0\n",
      "alpha 8.0 reward value 1.0 meaning prior 0.6 scorpion cost  1.0 signal cost 0.1\n",
      "alpha 8.0 reward value 1.0 meaning prior 0.625 scorpion cost  0.0 signal cost 0.0\n",
      "alpha 8.0 reward value 1.0 meaning prior 0.625 scorpion cost  0.0 signal cost 0.1\n",
      "alpha 8.0 reward value 1.0 meaning prior 0.625 scorpion cost  0.5 signal cost 0.0\n",
      "alpha 8.0 reward value 1.0 meaning prior 0.625 scorpion cost  0.5 signal cost 0.1\n",
      "alpha 8.0 reward value 1.0 meaning prior 0.625 scorpion cost  1.0 signal cost 0.0\n",
      "alpha 8.0 reward value 1.0 meaning prior 0.625 scorpion cost  1.0 signal cost 0.1\n",
      "alpha 8.0 reward value 1.0 meaning prior 0.65 scorpion cost  0.0 signal cost 0.0\n",
      "alpha 8.0 reward value 1.0 meaning prior 0.65 scorpion cost  0.0 signal cost 0.1\n",
      "alpha 8.0 reward value 1.0 meaning prior 0.65 scorpion cost  0.5 signal cost 0.0\n",
      "alpha 8.0 reward value 1.0 meaning prior 0.65 scorpion cost  0.5 signal cost 0.1\n",
      "alpha 8.0 reward value 1.0 meaning prior 0.65 scorpion cost  1.0 signal cost 0.0\n",
      "alpha 8.0 reward value 1.0 meaning prior 0.65 scorpion cost  1.0 signal cost 0.1\n",
      "alpha 8.0 reward value 1.0 meaning prior 0.675 scorpion cost  0.0 signal cost 0.0\n",
      "alpha 8.0 reward value 1.0 meaning prior 0.675 scorpion cost  0.0 signal cost 0.1\n",
      "alpha 8.0 reward value 1.0 meaning prior 0.675 scorpion cost  0.5 signal cost 0.0\n",
      "alpha 8.0 reward value 1.0 meaning prior 0.675 scorpion cost  0.5 signal cost 0.1\n",
      "alpha 8.0 reward value 1.0 meaning prior 0.675 scorpion cost  1.0 signal cost 0.0\n",
      "alpha 8.0 reward value 1.0 meaning prior 0.675 scorpion cost  1.0 signal cost 0.1\n",
      "alpha 8.0 reward value 1.0 meaning prior 0.7 scorpion cost  0.0 signal cost 0.0\n",
      "alpha 8.0 reward value 1.0 meaning prior 0.7 scorpion cost  0.0 signal cost 0.1\n",
      "alpha 8.0 reward value 1.0 meaning prior 0.7 scorpion cost  0.5 signal cost 0.0\n",
      "alpha 8.0 reward value 1.0 meaning prior 0.7 scorpion cost  0.5 signal cost 0.1\n",
      "alpha 8.0 reward value 1.0 meaning prior 0.7 scorpion cost  1.0 signal cost 0.0\n",
      "alpha 8.0 reward value 1.0 meaning prior 0.7 scorpion cost  1.0 signal cost 0.1\n",
      "alpha 8.0 reward value 1.0 meaning prior 0.725 scorpion cost  0.0 signal cost 0.0\n",
      "alpha 8.0 reward value 1.0 meaning prior 0.725 scorpion cost  0.0 signal cost 0.1\n",
      "alpha 8.0 reward value 1.0 meaning prior 0.725 scorpion cost  0.5 signal cost 0.0\n",
      "alpha 8.0 reward value 1.0 meaning prior 0.725 scorpion cost  0.5 signal cost 0.1\n",
      "alpha 8.0 reward value 1.0 meaning prior 0.725 scorpion cost  1.0 signal cost 0.0\n",
      "alpha 8.0 reward value 1.0 meaning prior 0.725 scorpion cost  1.0 signal cost 0.1\n",
      "alpha 8.0 reward value 1.0 meaning prior 0.75 scorpion cost  0.0 signal cost 0.0\n",
      "alpha 8.0 reward value 1.0 meaning prior 0.75 scorpion cost  0.0 signal cost 0.1\n",
      "alpha 8.0 reward value 1.0 meaning prior 0.75 scorpion cost  0.5 signal cost 0.0\n",
      "alpha 8.0 reward value 1.0 meaning prior 0.75 scorpion cost  0.5 signal cost 0.1\n",
      "alpha 8.0 reward value 1.0 meaning prior 0.75 scorpion cost  1.0 signal cost 0.0\n",
      "alpha 8.0 reward value 1.0 meaning prior 0.75 scorpion cost  1.0 signal cost 0.1\n",
      "alpha 8.0 reward value 1.0 meaning prior 0.766 scorpion cost  0.0 signal cost 0.0\n",
      "alpha 8.0 reward value 1.0 meaning prior 0.766 scorpion cost  0.0 signal cost 0.1\n",
      "alpha 8.0 reward value 1.0 meaning prior 0.766 scorpion cost  0.5 signal cost 0.0\n",
      "alpha 8.0 reward value 1.0 meaning prior 0.766 scorpion cost  0.5 signal cost 0.1\n",
      "alpha 8.0 reward value 1.0 meaning prior 0.766 scorpion cost  1.0 signal cost 0.0\n",
      "alpha 8.0 reward value 1.0 meaning prior 0.766 scorpion cost  1.0 signal cost 0.1\n",
      "alpha 9.0 reward value 1.0 meaning prior 0.55 scorpion cost  0.0 signal cost 0.0\n",
      "alpha 9.0 reward value 1.0 meaning prior 0.55 scorpion cost  0.0 signal cost 0.1\n",
      "alpha 9.0 reward value 1.0 meaning prior 0.55 scorpion cost  0.5 signal cost 0.0\n",
      "alpha 9.0 reward value 1.0 meaning prior 0.55 scorpion cost  0.5 signal cost 0.1\n",
      "alpha 9.0 reward value 1.0 meaning prior 0.55 scorpion cost  1.0 signal cost 0.0\n",
      "alpha 9.0 reward value 1.0 meaning prior 0.55 scorpion cost  1.0 signal cost 0.1\n",
      "alpha 9.0 reward value 1.0 meaning prior 0.575 scorpion cost  0.0 signal cost 0.0\n",
      "alpha 9.0 reward value 1.0 meaning prior 0.575 scorpion cost  0.0 signal cost 0.1\n",
      "alpha 9.0 reward value 1.0 meaning prior 0.575 scorpion cost  0.5 signal cost 0.0\n",
      "alpha 9.0 reward value 1.0 meaning prior 0.575 scorpion cost  0.5 signal cost 0.1\n",
      "alpha 9.0 reward value 1.0 meaning prior 0.575 scorpion cost  1.0 signal cost 0.0\n",
      "alpha 9.0 reward value 1.0 meaning prior 0.575 scorpion cost  1.0 signal cost 0.1\n",
      "alpha 9.0 reward value 1.0 meaning prior 0.6 scorpion cost  0.0 signal cost 0.0\n",
      "alpha 9.0 reward value 1.0 meaning prior 0.6 scorpion cost  0.0 signal cost 0.1\n",
      "alpha 9.0 reward value 1.0 meaning prior 0.6 scorpion cost  0.5 signal cost 0.0\n",
      "alpha 9.0 reward value 1.0 meaning prior 0.6 scorpion cost  0.5 signal cost 0.1\n",
      "alpha 9.0 reward value 1.0 meaning prior 0.6 scorpion cost  1.0 signal cost 0.0\n",
      "alpha 9.0 reward value 1.0 meaning prior 0.6 scorpion cost  1.0 signal cost 0.1\n",
      "alpha 9.0 reward value 1.0 meaning prior 0.625 scorpion cost  0.0 signal cost 0.0\n",
      "alpha 9.0 reward value 1.0 meaning prior 0.625 scorpion cost  0.0 signal cost 0.1\n",
      "alpha 9.0 reward value 1.0 meaning prior 0.625 scorpion cost  0.5 signal cost 0.0\n",
      "alpha 9.0 reward value 1.0 meaning prior 0.625 scorpion cost  0.5 signal cost 0.1\n",
      "alpha 9.0 reward value 1.0 meaning prior 0.625 scorpion cost  1.0 signal cost 0.0\n",
      "alpha 9.0 reward value 1.0 meaning prior 0.625 scorpion cost  1.0 signal cost 0.1\n",
      "alpha 9.0 reward value 1.0 meaning prior 0.65 scorpion cost  0.0 signal cost 0.0\n"
     ]
    },
    {
     "name": "stdout",
     "output_type": "stream",
     "text": [
      "alpha 9.0 reward value 1.0 meaning prior 0.65 scorpion cost  0.0 signal cost 0.1\n",
      "alpha 9.0 reward value 1.0 meaning prior 0.65 scorpion cost  0.5 signal cost 0.0\n",
      "alpha 9.0 reward value 1.0 meaning prior 0.65 scorpion cost  0.5 signal cost 0.1\n",
      "alpha 9.0 reward value 1.0 meaning prior 0.65 scorpion cost  1.0 signal cost 0.0\n",
      "alpha 9.0 reward value 1.0 meaning prior 0.65 scorpion cost  1.0 signal cost 0.1\n",
      "alpha 9.0 reward value 1.0 meaning prior 0.675 scorpion cost  0.0 signal cost 0.0\n",
      "alpha 9.0 reward value 1.0 meaning prior 0.675 scorpion cost  0.0 signal cost 0.1\n",
      "alpha 9.0 reward value 1.0 meaning prior 0.675 scorpion cost  0.5 signal cost 0.0\n",
      "alpha 9.0 reward value 1.0 meaning prior 0.675 scorpion cost  0.5 signal cost 0.1\n",
      "alpha 9.0 reward value 1.0 meaning prior 0.675 scorpion cost  1.0 signal cost 0.0\n",
      "alpha 9.0 reward value 1.0 meaning prior 0.675 scorpion cost  1.0 signal cost 0.1\n",
      "alpha 9.0 reward value 1.0 meaning prior 0.7 scorpion cost  0.0 signal cost 0.0\n",
      "alpha 9.0 reward value 1.0 meaning prior 0.7 scorpion cost  0.0 signal cost 0.1\n",
      "alpha 9.0 reward value 1.0 meaning prior 0.7 scorpion cost  0.5 signal cost 0.0\n",
      "alpha 9.0 reward value 1.0 meaning prior 0.7 scorpion cost  0.5 signal cost 0.1\n",
      "alpha 9.0 reward value 1.0 meaning prior 0.7 scorpion cost  1.0 signal cost 0.0\n",
      "alpha 9.0 reward value 1.0 meaning prior 0.7 scorpion cost  1.0 signal cost 0.1\n",
      "alpha 9.0 reward value 1.0 meaning prior 0.725 scorpion cost  0.0 signal cost 0.0\n",
      "alpha 9.0 reward value 1.0 meaning prior 0.725 scorpion cost  0.0 signal cost 0.1\n",
      "alpha 9.0 reward value 1.0 meaning prior 0.725 scorpion cost  0.5 signal cost 0.0\n",
      "alpha 9.0 reward value 1.0 meaning prior 0.725 scorpion cost  0.5 signal cost 0.1\n",
      "alpha 9.0 reward value 1.0 meaning prior 0.725 scorpion cost  1.0 signal cost 0.0\n",
      "alpha 9.0 reward value 1.0 meaning prior 0.725 scorpion cost  1.0 signal cost 0.1\n",
      "alpha 9.0 reward value 1.0 meaning prior 0.75 scorpion cost  0.0 signal cost 0.0\n",
      "alpha 9.0 reward value 1.0 meaning prior 0.75 scorpion cost  0.0 signal cost 0.1\n",
      "alpha 9.0 reward value 1.0 meaning prior 0.75 scorpion cost  0.5 signal cost 0.0\n",
      "alpha 9.0 reward value 1.0 meaning prior 0.75 scorpion cost  0.5 signal cost 0.1\n",
      "alpha 9.0 reward value 1.0 meaning prior 0.75 scorpion cost  1.0 signal cost 0.0\n",
      "alpha 9.0 reward value 1.0 meaning prior 0.75 scorpion cost  1.0 signal cost 0.1\n",
      "alpha 9.0 reward value 1.0 meaning prior 0.766 scorpion cost  0.0 signal cost 0.0\n",
      "alpha 9.0 reward value 1.0 meaning prior 0.766 scorpion cost  0.0 signal cost 0.1\n",
      "alpha 9.0 reward value 1.0 meaning prior 0.766 scorpion cost  0.5 signal cost 0.0\n",
      "alpha 9.0 reward value 1.0 meaning prior 0.766 scorpion cost  0.5 signal cost 0.1\n",
      "alpha 9.0 reward value 1.0 meaning prior 0.766 scorpion cost  1.0 signal cost 0.0\n",
      "alpha 9.0 reward value 1.0 meaning prior 0.766 scorpion cost  1.0 signal cost 0.1\n",
      "alpha 10.0 reward value 1.0 meaning prior 0.55 scorpion cost  0.0 signal cost 0.0\n",
      "alpha 10.0 reward value 1.0 meaning prior 0.55 scorpion cost  0.0 signal cost 0.1\n",
      "alpha 10.0 reward value 1.0 meaning prior 0.55 scorpion cost  0.5 signal cost 0.0\n",
      "alpha 10.0 reward value 1.0 meaning prior 0.55 scorpion cost  0.5 signal cost 0.1\n",
      "alpha 10.0 reward value 1.0 meaning prior 0.55 scorpion cost  1.0 signal cost 0.0\n",
      "alpha 10.0 reward value 1.0 meaning prior 0.55 scorpion cost  1.0 signal cost 0.1\n",
      "alpha 10.0 reward value 1.0 meaning prior 0.575 scorpion cost  0.0 signal cost 0.0\n",
      "alpha 10.0 reward value 1.0 meaning prior 0.575 scorpion cost  0.0 signal cost 0.1\n",
      "alpha 10.0 reward value 1.0 meaning prior 0.575 scorpion cost  0.5 signal cost 0.0\n",
      "alpha 10.0 reward value 1.0 meaning prior 0.575 scorpion cost  0.5 signal cost 0.1\n",
      "alpha 10.0 reward value 1.0 meaning prior 0.575 scorpion cost  1.0 signal cost 0.0\n",
      "alpha 10.0 reward value 1.0 meaning prior 0.575 scorpion cost  1.0 signal cost 0.1\n",
      "alpha 10.0 reward value 1.0 meaning prior 0.6 scorpion cost  0.0 signal cost 0.0\n",
      "alpha 10.0 reward value 1.0 meaning prior 0.6 scorpion cost  0.0 signal cost 0.1\n",
      "alpha 10.0 reward value 1.0 meaning prior 0.6 scorpion cost  0.5 signal cost 0.0\n",
      "alpha 10.0 reward value 1.0 meaning prior 0.6 scorpion cost  0.5 signal cost 0.1\n",
      "alpha 10.0 reward value 1.0 meaning prior 0.6 scorpion cost  1.0 signal cost 0.0\n",
      "alpha 10.0 reward value 1.0 meaning prior 0.6 scorpion cost  1.0 signal cost 0.1\n",
      "alpha 10.0 reward value 1.0 meaning prior 0.625 scorpion cost  0.0 signal cost 0.0\n",
      "alpha 10.0 reward value 1.0 meaning prior 0.625 scorpion cost  0.0 signal cost 0.1\n",
      "alpha 10.0 reward value 1.0 meaning prior 0.625 scorpion cost  0.5 signal cost 0.0\n",
      "alpha 10.0 reward value 1.0 meaning prior 0.625 scorpion cost  0.5 signal cost 0.1\n",
      "alpha 10.0 reward value 1.0 meaning prior 0.625 scorpion cost  1.0 signal cost 0.0\n",
      "alpha 10.0 reward value 1.0 meaning prior 0.625 scorpion cost  1.0 signal cost 0.1\n",
      "alpha 10.0 reward value 1.0 meaning prior 0.65 scorpion cost  0.0 signal cost 0.0\n",
      "alpha 10.0 reward value 1.0 meaning prior 0.65 scorpion cost  0.0 signal cost 0.1\n",
      "alpha 10.0 reward value 1.0 meaning prior 0.65 scorpion cost  0.5 signal cost 0.0\n",
      "alpha 10.0 reward value 1.0 meaning prior 0.65 scorpion cost  0.5 signal cost 0.1\n",
      "alpha 10.0 reward value 1.0 meaning prior 0.65 scorpion cost  1.0 signal cost 0.0\n",
      "alpha 10.0 reward value 1.0 meaning prior 0.65 scorpion cost  1.0 signal cost 0.1\n",
      "alpha 10.0 reward value 1.0 meaning prior 0.675 scorpion cost  0.0 signal cost 0.0\n",
      "alpha 10.0 reward value 1.0 meaning prior 0.675 scorpion cost  0.0 signal cost 0.1\n",
      "alpha 10.0 reward value 1.0 meaning prior 0.675 scorpion cost  0.5 signal cost 0.0\n",
      "alpha 10.0 reward value 1.0 meaning prior 0.675 scorpion cost  0.5 signal cost 0.1\n",
      "alpha 10.0 reward value 1.0 meaning prior 0.675 scorpion cost  1.0 signal cost 0.0\n",
      "alpha 10.0 reward value 1.0 meaning prior 0.675 scorpion cost  1.0 signal cost 0.1\n",
      "alpha 10.0 reward value 1.0 meaning prior 0.7 scorpion cost  0.0 signal cost 0.0\n",
      "alpha 10.0 reward value 1.0 meaning prior 0.7 scorpion cost  0.0 signal cost 0.1\n",
      "alpha 10.0 reward value 1.0 meaning prior 0.7 scorpion cost  0.5 signal cost 0.0\n",
      "alpha 10.0 reward value 1.0 meaning prior 0.7 scorpion cost  0.5 signal cost 0.1\n",
      "alpha 10.0 reward value 1.0 meaning prior 0.7 scorpion cost  1.0 signal cost 0.0\n",
      "alpha 10.0 reward value 1.0 meaning prior 0.7 scorpion cost  1.0 signal cost 0.1\n",
      "alpha 10.0 reward value 1.0 meaning prior 0.725 scorpion cost  0.0 signal cost 0.0\n",
      "alpha 10.0 reward value 1.0 meaning prior 0.725 scorpion cost  0.0 signal cost 0.1\n",
      "alpha 10.0 reward value 1.0 meaning prior 0.725 scorpion cost  0.5 signal cost 0.0\n",
      "alpha 10.0 reward value 1.0 meaning prior 0.725 scorpion cost  0.5 signal cost 0.1\n",
      "alpha 10.0 reward value 1.0 meaning prior 0.725 scorpion cost  1.0 signal cost 0.0\n",
      "alpha 10.0 reward value 1.0 meaning prior 0.725 scorpion cost  1.0 signal cost 0.1\n",
      "alpha 10.0 reward value 1.0 meaning prior 0.75 scorpion cost  0.0 signal cost 0.0\n",
      "alpha 10.0 reward value 1.0 meaning prior 0.75 scorpion cost  0.0 signal cost 0.1\n",
      "alpha 10.0 reward value 1.0 meaning prior 0.75 scorpion cost  0.5 signal cost 0.0\n",
      "alpha 10.0 reward value 1.0 meaning prior 0.75 scorpion cost  0.5 signal cost 0.1\n",
      "alpha 10.0 reward value 1.0 meaning prior 0.75 scorpion cost  1.0 signal cost 0.0\n",
      "alpha 10.0 reward value 1.0 meaning prior 0.75 scorpion cost  1.0 signal cost 0.1\n",
      "alpha 10.0 reward value 1.0 meaning prior 0.766 scorpion cost  0.0 signal cost 0.0\n",
      "alpha 10.0 reward value 1.0 meaning prior 0.766 scorpion cost  0.0 signal cost 0.1\n",
      "alpha 10.0 reward value 1.0 meaning prior 0.766 scorpion cost  0.5 signal cost 0.0\n",
      "alpha 10.0 reward value 1.0 meaning prior 0.766 scorpion cost  0.5 signal cost 0.1\n",
      "alpha 10.0 reward value 1.0 meaning prior 0.766 scorpion cost  1.0 signal cost 0.0\n",
      "alpha 10.0 reward value 1.0 meaning prior 0.766 scorpion cost  1.0 signal cost 0.1\n"
     ]
    }
   ],
   "source": [
    "levelNames = list(manipulatedVariables.keys())\n",
    "levelValues = list(manipulatedVariables.values())\n",
    "modelIndex = pd.MultiIndex.from_product(levelValues, names=levelNames)\n",
    "toSplitFrame = pd.DataFrame(index=modelIndex)\n",
    "\n",
    "computeStatistics =  EvaluateOverloadedSignaler(humanResults)\n",
    "computeConditionStatistics = lambda condition: computeStatistics(condition.index.get_level_values('alpha')[0], \n",
    "                                                                 condition.index.get_level_values('valueOfReward')[0],\n",
    "                                                                 condition.index.get_level_values('signalTypePriors')[0], \n",
    "                                                                 condition.index.get_level_values('costOfNonReward')[0], \n",
    "                                                                 condition.index.get_level_values('costOfSignal')[0])\n",
    "errorDF = toSplitFrame.groupby(levelNames).apply(computeConditionStatistics)"
   ]
  },
  {
   "cell_type": "code",
   "execution_count": null,
   "metadata": {
    "ExecuteTime": {
     "end_time": "2020-08-26T00:04:14.023681Z",
     "start_time": "2020-08-26T00:04:14.009216Z"
    }
   },
   "outputs": [],
   "source": [
    "errorDF"
   ]
  },
  {
   "cell_type": "code",
   "execution_count": null,
   "metadata": {
    "ExecuteTime": {
     "end_time": "2020-08-25T17:55:15.459411Z",
     "start_time": "2020-08-25T17:55:15.438964Z"
    }
   },
   "outputs": [],
   "source": [
    "print(errorDF.loc[errorDF['totalRMSE'] >.65].index.get_level_values('costOfNonReward')[0:100])"
   ]
  },
  {
   "cell_type": "code",
   "execution_count": null,
   "metadata": {
    "ExecuteTime": {
     "end_time": "2020-08-25T16:12:44.404852Z",
     "start_time": "2020-08-25T16:12:44.381446Z"
    }
   },
   "outputs": [],
   "source": [
    "errorDF.loc[errorDF['keyConditionRMSE'] < .13]"
   ]
  },
  {
   "cell_type": "code",
   "execution_count": 7,
   "metadata": {
    "ExecuteTime": {
     "end_time": "2020-08-29T21:02:36.061126Z",
     "start_time": "2020-08-29T21:02:36.044280Z"
    }
   },
   "outputs": [],
   "source": [
    "errorDF.to_pickle(\"./evalResults-2020-8-28-valueFixed1-cost01-signalCost.pkl\")"
   ]
  },
  {
   "cell_type": "markdown",
   "metadata": {},
   "source": [
    "# Read in Saved Evaluation Results (no need to rerun eval)"
   ]
  },
  {
   "cell_type": "code",
   "execution_count": null,
   "metadata": {
    "ExecuteTime": {
     "end_time": "2020-08-20T02:14:47.562011Z",
     "start_time": "2020-08-20T02:14:47.551453Z"
    }
   },
   "outputs": [],
   "source": [
    "modelTuning = pd.read_pickle('/home/stacyste/Documents/Research/OverloadedSignaling/Environments/Misyak/data/modelingErrors_LargeGrid.pkl')\n",
    "modelingResults_OptimalCondition = pd.read_pickle('/home/stacyste/Documents/Research/OverloadedSignaling/Environments/Misyak/data/modelingPredictions_Optimal.pkl')"
   ]
  },
  {
   "cell_type": "markdown",
   "metadata": {},
   "source": [
    "# Closer Look at Optimal Parameters (Derived from Grid Search)"
   ]
  },
  {
   "cell_type": "code",
   "execution_count": null,
   "metadata": {
    "ExecuteTime": {
     "end_time": "2020-08-20T02:23:19.839682Z",
     "start_time": "2020-08-20T02:23:19.824725Z"
    }
   },
   "outputs": [],
   "source": [
    "# optimal based on large grid search - optimized for key condition error\n",
    "alpha = 2\n",
    "reward = 5\n",
    "prior = {'1':.5, '-1':.5}"
   ]
  },
  {
   "cell_type": "code",
   "execution_count": null,
   "metadata": {
    "ExecuteTime": {
     "end_time": "2020-08-20T02:23:41.368907Z",
     "start_time": "2020-08-20T02:23:21.310918Z"
    }
   },
   "outputs": [],
   "source": [
    "getModelingResults =  EvaluateOverloadedSignaler(humanResults, returnStrategyBreakdown = True)\n",
    "modelPredictions = getModelingResults(alpha, reward, signalMeaningPrior=.5, costOfSignal = 0.1, costOfPunishment = -0.5)"
   ]
  },
  {
   "cell_type": "code",
   "execution_count": null,
   "metadata": {
    "ExecuteTime": {
     "end_time": "2020-08-20T02:23:41.402066Z",
     "start_time": "2020-08-20T02:23:41.372897Z"
    }
   },
   "outputs": [],
   "source": [
    "modelPredictions"
   ]
  },
  {
   "cell_type": "code",
   "execution_count": null,
   "metadata": {
    "ExecuteTime": {
     "end_time": "2020-08-20T02:23:42.386149Z",
     "start_time": "2020-08-20T02:23:41.403395Z"
    }
   },
   "outputs": [],
   "source": [
    "getTrial = SetupMisyakTrial(alpha, reward, prior)\n",
    "condition = (2, 2, 1, 2) #n_tokens, n_axes, show_imprints, n_bananas\n",
    "getModelingResults.getSignalPDF(condition, getTrial)"
   ]
  },
  {
   "cell_type": "code",
   "execution_count": null,
   "metadata": {},
   "outputs": [],
   "source": []
  },
  {
   "cell_type": "code",
   "execution_count": null,
   "metadata": {
    "ExecuteTime": {
     "end_time": "2020-08-20T02:12:03.138357Z",
     "start_time": "2020-08-20T02:12:03.129257Z"
    }
   },
   "outputs": [],
   "source": [
    "# optimized for overarching error (smallish grid search)\n",
    "alpha_total = 2\n",
    "reward_total = 5\n",
    "prior_total = {'1':.8, '-1':.2}"
   ]
  },
  {
   "cell_type": "code",
   "execution_count": null,
   "metadata": {
    "ExecuteTime": {
     "end_time": "2020-08-20T02:22:36.206544Z",
     "start_time": "2020-08-20T02:22:16.493825Z"
    }
   },
   "outputs": [],
   "source": [
    "getModelingResults_OptimizedOnTotal =  EvaluateOverloadedSignaler(humanResults, returnStrategyBreakdown = True)\n",
    "modelPredictions_OptimizedOnTotal = getModelingResults_OptimizedOnTotal(alpha_total, reward_total, .8)"
   ]
  },
  {
   "cell_type": "code",
   "execution_count": null,
   "metadata": {
    "ExecuteTime": {
     "end_time": "2020-08-20T02:22:36.231536Z",
     "start_time": "2020-08-20T02:22:36.208031Z"
    },
    "scrolled": false
   },
   "outputs": [],
   "source": [
    "modelPredictions_OptimizedOnTotal"
   ]
  },
  {
   "cell_type": "code",
   "execution_count": null,
   "metadata": {
    "ExecuteTime": {
     "end_time": "2020-08-20T02:19:58.862831Z",
     "start_time": "2020-08-20T02:19:58.839400Z"
    }
   },
   "outputs": [],
   "source": [
    "humanResults"
   ]
  },
  {
   "cell_type": "code",
   "execution_count": null,
   "metadata": {
    "ExecuteTime": {
     "end_time": "2020-08-20T02:12:23.951766Z",
     "start_time": "2020-08-20T02:12:23.942582Z"
    }
   },
   "outputs": [],
   "source": [
    "modelPredictions_OptimizedOnTotal"
   ]
  },
  {
   "cell_type": "markdown",
   "metadata": {},
   "source": [
    "## Example Trial Evaluation"
   ]
  },
  {
   "cell_type": "code",
   "execution_count": null,
   "metadata": {
    "ExecuteTime": {
     "end_time": "2020-08-21T19:29:17.932557Z",
     "start_time": "2020-08-21T19:29:17.922915Z"
    }
   },
   "outputs": [],
   "source": [
    "# optimal based on large grid search - optimized for key condition error\n",
    "alpha = 3.5\n",
    "reward = 10\n",
    "prior = {'1':.57, '-1':.43}\n",
    "\n",
    "getTrial = SetupMisyakTrial(alpha, reward, prior)\n",
    "getEvaluation = EvaluateOverloadedSignaler(humanResults)"
   ]
  },
  {
   "cell_type": "code",
   "execution_count": null,
   "metadata": {
    "ExecuteTime": {
     "end_time": "2020-08-21T19:29:20.049968Z",
     "start_time": "2020-08-21T19:29:19.100486Z"
    }
   },
   "outputs": [],
   "source": [
    "condition = (2, 2, 1, 2) #n_tokens, n_axes, show_imprints, n_bananas\n",
    "getEvaluation.getSignalPDF(condition, getTrial)"
   ]
  },
  {
   "cell_type": "markdown",
   "metadata": {},
   "source": [
    "# Plotting"
   ]
  },
  {
   "cell_type": "code",
   "execution_count": null,
   "metadata": {
    "ExecuteTime": {
     "end_time": "2020-08-20T02:24:30.039491Z",
     "start_time": "2020-08-20T02:24:30.030078Z"
    }
   },
   "outputs": [],
   "source": [
    "#plotting hyperparameters\n",
    "figureSize = (25,18)\n",
    "horizontalSpaceBetweenSubplots = .45\n",
    "legendColors = {'avoid' : 'thistle', 'open':'royalblue' ,'silent':'gold','mixed':'lightsalmon'}\n",
    "hatch = {'twoToken':'n', 'twoToken_goto':'//','inversion':'n','inversion_goto':'//', 'wall':'n','wall_goto':'//', 'oneAx':'n', 'oneAx_goto':'//'}"
   ]
  },
  {
   "cell_type": "code",
   "execution_count": null,
   "metadata": {
    "ExecuteTime": {
     "end_time": "2020-08-20T02:24:30.542976Z",
     "start_time": "2020-08-20T02:24:30.528039Z"
    }
   },
   "outputs": [],
   "source": [
    "#dataframe to plot\n",
    "dataframeName = modelPredictions\n",
    "dataFrameRowLength = 4\n",
    "dataFrameColLength = 4"
   ]
  },
  {
   "cell_type": "markdown",
   "metadata": {},
   "source": [
    "## Draw Single Plot"
   ]
  },
  {
   "cell_type": "code",
   "execution_count": null,
   "metadata": {
    "ExecuteTime": {
     "end_time": "2020-08-20T02:24:31.904797Z",
     "start_time": "2020-08-20T02:24:31.894391Z"
    }
   },
   "outputs": [],
   "source": [
    "def drawPerformanceBarPlot(dfCondition,  axForDraw, nConditions = 4, hatches = None, barWidth = .35):\n",
    "    N = nConditions\n",
    "    ind = np.arange(N)  # the x locations for the groups\n",
    "    width = barWidth      # the width of the bars\n",
    "    #mpl.rcParams['hatch.color'] = 'grey'\n",
    "    \n",
    "    labels = dfCondition.columns\n",
    "    avoid = dfCondition.loc['avoid']\n",
    "    openCondition = dfCondition.loc['open']\n",
    "    silent = dfCondition.loc['silent']\n",
    "    mixed = dfCondition.loc['mixed']\n",
    "    \n",
    "    cols = ['thistle','thistle','royalblue', 'royalblue','gold', 'gold','lightsalmon', 'lightsalmon']\n",
    "    hatchPattern = ['n', '//', 'n', '//', 'n', '//', 'n','//']\n",
    "\n",
    "    axForDraw.bar(labels, openCondition, width, label='Open', color = 'royalblue')\n",
    "    axForDraw.bar(labels, avoid, width, bottom = openCondition, label='Avoid', color = 'thistle')\n",
    "    axForDraw.bar(labels, silent, width, bottom=openCondition+avoid, label='Silent', color = 'gold')\n",
    "    axForDraw.bar(labels, mixed, width, bottom=openCondition+avoid+silent, label='Mixed', color = 'lightsalmon')\n",
    "    \n",
    "    axForDraw.set_yticks([0,.5,1])\n",
    "    axForDraw.set_xticks([])"
   ]
  },
  {
   "cell_type": "markdown",
   "metadata": {},
   "source": [
    "## Plot Grid"
   ]
  },
  {
   "cell_type": "code",
   "execution_count": null,
   "metadata": {
    "ExecuteTime": {
     "end_time": "2020-08-20T02:24:33.648151Z",
     "start_time": "2020-08-20T02:24:32.826621Z"
    }
   },
   "outputs": [],
   "source": [
    "fig = plt.figure(figsize=figureSize)\n",
    "numRows = dataFrameRowLength\n",
    "numColumns = dataFrameColLength\n",
    "plotCounter = 1\n",
    "\n",
    "for condition, grp in dataframeName.groupby(['n_tokens','n_axes','show_imprints','n_bananas']):\n",
    "    grp.index = grp.index.droplevel(['n_tokens','n_axes','show_imprints','n_bananas'])\n",
    "    #for signalTypePriors, group in grp.groupby('signalTypePriors'):\n",
    "\n",
    "    keyConditions = [(2,2,1,2),(1,2,1,2),(1,1,1,2),(1,2,0,2)]\n",
    "    #subplot axis labels\n",
    "    axForDraw = fig.add_subplot(numRows, numColumns, plotCounter)\n",
    "    axForDraw.set_title('condition: {}'.format(condition))\n",
    "    if condition in keyConditions:\n",
    "        axForDraw.set_title('condition: {}'.format(condition), color = 'red')\n",
    "    axForDraw.set_ylim(0, 1)\n",
    "\n",
    "    #draw subplot\n",
    "    drawPerformanceBarPlot(grp, axForDraw, 2)\n",
    "\n",
    "    plotCounter += 1\n",
    "\n",
    "#Title\n",
    "plt.suptitle('Modeling and Human Strategy Comparison')\n",
    "\n",
    "#legend\n",
    "legend_dict = legendColors\n",
    "patchList = []\n",
    "trialList = [\"avoid\", 'mixed', 'open', 'silent']\n",
    "for key in trialList:\n",
    "    data_key = mpatches.Patch(color=legend_dict[key], label=key)\n",
    "    patchList.append(data_key)\n",
    "plt.legend(handles=patchList, loc='best')\n",
    "\n",
    "#adjust horizontal spacing of subplots\n",
    "fig.subplots_adjust(wspace=.2)\n",
    "\n",
    "plt.show()"
   ]
  },
  {
   "cell_type": "code",
   "execution_count": null,
   "metadata": {},
   "outputs": [],
   "source": []
  }
 ],
 "metadata": {
  "kernelspec": {
   "display_name": "Python 3",
   "language": "python",
   "name": "python3"
  },
  "language_info": {
   "codemirror_mode": {
    "name": "ipython",
    "version": 3
   },
   "file_extension": ".py",
   "mimetype": "text/x-python",
   "name": "python",
   "nbconvert_exporter": "python",
   "pygments_lexer": "ipython3",
   "version": "3.5.6"
  },
  "toc": {
   "base_numbering": 1,
   "nav_menu": {},
   "number_sections": true,
   "sideBar": true,
   "skip_h1_title": false,
   "title_cell": "Table of Contents",
   "title_sidebar": "Contents",
   "toc_cell": false,
   "toc_position": {},
   "toc_section_display": true,
   "toc_window_display": true
  }
 },
 "nbformat": 4,
 "nbformat_minor": 2
}
