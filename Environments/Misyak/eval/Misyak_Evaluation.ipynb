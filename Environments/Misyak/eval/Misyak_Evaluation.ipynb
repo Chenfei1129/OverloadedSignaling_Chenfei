{
 "cells": [
  {
   "cell_type": "code",
   "execution_count": 1,
   "metadata": {
    "ExecuteTime": {
     "end_time": "2020-05-12T16:16:29.785773Z",
     "start_time": "2020-05-12T16:16:29.782141Z"
    }
   },
   "outputs": [],
   "source": [
    "import sys\n",
    "sys.path.append('../src')\n",
    "sys.path.append('../eval')\n",
    "sys.path.append('../envs/misyak/')"
   ]
  },
  {
   "cell_type": "code",
   "execution_count": 2,
   "metadata": {
    "ExecuteTime": {
     "end_time": "2020-05-12T16:16:31.308272Z",
     "start_time": "2020-05-12T16:16:31.009585Z"
    }
   },
   "outputs": [],
   "source": [
    "import numpy as np\n",
    "import pandas as pd\n",
    "from collections import OrderedDict\n",
    "\n",
    "from GenerativeSignaler import SignalerZero\n",
    "from consistentSignalChecks_Misyak import signalIsConsistent_Boxes\n",
    "from OverloadedReceiver import ReceiverZero\n",
    "from OverloadedSignaler import SignalerOne\n",
    "from misyakConstruction import *\n",
    "from mindConstruction import *\n",
    "from evaluateOverloadedSignaling import *\n",
    "\n",
    "import matplotlib.pyplot as plt\n",
    "import matplotlib.patches as mpatches "
   ]
  },
  {
   "cell_type": "markdown",
   "metadata": {},
   "source": [
    "# Main Setup"
   ]
  },
  {
   "cell_type": "code",
   "execution_count": 5,
   "metadata": {
    "ExecuteTime": {
     "end_time": "2020-05-12T17:33:19.901275Z",
     "start_time": "2020-05-12T17:33:19.893096Z"
    }
   },
   "outputs": [],
   "source": [
    "removeZeroes = True\n",
    "#world spaces\n",
    "twoRewardWorldSpace = getWorldSpace(wall = False, nBoxes = 3, nRewards = 2)\n",
    "oneRewardWorldSpace = getWorldSpace(wall = False, nBoxes = 3, nRewards = 1)\n",
    "wallWorldSpace = getWorldSpace(wall = True, nBoxes = 3, nRewards = 2)\n",
    "\n",
    "#action spaces\n",
    "oneAxActionSpace = getActionSpace(nBoxes = 3, nReceiverChoices = 1)\n",
    "twoAxActionSpace = getActionSpace(nBoxes = 3, nReceiverChoices = 2)\n",
    "\n",
    "#signal spaces\n",
    "oneTokenSignalSpace = getSignalSpace(nBoxes=3, nSignals = 1)\n",
    "twoTokenSignalSpace = getSignalSpace(nBoxes=3, nSignals = 2)\n",
    "\n",
    "if removeZeroes:\n",
    "    oneAxActionSpace.remove((0,0,0))\n",
    "    twoAxActionSpace.remove((0,0,0))\n",
    "    oneTokenSignalSpace.remove((0,0,0))\n",
    "    twoTokenSignalSpace.remove((0,0,0))\n",
    "\n",
    "#condition common ground spaces\n",
    "twoTokenCondition = {'worlds': twoRewardWorldSpace, 'desires': [1], 'intentions': [1], 'actions': twoAxActionSpace, 'signals':twoTokenSignalSpace}\n",
    "inversionCondition = {'worlds': twoRewardWorldSpace, 'desires': [1], 'intentions': [1], 'actions': twoAxActionSpace, 'signals':oneTokenSignalSpace}\n",
    "oneAxCondition = {'worlds': twoRewardWorldSpace, 'desires': [1], 'intentions': [1], 'actions': oneAxActionSpace, 'signals':oneTokenSignalSpace}\n",
    "wallCondition = {'worlds': wallWorldSpace, 'desires': [1], 'intentions': [1], 'actions': twoAxActionSpace, 'signals':oneTokenSignalSpace}\n",
    "\n",
    "conditionParameters = {'twoToken': twoTokenCondition,'inversion': inversionCondition,'wall': wallCondition,'oneAx': oneAxCondition}\n",
    "\n",
    "signalerHumanResults = {'inversion': .91, 'wall': .48, 'wall_goto': .5, 'oneAx':.32, 'oneAx_goto': .68, 'twoToken':.02}\n",
    "signalerHumanResultsExperiment2 = {'twoToken':0.0, 'twoToken_goto': 1.0, 'inversion':.56, 'inversion_goto':.42, 'wall':.23, 'wall_goto': .77, 'oneAx':.375, 'oneAx_goto': .625}\n",
    "\n",
    "fixedParameters = {'locationCost':0, 'rewardValue':5, 'nonRewardCost':0, 'observation': {'worlds':(1,1,0)}}"
   ]
  },
  {
   "cell_type": "markdown",
   "metadata": {},
   "source": [
    "# Tuning Variable Grids"
   ]
  },
  {
   "cell_type": "markdown",
   "metadata": {},
   "source": [
    "## Experiment 1\n"
   ]
  },
  {
   "cell_type": "code",
   "execution_count": 6,
   "metadata": {
    "ExecuteTime": {
     "end_time": "2020-05-12T17:33:26.244698Z",
     "start_time": "2020-05-12T17:33:26.242062Z"
    }
   },
   "outputs": [],
   "source": [
    "manipulatedVariables = OrderedDict()\n",
    "manipulatedVariables['alpha'] = list(np.linspace(1.0,15.0,16))\n",
    "manipulatedVariables['signalTypePriors'] = list(np.linspace(.35, .7, 16))"
   ]
  },
  {
   "cell_type": "code",
   "execution_count": 7,
   "metadata": {
    "ExecuteTime": {
     "end_time": "2020-05-12T17:33:30.286439Z",
     "start_time": "2020-05-12T17:33:27.641768Z"
    },
    "collapsed": true
   },
   "outputs": [
    {
     "ename": "KeyError",
     "evalue": "'twoToken_goto'",
     "output_type": "error",
     "traceback": [
      "\u001b[0;31m---------------------------------------------------------------------------\u001b[0m",
      "\u001b[0;31mKeyError\u001b[0m                                  Traceback (most recent call last)",
      "\u001b[0;32m~/miniconda3/envs/cogsci/lib/python3.5/site-packages/pandas/core/groupby/groupby.py\u001b[0m in \u001b[0;36mapply\u001b[0;34m(self, func, *args, **kwargs)\u001b[0m\n\u001b[1;32m    917\u001b[0m             \u001b[0;32mtry\u001b[0m\u001b[0;34m:\u001b[0m\u001b[0;34m\u001b[0m\u001b[0m\n\u001b[0;32m--> 918\u001b[0;31m                 \u001b[0mresult\u001b[0m \u001b[0;34m=\u001b[0m \u001b[0mself\u001b[0m\u001b[0;34m.\u001b[0m\u001b[0m_python_apply_general\u001b[0m\u001b[0;34m(\u001b[0m\u001b[0mf\u001b[0m\u001b[0;34m)\u001b[0m\u001b[0;34m\u001b[0m\u001b[0m\n\u001b[0m\u001b[1;32m    919\u001b[0m             \u001b[0;32mexcept\u001b[0m \u001b[0mException\u001b[0m\u001b[0;34m:\u001b[0m\u001b[0;34m\u001b[0m\u001b[0m\n",
      "\u001b[0;32m~/miniconda3/envs/cogsci/lib/python3.5/site-packages/pandas/core/groupby/groupby.py\u001b[0m in \u001b[0;36m_python_apply_general\u001b[0;34m(self, f)\u001b[0m\n\u001b[1;32m    935\u001b[0m         keys, values, mutated = self.grouper.apply(f, self._selected_obj,\n\u001b[0;32m--> 936\u001b[0;31m                                                    self.axis)\n\u001b[0m\u001b[1;32m    937\u001b[0m \u001b[0;34m\u001b[0m\u001b[0m\n",
      "\u001b[0;32m~/miniconda3/envs/cogsci/lib/python3.5/site-packages/pandas/core/groupby/groupby.py\u001b[0m in \u001b[0;36mapply\u001b[0;34m(self, f, data, axis)\u001b[0m\n\u001b[1;32m   2272\u001b[0m             \u001b[0mgroup_axes\u001b[0m \u001b[0;34m=\u001b[0m \u001b[0m_get_axes\u001b[0m\u001b[0;34m(\u001b[0m\u001b[0mgroup\u001b[0m\u001b[0;34m)\u001b[0m\u001b[0;34m\u001b[0m\u001b[0m\n\u001b[0;32m-> 2273\u001b[0;31m             \u001b[0mres\u001b[0m \u001b[0;34m=\u001b[0m \u001b[0mf\u001b[0m\u001b[0;34m(\u001b[0m\u001b[0mgroup\u001b[0m\u001b[0;34m)\u001b[0m\u001b[0;34m\u001b[0m\u001b[0m\n\u001b[0m\u001b[1;32m   2274\u001b[0m             \u001b[0;32mif\u001b[0m \u001b[0;32mnot\u001b[0m \u001b[0m_is_indexed_like\u001b[0m\u001b[0;34m(\u001b[0m\u001b[0mres\u001b[0m\u001b[0;34m,\u001b[0m \u001b[0mgroup_axes\u001b[0m\u001b[0;34m)\u001b[0m\u001b[0;34m:\u001b[0m\u001b[0;34m\u001b[0m\u001b[0m\n",
      "\u001b[0;32m<ipython-input-7-77741a5a9ef9>\u001b[0m in \u001b[0;36m<lambda>\u001b[0;34m(condition)\u001b[0m\n\u001b[1;32m      6\u001b[0m \u001b[0mcomputeStatistics\u001b[0m \u001b[0;34m=\u001b[0m  \u001b[0mEvaluateOverloadedSignaler\u001b[0m\u001b[0;34m(\u001b[0m\u001b[0mconditionDictionary\u001b[0m \u001b[0;34m=\u001b[0m \u001b[0mconditionParameters\u001b[0m\u001b[0;34m,\u001b[0m \u001b[0mtargetResult\u001b[0m \u001b[0;34m=\u001b[0m \u001b[0msignalerHumanResults\u001b[0m\u001b[0;34m,\u001b[0m \u001b[0mfixedParameters\u001b[0m\u001b[0;34m=\u001b[0m\u001b[0mfixedParameters\u001b[0m\u001b[0;34m)\u001b[0m\u001b[0;34m\u001b[0m\u001b[0m\n\u001b[0;32m----> 7\u001b[0;31m \u001b[0mcomputeConditionStatistics\u001b[0m \u001b[0;34m=\u001b[0m \u001b[0;32mlambda\u001b[0m \u001b[0mcondition\u001b[0m\u001b[0;34m:\u001b[0m \u001b[0mcomputeStatistics\u001b[0m\u001b[0;34m(\u001b[0m\u001b[0mcondition\u001b[0m\u001b[0;34m.\u001b[0m\u001b[0mindex\u001b[0m\u001b[0;34m.\u001b[0m\u001b[0mget_level_values\u001b[0m\u001b[0;34m(\u001b[0m\u001b[0;34m'alpha'\u001b[0m\u001b[0;34m)\u001b[0m\u001b[0;34m[\u001b[0m\u001b[0;36m0\u001b[0m\u001b[0;34m]\u001b[0m\u001b[0;34m,\u001b[0m \u001b[0mcondition\u001b[0m\u001b[0;34m.\u001b[0m\u001b[0mindex\u001b[0m\u001b[0;34m.\u001b[0m\u001b[0mget_level_values\u001b[0m\u001b[0;34m(\u001b[0m\u001b[0;34m'signalTypePriors'\u001b[0m\u001b[0;34m)\u001b[0m\u001b[0;34m[\u001b[0m\u001b[0;36m0\u001b[0m\u001b[0;34m]\u001b[0m\u001b[0;34m)\u001b[0m\u001b[0;34m\u001b[0m\u001b[0m\n\u001b[0m\u001b[1;32m      8\u001b[0m \u001b[0mconditionStatistics_16x16\u001b[0m \u001b[0;34m=\u001b[0m \u001b[0mtoSplitFrame\u001b[0m\u001b[0;34m.\u001b[0m\u001b[0mgroupby\u001b[0m\u001b[0;34m(\u001b[0m\u001b[0mlevelNames\u001b[0m\u001b[0;34m)\u001b[0m\u001b[0;34m.\u001b[0m\u001b[0mapply\u001b[0m\u001b[0;34m(\u001b[0m\u001b[0mcomputeConditionStatistics\u001b[0m\u001b[0;34m)\u001b[0m\u001b[0;34m\u001b[0m\u001b[0m\n",
      "\u001b[0;32m~/Documents/Research/OverloadedSignaling/eval/evaluateOverloadedSignaling.py\u001b[0m in \u001b[0;36m__call__\u001b[0;34m(self, alpha, signalTypePrior)\u001b[0m\n\u001b[1;32m     57\u001b[0m             \u001b[0mrewardErrorColumnLabel\u001b[0m \u001b[0;34m=\u001b[0m \u001b[0mconditionName\u001b[0m \u001b[0;34m+\u001b[0m \u001b[0;34m'_goto_error'\u001b[0m\u001b[0;34m\u001b[0m\u001b[0m\n\u001b[0;32m---> 58\u001b[0;31m             \u001b[0mconditionRewardError\u001b[0m \u001b[0;34m=\u001b[0m \u001b[0mgoToProportion\u001b[0m \u001b[0;34m-\u001b[0m \u001b[0mself\u001b[0m\u001b[0;34m.\u001b[0m\u001b[0mtargetResult\u001b[0m\u001b[0;34m[\u001b[0m\u001b[0mrewardColumnLabel\u001b[0m\u001b[0;34m]\u001b[0m\u001b[0;34m\u001b[0m\u001b[0m\n\u001b[0m\u001b[1;32m     59\u001b[0m             \u001b[0moddOneOutProportions\u001b[0m\u001b[0;34m[\u001b[0m\u001b[0mrewardErrorColumnLabel\u001b[0m\u001b[0;34m]\u001b[0m \u001b[0;34m=\u001b[0m \u001b[0mconditionRewardError\u001b[0m\u001b[0;34m[\u001b[0m\u001b[0;36m0\u001b[0m\u001b[0;34m]\u001b[0m\u001b[0;34m\u001b[0m\u001b[0m\n",
      "\u001b[0;31mKeyError\u001b[0m: 'twoToken_goto'",
      "\nDuring handling of the above exception, another exception occurred:\n",
      "\u001b[0;31mKeyError\u001b[0m                                  Traceback (most recent call last)",
      "\u001b[0;32m<ipython-input-7-77741a5a9ef9>\u001b[0m in \u001b[0;36m<module>\u001b[0;34m()\u001b[0m\n\u001b[1;32m      6\u001b[0m \u001b[0mcomputeStatistics\u001b[0m \u001b[0;34m=\u001b[0m  \u001b[0mEvaluateOverloadedSignaler\u001b[0m\u001b[0;34m(\u001b[0m\u001b[0mconditionDictionary\u001b[0m \u001b[0;34m=\u001b[0m \u001b[0mconditionParameters\u001b[0m\u001b[0;34m,\u001b[0m \u001b[0mtargetResult\u001b[0m \u001b[0;34m=\u001b[0m \u001b[0msignalerHumanResults\u001b[0m\u001b[0;34m,\u001b[0m \u001b[0mfixedParameters\u001b[0m\u001b[0;34m=\u001b[0m\u001b[0mfixedParameters\u001b[0m\u001b[0;34m)\u001b[0m\u001b[0;34m\u001b[0m\u001b[0m\n\u001b[1;32m      7\u001b[0m \u001b[0mcomputeConditionStatistics\u001b[0m \u001b[0;34m=\u001b[0m \u001b[0;32mlambda\u001b[0m \u001b[0mcondition\u001b[0m\u001b[0;34m:\u001b[0m \u001b[0mcomputeStatistics\u001b[0m\u001b[0;34m(\u001b[0m\u001b[0mcondition\u001b[0m\u001b[0;34m.\u001b[0m\u001b[0mindex\u001b[0m\u001b[0;34m.\u001b[0m\u001b[0mget_level_values\u001b[0m\u001b[0;34m(\u001b[0m\u001b[0;34m'alpha'\u001b[0m\u001b[0;34m)\u001b[0m\u001b[0;34m[\u001b[0m\u001b[0;36m0\u001b[0m\u001b[0;34m]\u001b[0m\u001b[0;34m,\u001b[0m \u001b[0mcondition\u001b[0m\u001b[0;34m.\u001b[0m\u001b[0mindex\u001b[0m\u001b[0;34m.\u001b[0m\u001b[0mget_level_values\u001b[0m\u001b[0;34m(\u001b[0m\u001b[0;34m'signalTypePriors'\u001b[0m\u001b[0;34m)\u001b[0m\u001b[0;34m[\u001b[0m\u001b[0;36m0\u001b[0m\u001b[0;34m]\u001b[0m\u001b[0;34m)\u001b[0m\u001b[0;34m\u001b[0m\u001b[0m\n\u001b[0;32m----> 8\u001b[0;31m \u001b[0mconditionStatistics_16x16\u001b[0m \u001b[0;34m=\u001b[0m \u001b[0mtoSplitFrame\u001b[0m\u001b[0;34m.\u001b[0m\u001b[0mgroupby\u001b[0m\u001b[0;34m(\u001b[0m\u001b[0mlevelNames\u001b[0m\u001b[0;34m)\u001b[0m\u001b[0;34m.\u001b[0m\u001b[0mapply\u001b[0m\u001b[0;34m(\u001b[0m\u001b[0mcomputeConditionStatistics\u001b[0m\u001b[0;34m)\u001b[0m\u001b[0;34m\u001b[0m\u001b[0m\n\u001b[0m",
      "\u001b[0;32m~/miniconda3/envs/cogsci/lib/python3.5/site-packages/pandas/core/groupby/groupby.py\u001b[0m in \u001b[0;36mapply\u001b[0;34m(self, func, *args, **kwargs)\u001b[0m\n\u001b[1;32m    928\u001b[0m \u001b[0;34m\u001b[0m\u001b[0m\n\u001b[1;32m    929\u001b[0m                 \u001b[0;32mwith\u001b[0m \u001b[0m_group_selection_context\u001b[0m\u001b[0;34m(\u001b[0m\u001b[0mself\u001b[0m\u001b[0;34m)\u001b[0m\u001b[0;34m:\u001b[0m\u001b[0;34m\u001b[0m\u001b[0m\n\u001b[0;32m--> 930\u001b[0;31m                     \u001b[0;32mreturn\u001b[0m \u001b[0mself\u001b[0m\u001b[0;34m.\u001b[0m\u001b[0m_python_apply_general\u001b[0m\u001b[0;34m(\u001b[0m\u001b[0mf\u001b[0m\u001b[0;34m)\u001b[0m\u001b[0;34m\u001b[0m\u001b[0m\n\u001b[0m\u001b[1;32m    931\u001b[0m \u001b[0;34m\u001b[0m\u001b[0m\n\u001b[1;32m    932\u001b[0m         \u001b[0;32mreturn\u001b[0m \u001b[0mresult\u001b[0m\u001b[0;34m\u001b[0m\u001b[0m\n",
      "\u001b[0;32m~/miniconda3/envs/cogsci/lib/python3.5/site-packages/pandas/core/groupby/groupby.py\u001b[0m in \u001b[0;36m_python_apply_general\u001b[0;34m(self, f)\u001b[0m\n\u001b[1;32m    934\u001b[0m     \u001b[0;32mdef\u001b[0m \u001b[0m_python_apply_general\u001b[0m\u001b[0;34m(\u001b[0m\u001b[0mself\u001b[0m\u001b[0;34m,\u001b[0m \u001b[0mf\u001b[0m\u001b[0;34m)\u001b[0m\u001b[0;34m:\u001b[0m\u001b[0;34m\u001b[0m\u001b[0m\n\u001b[1;32m    935\u001b[0m         keys, values, mutated = self.grouper.apply(f, self._selected_obj,\n\u001b[0;32m--> 936\u001b[0;31m                                                    self.axis)\n\u001b[0m\u001b[1;32m    937\u001b[0m \u001b[0;34m\u001b[0m\u001b[0m\n\u001b[1;32m    938\u001b[0m         return self._wrap_applied_output(\n",
      "\u001b[0;32m~/miniconda3/envs/cogsci/lib/python3.5/site-packages/pandas/core/groupby/groupby.py\u001b[0m in \u001b[0;36mapply\u001b[0;34m(self, f, data, axis)\u001b[0m\n\u001b[1;32m   2271\u001b[0m             \u001b[0;31m# group might be modified\u001b[0m\u001b[0;34m\u001b[0m\u001b[0;34m\u001b[0m\u001b[0m\n\u001b[1;32m   2272\u001b[0m             \u001b[0mgroup_axes\u001b[0m \u001b[0;34m=\u001b[0m \u001b[0m_get_axes\u001b[0m\u001b[0;34m(\u001b[0m\u001b[0mgroup\u001b[0m\u001b[0;34m)\u001b[0m\u001b[0;34m\u001b[0m\u001b[0m\n\u001b[0;32m-> 2273\u001b[0;31m             \u001b[0mres\u001b[0m \u001b[0;34m=\u001b[0m \u001b[0mf\u001b[0m\u001b[0;34m(\u001b[0m\u001b[0mgroup\u001b[0m\u001b[0;34m)\u001b[0m\u001b[0;34m\u001b[0m\u001b[0m\n\u001b[0m\u001b[1;32m   2274\u001b[0m             \u001b[0;32mif\u001b[0m \u001b[0;32mnot\u001b[0m \u001b[0m_is_indexed_like\u001b[0m\u001b[0;34m(\u001b[0m\u001b[0mres\u001b[0m\u001b[0;34m,\u001b[0m \u001b[0mgroup_axes\u001b[0m\u001b[0;34m)\u001b[0m\u001b[0;34m:\u001b[0m\u001b[0;34m\u001b[0m\u001b[0m\n\u001b[1;32m   2275\u001b[0m                 \u001b[0mmutated\u001b[0m \u001b[0;34m=\u001b[0m \u001b[0;32mTrue\u001b[0m\u001b[0;34m\u001b[0m\u001b[0m\n",
      "\u001b[0;32m<ipython-input-7-77741a5a9ef9>\u001b[0m in \u001b[0;36m<lambda>\u001b[0;34m(condition)\u001b[0m\n\u001b[1;32m      5\u001b[0m \u001b[0;34m\u001b[0m\u001b[0m\n\u001b[1;32m      6\u001b[0m \u001b[0mcomputeStatistics\u001b[0m \u001b[0;34m=\u001b[0m  \u001b[0mEvaluateOverloadedSignaler\u001b[0m\u001b[0;34m(\u001b[0m\u001b[0mconditionDictionary\u001b[0m \u001b[0;34m=\u001b[0m \u001b[0mconditionParameters\u001b[0m\u001b[0;34m,\u001b[0m \u001b[0mtargetResult\u001b[0m \u001b[0;34m=\u001b[0m \u001b[0msignalerHumanResults\u001b[0m\u001b[0;34m,\u001b[0m \u001b[0mfixedParameters\u001b[0m\u001b[0;34m=\u001b[0m\u001b[0mfixedParameters\u001b[0m\u001b[0;34m)\u001b[0m\u001b[0;34m\u001b[0m\u001b[0m\n\u001b[0;32m----> 7\u001b[0;31m \u001b[0mcomputeConditionStatistics\u001b[0m \u001b[0;34m=\u001b[0m \u001b[0;32mlambda\u001b[0m \u001b[0mcondition\u001b[0m\u001b[0;34m:\u001b[0m \u001b[0mcomputeStatistics\u001b[0m\u001b[0;34m(\u001b[0m\u001b[0mcondition\u001b[0m\u001b[0;34m.\u001b[0m\u001b[0mindex\u001b[0m\u001b[0;34m.\u001b[0m\u001b[0mget_level_values\u001b[0m\u001b[0;34m(\u001b[0m\u001b[0;34m'alpha'\u001b[0m\u001b[0;34m)\u001b[0m\u001b[0;34m[\u001b[0m\u001b[0;36m0\u001b[0m\u001b[0;34m]\u001b[0m\u001b[0;34m,\u001b[0m \u001b[0mcondition\u001b[0m\u001b[0;34m.\u001b[0m\u001b[0mindex\u001b[0m\u001b[0;34m.\u001b[0m\u001b[0mget_level_values\u001b[0m\u001b[0;34m(\u001b[0m\u001b[0;34m'signalTypePriors'\u001b[0m\u001b[0;34m)\u001b[0m\u001b[0;34m[\u001b[0m\u001b[0;36m0\u001b[0m\u001b[0;34m]\u001b[0m\u001b[0;34m)\u001b[0m\u001b[0;34m\u001b[0m\u001b[0m\n\u001b[0m\u001b[1;32m      8\u001b[0m \u001b[0mconditionStatistics_16x16\u001b[0m \u001b[0;34m=\u001b[0m \u001b[0mtoSplitFrame\u001b[0m\u001b[0;34m.\u001b[0m\u001b[0mgroupby\u001b[0m\u001b[0;34m(\u001b[0m\u001b[0mlevelNames\u001b[0m\u001b[0;34m)\u001b[0m\u001b[0;34m.\u001b[0m\u001b[0mapply\u001b[0m\u001b[0;34m(\u001b[0m\u001b[0mcomputeConditionStatistics\u001b[0m\u001b[0;34m)\u001b[0m\u001b[0;34m\u001b[0m\u001b[0m\n",
      "\u001b[0;32m~/Documents/Research/OverloadedSignaling/eval/evaluateOverloadedSignaling.py\u001b[0m in \u001b[0;36m__call__\u001b[0;34m(self, alpha, signalTypePrior)\u001b[0m\n\u001b[1;32m     56\u001b[0m \u001b[0;34m\u001b[0m\u001b[0m\n\u001b[1;32m     57\u001b[0m             \u001b[0mrewardErrorColumnLabel\u001b[0m \u001b[0;34m=\u001b[0m \u001b[0mconditionName\u001b[0m \u001b[0;34m+\u001b[0m \u001b[0;34m'_goto_error'\u001b[0m\u001b[0;34m\u001b[0m\u001b[0m\n\u001b[0;32m---> 58\u001b[0;31m             \u001b[0mconditionRewardError\u001b[0m \u001b[0;34m=\u001b[0m \u001b[0mgoToProportion\u001b[0m \u001b[0;34m-\u001b[0m \u001b[0mself\u001b[0m\u001b[0;34m.\u001b[0m\u001b[0mtargetResult\u001b[0m\u001b[0;34m[\u001b[0m\u001b[0mrewardColumnLabel\u001b[0m\u001b[0;34m]\u001b[0m\u001b[0;34m\u001b[0m\u001b[0m\n\u001b[0m\u001b[1;32m     59\u001b[0m             \u001b[0moddOneOutProportions\u001b[0m\u001b[0;34m[\u001b[0m\u001b[0mrewardErrorColumnLabel\u001b[0m\u001b[0;34m]\u001b[0m \u001b[0;34m=\u001b[0m \u001b[0mconditionRewardError\u001b[0m\u001b[0;34m[\u001b[0m\u001b[0;36m0\u001b[0m\u001b[0;34m]\u001b[0m\u001b[0;34m\u001b[0m\u001b[0m\n\u001b[1;32m     60\u001b[0m \u001b[0;34m\u001b[0m\u001b[0m\n",
      "\u001b[0;31mKeyError\u001b[0m: 'twoToken_goto'"
     ]
    }
   ],
   "source": [
    "levelNames = list(manipulatedVariables.keys())\n",
    "levelValues = list(manipulatedVariables.values())\n",
    "modelIndex = pd.MultiIndex.from_product(levelValues, names=levelNames)\n",
    "toSplitFrame = pd.DataFrame(index=modelIndex)\n",
    "\n",
    "computeStatistics =  EvaluateOverloadedSignaler(conditionDictionary = conditionParameters, targetResult = signalerHumanResults, fixedParameters=fixedParameters)\n",
    "computeConditionStatistics = lambda condition: computeStatistics(condition.index.get_level_values('alpha')[0], condition.index.get_level_values('signalTypePriors')[0])\n",
    "conditionStatistics_16x16 = toSplitFrame.groupby(levelNames).apply(computeConditionStatistics)"
   ]
  },
  {
   "cell_type": "code",
   "execution_count": null,
   "metadata": {
    "ExecuteTime": {
     "end_time": "2019-11-01T20:01:00.358260Z",
     "start_time": "2019-11-01T20:00:57.144Z"
    }
   },
   "outputs": [],
   "source": [
    "conditionStatistics_16x16"
   ]
  },
  {
   "cell_type": "code",
   "execution_count": null,
   "metadata": {
    "ExecuteTime": {
     "end_time": "2019-11-01T20:01:00.358725Z",
     "start_time": "2019-11-01T20:00:57.148Z"
    }
   },
   "outputs": [],
   "source": [
    "conditionStatistics_16x16.to_csv(\"expt1_16x16conditions.txt\",sep=\"|\")"
   ]
  },
  {
   "cell_type": "code",
   "execution_count": null,
   "metadata": {
    "ExecuteTime": {
     "end_time": "2019-11-01T20:01:00.359315Z",
     "start_time": "2019-11-01T20:00:57.152Z"
    }
   },
   "outputs": [],
   "source": [
    "conditionStatistics_16x16.loc[conditionStatistics_16x16['total_rmse'] < .15]"
   ]
  },
  {
   "cell_type": "markdown",
   "metadata": {},
   "source": [
    "### Smaller Experiment 1 Grid, chosen from large parameter search\n"
   ]
  },
  {
   "cell_type": "code",
   "execution_count": 8,
   "metadata": {
    "ExecuteTime": {
     "end_time": "2020-05-12T17:33:42.103906Z",
     "start_time": "2020-05-12T17:33:42.101388Z"
    }
   },
   "outputs": [],
   "source": [
    "manipulatedVariables = OrderedDict()\n",
    "manipulatedVariables['alpha'] = [5.5,6, 6.5,7, 7.5]\n",
    "manipulatedVariables['signalTypePriors'] = [.45, .47, .49, .51]"
   ]
  },
  {
   "cell_type": "code",
   "execution_count": 9,
   "metadata": {
    "ExecuteTime": {
     "end_time": "2020-05-12T17:33:45.586446Z",
     "start_time": "2020-05-12T17:33:42.894626Z"
    },
    "scrolled": true
   },
   "outputs": [
    {
     "ename": "KeyError",
     "evalue": "'twoToken_goto'",
     "output_type": "error",
     "traceback": [
      "\u001b[0;31m---------------------------------------------------------------------------\u001b[0m",
      "\u001b[0;31mKeyError\u001b[0m                                  Traceback (most recent call last)",
      "\u001b[0;32m~/miniconda3/envs/cogsci/lib/python3.5/site-packages/pandas/core/groupby/groupby.py\u001b[0m in \u001b[0;36mapply\u001b[0;34m(self, func, *args, **kwargs)\u001b[0m\n\u001b[1;32m    917\u001b[0m             \u001b[0;32mtry\u001b[0m\u001b[0;34m:\u001b[0m\u001b[0;34m\u001b[0m\u001b[0m\n\u001b[0;32m--> 918\u001b[0;31m                 \u001b[0mresult\u001b[0m \u001b[0;34m=\u001b[0m \u001b[0mself\u001b[0m\u001b[0;34m.\u001b[0m\u001b[0m_python_apply_general\u001b[0m\u001b[0;34m(\u001b[0m\u001b[0mf\u001b[0m\u001b[0;34m)\u001b[0m\u001b[0;34m\u001b[0m\u001b[0m\n\u001b[0m\u001b[1;32m    919\u001b[0m             \u001b[0;32mexcept\u001b[0m \u001b[0mException\u001b[0m\u001b[0;34m:\u001b[0m\u001b[0;34m\u001b[0m\u001b[0m\n",
      "\u001b[0;32m~/miniconda3/envs/cogsci/lib/python3.5/site-packages/pandas/core/groupby/groupby.py\u001b[0m in \u001b[0;36m_python_apply_general\u001b[0;34m(self, f)\u001b[0m\n\u001b[1;32m    935\u001b[0m         keys, values, mutated = self.grouper.apply(f, self._selected_obj,\n\u001b[0;32m--> 936\u001b[0;31m                                                    self.axis)\n\u001b[0m\u001b[1;32m    937\u001b[0m \u001b[0;34m\u001b[0m\u001b[0m\n",
      "\u001b[0;32m~/miniconda3/envs/cogsci/lib/python3.5/site-packages/pandas/core/groupby/groupby.py\u001b[0m in \u001b[0;36mapply\u001b[0;34m(self, f, data, axis)\u001b[0m\n\u001b[1;32m   2272\u001b[0m             \u001b[0mgroup_axes\u001b[0m \u001b[0;34m=\u001b[0m \u001b[0m_get_axes\u001b[0m\u001b[0;34m(\u001b[0m\u001b[0mgroup\u001b[0m\u001b[0;34m)\u001b[0m\u001b[0;34m\u001b[0m\u001b[0m\n\u001b[0;32m-> 2273\u001b[0;31m             \u001b[0mres\u001b[0m \u001b[0;34m=\u001b[0m \u001b[0mf\u001b[0m\u001b[0;34m(\u001b[0m\u001b[0mgroup\u001b[0m\u001b[0;34m)\u001b[0m\u001b[0;34m\u001b[0m\u001b[0m\n\u001b[0m\u001b[1;32m   2274\u001b[0m             \u001b[0;32mif\u001b[0m \u001b[0;32mnot\u001b[0m \u001b[0m_is_indexed_like\u001b[0m\u001b[0;34m(\u001b[0m\u001b[0mres\u001b[0m\u001b[0;34m,\u001b[0m \u001b[0mgroup_axes\u001b[0m\u001b[0;34m)\u001b[0m\u001b[0;34m:\u001b[0m\u001b[0;34m\u001b[0m\u001b[0m\n",
      "\u001b[0;32m<ipython-input-9-40fd73dcecb4>\u001b[0m in \u001b[0;36m<lambda>\u001b[0;34m(condition)\u001b[0m\n\u001b[1;32m      6\u001b[0m \u001b[0mcomputeStatistics\u001b[0m \u001b[0;34m=\u001b[0m  \u001b[0mEvaluateOverloadedSignaler\u001b[0m\u001b[0;34m(\u001b[0m\u001b[0mconditionDictionary\u001b[0m \u001b[0;34m=\u001b[0m \u001b[0mconditionParameters\u001b[0m\u001b[0;34m,\u001b[0m \u001b[0mtargetResult\u001b[0m \u001b[0;34m=\u001b[0m \u001b[0msignalerHumanResults\u001b[0m\u001b[0;34m,\u001b[0m \u001b[0mfixedParameters\u001b[0m\u001b[0;34m=\u001b[0m\u001b[0mfixedParameters\u001b[0m\u001b[0;34m)\u001b[0m\u001b[0;34m\u001b[0m\u001b[0m\n\u001b[0;32m----> 7\u001b[0;31m \u001b[0mcomputeConditionStatistics\u001b[0m \u001b[0;34m=\u001b[0m \u001b[0;32mlambda\u001b[0m \u001b[0mcondition\u001b[0m\u001b[0;34m:\u001b[0m \u001b[0mcomputeStatistics\u001b[0m\u001b[0;34m(\u001b[0m\u001b[0mcondition\u001b[0m\u001b[0;34m.\u001b[0m\u001b[0mindex\u001b[0m\u001b[0;34m.\u001b[0m\u001b[0mget_level_values\u001b[0m\u001b[0;34m(\u001b[0m\u001b[0;34m'alpha'\u001b[0m\u001b[0;34m)\u001b[0m\u001b[0;34m[\u001b[0m\u001b[0;36m0\u001b[0m\u001b[0;34m]\u001b[0m\u001b[0;34m,\u001b[0m \u001b[0mcondition\u001b[0m\u001b[0;34m.\u001b[0m\u001b[0mindex\u001b[0m\u001b[0;34m.\u001b[0m\u001b[0mget_level_values\u001b[0m\u001b[0;34m(\u001b[0m\u001b[0;34m'signalTypePriors'\u001b[0m\u001b[0;34m)\u001b[0m\u001b[0;34m[\u001b[0m\u001b[0;36m0\u001b[0m\u001b[0;34m]\u001b[0m\u001b[0;34m)\u001b[0m\u001b[0;34m\u001b[0m\u001b[0m\n\u001b[0m\u001b[1;32m      8\u001b[0m \u001b[0mconditionStatistics_4x5FromLarge\u001b[0m \u001b[0;34m=\u001b[0m \u001b[0mtoSplitFrame\u001b[0m\u001b[0;34m.\u001b[0m\u001b[0mgroupby\u001b[0m\u001b[0;34m(\u001b[0m\u001b[0mlevelNames\u001b[0m\u001b[0;34m)\u001b[0m\u001b[0;34m.\u001b[0m\u001b[0mapply\u001b[0m\u001b[0;34m(\u001b[0m\u001b[0mcomputeConditionStatistics\u001b[0m\u001b[0;34m)\u001b[0m\u001b[0;34m\u001b[0m\u001b[0m\n",
      "\u001b[0;32m~/Documents/Research/OverloadedSignaling/eval/evaluateOverloadedSignaling.py\u001b[0m in \u001b[0;36m__call__\u001b[0;34m(self, alpha, signalTypePrior)\u001b[0m\n\u001b[1;32m     57\u001b[0m             \u001b[0mrewardErrorColumnLabel\u001b[0m \u001b[0;34m=\u001b[0m \u001b[0mconditionName\u001b[0m \u001b[0;34m+\u001b[0m \u001b[0;34m'_goto_error'\u001b[0m\u001b[0;34m\u001b[0m\u001b[0m\n\u001b[0;32m---> 58\u001b[0;31m             \u001b[0mconditionRewardError\u001b[0m \u001b[0;34m=\u001b[0m \u001b[0mgoToProportion\u001b[0m \u001b[0;34m-\u001b[0m \u001b[0mself\u001b[0m\u001b[0;34m.\u001b[0m\u001b[0mtargetResult\u001b[0m\u001b[0;34m[\u001b[0m\u001b[0mrewardColumnLabel\u001b[0m\u001b[0;34m]\u001b[0m\u001b[0;34m\u001b[0m\u001b[0m\n\u001b[0m\u001b[1;32m     59\u001b[0m             \u001b[0moddOneOutProportions\u001b[0m\u001b[0;34m[\u001b[0m\u001b[0mrewardErrorColumnLabel\u001b[0m\u001b[0;34m]\u001b[0m \u001b[0;34m=\u001b[0m \u001b[0mconditionRewardError\u001b[0m\u001b[0;34m[\u001b[0m\u001b[0;36m0\u001b[0m\u001b[0;34m]\u001b[0m\u001b[0;34m\u001b[0m\u001b[0m\n",
      "\u001b[0;31mKeyError\u001b[0m: 'twoToken_goto'",
      "\nDuring handling of the above exception, another exception occurred:\n",
      "\u001b[0;31mKeyError\u001b[0m                                  Traceback (most recent call last)",
      "\u001b[0;32m<ipython-input-9-40fd73dcecb4>\u001b[0m in \u001b[0;36m<module>\u001b[0;34m()\u001b[0m\n\u001b[1;32m      6\u001b[0m \u001b[0mcomputeStatistics\u001b[0m \u001b[0;34m=\u001b[0m  \u001b[0mEvaluateOverloadedSignaler\u001b[0m\u001b[0;34m(\u001b[0m\u001b[0mconditionDictionary\u001b[0m \u001b[0;34m=\u001b[0m \u001b[0mconditionParameters\u001b[0m\u001b[0;34m,\u001b[0m \u001b[0mtargetResult\u001b[0m \u001b[0;34m=\u001b[0m \u001b[0msignalerHumanResults\u001b[0m\u001b[0;34m,\u001b[0m \u001b[0mfixedParameters\u001b[0m\u001b[0;34m=\u001b[0m\u001b[0mfixedParameters\u001b[0m\u001b[0;34m)\u001b[0m\u001b[0;34m\u001b[0m\u001b[0m\n\u001b[1;32m      7\u001b[0m \u001b[0mcomputeConditionStatistics\u001b[0m \u001b[0;34m=\u001b[0m \u001b[0;32mlambda\u001b[0m \u001b[0mcondition\u001b[0m\u001b[0;34m:\u001b[0m \u001b[0mcomputeStatistics\u001b[0m\u001b[0;34m(\u001b[0m\u001b[0mcondition\u001b[0m\u001b[0;34m.\u001b[0m\u001b[0mindex\u001b[0m\u001b[0;34m.\u001b[0m\u001b[0mget_level_values\u001b[0m\u001b[0;34m(\u001b[0m\u001b[0;34m'alpha'\u001b[0m\u001b[0;34m)\u001b[0m\u001b[0;34m[\u001b[0m\u001b[0;36m0\u001b[0m\u001b[0;34m]\u001b[0m\u001b[0;34m,\u001b[0m \u001b[0mcondition\u001b[0m\u001b[0;34m.\u001b[0m\u001b[0mindex\u001b[0m\u001b[0;34m.\u001b[0m\u001b[0mget_level_values\u001b[0m\u001b[0;34m(\u001b[0m\u001b[0;34m'signalTypePriors'\u001b[0m\u001b[0;34m)\u001b[0m\u001b[0;34m[\u001b[0m\u001b[0;36m0\u001b[0m\u001b[0;34m]\u001b[0m\u001b[0;34m)\u001b[0m\u001b[0;34m\u001b[0m\u001b[0m\n\u001b[0;32m----> 8\u001b[0;31m \u001b[0mconditionStatistics_4x5FromLarge\u001b[0m \u001b[0;34m=\u001b[0m \u001b[0mtoSplitFrame\u001b[0m\u001b[0;34m.\u001b[0m\u001b[0mgroupby\u001b[0m\u001b[0;34m(\u001b[0m\u001b[0mlevelNames\u001b[0m\u001b[0;34m)\u001b[0m\u001b[0;34m.\u001b[0m\u001b[0mapply\u001b[0m\u001b[0;34m(\u001b[0m\u001b[0mcomputeConditionStatistics\u001b[0m\u001b[0;34m)\u001b[0m\u001b[0;34m\u001b[0m\u001b[0m\n\u001b[0m",
      "\u001b[0;32m~/miniconda3/envs/cogsci/lib/python3.5/site-packages/pandas/core/groupby/groupby.py\u001b[0m in \u001b[0;36mapply\u001b[0;34m(self, func, *args, **kwargs)\u001b[0m\n\u001b[1;32m    928\u001b[0m \u001b[0;34m\u001b[0m\u001b[0m\n\u001b[1;32m    929\u001b[0m                 \u001b[0;32mwith\u001b[0m \u001b[0m_group_selection_context\u001b[0m\u001b[0;34m(\u001b[0m\u001b[0mself\u001b[0m\u001b[0;34m)\u001b[0m\u001b[0;34m:\u001b[0m\u001b[0;34m\u001b[0m\u001b[0m\n\u001b[0;32m--> 930\u001b[0;31m                     \u001b[0;32mreturn\u001b[0m \u001b[0mself\u001b[0m\u001b[0;34m.\u001b[0m\u001b[0m_python_apply_general\u001b[0m\u001b[0;34m(\u001b[0m\u001b[0mf\u001b[0m\u001b[0;34m)\u001b[0m\u001b[0;34m\u001b[0m\u001b[0m\n\u001b[0m\u001b[1;32m    931\u001b[0m \u001b[0;34m\u001b[0m\u001b[0m\n\u001b[1;32m    932\u001b[0m         \u001b[0;32mreturn\u001b[0m \u001b[0mresult\u001b[0m\u001b[0;34m\u001b[0m\u001b[0m\n",
      "\u001b[0;32m~/miniconda3/envs/cogsci/lib/python3.5/site-packages/pandas/core/groupby/groupby.py\u001b[0m in \u001b[0;36m_python_apply_general\u001b[0;34m(self, f)\u001b[0m\n\u001b[1;32m    934\u001b[0m     \u001b[0;32mdef\u001b[0m \u001b[0m_python_apply_general\u001b[0m\u001b[0;34m(\u001b[0m\u001b[0mself\u001b[0m\u001b[0;34m,\u001b[0m \u001b[0mf\u001b[0m\u001b[0;34m)\u001b[0m\u001b[0;34m:\u001b[0m\u001b[0;34m\u001b[0m\u001b[0m\n\u001b[1;32m    935\u001b[0m         keys, values, mutated = self.grouper.apply(f, self._selected_obj,\n\u001b[0;32m--> 936\u001b[0;31m                                                    self.axis)\n\u001b[0m\u001b[1;32m    937\u001b[0m \u001b[0;34m\u001b[0m\u001b[0m\n\u001b[1;32m    938\u001b[0m         return self._wrap_applied_output(\n",
      "\u001b[0;32m~/miniconda3/envs/cogsci/lib/python3.5/site-packages/pandas/core/groupby/groupby.py\u001b[0m in \u001b[0;36mapply\u001b[0;34m(self, f, data, axis)\u001b[0m\n\u001b[1;32m   2271\u001b[0m             \u001b[0;31m# group might be modified\u001b[0m\u001b[0;34m\u001b[0m\u001b[0;34m\u001b[0m\u001b[0m\n\u001b[1;32m   2272\u001b[0m             \u001b[0mgroup_axes\u001b[0m \u001b[0;34m=\u001b[0m \u001b[0m_get_axes\u001b[0m\u001b[0;34m(\u001b[0m\u001b[0mgroup\u001b[0m\u001b[0;34m)\u001b[0m\u001b[0;34m\u001b[0m\u001b[0m\n\u001b[0;32m-> 2273\u001b[0;31m             \u001b[0mres\u001b[0m \u001b[0;34m=\u001b[0m \u001b[0mf\u001b[0m\u001b[0;34m(\u001b[0m\u001b[0mgroup\u001b[0m\u001b[0;34m)\u001b[0m\u001b[0;34m\u001b[0m\u001b[0m\n\u001b[0m\u001b[1;32m   2274\u001b[0m             \u001b[0;32mif\u001b[0m \u001b[0;32mnot\u001b[0m \u001b[0m_is_indexed_like\u001b[0m\u001b[0;34m(\u001b[0m\u001b[0mres\u001b[0m\u001b[0;34m,\u001b[0m \u001b[0mgroup_axes\u001b[0m\u001b[0;34m)\u001b[0m\u001b[0;34m:\u001b[0m\u001b[0;34m\u001b[0m\u001b[0m\n\u001b[1;32m   2275\u001b[0m                 \u001b[0mmutated\u001b[0m \u001b[0;34m=\u001b[0m \u001b[0;32mTrue\u001b[0m\u001b[0;34m\u001b[0m\u001b[0m\n",
      "\u001b[0;32m<ipython-input-9-40fd73dcecb4>\u001b[0m in \u001b[0;36m<lambda>\u001b[0;34m(condition)\u001b[0m\n\u001b[1;32m      5\u001b[0m \u001b[0;34m\u001b[0m\u001b[0m\n\u001b[1;32m      6\u001b[0m \u001b[0mcomputeStatistics\u001b[0m \u001b[0;34m=\u001b[0m  \u001b[0mEvaluateOverloadedSignaler\u001b[0m\u001b[0;34m(\u001b[0m\u001b[0mconditionDictionary\u001b[0m \u001b[0;34m=\u001b[0m \u001b[0mconditionParameters\u001b[0m\u001b[0;34m,\u001b[0m \u001b[0mtargetResult\u001b[0m \u001b[0;34m=\u001b[0m \u001b[0msignalerHumanResults\u001b[0m\u001b[0;34m,\u001b[0m \u001b[0mfixedParameters\u001b[0m\u001b[0;34m=\u001b[0m\u001b[0mfixedParameters\u001b[0m\u001b[0;34m)\u001b[0m\u001b[0;34m\u001b[0m\u001b[0m\n\u001b[0;32m----> 7\u001b[0;31m \u001b[0mcomputeConditionStatistics\u001b[0m \u001b[0;34m=\u001b[0m \u001b[0;32mlambda\u001b[0m \u001b[0mcondition\u001b[0m\u001b[0;34m:\u001b[0m \u001b[0mcomputeStatistics\u001b[0m\u001b[0;34m(\u001b[0m\u001b[0mcondition\u001b[0m\u001b[0;34m.\u001b[0m\u001b[0mindex\u001b[0m\u001b[0;34m.\u001b[0m\u001b[0mget_level_values\u001b[0m\u001b[0;34m(\u001b[0m\u001b[0;34m'alpha'\u001b[0m\u001b[0;34m)\u001b[0m\u001b[0;34m[\u001b[0m\u001b[0;36m0\u001b[0m\u001b[0;34m]\u001b[0m\u001b[0;34m,\u001b[0m \u001b[0mcondition\u001b[0m\u001b[0;34m.\u001b[0m\u001b[0mindex\u001b[0m\u001b[0;34m.\u001b[0m\u001b[0mget_level_values\u001b[0m\u001b[0;34m(\u001b[0m\u001b[0;34m'signalTypePriors'\u001b[0m\u001b[0;34m)\u001b[0m\u001b[0;34m[\u001b[0m\u001b[0;36m0\u001b[0m\u001b[0;34m]\u001b[0m\u001b[0;34m)\u001b[0m\u001b[0;34m\u001b[0m\u001b[0m\n\u001b[0m\u001b[1;32m      8\u001b[0m \u001b[0mconditionStatistics_4x5FromLarge\u001b[0m \u001b[0;34m=\u001b[0m \u001b[0mtoSplitFrame\u001b[0m\u001b[0;34m.\u001b[0m\u001b[0mgroupby\u001b[0m\u001b[0;34m(\u001b[0m\u001b[0mlevelNames\u001b[0m\u001b[0;34m)\u001b[0m\u001b[0;34m.\u001b[0m\u001b[0mapply\u001b[0m\u001b[0;34m(\u001b[0m\u001b[0mcomputeConditionStatistics\u001b[0m\u001b[0;34m)\u001b[0m\u001b[0;34m\u001b[0m\u001b[0m\n",
      "\u001b[0;32m~/Documents/Research/OverloadedSignaling/eval/evaluateOverloadedSignaling.py\u001b[0m in \u001b[0;36m__call__\u001b[0;34m(self, alpha, signalTypePrior)\u001b[0m\n\u001b[1;32m     56\u001b[0m \u001b[0;34m\u001b[0m\u001b[0m\n\u001b[1;32m     57\u001b[0m             \u001b[0mrewardErrorColumnLabel\u001b[0m \u001b[0;34m=\u001b[0m \u001b[0mconditionName\u001b[0m \u001b[0;34m+\u001b[0m \u001b[0;34m'_goto_error'\u001b[0m\u001b[0;34m\u001b[0m\u001b[0m\n\u001b[0;32m---> 58\u001b[0;31m             \u001b[0mconditionRewardError\u001b[0m \u001b[0;34m=\u001b[0m \u001b[0mgoToProportion\u001b[0m \u001b[0;34m-\u001b[0m \u001b[0mself\u001b[0m\u001b[0;34m.\u001b[0m\u001b[0mtargetResult\u001b[0m\u001b[0;34m[\u001b[0m\u001b[0mrewardColumnLabel\u001b[0m\u001b[0;34m]\u001b[0m\u001b[0;34m\u001b[0m\u001b[0m\n\u001b[0m\u001b[1;32m     59\u001b[0m             \u001b[0moddOneOutProportions\u001b[0m\u001b[0;34m[\u001b[0m\u001b[0mrewardErrorColumnLabel\u001b[0m\u001b[0;34m]\u001b[0m \u001b[0;34m=\u001b[0m \u001b[0mconditionRewardError\u001b[0m\u001b[0;34m[\u001b[0m\u001b[0;36m0\u001b[0m\u001b[0;34m]\u001b[0m\u001b[0;34m\u001b[0m\u001b[0m\n\u001b[1;32m     60\u001b[0m \u001b[0;34m\u001b[0m\u001b[0m\n",
      "\u001b[0;31mKeyError\u001b[0m: 'twoToken_goto'"
     ]
    }
   ],
   "source": [
    "levelNames = list(manipulatedVariables.keys())\n",
    "levelValues = list(manipulatedVariables.values())\n",
    "modelIndex = pd.MultiIndex.from_product(levelValues, names=levelNames)\n",
    "toSplitFrame = pd.DataFrame(index=modelIndex)\n",
    "\n",
    "computeStatistics =  EvaluateOverloadedSignaler(conditionDictionary = conditionParameters, targetResult = signalerHumanResults, fixedParameters=fixedParameters)\n",
    "computeConditionStatistics = lambda condition: computeStatistics(condition.index.get_level_values('alpha')[0], condition.index.get_level_values('signalTypePriors')[0])\n",
    "conditionStatistics_4x5FromLarge = toSplitFrame.groupby(levelNames).apply(computeConditionStatistics)"
   ]
  },
  {
   "cell_type": "code",
   "execution_count": null,
   "metadata": {
    "ExecuteTime": {
     "end_time": "2019-11-01T20:01:00.361172Z",
     "start_time": "2019-11-01T20:00:57.166Z"
    }
   },
   "outputs": [],
   "source": [
    "conditionStatistics_4x5FromLarge"
   ]
  },
  {
   "cell_type": "markdown",
   "metadata": {},
   "source": [
    "## Experiment 2\n"
   ]
  },
  {
   "cell_type": "markdown",
   "metadata": {},
   "source": [
    "### Large Grid\n",
    "- 16 by 16 \n",
    "- over a wide range of possibilities"
   ]
  },
  {
   "cell_type": "code",
   "execution_count": null,
   "metadata": {
    "ExecuteTime": {
     "end_time": "2019-11-01T20:01:00.362325Z",
     "start_time": "2019-11-01T20:00:57.171Z"
    }
   },
   "outputs": [],
   "source": [
    "manipulatedVariables = OrderedDict()\n",
    "manipulatedVariables['alpha'] = list(np.linspace(1.0,15.0,16))\n",
    "manipulatedVariables['signalTypePriors'] = list(np.linspace(.35, .7, 16))"
   ]
  },
  {
   "cell_type": "code",
   "execution_count": null,
   "metadata": {
    "ExecuteTime": {
     "end_time": "2019-11-01T20:01:00.363267Z",
     "start_time": "2019-11-01T20:00:57.175Z"
    },
    "scrolled": true
   },
   "outputs": [],
   "source": [
    "levelNames = list(manipulatedVariables.keys())\n",
    "levelValues = list(manipulatedVariables.values())\n",
    "modelIndex = pd.MultiIndex.from_product(levelValues, names=levelNames)\n",
    "toSplitFrame = pd.DataFrame(index=modelIndex)\n",
    "\n",
    "computeStatistics =  EvaluateOverloadedSignaler(conditionDictionary = conditionParameters, targetResult = signalerHumanResultsExperiment2, fixedParameters=fixedParameters)\n",
    "computeConditionStatistics = lambda condition: computeStatistics(condition.index.get_level_values('alpha')[0], condition.index.get_level_values('signalTypePriors')[0])\n",
    "conditionStatistics_16x16Expt2 = toSplitFrame.groupby(levelNames).apply(computeConditionStatistics)"
   ]
  },
  {
   "cell_type": "code",
   "execution_count": null,
   "metadata": {
    "ExecuteTime": {
     "end_time": "2019-11-01T20:01:00.364001Z",
     "start_time": "2019-11-01T20:00:57.178Z"
    },
    "scrolled": true
   },
   "outputs": [],
   "source": [
    "conditionStatistics_16x16Expt2"
   ]
  },
  {
   "cell_type": "code",
   "execution_count": null,
   "metadata": {
    "ExecuteTime": {
     "end_time": "2019-11-01T20:01:00.364634Z",
     "start_time": "2019-11-01T20:00:57.182Z"
    }
   },
   "outputs": [],
   "source": [
    "conditionStatistics_16x16Expt2.loc[conditionStatistics_16x16Expt2['total_rmse'] < .08]"
   ]
  },
  {
   "cell_type": "markdown",
   "metadata": {},
   "source": [
    "### Large Grid (Fine)\n",
    "\n",
    "Chosen from the large grid over a large set of possibilities\n",
    "\n",
    "- 12 by 12\n",
    "- Testing for all condition matches, including null signaling"
   ]
  },
  {
   "cell_type": "code",
   "execution_count": null,
   "metadata": {
    "ExecuteTime": {
     "end_time": "2019-11-01T20:01:00.365309Z",
     "start_time": "2019-11-01T20:00:57.186Z"
    }
   },
   "outputs": [],
   "source": [
    "manipulatedVariables = OrderedDict()\n",
    "manipulatedVariables['alpha'] = [1.5, 2, 2.5, 3, 3.5, 4, 4.5, 5, 5.5, 6, 6.5, 7]\n",
    "manipulatedVariables['signalTypePriors'] = [.49, .5, .51, .52, .53, .54, .55, .56, .57, .58, .59, .6]"
   ]
  },
  {
   "cell_type": "code",
   "execution_count": null,
   "metadata": {
    "ExecuteTime": {
     "end_time": "2019-11-01T20:01:00.365787Z",
     "start_time": "2019-11-01T20:00:57.189Z"
    }
   },
   "outputs": [],
   "source": [
    "levelNames = list(manipulatedVariables.keys())\n",
    "levelValues = list(manipulatedVariables.values())\n",
    "modelIndex = pd.MultiIndex.from_product(levelValues, names=levelNames)\n",
    "toSplitFrame = pd.DataFrame(index=modelIndex)\n",
    "\n",
    "computeStatistics =  EvaluateOverloadedSignaler(conditionDictionary = conditionParameters, targetResult = signalerHumanResultsExperiment2, fixedParameters=fixedParameters)\n",
    "computeConditionStatistics = lambda condition: computeStatistics(condition.index.get_level_values('alpha')[0], condition.index.get_level_values('signalTypePriors')[0])\n",
    "conditionStatistics_12x12Expt2 = toSplitFrame.groupby(levelNames).apply(computeConditionStatistics)"
   ]
  },
  {
   "cell_type": "code",
   "execution_count": null,
   "metadata": {
    "ExecuteTime": {
     "end_time": "2019-11-01T20:01:00.366570Z",
     "start_time": "2019-11-01T20:00:57.193Z"
    },
    "scrolled": true
   },
   "outputs": [],
   "source": [
    "conditionStatistics_12x12Expt2"
   ]
  },
  {
   "cell_type": "code",
   "execution_count": null,
   "metadata": {
    "ExecuteTime": {
     "end_time": "2019-11-01T20:01:00.367198Z",
     "start_time": "2019-11-01T20:00:57.195Z"
    }
   },
   "outputs": [],
   "source": [
    "conditionStatistics_12x12Expt2.loc[conditionStatistics_12x12Expt2['total_rmse'] < .11]"
   ]
  },
  {
   "cell_type": "markdown",
   "metadata": {},
   "source": [
    "### Optimal Parameter grid - Null Full PDF\n",
    "- for Experiment 2, null signaling and null actions included, odd one out proportion and go to signaling (full signal PDF) as metric"
   ]
  },
  {
   "cell_type": "code",
   "execution_count": null,
   "metadata": {
    "ExecuteTime": {
     "end_time": "2019-11-01T20:01:36.187856Z",
     "start_time": "2019-11-01T20:01:36.185586Z"
    }
   },
   "outputs": [],
   "source": [
    "manipulatedVariables = OrderedDict()\n",
    "manipulatedVariables['alpha'] = [3.0, 3.5, 4, 4.5, 5]\n",
    "manipulatedVariables['signalTypePriors'] = [.55, .56, .57, .58]"
   ]
  },
  {
   "cell_type": "code",
   "execution_count": null,
   "metadata": {
    "ExecuteTime": {
     "end_time": "2019-11-01T20:02:18.560063Z",
     "start_time": "2019-11-01T20:01:36.608389Z"
    },
    "scrolled": false
   },
   "outputs": [],
   "source": [
    "levelNames = list(manipulatedVariables.keys())\n",
    "levelValues = list(manipulatedVariables.values())\n",
    "modelIndex = pd.MultiIndex.from_product(levelValues, names=levelNames)\n",
    "toSplitFrame = pd.DataFrame(index=modelIndex)\n",
    "\n",
    "computeStatistics =  EvaluateOverloadedSignaler(conditionDictionary = conditionParameters, targetResult = signalerHumanResultsExperiment2, fixedParameters=fixedParameters)\n",
    "computeConditionStatistics = lambda condition: computeStatistics(condition.index.get_level_values('alpha')[0], condition.index.get_level_values('signalTypePriors')[0])\n",
    "conditionStatistics_5x4Expt2 = toSplitFrame.groupby(levelNames).apply(computeConditionStatistics)"
   ]
  },
  {
   "cell_type": "code",
   "execution_count": null,
   "metadata": {
    "ExecuteTime": {
     "end_time": "2019-11-01T20:01:00.369858Z",
     "start_time": "2019-11-01T20:00:57.206Z"
    }
   },
   "outputs": [],
   "source": [
    "conditionStatistics_5x4Expt2"
   ]
  },
  {
   "cell_type": "markdown",
   "metadata": {},
   "source": [
    "### Optimal Parameter grid - No Null OOOP\n",
    " - for Experiment 2, null signaling and null actions removed, odd one out proportion as metric"
   ]
  },
  {
   "cell_type": "code",
   "execution_count": null,
   "metadata": {
    "ExecuteTime": {
     "end_time": "2019-11-01T20:01:00.370658Z",
     "start_time": "2019-11-01T20:00:57.210Z"
    }
   },
   "outputs": [],
   "source": [
    "manipulatedVariables = OrderedDict()\n",
    "manipulatedVariables['alpha'] = [1, 1.5, 1.75, 2, 2.5, 3]\n",
    "manipulatedVariables['signalTypePriors'] = [.55, .57, .59,.6 ,.61, .63]"
   ]
  },
  {
   "cell_type": "code",
   "execution_count": null,
   "metadata": {
    "ExecuteTime": {
     "end_time": "2019-11-01T20:01:00.371315Z",
     "start_time": "2019-11-01T20:00:57.212Z"
    },
    "scrolled": true
   },
   "outputs": [],
   "source": [
    "levelNames = list(manipulatedVariables.keys())\n",
    "levelValues = list(manipulatedVariables.values())\n",
    "modelIndex = pd.MultiIndex.from_product(levelValues, names=levelNames)\n",
    "toSplitFrame = pd.DataFrame(index=modelIndex)\n",
    "\n",
    "computeStatistics =  EvaluateOverloadedSignaler(conditionDictionary = conditionParameters, targetResult = signalerHumanResultsExperiment2, fixedParameters=fixedParameters)\n",
    "computeConditionStatistics = lambda condition: computeStatistics(condition.index.get_level_values('alpha')[0], condition.index.get_level_values('signalTypePriors')[0])\n",
    "optimalNoZeroes = toSplitFrame.groupby(levelNames).apply(computeConditionStatistics)"
   ]
  },
  {
   "cell_type": "code",
   "execution_count": null,
   "metadata": {
    "ExecuteTime": {
     "end_time": "2019-11-01T20:01:00.371959Z",
     "start_time": "2019-11-01T20:00:57.216Z"
    }
   },
   "outputs": [],
   "source": [
    "optimalNoZeroes.loc[optimalNoZeroes['total_rmse'] < .04]"
   ]
  },
  {
   "cell_type": "markdown",
   "metadata": {},
   "source": [
    "### Optimal Parameter Grid - Null OOOP\n",
    "- For experiment 2, null signaling and actions included, odd one out proportion as metric"
   ]
  },
  {
   "cell_type": "code",
   "execution_count": null,
   "metadata": {
    "ExecuteTime": {
     "end_time": "2019-11-01T20:01:00.372579Z",
     "start_time": "2019-11-01T20:00:57.219Z"
    }
   },
   "outputs": [],
   "source": [
    "manipulatedVariables = OrderedDict()\n",
    "manipulatedVariables['alpha'] = [6,8,10,12,14]\n",
    "manipulatedVariables['signalTypePriors'] = [.49, .5, .51, .52, .53, .54]"
   ]
  },
  {
   "cell_type": "markdown",
   "metadata": {},
   "source": [
    "# Plotting"
   ]
  },
  {
   "cell_type": "markdown",
   "metadata": {},
   "source": [
    "### Hyperparameters of Plotting"
   ]
  },
  {
   "cell_type": "code",
   "execution_count": null,
   "metadata": {
    "ExecuteTime": {
     "end_time": "2019-11-01T20:01:00.373661Z",
     "start_time": "2019-11-01T20:00:57.222Z"
    },
    "scrolled": false
   },
   "outputs": [],
   "source": [
    "#experiment 1 target human performances from paper\n",
    "targetMeansExp1 = {'twoToken':0.02, 'inversion':.91, 'wall':.48, 'oneAx':.32}\n",
    "targetSEExp1 = {'twoToken':0.025, 'inversion':.042, 'wall':.073, 'oneAx':.082}\n",
    "\n",
    "#experiment 2 target human performances from paper\n",
    "targetMeansExp2 = {'twoToken':0.0, 'twoToken_goto':1.0,'inversion':.56,'inversion_goto':.42, 'wall':.23,'wall_goto':.77, 'oneAx':.375, 'oneAx_goto':.625}\n",
    "targetSEExp2 = {'twoToken':0.0, 'twoToken_goto':0.0,'inversion':.1,'inversion_goto':.1, 'wall':.08,'wall_goto':.08, 'oneAx':.1, 'oneAx_goto':.1}"
   ]
  },
  {
   "cell_type": "code",
   "execution_count": null,
   "metadata": {
    "ExecuteTime": {
     "end_time": "2019-11-01T20:01:00.374660Z",
     "start_time": "2019-11-01T20:00:57.226Z"
    }
   },
   "outputs": [],
   "source": [
    "#plotting hyperparameters\n",
    "figureSize = (25,18)\n",
    "horizontalSpaceBetweenSubplots = .45\n",
    "legendColors = {'twoToken' : 'thistle','twoToken_goto': 'thistle', 'inversion':'royalblue', 'inversion_goto':'royalblue','wall':'gold','wall_goto':'gold','oneAx':'lightsalmon', 'oneAx_goto':'lightsalmon'}\n",
    "hatch = {'twoToken':'n', 'twoToken_goto':'//','inversion':'n','inversion_goto':'//', 'wall':'n','wall_goto':'//', 'oneAx':'n', 'oneAx_goto':'//'}"
   ]
  },
  {
   "cell_type": "markdown",
   "metadata": {},
   "source": [
    "### Specific to dataFrame"
   ]
  },
  {
   "cell_type": "code",
   "execution_count": null,
   "metadata": {
    "ExecuteTime": {
     "end_time": "2019-11-01T20:01:00.375343Z",
     "start_time": "2019-11-01T20:00:57.229Z"
    }
   },
   "outputs": [],
   "source": [
    "#dataframe to plot\n",
    "dataframeName = conditionStatistics_5x4Expt2\n",
    "dataFrameRowLength = len(manipulatedVariables['alpha'])\n",
    "dataFrameColLength = len(manipulatedVariables['signalTypePriors'])"
   ]
  },
  {
   "cell_type": "markdown",
   "metadata": {},
   "source": [
    "### Overarching Plotting Code"
   ]
  },
  {
   "cell_type": "code",
   "execution_count": null,
   "metadata": {
    "ExecuteTime": {
     "end_time": "2019-11-01T20:01:00.376113Z",
     "start_time": "2019-11-01T20:00:57.233Z"
    },
    "scrolled": false
   },
   "outputs": [],
   "source": [
    "fig = plt.figure(figsize=figureSize)\n",
    "numRows = dataFrameRowLength\n",
    "numColumns = dataFrameColLength\n",
    "plotCounter = 1\n",
    "\n",
    "for alpha, grp in dataframeName.groupby('alpha'):\n",
    "    grp.index = grp.index.droplevel('alpha')\n",
    "    for signalTypePriors, group in grp.groupby('signalTypePriors'):\n",
    "\n",
    "        #subplot axis labels\n",
    "        axForDraw = fig.add_subplot(numRows, numColumns, plotCounter)\n",
    "        if plotCounter % numColumns == 1:\n",
    "            axForDraw.set_ylabel('alpha: {}'.format(alpha))\n",
    "        if plotCounter <= numColumns:\n",
    "            axForDraw.set_title('p(c) = 1: {}'.format(round(signalTypePriors, 2)))\n",
    "        axForDraw.set_ylim(0, 1)\n",
    "\n",
    "        #draw subplot\n",
    "        drawPerformanceBarPlot(group, signalTypePriors, axForDraw, targetMeansExp2, targetSEExp2, legendColors, 8, hatch)\n",
    "\n",
    "        plotCounter += 1\n",
    "\n",
    "#Title\n",
    "plt.suptitle('Proportion Usage of Odd One Out Signaling')\n",
    "\n",
    "#legend\n",
    "legend_dict = legendColors\n",
    "patchList = []\n",
    "trialList = [\"twoToken\", 'inversion', 'wall', 'oneAx']\n",
    "for key in trialList:\n",
    "    data_key = mpatches.Patch(color=legend_dict[key], label=key, hatch = hatch[key])\n",
    "    patchList.append(data_key)\n",
    "plt.legend(handles=patchList, loc='best')\n",
    "\n",
    "#adjust horizontal spacing of subplots\n",
    "fig.subplots_adjust(wspace=horizontalSpaceBetweenSubplots)\n",
    "\n",
    "plt.show()"
   ]
  },
  {
   "cell_type": "markdown",
   "metadata": {},
   "source": [
    "## Optimal Parameter Plotting - single plot from data fram"
   ]
  },
  {
   "cell_type": "code",
   "execution_count": null,
   "metadata": {
    "ExecuteTime": {
     "end_time": "2019-11-01T20:01:00.376743Z",
     "start_time": "2019-11-01T20:00:57.239Z"
    }
   },
   "outputs": [],
   "source": [
    "def drawPerformanceBarPlot(dfCondition, oddOneOutConditions, targetSEDictionary, conditionColors, nConditions = 4, hatches = None, barWidth = .35):\n",
    "    plotTitle = 'Proportion of Odd-One-Out Signaling Usage'\n",
    "    fig = plt.figure(figsize=figureSize)\n",
    "    fig, ax = plt.subplots() \n",
    "    N = nConditions\n",
    "    ind = np.arange(N)  # the x locations for the groups\n",
    "    width = barWidth      # the width of the bars\n",
    "\n",
    "    modelMeans = []\n",
    "    targetMeans = []\n",
    "    targetSEs = []\n",
    "    cols = []\n",
    "    hatchPattern = []\n",
    "\n",
    "    for condition, trgtMean in oddOneOutConditions.items():\n",
    "        modelMeans.append(dfCondition[condition].values[0])\n",
    "        targetMeans.append(trgtMean)\n",
    "        targetSEs.append(targetSEDictionary[condition])\n",
    "        cols.append(conditionColors[condition])\n",
    "\n",
    "        if hatches is None:\n",
    "            hatchPattern.append('n')\n",
    "        else:\n",
    "            hatchPattern.append(hatches[condition])\n",
    "\n",
    "    modelPreds = ax.bar(ind, tuple(modelMeans), width, color=cols, alpha = .5)\n",
    "    \n",
    "    humanPreds = ax.bar(ind + width, tuple(targetMeans), width, color=cols, yerr=tuple(targetSEs))\n",
    "\n",
    "    for modelPred, humanPred, pattern in zip(modelPreds, humanPreds, hatchPattern):\n",
    "        modelPred.set_hatch(pattern)\n",
    "        humanPred.set_hatch(pattern)\n",
    "    \n",
    "    ax.set_ylim(0, 1)\n",
    "    ax.set_yticks([0,.5,1])\n",
    "    ax.set_xticks([])\n",
    "    fig.suptitle(plotTitle)\n",
    "    plt.show()"
   ]
  },
  {
   "cell_type": "code",
   "execution_count": null,
   "metadata": {
    "ExecuteTime": {
     "end_time": "2019-11-01T20:01:00.377376Z",
     "start_time": "2019-11-01T20:00:57.242Z"
    }
   },
   "outputs": [],
   "source": [
    "#experiment 2 target human performances from paper\n",
    "targetMeansExp2 = {'twoToken':0.0, 'twoToken_goto':1.0,'inversion':.56,'inversion_goto':.42, 'wall':.23,'wall_goto':.77, 'oneAx':.375, 'oneAx_goto':.625}\n",
    "targetSEExp2 = {'twoToken':0.0, 'twoToken_goto':0.0,'inversion':.1,'inversion_goto':.1, 'wall':.08,'wall_goto':.08, 'oneAx':.1, 'oneAx_goto':.1}\n",
    "#plotting hyperparameters\n",
    "figureSize = (25,18)\n",
    "horizontalSpaceBetweenSubplots = .45\n",
    "legendColors = {'twoToken' : 'thistle','twoToken_goto': 'thistle', 'inversion':'royalblue', 'inversion_goto':'royalblue','wall':'gold','wall_goto':'gold','oneAx':'lightsalmon', 'oneAx_goto':'lightsalmon'}\n",
    "hatch = {'twoToken':'n', 'twoToken_goto':'//','inversion':'n','inversion_goto':'//', 'wall':'n','wall_goto':'//', 'oneAx':'n', 'oneAx_goto':'//'}"
   ]
  },
  {
   "cell_type": "code",
   "execution_count": null,
   "metadata": {
    "ExecuteTime": {
     "end_time": "2019-11-01T20:01:00.378053Z",
     "start_time": "2019-11-01T20:00:57.244Z"
    },
    "scrolled": true
   },
   "outputs": [],
   "source": [
    "df = conditionStatistics_5x4Expt2.xs([4.0, .57],level = ['alpha', 'signalTypePriors'])"
   ]
  },
  {
   "cell_type": "code",
   "execution_count": null,
   "metadata": {
    "ExecuteTime": {
     "end_time": "2019-11-01T20:01:00.378759Z",
     "start_time": "2019-11-01T20:00:57.248Z"
    }
   },
   "outputs": [],
   "source": [
    "df"
   ]
  },
  {
   "cell_type": "code",
   "execution_count": null,
   "metadata": {
    "ExecuteTime": {
     "end_time": "2019-11-01T20:01:00.379872Z",
     "start_time": "2019-11-01T20:00:57.251Z"
    }
   },
   "outputs": [],
   "source": [
    "drawPerformanceBarPlot(df, targetMeansExp2, targetSEExp2, legendColors, 8, hatch)"
   ]
  }
 ],
 "metadata": {
  "kernelspec": {
   "display_name": "Python 3",
   "language": "python",
   "name": "python3"
  },
  "language_info": {
   "codemirror_mode": {
    "name": "ipython",
    "version": 3
   },
   "file_extension": ".py",
   "mimetype": "text/x-python",
   "name": "python",
   "nbconvert_exporter": "python",
   "pygments_lexer": "ipython3",
   "version": "3.5.6"
  },
  "toc": {
   "base_numbering": 1,
   "nav_menu": {},
   "number_sections": true,
   "sideBar": true,
   "skip_h1_title": false,
   "title_cell": "Table of Contents",
   "title_sidebar": "Contents",
   "toc_cell": false,
   "toc_position": {},
   "toc_section_display": true,
   "toc_window_display": true
  }
 },
 "nbformat": 4,
 "nbformat_minor": 2
}
