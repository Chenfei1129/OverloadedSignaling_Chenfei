{
 "cells": [
  {
   "cell_type": "code",
   "execution_count": 5,
   "metadata": {
    "ExecuteTime": {
     "end_time": "2020-05-08T22:20:02.501961Z",
     "start_time": "2020-05-08T22:20:02.496897Z"
    }
   },
   "outputs": [],
   "source": [
    "import sys\n",
    "import numpy as np\n",
    "import pandas as pd\n",
    "import matplotlib.pyplot as plt\n",
    "from collections import OrderedDict\n",
    "sys.path.append('../src/')\n",
    "sys.path.append('../eval/')\n",
    "sys.path.append('../envs/experiment')"
   ]
  },
  {
   "cell_type": "code",
   "execution_count": 11,
   "metadata": {
    "ExecuteTime": {
     "end_time": "2020-05-08T22:20:41.355324Z",
     "start_time": "2020-05-08T22:20:41.342918Z"
    }
   },
   "outputs": [],
   "source": [
    "import namingConstants as NC\n",
    "from consistentSignalChecks_Experiment import *\n",
    "from evaluateOverloadedSignaling_Experiment import *"
   ]
  },
  {
   "cell_type": "code",
   "execution_count": 7,
   "metadata": {
    "ExecuteTime": {
     "end_time": "2020-05-08T22:20:03.094019Z",
     "start_time": "2020-05-08T22:20:03.070171Z"
    }
   },
   "outputs": [],
   "source": [
    "%load_ext autoreload\n",
    "%autoreload 2"
   ]
  },
  {
   "cell_type": "markdown",
   "metadata": {},
   "source": [
    "# Set Up\n",
    "## Conditions"
   ]
  },
  {
   "cell_type": "code",
   "execution_count": 8,
   "metadata": {
    "ExecuteTime": {
     "end_time": "2020-05-08T22:20:04.654326Z",
     "start_time": "2020-05-08T22:20:04.641219Z"
    }
   },
   "outputs": [],
   "source": [
    "#condition 1: Joint Planning and No Recursive Reasoning\n",
    "intentionSpace = ['green triangle', 'green circle', 'purple circle']\n",
    "signalSpace = ['green', 'circle']\n",
    "\n",
    "fixedParameters = {NC.WORLDS : [1], NC.DESIRES : [1], NC.INTENTIONS: intentionSpace}\n",
    "conditionParameters = {'signals': signalSpace, 'targets':intentionSpace, 'Low': ((5,0), (5, 10), ((3,0), (7,0)), ((1,10), (5,6), (9,10)), 10), 'Medium': ((5,0), (5, 10), ((3,0), (7,0)), ((1,10), (5,6), (9,10)), 15), 'High': ((5,0), (5, 10), ((3,0), (7,0)), ((1,10), (5,6), (9,10)), 20)}"
   ]
  },
  {
   "cell_type": "code",
   "execution_count": 6,
   "metadata": {
    "ExecuteTime": {
     "end_time": "2020-04-02T05:54:54.761028Z",
     "start_time": "2020-04-02T05:54:54.744462Z"
    }
   },
   "outputs": [],
   "source": [
    "#condition 2: Joint Planning and Recursive Reasoning\n",
    "intentionSpace2 = ['green triangle', 'purple circle', 'green circle']\n",
    "signalSpace2 = ['green', 'circle']\n",
    "\n",
    "fixedParameters2 = {NC.WORLDS : [1], NC.DESIRES : [1], NC.INTENTIONS: intentionSpace2}\n",
    "conditionParameters2 = {'signals': signalSpace2, 'targets':intentionSpace2, 'Low': ((5,0), (5, 10), ((3,0), (7,0)), ((1,10), (5,6), (9,10)), 10), 'Medium': ((5,0), (5, 10), ((3,0), (7,0)), ((1,10), (5,6), (9,10)), 15), 'High': ((5,0), (5, 10), ((3,0), (7,0)), ((1,10), (5,6), (9,10)), 20)}"
   ]
  },
  {
   "cell_type": "code",
   "execution_count": 7,
   "metadata": {
    "ExecuteTime": {
     "end_time": "2020-04-02T05:55:02.402568Z",
     "start_time": "2020-04-02T05:55:02.389657Z"
    }
   },
   "outputs": [],
   "source": [
    "#condition 3: No Joint Planning and Recursive Reasoning\n",
    "intentionSpace3 = ['green triangle', 'green circle','purple circle']\n",
    "signalSpace3 = ['green', 'circle']\n",
    "\n",
    "fixedParameters3 = {NC.WORLDS : [1], NC.DESIRES : [1], NC.INTENTIONS: intentionSpace3}\n",
    "conditionParameters3 = {'signals': signalSpace3, 'targets':intentionSpace3, 'Low': ((5,0), (5, 8), ((3,0), (7,0)), ((1,10), (5,10), (9,10)), 10), 'Medium': ((5,0), (5, 8), ((3,0), (7,0)), ((1,10), (5,10), (9,10)), 15), 'High': ((5,0), (5, 8), ((3,0), (7,0)), ((1,10), (5,10), (9,10)), 20)}"
   ]
  },
  {
   "cell_type": "code",
   "execution_count": 8,
   "metadata": {
    "ExecuteTime": {
     "end_time": "2020-04-02T05:55:44.385684Z",
     "start_time": "2020-04-02T05:55:44.366004Z"
    }
   },
   "outputs": [],
   "source": [
    "#condition 4: No Joint Planning and No Recursive Reasoning\n",
    "intentionSpace4 = ['green triangle', 'purple circle','green circle']\n",
    "signalSpace4 = ['purple', 'triangle']\n",
    "\n",
    "fixedParameters4 = {NC.WORLDS : [1], NC.DESIRES : [1], NC.INTENTIONS: intentionSpace4}\n",
    "conditionParameters4 = {'signals': signalSpace4, 'targets':intentionSpace4, 'Low': ((5,0), (5, 10), ((3,0), (7,0)), ((1,10), (5,6), (9,10)), 10), 'Medium': ((5,0), (5, 10), ((3,0), (7,0)), ((1,10), (5,6), (9,10)), 15), 'High': ((5,0), (5, 10), ((3,0), (7,0)), ((1,10), (5,6), (9,10)), 20)}"
   ]
  },
  {
   "cell_type": "markdown",
   "metadata": {},
   "source": [
    "## Variable Grid to Tune Over"
   ]
  },
  {
   "cell_type": "code",
   "execution_count": 12,
   "metadata": {
    "ExecuteTime": {
     "end_time": "2020-05-08T22:20:44.037748Z",
     "start_time": "2020-05-08T22:20:44.023859Z"
    }
   },
   "outputs": [],
   "source": [
    "manipulatedVariables = OrderedDict()\n",
    "\n",
    "manipulatedVariables['trueTarget'] = ['green triangle', 'green circle', 'purple circle']\n",
    "manipulatedVariables['costs'] = ['Low', 'Medium', 'High']\n",
    "manipulatedVariables['alpha'] = list(np.linspace(0,5,21))\n",
    "manipulatedVariables['nreps'] = [100]\n",
    "\n",
    "levelNames = list(manipulatedVariables.keys())\n",
    "levelValues = list(manipulatedVariables.values())\n",
    "modelIndex = pd.MultiIndex.from_product(levelValues, names=levelNames)\n",
    "toSplitFrame = pd.DataFrame(index=modelIndex)"
   ]
  },
  {
   "cell_type": "markdown",
   "metadata": {},
   "source": [
    "# Condition Evaluation"
   ]
  },
  {
   "cell_type": "code",
   "execution_count": 13,
   "metadata": {
    "ExecuteTime": {
     "end_time": "2020-05-08T22:21:03.241290Z",
     "start_time": "2020-05-08T22:20:44.934272Z"
    },
    "collapsed": true
   },
   "outputs": [
    {
     "name": "stdout",
     "output_type": "stream",
     "text": [
      "condition alpha 0.0 cost High\n"
     ]
    },
    {
     "ename": "KeyboardInterrupt",
     "evalue": "",
     "output_type": "error",
     "traceback": [
      "\u001b[0;31m---------------------------------------------------------------------------\u001b[0m",
      "\u001b[0;31mKeyboardInterrupt\u001b[0m                         Traceback (most recent call last)",
      "\u001b[0;32m<ipython-input-13-8107a2089595>\u001b[0m in \u001b[0;36m<module>\u001b[0;34m()\u001b[0m\n\u001b[1;32m      3\u001b[0m \u001b[0;34m\u001b[0m\u001b[0m\n\u001b[1;32m      4\u001b[0m \u001b[0mcomputeConditionStatistics_JPnoRR\u001b[0m \u001b[0;34m=\u001b[0m \u001b[0;32mlambda\u001b[0m \u001b[0mcondition\u001b[0m\u001b[0;34m:\u001b[0m \u001b[0mcomputeStatistics_JPnoRR\u001b[0m\u001b[0;34m(\u001b[0m\u001b[0mcondition\u001b[0m\u001b[0;34m.\u001b[0m\u001b[0mindex\u001b[0m\u001b[0;34m.\u001b[0m\u001b[0mget_level_values\u001b[0m\u001b[0;34m(\u001b[0m\u001b[0;34m'trueTarget'\u001b[0m\u001b[0;34m)\u001b[0m\u001b[0;34m[\u001b[0m\u001b[0;36m0\u001b[0m\u001b[0;34m]\u001b[0m\u001b[0;34m,\u001b[0m \u001b[0mcondition\u001b[0m\u001b[0;34m.\u001b[0m\u001b[0mindex\u001b[0m\u001b[0;34m.\u001b[0m\u001b[0mget_level_values\u001b[0m\u001b[0;34m(\u001b[0m\u001b[0;34m'costs'\u001b[0m\u001b[0;34m)\u001b[0m\u001b[0;34m[\u001b[0m\u001b[0;36m0\u001b[0m\u001b[0;34m]\u001b[0m\u001b[0;34m,\u001b[0m \u001b[0mcondition\u001b[0m\u001b[0;34m.\u001b[0m\u001b[0mindex\u001b[0m\u001b[0;34m.\u001b[0m\u001b[0mget_level_values\u001b[0m\u001b[0;34m(\u001b[0m\u001b[0;34m'alpha'\u001b[0m\u001b[0;34m)\u001b[0m\u001b[0;34m[\u001b[0m\u001b[0;36m0\u001b[0m\u001b[0;34m]\u001b[0m\u001b[0;34m,\u001b[0m \u001b[0mcondition\u001b[0m\u001b[0;34m.\u001b[0m\u001b[0mindex\u001b[0m\u001b[0;34m.\u001b[0m\u001b[0mget_level_values\u001b[0m\u001b[0;34m(\u001b[0m\u001b[0;34m'nreps'\u001b[0m\u001b[0;34m)\u001b[0m\u001b[0;34m[\u001b[0m\u001b[0;36m0\u001b[0m\u001b[0;34m]\u001b[0m\u001b[0;34m)\u001b[0m\u001b[0;34m\u001b[0m\u001b[0m\n\u001b[0;32m----> 5\u001b[0;31m \u001b[0mexperimentCondition_JPnoRR\u001b[0m \u001b[0;34m=\u001b[0m \u001b[0mtoSplitFrame\u001b[0m\u001b[0;34m.\u001b[0m\u001b[0mgroupby\u001b[0m\u001b[0;34m(\u001b[0m\u001b[0mlevelNames\u001b[0m\u001b[0;34m)\u001b[0m\u001b[0;34m.\u001b[0m\u001b[0mapply\u001b[0m\u001b[0;34m(\u001b[0m\u001b[0mcomputeConditionStatistics_JPnoRR\u001b[0m\u001b[0;34m)\u001b[0m\u001b[0;34m\u001b[0m\u001b[0m\n\u001b[0m",
      "\u001b[0;32m~/miniconda3/envs/cogsci/lib/python3.5/site-packages/pandas/core/groupby/groupby.py\u001b[0m in \u001b[0;36mapply\u001b[0;34m(self, func, *args, **kwargs)\u001b[0m\n\u001b[1;32m    916\u001b[0m         \u001b[0;32mwith\u001b[0m \u001b[0moption_context\u001b[0m\u001b[0;34m(\u001b[0m\u001b[0;34m'mode.chained_assignment'\u001b[0m\u001b[0;34m,\u001b[0m \u001b[0;32mNone\u001b[0m\u001b[0;34m)\u001b[0m\u001b[0;34m:\u001b[0m\u001b[0;34m\u001b[0m\u001b[0m\n\u001b[1;32m    917\u001b[0m             \u001b[0;32mtry\u001b[0m\u001b[0;34m:\u001b[0m\u001b[0;34m\u001b[0m\u001b[0m\n\u001b[0;32m--> 918\u001b[0;31m                 \u001b[0mresult\u001b[0m \u001b[0;34m=\u001b[0m \u001b[0mself\u001b[0m\u001b[0;34m.\u001b[0m\u001b[0m_python_apply_general\u001b[0m\u001b[0;34m(\u001b[0m\u001b[0mf\u001b[0m\u001b[0;34m)\u001b[0m\u001b[0;34m\u001b[0m\u001b[0m\n\u001b[0m\u001b[1;32m    919\u001b[0m             \u001b[0;32mexcept\u001b[0m \u001b[0mException\u001b[0m\u001b[0;34m:\u001b[0m\u001b[0;34m\u001b[0m\u001b[0m\n\u001b[1;32m    920\u001b[0m \u001b[0;34m\u001b[0m\u001b[0m\n",
      "\u001b[0;32m~/miniconda3/envs/cogsci/lib/python3.5/site-packages/pandas/core/groupby/groupby.py\u001b[0m in \u001b[0;36m_python_apply_general\u001b[0;34m(self, f)\u001b[0m\n\u001b[1;32m    934\u001b[0m     \u001b[0;32mdef\u001b[0m \u001b[0m_python_apply_general\u001b[0m\u001b[0;34m(\u001b[0m\u001b[0mself\u001b[0m\u001b[0;34m,\u001b[0m \u001b[0mf\u001b[0m\u001b[0;34m)\u001b[0m\u001b[0;34m:\u001b[0m\u001b[0;34m\u001b[0m\u001b[0m\n\u001b[1;32m    935\u001b[0m         keys, values, mutated = self.grouper.apply(f, self._selected_obj,\n\u001b[0;32m--> 936\u001b[0;31m                                                    self.axis)\n\u001b[0m\u001b[1;32m    937\u001b[0m \u001b[0;34m\u001b[0m\u001b[0m\n\u001b[1;32m    938\u001b[0m         return self._wrap_applied_output(\n",
      "\u001b[0;32m~/miniconda3/envs/cogsci/lib/python3.5/site-packages/pandas/core/groupby/groupby.py\u001b[0m in \u001b[0;36mapply\u001b[0;34m(self, f, data, axis)\u001b[0m\n\u001b[1;32m   2271\u001b[0m             \u001b[0;31m# group might be modified\u001b[0m\u001b[0;34m\u001b[0m\u001b[0;34m\u001b[0m\u001b[0m\n\u001b[1;32m   2272\u001b[0m             \u001b[0mgroup_axes\u001b[0m \u001b[0;34m=\u001b[0m \u001b[0m_get_axes\u001b[0m\u001b[0;34m(\u001b[0m\u001b[0mgroup\u001b[0m\u001b[0;34m)\u001b[0m\u001b[0;34m\u001b[0m\u001b[0m\n\u001b[0;32m-> 2273\u001b[0;31m             \u001b[0mres\u001b[0m \u001b[0;34m=\u001b[0m \u001b[0mf\u001b[0m\u001b[0;34m(\u001b[0m\u001b[0mgroup\u001b[0m\u001b[0;34m)\u001b[0m\u001b[0;34m\u001b[0m\u001b[0m\n\u001b[0m\u001b[1;32m   2274\u001b[0m             \u001b[0;32mif\u001b[0m \u001b[0;32mnot\u001b[0m \u001b[0m_is_indexed_like\u001b[0m\u001b[0;34m(\u001b[0m\u001b[0mres\u001b[0m\u001b[0;34m,\u001b[0m \u001b[0mgroup_axes\u001b[0m\u001b[0;34m)\u001b[0m\u001b[0;34m:\u001b[0m\u001b[0;34m\u001b[0m\u001b[0m\n\u001b[1;32m   2275\u001b[0m                 \u001b[0mmutated\u001b[0m \u001b[0;34m=\u001b[0m \u001b[0;32mTrue\u001b[0m\u001b[0;34m\u001b[0m\u001b[0m\n",
      "\u001b[0;32m<ipython-input-13-8107a2089595>\u001b[0m in \u001b[0;36m<lambda>\u001b[0;34m(condition)\u001b[0m\n\u001b[1;32m      2\u001b[0m                                     fixedParameters=fixedParameters)\n\u001b[1;32m      3\u001b[0m \u001b[0;34m\u001b[0m\u001b[0m\n\u001b[0;32m----> 4\u001b[0;31m \u001b[0mcomputeConditionStatistics_JPnoRR\u001b[0m \u001b[0;34m=\u001b[0m \u001b[0;32mlambda\u001b[0m \u001b[0mcondition\u001b[0m\u001b[0;34m:\u001b[0m \u001b[0mcomputeStatistics_JPnoRR\u001b[0m\u001b[0;34m(\u001b[0m\u001b[0mcondition\u001b[0m\u001b[0;34m.\u001b[0m\u001b[0mindex\u001b[0m\u001b[0;34m.\u001b[0m\u001b[0mget_level_values\u001b[0m\u001b[0;34m(\u001b[0m\u001b[0;34m'trueTarget'\u001b[0m\u001b[0;34m)\u001b[0m\u001b[0;34m[\u001b[0m\u001b[0;36m0\u001b[0m\u001b[0;34m]\u001b[0m\u001b[0;34m,\u001b[0m \u001b[0mcondition\u001b[0m\u001b[0;34m.\u001b[0m\u001b[0mindex\u001b[0m\u001b[0;34m.\u001b[0m\u001b[0mget_level_values\u001b[0m\u001b[0;34m(\u001b[0m\u001b[0;34m'costs'\u001b[0m\u001b[0;34m)\u001b[0m\u001b[0;34m[\u001b[0m\u001b[0;36m0\u001b[0m\u001b[0;34m]\u001b[0m\u001b[0;34m,\u001b[0m \u001b[0mcondition\u001b[0m\u001b[0;34m.\u001b[0m\u001b[0mindex\u001b[0m\u001b[0;34m.\u001b[0m\u001b[0mget_level_values\u001b[0m\u001b[0;34m(\u001b[0m\u001b[0;34m'alpha'\u001b[0m\u001b[0;34m)\u001b[0m\u001b[0;34m[\u001b[0m\u001b[0;36m0\u001b[0m\u001b[0;34m]\u001b[0m\u001b[0;34m,\u001b[0m \u001b[0mcondition\u001b[0m\u001b[0;34m.\u001b[0m\u001b[0mindex\u001b[0m\u001b[0;34m.\u001b[0m\u001b[0mget_level_values\u001b[0m\u001b[0;34m(\u001b[0m\u001b[0;34m'nreps'\u001b[0m\u001b[0;34m)\u001b[0m\u001b[0;34m[\u001b[0m\u001b[0;36m0\u001b[0m\u001b[0;34m]\u001b[0m\u001b[0;34m)\u001b[0m\u001b[0;34m\u001b[0m\u001b[0m\n\u001b[0m\u001b[1;32m      5\u001b[0m \u001b[0mexperimentCondition_JPnoRR\u001b[0m \u001b[0;34m=\u001b[0m \u001b[0mtoSplitFrame\u001b[0m\u001b[0;34m.\u001b[0m\u001b[0mgroupby\u001b[0m\u001b[0;34m(\u001b[0m\u001b[0mlevelNames\u001b[0m\u001b[0;34m)\u001b[0m\u001b[0;34m.\u001b[0m\u001b[0mapply\u001b[0m\u001b[0;34m(\u001b[0m\u001b[0mcomputeConditionStatistics_JPnoRR\u001b[0m\u001b[0;34m)\u001b[0m\u001b[0;34m\u001b[0m\u001b[0m\n",
      "\u001b[0;32m~/Documents/Research/OverloadedSignaling/eval/evaluateOverloadedSignaling_Experiment.py\u001b[0m in \u001b[0;36m__call__\u001b[0;34m(self, trueGoal, costLevel, alpha, nreps)\u001b[0m\n\u001b[1;32m     34\u001b[0m \u001b[0;34m\u001b[0m\u001b[0m\n\u001b[1;32m     35\u001b[0m         \u001b[0;32mfor\u001b[0m \u001b[0mi\u001b[0m \u001b[0;32min\u001b[0m \u001b[0mrange\u001b[0m\u001b[0;34m(\u001b[0m\u001b[0mnreps\u001b[0m\u001b[0;34m)\u001b[0m\u001b[0;34m:\u001b[0m\u001b[0;34m\u001b[0m\u001b[0m\n\u001b[0;32m---> 36\u001b[0;31m             \u001b[0;34m(\u001b[0m\u001b[0msignalerAction\u001b[0m\u001b[0;34m,\u001b[0m \u001b[0mreceiverAction\u001b[0m\u001b[0;34m)\u001b[0m \u001b[0;34m=\u001b[0m \u001b[0mself\u001b[0m\u001b[0;34m.\u001b[0m\u001b[0mtakeSingleJointSample\u001b[0m\u001b[0;34m(\u001b[0m\u001b[0msignalerActionPDF\u001b[0m\u001b[0;34m,\u001b[0m \u001b[0mgetReceiver\u001b[0m\u001b[0;34m,\u001b[0m \u001b[0mcostDictionary\u001b[0m\u001b[0;34m,\u001b[0m \u001b[0mtrueGoal\u001b[0m\u001b[0;34m)\u001b[0m\u001b[0;34m\u001b[0m\u001b[0m\n\u001b[0m\u001b[1;32m     37\u001b[0m             \u001b[0;32mif\u001b[0m \u001b[0magentAchievesGoal\u001b[0m\u001b[0;34m(\u001b[0m\u001b[0mtrueGoal\u001b[0m\u001b[0;34m,\u001b[0m \u001b[0msignalerAction\u001b[0m\u001b[0;34m)\u001b[0m\u001b[0;34m:\u001b[0m\u001b[0;34m\u001b[0m\u001b[0m\n\u001b[1;32m     38\u001b[0m                 \u001b[0mrecordedTrialElements\u001b[0m\u001b[0;34m[\u001b[0m\u001b[0;34m'sAchievesTarget'\u001b[0m\u001b[0;34m]\u001b[0m \u001b[0;34m=\u001b[0m \u001b[0mrecordedTrialElements\u001b[0m\u001b[0;34m[\u001b[0m\u001b[0;34m'sAchievesTarget'\u001b[0m\u001b[0;34m]\u001b[0m \u001b[0;34m+\u001b[0m \u001b[0;36m1\u001b[0m\u001b[0;34m\u001b[0m\u001b[0m\n",
      "\u001b[0;32m~/Documents/Research/OverloadedSignaling/eval/evaluateOverloadedSignaling_Experiment.py\u001b[0m in \u001b[0;36mtakeSingleJointSample\u001b[0;34m(self, signalerActionPDF, getReceiverFunction, costDictionary, goal)\u001b[0m\n\u001b[1;32m    131\u001b[0m             \u001b[0mreceiverAction\u001b[0m \u001b[0;34m=\u001b[0m \u001b[0mreceiverLocation\u001b[0m\u001b[0;34m\u001b[0m\u001b[0m\n\u001b[1;32m    132\u001b[0m         \u001b[0;32melse\u001b[0m\u001b[0;34m:\u001b[0m\u001b[0;34m\u001b[0m\u001b[0m\n\u001b[0;32m--> 133\u001b[0;31m             \u001b[0mreceiverActionPDF\u001b[0m \u001b[0;34m=\u001b[0m \u001b[0mgetReceiverFunction\u001b[0m\u001b[0;34m(\u001b[0m\u001b[0msampledSignalerAction\u001b[0m\u001b[0;34m)\u001b[0m\u001b[0;34m\u001b[0m\u001b[0m\n\u001b[0m\u001b[1;32m    134\u001b[0m             \u001b[0mreceiverAction\u001b[0m \u001b[0;34m=\u001b[0m \u001b[0mself\u001b[0m\u001b[0;34m.\u001b[0m\u001b[0msampleReceiverAction\u001b[0m\u001b[0;34m(\u001b[0m\u001b[0mreceiverActionPDF\u001b[0m\u001b[0;34m)\u001b[0m\u001b[0;34m\u001b[0m\u001b[0m\n\u001b[1;32m    135\u001b[0m         \u001b[0;32mreturn\u001b[0m\u001b[0;34m(\u001b[0m\u001b[0;34m(\u001b[0m\u001b[0msampledSignalerAction\u001b[0m\u001b[0;34m,\u001b[0m \u001b[0mreceiverAction\u001b[0m\u001b[0;34m)\u001b[0m\u001b[0;34m)\u001b[0m\u001b[0;34m\u001b[0m\u001b[0m\n",
      "\u001b[0;32m~/Documents/Research/OverloadedSignaling/src/OverloadedReceiver.py\u001b[0m in \u001b[0;36m__call__\u001b[0;34m(self, signal)\u001b[0m\n\u001b[1;32m     23\u001b[0m     \u001b[0;32mdef\u001b[0m \u001b[0m__call__\u001b[0m\u001b[0;34m(\u001b[0m\u001b[0mself\u001b[0m\u001b[0;34m,\u001b[0m \u001b[0msignal\u001b[0m\u001b[0;34m)\u001b[0m\u001b[0;34m:\u001b[0m\u001b[0;34m\u001b[0m\u001b[0m\n\u001b[1;32m     24\u001b[0m         \u001b[0mmindAndCategoryPrior\u001b[0m \u001b[0;34m=\u001b[0m \u001b[0mself\u001b[0m\u001b[0;34m.\u001b[0m\u001b[0mconstructJointMindSignalCategoryPrior\u001b[0m\u001b[0;34m(\u001b[0m\u001b[0mself\u001b[0m\u001b[0;34m.\u001b[0m\u001b[0mmindPrior\u001b[0m\u001b[0;34m,\u001b[0m \u001b[0mself\u001b[0m\u001b[0;34m.\u001b[0m\u001b[0msignalCategoryPrior\u001b[0m\u001b[0;34m)\u001b[0m\u001b[0;34m\u001b[0m\u001b[0m\n\u001b[0;32m---> 25\u001b[0;31m         \u001b[0mlikelihoodDF\u001b[0m \u001b[0;34m=\u001b[0m \u001b[0mself\u001b[0m\u001b[0;34m.\u001b[0m\u001b[0mconstructLikelihoodDataFrameFromMindConditions\u001b[0m\u001b[0;34m(\u001b[0m\u001b[0mself\u001b[0m\u001b[0;34m.\u001b[0m\u001b[0mmindPrior\u001b[0m\u001b[0;34m)\u001b[0m\u001b[0;34m\u001b[0m\u001b[0m\n\u001b[0m\u001b[1;32m     26\u001b[0m         \u001b[0mmindPosterior\u001b[0m \u001b[0;34m=\u001b[0m \u001b[0mself\u001b[0m\u001b[0;34m.\u001b[0m\u001b[0mgetMindPosterior\u001b[0m\u001b[0;34m(\u001b[0m\u001b[0mmindAndCategoryPrior\u001b[0m\u001b[0;34m,\u001b[0m \u001b[0mlikelihoodDF\u001b[0m\u001b[0;34m,\u001b[0m \u001b[0msignal\u001b[0m\u001b[0;34m)\u001b[0m\u001b[0;34m\u001b[0m\u001b[0m\n\u001b[1;32m     27\u001b[0m         \u001b[0;32mreturn\u001b[0m\u001b[0;34m(\u001b[0m\u001b[0mmindPosterior\u001b[0m\u001b[0;34m)\u001b[0m\u001b[0;34m\u001b[0m\u001b[0m\n",
      "\u001b[0;32m~/Documents/Research/OverloadedSignaling/src/OverloadedReceiver.py\u001b[0m in \u001b[0;36mconstructLikelihoodDataFrameFromMindConditions\u001b[0;34m(self, mindPrior)\u001b[0m\n\u001b[1;32m     31\u001b[0m \u001b[0;34m\u001b[0m\u001b[0m\n\u001b[1;32m     32\u001b[0m         \u001b[0;31m# find the signal likelihood distribution for each signaler type and concatenate dataframes into a single pandas DF distribution\u001b[0m\u001b[0;34m\u001b[0m\u001b[0;34m\u001b[0m\u001b[0m\n\u001b[0;32m---> 33\u001b[0;31m         \u001b[0mlikelihoodByCategory\u001b[0m \u001b[0;34m=\u001b[0m \u001b[0;34m[\u001b[0m\u001b[0mself\u001b[0m\u001b[0;34m.\u001b[0m\u001b[0mgetSignalLikelihood\u001b[0m\u001b[0;34m(\u001b[0m\u001b[0mmindPrior\u001b[0m\u001b[0;34m,\u001b[0m \u001b[0msignalerType\u001b[0m\u001b[0;34m)\u001b[0m \u001b[0;32mfor\u001b[0m \u001b[0msignalerType\u001b[0m \u001b[0;32min\u001b[0m \u001b[0mcategoryNames\u001b[0m\u001b[0;34m]\u001b[0m\u001b[0;34m\u001b[0m\u001b[0m\n\u001b[0m\u001b[1;32m     34\u001b[0m         \u001b[0mlikelihoodDistributionList\u001b[0m \u001b[0;34m=\u001b[0m  \u001b[0;34m[\u001b[0m\u001b[0mpd\u001b[0m\u001b[0;34m.\u001b[0m\u001b[0mconcat\u001b[0m\u001b[0;34m(\u001b[0m\u001b[0;34m[\u001b[0m\u001b[0mlikelihoodDist\u001b[0m\u001b[0;34m]\u001b[0m\u001b[0;34m,\u001b[0m \u001b[0mkeys\u001b[0m\u001b[0;34m=\u001b[0m\u001b[0;34m[\u001b[0m\u001b[0mcategoryName\u001b[0m\u001b[0;34m]\u001b[0m\u001b[0;34m,\u001b[0m \u001b[0mnames\u001b[0m\u001b[0;34m=\u001b[0m\u001b[0;34m[\u001b[0m\u001b[0mNC\u001b[0m\u001b[0;34m.\u001b[0m\u001b[0mSINGALER_C\u001b[0m\u001b[0;34m]\u001b[0m\u001b[0;34m)\u001b[0m \u001b[0;32mfor\u001b[0m \u001b[0mlikelihoodDist\u001b[0m\u001b[0;34m,\u001b[0m \u001b[0mcategoryName\u001b[0m \u001b[0;32min\u001b[0m \u001b[0mzip\u001b[0m\u001b[0;34m(\u001b[0m\u001b[0mlikelihoodByCategory\u001b[0m\u001b[0;34m,\u001b[0m \u001b[0mcategoryNames\u001b[0m\u001b[0;34m)\u001b[0m\u001b[0;34m]\u001b[0m\u001b[0;34m\u001b[0m\u001b[0m\n\u001b[1;32m     35\u001b[0m         \u001b[0mlikelihoodDistributionDF\u001b[0m \u001b[0;34m=\u001b[0m \u001b[0mpd\u001b[0m\u001b[0;34m.\u001b[0m\u001b[0mconcat\u001b[0m\u001b[0;34m(\u001b[0m\u001b[0mlikelihoodDistributionList\u001b[0m\u001b[0;34m)\u001b[0m\u001b[0;34m\u001b[0m\u001b[0m\n",
      "\u001b[0;32m~/Documents/Research/OverloadedSignaling/src/OverloadedReceiver.py\u001b[0m in \u001b[0;36m<listcomp>\u001b[0;34m(.0)\u001b[0m\n\u001b[1;32m     31\u001b[0m \u001b[0;34m\u001b[0m\u001b[0m\n\u001b[1;32m     32\u001b[0m         \u001b[0;31m# find the signal likelihood distribution for each signaler type and concatenate dataframes into a single pandas DF distribution\u001b[0m\u001b[0;34m\u001b[0m\u001b[0;34m\u001b[0m\u001b[0m\n\u001b[0;32m---> 33\u001b[0;31m         \u001b[0mlikelihoodByCategory\u001b[0m \u001b[0;34m=\u001b[0m \u001b[0;34m[\u001b[0m\u001b[0mself\u001b[0m\u001b[0;34m.\u001b[0m\u001b[0mgetSignalLikelihood\u001b[0m\u001b[0;34m(\u001b[0m\u001b[0mmindPrior\u001b[0m\u001b[0;34m,\u001b[0m \u001b[0msignalerType\u001b[0m\u001b[0;34m)\u001b[0m \u001b[0;32mfor\u001b[0m \u001b[0msignalerType\u001b[0m \u001b[0;32min\u001b[0m \u001b[0mcategoryNames\u001b[0m\u001b[0;34m]\u001b[0m\u001b[0;34m\u001b[0m\u001b[0m\n\u001b[0m\u001b[1;32m     34\u001b[0m         \u001b[0mlikelihoodDistributionList\u001b[0m \u001b[0;34m=\u001b[0m  \u001b[0;34m[\u001b[0m\u001b[0mpd\u001b[0m\u001b[0;34m.\u001b[0m\u001b[0mconcat\u001b[0m\u001b[0;34m(\u001b[0m\u001b[0;34m[\u001b[0m\u001b[0mlikelihoodDist\u001b[0m\u001b[0;34m]\u001b[0m\u001b[0;34m,\u001b[0m \u001b[0mkeys\u001b[0m\u001b[0;34m=\u001b[0m\u001b[0;34m[\u001b[0m\u001b[0mcategoryName\u001b[0m\u001b[0;34m]\u001b[0m\u001b[0;34m,\u001b[0m \u001b[0mnames\u001b[0m\u001b[0;34m=\u001b[0m\u001b[0;34m[\u001b[0m\u001b[0mNC\u001b[0m\u001b[0;34m.\u001b[0m\u001b[0mSINGALER_C\u001b[0m\u001b[0;34m]\u001b[0m\u001b[0;34m)\u001b[0m \u001b[0;32mfor\u001b[0m \u001b[0mlikelihoodDist\u001b[0m\u001b[0;34m,\u001b[0m \u001b[0mcategoryName\u001b[0m \u001b[0;32min\u001b[0m \u001b[0mzip\u001b[0m\u001b[0;34m(\u001b[0m\u001b[0mlikelihoodByCategory\u001b[0m\u001b[0;34m,\u001b[0m \u001b[0mcategoryNames\u001b[0m\u001b[0;34m)\u001b[0m\u001b[0;34m]\u001b[0m\u001b[0;34m\u001b[0m\u001b[0m\n\u001b[1;32m     35\u001b[0m         \u001b[0mlikelihoodDistributionDF\u001b[0m \u001b[0;34m=\u001b[0m \u001b[0mpd\u001b[0m\u001b[0;34m.\u001b[0m\u001b[0mconcat\u001b[0m\u001b[0;34m(\u001b[0m\u001b[0mlikelihoodDistributionList\u001b[0m\u001b[0;34m)\u001b[0m\u001b[0;34m\u001b[0m\u001b[0m\n",
      "\u001b[0;32m~/Documents/Research/OverloadedSignaling/src/GenerativeSignaler.py\u001b[0m in \u001b[0;36m__call__\u001b[0;34m(self, targetMind, signalerCategory)\u001b[0m\n\u001b[1;32m     20\u001b[0m \u001b[0;34m\u001b[0m\u001b[0m\n\u001b[1;32m     21\u001b[0m         \u001b[0;31m#for each condition apply the get likelihood function, returns a distribution\u001b[0m\u001b[0;34m\u001b[0m\u001b[0;34m\u001b[0m\u001b[0m\n\u001b[0;32m---> 22\u001b[0;31m         \u001b[0msignalLikelihoods\u001b[0m \u001b[0;34m=\u001b[0m \u001b[0mlikelihoodComponents\u001b[0m\u001b[0;34m.\u001b[0m\u001b[0mgroupby\u001b[0m\u001b[0;34m(\u001b[0m\u001b[0mlikelihoodComponents\u001b[0m\u001b[0;34m.\u001b[0m\u001b[0mindex\u001b[0m\u001b[0;34m.\u001b[0m\u001b[0mnames\u001b[0m\u001b[0;34m)\u001b[0m\u001b[0;34m.\u001b[0m\u001b[0mapply\u001b[0m\u001b[0;34m(\u001b[0m\u001b[0mself\u001b[0m\u001b[0;34m.\u001b[0m\u001b[0mgetSignalLikelihoodGivenMind\u001b[0m\u001b[0;34m,\u001b[0m \u001b[0msignalerType\u001b[0m \u001b[0;34m=\u001b[0m \u001b[0msignalerCategory\u001b[0m\u001b[0;34m)\u001b[0m\u001b[0;34m\u001b[0m\u001b[0m\n\u001b[0m\u001b[1;32m     23\u001b[0m         \u001b[0msignalLikelihoods\u001b[0m \u001b[0;34m=\u001b[0m \u001b[0mpd\u001b[0m\u001b[0;34m.\u001b[0m\u001b[0mDataFrame\u001b[0m\u001b[0;34m(\u001b[0m\u001b[0msignalLikelihoods\u001b[0m\u001b[0;34m)\u001b[0m\u001b[0;34m\u001b[0m\u001b[0m\n\u001b[1;32m     24\u001b[0m \u001b[0;34m\u001b[0m\u001b[0m\n",
      "\u001b[0;32m~/miniconda3/envs/cogsci/lib/python3.5/site-packages/pandas/core/groupby/groupby.py\u001b[0m in \u001b[0;36mapply\u001b[0;34m(self, func, *args, **kwargs)\u001b[0m\n\u001b[1;32m   3467\u001b[0m                       examples=_apply_docs['series_examples']))\n\u001b[1;32m   3468\u001b[0m     \u001b[0;32mdef\u001b[0m \u001b[0mapply\u001b[0m\u001b[0;34m(\u001b[0m\u001b[0mself\u001b[0m\u001b[0;34m,\u001b[0m \u001b[0mfunc\u001b[0m\u001b[0;34m,\u001b[0m \u001b[0;34m*\u001b[0m\u001b[0margs\u001b[0m\u001b[0;34m,\u001b[0m \u001b[0;34m**\u001b[0m\u001b[0mkwargs\u001b[0m\u001b[0;34m)\u001b[0m\u001b[0;34m:\u001b[0m\u001b[0;34m\u001b[0m\u001b[0m\n\u001b[0;32m-> 3469\u001b[0;31m         \u001b[0;32mreturn\u001b[0m \u001b[0msuper\u001b[0m\u001b[0;34m(\u001b[0m\u001b[0mSeriesGroupBy\u001b[0m\u001b[0;34m,\u001b[0m \u001b[0mself\u001b[0m\u001b[0;34m)\u001b[0m\u001b[0;34m.\u001b[0m\u001b[0mapply\u001b[0m\u001b[0;34m(\u001b[0m\u001b[0mfunc\u001b[0m\u001b[0;34m,\u001b[0m \u001b[0;34m*\u001b[0m\u001b[0margs\u001b[0m\u001b[0;34m,\u001b[0m \u001b[0;34m**\u001b[0m\u001b[0mkwargs\u001b[0m\u001b[0;34m)\u001b[0m\u001b[0;34m\u001b[0m\u001b[0m\n\u001b[0m\u001b[1;32m   3470\u001b[0m \u001b[0;34m\u001b[0m\u001b[0m\n\u001b[1;32m   3471\u001b[0m     \u001b[0;34m@\u001b[0m\u001b[0mAppender\u001b[0m\u001b[0;34m(\u001b[0m\u001b[0m_agg_doc\u001b[0m\u001b[0;34m)\u001b[0m\u001b[0;34m\u001b[0m\u001b[0m\n",
      "\u001b[0;32m~/miniconda3/envs/cogsci/lib/python3.5/site-packages/pandas/core/groupby/groupby.py\u001b[0m in \u001b[0;36mapply\u001b[0;34m(self, func, *args, **kwargs)\u001b[0m\n\u001b[1;32m    916\u001b[0m         \u001b[0;32mwith\u001b[0m \u001b[0moption_context\u001b[0m\u001b[0;34m(\u001b[0m\u001b[0;34m'mode.chained_assignment'\u001b[0m\u001b[0;34m,\u001b[0m \u001b[0;32mNone\u001b[0m\u001b[0;34m)\u001b[0m\u001b[0;34m:\u001b[0m\u001b[0;34m\u001b[0m\u001b[0m\n\u001b[1;32m    917\u001b[0m             \u001b[0;32mtry\u001b[0m\u001b[0;34m:\u001b[0m\u001b[0;34m\u001b[0m\u001b[0m\n\u001b[0;32m--> 918\u001b[0;31m                 \u001b[0mresult\u001b[0m \u001b[0;34m=\u001b[0m \u001b[0mself\u001b[0m\u001b[0;34m.\u001b[0m\u001b[0m_python_apply_general\u001b[0m\u001b[0;34m(\u001b[0m\u001b[0mf\u001b[0m\u001b[0;34m)\u001b[0m\u001b[0;34m\u001b[0m\u001b[0m\n\u001b[0m\u001b[1;32m    919\u001b[0m             \u001b[0;32mexcept\u001b[0m \u001b[0mException\u001b[0m\u001b[0;34m:\u001b[0m\u001b[0;34m\u001b[0m\u001b[0m\n\u001b[1;32m    920\u001b[0m \u001b[0;34m\u001b[0m\u001b[0m\n",
      "\u001b[0;32m~/miniconda3/envs/cogsci/lib/python3.5/site-packages/pandas/core/groupby/groupby.py\u001b[0m in \u001b[0;36m_python_apply_general\u001b[0;34m(self, f)\u001b[0m\n\u001b[1;32m    934\u001b[0m     \u001b[0;32mdef\u001b[0m \u001b[0m_python_apply_general\u001b[0m\u001b[0;34m(\u001b[0m\u001b[0mself\u001b[0m\u001b[0;34m,\u001b[0m \u001b[0mf\u001b[0m\u001b[0;34m)\u001b[0m\u001b[0;34m:\u001b[0m\u001b[0;34m\u001b[0m\u001b[0m\n\u001b[1;32m    935\u001b[0m         keys, values, mutated = self.grouper.apply(f, self._selected_obj,\n\u001b[0;32m--> 936\u001b[0;31m                                                    self.axis)\n\u001b[0m\u001b[1;32m    937\u001b[0m \u001b[0;34m\u001b[0m\u001b[0m\n\u001b[1;32m    938\u001b[0m         return self._wrap_applied_output(\n",
      "\u001b[0;32m~/miniconda3/envs/cogsci/lib/python3.5/site-packages/pandas/core/groupby/groupby.py\u001b[0m in \u001b[0;36mapply\u001b[0;34m(self, f, data, axis)\u001b[0m\n\u001b[1;32m   2271\u001b[0m             \u001b[0;31m# group might be modified\u001b[0m\u001b[0;34m\u001b[0m\u001b[0;34m\u001b[0m\u001b[0m\n\u001b[1;32m   2272\u001b[0m             \u001b[0mgroup_axes\u001b[0m \u001b[0;34m=\u001b[0m \u001b[0m_get_axes\u001b[0m\u001b[0;34m(\u001b[0m\u001b[0mgroup\u001b[0m\u001b[0;34m)\u001b[0m\u001b[0;34m\u001b[0m\u001b[0m\n\u001b[0;32m-> 2273\u001b[0;31m             \u001b[0mres\u001b[0m \u001b[0;34m=\u001b[0m \u001b[0mf\u001b[0m\u001b[0;34m(\u001b[0m\u001b[0mgroup\u001b[0m\u001b[0;34m)\u001b[0m\u001b[0;34m\u001b[0m\u001b[0m\n\u001b[0m\u001b[1;32m   2274\u001b[0m             \u001b[0;32mif\u001b[0m \u001b[0;32mnot\u001b[0m \u001b[0m_is_indexed_like\u001b[0m\u001b[0;34m(\u001b[0m\u001b[0mres\u001b[0m\u001b[0;34m,\u001b[0m \u001b[0mgroup_axes\u001b[0m\u001b[0;34m)\u001b[0m\u001b[0;34m:\u001b[0m\u001b[0;34m\u001b[0m\u001b[0m\n\u001b[1;32m   2275\u001b[0m                 \u001b[0mmutated\u001b[0m \u001b[0;34m=\u001b[0m \u001b[0;32mTrue\u001b[0m\u001b[0;34m\u001b[0m\u001b[0m\n",
      "\u001b[0;32m~/miniconda3/envs/cogsci/lib/python3.5/site-packages/pandas/core/groupby/groupby.py\u001b[0m in \u001b[0;36mf\u001b[0;34m(g)\u001b[0m\n\u001b[1;32m    906\u001b[0m                 \u001b[0;32mdef\u001b[0m \u001b[0mf\u001b[0m\u001b[0;34m(\u001b[0m\u001b[0mg\u001b[0m\u001b[0;34m)\u001b[0m\u001b[0;34m:\u001b[0m\u001b[0;34m\u001b[0m\u001b[0m\n\u001b[1;32m    907\u001b[0m                     \u001b[0;32mwith\u001b[0m \u001b[0mnp\u001b[0m\u001b[0;34m.\u001b[0m\u001b[0merrstate\u001b[0m\u001b[0;34m(\u001b[0m\u001b[0mall\u001b[0m\u001b[0;34m=\u001b[0m\u001b[0;34m'ignore'\u001b[0m\u001b[0;34m)\u001b[0m\u001b[0;34m:\u001b[0m\u001b[0;34m\u001b[0m\u001b[0m\n\u001b[0;32m--> 908\u001b[0;31m                         \u001b[0;32mreturn\u001b[0m \u001b[0mfunc\u001b[0m\u001b[0;34m(\u001b[0m\u001b[0mg\u001b[0m\u001b[0;34m,\u001b[0m \u001b[0;34m*\u001b[0m\u001b[0margs\u001b[0m\u001b[0;34m,\u001b[0m \u001b[0;34m**\u001b[0m\u001b[0mkwargs\u001b[0m\u001b[0;34m)\u001b[0m\u001b[0;34m\u001b[0m\u001b[0m\n\u001b[0m\u001b[1;32m    909\u001b[0m             \u001b[0;32melse\u001b[0m\u001b[0;34m:\u001b[0m\u001b[0;34m\u001b[0m\u001b[0m\n\u001b[1;32m    910\u001b[0m                 raise ValueError('func must be a callable if args or '\n",
      "\u001b[0;32m~/Documents/Research/OverloadedSignaling/src/GenerativeSignaler.py\u001b[0m in \u001b[0;36mgetSignalLikelihoodGivenMind\u001b[0;34m(self, signalingCondition, signalerType)\u001b[0m\n\u001b[1;32m     33\u001b[0m         \u001b[0mdesire\u001b[0m \u001b[0;34m=\u001b[0m \u001b[0msignalingCondition\u001b[0m\u001b[0;34m.\u001b[0m\u001b[0mindex\u001b[0m\u001b[0;34m.\u001b[0m\u001b[0mget_level_values\u001b[0m\u001b[0;34m(\u001b[0m\u001b[0mNC\u001b[0m\u001b[0;34m.\u001b[0m\u001b[0mDESIRES\u001b[0m\u001b[0;34m)\u001b[0m\u001b[0;34m[\u001b[0m\u001b[0;36m0\u001b[0m\u001b[0;34m]\u001b[0m\u001b[0;34m\u001b[0m\u001b[0m\n\u001b[1;32m     34\u001b[0m         \u001b[0mgoal\u001b[0m \u001b[0;34m=\u001b[0m \u001b[0msignalingCondition\u001b[0m\u001b[0;34m.\u001b[0m\u001b[0mindex\u001b[0m\u001b[0;34m.\u001b[0m\u001b[0mget_level_values\u001b[0m\u001b[0;34m(\u001b[0m\u001b[0mNC\u001b[0m\u001b[0;34m.\u001b[0m\u001b[0mINTENTIONS\u001b[0m\u001b[0;34m)\u001b[0m\u001b[0;34m[\u001b[0m\u001b[0;36m0\u001b[0m\u001b[0;34m]\u001b[0m\u001b[0;34m\u001b[0m\u001b[0m\n\u001b[0;32m---> 35\u001b[0;31m         \u001b[0maction\u001b[0m \u001b[0;34m=\u001b[0m \u001b[0msignalingCondition\u001b[0m\u001b[0;34m.\u001b[0m\u001b[0mindex\u001b[0m\u001b[0;34m.\u001b[0m\u001b[0mget_level_values\u001b[0m\u001b[0;34m(\u001b[0m\u001b[0mNC\u001b[0m\u001b[0;34m.\u001b[0m\u001b[0mACTIONS\u001b[0m\u001b[0;34m)\u001b[0m\u001b[0;34m[\u001b[0m\u001b[0;36m0\u001b[0m\u001b[0;34m]\u001b[0m\u001b[0;34m\u001b[0m\u001b[0m\n\u001b[0m\u001b[1;32m     36\u001b[0m         \u001b[0mmind\u001b[0m \u001b[0;34m=\u001b[0m \u001b[0;34m{\u001b[0m\u001b[0mNC\u001b[0m\u001b[0;34m.\u001b[0m\u001b[0mWORLDS\u001b[0m\u001b[0;34m:\u001b[0m \u001b[0mworld\u001b[0m\u001b[0;34m,\u001b[0m \u001b[0mNC\u001b[0m\u001b[0;34m.\u001b[0m\u001b[0mDESIRES\u001b[0m\u001b[0;34m:\u001b[0m\u001b[0mdesire\u001b[0m\u001b[0;34m,\u001b[0m \u001b[0mNC\u001b[0m\u001b[0;34m.\u001b[0m\u001b[0mINTENTIONS\u001b[0m\u001b[0;34m:\u001b[0m\u001b[0mgoal\u001b[0m\u001b[0;34m,\u001b[0m \u001b[0mNC\u001b[0m\u001b[0;34m.\u001b[0m\u001b[0mACTIONS\u001b[0m\u001b[0;34m:\u001b[0m\u001b[0maction\u001b[0m\u001b[0;34m}\u001b[0m\u001b[0;34m\u001b[0m\u001b[0m\n\u001b[1;32m     37\u001b[0m \u001b[0;34m\u001b[0m\u001b[0m\n",
      "\u001b[0;32m~/miniconda3/envs/cogsci/lib/python3.5/site-packages/pandas/core/indexes/multi.py\u001b[0m in \u001b[0;36mget_level_values\u001b[0;34m(self, level)\u001b[0m\n\u001b[1;32m   1064\u001b[0m         \u001b[0mIndex\u001b[0m\u001b[0;34m(\u001b[0m\u001b[0;34m[\u001b[0m\u001b[0;34m'd'\u001b[0m\u001b[0;34m,\u001b[0m \u001b[0;34m'e'\u001b[0m\u001b[0;34m,\u001b[0m \u001b[0;34m'f'\u001b[0m\u001b[0;34m]\u001b[0m\u001b[0;34m,\u001b[0m \u001b[0mdtype\u001b[0m\u001b[0;34m=\u001b[0m\u001b[0;34m'object'\u001b[0m\u001b[0;34m,\u001b[0m \u001b[0mname\u001b[0m\u001b[0;34m=\u001b[0m\u001b[0;34m'level_2'\u001b[0m\u001b[0;34m)\u001b[0m\u001b[0;34m\u001b[0m\u001b[0m\n\u001b[1;32m   1065\u001b[0m         \"\"\"\n\u001b[0;32m-> 1066\u001b[0;31m         \u001b[0mlevel\u001b[0m \u001b[0;34m=\u001b[0m \u001b[0mself\u001b[0m\u001b[0;34m.\u001b[0m\u001b[0m_get_level_number\u001b[0m\u001b[0;34m(\u001b[0m\u001b[0mlevel\u001b[0m\u001b[0;34m)\u001b[0m\u001b[0;34m\u001b[0m\u001b[0m\n\u001b[0m\u001b[1;32m   1067\u001b[0m         \u001b[0mvalues\u001b[0m \u001b[0;34m=\u001b[0m \u001b[0mself\u001b[0m\u001b[0;34m.\u001b[0m\u001b[0m_get_level_values\u001b[0m\u001b[0;34m(\u001b[0m\u001b[0mlevel\u001b[0m\u001b[0;34m)\u001b[0m\u001b[0;34m\u001b[0m\u001b[0m\n\u001b[1;32m   1068\u001b[0m         \u001b[0;32mreturn\u001b[0m \u001b[0mvalues\u001b[0m\u001b[0;34m\u001b[0m\u001b[0m\n",
      "\u001b[0;32m~/miniconda3/envs/cogsci/lib/python3.5/site-packages/pandas/core/indexes/multi.py\u001b[0m in \u001b[0;36m_get_level_number\u001b[0;34m(self, level)\u001b[0m\n\u001b[1;32m    760\u001b[0m     \u001b[0;32mdef\u001b[0m \u001b[0m_get_level_number\u001b[0m\u001b[0;34m(\u001b[0m\u001b[0mself\u001b[0m\u001b[0;34m,\u001b[0m \u001b[0mlevel\u001b[0m\u001b[0;34m)\u001b[0m\u001b[0;34m:\u001b[0m\u001b[0;34m\u001b[0m\u001b[0m\n\u001b[1;32m    761\u001b[0m         \u001b[0;32mtry\u001b[0m\u001b[0;34m:\u001b[0m\u001b[0;34m\u001b[0m\u001b[0m\n\u001b[0;32m--> 762\u001b[0;31m             \u001b[0mcount\u001b[0m \u001b[0;34m=\u001b[0m \u001b[0mself\u001b[0m\u001b[0;34m.\u001b[0m\u001b[0mnames\u001b[0m\u001b[0;34m.\u001b[0m\u001b[0mcount\u001b[0m\u001b[0;34m(\u001b[0m\u001b[0mlevel\u001b[0m\u001b[0;34m)\u001b[0m\u001b[0;34m\u001b[0m\u001b[0m\n\u001b[0m\u001b[1;32m    763\u001b[0m             \u001b[0;32mif\u001b[0m \u001b[0mcount\u001b[0m \u001b[0;34m>\u001b[0m \u001b[0;36m1\u001b[0m\u001b[0;34m:\u001b[0m\u001b[0;34m\u001b[0m\u001b[0m\n\u001b[1;32m    764\u001b[0m                 raise ValueError('The name %s occurs multiple times, use a '\n",
      "\u001b[0;32m~/miniconda3/envs/cogsci/lib/python3.5/site-packages/pandas/core/indexes/multi.py\u001b[0m in \u001b[0;36m_get_names\u001b[0;34m(self)\u001b[0m\n\u001b[1;32m    634\u001b[0m \u001b[0;34m\u001b[0m\u001b[0m\n\u001b[1;32m    635\u001b[0m     \u001b[0;32mdef\u001b[0m \u001b[0m_get_names\u001b[0m\u001b[0;34m(\u001b[0m\u001b[0mself\u001b[0m\u001b[0;34m)\u001b[0m\u001b[0;34m:\u001b[0m\u001b[0;34m\u001b[0m\u001b[0m\n\u001b[0;32m--> 636\u001b[0;31m         \u001b[0;32mreturn\u001b[0m \u001b[0mFrozenList\u001b[0m\u001b[0;34m(\u001b[0m\u001b[0mlevel\u001b[0m\u001b[0;34m.\u001b[0m\u001b[0mname\u001b[0m \u001b[0;32mfor\u001b[0m \u001b[0mlevel\u001b[0m \u001b[0;32min\u001b[0m \u001b[0mself\u001b[0m\u001b[0;34m.\u001b[0m\u001b[0mlevels\u001b[0m\u001b[0;34m)\u001b[0m\u001b[0;34m\u001b[0m\u001b[0m\n\u001b[0m\u001b[1;32m    637\u001b[0m \u001b[0;34m\u001b[0m\u001b[0m\n\u001b[1;32m    638\u001b[0m     \u001b[0;32mdef\u001b[0m \u001b[0m_set_names\u001b[0m\u001b[0;34m(\u001b[0m\u001b[0mself\u001b[0m\u001b[0;34m,\u001b[0m \u001b[0mnames\u001b[0m\u001b[0;34m,\u001b[0m \u001b[0mlevel\u001b[0m\u001b[0;34m=\u001b[0m\u001b[0;32mNone\u001b[0m\u001b[0;34m,\u001b[0m \u001b[0mvalidate\u001b[0m\u001b[0;34m=\u001b[0m\u001b[0;32mTrue\u001b[0m\u001b[0;34m)\u001b[0m\u001b[0;34m:\u001b[0m\u001b[0;34m\u001b[0m\u001b[0m\n",
      "\u001b[0;31mKeyboardInterrupt\u001b[0m: "
     ]
    }
   ],
   "source": [
    "computeStatistics_JPnoRR =  IWTrialSampler(conditionParameters = conditionParameters, \n",
    "                                    fixedParameters=fixedParameters)\n",
    "\n",
    "computeConditionStatistics_JPnoRR = lambda condition: computeStatistics_JPnoRR(condition.index.get_level_values('trueTarget')[0], condition.index.get_level_values('costs')[0], condition.index.get_level_values('alpha')[0], condition.index.get_level_values('nreps')[0])\n",
    "experimentCondition_JPnoRR = toSplitFrame.groupby(levelNames).apply(computeConditionStatistics_JPnoRR)"
   ]
  },
  {
   "cell_type": "code",
   "execution_count": 12,
   "metadata": {
    "ExecuteTime": {
     "end_time": "2020-04-02T06:30:48.704006Z",
     "start_time": "2020-04-02T06:30:48.668940Z"
    },
    "scrolled": true
   },
   "outputs": [],
   "source": [
    "experimentCondition_JPnoRR.to_pickle(\"./jointPlanningNORecursiveReasoning.pkl\")"
   ]
  },
  {
   "cell_type": "code",
   "execution_count": 13,
   "metadata": {
    "ExecuteTime": {
     "end_time": "2020-04-02T06:30:48.719725Z",
     "start_time": "2020-04-02T06:30:48.705558Z"
    }
   },
   "outputs": [
    {
     "data": {
      "text/plain": [
       "{'signalerLocation': (5, 0),\n",
       " 'receiverLocation': (5, 10),\n",
       " 'signalDictionary': {(3, 0): 'green', (7, 0): 'circle'},\n",
       " 'targetDictionary': {(1, 10): 'green triangle',\n",
       "  (5, 6): 'green circle',\n",
       "  (9, 10): 'purple circle'},\n",
       " 'valueOfReward': 10}"
      ]
     },
     "execution_count": 13,
     "metadata": {},
     "output_type": "execute_result"
    }
   ],
   "source": [
    "computeStatistics_JPnoRR.translateCostSchemeToInputs('Low')"
   ]
  },
  {
   "cell_type": "code",
   "execution_count": null,
   "metadata": {},
   "outputs": [],
   "source": []
  },
  {
   "cell_type": "code",
   "execution_count": 14,
   "metadata": {
    "ExecuteTime": {
     "end_time": "2020-04-02T07:01:42.504319Z",
     "start_time": "2020-04-02T06:30:48.721240Z"
    },
    "scrolled": true
   },
   "outputs": [
    {
     "name": "stdout",
     "output_type": "stream",
     "text": [
      "condition alpha 0.0 cost High\n",
      "condition alpha 0.25 cost High\n",
      "condition alpha 0.5 cost High\n",
      "condition alpha 0.75 cost High\n",
      "condition alpha 1.0 cost High\n",
      "condition alpha 1.25 cost High\n",
      "condition alpha 1.5 cost High\n",
      "condition alpha 1.75 cost High\n",
      "condition alpha 2.0 cost High\n",
      "condition alpha 2.25 cost High\n",
      "condition alpha 2.5 cost High\n",
      "condition alpha 2.75 cost High\n",
      "condition alpha 3.0 cost High\n",
      "condition alpha 3.25 cost High\n",
      "condition alpha 3.5 cost High\n",
      "condition alpha 3.75 cost High\n",
      "condition alpha 4.0 cost High\n",
      "condition alpha 4.25 cost High\n",
      "condition alpha 4.5 cost High\n",
      "condition alpha 4.75 cost High\n",
      "condition alpha 5.0 cost High\n",
      "condition alpha 0.0 cost Low\n",
      "condition alpha 0.25 cost Low\n",
      "condition alpha 0.5 cost Low\n",
      "condition alpha 0.75 cost Low\n",
      "condition alpha 1.0 cost Low\n",
      "condition alpha 1.25 cost Low\n",
      "condition alpha 1.5 cost Low\n",
      "condition alpha 1.75 cost Low\n",
      "condition alpha 2.0 cost Low\n",
      "condition alpha 2.25 cost Low\n",
      "condition alpha 2.5 cost Low\n",
      "condition alpha 2.75 cost Low\n",
      "condition alpha 3.0 cost Low\n",
      "condition alpha 3.25 cost Low\n",
      "condition alpha 3.5 cost Low\n",
      "condition alpha 3.75 cost Low\n",
      "condition alpha 4.0 cost Low\n",
      "condition alpha 4.25 cost Low\n",
      "condition alpha 4.5 cost Low\n",
      "condition alpha 4.75 cost Low\n",
      "condition alpha 5.0 cost Low\n",
      "condition alpha 0.0 cost Medium\n",
      "condition alpha 0.25 cost Medium\n",
      "condition alpha 0.5 cost Medium\n",
      "condition alpha 0.75 cost Medium\n",
      "condition alpha 1.0 cost Medium\n",
      "condition alpha 1.25 cost Medium\n",
      "condition alpha 1.5 cost Medium\n",
      "condition alpha 1.75 cost Medium\n",
      "condition alpha 2.0 cost Medium\n",
      "condition alpha 2.25 cost Medium\n",
      "condition alpha 2.5 cost Medium\n",
      "condition alpha 2.75 cost Medium\n",
      "condition alpha 3.0 cost Medium\n",
      "condition alpha 3.25 cost Medium\n",
      "condition alpha 3.5 cost Medium\n",
      "condition alpha 3.75 cost Medium\n",
      "condition alpha 4.0 cost Medium\n",
      "condition alpha 4.25 cost Medium\n",
      "condition alpha 4.5 cost Medium\n",
      "condition alpha 4.75 cost Medium\n",
      "condition alpha 5.0 cost Medium\n",
      "condition alpha 0.0 cost High\n",
      "condition alpha 0.25 cost High\n",
      "condition alpha 0.5 cost High\n",
      "condition alpha 0.75 cost High\n",
      "condition alpha 1.0 cost High\n",
      "condition alpha 1.25 cost High\n",
      "condition alpha 1.5 cost High\n",
      "condition alpha 1.75 cost High\n",
      "condition alpha 2.0 cost High\n",
      "condition alpha 2.25 cost High\n",
      "condition alpha 2.5 cost High\n",
      "condition alpha 2.75 cost High\n",
      "condition alpha 3.0 cost High\n",
      "condition alpha 3.25 cost High\n",
      "condition alpha 3.5 cost High\n",
      "condition alpha 3.75 cost High\n",
      "condition alpha 4.0 cost High\n",
      "condition alpha 4.25 cost High\n",
      "condition alpha 4.5 cost High\n",
      "condition alpha 4.75 cost High\n",
      "condition alpha 5.0 cost High\n",
      "condition alpha 0.0 cost Low\n",
      "condition alpha 0.25 cost Low\n",
      "condition alpha 0.5 cost Low\n",
      "condition alpha 0.75 cost Low\n",
      "condition alpha 1.0 cost Low\n",
      "condition alpha 1.25 cost Low\n",
      "condition alpha 1.5 cost Low\n",
      "condition alpha 1.75 cost Low\n",
      "condition alpha 2.0 cost Low\n",
      "condition alpha 2.25 cost Low\n",
      "condition alpha 2.5 cost Low\n",
      "condition alpha 2.75 cost Low\n",
      "condition alpha 3.0 cost Low\n",
      "condition alpha 3.25 cost Low\n",
      "condition alpha 3.5 cost Low\n",
      "condition alpha 3.75 cost Low\n",
      "condition alpha 4.0 cost Low\n",
      "condition alpha 4.25 cost Low\n",
      "condition alpha 4.5 cost Low\n",
      "condition alpha 4.75 cost Low\n",
      "condition alpha 5.0 cost Low\n",
      "condition alpha 0.0 cost Medium\n",
      "condition alpha 0.25 cost Medium\n",
      "condition alpha 0.5 cost Medium\n",
      "condition alpha 0.75 cost Medium\n",
      "condition alpha 1.0 cost Medium\n",
      "condition alpha 1.25 cost Medium\n",
      "condition alpha 1.5 cost Medium\n",
      "condition alpha 1.75 cost Medium\n",
      "condition alpha 2.0 cost Medium\n",
      "condition alpha 2.25 cost Medium\n",
      "condition alpha 2.5 cost Medium\n",
      "condition alpha 2.75 cost Medium\n",
      "condition alpha 3.0 cost Medium\n",
      "condition alpha 3.25 cost Medium\n",
      "condition alpha 3.5 cost Medium\n",
      "condition alpha 3.75 cost Medium\n",
      "condition alpha 4.0 cost Medium\n",
      "condition alpha 4.25 cost Medium\n",
      "condition alpha 4.5 cost Medium\n",
      "condition alpha 4.75 cost Medium\n",
      "condition alpha 5.0 cost Medium\n",
      "condition alpha 0.0 cost High\n",
      "condition alpha 0.25 cost High\n",
      "condition alpha 0.5 cost High\n",
      "condition alpha 0.75 cost High\n",
      "condition alpha 1.0 cost High\n",
      "condition alpha 1.25 cost High\n",
      "condition alpha 1.5 cost High\n",
      "condition alpha 1.75 cost High\n",
      "condition alpha 2.0 cost High\n",
      "condition alpha 2.25 cost High\n",
      "condition alpha 2.5 cost High\n",
      "condition alpha 2.75 cost High\n",
      "condition alpha 3.0 cost High\n",
      "condition alpha 3.25 cost High\n",
      "condition alpha 3.5 cost High\n",
      "condition alpha 3.75 cost High\n",
      "condition alpha 4.0 cost High\n",
      "condition alpha 4.25 cost High\n",
      "condition alpha 4.5 cost High\n",
      "condition alpha 4.75 cost High\n",
      "condition alpha 5.0 cost High\n",
      "condition alpha 0.0 cost Low\n",
      "condition alpha 0.25 cost Low\n",
      "condition alpha 0.5 cost Low\n",
      "condition alpha 0.75 cost Low\n",
      "condition alpha 1.0 cost Low\n",
      "condition alpha 1.25 cost Low\n",
      "condition alpha 1.5 cost Low\n",
      "condition alpha 1.75 cost Low\n",
      "condition alpha 2.0 cost Low\n",
      "condition alpha 2.25 cost Low\n",
      "condition alpha 2.5 cost Low\n",
      "condition alpha 2.75 cost Low\n",
      "condition alpha 3.0 cost Low\n",
      "condition alpha 3.25 cost Low\n",
      "condition alpha 3.5 cost Low\n",
      "condition alpha 3.75 cost Low\n",
      "condition alpha 4.0 cost Low\n",
      "condition alpha 4.25 cost Low\n",
      "condition alpha 4.5 cost Low\n",
      "condition alpha 4.75 cost Low\n",
      "condition alpha 5.0 cost Low\n",
      "condition alpha 0.0 cost Medium\n",
      "condition alpha 0.25 cost Medium\n",
      "condition alpha 0.5 cost Medium\n",
      "condition alpha 0.75 cost Medium\n",
      "condition alpha 1.0 cost Medium\n",
      "condition alpha 1.25 cost Medium\n",
      "condition alpha 1.5 cost Medium\n",
      "condition alpha 1.75 cost Medium\n",
      "condition alpha 2.0 cost Medium\n",
      "condition alpha 2.25 cost Medium\n",
      "condition alpha 2.5 cost Medium\n",
      "condition alpha 2.75 cost Medium\n",
      "condition alpha 3.0 cost Medium\n",
      "condition alpha 3.25 cost Medium\n",
      "condition alpha 3.5 cost Medium\n",
      "condition alpha 3.75 cost Medium\n",
      "condition alpha 4.0 cost Medium\n",
      "condition alpha 4.25 cost Medium\n",
      "condition alpha 4.5 cost Medium\n",
      "condition alpha 4.75 cost Medium\n",
      "condition alpha 5.0 cost Medium\n"
     ]
    }
   ],
   "source": [
    "computeStatistics_JPRR2 =  IWTrialSampler(conditionParameters = conditionParameters2, \n",
    "                                    fixedParameters=fixedParameters2)\n",
    "\n",
    "computeConditionStatistics_JPRR2 = lambda condition: computeStatistics_JPRR2(condition.index.get_level_values('trueTarget')[0], condition.index.get_level_values('costs')[0], condition.index.get_level_values('alpha')[0], condition.index.get_level_values('nreps')[0])\n",
    "experimentCondition_JPRR2 = toSplitFrame.groupby(levelNames).apply(computeConditionStatistics_JPRR2)"
   ]
  },
  {
   "cell_type": "code",
   "execution_count": 15,
   "metadata": {
    "ExecuteTime": {
     "end_time": "2020-04-02T07:01:42.515999Z",
     "start_time": "2020-04-02T07:01:42.505627Z"
    }
   },
   "outputs": [],
   "source": [
    "experimentCondition_JPRR2.to_pickle(\"./jointPlanningRecursiveReasoning.pkl\")"
   ]
  },
  {
   "cell_type": "code",
   "execution_count": 49,
   "metadata": {
    "ExecuteTime": {
     "end_time": "2020-04-02T17:43:10.287794Z",
     "start_time": "2020-04-02T17:43:10.268333Z"
    }
   },
   "outputs": [
    {
     "data": {
      "text/html": [
       "<div>\n",
       "<style scoped>\n",
       "    .dataframe tbody tr th:only-of-type {\n",
       "        vertical-align: middle;\n",
       "    }\n",
       "\n",
       "    .dataframe tbody tr th {\n",
       "        vertical-align: top;\n",
       "    }\n",
       "\n",
       "    .dataframe thead th {\n",
       "        text-align: right;\n",
       "    }\n",
       "</style>\n",
       "<table border=\"1\" class=\"dataframe\">\n",
       "  <thead>\n",
       "    <tr style=\"text-align: right;\">\n",
       "      <th></th>\n",
       "      <th></th>\n",
       "      <th>sAchievesTarget</th>\n",
       "      <th>rAchievesTarget</th>\n",
       "      <th>sAchievesTargetProp</th>\n",
       "      <th>rAchievesTargetProp</th>\n",
       "      <th>targetAchievedProp</th>\n",
       "    </tr>\n",
       "    <tr>\n",
       "      <th>alpha</th>\n",
       "      <th>nreps</th>\n",
       "      <th></th>\n",
       "      <th></th>\n",
       "      <th></th>\n",
       "      <th></th>\n",
       "      <th></th>\n",
       "    </tr>\n",
       "  </thead>\n",
       "  <tbody>\n",
       "    <tr>\n",
       "      <th>0.00</th>\n",
       "      <th>100</th>\n",
       "      <td>20.0</td>\n",
       "      <td>20.0</td>\n",
       "      <td>0.20</td>\n",
       "      <td>0.20</td>\n",
       "      <td>0.40</td>\n",
       "    </tr>\n",
       "    <tr>\n",
       "      <th>0.25</th>\n",
       "      <th>100</th>\n",
       "      <td>60.0</td>\n",
       "      <td>19.0</td>\n",
       "      <td>0.60</td>\n",
       "      <td>0.19</td>\n",
       "      <td>0.79</td>\n",
       "    </tr>\n",
       "    <tr>\n",
       "      <th>0.50</th>\n",
       "      <th>100</th>\n",
       "      <td>59.0</td>\n",
       "      <td>24.0</td>\n",
       "      <td>0.59</td>\n",
       "      <td>0.24</td>\n",
       "      <td>0.83</td>\n",
       "    </tr>\n",
       "    <tr>\n",
       "      <th>0.75</th>\n",
       "      <th>100</th>\n",
       "      <td>71.0</td>\n",
       "      <td>13.0</td>\n",
       "      <td>0.71</td>\n",
       "      <td>0.13</td>\n",
       "      <td>0.84</td>\n",
       "    </tr>\n",
       "    <tr>\n",
       "      <th>1.00</th>\n",
       "      <th>100</th>\n",
       "      <td>79.0</td>\n",
       "      <td>14.0</td>\n",
       "      <td>0.79</td>\n",
       "      <td>0.14</td>\n",
       "      <td>0.93</td>\n",
       "    </tr>\n",
       "    <tr>\n",
       "      <th>1.25</th>\n",
       "      <th>100</th>\n",
       "      <td>91.0</td>\n",
       "      <td>3.0</td>\n",
       "      <td>0.91</td>\n",
       "      <td>0.03</td>\n",
       "      <td>0.94</td>\n",
       "    </tr>\n",
       "    <tr>\n",
       "      <th>1.50</th>\n",
       "      <th>100</th>\n",
       "      <td>96.0</td>\n",
       "      <td>2.0</td>\n",
       "      <td>0.96</td>\n",
       "      <td>0.02</td>\n",
       "      <td>0.98</td>\n",
       "    </tr>\n",
       "    <tr>\n",
       "      <th>1.75</th>\n",
       "      <th>100</th>\n",
       "      <td>93.0</td>\n",
       "      <td>2.0</td>\n",
       "      <td>0.93</td>\n",
       "      <td>0.02</td>\n",
       "      <td>0.95</td>\n",
       "    </tr>\n",
       "    <tr>\n",
       "      <th>2.00</th>\n",
       "      <th>100</th>\n",
       "      <td>100.0</td>\n",
       "      <td>0.0</td>\n",
       "      <td>1.00</td>\n",
       "      <td>0.00</td>\n",
       "      <td>1.00</td>\n",
       "    </tr>\n",
       "    <tr>\n",
       "      <th>2.25</th>\n",
       "      <th>100</th>\n",
       "      <td>99.0</td>\n",
       "      <td>0.0</td>\n",
       "      <td>0.99</td>\n",
       "      <td>0.00</td>\n",
       "      <td>0.99</td>\n",
       "    </tr>\n",
       "    <tr>\n",
       "      <th>2.50</th>\n",
       "      <th>100</th>\n",
       "      <td>100.0</td>\n",
       "      <td>0.0</td>\n",
       "      <td>1.00</td>\n",
       "      <td>0.00</td>\n",
       "      <td>1.00</td>\n",
       "    </tr>\n",
       "    <tr>\n",
       "      <th>2.75</th>\n",
       "      <th>100</th>\n",
       "      <td>99.0</td>\n",
       "      <td>0.0</td>\n",
       "      <td>0.99</td>\n",
       "      <td>0.00</td>\n",
       "      <td>0.99</td>\n",
       "    </tr>\n",
       "    <tr>\n",
       "      <th>3.00</th>\n",
       "      <th>100</th>\n",
       "      <td>100.0</td>\n",
       "      <td>0.0</td>\n",
       "      <td>1.00</td>\n",
       "      <td>0.00</td>\n",
       "      <td>1.00</td>\n",
       "    </tr>\n",
       "    <tr>\n",
       "      <th>3.25</th>\n",
       "      <th>100</th>\n",
       "      <td>100.0</td>\n",
       "      <td>0.0</td>\n",
       "      <td>1.00</td>\n",
       "      <td>0.00</td>\n",
       "      <td>1.00</td>\n",
       "    </tr>\n",
       "    <tr>\n",
       "      <th>3.50</th>\n",
       "      <th>100</th>\n",
       "      <td>100.0</td>\n",
       "      <td>0.0</td>\n",
       "      <td>1.00</td>\n",
       "      <td>0.00</td>\n",
       "      <td>1.00</td>\n",
       "    </tr>\n",
       "    <tr>\n",
       "      <th>3.75</th>\n",
       "      <th>100</th>\n",
       "      <td>99.0</td>\n",
       "      <td>0.0</td>\n",
       "      <td>0.99</td>\n",
       "      <td>0.00</td>\n",
       "      <td>0.99</td>\n",
       "    </tr>\n",
       "    <tr>\n",
       "      <th>4.00</th>\n",
       "      <th>100</th>\n",
       "      <td>100.0</td>\n",
       "      <td>0.0</td>\n",
       "      <td>1.00</td>\n",
       "      <td>0.00</td>\n",
       "      <td>1.00</td>\n",
       "    </tr>\n",
       "    <tr>\n",
       "      <th>4.25</th>\n",
       "      <th>100</th>\n",
       "      <td>100.0</td>\n",
       "      <td>0.0</td>\n",
       "      <td>1.00</td>\n",
       "      <td>0.00</td>\n",
       "      <td>1.00</td>\n",
       "    </tr>\n",
       "    <tr>\n",
       "      <th>4.50</th>\n",
       "      <th>100</th>\n",
       "      <td>100.0</td>\n",
       "      <td>0.0</td>\n",
       "      <td>1.00</td>\n",
       "      <td>0.00</td>\n",
       "      <td>1.00</td>\n",
       "    </tr>\n",
       "    <tr>\n",
       "      <th>4.75</th>\n",
       "      <th>100</th>\n",
       "      <td>100.0</td>\n",
       "      <td>0.0</td>\n",
       "      <td>1.00</td>\n",
       "      <td>0.00</td>\n",
       "      <td>1.00</td>\n",
       "    </tr>\n",
       "    <tr>\n",
       "      <th>5.00</th>\n",
       "      <th>100</th>\n",
       "      <td>100.0</td>\n",
       "      <td>0.0</td>\n",
       "      <td>1.00</td>\n",
       "      <td>0.00</td>\n",
       "      <td>1.00</td>\n",
       "    </tr>\n",
       "  </tbody>\n",
       "</table>\n",
       "</div>"
      ],
      "text/plain": [
       "             sAchievesTarget  rAchievesTarget  sAchievesTargetProp  \\\n",
       "alpha nreps                                                          \n",
       "0.00  100               20.0             20.0                 0.20   \n",
       "0.25  100               60.0             19.0                 0.60   \n",
       "0.50  100               59.0             24.0                 0.59   \n",
       "0.75  100               71.0             13.0                 0.71   \n",
       "1.00  100               79.0             14.0                 0.79   \n",
       "1.25  100               91.0              3.0                 0.91   \n",
       "1.50  100               96.0              2.0                 0.96   \n",
       "1.75  100               93.0              2.0                 0.93   \n",
       "2.00  100              100.0              0.0                 1.00   \n",
       "2.25  100               99.0              0.0                 0.99   \n",
       "2.50  100              100.0              0.0                 1.00   \n",
       "2.75  100               99.0              0.0                 0.99   \n",
       "3.00  100              100.0              0.0                 1.00   \n",
       "3.25  100              100.0              0.0                 1.00   \n",
       "3.50  100              100.0              0.0                 1.00   \n",
       "3.75  100               99.0              0.0                 0.99   \n",
       "4.00  100              100.0              0.0                 1.00   \n",
       "4.25  100              100.0              0.0                 1.00   \n",
       "4.50  100              100.0              0.0                 1.00   \n",
       "4.75  100              100.0              0.0                 1.00   \n",
       "5.00  100              100.0              0.0                 1.00   \n",
       "\n",
       "             rAchievesTargetProp  targetAchievedProp  \n",
       "alpha nreps                                           \n",
       "0.00  100                   0.20                0.40  \n",
       "0.25  100                   0.19                0.79  \n",
       "0.50  100                   0.24                0.83  \n",
       "0.75  100                   0.13                0.84  \n",
       "1.00  100                   0.14                0.93  \n",
       "1.25  100                   0.03                0.94  \n",
       "1.50  100                   0.02                0.98  \n",
       "1.75  100                   0.02                0.95  \n",
       "2.00  100                   0.00                1.00  \n",
       "2.25  100                   0.00                0.99  \n",
       "2.50  100                   0.00                1.00  \n",
       "2.75  100                   0.00                0.99  \n",
       "3.00  100                   0.00                1.00  \n",
       "3.25  100                   0.00                1.00  \n",
       "3.50  100                   0.00                1.00  \n",
       "3.75  100                   0.00                0.99  \n",
       "4.00  100                   0.00                1.00  \n",
       "4.25  100                   0.00                1.00  \n",
       "4.50  100                   0.00                1.00  \n",
       "4.75  100                   0.00                1.00  \n",
       "5.00  100                   0.00                1.00  "
      ]
     },
     "execution_count": 49,
     "metadata": {},
     "output_type": "execute_result"
    }
   ],
   "source": [
    "experimentCondition_JPnoRR.loc['purple circle', 'High',]"
   ]
  },
  {
   "cell_type": "code",
   "execution_count": 16,
   "metadata": {
    "ExecuteTime": {
     "end_time": "2020-04-02T07:01:42.527600Z",
     "start_time": "2020-04-02T07:01:42.517006Z"
    }
   },
   "outputs": [
    {
     "data": {
      "text/plain": [
       "{'signalerLocation': (5, 0),\n",
       " 'receiverLocation': (5, 10),\n",
       " 'signalDictionary': {(3, 0): 'green', (7, 0): 'circle'},\n",
       " 'targetDictionary': {(1, 10): 'green triangle',\n",
       "  (5, 6): 'purple circle',\n",
       "  (9, 10): 'green circle'},\n",
       " 'valueOfReward': 10}"
      ]
     },
     "execution_count": 16,
     "metadata": {},
     "output_type": "execute_result"
    }
   ],
   "source": [
    "computeStatistics_JPRR2.translateCostSchemeToInputs('Low')"
   ]
  },
  {
   "cell_type": "code",
   "execution_count": null,
   "metadata": {},
   "outputs": [],
   "source": []
  },
  {
   "cell_type": "code",
   "execution_count": 17,
   "metadata": {
    "ExecuteTime": {
     "end_time": "2020-04-02T07:33:16.764559Z",
     "start_time": "2020-04-02T07:01:42.528747Z"
    }
   },
   "outputs": [
    {
     "name": "stdout",
     "output_type": "stream",
     "text": [
      "condition alpha 0.0 cost High\n",
      "condition alpha 0.25 cost High\n",
      "condition alpha 0.5 cost High\n",
      "condition alpha 0.75 cost High\n",
      "condition alpha 1.0 cost High\n",
      "condition alpha 1.25 cost High\n",
      "condition alpha 1.5 cost High\n",
      "condition alpha 1.75 cost High\n",
      "condition alpha 2.0 cost High\n",
      "condition alpha 2.25 cost High\n",
      "condition alpha 2.5 cost High\n",
      "condition alpha 2.75 cost High\n",
      "condition alpha 3.0 cost High\n",
      "condition alpha 3.25 cost High\n",
      "condition alpha 3.5 cost High\n",
      "condition alpha 3.75 cost High\n",
      "condition alpha 4.0 cost High\n",
      "condition alpha 4.25 cost High\n",
      "condition alpha 4.5 cost High\n",
      "condition alpha 4.75 cost High\n",
      "condition alpha 5.0 cost High\n",
      "condition alpha 0.0 cost Low\n",
      "condition alpha 0.25 cost Low\n",
      "condition alpha 0.5 cost Low\n",
      "condition alpha 0.75 cost Low\n",
      "condition alpha 1.0 cost Low\n",
      "condition alpha 1.25 cost Low\n",
      "condition alpha 1.5 cost Low\n",
      "condition alpha 1.75 cost Low\n",
      "condition alpha 2.0 cost Low\n",
      "condition alpha 2.25 cost Low\n",
      "condition alpha 2.5 cost Low\n",
      "condition alpha 2.75 cost Low\n",
      "condition alpha 3.0 cost Low\n",
      "condition alpha 3.25 cost Low\n",
      "condition alpha 3.5 cost Low\n",
      "condition alpha 3.75 cost Low\n",
      "condition alpha 4.0 cost Low\n",
      "condition alpha 4.25 cost Low\n",
      "condition alpha 4.5 cost Low\n",
      "condition alpha 4.75 cost Low\n",
      "condition alpha 5.0 cost Low\n",
      "condition alpha 0.0 cost Medium\n",
      "condition alpha 0.25 cost Medium\n",
      "condition alpha 0.5 cost Medium\n",
      "condition alpha 0.75 cost Medium\n",
      "condition alpha 1.0 cost Medium\n",
      "condition alpha 1.25 cost Medium\n",
      "condition alpha 1.5 cost Medium\n",
      "condition alpha 1.75 cost Medium\n",
      "condition alpha 2.0 cost Medium\n",
      "condition alpha 2.25 cost Medium\n",
      "condition alpha 2.5 cost Medium\n",
      "condition alpha 2.75 cost Medium\n",
      "condition alpha 3.0 cost Medium\n",
      "condition alpha 3.25 cost Medium\n",
      "condition alpha 3.5 cost Medium\n",
      "condition alpha 3.75 cost Medium\n",
      "condition alpha 4.0 cost Medium\n",
      "condition alpha 4.25 cost Medium\n",
      "condition alpha 4.5 cost Medium\n",
      "condition alpha 4.75 cost Medium\n",
      "condition alpha 5.0 cost Medium\n",
      "condition alpha 0.0 cost High\n",
      "condition alpha 0.25 cost High\n",
      "condition alpha 0.5 cost High\n",
      "condition alpha 0.75 cost High\n",
      "condition alpha 1.0 cost High\n",
      "condition alpha 1.25 cost High\n",
      "condition alpha 1.5 cost High\n",
      "condition alpha 1.75 cost High\n",
      "condition alpha 2.0 cost High\n",
      "condition alpha 2.25 cost High\n",
      "condition alpha 2.5 cost High\n",
      "condition alpha 2.75 cost High\n",
      "condition alpha 3.0 cost High\n",
      "condition alpha 3.25 cost High\n",
      "condition alpha 3.5 cost High\n",
      "condition alpha 3.75 cost High\n",
      "condition alpha 4.0 cost High\n",
      "condition alpha 4.25 cost High\n",
      "condition alpha 4.5 cost High\n",
      "condition alpha 4.75 cost High\n",
      "condition alpha 5.0 cost High\n",
      "condition alpha 0.0 cost Low\n",
      "condition alpha 0.25 cost Low\n",
      "condition alpha 0.5 cost Low\n",
      "condition alpha 0.75 cost Low\n",
      "condition alpha 1.0 cost Low\n",
      "condition alpha 1.25 cost Low\n",
      "condition alpha 1.5 cost Low\n",
      "condition alpha 1.75 cost Low\n",
      "condition alpha 2.0 cost Low\n",
      "condition alpha 2.25 cost Low\n",
      "condition alpha 2.5 cost Low\n",
      "condition alpha 2.75 cost Low\n",
      "condition alpha 3.0 cost Low\n",
      "condition alpha 3.25 cost Low\n",
      "condition alpha 3.5 cost Low\n",
      "condition alpha 3.75 cost Low\n",
      "condition alpha 4.0 cost Low\n",
      "condition alpha 4.25 cost Low\n",
      "condition alpha 4.5 cost Low\n",
      "condition alpha 4.75 cost Low\n",
      "condition alpha 5.0 cost Low\n",
      "condition alpha 0.0 cost Medium\n",
      "condition alpha 0.25 cost Medium\n",
      "condition alpha 0.5 cost Medium\n",
      "condition alpha 0.75 cost Medium\n",
      "condition alpha 1.0 cost Medium\n",
      "condition alpha 1.25 cost Medium\n",
      "condition alpha 1.5 cost Medium\n",
      "condition alpha 1.75 cost Medium\n",
      "condition alpha 2.0 cost Medium\n",
      "condition alpha 2.25 cost Medium\n",
      "condition alpha 2.5 cost Medium\n",
      "condition alpha 2.75 cost Medium\n",
      "condition alpha 3.0 cost Medium\n",
      "condition alpha 3.25 cost Medium\n",
      "condition alpha 3.5 cost Medium\n",
      "condition alpha 3.75 cost Medium\n",
      "condition alpha 4.0 cost Medium\n",
      "condition alpha 4.25 cost Medium\n",
      "condition alpha 4.5 cost Medium\n",
      "condition alpha 4.75 cost Medium\n",
      "condition alpha 5.0 cost Medium\n",
      "condition alpha 0.0 cost High\n",
      "condition alpha 0.25 cost High\n",
      "condition alpha 0.5 cost High\n",
      "condition alpha 0.75 cost High\n",
      "condition alpha 1.0 cost High\n",
      "condition alpha 1.25 cost High\n",
      "condition alpha 1.5 cost High\n",
      "condition alpha 1.75 cost High\n",
      "condition alpha 2.0 cost High\n",
      "condition alpha 2.25 cost High\n",
      "condition alpha 2.5 cost High\n",
      "condition alpha 2.75 cost High\n",
      "condition alpha 3.0 cost High\n",
      "condition alpha 3.25 cost High\n",
      "condition alpha 3.5 cost High\n",
      "condition alpha 3.75 cost High\n",
      "condition alpha 4.0 cost High\n",
      "condition alpha 4.25 cost High\n",
      "condition alpha 4.5 cost High\n",
      "condition alpha 4.75 cost High\n",
      "condition alpha 5.0 cost High\n",
      "condition alpha 0.0 cost Low\n",
      "condition alpha 0.25 cost Low\n",
      "condition alpha 0.5 cost Low\n",
      "condition alpha 0.75 cost Low\n",
      "condition alpha 1.0 cost Low\n",
      "condition alpha 1.25 cost Low\n",
      "condition alpha 1.5 cost Low\n",
      "condition alpha 1.75 cost Low\n",
      "condition alpha 2.0 cost Low\n",
      "condition alpha 2.25 cost Low\n",
      "condition alpha 2.5 cost Low\n",
      "condition alpha 2.75 cost Low\n",
      "condition alpha 3.0 cost Low\n",
      "condition alpha 3.25 cost Low\n",
      "condition alpha 3.5 cost Low\n",
      "condition alpha 3.75 cost Low\n",
      "condition alpha 4.0 cost Low\n",
      "condition alpha 4.25 cost Low\n",
      "condition alpha 4.5 cost Low\n",
      "condition alpha 4.75 cost Low\n",
      "condition alpha 5.0 cost Low\n",
      "condition alpha 0.0 cost Medium\n",
      "condition alpha 0.25 cost Medium\n",
      "condition alpha 0.5 cost Medium\n",
      "condition alpha 0.75 cost Medium\n",
      "condition alpha 1.0 cost Medium\n",
      "condition alpha 1.25 cost Medium\n",
      "condition alpha 1.5 cost Medium\n",
      "condition alpha 1.75 cost Medium\n",
      "condition alpha 2.0 cost Medium\n",
      "condition alpha 2.25 cost Medium\n",
      "condition alpha 2.5 cost Medium\n",
      "condition alpha 2.75 cost Medium\n",
      "condition alpha 3.0 cost Medium\n",
      "condition alpha 3.25 cost Medium\n",
      "condition alpha 3.5 cost Medium\n",
      "condition alpha 3.75 cost Medium\n",
      "condition alpha 4.0 cost Medium\n",
      "condition alpha 4.25 cost Medium\n",
      "condition alpha 4.5 cost Medium\n",
      "condition alpha 4.75 cost Medium\n",
      "condition alpha 5.0 cost Medium\n"
     ]
    }
   ],
   "source": [
    "computeStatistics_noJPRR3 =  IWTrialSampler(conditionParameters = conditionParameters3, \n",
    "                                    fixedParameters=fixedParameters3)\n",
    "\n",
    "computeConditionStatistics_noJPRR3 = lambda condition: computeStatistics_noJPRR3(condition.index.get_level_values('trueTarget')[0], condition.index.get_level_values('costs')[0], condition.index.get_level_values('alpha')[0], condition.index.get_level_values('nreps')[0])\n",
    "experimentCondition_noJPRR3 = toSplitFrame.groupby(levelNames).apply(computeConditionStatistics_noJPRR3)"
   ]
  },
  {
   "cell_type": "code",
   "execution_count": 18,
   "metadata": {
    "ExecuteTime": {
     "end_time": "2020-04-02T07:33:16.777451Z",
     "start_time": "2020-04-02T07:33:16.766241Z"
    }
   },
   "outputs": [],
   "source": [
    "experimentCondition_noJPRR3.to_pickle(\"./NOJointPlanningRecursiveReasoning.pkl\")"
   ]
  },
  {
   "cell_type": "code",
   "execution_count": 19,
   "metadata": {
    "ExecuteTime": {
     "end_time": "2020-04-02T07:33:16.789802Z",
     "start_time": "2020-04-02T07:33:16.778749Z"
    }
   },
   "outputs": [
    {
     "data": {
      "text/plain": [
       "{'signalerLocation': (5, 0),\n",
       " 'receiverLocation': (5, 8),\n",
       " 'signalDictionary': {(3, 0): 'green', (7, 0): 'circle'},\n",
       " 'targetDictionary': {(1, 10): 'green triangle',\n",
       "  (5, 10): 'green circle',\n",
       "  (9, 10): 'purple circle'},\n",
       " 'valueOfReward': 10}"
      ]
     },
     "execution_count": 19,
     "metadata": {},
     "output_type": "execute_result"
    }
   ],
   "source": [
    "computeStatistics_noJPRR3.translateCostSchemeToInputs('Low')"
   ]
  },
  {
   "cell_type": "code",
   "execution_count": null,
   "metadata": {},
   "outputs": [],
   "source": []
  },
  {
   "cell_type": "code",
   "execution_count": 20,
   "metadata": {
    "ExecuteTime": {
     "end_time": "2020-04-02T08:08:12.626295Z",
     "start_time": "2020-04-02T07:33:16.790990Z"
    },
    "scrolled": true
   },
   "outputs": [
    {
     "name": "stdout",
     "output_type": "stream",
     "text": [
      "condition alpha 0.0 cost High\n",
      "condition alpha 0.25 cost High\n",
      "condition alpha 0.5 cost High\n",
      "condition alpha 0.75 cost High\n",
      "condition alpha 1.0 cost High\n",
      "condition alpha 1.25 cost High\n",
      "condition alpha 1.5 cost High\n",
      "condition alpha 1.75 cost High\n",
      "condition alpha 2.0 cost High\n",
      "condition alpha 2.25 cost High\n",
      "condition alpha 2.5 cost High\n",
      "condition alpha 2.75 cost High\n",
      "condition alpha 3.0 cost High\n",
      "condition alpha 3.25 cost High\n",
      "condition alpha 3.5 cost High\n",
      "condition alpha 3.75 cost High\n",
      "condition alpha 4.0 cost High\n",
      "condition alpha 4.25 cost High\n",
      "condition alpha 4.5 cost High\n",
      "condition alpha 4.75 cost High\n",
      "condition alpha 5.0 cost High\n",
      "condition alpha 0.0 cost Low\n",
      "condition alpha 0.25 cost Low\n",
      "condition alpha 0.5 cost Low\n",
      "condition alpha 0.75 cost Low\n",
      "condition alpha 1.0 cost Low\n",
      "condition alpha 1.25 cost Low\n",
      "condition alpha 1.5 cost Low\n",
      "condition alpha 1.75 cost Low\n",
      "condition alpha 2.0 cost Low\n",
      "condition alpha 2.25 cost Low\n",
      "condition alpha 2.5 cost Low\n",
      "condition alpha 2.75 cost Low\n",
      "condition alpha 3.0 cost Low\n",
      "condition alpha 3.25 cost Low\n",
      "condition alpha 3.5 cost Low\n",
      "condition alpha 3.75 cost Low\n",
      "condition alpha 4.0 cost Low\n",
      "condition alpha 4.25 cost Low\n",
      "condition alpha 4.5 cost Low\n",
      "condition alpha 4.75 cost Low\n",
      "condition alpha 5.0 cost Low\n",
      "condition alpha 0.0 cost Medium\n",
      "condition alpha 0.25 cost Medium\n",
      "condition alpha 0.5 cost Medium\n",
      "condition alpha 0.75 cost Medium\n",
      "condition alpha 1.0 cost Medium\n",
      "condition alpha 1.25 cost Medium\n",
      "condition alpha 1.5 cost Medium\n",
      "condition alpha 1.75 cost Medium\n",
      "condition alpha 2.0 cost Medium\n",
      "condition alpha 2.25 cost Medium\n",
      "condition alpha 2.5 cost Medium\n",
      "condition alpha 2.75 cost Medium\n",
      "condition alpha 3.0 cost Medium\n",
      "condition alpha 3.25 cost Medium\n",
      "condition alpha 3.5 cost Medium\n",
      "condition alpha 3.75 cost Medium\n",
      "condition alpha 4.0 cost Medium\n",
      "condition alpha 4.25 cost Medium\n",
      "condition alpha 4.5 cost Medium\n",
      "condition alpha 4.75 cost Medium\n",
      "condition alpha 5.0 cost Medium\n",
      "condition alpha 0.0 cost High\n",
      "condition alpha 0.25 cost High\n",
      "condition alpha 0.5 cost High\n",
      "condition alpha 0.75 cost High\n",
      "condition alpha 1.0 cost High\n",
      "condition alpha 1.25 cost High\n",
      "condition alpha 1.5 cost High\n",
      "condition alpha 1.75 cost High\n",
      "condition alpha 2.0 cost High\n",
      "condition alpha 2.25 cost High\n",
      "condition alpha 2.5 cost High\n",
      "condition alpha 2.75 cost High\n",
      "condition alpha 3.0 cost High\n",
      "condition alpha 3.25 cost High\n",
      "condition alpha 3.5 cost High\n",
      "condition alpha 3.75 cost High\n",
      "condition alpha 4.0 cost High\n",
      "condition alpha 4.25 cost High\n",
      "condition alpha 4.5 cost High\n",
      "condition alpha 4.75 cost High\n",
      "condition alpha 5.0 cost High\n",
      "condition alpha 0.0 cost Low\n",
      "condition alpha 0.25 cost Low\n",
      "condition alpha 0.5 cost Low\n",
      "condition alpha 0.75 cost Low\n",
      "condition alpha 1.0 cost Low\n",
      "condition alpha 1.25 cost Low\n",
      "condition alpha 1.5 cost Low\n",
      "condition alpha 1.75 cost Low\n",
      "condition alpha 2.0 cost Low\n",
      "condition alpha 2.25 cost Low\n",
      "condition alpha 2.5 cost Low\n",
      "condition alpha 2.75 cost Low\n",
      "condition alpha 3.0 cost Low\n",
      "condition alpha 3.25 cost Low\n",
      "condition alpha 3.5 cost Low\n",
      "condition alpha 3.75 cost Low\n",
      "condition alpha 4.0 cost Low\n",
      "condition alpha 4.25 cost Low\n",
      "condition alpha 4.5 cost Low\n",
      "condition alpha 4.75 cost Low\n",
      "condition alpha 5.0 cost Low\n",
      "condition alpha 0.0 cost Medium\n",
      "condition alpha 0.25 cost Medium\n",
      "condition alpha 0.5 cost Medium\n",
      "condition alpha 0.75 cost Medium\n",
      "condition alpha 1.0 cost Medium\n",
      "condition alpha 1.25 cost Medium\n",
      "condition alpha 1.5 cost Medium\n",
      "condition alpha 1.75 cost Medium\n",
      "condition alpha 2.0 cost Medium\n",
      "condition alpha 2.25 cost Medium\n",
      "condition alpha 2.5 cost Medium\n",
      "condition alpha 2.75 cost Medium\n",
      "condition alpha 3.0 cost Medium\n",
      "condition alpha 3.25 cost Medium\n",
      "condition alpha 3.5 cost Medium\n",
      "condition alpha 3.75 cost Medium\n",
      "condition alpha 4.0 cost Medium\n",
      "condition alpha 4.25 cost Medium\n",
      "condition alpha 4.5 cost Medium\n",
      "condition alpha 4.75 cost Medium\n",
      "condition alpha 5.0 cost Medium\n",
      "condition alpha 0.0 cost High\n",
      "condition alpha 0.25 cost High\n",
      "condition alpha 0.5 cost High\n",
      "condition alpha 0.75 cost High\n",
      "condition alpha 1.0 cost High\n",
      "condition alpha 1.25 cost High\n",
      "condition alpha 1.5 cost High\n",
      "condition alpha 1.75 cost High\n",
      "condition alpha 2.0 cost High\n",
      "condition alpha 2.25 cost High\n",
      "condition alpha 2.5 cost High\n",
      "condition alpha 2.75 cost High\n",
      "condition alpha 3.0 cost High\n",
      "condition alpha 3.25 cost High\n",
      "condition alpha 3.5 cost High\n",
      "condition alpha 3.75 cost High\n",
      "condition alpha 4.0 cost High\n",
      "condition alpha 4.25 cost High\n",
      "condition alpha 4.5 cost High\n",
      "condition alpha 4.75 cost High\n",
      "condition alpha 5.0 cost High\n",
      "condition alpha 0.0 cost Low\n",
      "condition alpha 0.25 cost Low\n",
      "condition alpha 0.5 cost Low\n",
      "condition alpha 0.75 cost Low\n",
      "condition alpha 1.0 cost Low\n",
      "condition alpha 1.25 cost Low\n",
      "condition alpha 1.5 cost Low\n",
      "condition alpha 1.75 cost Low\n",
      "condition alpha 2.0 cost Low\n",
      "condition alpha 2.25 cost Low\n",
      "condition alpha 2.5 cost Low\n",
      "condition alpha 2.75 cost Low\n",
      "condition alpha 3.0 cost Low\n",
      "condition alpha 3.25 cost Low\n",
      "condition alpha 3.5 cost Low\n",
      "condition alpha 3.75 cost Low\n",
      "condition alpha 4.0 cost Low\n",
      "condition alpha 4.25 cost Low\n",
      "condition alpha 4.5 cost Low\n",
      "condition alpha 4.75 cost Low\n",
      "condition alpha 5.0 cost Low\n",
      "condition alpha 0.0 cost Medium\n",
      "condition alpha 0.25 cost Medium\n",
      "condition alpha 0.5 cost Medium\n",
      "condition alpha 0.75 cost Medium\n",
      "condition alpha 1.0 cost Medium\n",
      "condition alpha 1.25 cost Medium\n",
      "condition alpha 1.5 cost Medium\n",
      "condition alpha 1.75 cost Medium\n",
      "condition alpha 2.0 cost Medium\n",
      "condition alpha 2.25 cost Medium\n",
      "condition alpha 2.5 cost Medium\n",
      "condition alpha 2.75 cost Medium\n",
      "condition alpha 3.0 cost Medium\n",
      "condition alpha 3.25 cost Medium\n",
      "condition alpha 3.5 cost Medium\n",
      "condition alpha 3.75 cost Medium\n",
      "condition alpha 4.0 cost Medium\n",
      "condition alpha 4.25 cost Medium\n",
      "condition alpha 4.5 cost Medium\n",
      "condition alpha 4.75 cost Medium\n",
      "condition alpha 5.0 cost Medium\n"
     ]
    }
   ],
   "source": [
    "computeStatistics_noJPnoRR4 =  IWTrialSampler(conditionParameters = conditionParameters4, \n",
    "                                    fixedParameters=fixedParameters4)\n",
    "\n",
    "computeConditionStatistics_noJPnoRR4 = lambda condition: computeStatistics_noJPnoRR4(condition.index.get_level_values('trueTarget')[0], condition.index.get_level_values('costs')[0], condition.index.get_level_values('alpha')[0], condition.index.get_level_values('nreps')[0])\n",
    "experimentCondition_noJPnoRR4 = toSplitFrame.groupby(levelNames).apply(computeConditionStatistics_noJPnoRR4)"
   ]
  },
  {
   "cell_type": "code",
   "execution_count": 21,
   "metadata": {
    "ExecuteTime": {
     "end_time": "2020-04-02T08:08:12.638262Z",
     "start_time": "2020-04-02T08:08:12.627682Z"
    }
   },
   "outputs": [],
   "source": [
    "experimentCondition_noJPnoRR4.to_pickle(\"./NOJointPlanningNORecursiveReasoning.pkl\")"
   ]
  },
  {
   "cell_type": "code",
   "execution_count": 22,
   "metadata": {
    "ExecuteTime": {
     "end_time": "2020-04-02T08:08:12.649622Z",
     "start_time": "2020-04-02T08:08:12.639487Z"
    }
   },
   "outputs": [
    {
     "data": {
      "text/plain": [
       "{'signalerLocation': (5, 0),\n",
       " 'receiverLocation': (5, 10),\n",
       " 'signalDictionary': {(3, 0): 'purple', (7, 0): 'triangle'},\n",
       " 'targetDictionary': {(1, 10): 'green triangle',\n",
       "  (5, 6): 'purple circle',\n",
       "  (9, 10): 'green circle'},\n",
       " 'valueOfReward': 10}"
      ]
     },
     "execution_count": 22,
     "metadata": {},
     "output_type": "execute_result"
    }
   ],
   "source": [
    "computeStatistics_noJPnoRR4.translateCostSchemeToInputs('Low')"
   ]
  },
  {
   "cell_type": "code",
   "execution_count": null,
   "metadata": {},
   "outputs": [],
   "source": []
  },
  {
   "cell_type": "markdown",
   "metadata": {
    "ExecuteTime": {
     "end_time": "2020-04-01T21:53:44.045614Z",
     "start_time": "2020-04-01T21:53:44.033733Z"
    }
   },
   "source": [
    "# Plotting Results"
   ]
  },
  {
   "cell_type": "code",
   "execution_count": 23,
   "metadata": {
    "ExecuteTime": {
     "end_time": "2020-04-02T14:33:00.406334Z",
     "start_time": "2020-04-02T14:33:00.380192Z"
    }
   },
   "outputs": [],
   "source": [
    "import matplotlib.pyplot as plt\n",
    "import matplotlib.patches as mpatches \n",
    "import seaborn as sns"
   ]
  },
  {
   "cell_type": "code",
   "execution_count": 28,
   "metadata": {
    "ExecuteTime": {
     "end_time": "2020-04-02T14:33:39.574501Z",
     "start_time": "2020-04-02T14:33:39.546383Z"
    }
   },
   "outputs": [],
   "source": [
    "def drawPerformanceStackPlot(dfCondition, axLabel, axForDraw):\n",
    "    x = list(dfCondition.index.get_level_values('alpha'))\n",
    "    y_signalerAchievesGoal = dfCondition['sAchievesTargetProp'].values\n",
    "    y_receiverAchievesGoal = dfCondition['rAchievesTargetProp'].values\n",
    "    stackedPlot = axForDraw.stackplot(x,y_signalerAchievesGoal,y_receiverAchievesGoal, labels=['Signaler','Receiver'], colors = ['tab:green', 'tab:olive'], alpha = .5)\n",
    "    axForDraw.set_yticks([0,.5,1])\n",
    "    axForDraw.set_xticks([0, 1,2, 3,4,5])"
   ]
  },
  {
   "cell_type": "code",
   "execution_count": 39,
   "metadata": {
    "ExecuteTime": {
     "end_time": "2020-04-02T14:37:16.834047Z",
     "start_time": "2020-04-02T14:37:16.818879Z"
    }
   },
   "outputs": [],
   "source": [
    "tmp = experimentCondition_noJPnoRR4"
   ]
  },
  {
   "cell_type": "code",
   "execution_count": 40,
   "metadata": {
    "ExecuteTime": {
     "end_time": "2020-04-02T14:37:18.356380Z",
     "start_time": "2020-04-02T14:37:18.330886Z"
    }
   },
   "outputs": [],
   "source": [
    "#plotting hyperparameters\n",
    "figureSize = (10,10)\n",
    "horizontalSpaceBetweenSubplots = .3\n",
    "legendColors = {'Signaler' : 'tab:green', 'Receiver':'tab:olive'}\n",
    "\n",
    "#dataframe to plot\n",
    "dataframeName = tmp.reindex(['Low', 'Medium', 'High'], level='costs')\n",
    "dataFrameRowLength = len(manipulatedVariables['trueTarget'])\n",
    "dataFrameColLength = len(manipulatedVariables['costs'])"
   ]
  },
  {
   "cell_type": "code",
   "execution_count": 41,
   "metadata": {
    "ExecuteTime": {
     "end_time": "2020-04-02T14:37:19.696199Z",
     "start_time": "2020-04-02T14:37:19.235394Z"
    },
    "scrolled": false
   },
   "outputs": [
    {
     "data": {
      "image/png": "[encoded data removed]",
      "text/plain": [
       "<Figure size 720x720 with 9 Axes>"
      ]
     },
     "metadata": {
      "needs_background": "light"
     },
     "output_type": "display_data"
    }
   ],
   "source": [
    "fig = plt.figure(figsize=figureSize)\n",
    "numRows = dataFrameRowLength\n",
    "numColumns = dataFrameColLength\n",
    "plotCounter = 1\n",
    "\n",
    "for target, grp in dataframeName.groupby('trueTarget'):\n",
    "    grp.index = grp.index.droplevel('trueTarget')\n",
    "    for cost, group in grp.groupby('costs'):\n",
    "    \n",
    "        #subplot axis labels\n",
    "        axForDraw = fig.add_subplot(numRows, numColumns, plotCounter)\n",
    "        if plotCounter % numColumns == 1:\n",
    "            axForDraw.set_ylabel(target)\n",
    "            #axForDraw.set_ylabel('alpha: {}'.format(round(alpha, 2)))\n",
    "        if plotCounter <= numColumns:\n",
    "            axForDraw.set_title(cost)\n",
    "        axForDraw.set_ylim(0, 1)\n",
    "\n",
    "        #draw subplot\n",
    "        drawPerformanceStackPlot(group, cost, axForDraw)\n",
    "        if plotCounter == 8:\n",
    "            plt.xlabel(r'$\\beta$', fontsize=18)\n",
    "        plotCounter += 1\n",
    "\n",
    "#Title\n",
    "plt.suptitle('')\n",
    "\n",
    "#legend\n",
    "legend_dict = legendColors\n",
    "patchList = []\n",
    "for key in legend_dict:\n",
    "    data_key = mpatches.Patch(color=legend_dict[key], label=key)\n",
    "    patchList.append(data_key)\n",
    "plt.legend(handles=patchList, loc='lower right')\n",
    "\n",
    "#adjust horizontal spacing of subplots\n",
    "fig.subplots_adjust(wspace=horizontalSpaceBetweenSubplots)\n",
    "\n",
    "#plt.show()\n",
    "plt.savefig('noJPnoRR_plots.png')"
   ]
  },
  {
   "cell_type": "code",
   "execution_count": null,
   "metadata": {
    "ExecuteTime": {
     "end_time": "2020-04-02T01:00:05.486604Z",
     "start_time": "2020-04-02T01:00:05.475290Z"
    }
   },
   "outputs": [],
   "source": [
    "#tmp.to_pickle(\"./jointPlanningNORecursiveReasoning.pkl\")"
   ]
  },
  {
   "cell_type": "code",
   "execution_count": null,
   "metadata": {},
   "outputs": [],
   "source": []
  }
 ],
 "metadata": {
  "kernelspec": {
   "display_name": "Python 3",
   "language": "python",
   "name": "python3"
  },
  "language_info": {
   "codemirror_mode": {
    "name": "ipython",
    "version": 3
   },
   "file_extension": ".py",
   "mimetype": "text/x-python",
   "name": "python",
   "nbconvert_exporter": "python",
   "pygments_lexer": "ipython3",
   "version": "3.5.6"
  },
  "toc": {
   "base_numbering": 1,
   "nav_menu": {},
   "number_sections": true,
   "sideBar": true,
   "skip_h1_title": false,
   "title_cell": "Table of Contents",
   "title_sidebar": "Contents",
   "toc_cell": false,
   "toc_position": {},
   "toc_section_display": true,
   "toc_window_display": false
  }
 },
 "nbformat": 4,
 "nbformat_minor": 2
}
