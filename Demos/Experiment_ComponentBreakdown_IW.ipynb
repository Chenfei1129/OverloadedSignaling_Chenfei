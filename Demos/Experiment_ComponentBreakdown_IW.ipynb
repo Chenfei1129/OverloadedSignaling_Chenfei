{
 "cells": [
  {
   "cell_type": "code",
   "execution_count": 1,
   "metadata": {
    "ExecuteTime": {
     "end_time": "2020-07-10T20:06:58.141732Z",
     "start_time": "2020-07-10T20:06:57.965315Z"
    }
   },
   "outputs": [],
   "source": [
    "import sys\n",
    "import numpy as np\n",
    "import pandas as pd\n",
    "\n",
    "%load_ext autoreload\n",
    "%autoreload 2\n",
    "\n",
    "sys.path.append('/home/stacyste/Documents/Research/OverloadedSignaling/Algorithms/ImaginedWe')\n",
    "sys.path.append('/home/stacyste/Documents/Research/OverloadedSignaling/Algorithms')\n",
    "sys.path.append('/home/stacyste/Documents/Research/OverloadedSignaling/Environments/Experiment')"
   ]
  },
  {
   "cell_type": "code",
   "execution_count": 14,
   "metadata": {
    "ExecuteTime": {
     "end_time": "2020-07-10T20:16:35.495975Z",
     "start_time": "2020-07-10T20:16:35.482115Z"
    }
   },
   "outputs": [],
   "source": [
    "import constantNames as NC\n",
    "\n",
    "from experimentConstruction import *\n",
    "from consistentSignalChecks_Experiment import SignalIsConsistent_Experiment\n",
    "from visualizations_Experiment import *\n",
    "from setupInference_Experiment import SetupExperiment_SignalsSeparated, SetupExperiment_SignalsSeparated_Levels"
   ]
  },
  {
   "cell_type": "markdown",
   "metadata": {},
   "source": [
    "# Trials as Functions"
   ]
  },
  {
   "cell_type": "code",
   "execution_count": 6,
   "metadata": {
    "ExecuteTime": {
     "end_time": "2020-07-10T20:09:13.981312Z",
     "start_time": "2020-07-10T20:09:13.945981Z"
    }
   },
   "outputs": [],
   "source": [
    "# Scenario setups\n",
    "s = (4,0)\n",
    "r = (4,7)\n",
    "\n",
    "signalSpace_GC = ['green', 'circle']\n",
    "signalSpace_PT = ['purple', 'triangle']\n",
    "\n",
    "targetDict_GtGcPc = {(0,7): 'green triangle', (4,3):'green circle' , (8,7):'purple circle'}\n",
    "targetDict_GcGtPc = {(0,7): 'green circle', (4,3):'green triangle' , (8,7):'purple circle'}\n",
    "targetDict_GtPcGc = {(0,7): 'green triangle', (4,3):'purple circle' , (8,7):'green circle'}\n",
    "targetDict_PcGtGc = {(0,7): 'purple circle', (4,3):'green triangle' , (8,7):'green circle'}\n",
    "\n",
    "targetDict_PcGtPtGc = {(0,7): 'purple circle', (4,3):'green triangle' , (7,6): 'purple triangle', (8,7):'green circle'}\n",
    "\n",
    "rationality = 1\n",
    "reward = 15\n",
    "\n",
    "gridDims = (9,10)"
   ]
  },
  {
   "cell_type": "code",
   "execution_count": 15,
   "metadata": {
    "ExecuteTime": {
     "end_time": "2020-07-10T20:16:41.943304Z",
     "start_time": "2020-07-10T20:16:37.397810Z"
    }
   },
   "outputs": [],
   "source": [
    "runInference = SetupExperiment_SignalsSeparated(rationality, reward)\n",
    "\n",
    "receiver1, signaler1, pragReceiver1 = runInference(s, r, signalSpace_PT, targetDict_GtGcPc)\n",
    "receiver2, signaler2,pragReceiver2 = runInference(s, r, signalSpace_GC, targetDict_GtGcPc)\n",
    "receiver3, signaler3, pragReceiver3 = runInference(s, r, signalSpace_GC, targetDict_GcGtPc)\n",
    "\n",
    "receiver4, signaler4, pragReceiver4 = runInference(s, r, signalSpace_PT, targetDict_PcGtPtGc)\n"
   ]
  },
  {
   "cell_type": "code",
   "execution_count": 16,
   "metadata": {
    "ExecuteTime": {
     "end_time": "2020-07-10T20:16:44.178902Z",
     "start_time": "2020-07-10T20:16:42.788527Z"
    }
   },
   "outputs": [
    {
     "name": "stdout",
     "output_type": "stream",
     "text": [
      "current IW layer:  0\n",
      "current IW layer:  1\n",
      "current IW layer:  2\n"
     ]
    }
   ],
   "source": [
    "runInferenceRecursive = SetupExperiment_SignalsSeparated_Levels(rationality, reward)\n",
    "sDict, rDict = runInferenceRecursive(s, r, signalSpace_GC, targetDict_GcGtPc,maxLayer = 2)"
   ]
  },
  {
   "cell_type": "code",
   "execution_count": null,
   "metadata": {
    "ExecuteTime": {
     "end_time": "2020-07-10T19:18:01.866210Z",
     "start_time": "2020-07-10T19:18:01.855038Z"
    }
   },
   "outputs": [],
   "source": [
    "sDict"
   ]
  },
  {
   "cell_type": "code",
   "execution_count": null,
   "metadata": {
    "ExecuteTime": {
     "end_time": "2020-07-10T19:18:04.213354Z",
     "start_time": "2020-07-10T19:18:04.077837Z"
    },
    "scrolled": false
   },
   "outputs": [],
   "source": [
    "sDict['1']({'intentions': 'green circle'})"
   ]
  },
  {
   "cell_type": "code",
   "execution_count": null,
   "metadata": {
    "ExecuteTime": {
     "end_time": "2020-07-10T19:18:05.233964Z",
     "start_time": "2020-07-10T19:18:04.655538Z"
    }
   },
   "outputs": [],
   "source": [
    "sDict['2']({'intentions': 'green circle'})"
   ]
  },
  {
   "cell_type": "code",
   "execution_count": null,
   "metadata": {
    "ExecuteTime": {
     "end_time": "2020-07-09T23:04:08.981354Z",
     "start_time": "2020-07-09T23:04:08.912764Z"
    }
   },
   "outputs": [],
   "source": [
    "round(rDict['0']('green'),3)"
   ]
  },
  {
   "cell_type": "code",
   "execution_count": null,
   "metadata": {
    "ExecuteTime": {
     "end_time": "2020-07-09T23:04:55.640494Z",
     "start_time": "2020-07-09T23:04:55.329005Z"
    }
   },
   "outputs": [],
   "source": [
    "round(rDict['1']('green'),3)"
   ]
  },
  {
   "cell_type": "code",
   "execution_count": null,
   "metadata": {
    "ExecuteTime": {
     "end_time": "2020-07-09T23:05:07.782628Z",
     "start_time": "2020-07-09T23:05:05.910337Z"
    },
    "scrolled": true
   },
   "outputs": [],
   "source": [
    "round(rDict['2']('green'),3)"
   ]
  },
  {
   "cell_type": "code",
   "execution_count": null,
   "metadata": {
    "ExecuteTime": {
     "end_time": "2020-07-09T18:41:35.733704Z",
     "start_time": "2020-07-09T18:41:35.722413Z"
    }
   },
   "outputs": [],
   "source": [
    "sys.path.append('/home/stacyste/Documents/Research/OverloadedSignaling/Algorithms/ImaginedWe')\n",
    "from OverloadedSignaler import SignalerOne\n",
    "from PragmaticReceiver import ReceiverOne"
   ]
  },
  {
   "cell_type": "code",
   "execution_count": null,
   "metadata": {},
   "outputs": [],
   "source": []
  },
  {
   "cell_type": "markdown",
   "metadata": {},
   "source": [
    "Example that isn't working"
   ]
  },
  {
   "cell_type": "code",
   "execution_count": 9,
   "metadata": {
    "ExecuteTime": {
     "end_time": "2020-07-10T20:09:47.335847Z",
     "start_time": "2020-07-10T20:09:40.374826Z"
    }
   },
   "outputs": [
    {
     "name": "stdout",
     "output_type": "stream",
     "text": [
      "current IW layer:  0\n",
      "current IW layer:  1\n",
      "current IW layer:  2\n"
     ]
    }
   ],
   "source": [
    "signals = ['purple', 'square', 'circle', 'red', 'triangle', 'green']\n",
    "targets = {(0, 1): 'green circle', (4, 2): 'red circle', (4, 6): 'red triangle', (6, 2): 'red square', (6, 8): 'purple square', (8, 4): 'green square'}\n",
    "\n",
    "runInferenceRecursive = SetupExperiment_SignalsSeparated_Levels(rationality, reward)\n",
    "sDict, rDict = runInferenceRecursive(s, r, signals, targets, maxLayer = 2)"
   ]
  },
  {
   "cell_type": "code",
   "execution_count": null,
   "metadata": {
    "ExecuteTime": {
     "end_time": "2020-07-10T19:20:14.443405Z",
     "start_time": "2020-07-10T19:20:14.416798Z"
    }
   },
   "outputs": [],
   "source": [
    "sDict"
   ]
  },
  {
   "cell_type": "code",
   "execution_count": null,
   "metadata": {
    "ExecuteTime": {
     "end_time": "2020-07-10T19:20:19.453963Z",
     "start_time": "2020-07-10T19:20:19.433733Z"
    }
   },
   "outputs": [],
   "source": [
    "rDict"
   ]
  },
  {
   "cell_type": "code",
   "execution_count": 10,
   "metadata": {
    "ExecuteTime": {
     "end_time": "2020-07-10T20:09:52.224989Z",
     "start_time": "2020-07-10T20:09:52.092668Z"
    }
   },
   "outputs": [
    {
     "data": {
      "text/html": [
       "<div>\n",
       "<style scoped>\n",
       "    .dataframe tbody tr th:only-of-type {\n",
       "        vertical-align: middle;\n",
       "    }\n",
       "\n",
       "    .dataframe tbody tr th {\n",
       "        vertical-align: top;\n",
       "    }\n",
       "\n",
       "    .dataframe thead th {\n",
       "        text-align: right;\n",
       "    }\n",
       "</style>\n",
       "<table border=\"1\" class=\"dataframe\">\n",
       "  <thead>\n",
       "    <tr style=\"text-align: right;\">\n",
       "      <th></th>\n",
       "      <th>probability</th>\n",
       "    </tr>\n",
       "    <tr>\n",
       "      <th>signals</th>\n",
       "      <th></th>\n",
       "    </tr>\n",
       "  </thead>\n",
       "  <tbody>\n",
       "    <tr>\n",
       "      <th>circle</th>\n",
       "      <td>1.053519e-06</td>\n",
       "    </tr>\n",
       "    <tr>\n",
       "      <th>green</th>\n",
       "      <td>4.615989e-08</td>\n",
       "    </tr>\n",
       "    <tr>\n",
       "      <th>purple</th>\n",
       "      <td>2.260259e-06</td>\n",
       "    </tr>\n",
       "    <tr>\n",
       "      <th>red</th>\n",
       "      <td>1.080112e-05</td>\n",
       "    </tr>\n",
       "    <tr>\n",
       "      <th>square</th>\n",
       "      <td>3.921321e-07</td>\n",
       "    </tr>\n",
       "    <tr>\n",
       "      <th>triangle</th>\n",
       "      <td>1.670118e-05</td>\n",
       "    </tr>\n",
       "    <tr>\n",
       "      <th>green circle</th>\n",
       "      <td>9.999687e-01</td>\n",
       "    </tr>\n",
       "  </tbody>\n",
       "</table>\n",
       "</div>"
      ],
      "text/plain": [
       "               probability\n",
       "signals                   \n",
       "circle        1.053519e-06\n",
       "green         4.615989e-08\n",
       "purple        2.260259e-06\n",
       "red           1.080112e-05\n",
       "square        3.921321e-07\n",
       "triangle      1.670118e-05\n",
       "green circle  9.999687e-01"
      ]
     },
     "execution_count": 10,
     "metadata": {},
     "output_type": "execute_result"
    }
   ],
   "source": [
    "sDict['1']({'intentions': 'green circle'})"
   ]
  },
  {
   "cell_type": "code",
   "execution_count": 11,
   "metadata": {
    "ExecuteTime": {
     "end_time": "2020-07-10T20:10:13.991273Z",
     "start_time": "2020-07-10T20:09:53.935034Z"
    }
   },
   "outputs": [],
   "source": [
    "x  = rDict['2']('circle')"
   ]
  },
  {
   "cell_type": "code",
   "execution_count": null,
   "metadata": {
    "ExecuteTime": {
     "end_time": "2020-07-10T19:37:48.558800Z",
     "start_time": "2020-07-10T19:33:08.714356Z"
    }
   },
   "outputs": [],
   "source": [
    "rDict['2']('circle')"
   ]
  },
  {
   "cell_type": "code",
   "execution_count": 12,
   "metadata": {
    "ExecuteTime": {
     "end_time": "2020-07-10T20:10:46.743959Z",
     "start_time": "2020-07-10T20:10:46.676708Z"
    }
   },
   "outputs": [
    {
     "data": {
      "text/html": [
       "<div>\n",
       "<style scoped>\n",
       "    .dataframe tbody tr th:only-of-type {\n",
       "        vertical-align: middle;\n",
       "    }\n",
       "\n",
       "    .dataframe tbody tr th {\n",
       "        vertical-align: top;\n",
       "    }\n",
       "\n",
       "    .dataframe thead th {\n",
       "        text-align: right;\n",
       "    }\n",
       "</style>\n",
       "<table border=\"1\" class=\"dataframe\">\n",
       "  <thead>\n",
       "    <tr style=\"text-align: right;\">\n",
       "      <th></th>\n",
       "      <th></th>\n",
       "      <th></th>\n",
       "      <th></th>\n",
       "      <th>p(mind|signal)</th>\n",
       "    </tr>\n",
       "    <tr>\n",
       "      <th>intentions</th>\n",
       "      <th>worlds</th>\n",
       "      <th>actions</th>\n",
       "      <th>desires</th>\n",
       "      <th></th>\n",
       "    </tr>\n",
       "  </thead>\n",
       "  <tbody>\n",
       "    <tr>\n",
       "      <th rowspan=\"12\" valign=\"top\">green circle</th>\n",
       "      <th rowspan=\"12\" valign=\"top\">1</th>\n",
       "      <th>((0, 1), (4, 7))</th>\n",
       "      <th>1</th>\n",
       "      <td>0.000000e+00</td>\n",
       "    </tr>\n",
       "    <tr>\n",
       "      <th>((4, 0), (0, 1))</th>\n",
       "      <th>1</th>\n",
       "      <td>1.702023e-03</td>\n",
       "    </tr>\n",
       "    <tr>\n",
       "      <th>((4, 0), (4, 2))</th>\n",
       "      <th>1</th>\n",
       "      <td>7.727174e-08</td>\n",
       "    </tr>\n",
       "    <tr>\n",
       "      <th>((4, 0), (4, 6))</th>\n",
       "      <th>1</th>\n",
       "      <td>0.000000e+00</td>\n",
       "    </tr>\n",
       "    <tr>\n",
       "      <th>((4, 0), (6, 2))</th>\n",
       "      <th>1</th>\n",
       "      <td>0.000000e+00</td>\n",
       "    </tr>\n",
       "    <tr>\n",
       "      <th>((4, 0), (6, 8))</th>\n",
       "      <th>1</th>\n",
       "      <td>0.000000e+00</td>\n",
       "    </tr>\n",
       "    <tr>\n",
       "      <th>((4, 0), (8, 4))</th>\n",
       "      <th>1</th>\n",
       "      <td>0.000000e+00</td>\n",
       "    </tr>\n",
       "    <tr>\n",
       "      <th>((4, 2), (4, 7))</th>\n",
       "      <th>1</th>\n",
       "      <td>0.000000e+00</td>\n",
       "    </tr>\n",
       "    <tr>\n",
       "      <th>((4, 6), (4, 7))</th>\n",
       "      <th>1</th>\n",
       "      <td>0.000000e+00</td>\n",
       "    </tr>\n",
       "    <tr>\n",
       "      <th>((6, 2), (4, 7))</th>\n",
       "      <th>1</th>\n",
       "      <td>0.000000e+00</td>\n",
       "    </tr>\n",
       "    <tr>\n",
       "      <th>((6, 8), (4, 7))</th>\n",
       "      <th>1</th>\n",
       "      <td>0.000000e+00</td>\n",
       "    </tr>\n",
       "    <tr>\n",
       "      <th>((8, 4), (4, 7))</th>\n",
       "      <th>1</th>\n",
       "      <td>0.000000e+00</td>\n",
       "    </tr>\n",
       "    <tr>\n",
       "      <th rowspan=\"12\" valign=\"top\">green square</th>\n",
       "      <th rowspan=\"12\" valign=\"top\">1</th>\n",
       "      <th>((0, 1), (4, 7))</th>\n",
       "      <th>1</th>\n",
       "      <td>0.000000e+00</td>\n",
       "    </tr>\n",
       "    <tr>\n",
       "      <th>((4, 0), (0, 1))</th>\n",
       "      <th>1</th>\n",
       "      <td>0.000000e+00</td>\n",
       "    </tr>\n",
       "    <tr>\n",
       "      <th>((4, 0), (4, 2))</th>\n",
       "      <th>1</th>\n",
       "      <td>0.000000e+00</td>\n",
       "    </tr>\n",
       "    <tr>\n",
       "      <th>((4, 0), (4, 6))</th>\n",
       "      <th>1</th>\n",
       "      <td>0.000000e+00</td>\n",
       "    </tr>\n",
       "    <tr>\n",
       "      <th>((4, 0), (6, 2))</th>\n",
       "      <th>1</th>\n",
       "      <td>0.000000e+00</td>\n",
       "    </tr>\n",
       "    <tr>\n",
       "      <th>((4, 0), (6, 8))</th>\n",
       "      <th>1</th>\n",
       "      <td>0.000000e+00</td>\n",
       "    </tr>\n",
       "    <tr>\n",
       "      <th>((4, 0), (8, 4))</th>\n",
       "      <th>1</th>\n",
       "      <td>0.000000e+00</td>\n",
       "    </tr>\n",
       "    <tr>\n",
       "      <th>((4, 2), (4, 7))</th>\n",
       "      <th>1</th>\n",
       "      <td>0.000000e+00</td>\n",
       "    </tr>\n",
       "    <tr>\n",
       "      <th>((4, 6), (4, 7))</th>\n",
       "      <th>1</th>\n",
       "      <td>0.000000e+00</td>\n",
       "    </tr>\n",
       "    <tr>\n",
       "      <th>((6, 2), (4, 7))</th>\n",
       "      <th>1</th>\n",
       "      <td>0.000000e+00</td>\n",
       "    </tr>\n",
       "    <tr>\n",
       "      <th>((6, 8), (4, 7))</th>\n",
       "      <th>1</th>\n",
       "      <td>0.000000e+00</td>\n",
       "    </tr>\n",
       "    <tr>\n",
       "      <th>((8, 4), (4, 7))</th>\n",
       "      <th>1</th>\n",
       "      <td>0.000000e+00</td>\n",
       "    </tr>\n",
       "    <tr>\n",
       "      <th rowspan=\"6\" valign=\"top\">purple square</th>\n",
       "      <th rowspan=\"6\" valign=\"top\">1</th>\n",
       "      <th>((0, 1), (4, 7))</th>\n",
       "      <th>1</th>\n",
       "      <td>0.000000e+00</td>\n",
       "    </tr>\n",
       "    <tr>\n",
       "      <th>((4, 0), (0, 1))</th>\n",
       "      <th>1</th>\n",
       "      <td>0.000000e+00</td>\n",
       "    </tr>\n",
       "    <tr>\n",
       "      <th>((4, 0), (4, 2))</th>\n",
       "      <th>1</th>\n",
       "      <td>0.000000e+00</td>\n",
       "    </tr>\n",
       "    <tr>\n",
       "      <th>((4, 0), (4, 6))</th>\n",
       "      <th>1</th>\n",
       "      <td>0.000000e+00</td>\n",
       "    </tr>\n",
       "    <tr>\n",
       "      <th>((4, 0), (6, 2))</th>\n",
       "      <th>1</th>\n",
       "      <td>0.000000e+00</td>\n",
       "    </tr>\n",
       "    <tr>\n",
       "      <th>((4, 0), (6, 8))</th>\n",
       "      <th>1</th>\n",
       "      <td>0.000000e+00</td>\n",
       "    </tr>\n",
       "    <tr>\n",
       "      <th>...</th>\n",
       "      <th>...</th>\n",
       "      <th>...</th>\n",
       "      <th>...</th>\n",
       "      <td>...</td>\n",
       "    </tr>\n",
       "    <tr>\n",
       "      <th rowspan=\"6\" valign=\"top\">red circle</th>\n",
       "      <th rowspan=\"6\" valign=\"top\">1</th>\n",
       "      <th>((4, 0), (8, 4))</th>\n",
       "      <th>1</th>\n",
       "      <td>0.000000e+00</td>\n",
       "    </tr>\n",
       "    <tr>\n",
       "      <th>((4, 2), (4, 7))</th>\n",
       "      <th>1</th>\n",
       "      <td>0.000000e+00</td>\n",
       "    </tr>\n",
       "    <tr>\n",
       "      <th>((4, 6), (4, 7))</th>\n",
       "      <th>1</th>\n",
       "      <td>0.000000e+00</td>\n",
       "    </tr>\n",
       "    <tr>\n",
       "      <th>((6, 2), (4, 7))</th>\n",
       "      <th>1</th>\n",
       "      <td>0.000000e+00</td>\n",
       "    </tr>\n",
       "    <tr>\n",
       "      <th>((6, 8), (4, 7))</th>\n",
       "      <th>1</th>\n",
       "      <td>0.000000e+00</td>\n",
       "    </tr>\n",
       "    <tr>\n",
       "      <th>((8, 4), (4, 7))</th>\n",
       "      <th>1</th>\n",
       "      <td>0.000000e+00</td>\n",
       "    </tr>\n",
       "    <tr>\n",
       "      <th rowspan=\"12\" valign=\"top\">red square</th>\n",
       "      <th rowspan=\"12\" valign=\"top\">1</th>\n",
       "      <th>((0, 1), (4, 7))</th>\n",
       "      <th>1</th>\n",
       "      <td>0.000000e+00</td>\n",
       "    </tr>\n",
       "    <tr>\n",
       "      <th>((4, 0), (0, 1))</th>\n",
       "      <th>1</th>\n",
       "      <td>0.000000e+00</td>\n",
       "    </tr>\n",
       "    <tr>\n",
       "      <th>((4, 0), (4, 2))</th>\n",
       "      <th>1</th>\n",
       "      <td>0.000000e+00</td>\n",
       "    </tr>\n",
       "    <tr>\n",
       "      <th>((4, 0), (4, 6))</th>\n",
       "      <th>1</th>\n",
       "      <td>0.000000e+00</td>\n",
       "    </tr>\n",
       "    <tr>\n",
       "      <th>((4, 0), (6, 2))</th>\n",
       "      <th>1</th>\n",
       "      <td>0.000000e+00</td>\n",
       "    </tr>\n",
       "    <tr>\n",
       "      <th>((4, 0), (6, 8))</th>\n",
       "      <th>1</th>\n",
       "      <td>0.000000e+00</td>\n",
       "    </tr>\n",
       "    <tr>\n",
       "      <th>((4, 0), (8, 4))</th>\n",
       "      <th>1</th>\n",
       "      <td>0.000000e+00</td>\n",
       "    </tr>\n",
       "    <tr>\n",
       "      <th>((4, 2), (4, 7))</th>\n",
       "      <th>1</th>\n",
       "      <td>0.000000e+00</td>\n",
       "    </tr>\n",
       "    <tr>\n",
       "      <th>((4, 6), (4, 7))</th>\n",
       "      <th>1</th>\n",
       "      <td>0.000000e+00</td>\n",
       "    </tr>\n",
       "    <tr>\n",
       "      <th>((6, 2), (4, 7))</th>\n",
       "      <th>1</th>\n",
       "      <td>0.000000e+00</td>\n",
       "    </tr>\n",
       "    <tr>\n",
       "      <th>((6, 8), (4, 7))</th>\n",
       "      <th>1</th>\n",
       "      <td>0.000000e+00</td>\n",
       "    </tr>\n",
       "    <tr>\n",
       "      <th>((8, 4), (4, 7))</th>\n",
       "      <th>1</th>\n",
       "      <td>0.000000e+00</td>\n",
       "    </tr>\n",
       "    <tr>\n",
       "      <th rowspan=\"12\" valign=\"top\">red triangle</th>\n",
       "      <th rowspan=\"12\" valign=\"top\">1</th>\n",
       "      <th>((0, 1), (4, 7))</th>\n",
       "      <th>1</th>\n",
       "      <td>0.000000e+00</td>\n",
       "    </tr>\n",
       "    <tr>\n",
       "      <th>((4, 0), (0, 1))</th>\n",
       "      <th>1</th>\n",
       "      <td>0.000000e+00</td>\n",
       "    </tr>\n",
       "    <tr>\n",
       "      <th>((4, 0), (4, 2))</th>\n",
       "      <th>1</th>\n",
       "      <td>0.000000e+00</td>\n",
       "    </tr>\n",
       "    <tr>\n",
       "      <th>((4, 0), (4, 6))</th>\n",
       "      <th>1</th>\n",
       "      <td>0.000000e+00</td>\n",
       "    </tr>\n",
       "    <tr>\n",
       "      <th>((4, 0), (6, 2))</th>\n",
       "      <th>1</th>\n",
       "      <td>0.000000e+00</td>\n",
       "    </tr>\n",
       "    <tr>\n",
       "      <th>((4, 0), (6, 8))</th>\n",
       "      <th>1</th>\n",
       "      <td>0.000000e+00</td>\n",
       "    </tr>\n",
       "    <tr>\n",
       "      <th>((4, 0), (8, 4))</th>\n",
       "      <th>1</th>\n",
       "      <td>0.000000e+00</td>\n",
       "    </tr>\n",
       "    <tr>\n",
       "      <th>((4, 2), (4, 7))</th>\n",
       "      <th>1</th>\n",
       "      <td>0.000000e+00</td>\n",
       "    </tr>\n",
       "    <tr>\n",
       "      <th>((4, 6), (4, 7))</th>\n",
       "      <th>1</th>\n",
       "      <td>0.000000e+00</td>\n",
       "    </tr>\n",
       "    <tr>\n",
       "      <th>((6, 2), (4, 7))</th>\n",
       "      <th>1</th>\n",
       "      <td>0.000000e+00</td>\n",
       "    </tr>\n",
       "    <tr>\n",
       "      <th>((6, 8), (4, 7))</th>\n",
       "      <th>1</th>\n",
       "      <td>0.000000e+00</td>\n",
       "    </tr>\n",
       "    <tr>\n",
       "      <th>((8, 4), (4, 7))</th>\n",
       "      <th>1</th>\n",
       "      <td>0.000000e+00</td>\n",
       "    </tr>\n",
       "  </tbody>\n",
       "</table>\n",
       "<p>72 rows × 1 columns</p>\n",
       "</div>"
      ],
      "text/plain": [
       "                                               p(mind|signal)\n",
       "intentions    worlds actions          desires                \n",
       "green circle  1      ((0, 1), (4, 7)) 1          0.000000e+00\n",
       "                     ((4, 0), (0, 1)) 1          1.702023e-03\n",
       "                     ((4, 0), (4, 2)) 1          7.727174e-08\n",
       "                     ((4, 0), (4, 6)) 1          0.000000e+00\n",
       "                     ((4, 0), (6, 2)) 1          0.000000e+00\n",
       "                     ((4, 0), (6, 8)) 1          0.000000e+00\n",
       "                     ((4, 0), (8, 4)) 1          0.000000e+00\n",
       "                     ((4, 2), (4, 7)) 1          0.000000e+00\n",
       "                     ((4, 6), (4, 7)) 1          0.000000e+00\n",
       "                     ((6, 2), (4, 7)) 1          0.000000e+00\n",
       "                     ((6, 8), (4, 7)) 1          0.000000e+00\n",
       "                     ((8, 4), (4, 7)) 1          0.000000e+00\n",
       "green square  1      ((0, 1), (4, 7)) 1          0.000000e+00\n",
       "                     ((4, 0), (0, 1)) 1          0.000000e+00\n",
       "                     ((4, 0), (4, 2)) 1          0.000000e+00\n",
       "                     ((4, 0), (4, 6)) 1          0.000000e+00\n",
       "                     ((4, 0), (6, 2)) 1          0.000000e+00\n",
       "                     ((4, 0), (6, 8)) 1          0.000000e+00\n",
       "                     ((4, 0), (8, 4)) 1          0.000000e+00\n",
       "                     ((4, 2), (4, 7)) 1          0.000000e+00\n",
       "                     ((4, 6), (4, 7)) 1          0.000000e+00\n",
       "                     ((6, 2), (4, 7)) 1          0.000000e+00\n",
       "                     ((6, 8), (4, 7)) 1          0.000000e+00\n",
       "                     ((8, 4), (4, 7)) 1          0.000000e+00\n",
       "purple square 1      ((0, 1), (4, 7)) 1          0.000000e+00\n",
       "                     ((4, 0), (0, 1)) 1          0.000000e+00\n",
       "                     ((4, 0), (4, 2)) 1          0.000000e+00\n",
       "                     ((4, 0), (4, 6)) 1          0.000000e+00\n",
       "                     ((4, 0), (6, 2)) 1          0.000000e+00\n",
       "                     ((4, 0), (6, 8)) 1          0.000000e+00\n",
       "...                                                       ...\n",
       "red circle    1      ((4, 0), (8, 4)) 1          0.000000e+00\n",
       "                     ((4, 2), (4, 7)) 1          0.000000e+00\n",
       "                     ((4, 6), (4, 7)) 1          0.000000e+00\n",
       "                     ((6, 2), (4, 7)) 1          0.000000e+00\n",
       "                     ((6, 8), (4, 7)) 1          0.000000e+00\n",
       "                     ((8, 4), (4, 7)) 1          0.000000e+00\n",
       "red square    1      ((0, 1), (4, 7)) 1          0.000000e+00\n",
       "                     ((4, 0), (0, 1)) 1          0.000000e+00\n",
       "                     ((4, 0), (4, 2)) 1          0.000000e+00\n",
       "                     ((4, 0), (4, 6)) 1          0.000000e+00\n",
       "                     ((4, 0), (6, 2)) 1          0.000000e+00\n",
       "                     ((4, 0), (6, 8)) 1          0.000000e+00\n",
       "                     ((4, 0), (8, 4)) 1          0.000000e+00\n",
       "                     ((4, 2), (4, 7)) 1          0.000000e+00\n",
       "                     ((4, 6), (4, 7)) 1          0.000000e+00\n",
       "                     ((6, 2), (4, 7)) 1          0.000000e+00\n",
       "                     ((6, 8), (4, 7)) 1          0.000000e+00\n",
       "                     ((8, 4), (4, 7)) 1          0.000000e+00\n",
       "red triangle  1      ((0, 1), (4, 7)) 1          0.000000e+00\n",
       "                     ((4, 0), (0, 1)) 1          0.000000e+00\n",
       "                     ((4, 0), (4, 2)) 1          0.000000e+00\n",
       "                     ((4, 0), (4, 6)) 1          0.000000e+00\n",
       "                     ((4, 0), (6, 2)) 1          0.000000e+00\n",
       "                     ((4, 0), (6, 8)) 1          0.000000e+00\n",
       "                     ((4, 0), (8, 4)) 1          0.000000e+00\n",
       "                     ((4, 2), (4, 7)) 1          0.000000e+00\n",
       "                     ((4, 6), (4, 7)) 1          0.000000e+00\n",
       "                     ((6, 2), (4, 7)) 1          0.000000e+00\n",
       "                     ((6, 8), (4, 7)) 1          0.000000e+00\n",
       "                     ((8, 4), (4, 7)) 1          0.000000e+00\n",
       "\n",
       "[72 rows x 1 columns]"
      ]
     },
     "execution_count": 12,
     "metadata": {},
     "output_type": "execute_result"
    }
   ],
   "source": [
    "x"
   ]
  },
  {
   "cell_type": "markdown",
   "metadata": {},
   "source": [
    "### Setup 3: RSA Reasoning is not enough\n",
    "- RSA cannot solve but joint utility calculus can\n",
    "- true target is the green circle"
   ]
  },
  {
   "cell_type": "code",
   "execution_count": null,
   "metadata": {
    "ExecuteTime": {
     "end_time": "2020-07-09T23:04:35.553162Z",
     "start_time": "2020-07-09T23:04:35.309273Z"
    }
   },
   "outputs": [],
   "source": [
    "visualizeExperimentTrial(gridDims, s, r, signalSpace_GC, targetDict_GcGtPc)"
   ]
  },
  {
   "cell_type": "code",
   "execution_count": null,
   "metadata": {
    "ExecuteTime": {
     "end_time": "2020-07-09T18:42:01.687682Z",
     "start_time": "2020-07-09T18:42:01.542445Z"
    },
    "scrolled": true
   },
   "outputs": [],
   "source": [
    "setup3Sig = signaler3({'intentions':'green circle'})\n",
    "setup3Sig"
   ]
  },
  {
   "cell_type": "code",
   "execution_count": null,
   "metadata": {
    "ExecuteTime": {
     "end_time": "2020-07-09T22:02:36.512272Z",
     "start_time": "2020-07-09T22:02:36.388242Z"
    }
   },
   "outputs": [],
   "source": [
    "s1({'intentions':'green circle'})"
   ]
  },
  {
   "cell_type": "code",
   "execution_count": null,
   "metadata": {
    "ExecuteTime": {
     "end_time": "2020-07-09T22:02:37.442867Z",
     "start_time": "2020-07-09T22:02:37.331234Z"
    }
   },
   "outputs": [],
   "source": [
    "s1Acting({'intentions':'green circle'})"
   ]
  },
  {
   "cell_type": "code",
   "execution_count": null,
   "metadata": {},
   "outputs": [],
   "source": [
    "# Receiver"
   ]
  },
  {
   "cell_type": "code",
   "execution_count": null,
   "metadata": {
    "ExecuteTime": {
     "end_time": "2020-07-09T18:42:09.835571Z",
     "start_time": "2020-07-09T18:42:09.774104Z"
    }
   },
   "outputs": [],
   "source": [
    "rec3 = receiver3('green')\n",
    "rec3.loc[rec3['p(mind|signal)'] > .001]"
   ]
  },
  {
   "cell_type": "code",
   "execution_count": null,
   "metadata": {
    "ExecuteTime": {
     "end_time": "2020-07-09T18:42:12.945555Z",
     "start_time": "2020-07-09T18:42:12.641860Z"
    }
   },
   "outputs": [],
   "source": [
    "prec3 = pragReceiver3('green')\n",
    "prec3.loc[prec3['p(mind|signal)'] > .001]"
   ]
  },
  {
   "cell_type": "code",
   "execution_count": null,
   "metadata": {},
   "outputs": [],
   "source": []
  },
  {
   "cell_type": "code",
   "execution_count": null,
   "metadata": {},
   "outputs": [],
   "source": []
  },
  {
   "cell_type": "code",
   "execution_count": null,
   "metadata": {
    "ExecuteTime": {
     "end_time": "2020-07-09T18:48:28.775173Z",
     "start_time": "2020-07-09T18:48:28.762100Z"
    }
   },
   "outputs": [],
   "source": [
    "getJointUtil = JointActionUtility(costFunction = calculateLocationCost_TaxicabMetric, \n",
    "            valueOfReward = reward, \n",
    "            signalerLocation=s, \n",
    "            receiverLocation=r, \n",
    "            targetDictionary= targetDict_GcGtPc)\n",
    "getS2 = SignalerOne(alpha=rationality, signalSpace=signalSpace_GC, getActionUtility=getJointUtil, getReceiverZero=pragReceiver3, getSignalCost=None)\n",
    "\n",
    "getS2_Actions = AddDoYourselfSignalerUtility(getSignalerUtility = getS2,\n",
    "                                                                    alpha=rationality, \n",
    "                                                                    rewardValue=reward, \n",
    "                                                                    signalerPosition = s, \n",
    "                                                                    targetDictionary=targetDict_GcGtPc)"
   ]
  },
  {
   "cell_type": "code",
   "execution_count": null,
   "metadata": {
    "ExecuteTime": {
     "end_time": "2020-07-09T18:46:44.943155Z",
     "start_time": "2020-07-09T18:46:44.359727Z"
    }
   },
   "outputs": [],
   "source": [
    "getS2({'intentions':'green circle'})"
   ]
  },
  {
   "cell_type": "code",
   "execution_count": null,
   "metadata": {
    "ExecuteTime": {
     "end_time": "2020-07-09T18:48:40.229212Z",
     "start_time": "2020-07-09T18:48:39.637739Z"
    }
   },
   "outputs": [],
   "source": [
    "getS2_Actions({'intentions':'green circle'})"
   ]
  },
  {
   "cell_type": "code",
   "execution_count": null,
   "metadata": {},
   "outputs": [],
   "source": [
    "\n",
    "getR2 = ReceiverOne(commonGroundDictionary=mindCondition, \n",
    "                    constructMind=getMind, \n",
    "                    getSignalerZero=getSignalerOne, \n",
    "                    signalIsConsistent =getSignalConsistency)"
   ]
  },
  {
   "cell_type": "code",
   "execution_count": null,
   "metadata": {},
   "outputs": [],
   "source": []
  },
  {
   "cell_type": "code",
   "execution_count": null,
   "metadata": {},
   "outputs": [],
   "source": []
  },
  {
   "cell_type": "code",
   "execution_count": null,
   "metadata": {},
   "outputs": [],
   "source": []
  },
  {
   "cell_type": "code",
   "execution_count": null,
   "metadata": {
    "ExecuteTime": {
     "end_time": "2020-06-03T19:03:40.902234Z",
     "start_time": "2020-06-03T19:03:40.830146Z"
    }
   },
   "outputs": [],
   "source": [
    "plotSignalerActionDistribution(setup3Sig)"
   ]
  },
  {
   "cell_type": "code",
   "execution_count": null,
   "metadata": {
    "ExecuteTime": {
     "end_time": "2020-06-03T19:03:42.515652Z",
     "start_time": "2020-06-03T19:03:42.339421Z"
    }
   },
   "outputs": [],
   "source": [
    "plotReceiverActionDistributions(naiveReceiverDataframe=rec3, \n",
    "                               pragmaticReceiverDataframe=prec3,\n",
    "                               locationDictionary=targetDict_GcGtPc,\n",
    "                               receiverLocInaction=r, signal='green')"
   ]
  },
  {
   "cell_type": "markdown",
   "metadata": {},
   "source": [
    "### Setup 4: Neither mechanism alone is enough\n",
    "- Only IW can solve because it requires both utlity reasoning and pragmatics to solve\n",
    "- true target is the purple circle"
   ]
  },
  {
   "cell_type": "code",
   "execution_count": null,
   "metadata": {
    "ExecuteTime": {
     "end_time": "2020-06-03T19:03:45.343478Z",
     "start_time": "2020-06-03T19:03:45.148394Z"
    }
   },
   "outputs": [],
   "source": [
    "visualizeExperimentTrial(gridDims, s, r, signalSpace_PT, targetDict_PcGtPtGc) "
   ]
  },
  {
   "cell_type": "code",
   "execution_count": null,
   "metadata": {
    "ExecuteTime": {
     "end_time": "2020-06-03T19:03:46.900340Z",
     "start_time": "2020-06-03T19:03:46.773623Z"
    }
   },
   "outputs": [],
   "source": [
    "setup4Sig = signaler4({'intentions':'purple circle'})\n",
    "setup4Sig"
   ]
  },
  {
   "cell_type": "code",
   "execution_count": null,
   "metadata": {
    "ExecuteTime": {
     "end_time": "2020-06-03T19:03:53.476831Z",
     "start_time": "2020-06-03T19:03:53.413684Z"
    }
   },
   "outputs": [],
   "source": [
    "rec4 = receiver4('purple')\n",
    "rec4.loc[rec4['p(mind|signal)'] > .001]"
   ]
  },
  {
   "cell_type": "code",
   "execution_count": null,
   "metadata": {
    "ExecuteTime": {
     "end_time": "2020-06-03T19:03:57.706239Z",
     "start_time": "2020-06-03T19:03:57.227517Z"
    },
    "scrolled": true
   },
   "outputs": [],
   "source": [
    "prec4 = pragReceiver4('purple')\n",
    "prec4.loc[prec4['p(mind|signal)'] > .001]"
   ]
  },
  {
   "cell_type": "code",
   "execution_count": null,
   "metadata": {
    "ExecuteTime": {
     "end_time": "2020-06-03T19:03:59.269368Z",
     "start_time": "2020-06-03T19:03:59.197010Z"
    }
   },
   "outputs": [],
   "source": [
    "plotSignalerActionDistribution(setup4Sig)"
   ]
  },
  {
   "cell_type": "code",
   "execution_count": null,
   "metadata": {
    "ExecuteTime": {
     "end_time": "2020-06-03T19:04:01.327173Z",
     "start_time": "2020-06-03T19:04:01.115298Z"
    }
   },
   "outputs": [],
   "source": [
    "plotReceiverActionDistributions(naiveReceiverDataframe=rec4, \n",
    "                               pragmaticReceiverDataframe=prec4,\n",
    "                               locationDictionary=targetDict_PcGtPtGc,\n",
    "                               receiverLocInaction=r, signal='purple')\n"
   ]
  }
 ],
 "metadata": {
  "kernelspec": {
   "display_name": "Python 3",
   "language": "python",
   "name": "python3"
  },
  "language_info": {
   "codemirror_mode": {
    "name": "ipython",
    "version": 3
   },
   "file_extension": ".py",
   "mimetype": "text/x-python",
   "name": "python",
   "nbconvert_exporter": "python",
   "pygments_lexer": "ipython3",
   "version": "3.5.6"
  },
  "toc": {
   "base_numbering": 1,
   "nav_menu": {},
   "number_sections": true,
   "sideBar": true,
   "skip_h1_title": false,
   "title_cell": "Table of Contents",
   "title_sidebar": "Contents",
   "toc_cell": false,
   "toc_position": {},
   "toc_section_display": true,
   "toc_window_display": false
  }
 },
 "nbformat": 4,
 "nbformat_minor": 2
}
