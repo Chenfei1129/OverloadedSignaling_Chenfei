{
 "cells": [
  {
   "cell_type": "code",
   "execution_count": 1,
   "metadata": {
    "ExecuteTime": {
     "end_time": "2019-11-01T18:04:11.826727Z",
     "start_time": "2019-11-01T18:04:11.635215Z"
    },
    "scrolled": true
   },
   "outputs": [],
   "source": [
    "import sys\n",
    "import pandas as pd\n",
    "sys.path.append('../src/')\n",
    "sys.path.append('../envs/misyak/')\n",
    "from GenerativeSignaler import SignalerZero\n",
    "from consistentSignalChecks_Misyak import signalIsConsistent_Boxes\n",
    "from OverloadedReceiver import ReceiverZero\n",
    "from OverloadedSignaler import SignalerOne\n",
    "\n",
    "from misyakConstruction import *\n",
    "from mindConstruction import *"
   ]
  },
  {
   "cell_type": "markdown",
   "metadata": {},
   "source": [
    "### Setup Parameters"
   ]
  },
  {
   "cell_type": "code",
   "execution_count": 2,
   "metadata": {
    "ExecuteTime": {
     "end_time": "2019-11-01T18:04:11.832770Z",
     "start_time": "2019-11-01T18:04:11.828180Z"
    },
    "scrolled": true
   },
   "outputs": [],
   "source": [
    "#world spaces\n",
    "twoRewardWorldSpace = getWorldSpace(wall = False, nBoxes = 3, nRewards = 2)\n",
    "oneRewardWorldSpace = getWorldSpace(wall = False, nBoxes = 3, nRewards = 1)\n",
    "\n",
    "#action spaces\n",
    "oneAxeActionSpace = getActionSpace(nBoxes = 3, nReceiverChoices = 1)\n",
    "twoAxeActionSpace = getActionSpace(nBoxes = 3, nReceiverChoices = 2)\n",
    "\n",
    "#signal spaces\n",
    "oneTokenSignalSpace = getSignalSpace(nBoxes=3, nSignals = 1)\n",
    "twoTokenSignalSpace = getSignalSpace(nBoxes=3, nSignals = 2)\n",
    "\n",
    "#condition common ground spaces\n",
    "twoTokenCondition = {'worlds': twoRewardWorldSpace, 'desires': [1], 'goals': [1], 'actions': twoAxeActionSpace}\n",
    "oneTokenCondition = {'worlds': oneRewardWorldSpace, 'desires': [1], 'goals': [1], 'actions': oneAxeActionSpace}\n",
    "\n",
    "#Two Box condition\n",
    "oneRewardWorldSpace2Box = getWorldSpace(wall = False, nBoxes = 2, nRewards = 1)\n",
    "oneAxeActionSpace2Box = getActionSpace(nBoxes = 2, nReceiverChoices = 1) #oneAxeActionSpace.remove((0,0,0))\n",
    "oneTokenSignalSpace2Box = getSignalSpace(nBoxes=2, nSignals = 1) #oneTokenSignalSpace.remove((0,0,0))\n",
    "\n",
    "twoBoxCondition = {'worlds': oneRewardWorldSpace2Box, 'desires': [1], 'goals': [1], 'actions': oneAxeActionSpace2Box}"
   ]
  },
  {
   "cell_type": "markdown",
   "metadata": {},
   "source": [
    "# Signaling Distributions"
   ]
  },
  {
   "cell_type": "code",
   "execution_count": 3,
   "metadata": {
    "ExecuteTime": {
     "end_time": "2019-11-01T18:04:11.837816Z",
     "start_time": "2019-11-01T18:04:11.834467Z"
    }
   },
   "outputs": [],
   "source": [
    "#parameters consistent across conditions\n",
    "a = 4\n",
    "signalCategoryPrior = {'1':.57, '-1':.43}\n",
    "getActionUtility = ActionUtility(costOfLocation=0,\n",
    "                                 costOfNonReward=0,\n",
    "                                 valueOfReward=10)\n",
    "getActionDistribution = ActionDistributionGivenWorldGoal(a, getActionUtility, False)\n",
    "getMind = GenerateMind(getWorldProbabiltiy_Uniform, getDesireProbability_Uniform, getGoalGivenWorldAndDesire_Uniform, getActionDistribution)"
   ]
  },
  {
   "cell_type": "markdown",
   "metadata": {},
   "source": [
    "## Signaling Costs"
   ]
  },
  {
   "cell_type": "code",
   "execution_count": 4,
   "metadata": {
    "ExecuteTime": {
     "end_time": "2019-11-01T18:04:11.841401Z",
     "start_time": "2019-11-01T18:04:11.839301Z"
    }
   },
   "outputs": [],
   "source": [
    "signalCost = 3\n",
    "getSignalCost = SignalCost_Misyak(signalCost)"
   ]
  },
  {
   "cell_type": "markdown",
   "metadata": {},
   "source": [
    "# One Token Condition"
   ]
  },
  {
   "cell_type": "code",
   "execution_count": 5,
   "metadata": {
    "ExecuteTime": {
     "end_time": "2019-11-01T18:04:12.084312Z",
     "start_time": "2019-11-01T18:04:11.842906Z"
    }
   },
   "outputs": [],
   "source": [
    "getGenerativeSignaler_1Token = SignalerZero(oneTokenSignalSpace, signalIsConsistent_Boxes, getSignalCost)\n",
    "getReceiverZero_1Token = ReceiverZero(commonGroundDictionary=oneTokenCondition, constructMind=getMind, getSignalerZero=getGenerativeSignaler_1Token, signalCategoryPrior=signalCategoryPrior)\n",
    "getSignalerOne_1Token = SignalerOne(alpha=a, signalSpace =oneTokenSignalSpace,  getActionUtility=getActionUtility, getReceiverZero=getReceiverZero_1Token, getSignalCost=getSignalCost)"
   ]
  },
  {
   "cell_type": "code",
   "execution_count": 6,
   "metadata": {
    "ExecuteTime": {
     "end_time": "2019-11-01T18:04:12.408022Z",
     "start_time": "2019-11-01T18:04:12.085600Z"
    },
    "scrolled": true
   },
   "outputs": [
    {
     "data": {
      "text/html": [
       "<div>\n",
       "<style scoped>\n",
       "    .dataframe tbody tr th:only-of-type {\n",
       "        vertical-align: middle;\n",
       "    }\n",
       "\n",
       "    .dataframe tbody tr th {\n",
       "        vertical-align: top;\n",
       "    }\n",
       "\n",
       "    .dataframe thead th {\n",
       "        text-align: right;\n",
       "    }\n",
       "</style>\n",
       "<table border=\"1\" class=\"dataframe\">\n",
       "  <thead>\n",
       "    <tr style=\"text-align: right;\">\n",
       "      <th></th>\n",
       "      <th>probabilities</th>\n",
       "    </tr>\n",
       "    <tr>\n",
       "      <th>signals</th>\n",
       "      <th></th>\n",
       "    </tr>\n",
       "  </thead>\n",
       "  <tbody>\n",
       "    <tr>\n",
       "      <th>(1, 0, 0)</th>\n",
       "      <td>4.533836e-03</td>\n",
       "    </tr>\n",
       "    <tr>\n",
       "      <th>(0, 1, 0)</th>\n",
       "      <td>2.246497e-07</td>\n",
       "    </tr>\n",
       "    <tr>\n",
       "      <th>(0, 0, 1)</th>\n",
       "      <td>2.246497e-07</td>\n",
       "    </tr>\n",
       "    <tr>\n",
       "      <th>(0, 0, 0)</th>\n",
       "      <td>9.954657e-01</td>\n",
       "    </tr>\n",
       "  </tbody>\n",
       "</table>\n",
       "</div>"
      ],
      "text/plain": [
       "           probabilities\n",
       "signals                 \n",
       "(1, 0, 0)   4.533836e-03\n",
       "(0, 1, 0)   2.246497e-07\n",
       "(0, 0, 1)   2.246497e-07\n",
       "(0, 0, 0)   9.954657e-01"
      ]
     },
     "execution_count": 6,
     "metadata": {},
     "output_type": "execute_result"
    }
   ],
   "source": [
    "observedWorld = {'worlds':(1,0,0)}\n",
    "getSignalerOne_1Token(observedWorld)"
   ]
  },
  {
   "cell_type": "code",
   "execution_count": 7,
   "metadata": {
    "ExecuteTime": {
     "end_time": "2019-11-01T18:04:12.697585Z",
     "start_time": "2019-11-01T18:04:12.410895Z"
    }
   },
   "outputs": [
    {
     "data": {
      "text/html": [
       "<div>\n",
       "<style scoped>\n",
       "    .dataframe tbody tr th:only-of-type {\n",
       "        vertical-align: middle;\n",
       "    }\n",
       "\n",
       "    .dataframe tbody tr th {\n",
       "        vertical-align: top;\n",
       "    }\n",
       "\n",
       "    .dataframe thead th {\n",
       "        text-align: right;\n",
       "    }\n",
       "</style>\n",
       "<table border=\"1\" class=\"dataframe\">\n",
       "  <thead>\n",
       "    <tr style=\"text-align: right;\">\n",
       "      <th></th>\n",
       "      <th></th>\n",
       "      <th></th>\n",
       "      <th></th>\n",
       "      <th></th>\n",
       "      <th>p(signal|mind,c)</th>\n",
       "    </tr>\n",
       "    <tr>\n",
       "      <th>worlds</th>\n",
       "      <th>desires</th>\n",
       "      <th>goals</th>\n",
       "      <th>actions</th>\n",
       "      <th>signals</th>\n",
       "      <th></th>\n",
       "    </tr>\n",
       "  </thead>\n",
       "  <tbody>\n",
       "    <tr>\n",
       "      <th rowspan=\"16\" valign=\"top\">(0, 0, 1)</th>\n",
       "      <th rowspan=\"16\" valign=\"top\">1</th>\n",
       "      <th rowspan=\"16\" valign=\"top\">1</th>\n",
       "      <th rowspan=\"4\" valign=\"top\">(0, 0, 0)</th>\n",
       "      <th>(1, 0, 0)</th>\n",
       "      <td>0.00000</td>\n",
       "    </tr>\n",
       "    <tr>\n",
       "      <th>(0, 1, 0)</th>\n",
       "      <td>0.00000</td>\n",
       "    </tr>\n",
       "    <tr>\n",
       "      <th>(0, 0, 1)</th>\n",
       "      <td>0.11875</td>\n",
       "    </tr>\n",
       "    <tr>\n",
       "      <th>(0, 0, 0)</th>\n",
       "      <td>0.13125</td>\n",
       "    </tr>\n",
       "    <tr>\n",
       "      <th rowspan=\"4\" valign=\"top\">(0, 0, 1)</th>\n",
       "      <th>(1, 0, 0)</th>\n",
       "      <td>0.00000</td>\n",
       "    </tr>\n",
       "    <tr>\n",
       "      <th>(0, 1, 0)</th>\n",
       "      <td>0.00000</td>\n",
       "    </tr>\n",
       "    <tr>\n",
       "      <th>(0, 0, 1)</th>\n",
       "      <td>0.11875</td>\n",
       "    </tr>\n",
       "    <tr>\n",
       "      <th>(0, 0, 0)</th>\n",
       "      <td>0.13125</td>\n",
       "    </tr>\n",
       "    <tr>\n",
       "      <th rowspan=\"4\" valign=\"top\">(0, 1, 0)</th>\n",
       "      <th>(1, 0, 0)</th>\n",
       "      <td>0.00000</td>\n",
       "    </tr>\n",
       "    <tr>\n",
       "      <th>(0, 1, 0)</th>\n",
       "      <td>0.00000</td>\n",
       "    </tr>\n",
       "    <tr>\n",
       "      <th>(0, 0, 1)</th>\n",
       "      <td>0.11875</td>\n",
       "    </tr>\n",
       "    <tr>\n",
       "      <th>(0, 0, 0)</th>\n",
       "      <td>0.13125</td>\n",
       "    </tr>\n",
       "    <tr>\n",
       "      <th rowspan=\"4\" valign=\"top\">(1, 0, 0)</th>\n",
       "      <th>(1, 0, 0)</th>\n",
       "      <td>0.00000</td>\n",
       "    </tr>\n",
       "    <tr>\n",
       "      <th>(0, 1, 0)</th>\n",
       "      <td>0.00000</td>\n",
       "    </tr>\n",
       "    <tr>\n",
       "      <th>(0, 0, 1)</th>\n",
       "      <td>0.11875</td>\n",
       "    </tr>\n",
       "    <tr>\n",
       "      <th>(0, 0, 0)</th>\n",
       "      <td>0.13125</td>\n",
       "    </tr>\n",
       "    <tr>\n",
       "      <th rowspan=\"16\" valign=\"top\">(0, 1, 0)</th>\n",
       "      <th rowspan=\"16\" valign=\"top\">1</th>\n",
       "      <th rowspan=\"16\" valign=\"top\">1</th>\n",
       "      <th rowspan=\"4\" valign=\"top\">(0, 0, 0)</th>\n",
       "      <th>(1, 0, 0)</th>\n",
       "      <td>0.00000</td>\n",
       "    </tr>\n",
       "    <tr>\n",
       "      <th>(0, 1, 0)</th>\n",
       "      <td>0.11875</td>\n",
       "    </tr>\n",
       "    <tr>\n",
       "      <th>(0, 0, 1)</th>\n",
       "      <td>0.00000</td>\n",
       "    </tr>\n",
       "    <tr>\n",
       "      <th>(0, 0, 0)</th>\n",
       "      <td>0.13125</td>\n",
       "    </tr>\n",
       "    <tr>\n",
       "      <th rowspan=\"4\" valign=\"top\">(0, 0, 1)</th>\n",
       "      <th>(1, 0, 0)</th>\n",
       "      <td>0.00000</td>\n",
       "    </tr>\n",
       "    <tr>\n",
       "      <th>(0, 1, 0)</th>\n",
       "      <td>0.11875</td>\n",
       "    </tr>\n",
       "    <tr>\n",
       "      <th>(0, 0, 1)</th>\n",
       "      <td>0.00000</td>\n",
       "    </tr>\n",
       "    <tr>\n",
       "      <th>(0, 0, 0)</th>\n",
       "      <td>0.13125</td>\n",
       "    </tr>\n",
       "    <tr>\n",
       "      <th rowspan=\"4\" valign=\"top\">(0, 1, 0)</th>\n",
       "      <th>(1, 0, 0)</th>\n",
       "      <td>0.00000</td>\n",
       "    </tr>\n",
       "    <tr>\n",
       "      <th>(0, 1, 0)</th>\n",
       "      <td>0.11875</td>\n",
       "    </tr>\n",
       "    <tr>\n",
       "      <th>(0, 0, 1)</th>\n",
       "      <td>0.00000</td>\n",
       "    </tr>\n",
       "    <tr>\n",
       "      <th>(0, 0, 0)</th>\n",
       "      <td>0.13125</td>\n",
       "    </tr>\n",
       "    <tr>\n",
       "      <th rowspan=\"4\" valign=\"top\">(1, 0, 0)</th>\n",
       "      <th>(1, 0, 0)</th>\n",
       "      <td>0.00000</td>\n",
       "    </tr>\n",
       "    <tr>\n",
       "      <th>(0, 1, 0)</th>\n",
       "      <td>0.11875</td>\n",
       "    </tr>\n",
       "    <tr>\n",
       "      <th>(0, 0, 1)</th>\n",
       "      <td>0.00000</td>\n",
       "    </tr>\n",
       "    <tr>\n",
       "      <th>(0, 0, 0)</th>\n",
       "      <td>0.13125</td>\n",
       "    </tr>\n",
       "    <tr>\n",
       "      <th rowspan=\"16\" valign=\"top\">(1, 0, 0)</th>\n",
       "      <th rowspan=\"16\" valign=\"top\">1</th>\n",
       "      <th rowspan=\"16\" valign=\"top\">1</th>\n",
       "      <th rowspan=\"4\" valign=\"top\">(0, 0, 0)</th>\n",
       "      <th>(1, 0, 0)</th>\n",
       "      <td>0.11875</td>\n",
       "    </tr>\n",
       "    <tr>\n",
       "      <th>(0, 1, 0)</th>\n",
       "      <td>0.00000</td>\n",
       "    </tr>\n",
       "    <tr>\n",
       "      <th>(0, 0, 1)</th>\n",
       "      <td>0.00000</td>\n",
       "    </tr>\n",
       "    <tr>\n",
       "      <th>(0, 0, 0)</th>\n",
       "      <td>0.13125</td>\n",
       "    </tr>\n",
       "    <tr>\n",
       "      <th rowspan=\"4\" valign=\"top\">(0, 0, 1)</th>\n",
       "      <th>(1, 0, 0)</th>\n",
       "      <td>0.11875</td>\n",
       "    </tr>\n",
       "    <tr>\n",
       "      <th>(0, 1, 0)</th>\n",
       "      <td>0.00000</td>\n",
       "    </tr>\n",
       "    <tr>\n",
       "      <th>(0, 0, 1)</th>\n",
       "      <td>0.00000</td>\n",
       "    </tr>\n",
       "    <tr>\n",
       "      <th>(0, 0, 0)</th>\n",
       "      <td>0.13125</td>\n",
       "    </tr>\n",
       "    <tr>\n",
       "      <th rowspan=\"4\" valign=\"top\">(0, 1, 0)</th>\n",
       "      <th>(1, 0, 0)</th>\n",
       "      <td>0.11875</td>\n",
       "    </tr>\n",
       "    <tr>\n",
       "      <th>(0, 1, 0)</th>\n",
       "      <td>0.00000</td>\n",
       "    </tr>\n",
       "    <tr>\n",
       "      <th>(0, 0, 1)</th>\n",
       "      <td>0.00000</td>\n",
       "    </tr>\n",
       "    <tr>\n",
       "      <th>(0, 0, 0)</th>\n",
       "      <td>0.13125</td>\n",
       "    </tr>\n",
       "    <tr>\n",
       "      <th rowspan=\"4\" valign=\"top\">(1, 0, 0)</th>\n",
       "      <th>(1, 0, 0)</th>\n",
       "      <td>0.11875</td>\n",
       "    </tr>\n",
       "    <tr>\n",
       "      <th>(0, 1, 0)</th>\n",
       "      <td>0.00000</td>\n",
       "    </tr>\n",
       "    <tr>\n",
       "      <th>(0, 0, 1)</th>\n",
       "      <td>0.00000</td>\n",
       "    </tr>\n",
       "    <tr>\n",
       "      <th>(0, 0, 0)</th>\n",
       "      <td>0.13125</td>\n",
       "    </tr>\n",
       "  </tbody>\n",
       "</table>\n",
       "</div>"
      ],
      "text/plain": [
       "                                             p(signal|mind,c)\n",
       "worlds    desires goals actions   signals                    \n",
       "(0, 0, 1) 1       1     (0, 0, 0) (1, 0, 0)           0.00000\n",
       "                                  (0, 1, 0)           0.00000\n",
       "                                  (0, 0, 1)           0.11875\n",
       "                                  (0, 0, 0)           0.13125\n",
       "                        (0, 0, 1) (1, 0, 0)           0.00000\n",
       "                                  (0, 1, 0)           0.00000\n",
       "                                  (0, 0, 1)           0.11875\n",
       "                                  (0, 0, 0)           0.13125\n",
       "                        (0, 1, 0) (1, 0, 0)           0.00000\n",
       "                                  (0, 1, 0)           0.00000\n",
       "                                  (0, 0, 1)           0.11875\n",
       "                                  (0, 0, 0)           0.13125\n",
       "                        (1, 0, 0) (1, 0, 0)           0.00000\n",
       "                                  (0, 1, 0)           0.00000\n",
       "                                  (0, 0, 1)           0.11875\n",
       "                                  (0, 0, 0)           0.13125\n",
       "(0, 1, 0) 1       1     (0, 0, 0) (1, 0, 0)           0.00000\n",
       "                                  (0, 1, 0)           0.11875\n",
       "                                  (0, 0, 1)           0.00000\n",
       "                                  (0, 0, 0)           0.13125\n",
       "                        (0, 0, 1) (1, 0, 0)           0.00000\n",
       "                                  (0, 1, 0)           0.11875\n",
       "                                  (0, 0, 1)           0.00000\n",
       "                                  (0, 0, 0)           0.13125\n",
       "                        (0, 1, 0) (1, 0, 0)           0.00000\n",
       "                                  (0, 1, 0)           0.11875\n",
       "                                  (0, 0, 1)           0.00000\n",
       "                                  (0, 0, 0)           0.13125\n",
       "                        (1, 0, 0) (1, 0, 0)           0.00000\n",
       "                                  (0, 1, 0)           0.11875\n",
       "                                  (0, 0, 1)           0.00000\n",
       "                                  (0, 0, 0)           0.13125\n",
       "(1, 0, 0) 1       1     (0, 0, 0) (1, 0, 0)           0.11875\n",
       "                                  (0, 1, 0)           0.00000\n",
       "                                  (0, 0, 1)           0.00000\n",
       "                                  (0, 0, 0)           0.13125\n",
       "                        (0, 0, 1) (1, 0, 0)           0.11875\n",
       "                                  (0, 1, 0)           0.00000\n",
       "                                  (0, 0, 1)           0.00000\n",
       "                                  (0, 0, 0)           0.13125\n",
       "                        (0, 1, 0) (1, 0, 0)           0.11875\n",
       "                                  (0, 1, 0)           0.00000\n",
       "                                  (0, 0, 1)           0.00000\n",
       "                                  (0, 0, 0)           0.13125\n",
       "                        (1, 0, 0) (1, 0, 0)           0.11875\n",
       "                                  (0, 1, 0)           0.00000\n",
       "                                  (0, 0, 1)           0.00000\n",
       "                                  (0, 0, 0)           0.13125"
      ]
     },
     "execution_count": 7,
     "metadata": {},
     "output_type": "execute_result"
    }
   ],
   "source": [
    "getGenerativeSignaler_1Token(getMind(oneTokenCondition), '1')"
   ]
  },
  {
   "cell_type": "code",
   "execution_count": 8,
   "metadata": {
    "ExecuteTime": {
     "end_time": "2019-11-01T18:04:12.944876Z",
     "start_time": "2019-11-01T18:04:12.699360Z"
    }
   },
   "outputs": [
    {
     "data": {
      "text/html": [
       "<div>\n",
       "<style scoped>\n",
       "    .dataframe tbody tr th:only-of-type {\n",
       "        vertical-align: middle;\n",
       "    }\n",
       "\n",
       "    .dataframe tbody tr th {\n",
       "        vertical-align: top;\n",
       "    }\n",
       "\n",
       "    .dataframe thead th {\n",
       "        text-align: right;\n",
       "    }\n",
       "</style>\n",
       "<table border=\"1\" class=\"dataframe\">\n",
       "  <thead>\n",
       "    <tr style=\"text-align: right;\">\n",
       "      <th></th>\n",
       "      <th></th>\n",
       "      <th></th>\n",
       "      <th></th>\n",
       "      <th></th>\n",
       "      <th>p(mind,c)</th>\n",
       "    </tr>\n",
       "    <tr>\n",
       "      <th>signalerType</th>\n",
       "      <th>worlds</th>\n",
       "      <th>desires</th>\n",
       "      <th>goals</th>\n",
       "      <th>actions</th>\n",
       "      <th></th>\n",
       "    </tr>\n",
       "  </thead>\n",
       "  <tbody>\n",
       "    <tr>\n",
       "      <th rowspan=\"12\" valign=\"top\">1</th>\n",
       "      <th rowspan=\"4\" valign=\"top\">(0, 0, 1)</th>\n",
       "      <th rowspan=\"4\" valign=\"top\">1</th>\n",
       "      <th rowspan=\"4\" valign=\"top\">1</th>\n",
       "      <th>(0, 0, 0)</th>\n",
       "      <td>0.000000</td>\n",
       "    </tr>\n",
       "    <tr>\n",
       "      <th>(0, 0, 1)</th>\n",
       "      <td>0.190000</td>\n",
       "    </tr>\n",
       "    <tr>\n",
       "      <th>(0, 1, 0)</th>\n",
       "      <td>0.000000</td>\n",
       "    </tr>\n",
       "    <tr>\n",
       "      <th>(1, 0, 0)</th>\n",
       "      <td>0.000000</td>\n",
       "    </tr>\n",
       "    <tr>\n",
       "      <th rowspan=\"4\" valign=\"top\">(0, 1, 0)</th>\n",
       "      <th rowspan=\"4\" valign=\"top\">1</th>\n",
       "      <th rowspan=\"4\" valign=\"top\">1</th>\n",
       "      <th>(0, 0, 0)</th>\n",
       "      <td>0.000000</td>\n",
       "    </tr>\n",
       "    <tr>\n",
       "      <th>(0, 0, 1)</th>\n",
       "      <td>0.000000</td>\n",
       "    </tr>\n",
       "    <tr>\n",
       "      <th>(0, 1, 0)</th>\n",
       "      <td>0.190000</td>\n",
       "    </tr>\n",
       "    <tr>\n",
       "      <th>(1, 0, 0)</th>\n",
       "      <td>0.000000</td>\n",
       "    </tr>\n",
       "    <tr>\n",
       "      <th rowspan=\"4\" valign=\"top\">(1, 0, 0)</th>\n",
       "      <th rowspan=\"4\" valign=\"top\">1</th>\n",
       "      <th rowspan=\"4\" valign=\"top\">1</th>\n",
       "      <th>(0, 0, 0)</th>\n",
       "      <td>0.000000</td>\n",
       "    </tr>\n",
       "    <tr>\n",
       "      <th>(0, 0, 1)</th>\n",
       "      <td>0.000000</td>\n",
       "    </tr>\n",
       "    <tr>\n",
       "      <th>(0, 1, 0)</th>\n",
       "      <td>0.000000</td>\n",
       "    </tr>\n",
       "    <tr>\n",
       "      <th>(1, 0, 0)</th>\n",
       "      <td>0.190000</td>\n",
       "    </tr>\n",
       "    <tr>\n",
       "      <th rowspan=\"12\" valign=\"top\">-1</th>\n",
       "      <th rowspan=\"4\" valign=\"top\">(0, 0, 1)</th>\n",
       "      <th rowspan=\"4\" valign=\"top\">1</th>\n",
       "      <th rowspan=\"4\" valign=\"top\">1</th>\n",
       "      <th>(0, 0, 0)</th>\n",
       "      <td>0.000000</td>\n",
       "    </tr>\n",
       "    <tr>\n",
       "      <th>(0, 0, 1)</th>\n",
       "      <td>0.143333</td>\n",
       "    </tr>\n",
       "    <tr>\n",
       "      <th>(0, 1, 0)</th>\n",
       "      <td>0.000000</td>\n",
       "    </tr>\n",
       "    <tr>\n",
       "      <th>(1, 0, 0)</th>\n",
       "      <td>0.000000</td>\n",
       "    </tr>\n",
       "    <tr>\n",
       "      <th rowspan=\"4\" valign=\"top\">(0, 1, 0)</th>\n",
       "      <th rowspan=\"4\" valign=\"top\">1</th>\n",
       "      <th rowspan=\"4\" valign=\"top\">1</th>\n",
       "      <th>(0, 0, 0)</th>\n",
       "      <td>0.000000</td>\n",
       "    </tr>\n",
       "    <tr>\n",
       "      <th>(0, 0, 1)</th>\n",
       "      <td>0.000000</td>\n",
       "    </tr>\n",
       "    <tr>\n",
       "      <th>(0, 1, 0)</th>\n",
       "      <td>0.143333</td>\n",
       "    </tr>\n",
       "    <tr>\n",
       "      <th>(1, 0, 0)</th>\n",
       "      <td>0.000000</td>\n",
       "    </tr>\n",
       "    <tr>\n",
       "      <th rowspan=\"4\" valign=\"top\">(1, 0, 0)</th>\n",
       "      <th rowspan=\"4\" valign=\"top\">1</th>\n",
       "      <th rowspan=\"4\" valign=\"top\">1</th>\n",
       "      <th>(0, 0, 0)</th>\n",
       "      <td>0.000000</td>\n",
       "    </tr>\n",
       "    <tr>\n",
       "      <th>(0, 0, 1)</th>\n",
       "      <td>0.000000</td>\n",
       "    </tr>\n",
       "    <tr>\n",
       "      <th>(0, 1, 0)</th>\n",
       "      <td>0.000000</td>\n",
       "    </tr>\n",
       "    <tr>\n",
       "      <th>(1, 0, 0)</th>\n",
       "      <td>0.143333</td>\n",
       "    </tr>\n",
       "  </tbody>\n",
       "</table>\n",
       "</div>"
      ],
      "text/plain": [
       "                                                p(mind,c)\n",
       "signalerType worlds    desires goals actions             \n",
       "1            (0, 0, 1) 1       1     (0, 0, 0)   0.000000\n",
       "                                     (0, 0, 1)   0.190000\n",
       "                                     (0, 1, 0)   0.000000\n",
       "                                     (1, 0, 0)   0.000000\n",
       "             (0, 1, 0) 1       1     (0, 0, 0)   0.000000\n",
       "                                     (0, 0, 1)   0.000000\n",
       "                                     (0, 1, 0)   0.190000\n",
       "                                     (1, 0, 0)   0.000000\n",
       "             (1, 0, 0) 1       1     (0, 0, 0)   0.000000\n",
       "                                     (0, 0, 1)   0.000000\n",
       "                                     (0, 1, 0)   0.000000\n",
       "                                     (1, 0, 0)   0.190000\n",
       "-1           (0, 0, 1) 1       1     (0, 0, 0)   0.000000\n",
       "                                     (0, 0, 1)   0.143333\n",
       "                                     (0, 1, 0)   0.000000\n",
       "                                     (1, 0, 0)   0.000000\n",
       "             (0, 1, 0) 1       1     (0, 0, 0)   0.000000\n",
       "                                     (0, 0, 1)   0.000000\n",
       "                                     (0, 1, 0)   0.143333\n",
       "                                     (1, 0, 0)   0.000000\n",
       "             (1, 0, 0) 1       1     (0, 0, 0)   0.000000\n",
       "                                     (0, 0, 1)   0.000000\n",
       "                                     (0, 1, 0)   0.000000\n",
       "                                     (1, 0, 0)   0.143333"
      ]
     },
     "execution_count": 8,
     "metadata": {},
     "output_type": "execute_result"
    }
   ],
   "source": [
    "getReceiverZero_1Token.constructJointMindSignalCategoryPrior(getMind(oneTokenCondition), signalCategoryPrior)"
   ]
  },
  {
   "cell_type": "markdown",
   "metadata": {},
   "source": [
    "# Two token condition"
   ]
  },
  {
   "cell_type": "code",
   "execution_count": 9,
   "metadata": {
    "ExecuteTime": {
     "end_time": "2019-11-01T18:04:13.335986Z",
     "start_time": "2019-11-01T18:04:12.946309Z"
    }
   },
   "outputs": [],
   "source": [
    "getGenerativeSignaler_2Token = SignalerZero(twoTokenSignalSpace, signalIsConsistent_Boxes, getSignalCost)\n",
    "getReceiverZero_2Token = ReceiverZero(commonGroundDictionary=twoTokenCondition, constructMind=getMind, getSignalerZero=getGenerativeSignaler_2Token, signalCategoryPrior=signalCategoryPrior)\n",
    "getSignalerOne_2Token = SignalerOne(alpha=a, signalSpace =twoTokenSignalSpace,  getActionUtility=getActionUtility, getReceiverZero=getReceiverZero_2Token, getSignalCost=getSignalCost)"
   ]
  },
  {
   "cell_type": "code",
   "execution_count": 10,
   "metadata": {
    "ExecuteTime": {
     "end_time": "2019-11-01T18:04:14.420099Z",
     "start_time": "2019-11-01T18:04:13.336970Z"
    },
    "scrolled": true
   },
   "outputs": [
    {
     "data": {
      "text/html": [
       "<div>\n",
       "<style scoped>\n",
       "    .dataframe tbody tr th:only-of-type {\n",
       "        vertical-align: middle;\n",
       "    }\n",
       "\n",
       "    .dataframe tbody tr th {\n",
       "        vertical-align: top;\n",
       "    }\n",
       "\n",
       "    .dataframe thead th {\n",
       "        text-align: right;\n",
       "    }\n",
       "</style>\n",
       "<table border=\"1\" class=\"dataframe\">\n",
       "  <thead>\n",
       "    <tr style=\"text-align: right;\">\n",
       "      <th></th>\n",
       "      <th>probabilities</th>\n",
       "    </tr>\n",
       "    <tr>\n",
       "      <th>signals</th>\n",
       "      <th></th>\n",
       "    </tr>\n",
       "  </thead>\n",
       "  <tbody>\n",
       "    <tr>\n",
       "      <th>(1, 1, 0)</th>\n",
       "      <td>9.350129e-01</td>\n",
       "    </tr>\n",
       "    <tr>\n",
       "      <th>(1, 0, 1)</th>\n",
       "      <td>3.972266e-18</td>\n",
       "    </tr>\n",
       "    <tr>\n",
       "      <th>(1, 0, 0)</th>\n",
       "      <td>5.774697e-08</td>\n",
       "    </tr>\n",
       "    <tr>\n",
       "      <th>(0, 1, 1)</th>\n",
       "      <td>3.972266e-18</td>\n",
       "    </tr>\n",
       "    <tr>\n",
       "      <th>(0, 1, 0)</th>\n",
       "      <td>5.774697e-08</td>\n",
       "    </tr>\n",
       "    <tr>\n",
       "      <th>(0, 0, 1)</th>\n",
       "      <td>1.907380e-05</td>\n",
       "    </tr>\n",
       "    <tr>\n",
       "      <th>(0, 0, 0)</th>\n",
       "      <td>6.496792e-02</td>\n",
       "    </tr>\n",
       "  </tbody>\n",
       "</table>\n",
       "</div>"
      ],
      "text/plain": [
       "           probabilities\n",
       "signals                 \n",
       "(1, 1, 0)   9.350129e-01\n",
       "(1, 0, 1)   3.972266e-18\n",
       "(1, 0, 0)   5.774697e-08\n",
       "(0, 1, 1)   3.972266e-18\n",
       "(0, 1, 0)   5.774697e-08\n",
       "(0, 0, 1)   1.907380e-05\n",
       "(0, 0, 0)   6.496792e-02"
      ]
     },
     "execution_count": 10,
     "metadata": {},
     "output_type": "execute_result"
    }
   ],
   "source": [
    "observedWorld = {'worlds':(1,1,0)}\n",
    "getSignalerOne_2Token(observedWorld)"
   ]
  },
  {
   "cell_type": "markdown",
   "metadata": {},
   "source": [
    "# Two Box Paradigm"
   ]
  },
  {
   "cell_type": "code",
   "execution_count": 12,
   "metadata": {
    "ExecuteTime": {
     "end_time": "2019-11-01T18:05:48.665980Z",
     "start_time": "2019-11-01T18:05:48.660743Z"
    }
   },
   "outputs": [],
   "source": [
    "a = 4\n",
    "signalCategoryPrior = {'1':.57, '-1':.43}\n",
    "getActionUtility = ActionUtility(costOfLocation=(1, 3),\n",
    "                                 costOfNonReward=0,\n",
    "                                 valueOfReward=10)\n",
    "getActionDistribution = ActionDistributionGivenWorldGoal(a, getActionUtility, False)\n",
    "getMind = GenerateMind(getWorldProbabiltiy_Uniform, getDesireProbability_Uniform, getGoalGivenWorldAndDesire_Uniform, getActionDistribution)"
   ]
  },
  {
   "cell_type": "code",
   "execution_count": 13,
   "metadata": {
    "ExecuteTime": {
     "end_time": "2019-11-01T18:05:49.634330Z",
     "start_time": "2019-11-01T18:05:49.632114Z"
    }
   },
   "outputs": [],
   "source": [
    "signalCost2Box = (.2, .2)\n",
    "getSignalCost2Box = SignalCost_Misyak(signalCost2Box)"
   ]
  },
  {
   "cell_type": "code",
   "execution_count": 14,
   "metadata": {
    "ExecuteTime": {
     "end_time": "2019-11-01T18:05:50.223566Z",
     "start_time": "2019-11-01T18:05:50.096750Z"
    }
   },
   "outputs": [],
   "source": [
    "getGenerativeSignaler2Box = SignalerZero(oneTokenSignalSpace2Box, signalIsConsistent_Boxes, getSignalCost2Box)\n",
    "getReceiverZero2Box = ReceiverZero(commonGroundDictionary=twoBoxCondition, constructMind=getMind, getSignalerZero=getGenerativeSignaler2Box, signalCategoryPrior=signalCategoryPrior)\n",
    "getSignalerOne2Box = SignalerOne(alpha=a, signalSpace =oneTokenSignalSpace2Box,  getActionUtility=getActionUtility, getReceiverZero=getReceiverZero2Box, getSignalCost=getSignalCost2Box)"
   ]
  },
  {
   "cell_type": "code",
   "execution_count": 15,
   "metadata": {
    "ExecuteTime": {
     "end_time": "2019-11-01T18:05:50.887389Z",
     "start_time": "2019-11-01T18:05:50.715321Z"
    }
   },
   "outputs": [
    {
     "data": {
      "text/html": [
       "<div>\n",
       "<style scoped>\n",
       "    .dataframe tbody tr th:only-of-type {\n",
       "        vertical-align: middle;\n",
       "    }\n",
       "\n",
       "    .dataframe tbody tr th {\n",
       "        vertical-align: top;\n",
       "    }\n",
       "\n",
       "    .dataframe thead th {\n",
       "        text-align: right;\n",
       "    }\n",
       "</style>\n",
       "<table border=\"1\" class=\"dataframe\">\n",
       "  <thead>\n",
       "    <tr style=\"text-align: right;\">\n",
       "      <th></th>\n",
       "      <th>probabilities</th>\n",
       "    </tr>\n",
       "    <tr>\n",
       "      <th>signals</th>\n",
       "      <th></th>\n",
       "    </tr>\n",
       "  </thead>\n",
       "  <tbody>\n",
       "    <tr>\n",
       "      <th>(1, 0)</th>\n",
       "      <td>0.927204</td>\n",
       "    </tr>\n",
       "    <tr>\n",
       "      <th>(0, 1)</th>\n",
       "      <td>0.001119</td>\n",
       "    </tr>\n",
       "    <tr>\n",
       "      <th>(0, 0)</th>\n",
       "      <td>0.071677</td>\n",
       "    </tr>\n",
       "  </tbody>\n",
       "</table>\n",
       "</div>"
      ],
      "text/plain": [
       "         probabilities\n",
       "signals               \n",
       "(1, 0)        0.927204\n",
       "(0, 1)        0.001119\n",
       "(0, 0)        0.071677"
      ]
     },
     "execution_count": 15,
     "metadata": {},
     "output_type": "execute_result"
    }
   ],
   "source": [
    "observedWorld = {'worlds':(1,0)}\n",
    "getSignalerOne2Box(observedWorld)"
   ]
  },
  {
   "cell_type": "code",
   "execution_count": 16,
   "metadata": {
    "ExecuteTime": {
     "end_time": "2019-11-01T18:05:51.192116Z",
     "start_time": "2019-11-01T18:05:51.025701Z"
    },
    "scrolled": true
   },
   "outputs": [
    {
     "data": {
      "text/html": [
       "<div>\n",
       "<style scoped>\n",
       "    .dataframe tbody tr th:only-of-type {\n",
       "        vertical-align: middle;\n",
       "    }\n",
       "\n",
       "    .dataframe tbody tr th {\n",
       "        vertical-align: top;\n",
       "    }\n",
       "\n",
       "    .dataframe thead th {\n",
       "        text-align: right;\n",
       "    }\n",
       "</style>\n",
       "<table border=\"1\" class=\"dataframe\">\n",
       "  <thead>\n",
       "    <tr style=\"text-align: right;\">\n",
       "      <th></th>\n",
       "      <th>probabilities</th>\n",
       "    </tr>\n",
       "    <tr>\n",
       "      <th>signals</th>\n",
       "      <th></th>\n",
       "    </tr>\n",
       "  </thead>\n",
       "  <tbody>\n",
       "    <tr>\n",
       "      <th>(1, 0)</th>\n",
       "      <td>0.009079</td>\n",
       "    </tr>\n",
       "    <tr>\n",
       "      <th>(0, 1)</th>\n",
       "      <td>0.801114</td>\n",
       "    </tr>\n",
       "    <tr>\n",
       "      <th>(0, 0)</th>\n",
       "      <td>0.189806</td>\n",
       "    </tr>\n",
       "  </tbody>\n",
       "</table>\n",
       "</div>"
      ],
      "text/plain": [
       "         probabilities\n",
       "signals               \n",
       "(1, 0)        0.009079\n",
       "(0, 1)        0.801114\n",
       "(0, 0)        0.189806"
      ]
     },
     "execution_count": 16,
     "metadata": {},
     "output_type": "execute_result"
    }
   ],
   "source": [
    "observedWorld = {'worlds':(0,1)}\n",
    "getSignalerOne2Box(observedWorld)"
   ]
  },
  {
   "cell_type": "markdown",
   "metadata": {},
   "source": [
    "## Cost Structure 2"
   ]
  },
  {
   "cell_type": "code",
   "execution_count": 17,
   "metadata": {
    "ExecuteTime": {
     "end_time": "2019-11-01T18:05:51.961222Z",
     "start_time": "2019-11-01T18:05:51.848936Z"
    }
   },
   "outputs": [],
   "source": [
    "signalCost2Box = (.1, .5)\n",
    "getSignalCost2Box = SignalCost_Misyak(signalCost2Box)\n",
    "getGenerativeSignaler2Box = SignalerZero(oneTokenSignalSpace2Box, signalIsConsistent_Boxes, getSignalCost2Box)\n",
    "getReceiverZero2Box = ReceiverZero(commonGroundDictionary=twoBoxCondition, constructMind=getMind, getSignalerZero=getGenerativeSignaler2Box, signalCategoryPrior=signalCategoryPrior)\n",
    "getSignalerOne2Box = SignalerOne(alpha=a, signalSpace =oneTokenSignalSpace2Box,  getActionUtility=getActionUtility, getReceiverZero=getReceiverZero2Box, getSignalCost=getSignalCost2Box)"
   ]
  },
  {
   "cell_type": "code",
   "execution_count": 18,
   "metadata": {
    "ExecuteTime": {
     "end_time": "2019-11-01T18:05:53.398368Z",
     "start_time": "2019-11-01T18:05:53.244569Z"
    }
   },
   "outputs": [
    {
     "data": {
      "text/html": [
       "<div>\n",
       "<style scoped>\n",
       "    .dataframe tbody tr th:only-of-type {\n",
       "        vertical-align: middle;\n",
       "    }\n",
       "\n",
       "    .dataframe tbody tr th {\n",
       "        vertical-align: top;\n",
       "    }\n",
       "\n",
       "    .dataframe thead th {\n",
       "        text-align: right;\n",
       "    }\n",
       "</style>\n",
       "<table border=\"1\" class=\"dataframe\">\n",
       "  <thead>\n",
       "    <tr style=\"text-align: right;\">\n",
       "      <th></th>\n",
       "      <th>probabilities</th>\n",
       "    </tr>\n",
       "    <tr>\n",
       "      <th>signals</th>\n",
       "      <th></th>\n",
       "    </tr>\n",
       "  </thead>\n",
       "  <tbody>\n",
       "    <tr>\n",
       "      <th>(1, 0)</th>\n",
       "      <td>0.950514</td>\n",
       "    </tr>\n",
       "    <tr>\n",
       "      <th>(0, 1)</th>\n",
       "      <td>0.000232</td>\n",
       "    </tr>\n",
       "    <tr>\n",
       "      <th>(0, 0)</th>\n",
       "      <td>0.049255</td>\n",
       "    </tr>\n",
       "  </tbody>\n",
       "</table>\n",
       "</div>"
      ],
      "text/plain": [
       "         probabilities\n",
       "signals               \n",
       "(1, 0)        0.950514\n",
       "(0, 1)        0.000232\n",
       "(0, 0)        0.049255"
      ]
     },
     "execution_count": 18,
     "metadata": {},
     "output_type": "execute_result"
    }
   ],
   "source": [
    "observedWorld = {'worlds':(1,0)}\n",
    "getSignalerOne2Box(observedWorld)"
   ]
  },
  {
   "cell_type": "code",
   "execution_count": 19,
   "metadata": {
    "ExecuteTime": {
     "end_time": "2019-11-01T18:05:53.819050Z",
     "start_time": "2019-11-01T18:05:53.640314Z"
    }
   },
   "outputs": [
    {
     "data": {
      "text/html": [
       "<div>\n",
       "<style scoped>\n",
       "    .dataframe tbody tr th:only-of-type {\n",
       "        vertical-align: middle;\n",
       "    }\n",
       "\n",
       "    .dataframe tbody tr th {\n",
       "        vertical-align: top;\n",
       "    }\n",
       "\n",
       "    .dataframe thead th {\n",
       "        text-align: right;\n",
       "    }\n",
       "</style>\n",
       "<table border=\"1\" class=\"dataframe\">\n",
       "  <thead>\n",
       "    <tr style=\"text-align: right;\">\n",
       "      <th></th>\n",
       "      <th>probabilities</th>\n",
       "    </tr>\n",
       "    <tr>\n",
       "      <th>signals</th>\n",
       "      <th></th>\n",
       "    </tr>\n",
       "  </thead>\n",
       "  <tbody>\n",
       "    <tr>\n",
       "      <th>(1, 0)</th>\n",
       "      <td>0.030462</td>\n",
       "    </tr>\n",
       "    <tr>\n",
       "      <th>(0, 1)</th>\n",
       "      <td>0.542663</td>\n",
       "    </tr>\n",
       "    <tr>\n",
       "      <th>(0, 0)</th>\n",
       "      <td>0.426874</td>\n",
       "    </tr>\n",
       "  </tbody>\n",
       "</table>\n",
       "</div>"
      ],
      "text/plain": [
       "         probabilities\n",
       "signals               \n",
       "(1, 0)        0.030462\n",
       "(0, 1)        0.542663\n",
       "(0, 0)        0.426874"
      ]
     },
     "execution_count": 19,
     "metadata": {},
     "output_type": "execute_result"
    }
   ],
   "source": [
    "observedWorld = {'worlds':(0,1)}\n",
    "getSignalerOne2Box(observedWorld)"
   ]
  },
  {
   "cell_type": "code",
   "execution_count": null,
   "metadata": {},
   "outputs": [],
   "source": []
  },
  {
   "cell_type": "code",
   "execution_count": null,
   "metadata": {},
   "outputs": [],
   "source": []
  }
 ],
 "metadata": {
  "kernelspec": {
   "display_name": "Python 3",
   "language": "python",
   "name": "python3"
  },
  "language_info": {
   "codemirror_mode": {
    "name": "ipython",
    "version": 3
   },
   "file_extension": ".py",
   "mimetype": "text/x-python",
   "name": "python",
   "nbconvert_exporter": "python",
   "pygments_lexer": "ipython3",
   "version": "3.5.6"
  },
  "toc": {
   "base_numbering": 1,
   "nav_menu": {},
   "number_sections": true,
   "sideBar": false,
   "skip_h1_title": false,
   "title_cell": "Table of Contents",
   "title_sidebar": "Contents",
   "toc_cell": false,
   "toc_position": {
    "height": "1465.42px",
    "left": "49px",
    "top": "110.883px",
    "width": "198px"
   },
   "toc_section_display": false,
   "toc_window_display": true
  }
 },
 "nbformat": 4,
 "nbformat_minor": 2
}
