{
 "cells": [
  {
   "cell_type": "code",
   "execution_count": 1,
   "metadata": {
    "ExecuteTime": {
     "end_time": "2020-06-03T23:01:14.651635Z",
     "start_time": "2020-06-03T23:01:14.383271Z"
    },
    "scrolled": true
   },
   "outputs": [],
   "source": [
    "%load_ext autoreload\n",
    "%autoreload 2\n",
    "\n",
    "import sys\n",
    "import numpy as np\n",
    "import pandas as pd\n",
    "import matplotlib.pyplot as plt\n",
    "\n",
    "sys.path.append('/home/stacyste/Documents/Research/OverloadedSignaling/Algorithms/ImaginedWe')\n",
    "sys.path.append('/home/stacyste/Documents/Research/OverloadedSignaling/Environments/Grosse')"
   ]
  },
  {
   "cell_type": "code",
   "execution_count": 2,
   "metadata": {
    "ExecuteTime": {
     "end_time": "2020-06-03T23:01:14.855080Z",
     "start_time": "2020-06-03T23:01:14.835325Z"
    }
   },
   "outputs": [],
   "source": [
    "from consistentSignalChecks_Grosse import signalIsConsistent_Grosse\n",
    "from grosseConstruction import *\n",
    "\n",
    "from mindConstruction import *\n",
    "from GenerativeSignaler import SignalerZero\n",
    "from OverloadedReceiver import ReceiverZero\n",
    "from OverloadedSignaler import SignalerOne"
   ]
  },
  {
   "cell_type": "markdown",
   "metadata": {},
   "source": [
    "# Examples"
   ]
  },
  {
   "cell_type": "markdown",
   "metadata": {},
   "source": [
    "## Hands Free Condition"
   ]
  },
  {
   "cell_type": "markdown",
   "metadata": {},
   "source": [
    "Here the goal space is restricted to L or R, could also be n or LR (both)"
   ]
  },
  {
   "cell_type": "code",
   "execution_count": 4,
   "metadata": {
    "ExecuteTime": {
     "end_time": "2020-06-03T19:15:53.860663Z",
     "start_time": "2020-06-03T19:15:53.599617Z"
    }
   },
   "outputs": [],
   "source": [
    "#utility\n",
    "costD = [{'L':-3, 'R':-1, 'n':0},{'L':-2, 'R':-2, 'n':0}]\n",
    "rewardValue = 10\n",
    "getUtility = ActionUtility_Grosse(costD, rewardValue)\n",
    "\n",
    "#p(a|w,g) function\n",
    "a = .4\n",
    "getActionPDF = ActionDistributionGivenWorldGoal_Grosse(alpha = a, actionUtilityFunction=getUtility, softmax=True)\n",
    "getGoalPDF = GoalDistribution_NonUniform({'L':.23, 'R':.77})\n",
    "\n",
    "#p(mind) function\n",
    "getMind = GenerateMind(getWorldProbabiltiy_Uniform, getDesireProbability_Uniform, getGoalPDF, getActionPDF)\n",
    "\n",
    "\n",
    "#condition parameters\n",
    "handsFreeCondition = {'worlds': ['LR'], 'desires': [1], 'intentions': ['L', 'R'], 'actions': [('n', 'n'), ('L', 'n'), ('R', 'n'), ('n', 'L'), ('n', 'R'), ('L', 'R'), ('R', 'L')]}\n",
    "signalCategoryPrior = {'1':1}\n",
    "signalSpace = ['help', 'null']\n",
    "\n",
    "#inference\n",
    "getGenerativeSignaler = SignalerZero(signalSpace, signalIsConsistent_Grosse)\n",
    "getReceiverZero = ReceiverZero(commonGroundDictionary=handsFreeCondition, constructMind=getMind, getSignalerZero=getGenerativeSignaler, signalCategoryPrior=signalCategoryPrior)\n",
    "getSignalerOne = SignalerOne(a, signalSpace, getUtility, getReceiverZero)"
   ]
  },
  {
   "cell_type": "code",
   "execution_count": 5,
   "metadata": {
    "ExecuteTime": {
     "end_time": "2020-06-03T19:15:57.223451Z",
     "start_time": "2020-06-03T19:15:57.175697Z"
    }
   },
   "outputs": [
    {
     "data": {
      "text/html": [
       "<div>\n",
       "<style scoped>\n",
       "    .dataframe tbody tr th:only-of-type {\n",
       "        vertical-align: middle;\n",
       "    }\n",
       "\n",
       "    .dataframe tbody tr th {\n",
       "        vertical-align: top;\n",
       "    }\n",
       "\n",
       "    .dataframe thead th {\n",
       "        text-align: right;\n",
       "    }\n",
       "</style>\n",
       "<table border=\"1\" class=\"dataframe\">\n",
       "  <thead>\n",
       "    <tr style=\"text-align: right;\">\n",
       "      <th></th>\n",
       "      <th>p(a|w,i)</th>\n",
       "    </tr>\n",
       "    <tr>\n",
       "      <th>actions</th>\n",
       "      <th></th>\n",
       "    </tr>\n",
       "  </thead>\n",
       "  <tbody>\n",
       "    <tr>\n",
       "      <th>(n, n)</th>\n",
       "      <td>0.014941</td>\n",
       "    </tr>\n",
       "    <tr>\n",
       "      <th>(L, n)</th>\n",
       "      <td>0.245697</td>\n",
       "    </tr>\n",
       "    <tr>\n",
       "      <th>(R, n)</th>\n",
       "      <td>0.010015</td>\n",
       "    </tr>\n",
       "    <tr>\n",
       "      <th>(n, L)</th>\n",
       "      <td>0.366537</td>\n",
       "    </tr>\n",
       "    <tr>\n",
       "      <th>(n, R)</th>\n",
       "      <td>0.006713</td>\n",
       "    </tr>\n",
       "    <tr>\n",
       "      <th>(L, R)</th>\n",
       "      <td>0.110399</td>\n",
       "    </tr>\n",
       "    <tr>\n",
       "      <th>(R, L)</th>\n",
       "      <td>0.245697</td>\n",
       "    </tr>\n",
       "  </tbody>\n",
       "</table>\n",
       "</div>"
      ],
      "text/plain": [
       "         p(a|w,i)\n",
       "actions          \n",
       "(n, n)   0.014941\n",
       "(L, n)   0.245697\n",
       "(R, n)   0.010015\n",
       "(n, L)   0.366537\n",
       "(n, R)   0.006713\n",
       "(L, R)   0.110399\n",
       "(R, L)   0.245697"
      ]
     },
     "execution_count": 5,
     "metadata": {},
     "output_type": "execute_result"
    }
   ],
   "source": [
    "getActionPDF([('n', 'n'), ('L', 'n'), ('R', 'n'), ('n', 'L'), ('n', 'R'), ('L', 'R'), ('R', 'L')], 'LR', 'L')"
   ]
  },
  {
   "cell_type": "code",
   "execution_count": 6,
   "metadata": {
    "ExecuteTime": {
     "end_time": "2020-06-03T19:16:00.192069Z",
     "start_time": "2020-06-03T19:16:00.176668Z"
    }
   },
   "outputs": [
    {
     "data": {
      "text/html": [
       "<div>\n",
       "<style scoped>\n",
       "    .dataframe tbody tr th:only-of-type {\n",
       "        vertical-align: middle;\n",
       "    }\n",
       "\n",
       "    .dataframe tbody tr th {\n",
       "        vertical-align: top;\n",
       "    }\n",
       "\n",
       "    .dataframe thead th {\n",
       "        text-align: right;\n",
       "    }\n",
       "</style>\n",
       "<table border=\"1\" class=\"dataframe\">\n",
       "  <thead>\n",
       "    <tr style=\"text-align: right;\">\n",
       "      <th></th>\n",
       "      <th>p(i|w,d)</th>\n",
       "    </tr>\n",
       "    <tr>\n",
       "      <th>intentions</th>\n",
       "      <th></th>\n",
       "    </tr>\n",
       "  </thead>\n",
       "  <tbody>\n",
       "    <tr>\n",
       "      <th>L</th>\n",
       "      <td>0.23</td>\n",
       "    </tr>\n",
       "    <tr>\n",
       "      <th>R</th>\n",
       "      <td>0.77</td>\n",
       "    </tr>\n",
       "  </tbody>\n",
       "</table>\n",
       "</div>"
      ],
      "text/plain": [
       "            p(i|w,d)\n",
       "intentions          \n",
       "L               0.23\n",
       "R               0.77"
      ]
     },
     "execution_count": 6,
     "metadata": {},
     "output_type": "execute_result"
    }
   ],
   "source": [
    "getGoalPDF(['L', 'R'], 'LR', 'L')"
   ]
  },
  {
   "cell_type": "code",
   "execution_count": 6,
   "metadata": {
    "ExecuteTime": {
     "end_time": "2020-03-31T22:45:10.548157Z",
     "start_time": "2020-03-31T22:45:10.284677Z"
    },
    "scrolled": false
   },
   "outputs": [
    {
     "data": {
      "text/html": [
       "<div>\n",
       "<style scoped>\n",
       "    .dataframe tbody tr th:only-of-type {\n",
       "        vertical-align: middle;\n",
       "    }\n",
       "\n",
       "    .dataframe tbody tr th {\n",
       "        vertical-align: top;\n",
       "    }\n",
       "\n",
       "    .dataframe thead th {\n",
       "        text-align: right;\n",
       "    }\n",
       "</style>\n",
       "<table border=\"1\" class=\"dataframe\">\n",
       "  <thead>\n",
       "    <tr style=\"text-align: right;\">\n",
       "      <th></th>\n",
       "      <th></th>\n",
       "      <th></th>\n",
       "      <th></th>\n",
       "      <th>p(mind)</th>\n",
       "    </tr>\n",
       "    <tr>\n",
       "      <th>worlds</th>\n",
       "      <th>desires</th>\n",
       "      <th>intentions</th>\n",
       "      <th>actions</th>\n",
       "      <th></th>\n",
       "    </tr>\n",
       "  </thead>\n",
       "  <tbody>\n",
       "    <tr>\n",
       "      <th rowspan=\"14\" valign=\"top\">LR</th>\n",
       "      <th rowspan=\"14\" valign=\"top\">1</th>\n",
       "      <th rowspan=\"7\" valign=\"top\">L</th>\n",
       "      <th>(L, R)</th>\n",
       "      <td>0.025</td>\n",
       "    </tr>\n",
       "    <tr>\n",
       "      <th>(L, n)</th>\n",
       "      <td>0.057</td>\n",
       "    </tr>\n",
       "    <tr>\n",
       "      <th>(R, L)</th>\n",
       "      <td>0.057</td>\n",
       "    </tr>\n",
       "    <tr>\n",
       "      <th>(R, n)</th>\n",
       "      <td>0.002</td>\n",
       "    </tr>\n",
       "    <tr>\n",
       "      <th>(n, L)</th>\n",
       "      <td>0.084</td>\n",
       "    </tr>\n",
       "    <tr>\n",
       "      <th>(n, R)</th>\n",
       "      <td>0.002</td>\n",
       "    </tr>\n",
       "    <tr>\n",
       "      <th>(n, n)</th>\n",
       "      <td>0.003</td>\n",
       "    </tr>\n",
       "    <tr>\n",
       "      <th rowspan=\"7\" valign=\"top\">R</th>\n",
       "      <th>(L, R)</th>\n",
       "      <td>0.066</td>\n",
       "    </tr>\n",
       "    <tr>\n",
       "      <th>(L, n)</th>\n",
       "      <td>0.003</td>\n",
       "    </tr>\n",
       "    <tr>\n",
       "      <th>(R, L)</th>\n",
       "      <td>0.146</td>\n",
       "    </tr>\n",
       "    <tr>\n",
       "      <th>(R, n)</th>\n",
       "      <td>0.325</td>\n",
       "    </tr>\n",
       "    <tr>\n",
       "      <th>(n, L)</th>\n",
       "      <td>0.004</td>\n",
       "    </tr>\n",
       "    <tr>\n",
       "      <th>(n, R)</th>\n",
       "      <td>0.218</td>\n",
       "    </tr>\n",
       "    <tr>\n",
       "      <th>(n, n)</th>\n",
       "      <td>0.009</td>\n",
       "    </tr>\n",
       "  </tbody>\n",
       "</table>\n",
       "</div>"
      ],
      "text/plain": [
       "                                   p(mind)\n",
       "worlds desires intentions actions         \n",
       "LR     1       L          (L, R)     0.025\n",
       "                          (L, n)     0.057\n",
       "                          (R, L)     0.057\n",
       "                          (R, n)     0.002\n",
       "                          (n, L)     0.084\n",
       "                          (n, R)     0.002\n",
       "                          (n, n)     0.003\n",
       "               R          (L, R)     0.066\n",
       "                          (L, n)     0.003\n",
       "                          (R, L)     0.146\n",
       "                          (R, n)     0.325\n",
       "                          (n, L)     0.004\n",
       "                          (n, R)     0.218\n",
       "                          (n, n)     0.009"
      ]
     },
     "execution_count": 6,
     "metadata": {},
     "output_type": "execute_result"
    }
   ],
   "source": [
    "# Mind prior\n",
    "round(getMind(handsFreeCondition), 3)"
   ]
  },
  {
   "cell_type": "code",
   "execution_count": 7,
   "metadata": {
    "ExecuteTime": {
     "end_time": "2020-03-31T22:45:10.598621Z",
     "start_time": "2020-03-31T22:45:10.549420Z"
    },
    "scrolled": false
   },
   "outputs": [
    {
     "data": {
      "text/html": [
       "<div>\n",
       "<style scoped>\n",
       "    .dataframe tbody tr th:only-of-type {\n",
       "        vertical-align: middle;\n",
       "    }\n",
       "\n",
       "    .dataframe tbody tr th {\n",
       "        vertical-align: top;\n",
       "    }\n",
       "\n",
       "    .dataframe thead th {\n",
       "        text-align: right;\n",
       "    }\n",
       "</style>\n",
       "<table border=\"1\" class=\"dataframe\">\n",
       "  <thead>\n",
       "    <tr style=\"text-align: right;\">\n",
       "      <th></th>\n",
       "      <th></th>\n",
       "      <th></th>\n",
       "      <th></th>\n",
       "      <th>p(mind|signal)</th>\n",
       "    </tr>\n",
       "    <tr>\n",
       "      <th>worlds</th>\n",
       "      <th>desires</th>\n",
       "      <th>intentions</th>\n",
       "      <th>actions</th>\n",
       "      <th></th>\n",
       "    </tr>\n",
       "  </thead>\n",
       "  <tbody>\n",
       "    <tr>\n",
       "      <th rowspan=\"14\" valign=\"top\">LR</th>\n",
       "      <th rowspan=\"14\" valign=\"top\">1</th>\n",
       "      <th rowspan=\"7\" valign=\"top\">L</th>\n",
       "      <th>(L, R)</th>\n",
       "      <td>0.000000</td>\n",
       "    </tr>\n",
       "    <tr>\n",
       "      <th>(L, n)</th>\n",
       "      <td>0.141707</td>\n",
       "    </tr>\n",
       "    <tr>\n",
       "      <th>(R, L)</th>\n",
       "      <td>0.000000</td>\n",
       "    </tr>\n",
       "    <tr>\n",
       "      <th>(R, n)</th>\n",
       "      <td>0.005776</td>\n",
       "    </tr>\n",
       "    <tr>\n",
       "      <th>(n, L)</th>\n",
       "      <td>0.000000</td>\n",
       "    </tr>\n",
       "    <tr>\n",
       "      <th>(n, R)</th>\n",
       "      <td>0.000000</td>\n",
       "    </tr>\n",
       "    <tr>\n",
       "      <th>(n, n)</th>\n",
       "      <td>0.008617</td>\n",
       "    </tr>\n",
       "    <tr>\n",
       "      <th rowspan=\"7\" valign=\"top\">R</th>\n",
       "      <th>(L, R)</th>\n",
       "      <td>0.000000</td>\n",
       "    </tr>\n",
       "    <tr>\n",
       "      <th>(L, n)</th>\n",
       "      <td>0.006707</td>\n",
       "    </tr>\n",
       "    <tr>\n",
       "      <th>(R, L)</th>\n",
       "      <td>0.000000</td>\n",
       "    </tr>\n",
       "    <tr>\n",
       "      <th>(R, n)</th>\n",
       "      <td>0.814927</td>\n",
       "    </tr>\n",
       "    <tr>\n",
       "      <th>(n, L)</th>\n",
       "      <td>0.000000</td>\n",
       "    </tr>\n",
       "    <tr>\n",
       "      <th>(n, R)</th>\n",
       "      <td>0.000000</td>\n",
       "    </tr>\n",
       "    <tr>\n",
       "      <th>(n, n)</th>\n",
       "      <td>0.022267</td>\n",
       "    </tr>\n",
       "  </tbody>\n",
       "</table>\n",
       "</div>"
      ],
      "text/plain": [
       "                                   p(mind|signal)\n",
       "worlds desires intentions actions                \n",
       "LR     1       L          (L, R)         0.000000\n",
       "                          (L, n)         0.141707\n",
       "                          (R, L)         0.000000\n",
       "                          (R, n)         0.005776\n",
       "                          (n, L)         0.000000\n",
       "                          (n, R)         0.000000\n",
       "                          (n, n)         0.008617\n",
       "               R          (L, R)         0.000000\n",
       "                          (L, n)         0.006707\n",
       "                          (R, L)         0.000000\n",
       "                          (R, n)         0.814927\n",
       "                          (n, L)         0.000000\n",
       "                          (n, R)         0.000000\n",
       "                          (n, n)         0.022267"
      ]
     },
     "execution_count": 7,
     "metadata": {},
     "output_type": "execute_result"
    }
   ],
   "source": [
    "getReceiverZero('null')"
   ]
  },
  {
   "cell_type": "code",
   "execution_count": 8,
   "metadata": {
    "ExecuteTime": {
     "end_time": "2020-03-31T22:45:10.649448Z",
     "start_time": "2020-03-31T22:45:10.600030Z"
    },
    "scrolled": false
   },
   "outputs": [
    {
     "data": {
      "text/html": [
       "<div>\n",
       "<style scoped>\n",
       "    .dataframe tbody tr th:only-of-type {\n",
       "        vertical-align: middle;\n",
       "    }\n",
       "\n",
       "    .dataframe tbody tr th {\n",
       "        vertical-align: top;\n",
       "    }\n",
       "\n",
       "    .dataframe thead th {\n",
       "        text-align: right;\n",
       "    }\n",
       "</style>\n",
       "<table border=\"1\" class=\"dataframe\">\n",
       "  <thead>\n",
       "    <tr style=\"text-align: right;\">\n",
       "      <th></th>\n",
       "      <th></th>\n",
       "      <th></th>\n",
       "      <th></th>\n",
       "      <th>p(mind|signal)</th>\n",
       "    </tr>\n",
       "    <tr>\n",
       "      <th>worlds</th>\n",
       "      <th>desires</th>\n",
       "      <th>intentions</th>\n",
       "      <th>actions</th>\n",
       "      <th></th>\n",
       "    </tr>\n",
       "  </thead>\n",
       "  <tbody>\n",
       "    <tr>\n",
       "      <th rowspan=\"14\" valign=\"top\">LR</th>\n",
       "      <th rowspan=\"14\" valign=\"top\">1</th>\n",
       "      <th rowspan=\"7\" valign=\"top\">L</th>\n",
       "      <th>(L, R)</th>\n",
       "      <td>0.042</td>\n",
       "    </tr>\n",
       "    <tr>\n",
       "      <th>(L, n)</th>\n",
       "      <td>0.000</td>\n",
       "    </tr>\n",
       "    <tr>\n",
       "      <th>(R, L)</th>\n",
       "      <td>0.094</td>\n",
       "    </tr>\n",
       "    <tr>\n",
       "      <th>(R, n)</th>\n",
       "      <td>0.000</td>\n",
       "    </tr>\n",
       "    <tr>\n",
       "      <th>(n, L)</th>\n",
       "      <td>0.140</td>\n",
       "    </tr>\n",
       "    <tr>\n",
       "      <th>(n, R)</th>\n",
       "      <td>0.003</td>\n",
       "    </tr>\n",
       "    <tr>\n",
       "      <th>(n, n)</th>\n",
       "      <td>0.000</td>\n",
       "    </tr>\n",
       "    <tr>\n",
       "      <th rowspan=\"7\" valign=\"top\">R</th>\n",
       "      <th>(L, R)</th>\n",
       "      <td>0.109</td>\n",
       "    </tr>\n",
       "    <tr>\n",
       "      <th>(L, n)</th>\n",
       "      <td>0.000</td>\n",
       "    </tr>\n",
       "    <tr>\n",
       "      <th>(R, L)</th>\n",
       "      <td>0.243</td>\n",
       "    </tr>\n",
       "    <tr>\n",
       "      <th>(R, n)</th>\n",
       "      <td>0.000</td>\n",
       "    </tr>\n",
       "    <tr>\n",
       "      <th>(n, L)</th>\n",
       "      <td>0.007</td>\n",
       "    </tr>\n",
       "    <tr>\n",
       "      <th>(n, R)</th>\n",
       "      <td>0.362</td>\n",
       "    </tr>\n",
       "    <tr>\n",
       "      <th>(n, n)</th>\n",
       "      <td>0.000</td>\n",
       "    </tr>\n",
       "  </tbody>\n",
       "</table>\n",
       "</div>"
      ],
      "text/plain": [
       "                                   p(mind|signal)\n",
       "worlds desires intentions actions                \n",
       "LR     1       L          (L, R)            0.042\n",
       "                          (L, n)            0.000\n",
       "                          (R, L)            0.094\n",
       "                          (R, n)            0.000\n",
       "                          (n, L)            0.140\n",
       "                          (n, R)            0.003\n",
       "                          (n, n)            0.000\n",
       "               R          (L, R)            0.109\n",
       "                          (L, n)            0.000\n",
       "                          (R, L)            0.243\n",
       "                          (R, n)            0.000\n",
       "                          (n, L)            0.007\n",
       "                          (n, R)            0.362\n",
       "                          (n, n)            0.000"
      ]
     },
     "execution_count": 8,
     "metadata": {},
     "output_type": "execute_result"
    }
   ],
   "source": [
    "round(getReceiverZero('help'), 3)"
   ]
  },
  {
   "cell_type": "code",
   "execution_count": 9,
   "metadata": {
    "ExecuteTime": {
     "end_time": "2020-03-31T22:45:10.741879Z",
     "start_time": "2020-03-31T22:45:10.650846Z"
    },
    "scrolled": true
   },
   "outputs": [
    {
     "data": {
      "text/html": [
       "<div>\n",
       "<style scoped>\n",
       "    .dataframe tbody tr th:only-of-type {\n",
       "        vertical-align: middle;\n",
       "    }\n",
       "\n",
       "    .dataframe tbody tr th {\n",
       "        vertical-align: top;\n",
       "    }\n",
       "\n",
       "    .dataframe thead th {\n",
       "        text-align: right;\n",
       "    }\n",
       "</style>\n",
       "<table border=\"1\" class=\"dataframe\">\n",
       "  <thead>\n",
       "    <tr style=\"text-align: right;\">\n",
       "      <th></th>\n",
       "      <th>probabilities</th>\n",
       "    </tr>\n",
       "    <tr>\n",
       "      <th>signals</th>\n",
       "      <th></th>\n",
       "    </tr>\n",
       "  </thead>\n",
       "  <tbody>\n",
       "    <tr>\n",
       "      <th>help</th>\n",
       "      <td>0.791951</td>\n",
       "    </tr>\n",
       "    <tr>\n",
       "      <th>null</th>\n",
       "      <td>0.208049</td>\n",
       "    </tr>\n",
       "  </tbody>\n",
       "</table>\n",
       "</div>"
      ],
      "text/plain": [
       "         probabilities\n",
       "signals               \n",
       "help          0.791951\n",
       "null          0.208049"
      ]
     },
     "execution_count": 9,
     "metadata": {},
     "output_type": "execute_result"
    }
   ],
   "source": [
    "getSignalerOne({'worlds':'LR', 'intentions':'L'})"
   ]
  },
  {
   "cell_type": "code",
   "execution_count": 10,
   "metadata": {
    "ExecuteTime": {
     "end_time": "2020-03-31T22:45:10.837763Z",
     "start_time": "2020-03-31T22:45:10.742896Z"
    }
   },
   "outputs": [
    {
     "data": {
      "text/html": [
       "<div>\n",
       "<style scoped>\n",
       "    .dataframe tbody tr th:only-of-type {\n",
       "        vertical-align: middle;\n",
       "    }\n",
       "\n",
       "    .dataframe tbody tr th {\n",
       "        vertical-align: top;\n",
       "    }\n",
       "\n",
       "    .dataframe thead th {\n",
       "        text-align: right;\n",
       "    }\n",
       "</style>\n",
       "<table border=\"1\" class=\"dataframe\">\n",
       "  <thead>\n",
       "    <tr style=\"text-align: right;\">\n",
       "      <th></th>\n",
       "      <th>probabilities</th>\n",
       "    </tr>\n",
       "    <tr>\n",
       "      <th>signals</th>\n",
       "      <th></th>\n",
       "    </tr>\n",
       "  </thead>\n",
       "  <tbody>\n",
       "    <tr>\n",
       "      <th>help</th>\n",
       "      <td>0.382192</td>\n",
       "    </tr>\n",
       "    <tr>\n",
       "      <th>null</th>\n",
       "      <td>0.617808</td>\n",
       "    </tr>\n",
       "  </tbody>\n",
       "</table>\n",
       "</div>"
      ],
      "text/plain": [
       "         probabilities\n",
       "signals               \n",
       "help          0.382192\n",
       "null          0.617808"
      ]
     },
     "execution_count": 10,
     "metadata": {},
     "output_type": "execute_result"
    }
   ],
   "source": [
    "getSignalerOne({'worlds':'LR', 'intentions':'R'})"
   ]
  },
  {
   "cell_type": "markdown",
   "metadata": {},
   "source": [
    "### Plotting for action and goal posterior of null signal and help signal"
   ]
  },
  {
   "cell_type": "markdown",
   "metadata": {},
   "source": [
    "#### Null Signal"
   ]
  },
  {
   "cell_type": "code",
   "execution_count": 11,
   "metadata": {
    "ExecuteTime": {
     "end_time": "2020-03-31T22:45:10.888277Z",
     "start_time": "2020-03-31T22:45:10.839118Z"
    }
   },
   "outputs": [
    {
     "data": {
      "text/html": [
       "<div>\n",
       "<style scoped>\n",
       "    .dataframe tbody tr th:only-of-type {\n",
       "        vertical-align: middle;\n",
       "    }\n",
       "\n",
       "    .dataframe tbody tr th {\n",
       "        vertical-align: top;\n",
       "    }\n",
       "\n",
       "    .dataframe thead th {\n",
       "        text-align: right;\n",
       "    }\n",
       "</style>\n",
       "<table border=\"1\" class=\"dataframe\">\n",
       "  <thead>\n",
       "    <tr style=\"text-align: right;\">\n",
       "      <th></th>\n",
       "      <th>p(mind|signal)</th>\n",
       "    </tr>\n",
       "    <tr>\n",
       "      <th>actions</th>\n",
       "      <th></th>\n",
       "    </tr>\n",
       "  </thead>\n",
       "  <tbody>\n",
       "    <tr>\n",
       "      <th>(L, R)</th>\n",
       "      <td>0.000000</td>\n",
       "    </tr>\n",
       "    <tr>\n",
       "      <th>(L, n)</th>\n",
       "      <td>0.148413</td>\n",
       "    </tr>\n",
       "    <tr>\n",
       "      <th>(R, L)</th>\n",
       "      <td>0.000000</td>\n",
       "    </tr>\n",
       "    <tr>\n",
       "      <th>(R, n)</th>\n",
       "      <td>0.820703</td>\n",
       "    </tr>\n",
       "    <tr>\n",
       "      <th>(n, L)</th>\n",
       "      <td>0.000000</td>\n",
       "    </tr>\n",
       "    <tr>\n",
       "      <th>(n, R)</th>\n",
       "      <td>0.000000</td>\n",
       "    </tr>\n",
       "    <tr>\n",
       "      <th>(n, n)</th>\n",
       "      <td>0.030884</td>\n",
       "    </tr>\n",
       "  </tbody>\n",
       "</table>\n",
       "</div>"
      ],
      "text/plain": [
       "         p(mind|signal)\n",
       "actions                \n",
       "(L, R)         0.000000\n",
       "(L, n)         0.148413\n",
       "(R, L)         0.000000\n",
       "(R, n)         0.820703\n",
       "(n, L)         0.000000\n",
       "(n, R)         0.000000\n",
       "(n, n)         0.030884"
      ]
     },
     "execution_count": 11,
     "metadata": {},
     "output_type": "execute_result"
    }
   ],
   "source": [
    "actionPosterior = pd.DataFrame(getReceiverZero('null').groupby(level=['actions']).sum())\n",
    "actionPosterior"
   ]
  },
  {
   "cell_type": "code",
   "execution_count": 12,
   "metadata": {
    "ExecuteTime": {
     "end_time": "2020-03-31T22:45:10.938681Z",
     "start_time": "2020-03-31T22:45:10.889518Z"
    }
   },
   "outputs": [
    {
     "data": {
      "text/html": [
       "<div>\n",
       "<style scoped>\n",
       "    .dataframe tbody tr th:only-of-type {\n",
       "        vertical-align: middle;\n",
       "    }\n",
       "\n",
       "    .dataframe tbody tr th {\n",
       "        vertical-align: top;\n",
       "    }\n",
       "\n",
       "    .dataframe thead th {\n",
       "        text-align: right;\n",
       "    }\n",
       "</style>\n",
       "<table border=\"1\" class=\"dataframe\">\n",
       "  <thead>\n",
       "    <tr style=\"text-align: right;\">\n",
       "      <th></th>\n",
       "      <th>p(mind|signal)</th>\n",
       "    </tr>\n",
       "    <tr>\n",
       "      <th>intentions</th>\n",
       "      <th></th>\n",
       "    </tr>\n",
       "  </thead>\n",
       "  <tbody>\n",
       "    <tr>\n",
       "      <th>L</th>\n",
       "      <td>0.1561</td>\n",
       "    </tr>\n",
       "    <tr>\n",
       "      <th>R</th>\n",
       "      <td>0.8439</td>\n",
       "    </tr>\n",
       "  </tbody>\n",
       "</table>\n",
       "</div>"
      ],
      "text/plain": [
       "            p(mind|signal)\n",
       "intentions                \n",
       "L                   0.1561\n",
       "R                   0.8439"
      ]
     },
     "execution_count": 12,
     "metadata": {},
     "output_type": "execute_result"
    }
   ],
   "source": [
    "goalPosterior = getReceiverZero('null').groupby(level=['intentions']).sum()\n",
    "goalPosterior"
   ]
  },
  {
   "cell_type": "code",
   "execution_count": 13,
   "metadata": {
    "ExecuteTime": {
     "end_time": "2020-03-31T22:45:11.040480Z",
     "start_time": "2020-03-31T22:45:10.939713Z"
    },
    "scrolled": false
   },
   "outputs": [
    {
     "data": {
      "image/png": "[encoded data removed]",
      "text/plain": [
       "<Figure size 432x288 with 1 Axes>"
      ]
     },
     "metadata": {
      "needs_background": "light"
     },
     "output_type": "display_data"
    }
   ],
   "source": [
    "goalPosterior.plot.bar(title = 'Intention Posterior for null signal')\n",
    "plt.show()"
   ]
  },
  {
   "cell_type": "code",
   "execution_count": 14,
   "metadata": {
    "ExecuteTime": {
     "end_time": "2020-03-31T22:45:11.132260Z",
     "start_time": "2020-03-31T22:45:11.041640Z"
    }
   },
   "outputs": [
    {
     "data": {
      "image/png": "[encoded data removed]",
      "text/plain": [
       "<Figure size 432x288 with 1 Axes>"
      ]
     },
     "metadata": {
      "needs_background": "light"
     },
     "output_type": "display_data"
    }
   ],
   "source": [
    "actionPosterior.plot.bar(title = 'Action Posterior for null signal')\n",
    "plt.show()"
   ]
  },
  {
   "cell_type": "code",
   "execution_count": 15,
   "metadata": {
    "ExecuteTime": {
     "end_time": "2020-03-31T22:45:11.135768Z",
     "start_time": "2020-03-31T22:45:11.133933Z"
    }
   },
   "outputs": [],
   "source": [
    "#### Help Signal"
   ]
  },
  {
   "cell_type": "code",
   "execution_count": 16,
   "metadata": {
    "ExecuteTime": {
     "end_time": "2020-03-31T22:45:11.183602Z",
     "start_time": "2020-03-31T22:45:11.137038Z"
    }
   },
   "outputs": [
    {
     "data": {
      "text/html": [
       "<div>\n",
       "<style scoped>\n",
       "    .dataframe tbody tr th:only-of-type {\n",
       "        vertical-align: middle;\n",
       "    }\n",
       "\n",
       "    .dataframe tbody tr th {\n",
       "        vertical-align: top;\n",
       "    }\n",
       "\n",
       "    .dataframe thead th {\n",
       "        text-align: right;\n",
       "    }\n",
       "</style>\n",
       "<table border=\"1\" class=\"dataframe\">\n",
       "  <thead>\n",
       "    <tr style=\"text-align: right;\">\n",
       "      <th></th>\n",
       "      <th>p(mind|signal)</th>\n",
       "    </tr>\n",
       "    <tr>\n",
       "      <th>actions</th>\n",
       "      <th></th>\n",
       "    </tr>\n",
       "  </thead>\n",
       "  <tbody>\n",
       "    <tr>\n",
       "      <th>(L, R)</th>\n",
       "      <td>0.151367</td>\n",
       "    </tr>\n",
       "    <tr>\n",
       "      <th>(L, n)</th>\n",
       "      <td>0.000000</td>\n",
       "    </tr>\n",
       "    <tr>\n",
       "      <th>(R, L)</th>\n",
       "      <td>0.336873</td>\n",
       "    </tr>\n",
       "    <tr>\n",
       "      <th>(R, n)</th>\n",
       "      <td>0.000000</td>\n",
       "    </tr>\n",
       "    <tr>\n",
       "      <th>(n, L)</th>\n",
       "      <td>0.146858</td>\n",
       "    </tr>\n",
       "    <tr>\n",
       "      <th>(n, R)</th>\n",
       "      <td>0.364902</td>\n",
       "    </tr>\n",
       "    <tr>\n",
       "      <th>(n, n)</th>\n",
       "      <td>0.000000</td>\n",
       "    </tr>\n",
       "  </tbody>\n",
       "</table>\n",
       "</div>"
      ],
      "text/plain": [
       "         p(mind|signal)\n",
       "actions                \n",
       "(L, R)         0.151367\n",
       "(L, n)         0.000000\n",
       "(R, L)         0.336873\n",
       "(R, n)         0.000000\n",
       "(n, L)         0.146858\n",
       "(n, R)         0.364902\n",
       "(n, n)         0.000000"
      ]
     },
     "execution_count": 16,
     "metadata": {},
     "output_type": "execute_result"
    }
   ],
   "source": [
    "actionPosteriorHelp = pd.DataFrame(getReceiverZero('help').groupby(level=['actions']).sum())\n",
    "actionPosteriorHelp"
   ]
  },
  {
   "cell_type": "code",
   "execution_count": 17,
   "metadata": {
    "ExecuteTime": {
     "end_time": "2020-03-31T22:45:11.232338Z",
     "start_time": "2020-03-31T22:45:11.184919Z"
    }
   },
   "outputs": [
    {
     "data": {
      "text/html": [
       "<div>\n",
       "<style scoped>\n",
       "    .dataframe tbody tr th:only-of-type {\n",
       "        vertical-align: middle;\n",
       "    }\n",
       "\n",
       "    .dataframe tbody tr th {\n",
       "        vertical-align: top;\n",
       "    }\n",
       "\n",
       "    .dataframe thead th {\n",
       "        text-align: right;\n",
       "    }\n",
       "</style>\n",
       "<table border=\"1\" class=\"dataframe\">\n",
       "  <thead>\n",
       "    <tr style=\"text-align: right;\">\n",
       "      <th></th>\n",
       "      <th>p(mind|signal)</th>\n",
       "    </tr>\n",
       "    <tr>\n",
       "      <th>intentions</th>\n",
       "      <th></th>\n",
       "    </tr>\n",
       "  </thead>\n",
       "  <tbody>\n",
       "    <tr>\n",
       "      <th>L</th>\n",
       "      <td>0.279018</td>\n",
       "    </tr>\n",
       "    <tr>\n",
       "      <th>R</th>\n",
       "      <td>0.720982</td>\n",
       "    </tr>\n",
       "  </tbody>\n",
       "</table>\n",
       "</div>"
      ],
      "text/plain": [
       "            p(mind|signal)\n",
       "intentions                \n",
       "L                 0.279018\n",
       "R                 0.720982"
      ]
     },
     "execution_count": 17,
     "metadata": {},
     "output_type": "execute_result"
    }
   ],
   "source": [
    "goalPosteriorHelp = getReceiverZero('help').groupby(level=['intentions']).sum()\n",
    "goalPosteriorHelp"
   ]
  },
  {
   "cell_type": "code",
   "execution_count": 18,
   "metadata": {
    "ExecuteTime": {
     "end_time": "2020-03-31T22:45:11.308028Z",
     "start_time": "2020-03-31T22:45:11.233602Z"
    }
   },
   "outputs": [
    {
     "data": {
      "image/png": "[encoded data removed]",
      "text/plain": [
       "<Figure size 432x288 with 1 Axes>"
      ]
     },
     "metadata": {
      "needs_background": "light"
     },
     "output_type": "display_data"
    }
   ],
   "source": [
    "goalPosteriorHelp.plot.bar(title = 'Intention Posterior for help signal')\n",
    "plt.show()"
   ]
  },
  {
   "cell_type": "code",
   "execution_count": 19,
   "metadata": {
    "ExecuteTime": {
     "end_time": "2020-03-31T22:45:11.398432Z",
     "start_time": "2020-03-31T22:45:11.309252Z"
    }
   },
   "outputs": [
    {
     "data": {
      "image/png": "[encoded data removed]",
      "text/plain": [
       "<Figure size 432x288 with 1 Axes>"
      ]
     },
     "metadata": {
      "needs_background": "light"
     },
     "output_type": "display_data"
    }
   ],
   "source": [
    "actionPosteriorHelp.plot.bar(title = 'Action Posterior for help signal')\n",
    "plt.show()"
   ]
  },
  {
   "cell_type": "code",
   "execution_count": 20,
   "metadata": {
    "ExecuteTime": {
     "end_time": "2020-03-31T22:45:11.402747Z",
     "start_time": "2020-03-31T22:45:11.399618Z"
    }
   },
   "outputs": [],
   "source": [
    "dict_actionPosterior = actionPosteriorHelp.T.to_dict()\n",
    "you_actionPosterior = {'R':0, 'L':0, 'n':0}\n",
    "for key, value in dict_actionPosterior.items():\n",
    "    you_actionPosterior[key[1]] = you_actionPosterior[key[1]] + value['p(mind|signal)']"
   ]
  },
  {
   "cell_type": "code",
   "execution_count": 21,
   "metadata": {
    "ExecuteTime": {
     "end_time": "2020-03-31T22:45:11.477174Z",
     "start_time": "2020-03-31T22:45:11.404185Z"
    }
   },
   "outputs": [
    {
     "data": {
      "image/png": "[encoded data removed]",
      "text/plain": [
       "<Figure size 432x288 with 1 Axes>"
      ]
     },
     "metadata": {
      "needs_background": "light"
     },
     "output_type": "display_data"
    }
   ],
   "source": [
    "plt.bar(range(len(you_actionPosterior)), list(you_actionPosterior.values()), align='center')\n",
    "plt.xticks(range(len(you_actionPosterior)), list(you_actionPosterior.keys()))\n",
    "plt.show()"
   ]
  },
  {
   "cell_type": "markdown",
   "metadata": {},
   "source": [
    "## Hands Occupied"
   ]
  },
  {
   "cell_type": "code",
   "execution_count": 22,
   "metadata": {
    "ExecuteTime": {
     "end_time": "2020-03-31T22:45:11.737517Z",
     "start_time": "2020-03-31T22:45:11.478420Z"
    }
   },
   "outputs": [],
   "source": [
    "#parameters consistent across conditions defined as a very high cost of action (alternatively, could simply restrict the action space)\n",
    "costD = [{'L':-50, 'R':-50, 'n':0},{'L':-2, 'R':-2, 'n':0}]\n",
    "rewardValue = 10\n",
    "getUtility = ActionUtility_Grosse(costD, rewardValue)\n",
    "\n",
    "a = .4\n",
    "getActionPDF = ActionDistributionGivenWorldGoal_Grosse(alpha = a, actionUtilityFunction=getUtility, softmax=True)\n",
    "\n",
    "getMind = GenerateMind(getWorldProbabiltiy_Uniform, getDesireProbability_Uniform, getGoalGivenWorldAndDesire_Grosse, getActionPDF)\n",
    "\n",
    "handsFreeCondition = {'worlds': ['LR'], 'desires': [1], 'intentions': ['L', 'R'], 'actions': [('n', 'n'), ('L', 'n'), ('R', 'n'), ('n', 'L'), ('n', 'R'), ('L', 'R'), ('R', 'L')]}\n",
    "signalCategoryPrior = {'1':1}\n",
    "signalSpace = ['help', 'null']\n",
    "\n",
    "getGenerativeSignaler = SignalerZero(signalSpace, signalIsConsistent_Grosse)\n",
    "getReceiverZero = ReceiverZero(commonGroundDictionary=handsFreeCondition, constructMind=getMind, getSignalerZero=getGenerativeSignaler, signalCategoryPrior=signalCategoryPrior)\n",
    "getSignalerOne = SignalerOne(a, signalSpace, getUtility, getReceiverZero)\n"
   ]
  },
  {
   "cell_type": "code",
   "execution_count": 23,
   "metadata": {
    "ExecuteTime": {
     "end_time": "2020-03-31T22:45:11.795002Z",
     "start_time": "2020-03-31T22:45:11.741463Z"
    }
   },
   "outputs": [
    {
     "data": {
      "text/html": [
       "<div>\n",
       "<style scoped>\n",
       "    .dataframe tbody tr th:only-of-type {\n",
       "        vertical-align: middle;\n",
       "    }\n",
       "\n",
       "    .dataframe tbody tr th {\n",
       "        vertical-align: top;\n",
       "    }\n",
       "\n",
       "    .dataframe thead th {\n",
       "        text-align: right;\n",
       "    }\n",
       "</style>\n",
       "<table border=\"1\" class=\"dataframe\">\n",
       "  <thead>\n",
       "    <tr style=\"text-align: right;\">\n",
       "      <th></th>\n",
       "      <th></th>\n",
       "      <th></th>\n",
       "      <th></th>\n",
       "      <th>p(mind|signal)</th>\n",
       "    </tr>\n",
       "    <tr>\n",
       "      <th>worlds</th>\n",
       "      <th>desires</th>\n",
       "      <th>intentions</th>\n",
       "      <th>actions</th>\n",
       "      <th></th>\n",
       "    </tr>\n",
       "  </thead>\n",
       "  <tbody>\n",
       "    <tr>\n",
       "      <th rowspan=\"14\" valign=\"top\">LR</th>\n",
       "      <th rowspan=\"14\" valign=\"top\">1</th>\n",
       "      <th rowspan=\"7\" valign=\"top\">L</th>\n",
       "      <th>(L, R)</th>\n",
       "      <td>0.000</td>\n",
       "    </tr>\n",
       "    <tr>\n",
       "      <th>(L, n)</th>\n",
       "      <td>0.000</td>\n",
       "    </tr>\n",
       "    <tr>\n",
       "      <th>(R, L)</th>\n",
       "      <td>0.000</td>\n",
       "    </tr>\n",
       "    <tr>\n",
       "      <th>(R, n)</th>\n",
       "      <td>0.000</td>\n",
       "    </tr>\n",
       "    <tr>\n",
       "      <th>(n, L)</th>\n",
       "      <td>0.491</td>\n",
       "    </tr>\n",
       "    <tr>\n",
       "      <th>(n, R)</th>\n",
       "      <td>0.009</td>\n",
       "    </tr>\n",
       "    <tr>\n",
       "      <th>(n, n)</th>\n",
       "      <td>0.000</td>\n",
       "    </tr>\n",
       "    <tr>\n",
       "      <th rowspan=\"7\" valign=\"top\">R</th>\n",
       "      <th>(L, R)</th>\n",
       "      <td>0.000</td>\n",
       "    </tr>\n",
       "    <tr>\n",
       "      <th>(L, n)</th>\n",
       "      <td>0.000</td>\n",
       "    </tr>\n",
       "    <tr>\n",
       "      <th>(R, L)</th>\n",
       "      <td>0.000</td>\n",
       "    </tr>\n",
       "    <tr>\n",
       "      <th>(R, n)</th>\n",
       "      <td>0.000</td>\n",
       "    </tr>\n",
       "    <tr>\n",
       "      <th>(n, L)</th>\n",
       "      <td>0.009</td>\n",
       "    </tr>\n",
       "    <tr>\n",
       "      <th>(n, R)</th>\n",
       "      <td>0.491</td>\n",
       "    </tr>\n",
       "    <tr>\n",
       "      <th>(n, n)</th>\n",
       "      <td>0.000</td>\n",
       "    </tr>\n",
       "  </tbody>\n",
       "</table>\n",
       "</div>"
      ],
      "text/plain": [
       "                                   p(mind|signal)\n",
       "worlds desires intentions actions                \n",
       "LR     1       L          (L, R)            0.000\n",
       "                          (L, n)            0.000\n",
       "                          (R, L)            0.000\n",
       "                          (R, n)            0.000\n",
       "                          (n, L)            0.491\n",
       "                          (n, R)            0.009\n",
       "                          (n, n)            0.000\n",
       "               R          (L, R)            0.000\n",
       "                          (L, n)            0.000\n",
       "                          (R, L)            0.000\n",
       "                          (R, n)            0.000\n",
       "                          (n, L)            0.009\n",
       "                          (n, R)            0.491\n",
       "                          (n, n)            0.000"
      ]
     },
     "execution_count": 23,
     "metadata": {},
     "output_type": "execute_result"
    }
   ],
   "source": [
    "round(getReceiverZero('help'),3)"
   ]
  },
  {
   "cell_type": "code",
   "execution_count": 24,
   "metadata": {
    "ExecuteTime": {
     "end_time": "2020-03-31T22:45:11.843962Z",
     "start_time": "2020-03-31T22:45:11.796012Z"
    }
   },
   "outputs": [
    {
     "data": {
      "text/html": [
       "<div>\n",
       "<style scoped>\n",
       "    .dataframe tbody tr th:only-of-type {\n",
       "        vertical-align: middle;\n",
       "    }\n",
       "\n",
       "    .dataframe tbody tr th {\n",
       "        vertical-align: top;\n",
       "    }\n",
       "\n",
       "    .dataframe thead th {\n",
       "        text-align: right;\n",
       "    }\n",
       "</style>\n",
       "<table border=\"1\" class=\"dataframe\">\n",
       "  <thead>\n",
       "    <tr style=\"text-align: right;\">\n",
       "      <th></th>\n",
       "      <th></th>\n",
       "      <th></th>\n",
       "      <th></th>\n",
       "      <th>p(mind|signal)</th>\n",
       "    </tr>\n",
       "    <tr>\n",
       "      <th>worlds</th>\n",
       "      <th>desires</th>\n",
       "      <th>intentions</th>\n",
       "      <th>actions</th>\n",
       "      <th></th>\n",
       "    </tr>\n",
       "  </thead>\n",
       "  <tbody>\n",
       "    <tr>\n",
       "      <th rowspan=\"14\" valign=\"top\">LR</th>\n",
       "      <th rowspan=\"14\" valign=\"top\">1</th>\n",
       "      <th rowspan=\"7\" valign=\"top\">L</th>\n",
       "      <th>(L, R)</th>\n",
       "      <td>0.0</td>\n",
       "    </tr>\n",
       "    <tr>\n",
       "      <th>(L, n)</th>\n",
       "      <td>0.0</td>\n",
       "    </tr>\n",
       "    <tr>\n",
       "      <th>(R, L)</th>\n",
       "      <td>0.0</td>\n",
       "    </tr>\n",
       "    <tr>\n",
       "      <th>(R, n)</th>\n",
       "      <td>0.0</td>\n",
       "    </tr>\n",
       "    <tr>\n",
       "      <th>(n, L)</th>\n",
       "      <td>0.0</td>\n",
       "    </tr>\n",
       "    <tr>\n",
       "      <th>(n, R)</th>\n",
       "      <td>0.0</td>\n",
       "    </tr>\n",
       "    <tr>\n",
       "      <th>(n, n)</th>\n",
       "      <td>0.5</td>\n",
       "    </tr>\n",
       "    <tr>\n",
       "      <th rowspan=\"7\" valign=\"top\">R</th>\n",
       "      <th>(L, R)</th>\n",
       "      <td>0.0</td>\n",
       "    </tr>\n",
       "    <tr>\n",
       "      <th>(L, n)</th>\n",
       "      <td>0.0</td>\n",
       "    </tr>\n",
       "    <tr>\n",
       "      <th>(R, L)</th>\n",
       "      <td>0.0</td>\n",
       "    </tr>\n",
       "    <tr>\n",
       "      <th>(R, n)</th>\n",
       "      <td>0.0</td>\n",
       "    </tr>\n",
       "    <tr>\n",
       "      <th>(n, L)</th>\n",
       "      <td>0.0</td>\n",
       "    </tr>\n",
       "    <tr>\n",
       "      <th>(n, R)</th>\n",
       "      <td>0.0</td>\n",
       "    </tr>\n",
       "    <tr>\n",
       "      <th>(n, n)</th>\n",
       "      <td>0.5</td>\n",
       "    </tr>\n",
       "  </tbody>\n",
       "</table>\n",
       "</div>"
      ],
      "text/plain": [
       "                                   p(mind|signal)\n",
       "worlds desires intentions actions                \n",
       "LR     1       L          (L, R)              0.0\n",
       "                          (L, n)              0.0\n",
       "                          (R, L)              0.0\n",
       "                          (R, n)              0.0\n",
       "                          (n, L)              0.0\n",
       "                          (n, R)              0.0\n",
       "                          (n, n)              0.5\n",
       "               R          (L, R)              0.0\n",
       "                          (L, n)              0.0\n",
       "                          (R, L)              0.0\n",
       "                          (R, n)              0.0\n",
       "                          (n, L)              0.0\n",
       "                          (n, R)              0.0\n",
       "                          (n, n)              0.5"
      ]
     },
     "execution_count": 24,
     "metadata": {},
     "output_type": "execute_result"
    }
   ],
   "source": [
    "round(getReceiverZero('null'),3)"
   ]
  },
  {
   "cell_type": "code",
   "execution_count": 25,
   "metadata": {
    "ExecuteTime": {
     "end_time": "2020-03-31T22:45:11.943684Z",
     "start_time": "2020-03-31T22:45:11.845960Z"
    }
   },
   "outputs": [
    {
     "data": {
      "text/html": [
       "<div>\n",
       "<style scoped>\n",
       "    .dataframe tbody tr th:only-of-type {\n",
       "        vertical-align: middle;\n",
       "    }\n",
       "\n",
       "    .dataframe tbody tr th {\n",
       "        vertical-align: top;\n",
       "    }\n",
       "\n",
       "    .dataframe thead th {\n",
       "        text-align: right;\n",
       "    }\n",
       "</style>\n",
       "<table border=\"1\" class=\"dataframe\">\n",
       "  <thead>\n",
       "    <tr style=\"text-align: right;\">\n",
       "      <th></th>\n",
       "      <th>probabilities</th>\n",
       "    </tr>\n",
       "    <tr>\n",
       "      <th>signals</th>\n",
       "      <th></th>\n",
       "    </tr>\n",
       "  </thead>\n",
       "  <tbody>\n",
       "    <tr>\n",
       "      <th>help</th>\n",
       "      <td>0.768525</td>\n",
       "    </tr>\n",
       "    <tr>\n",
       "      <th>null</th>\n",
       "      <td>0.231475</td>\n",
       "    </tr>\n",
       "  </tbody>\n",
       "</table>\n",
       "</div>"
      ],
      "text/plain": [
       "         probabilities\n",
       "signals               \n",
       "help          0.768525\n",
       "null          0.231475"
      ]
     },
     "execution_count": 25,
     "metadata": {},
     "output_type": "execute_result"
    }
   ],
   "source": [
    "getSignalerOne({'worlds':'LR', 'intentions':'L'})"
   ]
  },
  {
   "cell_type": "code",
   "execution_count": 26,
   "metadata": {
    "ExecuteTime": {
     "end_time": "2020-03-31T22:45:12.043806Z",
     "start_time": "2020-03-31T22:45:11.944524Z"
    }
   },
   "outputs": [
    {
     "data": {
      "text/html": [
       "<div>\n",
       "<style scoped>\n",
       "    .dataframe tbody tr th:only-of-type {\n",
       "        vertical-align: middle;\n",
       "    }\n",
       "\n",
       "    .dataframe tbody tr th {\n",
       "        vertical-align: top;\n",
       "    }\n",
       "\n",
       "    .dataframe thead th {\n",
       "        text-align: right;\n",
       "    }\n",
       "</style>\n",
       "<table border=\"1\" class=\"dataframe\">\n",
       "  <thead>\n",
       "    <tr style=\"text-align: right;\">\n",
       "      <th></th>\n",
       "      <th>probabilities</th>\n",
       "    </tr>\n",
       "    <tr>\n",
       "      <th>signals</th>\n",
       "      <th></th>\n",
       "    </tr>\n",
       "  </thead>\n",
       "  <tbody>\n",
       "    <tr>\n",
       "      <th>help</th>\n",
       "      <td>0.768525</td>\n",
       "    </tr>\n",
       "    <tr>\n",
       "      <th>null</th>\n",
       "      <td>0.231475</td>\n",
       "    </tr>\n",
       "  </tbody>\n",
       "</table>\n",
       "</div>"
      ],
      "text/plain": [
       "         probabilities\n",
       "signals               \n",
       "help          0.768525\n",
       "null          0.231475"
      ]
     },
     "execution_count": 26,
     "metadata": {},
     "output_type": "execute_result"
    }
   ],
   "source": [
    "getSignalerOne({'worlds':'LR', 'intentions':'R'})"
   ]
  },
  {
   "cell_type": "markdown",
   "metadata": {},
   "source": [
    "## Hands Occupied Condition Represented as a Restriction to the Action Space"
   ]
  },
  {
   "cell_type": "code",
   "execution_count": 27,
   "metadata": {
    "ExecuteTime": {
     "end_time": "2020-03-31T22:45:12.294328Z",
     "start_time": "2020-03-31T22:45:12.045242Z"
    }
   },
   "outputs": [],
   "source": [
    "#parameters consistent across conditions defined as a very high cost of action (alternatively, could simply restrict the action space)\n",
    "costD = [{'L':-3, 'R':-1, 'n':0},{'L':-2, 'R':-2, 'n':0}]\n",
    "rewardValue = 10\n",
    "getUtility = ActionUtility_Grosse(costD, rewardValue)\n",
    "\n",
    "a = .4\n",
    "getActionPDF = ActionDistributionGivenWorldGoal_Grosse(alpha = a, actionUtilityFunction=getUtility, softmax=False)\n",
    "\n",
    "getMind = GenerateMind(getWorldProbabiltiy_Uniform, getDesireProbability_Uniform, getGoalGivenWorldAndDesire_Grosse, getActionPDF)\n",
    "\n",
    "handsFreeCondition = {'worlds': ['LR'], 'desires': [1], 'intentions': ['n', 'L', 'R', 'LR'], 'actions': [('n', 'n'), ('n', 'L'), ('n', 'R')]}\n",
    "signalCategoryPrior = {'1':1}\n",
    "signalSpace = ['help', 'null']\n",
    "\n",
    "getGenerativeSignaler = SignalerZero(signalSpace, signalIsConsistent_Grosse)\n",
    "getReceiverZero = ReceiverZero(commonGroundDictionary=handsFreeCondition, constructMind=getMind, getSignalerZero=getGenerativeSignaler, signalCategoryPrior=signalCategoryPrior)\n",
    "getSignalerOne = SignalerOne(a, signalSpace, getUtility, getReceiverZero)\n"
   ]
  },
  {
   "cell_type": "code",
   "execution_count": 28,
   "metadata": {
    "ExecuteTime": {
     "end_time": "2020-03-31T22:45:12.344961Z",
     "start_time": "2020-03-31T22:45:12.296032Z"
    }
   },
   "outputs": [
    {
     "data": {
      "text/html": [
       "<div>\n",
       "<style scoped>\n",
       "    .dataframe tbody tr th:only-of-type {\n",
       "        vertical-align: middle;\n",
       "    }\n",
       "\n",
       "    .dataframe tbody tr th {\n",
       "        vertical-align: top;\n",
       "    }\n",
       "\n",
       "    .dataframe thead th {\n",
       "        text-align: right;\n",
       "    }\n",
       "</style>\n",
       "<table border=\"1\" class=\"dataframe\">\n",
       "  <thead>\n",
       "    <tr style=\"text-align: right;\">\n",
       "      <th></th>\n",
       "      <th></th>\n",
       "      <th></th>\n",
       "      <th></th>\n",
       "      <th>p(mind|signal)</th>\n",
       "    </tr>\n",
       "    <tr>\n",
       "      <th>worlds</th>\n",
       "      <th>desires</th>\n",
       "      <th>intentions</th>\n",
       "      <th>actions</th>\n",
       "      <th></th>\n",
       "    </tr>\n",
       "  </thead>\n",
       "  <tbody>\n",
       "    <tr>\n",
       "      <th rowspan=\"12\" valign=\"top\">LR</th>\n",
       "      <th rowspan=\"12\" valign=\"top\">1</th>\n",
       "      <th rowspan=\"3\" valign=\"top\">L</th>\n",
       "      <th>(n, L)</th>\n",
       "      <td>0.0</td>\n",
       "    </tr>\n",
       "    <tr>\n",
       "      <th>(n, R)</th>\n",
       "      <td>0.0</td>\n",
       "    </tr>\n",
       "    <tr>\n",
       "      <th>(n, n)</th>\n",
       "      <td>0.0</td>\n",
       "    </tr>\n",
       "    <tr>\n",
       "      <th rowspan=\"3\" valign=\"top\">LR</th>\n",
       "      <th>(n, L)</th>\n",
       "      <td>0.0</td>\n",
       "    </tr>\n",
       "    <tr>\n",
       "      <th>(n, R)</th>\n",
       "      <td>0.0</td>\n",
       "    </tr>\n",
       "    <tr>\n",
       "      <th>(n, n)</th>\n",
       "      <td>0.0</td>\n",
       "    </tr>\n",
       "    <tr>\n",
       "      <th rowspan=\"3\" valign=\"top\">R</th>\n",
       "      <th>(n, L)</th>\n",
       "      <td>0.0</td>\n",
       "    </tr>\n",
       "    <tr>\n",
       "      <th>(n, R)</th>\n",
       "      <td>0.0</td>\n",
       "    </tr>\n",
       "    <tr>\n",
       "      <th>(n, n)</th>\n",
       "      <td>0.0</td>\n",
       "    </tr>\n",
       "    <tr>\n",
       "      <th rowspan=\"3\" valign=\"top\">n</th>\n",
       "      <th>(n, L)</th>\n",
       "      <td>0.0</td>\n",
       "    </tr>\n",
       "    <tr>\n",
       "      <th>(n, R)</th>\n",
       "      <td>0.0</td>\n",
       "    </tr>\n",
       "    <tr>\n",
       "      <th>(n, n)</th>\n",
       "      <td>1.0</td>\n",
       "    </tr>\n",
       "  </tbody>\n",
       "</table>\n",
       "</div>"
      ],
      "text/plain": [
       "                                   p(mind|signal)\n",
       "worlds desires intentions actions                \n",
       "LR     1       L          (n, L)              0.0\n",
       "                          (n, R)              0.0\n",
       "                          (n, n)              0.0\n",
       "               LR         (n, L)              0.0\n",
       "                          (n, R)              0.0\n",
       "                          (n, n)              0.0\n",
       "               R          (n, L)              0.0\n",
       "                          (n, R)              0.0\n",
       "                          (n, n)              0.0\n",
       "               n          (n, L)              0.0\n",
       "                          (n, R)              0.0\n",
       "                          (n, n)              1.0"
      ]
     },
     "execution_count": 28,
     "metadata": {},
     "output_type": "execute_result"
    }
   ],
   "source": [
    "getReceiverZero('null')"
   ]
  },
  {
   "cell_type": "code",
   "execution_count": null,
   "metadata": {},
   "outputs": [],
   "source": []
  },
  {
   "cell_type": "code",
   "execution_count": null,
   "metadata": {},
   "outputs": [],
   "source": []
  }
 ],
 "metadata": {
  "kernelspec": {
   "display_name": "Python 3",
   "language": "python",
   "name": "python3"
  },
  "language_info": {
   "codemirror_mode": {
    "name": "ipython",
    "version": 3
   },
   "file_extension": ".py",
   "mimetype": "text/x-python",
   "name": "python",
   "nbconvert_exporter": "python",
   "pygments_lexer": "ipython3",
   "version": "3.5.6"
  },
  "toc": {
   "base_numbering": 1,
   "nav_menu": {},
   "number_sections": true,
   "sideBar": false,
   "skip_h1_title": false,
   "title_cell": "Table of Contents",
   "title_sidebar": "Contents",
   "toc_cell": false,
   "toc_position": {
    "height": "1465.42px",
    "left": "49px",
    "top": "110.883px",
    "width": "198px"
   },
   "toc_section_display": false,
   "toc_window_display": true
  }
 },
 "nbformat": 4,
 "nbformat_minor": 2
}
