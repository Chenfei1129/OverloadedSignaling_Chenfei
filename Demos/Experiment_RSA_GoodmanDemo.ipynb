{
 "cells": [
  {
   "cell_type": "markdown",
   "metadata": {},
   "source": [
    "# RSA Implementation"
   ]
  },
  {
   "cell_type": "code",
   "execution_count": 1,
   "metadata": {
    "ExecuteTime": {
     "end_time": "2020-06-30T18:55:19.034651Z",
     "start_time": "2020-06-30T18:55:18.857989Z"
    }
   },
   "outputs": [],
   "source": [
    "import sys\n",
    "import numpy as np\n",
    "import pandas as pd\n",
    "\n",
    "%load_ext autoreload\n",
    "%autoreload 2"
   ]
  },
  {
   "cell_type": "code",
   "execution_count": 2,
   "metadata": {
    "ExecuteTime": {
     "end_time": "2020-06-30T18:55:19.301542Z",
     "start_time": "2020-06-30T18:55:19.035678Z"
    }
   },
   "outputs": [],
   "source": [
    "sys.path.append('/home/stacyste/Documents/Research/OverloadedSignaling/Algorithms/RSA')\n",
    "from RSAClassical import *\n",
    "from SetupRSAInference import *\n",
    "from visualizationRSA import *\n",
    "\n",
    "sys.path.append('/home/stacyste/Documents/Research/OverloadedSignaling/Environments/Experiment')\n",
    "from visualizations_Experiment import visualizeExperimentTrial"
   ]
  },
  {
   "cell_type": "markdown",
   "metadata": {},
   "source": [
    "# Goodman and Frank Example\n",
    "- Follows the example from problang.org \"Introducing the Rational Speech Act Framework\""
   ]
  },
  {
   "cell_type": "code",
   "execution_count": 20,
   "metadata": {
    "ExecuteTime": {
     "end_time": "2020-06-30T18:59:50.131373Z",
     "start_time": "2020-06-30T18:59:50.120042Z"
    }
   },
   "outputs": [],
   "source": [
    "objects = ['blue square', 'blue circle', 'green square']\n",
    "objectPrior = {item : 1.0/3 for item in objects}\n",
    "\n",
    "utterances = ['blue','green', 'circle', 'square']\n",
    "lambdaRationality = 2\n",
    "\n",
    "getListener0 = LiteralListener(objectPrior, consistencyLexiconRSA_Experiment)\n",
    "\n",
    "getPragmaticSpeaker = PragmaticSpeaker(getListener=getListener0, \n",
    "                                                messageSet=utterances, \n",
    "                                                messageCostFunction = costOfMessage, \n",
    "                                                lambdaRationalityParameter = lambdaRationality)\n",
    "\n",
    "getPragmaticListener  = PragmaticListener(getSpeaker=getPragmaticSpeaker, \n",
    "                                                      targetPrior=objectPrior)"
   ]
  },
  {
   "cell_type": "code",
   "execution_count": 21,
   "metadata": {
    "ExecuteTime": {
     "end_time": "2020-06-30T18:59:51.315071Z",
     "start_time": "2020-06-30T18:59:51.302076Z"
    }
   },
   "outputs": [
    {
     "data": {
      "text/html": [
       "<div>\n",
       "<style scoped>\n",
       "    .dataframe tbody tr th:only-of-type {\n",
       "        vertical-align: middle;\n",
       "    }\n",
       "\n",
       "    .dataframe tbody tr th {\n",
       "        vertical-align: top;\n",
       "    }\n",
       "\n",
       "    .dataframe thead th {\n",
       "        text-align: right;\n",
       "    }\n",
       "</style>\n",
       "<table border=\"1\" class=\"dataframe\">\n",
       "  <thead>\n",
       "    <tr style=\"text-align: right;\">\n",
       "      <th></th>\n",
       "      <th>l0(w|msg)</th>\n",
       "    </tr>\n",
       "    <tr>\n",
       "      <th>intentions</th>\n",
       "      <th></th>\n",
       "    </tr>\n",
       "  </thead>\n",
       "  <tbody>\n",
       "    <tr>\n",
       "      <th>blue circle</th>\n",
       "      <td>0.5</td>\n",
       "    </tr>\n",
       "    <tr>\n",
       "      <th>green square</th>\n",
       "      <td>0.0</td>\n",
       "    </tr>\n",
       "    <tr>\n",
       "      <th>blue square</th>\n",
       "      <td>0.5</td>\n",
       "    </tr>\n",
       "  </tbody>\n",
       "</table>\n",
       "</div>"
      ],
      "text/plain": [
       "              l0(w|msg)\n",
       "intentions             \n",
       "blue circle         0.5\n",
       "green square        0.0\n",
       "blue square         0.5"
      ]
     },
     "execution_count": 21,
     "metadata": {},
     "output_type": "execute_result"
    }
   ],
   "source": [
    "blueListener = getListener0('blue')\n",
    "blueListener"
   ]
  },
  {
   "cell_type": "code",
   "execution_count": 22,
   "metadata": {
    "ExecuteTime": {
     "end_time": "2020-06-30T18:59:52.923626Z",
     "start_time": "2020-06-30T18:59:52.874746Z"
    },
    "scrolled": false
   },
   "outputs": [
    {
     "data": {
      "text/html": [
       "<div>\n",
       "<style scoped>\n",
       "    .dataframe tbody tr th:only-of-type {\n",
       "        vertical-align: middle;\n",
       "    }\n",
       "\n",
       "    .dataframe tbody tr th {\n",
       "        vertical-align: top;\n",
       "    }\n",
       "\n",
       "    .dataframe thead th {\n",
       "        text-align: right;\n",
       "    }\n",
       "</style>\n",
       "<table border=\"1\" class=\"dataframe\">\n",
       "  <thead>\n",
       "    <tr style=\"text-align: right;\">\n",
       "      <th></th>\n",
       "      <th>l1(w|msg)</th>\n",
       "    </tr>\n",
       "    <tr>\n",
       "      <th>intentions</th>\n",
       "      <th></th>\n",
       "    </tr>\n",
       "  </thead>\n",
       "  <tbody>\n",
       "    <tr>\n",
       "      <th>blue circle</th>\n",
       "      <td>2.857143e-01</td>\n",
       "    </tr>\n",
       "    <tr>\n",
       "      <th>green square</th>\n",
       "      <td>1.142857e-18</td>\n",
       "    </tr>\n",
       "    <tr>\n",
       "      <th>blue square</th>\n",
       "      <td>7.142857e-01</td>\n",
       "    </tr>\n",
       "  </tbody>\n",
       "</table>\n",
       "</div>"
      ],
      "text/plain": [
       "                 l1(w|msg)\n",
       "intentions                \n",
       "blue circle   2.857143e-01\n",
       "green square  1.142857e-18\n",
       "blue square   7.142857e-01"
      ]
     },
     "execution_count": 22,
     "metadata": {},
     "output_type": "execute_result"
    }
   ],
   "source": [
    "getPragmaticListener('blue')"
   ]
  },
  {
   "cell_type": "code",
   "execution_count": 23,
   "metadata": {
    "ExecuteTime": {
     "end_time": "2020-06-30T18:59:54.779905Z",
     "start_time": "2020-06-30T18:59:54.752863Z"
    }
   },
   "outputs": [
    {
     "data": {
      "text/html": [
       "<div>\n",
       "<style scoped>\n",
       "    .dataframe tbody tr th:only-of-type {\n",
       "        vertical-align: middle;\n",
       "    }\n",
       "\n",
       "    .dataframe tbody tr th {\n",
       "        vertical-align: top;\n",
       "    }\n",
       "\n",
       "    .dataframe thead th {\n",
       "        text-align: right;\n",
       "    }\n",
       "</style>\n",
       "<table border=\"1\" class=\"dataframe\">\n",
       "  <thead>\n",
       "    <tr style=\"text-align: right;\">\n",
       "      <th></th>\n",
       "      <th>l1(w|msg)</th>\n",
       "    </tr>\n",
       "    <tr>\n",
       "      <th>intentions</th>\n",
       "      <th></th>\n",
       "    </tr>\n",
       "  </thead>\n",
       "  <tbody>\n",
       "    <tr>\n",
       "      <th>blue circle</th>\n",
       "      <td>1.000000e-18</td>\n",
       "    </tr>\n",
       "    <tr>\n",
       "      <th>green square</th>\n",
       "      <td>1.000000e+00</td>\n",
       "    </tr>\n",
       "    <tr>\n",
       "      <th>blue square</th>\n",
       "      <td>2.500000e-18</td>\n",
       "    </tr>\n",
       "  </tbody>\n",
       "</table>\n",
       "</div>"
      ],
      "text/plain": [
       "                 l1(w|msg)\n",
       "intentions                \n",
       "blue circle   1.000000e-18\n",
       "green square  1.000000e+00\n",
       "blue square   2.500000e-18"
      ]
     },
     "execution_count": 23,
     "metadata": {},
     "output_type": "execute_result"
    }
   ],
   "source": [
    "getPragmaticListener('green')"
   ]
  },
  {
   "cell_type": "code",
   "execution_count": 7,
   "metadata": {
    "ExecuteTime": {
     "end_time": "2020-06-30T18:55:19.419852Z",
     "start_time": "2020-06-30T18:55:19.407115Z"
    }
   },
   "outputs": [
    {
     "data": {
      "text/plain": [
       "'print(\\'\\n Literal Listener \\n\\')\\n[print(utt, \"\\n\", getListener0(utt), \\'\\n\\') for utt in utterances]\\nprint(\\'\\n Pragmatic Speaker \\n\\')\\n[print(obj, \"\\n\", getPragmaticSpeaker(obj).round(4), \\'\\n\\') for obj in objects]\\nprint(\\'\\n Pragmatic Listener \\n\\')\\n[print(utt, \"\\n\", getPragmaticListener(utt).round(4), \\'\\n\\') for utt in utterances]'"
      ]
     },
     "execution_count": 7,
     "metadata": {},
     "output_type": "execute_result"
    }
   ],
   "source": [
    "\"\"\"print('\\n Literal Listener \\n')\n",
    "[print(utt, \"\\n\", getListener0(utt), '\\n') for utt in utterances]\n",
    "print('\\n Pragmatic Speaker \\n')\n",
    "[print(obj, \"\\n\", getPragmaticSpeaker(obj).round(4), '\\n') for obj in objects]\n",
    "print('\\n Pragmatic Listener \\n')\n",
    "[print(utt, \"\\n\", getPragmaticListener(utt).round(4), '\\n') for utt in utterances]\"\"\""
   ]
  },
  {
   "cell_type": "markdown",
   "metadata": {},
   "source": [
    "### Adding another layer of recursion to RSA"
   ]
  },
  {
   "cell_type": "code",
   "execution_count": 24,
   "metadata": {
    "ExecuteTime": {
     "end_time": "2020-06-30T18:59:57.350295Z",
     "start_time": "2020-06-30T18:59:57.228465Z"
    }
   },
   "outputs": [
    {
     "data": {
      "text/html": [
       "<div>\n",
       "<style scoped>\n",
       "    .dataframe tbody tr th:only-of-type {\n",
       "        vertical-align: middle;\n",
       "    }\n",
       "\n",
       "    .dataframe tbody tr th {\n",
       "        vertical-align: top;\n",
       "    }\n",
       "\n",
       "    .dataframe thead th {\n",
       "        text-align: right;\n",
       "    }\n",
       "</style>\n",
       "<table border=\"1\" class=\"dataframe\">\n",
       "  <thead>\n",
       "    <tr style=\"text-align: right;\">\n",
       "      <th></th>\n",
       "      <th>l1(w|msg)</th>\n",
       "    </tr>\n",
       "    <tr>\n",
       "      <th>intentions</th>\n",
       "      <th></th>\n",
       "    </tr>\n",
       "  </thead>\n",
       "  <tbody>\n",
       "    <tr>\n",
       "      <th>blue circle</th>\n",
       "      <td>1.311475e-01</td>\n",
       "    </tr>\n",
       "    <tr>\n",
       "      <th>green square</th>\n",
       "      <td>2.098361e-36</td>\n",
       "    </tr>\n",
       "    <tr>\n",
       "      <th>blue square</th>\n",
       "      <td>8.688525e-01</td>\n",
       "    </tr>\n",
       "  </tbody>\n",
       "</table>\n",
       "</div>"
      ],
      "text/plain": [
       "                 l1(w|msg)\n",
       "intentions                \n",
       "blue circle   1.311475e-01\n",
       "green square  2.098361e-36\n",
       "blue square   8.688525e-01"
      ]
     },
     "execution_count": 24,
     "metadata": {},
     "output_type": "execute_result"
    }
   ],
   "source": [
    "getPragmaticSpeaker3 = PragmaticSpeaker(getListener=getPragmaticListener, \n",
    "                                                messageSet=utterances, \n",
    "                                                messageCostFunction = costOfMessage, \n",
    "                                                lambdaRationalityParameter = lambdaRationality)\n",
    "\n",
    "getPragmaticListener3  = PragmaticListener(getSpeaker=getPragmaticSpeaker3, \n",
    "                                                      targetPrior=objectPrior)\n",
    "\n",
    "\n",
    "getPragmaticListener3(\"blue\")"
   ]
  },
  {
   "cell_type": "markdown",
   "metadata": {},
   "source": [
    "## Same setup but automated with RSA Setup"
   ]
  },
  {
   "cell_type": "code",
   "execution_count": 29,
   "metadata": {
    "ExecuteTime": {
     "end_time": "2020-06-30T19:02:29.440365Z",
     "start_time": "2020-06-30T19:02:29.425272Z"
    }
   },
   "outputs": [],
   "source": [
    "sys.path.append('/home/stacyste/Documents/Research/OverloadedSignaling/Algorithms/RSA')\n",
    "from SetupRSAInference import SetupExperiment_RSAListenerInference, SetupExperiment_RSASpeakerInference\n",
    "#from RSAExtensionsForAction import SpeakerActionSignalDistribution, SpeakerActionSignalDistribution_NoReceiverCost"
   ]
  },
  {
   "cell_type": "code",
   "execution_count": 30,
   "metadata": {
    "ExecuteTime": {
     "end_time": "2020-06-30T19:02:30.150946Z",
     "start_time": "2020-06-30T19:02:30.134772Z"
    }
   },
   "outputs": [],
   "source": [
    "performRSAListenerInference = SetupExperiment_RSAListenerInference(lambdaRationality)\n",
    "performRSASpeakerInference = SetupExperiment_RSASpeakerInference(lambdaRationality)"
   ]
  },
  {
   "cell_type": "code",
   "execution_count": 31,
   "metadata": {
    "ExecuteTime": {
     "end_time": "2020-06-30T19:02:30.487521Z",
     "start_time": "2020-06-30T19:02:30.462391Z"
    }
   },
   "outputs": [],
   "source": [
    "l0, l1, l2, l3 = performRSAListenerInference(targetPrior=objectPrior, \n",
    "                                                     signalSpace=utterances, \n",
    "                                                     maxLayer=3, \n",
    "                                                     getAllLayers=True)\n",
    "\n",
    "s0, s1, s2, s3 = performRSASpeakerInference(objectPrior,\n",
    "                                            utterances,\n",
    "                                            maxLayer = 3,\n",
    "                                            getAllLayers = True)"
   ]
  },
  {
   "cell_type": "code",
   "execution_count": 34,
   "metadata": {
    "ExecuteTime": {
     "end_time": "2020-06-30T20:42:55.060963Z",
     "start_time": "2020-06-30T20:42:55.042569Z"
    }
   },
   "outputs": [
    {
     "data": {
      "text/html": [
       "<div>\n",
       "<style scoped>\n",
       "    .dataframe tbody tr th:only-of-type {\n",
       "        vertical-align: middle;\n",
       "    }\n",
       "\n",
       "    .dataframe tbody tr th {\n",
       "        vertical-align: top;\n",
       "    }\n",
       "\n",
       "    .dataframe thead th {\n",
       "        text-align: right;\n",
       "    }\n",
       "</style>\n",
       "<table border=\"1\" class=\"dataframe\">\n",
       "  <thead>\n",
       "    <tr style=\"text-align: right;\">\n",
       "      <th></th>\n",
       "      <th>l0(w|msg)</th>\n",
       "    </tr>\n",
       "    <tr>\n",
       "      <th>intentions</th>\n",
       "      <th></th>\n",
       "    </tr>\n",
       "  </thead>\n",
       "  <tbody>\n",
       "    <tr>\n",
       "      <th>blue circle</th>\n",
       "      <td>0.5</td>\n",
       "    </tr>\n",
       "    <tr>\n",
       "      <th>green square</th>\n",
       "      <td>0.0</td>\n",
       "    </tr>\n",
       "    <tr>\n",
       "      <th>blue square</th>\n",
       "      <td>0.5</td>\n",
       "    </tr>\n",
       "  </tbody>\n",
       "</table>\n",
       "</div>"
      ],
      "text/plain": [
       "              l0(w|msg)\n",
       "intentions             \n",
       "blue circle         0.5\n",
       "green square        0.0\n",
       "blue square         0.5"
      ]
     },
     "execution_count": 34,
     "metadata": {},
     "output_type": "execute_result"
    }
   ],
   "source": [
    "l0('blue')"
   ]
  },
  {
   "cell_type": "code",
   "execution_count": 35,
   "metadata": {
    "ExecuteTime": {
     "end_time": "2020-06-30T20:43:03.141045Z",
     "start_time": "2020-06-30T20:43:01.870935Z"
    }
   },
   "outputs": [
    {
     "data": {
      "text/html": [
       "<div>\n",
       "<style scoped>\n",
       "    .dataframe tbody tr th:only-of-type {\n",
       "        vertical-align: middle;\n",
       "    }\n",
       "\n",
       "    .dataframe tbody tr th {\n",
       "        vertical-align: top;\n",
       "    }\n",
       "\n",
       "    .dataframe thead th {\n",
       "        text-align: right;\n",
       "    }\n",
       "</style>\n",
       "<table border=\"1\" class=\"dataframe\">\n",
       "  <thead>\n",
       "    <tr style=\"text-align: right;\">\n",
       "      <th></th>\n",
       "      <th>l1(w|msg)</th>\n",
       "    </tr>\n",
       "    <tr>\n",
       "      <th>intentions</th>\n",
       "      <th></th>\n",
       "    </tr>\n",
       "  </thead>\n",
       "  <tbody>\n",
       "    <tr>\n",
       "      <th>blue circle</th>\n",
       "      <td>2.857143e-01</td>\n",
       "    </tr>\n",
       "    <tr>\n",
       "      <th>green square</th>\n",
       "      <td>1.142857e-18</td>\n",
       "    </tr>\n",
       "    <tr>\n",
       "      <th>blue square</th>\n",
       "      <td>7.142857e-01</td>\n",
       "    </tr>\n",
       "  </tbody>\n",
       "</table>\n",
       "</div>"
      ],
      "text/plain": [
       "                 l1(w|msg)\n",
       "intentions                \n",
       "blue circle   2.857143e-01\n",
       "green square  1.142857e-18\n",
       "blue square   7.142857e-01"
      ]
     },
     "execution_count": 35,
     "metadata": {},
     "output_type": "execute_result"
    }
   ],
   "source": [
    "l1('blue')"
   ]
  },
  {
   "cell_type": "code",
   "execution_count": 33,
   "metadata": {
    "ExecuteTime": {
     "end_time": "2020-06-30T20:43:03.141045Z",
     "start_time": "2020-06-30T20:43:01.870935Z"
    }
   },
   "outputs": [
    {
     "data": {
      "text/html": [
       "<div>\n",
       "<style scoped>\n",
       "    .dataframe tbody tr th:only-of-type {\n",
       "        vertical-align: middle;\n",
       "    }\n",
       "\n",
       "    .dataframe tbody tr th {\n",
       "        vertical-align: top;\n",
       "    }\n",
       "\n",
       "    .dataframe thead th {\n",
       "        text-align: right;\n",
       "    }\n",
       "</style>\n",
       "<table border=\"1\" class=\"dataframe\">\n",
       "  <thead>\n",
       "    <tr style=\"text-align: right;\">\n",
       "      <th></th>\n",
       "      <th>l1(w|msg)</th>\n",
       "    </tr>\n",
       "    <tr>\n",
       "      <th>intentions</th>\n",
       "      <th></th>\n",
       "    </tr>\n",
       "  </thead>\n",
       "  <tbody>\n",
       "    <tr>\n",
       "      <th>blue circle</th>\n",
       "      <td>1.311475e-01</td>\n",
       "    </tr>\n",
       "    <tr>\n",
       "      <th>green square</th>\n",
       "      <td>2.098361e-36</td>\n",
       "    </tr>\n",
       "    <tr>\n",
       "      <th>blue square</th>\n",
       "      <td>8.688525e-01</td>\n",
       "    </tr>\n",
       "  </tbody>\n",
       "</table>\n",
       "</div>"
      ],
      "text/plain": [
       "                 l1(w|msg)\n",
       "intentions                \n",
       "blue circle   1.311475e-01\n",
       "green square  2.098361e-36\n",
       "blue square   8.688525e-01"
      ]
     },
     "execution_count": 33,
     "metadata": {},
     "output_type": "execute_result"
    }
   ],
   "source": [
    "l2('blue')"
   ]
  },
  {
   "cell_type": "code",
   "execution_count": 36,
   "metadata": {
    "ExecuteTime": {
     "end_time": "2020-06-30T20:43:03.141045Z",
     "start_time": "2020-06-30T20:43:01.870935Z"
    }
   },
   "outputs": [
    {
     "data": {
      "text/html": [
       "<div>\n",
       "<style scoped>\n",
       "    .dataframe tbody tr th:only-of-type {\n",
       "        vertical-align: middle;\n",
       "    }\n",
       "\n",
       "    .dataframe tbody tr th {\n",
       "        vertical-align: top;\n",
       "    }\n",
       "\n",
       "    .dataframe thead th {\n",
       "        text-align: right;\n",
       "    }\n",
       "</style>\n",
       "<table border=\"1\" class=\"dataframe\">\n",
       "  <thead>\n",
       "    <tr style=\"text-align: right;\">\n",
       "      <th></th>\n",
       "      <th>l1(w|msg)</th>\n",
       "    </tr>\n",
       "    <tr>\n",
       "      <th>intentions</th>\n",
       "      <th></th>\n",
       "    </tr>\n",
       "  </thead>\n",
       "  <tbody>\n",
       "    <tr>\n",
       "      <th>blue circle</th>\n",
       "      <td>3.271147e-02</td>\n",
       "    </tr>\n",
       "    <tr>\n",
       "      <th>green square</th>\n",
       "      <td>8.374137e-72</td>\n",
       "    </tr>\n",
       "    <tr>\n",
       "      <th>blue square</th>\n",
       "      <td>9.672885e-01</td>\n",
       "    </tr>\n",
       "  </tbody>\n",
       "</table>\n",
       "</div>"
      ],
      "text/plain": [
       "                 l1(w|msg)\n",
       "intentions                \n",
       "blue circle   3.271147e-02\n",
       "green square  8.374137e-72\n",
       "blue square   9.672885e-01"
      ]
     },
     "execution_count": 36,
     "metadata": {},
     "output_type": "execute_result"
    }
   ],
   "source": [
    "l3('blue')"
   ]
  },
  {
   "cell_type": "code",
   "execution_count": 41,
   "metadata": {
    "ExecuteTime": {
     "end_time": "2020-06-30T20:44:26.011496Z",
     "start_time": "2020-06-30T20:44:25.997481Z"
    }
   },
   "outputs": [
    {
     "data": {
      "text/html": [
       "<div>\n",
       "<style scoped>\n",
       "    .dataframe tbody tr th:only-of-type {\n",
       "        vertical-align: middle;\n",
       "    }\n",
       "\n",
       "    .dataframe tbody tr th {\n",
       "        vertical-align: top;\n",
       "    }\n",
       "\n",
       "    .dataframe thead th {\n",
       "        text-align: right;\n",
       "    }\n",
       "</style>\n",
       "<table border=\"1\" class=\"dataframe\">\n",
       "  <thead>\n",
       "    <tr style=\"text-align: right;\">\n",
       "      <th></th>\n",
       "      <th>s0(msg|w)</th>\n",
       "    </tr>\n",
       "    <tr>\n",
       "      <th>signals</th>\n",
       "      <th></th>\n",
       "    </tr>\n",
       "  </thead>\n",
       "  <tbody>\n",
       "    <tr>\n",
       "      <th>square</th>\n",
       "      <td>5.000000e-19</td>\n",
       "    </tr>\n",
       "    <tr>\n",
       "      <th>blue</th>\n",
       "      <td>5.000000e-01</td>\n",
       "    </tr>\n",
       "    <tr>\n",
       "      <th>circle</th>\n",
       "      <td>5.000000e-01</td>\n",
       "    </tr>\n",
       "    <tr>\n",
       "      <th>green</th>\n",
       "      <td>5.000000e-19</td>\n",
       "    </tr>\n",
       "  </tbody>\n",
       "</table>\n",
       "</div>"
      ],
      "text/plain": [
       "            s0(msg|w)\n",
       "signals              \n",
       "square   5.000000e-19\n",
       "blue     5.000000e-01\n",
       "circle   5.000000e-01\n",
       "green    5.000000e-19"
      ]
     },
     "execution_count": 41,
     "metadata": {},
     "output_type": "execute_result"
    }
   ],
   "source": [
    "s0('blue circle')"
   ]
  },
  {
   "cell_type": "code",
   "execution_count": 42,
   "metadata": {
    "ExecuteTime": {
     "end_time": "2020-06-30T20:44:31.389761Z",
     "start_time": "2020-06-30T20:44:31.359739Z"
    }
   },
   "outputs": [
    {
     "data": {
      "text/html": [
       "<div>\n",
       "<style scoped>\n",
       "    .dataframe tbody tr th:only-of-type {\n",
       "        vertical-align: middle;\n",
       "    }\n",
       "\n",
       "    .dataframe tbody tr th {\n",
       "        vertical-align: top;\n",
       "    }\n",
       "\n",
       "    .dataframe thead th {\n",
       "        text-align: right;\n",
       "    }\n",
       "</style>\n",
       "<table border=\"1\" class=\"dataframe\">\n",
       "  <thead>\n",
       "    <tr style=\"text-align: right;\">\n",
       "      <th></th>\n",
       "      <th>s1(msg|w)</th>\n",
       "    </tr>\n",
       "    <tr>\n",
       "      <th>signals</th>\n",
       "      <th></th>\n",
       "    </tr>\n",
       "  </thead>\n",
       "  <tbody>\n",
       "    <tr>\n",
       "      <th>square</th>\n",
       "      <td>2.000000e-37</td>\n",
       "    </tr>\n",
       "    <tr>\n",
       "      <th>blue</th>\n",
       "      <td>2.000000e-01</td>\n",
       "    </tr>\n",
       "    <tr>\n",
       "      <th>circle</th>\n",
       "      <td>8.000000e-01</td>\n",
       "    </tr>\n",
       "    <tr>\n",
       "      <th>green</th>\n",
       "      <td>8.000000e-37</td>\n",
       "    </tr>\n",
       "  </tbody>\n",
       "</table>\n",
       "</div>"
      ],
      "text/plain": [
       "            s1(msg|w)\n",
       "signals              \n",
       "square   2.000000e-37\n",
       "blue     2.000000e-01\n",
       "circle   8.000000e-01\n",
       "green    8.000000e-37"
      ]
     },
     "execution_count": 42,
     "metadata": {},
     "output_type": "execute_result"
    }
   ],
   "source": [
    "s1('blue circle')"
   ]
  },
  {
   "cell_type": "code",
   "execution_count": 43,
   "metadata": {
    "ExecuteTime": {
     "end_time": "2020-06-30T20:44:36.558200Z",
     "start_time": "2020-06-30T20:44:36.419854Z"
    }
   },
   "outputs": [
    {
     "data": {
      "text/html": [
       "<div>\n",
       "<style scoped>\n",
       "    .dataframe tbody tr th:only-of-type {\n",
       "        vertical-align: middle;\n",
       "    }\n",
       "\n",
       "    .dataframe tbody tr th {\n",
       "        vertical-align: top;\n",
       "    }\n",
       "\n",
       "    .dataframe thead th {\n",
       "        text-align: right;\n",
       "    }\n",
       "</style>\n",
       "<table border=\"1\" class=\"dataframe\">\n",
       "  <thead>\n",
       "    <tr style=\"text-align: right;\">\n",
       "      <th></th>\n",
       "      <th>s1(msg|w)</th>\n",
       "    </tr>\n",
       "    <tr>\n",
       "      <th>signals</th>\n",
       "      <th></th>\n",
       "    </tr>\n",
       "  </thead>\n",
       "  <tbody>\n",
       "    <tr>\n",
       "      <th>square</th>\n",
       "      <td>7.547170e-74</td>\n",
       "    </tr>\n",
       "    <tr>\n",
       "      <th>blue</th>\n",
       "      <td>7.547170e-02</td>\n",
       "    </tr>\n",
       "    <tr>\n",
       "      <th>circle</th>\n",
       "      <td>9.245283e-01</td>\n",
       "    </tr>\n",
       "    <tr>\n",
       "      <th>green</th>\n",
       "      <td>9.245283e-73</td>\n",
       "    </tr>\n",
       "  </tbody>\n",
       "</table>\n",
       "</div>"
      ],
      "text/plain": [
       "            s1(msg|w)\n",
       "signals              \n",
       "square   7.547170e-74\n",
       "blue     7.547170e-02\n",
       "circle   9.245283e-01\n",
       "green    9.245283e-73"
      ]
     },
     "execution_count": 43,
     "metadata": {},
     "output_type": "execute_result"
    }
   ],
   "source": [
    "s2('blue circle')"
   ]
  }
 ],
 "metadata": {
  "kernelspec": {
   "display_name": "Python 3",
   "language": "python",
   "name": "python3"
  },
  "language_info": {
   "codemirror_mode": {
    "name": "ipython",
    "version": 3
   },
   "file_extension": ".py",
   "mimetype": "text/x-python",
   "name": "python",
   "nbconvert_exporter": "python",
   "pygments_lexer": "ipython3",
   "version": "3.5.6"
  },
  "toc": {
   "base_numbering": 1,
   "nav_menu": {},
   "number_sections": true,
   "sideBar": true,
   "skip_h1_title": false,
   "title_cell": "Table of Contents",
   "title_sidebar": "Contents",
   "toc_cell": false,
   "toc_position": {},
   "toc_section_display": true,
   "toc_window_display": false
  }
 },
 "nbformat": 4,
 "nbformat_minor": 2
}
