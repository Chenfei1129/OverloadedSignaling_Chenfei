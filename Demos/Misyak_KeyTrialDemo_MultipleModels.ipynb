{
 "cells": [
  {
   "cell_type": "code",
   "execution_count": 1,
   "metadata": {
    "ExecuteTime": {
     "end_time": "2020-09-15T20:26:42.334157Z",
     "start_time": "2020-09-15T20:26:42.163147Z"
    },
    "scrolled": true
   },
   "outputs": [],
   "source": [
    "import sys\n",
    "import pandas as pd\n",
    "sys.path.append('/home/stacyste/Documents/Research/OverloadedSignaling/Algorithms/ImaginedWe')\n",
    "sys.path.append('/home/stacyste/Documents/Research/OverloadedSignaling/Algorithms/RSA')\n",
    "sys.path.append('/home/stacyste/Documents/Research/OverloadedSignaling/Environments/Misyak')\n",
    "\n",
    "from mindConstruction import *\n",
    "from GenerativeSignaler import SignalerZero\n",
    "from OverloadedReceiver import ReceiverZero\n",
    "from OverloadedSignaler import SignalerOne\n",
    "\n",
    "from PragmaticReceiver import ReceiverOne\n",
    "from consistentSignalChecks_Misyak import signalIsConsistent_Boxes\n",
    "from misyakConstruction import *\n",
    "\n",
    "import uncertainRSA as ursa"
   ]
  },
  {
   "cell_type": "code",
   "execution_count": 2,
   "metadata": {
    "ExecuteTime": {
     "end_time": "2020-09-15T20:26:42.493266Z",
     "start_time": "2020-09-15T20:26:42.478139Z"
    }
   },
   "outputs": [],
   "source": [
    "%load_ext autoreload\n",
    "%autoreload 2"
   ]
  },
  {
   "cell_type": "markdown",
   "metadata": {},
   "source": [
    "### Setup Parameters"
   ]
  },
  {
   "cell_type": "code",
   "execution_count": 3,
   "metadata": {
    "ExecuteTime": {
     "end_time": "2020-09-15T20:26:44.009385Z",
     "start_time": "2020-09-15T20:26:43.999722Z"
    },
    "scrolled": true
   },
   "outputs": [],
   "source": [
    "#world spaces\n",
    "twoRewardWorldSpace = getWorldSpace(wall = False, nBoxes = 3, nRewards = 2)\n",
    "oneRewardWorldSpace = getWorldSpace(wall = False, nBoxes = 3, nRewards = 1)\n",
    "wallWorldSpace = getWorldSpace(wall = True, nBoxes = 3, nRewards = 2)\n",
    "\n",
    "#action spaces\n",
    "oneAxeActionSpace = getActionSpace(nBoxes = 3, nReceiverChoices = 1)\n",
    "#oneAxeActionSpace.remove((0,0,0))\n",
    "twoAxeActionSpace = getActionSpace(nBoxes = 3, nReceiverChoices = 2)\n",
    "#twoAxeActionSpace.remove((0,0,0))\n",
    "\n",
    "#signal spaces\n",
    "oneTokenSignalSpace = getSignalSpace(nBoxes=3, nSignals = 1)\n",
    "#oneTokenSignalSpace.remove((0,0,0))\n",
    "twoTokenSignalSpace = getSignalSpace(nBoxes=3, nSignals = 2)\n",
    "#twoTokenSignalSpace.remove((0,0,0))\n",
    "\n",
    "#condition common ground spaces\n",
    "twoTokenCondition = {'worlds': twoRewardWorldSpace, 'desires': [1], 'intentions': [1], 'actions': twoAxeActionSpace}\n",
    "inversionCondition = {'worlds': twoRewardWorldSpace, 'desires': [1], 'intentions': [1], 'actions': twoAxeActionSpace}\n",
    "oneAxeCondition = {'worlds': twoRewardWorldSpace, 'desires': [1], 'intentions': [1], 'actions': oneAxeActionSpace}\n",
    "wallCondition = {'worlds': wallWorldSpace, 'desires': [1], 'intentions': [1], 'actions': twoAxeActionSpace}\n",
    "\n",
    "oneTokenCondition = {'worlds': oneRewardWorldSpace, 'desires': [1], 'intentions': [1], 'actions': oneAxeActionSpace}\n"
   ]
  },
  {
   "cell_type": "code",
   "execution_count": 55,
   "metadata": {
    "ExecuteTime": {
     "end_time": "2020-09-16T15:08:56.513584Z",
     "start_time": "2020-09-16T15:08:56.499053Z"
    }
   },
   "outputs": [],
   "source": [
    "#parameters consistent across conditions\n",
    "a = 17#10\n",
    "signalCategoryPrior = {'1':.6, '-1':.4}#{'1':.55, '-1':.45}\n",
    "\n",
    "getActionUtility = ActionUtility(costOfLocation=0,\n",
    "                                 costOfNonReward=-1,\n",
    "                                 valueOfReward=1)\n",
    "getActionDistribution = ActionDistributionGivenWorldGoal(a, getActionUtility, False)\n",
    "getMind = GenerateMind(getWorldProbabiltiy_Uniform, getDesireProbability_Uniform, getGoalGivenWorldAndDesire_Uniform, getActionDistribution)\n",
    "signalCost = 0\n",
    "getSignalCost = SignalCost_Misyak(signalCost)\n",
    "\n"
   ]
  },
  {
   "cell_type": "code",
   "execution_count": 5,
   "metadata": {
    "ExecuteTime": {
     "end_time": "2020-09-15T20:26:45.751270Z",
     "start_time": "2020-09-15T20:26:45.736574Z"
    }
   },
   "outputs": [],
   "source": [
    "rsaRationality = 17\n",
    "rsaPrior = {'1':.6, '-1':.4}"
   ]
  },
  {
   "cell_type": "markdown",
   "metadata": {},
   "source": [
    "# Signaling Distributions"
   ]
  },
  {
   "cell_type": "markdown",
   "metadata": {},
   "source": [
    "## Two token condition"
   ]
  },
  {
   "cell_type": "markdown",
   "metadata": {},
   "source": [
    "### IW"
   ]
  },
  {
   "cell_type": "code",
   "execution_count": 56,
   "metadata": {
    "ExecuteTime": {
     "end_time": "2020-09-16T15:09:03.122258Z",
     "start_time": "2020-09-16T15:09:02.239925Z"
    }
   },
   "outputs": [],
   "source": [
    "getGenerativeSignaler_2Token = SignalerZero(twoTokenSignalSpace, signalIsConsistent_Boxes)\n",
    "getReceiverZero_2Token = ReceiverZero(commonGroundDictionary=twoTokenCondition, constructMind=getMind, getSignalerZero=getGenerativeSignaler_2Token, signalCategoryPrior=signalCategoryPrior)\n",
    "getSignalerOne_2Token = SignalerOne(alpha=a, signalSpace =twoTokenSignalSpace,  getActionUtility=getActionUtility, getReceiverZero=getReceiverZero_2Token, getSignalCost=getSignalCost)"
   ]
  },
  {
   "cell_type": "code",
   "execution_count": 57,
   "metadata": {
    "ExecuteTime": {
     "end_time": "2020-09-16T15:09:03.896978Z",
     "start_time": "2020-09-16T15:09:03.123442Z"
    }
   },
   "outputs": [
    {
     "data": {
      "text/html": [
       "<div>\n",
       "<style scoped>\n",
       "    .dataframe tbody tr th:only-of-type {\n",
       "        vertical-align: middle;\n",
       "    }\n",
       "\n",
       "    .dataframe tbody tr th {\n",
       "        vertical-align: top;\n",
       "    }\n",
       "\n",
       "    .dataframe thead th {\n",
       "        text-align: right;\n",
       "    }\n",
       "</style>\n",
       "<table border=\"1\" class=\"dataframe\">\n",
       "  <thead>\n",
       "    <tr style=\"text-align: right;\">\n",
       "      <th></th>\n",
       "      <th></th>\n",
       "      <th></th>\n",
       "      <th></th>\n",
       "      <th></th>\n",
       "      <th>p(mind,c)</th>\n",
       "    </tr>\n",
       "    <tr>\n",
       "      <th>signalerType</th>\n",
       "      <th>intentions</th>\n",
       "      <th>worlds</th>\n",
       "      <th>actions</th>\n",
       "      <th>desires</th>\n",
       "      <th></th>\n",
       "    </tr>\n",
       "  </thead>\n",
       "  <tbody>\n",
       "    <tr>\n",
       "      <th rowspan=\"21\" valign=\"top\">-1</th>\n",
       "      <th rowspan=\"21\" valign=\"top\">1</th>\n",
       "      <th rowspan=\"7\" valign=\"top\">(0, 1, 1)</th>\n",
       "      <th>(0, 0, 0)</th>\n",
       "      <th>1</th>\n",
       "      <td>0.000000</td>\n",
       "    </tr>\n",
       "    <tr>\n",
       "      <th>(0, 0, 1)</th>\n",
       "      <th>1</th>\n",
       "      <td>0.000000</td>\n",
       "    </tr>\n",
       "    <tr>\n",
       "      <th>(0, 1, 0)</th>\n",
       "      <th>1</th>\n",
       "      <td>0.000000</td>\n",
       "    </tr>\n",
       "    <tr>\n",
       "      <th>(0, 1, 1)</th>\n",
       "      <th>1</th>\n",
       "      <td>0.133333</td>\n",
       "    </tr>\n",
       "    <tr>\n",
       "      <th>(1, 0, 0)</th>\n",
       "      <th>1</th>\n",
       "      <td>0.000000</td>\n",
       "    </tr>\n",
       "    <tr>\n",
       "      <th>(1, 0, 1)</th>\n",
       "      <th>1</th>\n",
       "      <td>0.000000</td>\n",
       "    </tr>\n",
       "    <tr>\n",
       "      <th>(1, 1, 0)</th>\n",
       "      <th>1</th>\n",
       "      <td>0.000000</td>\n",
       "    </tr>\n",
       "    <tr>\n",
       "      <th rowspan=\"7\" valign=\"top\">(1, 0, 1)</th>\n",
       "      <th>(0, 0, 0)</th>\n",
       "      <th>1</th>\n",
       "      <td>0.000000</td>\n",
       "    </tr>\n",
       "    <tr>\n",
       "      <th>(0, 0, 1)</th>\n",
       "      <th>1</th>\n",
       "      <td>0.000000</td>\n",
       "    </tr>\n",
       "    <tr>\n",
       "      <th>(0, 1, 0)</th>\n",
       "      <th>1</th>\n",
       "      <td>0.000000</td>\n",
       "    </tr>\n",
       "    <tr>\n",
       "      <th>(0, 1, 1)</th>\n",
       "      <th>1</th>\n",
       "      <td>0.000000</td>\n",
       "    </tr>\n",
       "    <tr>\n",
       "      <th>(1, 0, 0)</th>\n",
       "      <th>1</th>\n",
       "      <td>0.000000</td>\n",
       "    </tr>\n",
       "    <tr>\n",
       "      <th>(1, 0, 1)</th>\n",
       "      <th>1</th>\n",
       "      <td>0.133333</td>\n",
       "    </tr>\n",
       "    <tr>\n",
       "      <th>(1, 1, 0)</th>\n",
       "      <th>1</th>\n",
       "      <td>0.000000</td>\n",
       "    </tr>\n",
       "    <tr>\n",
       "      <th rowspan=\"7\" valign=\"top\">(1, 1, 0)</th>\n",
       "      <th>(0, 0, 0)</th>\n",
       "      <th>1</th>\n",
       "      <td>0.000000</td>\n",
       "    </tr>\n",
       "    <tr>\n",
       "      <th>(0, 0, 1)</th>\n",
       "      <th>1</th>\n",
       "      <td>0.000000</td>\n",
       "    </tr>\n",
       "    <tr>\n",
       "      <th>(0, 1, 0)</th>\n",
       "      <th>1</th>\n",
       "      <td>0.000000</td>\n",
       "    </tr>\n",
       "    <tr>\n",
       "      <th>(0, 1, 1)</th>\n",
       "      <th>1</th>\n",
       "      <td>0.000000</td>\n",
       "    </tr>\n",
       "    <tr>\n",
       "      <th>(1, 0, 0)</th>\n",
       "      <th>1</th>\n",
       "      <td>0.000000</td>\n",
       "    </tr>\n",
       "    <tr>\n",
       "      <th>(1, 0, 1)</th>\n",
       "      <th>1</th>\n",
       "      <td>0.000000</td>\n",
       "    </tr>\n",
       "    <tr>\n",
       "      <th>(1, 1, 0)</th>\n",
       "      <th>1</th>\n",
       "      <td>0.133333</td>\n",
       "    </tr>\n",
       "    <tr>\n",
       "      <th rowspan=\"21\" valign=\"top\">1</th>\n",
       "      <th rowspan=\"21\" valign=\"top\">1</th>\n",
       "      <th rowspan=\"7\" valign=\"top\">(0, 1, 1)</th>\n",
       "      <th>(0, 0, 0)</th>\n",
       "      <th>1</th>\n",
       "      <td>0.000000</td>\n",
       "    </tr>\n",
       "    <tr>\n",
       "      <th>(0, 0, 1)</th>\n",
       "      <th>1</th>\n",
       "      <td>0.000000</td>\n",
       "    </tr>\n",
       "    <tr>\n",
       "      <th>(0, 1, 0)</th>\n",
       "      <th>1</th>\n",
       "      <td>0.000000</td>\n",
       "    </tr>\n",
       "    <tr>\n",
       "      <th>(0, 1, 1)</th>\n",
       "      <th>1</th>\n",
       "      <td>0.200000</td>\n",
       "    </tr>\n",
       "    <tr>\n",
       "      <th>(1, 0, 0)</th>\n",
       "      <th>1</th>\n",
       "      <td>0.000000</td>\n",
       "    </tr>\n",
       "    <tr>\n",
       "      <th>(1, 0, 1)</th>\n",
       "      <th>1</th>\n",
       "      <td>0.000000</td>\n",
       "    </tr>\n",
       "    <tr>\n",
       "      <th>(1, 1, 0)</th>\n",
       "      <th>1</th>\n",
       "      <td>0.000000</td>\n",
       "    </tr>\n",
       "    <tr>\n",
       "      <th rowspan=\"7\" valign=\"top\">(1, 0, 1)</th>\n",
       "      <th>(0, 0, 0)</th>\n",
       "      <th>1</th>\n",
       "      <td>0.000000</td>\n",
       "    </tr>\n",
       "    <tr>\n",
       "      <th>(0, 0, 1)</th>\n",
       "      <th>1</th>\n",
       "      <td>0.000000</td>\n",
       "    </tr>\n",
       "    <tr>\n",
       "      <th>(0, 1, 0)</th>\n",
       "      <th>1</th>\n",
       "      <td>0.000000</td>\n",
       "    </tr>\n",
       "    <tr>\n",
       "      <th>(0, 1, 1)</th>\n",
       "      <th>1</th>\n",
       "      <td>0.000000</td>\n",
       "    </tr>\n",
       "    <tr>\n",
       "      <th>(1, 0, 0)</th>\n",
       "      <th>1</th>\n",
       "      <td>0.000000</td>\n",
       "    </tr>\n",
       "    <tr>\n",
       "      <th>(1, 0, 1)</th>\n",
       "      <th>1</th>\n",
       "      <td>0.200000</td>\n",
       "    </tr>\n",
       "    <tr>\n",
       "      <th>(1, 1, 0)</th>\n",
       "      <th>1</th>\n",
       "      <td>0.000000</td>\n",
       "    </tr>\n",
       "    <tr>\n",
       "      <th rowspan=\"7\" valign=\"top\">(1, 1, 0)</th>\n",
       "      <th>(0, 0, 0)</th>\n",
       "      <th>1</th>\n",
       "      <td>0.000000</td>\n",
       "    </tr>\n",
       "    <tr>\n",
       "      <th>(0, 0, 1)</th>\n",
       "      <th>1</th>\n",
       "      <td>0.000000</td>\n",
       "    </tr>\n",
       "    <tr>\n",
       "      <th>(0, 1, 0)</th>\n",
       "      <th>1</th>\n",
       "      <td>0.000000</td>\n",
       "    </tr>\n",
       "    <tr>\n",
       "      <th>(0, 1, 1)</th>\n",
       "      <th>1</th>\n",
       "      <td>0.000000</td>\n",
       "    </tr>\n",
       "    <tr>\n",
       "      <th>(1, 0, 0)</th>\n",
       "      <th>1</th>\n",
       "      <td>0.000000</td>\n",
       "    </tr>\n",
       "    <tr>\n",
       "      <th>(1, 0, 1)</th>\n",
       "      <th>1</th>\n",
       "      <td>0.000000</td>\n",
       "    </tr>\n",
       "    <tr>\n",
       "      <th>(1, 1, 0)</th>\n",
       "      <th>1</th>\n",
       "      <td>0.200000</td>\n",
       "    </tr>\n",
       "  </tbody>\n",
       "</table>\n",
       "</div>"
      ],
      "text/plain": [
       "                                                     p(mind,c)\n",
       "signalerType intentions worlds    actions   desires           \n",
       "-1           1          (0, 1, 1) (0, 0, 0) 1         0.000000\n",
       "                                  (0, 0, 1) 1         0.000000\n",
       "                                  (0, 1, 0) 1         0.000000\n",
       "                                  (0, 1, 1) 1         0.133333\n",
       "                                  (1, 0, 0) 1         0.000000\n",
       "                                  (1, 0, 1) 1         0.000000\n",
       "                                  (1, 1, 0) 1         0.000000\n",
       "                        (1, 0, 1) (0, 0, 0) 1         0.000000\n",
       "                                  (0, 0, 1) 1         0.000000\n",
       "                                  (0, 1, 0) 1         0.000000\n",
       "                                  (0, 1, 1) 1         0.000000\n",
       "                                  (1, 0, 0) 1         0.000000\n",
       "                                  (1, 0, 1) 1         0.133333\n",
       "                                  (1, 1, 0) 1         0.000000\n",
       "                        (1, 1, 0) (0, 0, 0) 1         0.000000\n",
       "                                  (0, 0, 1) 1         0.000000\n",
       "                                  (0, 1, 0) 1         0.000000\n",
       "                                  (0, 1, 1) 1         0.000000\n",
       "                                  (1, 0, 0) 1         0.000000\n",
       "                                  (1, 0, 1) 1         0.000000\n",
       "                                  (1, 1, 0) 1         0.133333\n",
       "1            1          (0, 1, 1) (0, 0, 0) 1         0.000000\n",
       "                                  (0, 0, 1) 1         0.000000\n",
       "                                  (0, 1, 0) 1         0.000000\n",
       "                                  (0, 1, 1) 1         0.200000\n",
       "                                  (1, 0, 0) 1         0.000000\n",
       "                                  (1, 0, 1) 1         0.000000\n",
       "                                  (1, 1, 0) 1         0.000000\n",
       "                        (1, 0, 1) (0, 0, 0) 1         0.000000\n",
       "                                  (0, 0, 1) 1         0.000000\n",
       "                                  (0, 1, 0) 1         0.000000\n",
       "                                  (0, 1, 1) 1         0.000000\n",
       "                                  (1, 0, 0) 1         0.000000\n",
       "                                  (1, 0, 1) 1         0.200000\n",
       "                                  (1, 1, 0) 1         0.000000\n",
       "                        (1, 1, 0) (0, 0, 0) 1         0.000000\n",
       "                                  (0, 0, 1) 1         0.000000\n",
       "                                  (0, 1, 0) 1         0.000000\n",
       "                                  (0, 1, 1) 1         0.000000\n",
       "                                  (1, 0, 0) 1         0.000000\n",
       "                                  (1, 0, 1) 1         0.000000\n",
       "                                  (1, 1, 0) 1         0.200000"
      ]
     },
     "execution_count": 57,
     "metadata": {},
     "output_type": "execute_result"
    }
   ],
   "source": [
    "getReceiverZero_2Token.constructJointMindSignalCategoryPrior(getMind(twoTokenCondition), signalCategoryPrior)"
   ]
  },
  {
   "cell_type": "code",
   "execution_count": 88,
   "metadata": {
    "ExecuteTime": {
     "end_time": "2020-09-16T16:59:30.456919Z",
     "start_time": "2020-09-16T16:59:30.440333Z"
    }
   },
   "outputs": [],
   "source": [
    "iwr0_2Token = getReceiverZero_2Token((1,0,0))\n",
    "t = iwr0_2Token.iloc[0]"
   ]
  },
  {
   "cell_type": "code",
   "execution_count": 102,
   "metadata": {
    "ExecuteTime": {
     "end_time": "2020-09-16T17:02:41.480660Z",
     "start_time": "2020-09-16T17:02:41.470717Z"
    }
   },
   "outputs": [
    {
     "data": {
      "text/plain": [
       "2"
      ]
     },
     "execution_count": 102,
     "metadata": {},
     "output_type": "execute_result"
    }
   ],
   "source": [
    "iwr0_2Token.index.names.index('actions')"
   ]
  },
  {
   "cell_type": "code",
   "execution_count": 103,
   "metadata": {
    "ExecuteTime": {
     "end_time": "2020-09-16T17:02:49.134352Z",
     "start_time": "2020-09-16T17:02:49.124675Z"
    }
   },
   "outputs": [
    {
     "data": {
      "text/plain": [
       "(0, 0, 0)"
      ]
     },
     "execution_count": 103,
     "metadata": {},
     "output_type": "execute_result"
    }
   ],
   "source": [
    "t.name[2]"
   ]
  },
  {
   "cell_type": "code",
   "execution_count": 59,
   "metadata": {
    "ExecuteTime": {
     "end_time": "2020-09-16T15:09:07.904786Z",
     "start_time": "2020-09-16T15:09:07.848675Z"
    },
    "scrolled": true
   },
   "outputs": [
    {
     "data": {
      "text/html": [
       "<div>\n",
       "<style scoped>\n",
       "    .dataframe tbody tr th:only-of-type {\n",
       "        vertical-align: middle;\n",
       "    }\n",
       "\n",
       "    .dataframe tbody tr th {\n",
       "        vertical-align: top;\n",
       "    }\n",
       "\n",
       "    .dataframe thead th {\n",
       "        text-align: right;\n",
       "    }\n",
       "</style>\n",
       "<table border=\"1\" class=\"dataframe\">\n",
       "  <thead>\n",
       "    <tr style=\"text-align: right;\">\n",
       "      <th></th>\n",
       "      <th>probability</th>\n",
       "    </tr>\n",
       "    <tr>\n",
       "      <th>signals</th>\n",
       "      <th></th>\n",
       "    </tr>\n",
       "  </thead>\n",
       "  <tbody>\n",
       "    <tr>\n",
       "      <th>(1, 1, 0)</th>\n",
       "      <td>1.000000e+00</td>\n",
       "    </tr>\n",
       "    <tr>\n",
       "      <th>(1, 0, 1)</th>\n",
       "      <td>1.713908e-15</td>\n",
       "    </tr>\n",
       "    <tr>\n",
       "      <th>(1, 0, 0)</th>\n",
       "      <td>4.610960e-11</td>\n",
       "    </tr>\n",
       "    <tr>\n",
       "      <th>(0, 1, 1)</th>\n",
       "      <td>1.713908e-15</td>\n",
       "    </tr>\n",
       "    <tr>\n",
       "      <th>(0, 1, 0)</th>\n",
       "      <td>4.610960e-11</td>\n",
       "    </tr>\n",
       "    <tr>\n",
       "      <th>(0, 0, 1)</th>\n",
       "      <td>1.381633e-09</td>\n",
       "    </tr>\n",
       "    <tr>\n",
       "      <th>(0, 0, 0)</th>\n",
       "      <td>1.432161e-10</td>\n",
       "    </tr>\n",
       "  </tbody>\n",
       "</table>\n",
       "</div>"
      ],
      "text/plain": [
       "            probability\n",
       "signals                \n",
       "(1, 1, 0)  1.000000e+00\n",
       "(1, 0, 1)  1.713908e-15\n",
       "(1, 0, 0)  4.610960e-11\n",
       "(0, 1, 1)  1.713908e-15\n",
       "(0, 1, 0)  4.610960e-11\n",
       "(0, 0, 1)  1.381633e-09\n",
       "(0, 0, 0)  1.432161e-10"
      ]
     },
     "execution_count": 59,
     "metadata": {},
     "output_type": "execute_result"
    }
   ],
   "source": [
    "observedWorld = {'worlds':(1,1,0)}\n",
    "sig1TwoToken = getSignalerOne_2Token(observedWorld)\n",
    "sig1TwoToken"
   ]
  },
  {
   "cell_type": "code",
   "execution_count": 69,
   "metadata": {
    "ExecuteTime": {
     "end_time": "2020-09-16T15:24:41.394280Z",
     "start_time": "2020-09-16T15:24:40.548751Z"
    },
    "scrolled": false
   },
   "outputs": [
    {
     "data": {
      "text/html": [
       "<div>\n",
       "<style scoped>\n",
       "    .dataframe tbody tr th:only-of-type {\n",
       "        vertical-align: middle;\n",
       "    }\n",
       "\n",
       "    .dataframe tbody tr th {\n",
       "        vertical-align: top;\n",
       "    }\n",
       "\n",
       "    .dataframe thead th {\n",
       "        text-align: right;\n",
       "    }\n",
       "</style>\n",
       "<table border=\"1\" class=\"dataframe\">\n",
       "  <thead>\n",
       "    <tr style=\"text-align: right;\">\n",
       "      <th></th>\n",
       "      <th></th>\n",
       "      <th></th>\n",
       "      <th></th>\n",
       "      <th>p(mind|signal)</th>\n",
       "    </tr>\n",
       "    <tr>\n",
       "      <th>intentions</th>\n",
       "      <th>worlds</th>\n",
       "      <th>actions</th>\n",
       "      <th>desires</th>\n",
       "      <th></th>\n",
       "    </tr>\n",
       "  </thead>\n",
       "  <tbody>\n",
       "    <tr>\n",
       "      <th rowspan=\"21\" valign=\"top\">1</th>\n",
       "      <th rowspan=\"7\" valign=\"top\">(0, 1, 1)</th>\n",
       "      <th>(0, 0, 0)</th>\n",
       "      <th>1</th>\n",
       "      <td>0.000000e+00</td>\n",
       "    </tr>\n",
       "    <tr>\n",
       "      <th>(0, 0, 1)</th>\n",
       "      <th>1</th>\n",
       "      <td>0.000000e+00</td>\n",
       "    </tr>\n",
       "    <tr>\n",
       "      <th>(0, 1, 0)</th>\n",
       "      <th>1</th>\n",
       "      <td>0.000000e+00</td>\n",
       "    </tr>\n",
       "    <tr>\n",
       "      <th>(0, 1, 1)</th>\n",
       "      <th>1</th>\n",
       "      <td>1.713908e-15</td>\n",
       "    </tr>\n",
       "    <tr>\n",
       "      <th>(1, 0, 0)</th>\n",
       "      <th>1</th>\n",
       "      <td>0.000000e+00</td>\n",
       "    </tr>\n",
       "    <tr>\n",
       "      <th>(1, 0, 1)</th>\n",
       "      <th>1</th>\n",
       "      <td>0.000000e+00</td>\n",
       "    </tr>\n",
       "    <tr>\n",
       "      <th>(1, 1, 0)</th>\n",
       "      <th>1</th>\n",
       "      <td>0.000000e+00</td>\n",
       "    </tr>\n",
       "    <tr>\n",
       "      <th rowspan=\"7\" valign=\"top\">(1, 0, 1)</th>\n",
       "      <th>(0, 0, 0)</th>\n",
       "      <th>1</th>\n",
       "      <td>0.000000e+00</td>\n",
       "    </tr>\n",
       "    <tr>\n",
       "      <th>(0, 0, 1)</th>\n",
       "      <th>1</th>\n",
       "      <td>0.000000e+00</td>\n",
       "    </tr>\n",
       "    <tr>\n",
       "      <th>(0, 1, 0)</th>\n",
       "      <th>1</th>\n",
       "      <td>0.000000e+00</td>\n",
       "    </tr>\n",
       "    <tr>\n",
       "      <th>(0, 1, 1)</th>\n",
       "      <th>1</th>\n",
       "      <td>0.000000e+00</td>\n",
       "    </tr>\n",
       "    <tr>\n",
       "      <th>(1, 0, 0)</th>\n",
       "      <th>1</th>\n",
       "      <td>0.000000e+00</td>\n",
       "    </tr>\n",
       "    <tr>\n",
       "      <th>(1, 0, 1)</th>\n",
       "      <th>1</th>\n",
       "      <td>1.713908e-15</td>\n",
       "    </tr>\n",
       "    <tr>\n",
       "      <th>(1, 1, 0)</th>\n",
       "      <th>1</th>\n",
       "      <td>0.000000e+00</td>\n",
       "    </tr>\n",
       "    <tr>\n",
       "      <th rowspan=\"7\" valign=\"top\">(1, 1, 0)</th>\n",
       "      <th>(0, 0, 0)</th>\n",
       "      <th>1</th>\n",
       "      <td>0.000000e+00</td>\n",
       "    </tr>\n",
       "    <tr>\n",
       "      <th>(0, 0, 1)</th>\n",
       "      <th>1</th>\n",
       "      <td>0.000000e+00</td>\n",
       "    </tr>\n",
       "    <tr>\n",
       "      <th>(0, 1, 0)</th>\n",
       "      <th>1</th>\n",
       "      <td>0.000000e+00</td>\n",
       "    </tr>\n",
       "    <tr>\n",
       "      <th>(0, 1, 1)</th>\n",
       "      <th>1</th>\n",
       "      <td>0.000000e+00</td>\n",
       "    </tr>\n",
       "    <tr>\n",
       "      <th>(1, 0, 0)</th>\n",
       "      <th>1</th>\n",
       "      <td>0.000000e+00</td>\n",
       "    </tr>\n",
       "    <tr>\n",
       "      <th>(1, 0, 1)</th>\n",
       "      <th>1</th>\n",
       "      <td>0.000000e+00</td>\n",
       "    </tr>\n",
       "    <tr>\n",
       "      <th>(1, 1, 0)</th>\n",
       "      <th>1</th>\n",
       "      <td>1.000000e+00</td>\n",
       "    </tr>\n",
       "  </tbody>\n",
       "</table>\n",
       "</div>"
      ],
      "text/plain": [
       "                                        p(mind|signal)\n",
       "intentions worlds    actions   desires                \n",
       "1          (0, 1, 1) (0, 0, 0) 1          0.000000e+00\n",
       "                     (0, 0, 1) 1          0.000000e+00\n",
       "                     (0, 1, 0) 1          0.000000e+00\n",
       "                     (0, 1, 1) 1          1.713908e-15\n",
       "                     (1, 0, 0) 1          0.000000e+00\n",
       "                     (1, 0, 1) 1          0.000000e+00\n",
       "                     (1, 1, 0) 1          0.000000e+00\n",
       "           (1, 0, 1) (0, 0, 0) 1          0.000000e+00\n",
       "                     (0, 0, 1) 1          0.000000e+00\n",
       "                     (0, 1, 0) 1          0.000000e+00\n",
       "                     (0, 1, 1) 1          0.000000e+00\n",
       "                     (1, 0, 0) 1          0.000000e+00\n",
       "                     (1, 0, 1) 1          1.713908e-15\n",
       "                     (1, 1, 0) 1          0.000000e+00\n",
       "           (1, 1, 0) (0, 0, 0) 1          0.000000e+00\n",
       "                     (0, 0, 1) 1          0.000000e+00\n",
       "                     (0, 1, 0) 1          0.000000e+00\n",
       "                     (0, 1, 1) 1          0.000000e+00\n",
       "                     (1, 0, 0) 1          0.000000e+00\n",
       "                     (1, 0, 1) 1          0.000000e+00\n",
       "                     (1, 1, 0) 1          1.000000e+00"
      ]
     },
     "execution_count": 69,
     "metadata": {},
     "output_type": "execute_result"
    }
   ],
   "source": [
    "getReceiverOne = ReceiverOne(commonGroundDictionary=twoTokenCondition, \n",
    "            constructMind=getMind, \n",
    "            getSignalerZero=getSignalerOne_2Token, \n",
    "            signalIsConsistent=signalIsConsistent_Boxes)\n",
    "getReceiverOne((1,1,0))"
   ]
  },
  {
   "cell_type": "markdown",
   "metadata": {},
   "source": [
    "### RSA"
   ]
  },
  {
   "cell_type": "code",
   "execution_count": 47,
   "metadata": {
    "ExecuteTime": {
     "end_time": "2020-09-16T15:08:11.099079Z",
     "start_time": "2020-09-16T15:08:11.087931Z"
    }
   },
   "outputs": [],
   "source": [
    "rsaRationality = 17\n",
    "rsaPrior = {'1':.6, '-1':.4}\n",
    "getS0 = ursa.LiteralSpeaker(lexicon=ursa.consistencyLexiconRSA_Misyak, \n",
    "                            messageSet=twoTokenSignalSpace, \n",
    "                            messageCostFunction = lambda x: 0, \n",
    "                            lambdaRationalityParameter = rsaRationality)\n",
    "\n",
    "unifStatePrior = {world: 1/len(twoRewardWorldSpace) for world in twoRewardWorldSpace}\n",
    "getL1 = ursa.PragmaticListener(getSpeaker = getS0, \n",
    "                               targetPrior = unifStatePrior, \n",
    "                               meaningPrior = rsaPrior)\n",
    "\n",
    "getS1 = ursa.PragmaticSpeaker(getListener=getL1, \n",
    "                              messageSet = twoTokenSignalSpace, \n",
    "                              messageCostFunction= lambda x:0, \n",
    "                              lambdaRationalityParameter = rsaRationality)\n",
    "twoTokenWorld = (1,1,0)"
   ]
  },
  {
   "cell_type": "code",
   "execution_count": 48,
   "metadata": {
    "ExecuteTime": {
     "end_time": "2020-09-16T15:08:11.939438Z",
     "start_time": "2020-09-16T15:08:11.926775Z"
    }
   },
   "outputs": [
    {
     "data": {
      "text/html": [
       "<div>\n",
       "<style scoped>\n",
       "    .dataframe tbody tr th:only-of-type {\n",
       "        vertical-align: middle;\n",
       "    }\n",
       "\n",
       "    .dataframe tbody tr th {\n",
       "        vertical-align: top;\n",
       "    }\n",
       "\n",
       "    .dataframe thead th {\n",
       "        text-align: right;\n",
       "    }\n",
       "</style>\n",
       "<table border=\"1\" class=\"dataframe\">\n",
       "  <thead>\n",
       "    <tr style=\"text-align: right;\">\n",
       "      <th></th>\n",
       "      <th>s0(msg|w)</th>\n",
       "    </tr>\n",
       "    <tr>\n",
       "      <th>signals</th>\n",
       "      <th></th>\n",
       "    </tr>\n",
       "  </thead>\n",
       "  <tbody>\n",
       "    <tr>\n",
       "      <th>(1, 1, 0)</th>\n",
       "      <td>2.500000e-01</td>\n",
       "    </tr>\n",
       "    <tr>\n",
       "      <th>(0, 0, 0)</th>\n",
       "      <td>2.500000e-01</td>\n",
       "    </tr>\n",
       "    <tr>\n",
       "      <th>(0, 1, 1)</th>\n",
       "      <td>2.500000e-154</td>\n",
       "    </tr>\n",
       "    <tr>\n",
       "      <th>(1, 0, 0)</th>\n",
       "      <td>2.500000e-01</td>\n",
       "    </tr>\n",
       "    <tr>\n",
       "      <th>(0, 1, 0)</th>\n",
       "      <td>2.500000e-01</td>\n",
       "    </tr>\n",
       "    <tr>\n",
       "      <th>(0, 0, 1)</th>\n",
       "      <td>2.500000e-154</td>\n",
       "    </tr>\n",
       "    <tr>\n",
       "      <th>(1, 0, 1)</th>\n",
       "      <td>2.500000e-154</td>\n",
       "    </tr>\n",
       "  </tbody>\n",
       "</table>\n",
       "</div>"
      ],
      "text/plain": [
       "               s0(msg|w)\n",
       "signals                 \n",
       "(1, 1, 0)   2.500000e-01\n",
       "(0, 0, 0)   2.500000e-01\n",
       "(0, 1, 1)  2.500000e-154\n",
       "(1, 0, 0)   2.500000e-01\n",
       "(0, 1, 0)   2.500000e-01\n",
       "(0, 0, 1)  2.500000e-154\n",
       "(1, 0, 1)  2.500000e-154"
      ]
     },
     "execution_count": 48,
     "metadata": {},
     "output_type": "execute_result"
    }
   ],
   "source": [
    "getS0(twoTokenWorld, '1')"
   ]
  },
  {
   "cell_type": "code",
   "execution_count": 49,
   "metadata": {
    "ExecuteTime": {
     "end_time": "2020-09-16T15:08:13.009556Z",
     "start_time": "2020-09-16T15:08:12.969332Z"
    }
   },
   "outputs": [
    {
     "data": {
      "text/html": [
       "<div>\n",
       "<style scoped>\n",
       "    .dataframe tbody tr th:only-of-type {\n",
       "        vertical-align: middle;\n",
       "    }\n",
       "\n",
       "    .dataframe tbody tr th {\n",
       "        vertical-align: top;\n",
       "    }\n",
       "\n",
       "    .dataframe thead th {\n",
       "        text-align: right;\n",
       "    }\n",
       "</style>\n",
       "<table border=\"1\" class=\"dataframe\">\n",
       "  <thead>\n",
       "    <tr style=\"text-align: right;\">\n",
       "      <th></th>\n",
       "      <th>l1(w|msg)</th>\n",
       "    </tr>\n",
       "    <tr>\n",
       "      <th>intentions</th>\n",
       "      <th></th>\n",
       "    </tr>\n",
       "  </thead>\n",
       "  <tbody>\n",
       "    <tr>\n",
       "      <th>(0, 1, 1)</th>\n",
       "      <td>0.4</td>\n",
       "    </tr>\n",
       "    <tr>\n",
       "      <th>(1, 1, 0)</th>\n",
       "      <td>0.3</td>\n",
       "    </tr>\n",
       "    <tr>\n",
       "      <th>(1, 0, 1)</th>\n",
       "      <td>0.3</td>\n",
       "    </tr>\n",
       "  </tbody>\n",
       "</table>\n",
       "</div>"
      ],
      "text/plain": [
       "            l1(w|msg)\n",
       "intentions           \n",
       "(0, 1, 1)         0.4\n",
       "(1, 1, 0)         0.3\n",
       "(1, 0, 1)         0.3"
      ]
     },
     "execution_count": 49,
     "metadata": {},
     "output_type": "execute_result"
    }
   ],
   "source": [
    "message = (1,0,0)\n",
    "getL1(message)"
   ]
  },
  {
   "cell_type": "code",
   "execution_count": 50,
   "metadata": {
    "ExecuteTime": {
     "end_time": "2020-09-16T15:08:13.324218Z",
     "start_time": "2020-09-16T15:08:13.250625Z"
    }
   },
   "outputs": [
    {
     "data": {
      "text/html": [
       "<div>\n",
       "<style scoped>\n",
       "    .dataframe tbody tr th:only-of-type {\n",
       "        vertical-align: middle;\n",
       "    }\n",
       "\n",
       "    .dataframe tbody tr th {\n",
       "        vertical-align: top;\n",
       "    }\n",
       "\n",
       "    .dataframe thead th {\n",
       "        text-align: right;\n",
       "    }\n",
       "</style>\n",
       "<table border=\"1\" class=\"dataframe\">\n",
       "  <thead>\n",
       "    <tr style=\"text-align: right;\">\n",
       "      <th></th>\n",
       "      <th>s1(msg|w)</th>\n",
       "    </tr>\n",
       "    <tr>\n",
       "      <th>signals</th>\n",
       "      <th></th>\n",
       "    </tr>\n",
       "  </thead>\n",
       "  <tbody>\n",
       "    <tr>\n",
       "      <th>(1, 1, 0)</th>\n",
       "      <td>1.0</td>\n",
       "    </tr>\n",
       "    <tr>\n",
       "      <th>(0, 0, 0)</th>\n",
       "      <td>0.0</td>\n",
       "    </tr>\n",
       "    <tr>\n",
       "      <th>(0, 1, 1)</th>\n",
       "      <td>0.0</td>\n",
       "    </tr>\n",
       "    <tr>\n",
       "      <th>(1, 0, 0)</th>\n",
       "      <td>0.0</td>\n",
       "    </tr>\n",
       "    <tr>\n",
       "      <th>(0, 1, 0)</th>\n",
       "      <td>0.0</td>\n",
       "    </tr>\n",
       "    <tr>\n",
       "      <th>(0, 0, 1)</th>\n",
       "      <td>0.0</td>\n",
       "    </tr>\n",
       "    <tr>\n",
       "      <th>(1, 0, 1)</th>\n",
       "      <td>0.0</td>\n",
       "    </tr>\n",
       "  </tbody>\n",
       "</table>\n",
       "</div>"
      ],
      "text/plain": [
       "           s1(msg|w)\n",
       "signals             \n",
       "(1, 1, 0)        1.0\n",
       "(0, 0, 0)        0.0\n",
       "(0, 1, 1)        0.0\n",
       "(1, 0, 0)        0.0\n",
       "(0, 1, 0)        0.0\n",
       "(0, 0, 1)        0.0\n",
       "(1, 0, 1)        0.0"
      ]
     },
     "execution_count": 50,
     "metadata": {},
     "output_type": "execute_result"
    }
   ],
   "source": [
    "getS1(twoTokenWorld).round(5)"
   ]
  },
  {
   "cell_type": "code",
   "execution_count": 51,
   "metadata": {
    "ExecuteTime": {
     "end_time": "2020-09-16T15:08:14.619968Z",
     "start_time": "2020-09-16T15:08:14.610410Z"
    }
   },
   "outputs": [],
   "source": [
    "unifStatePrior = {world: 1/len(twoRewardWorldSpace) for world in twoRewardWorldSpace}\n",
    "l0_2token = ursa.LiteralListener(worldPriorDictionary=unifStatePrior, \n",
    "                                 meaningPriorDictionary={'1':.6, '-1':0.4}, \n",
    "                                 lexiconFunction=ursa.consistencyLexiconRSA_Misyak)\n",
    "\n",
    "s1_2Token = ursa.PragmaticSpeaker_ListenerModel(getListener = l0_2token,\n",
    "                                                lexicon=ursa.consistencyLexiconRSA_Misyak, \n",
    "                                                messageSet=twoTokenSignalSpace, \n",
    "                                                messageCostFunction=lambda x:0, \n",
    "                                                lambdaRationalityParameter=rsaRationality)\n",
    "l1_2Token = ursa.PragmaticListener(getSpeaker = s1_2Token, \n",
    "                               targetPrior = unifStatePrior, \n",
    "                               meaningPrior = rsaPrior)"
   ]
  },
  {
   "cell_type": "code",
   "execution_count": 52,
   "metadata": {
    "ExecuteTime": {
     "end_time": "2020-09-16T15:08:15.326596Z",
     "start_time": "2020-09-16T15:08:15.313297Z"
    }
   },
   "outputs": [
    {
     "data": {
      "text/html": [
       "<div>\n",
       "<style scoped>\n",
       "    .dataframe tbody tr th:only-of-type {\n",
       "        vertical-align: middle;\n",
       "    }\n",
       "\n",
       "    .dataframe tbody tr th {\n",
       "        vertical-align: top;\n",
       "    }\n",
       "\n",
       "    .dataframe thead th {\n",
       "        text-align: right;\n",
       "    }\n",
       "</style>\n",
       "<table border=\"1\" class=\"dataframe\">\n",
       "  <thead>\n",
       "    <tr style=\"text-align: right;\">\n",
       "      <th></th>\n",
       "      <th>l0(w|msg)</th>\n",
       "    </tr>\n",
       "    <tr>\n",
       "      <th>intentions</th>\n",
       "      <th></th>\n",
       "    </tr>\n",
       "  </thead>\n",
       "  <tbody>\n",
       "    <tr>\n",
       "      <th>((0, 1, 1), 1)</th>\n",
       "      <td>0.000</td>\n",
       "    </tr>\n",
       "    <tr>\n",
       "      <th>((1, 1, 0), 1)</th>\n",
       "      <td>0.375</td>\n",
       "    </tr>\n",
       "    <tr>\n",
       "      <th>((0, 1, 1), -1)</th>\n",
       "      <td>0.250</td>\n",
       "    </tr>\n",
       "    <tr>\n",
       "      <th>((1, 0, 1), 1)</th>\n",
       "      <td>0.375</td>\n",
       "    </tr>\n",
       "    <tr>\n",
       "      <th>((1, 0, 1), -1)</th>\n",
       "      <td>0.000</td>\n",
       "    </tr>\n",
       "    <tr>\n",
       "      <th>((1, 1, 0), -1)</th>\n",
       "      <td>0.000</td>\n",
       "    </tr>\n",
       "  </tbody>\n",
       "</table>\n",
       "</div>"
      ],
      "text/plain": [
       "                 l0(w|msg)\n",
       "intentions                \n",
       "((0, 1, 1), 1)       0.000\n",
       "((1, 1, 0), 1)       0.375\n",
       "((0, 1, 1), -1)      0.250\n",
       "((1, 0, 1), 1)       0.375\n",
       "((1, 0, 1), -1)      0.000\n",
       "((1, 1, 0), -1)      0.000"
      ]
     },
     "execution_count": 52,
     "metadata": {},
     "output_type": "execute_result"
    }
   ],
   "source": [
    "l0_2token((1,0,0))"
   ]
  },
  {
   "cell_type": "code",
   "execution_count": 53,
   "metadata": {
    "ExecuteTime": {
     "end_time": "2020-09-16T15:08:15.747853Z",
     "start_time": "2020-09-16T15:08:15.718107Z"
    }
   },
   "outputs": [
    {
     "data": {
      "text/html": [
       "<div>\n",
       "<style scoped>\n",
       "    .dataframe tbody tr th:only-of-type {\n",
       "        vertical-align: middle;\n",
       "    }\n",
       "\n",
       "    .dataframe tbody tr th {\n",
       "        vertical-align: top;\n",
       "    }\n",
       "\n",
       "    .dataframe thead th {\n",
       "        text-align: right;\n",
       "    }\n",
       "</style>\n",
       "<table border=\"1\" class=\"dataframe\">\n",
       "  <thead>\n",
       "    <tr style=\"text-align: right;\">\n",
       "      <th></th>\n",
       "      <th>s1(msg|w)</th>\n",
       "    </tr>\n",
       "    <tr>\n",
       "      <th>signals</th>\n",
       "      <th></th>\n",
       "    </tr>\n",
       "  </thead>\n",
       "  <tbody>\n",
       "    <tr>\n",
       "      <th>(1, 1, 0)</th>\n",
       "      <td>0.0</td>\n",
       "    </tr>\n",
       "    <tr>\n",
       "      <th>(0, 0, 0)</th>\n",
       "      <td>0.0</td>\n",
       "    </tr>\n",
       "    <tr>\n",
       "      <th>(0, 1, 1)</th>\n",
       "      <td>1.0</td>\n",
       "    </tr>\n",
       "    <tr>\n",
       "      <th>(1, 0, 0)</th>\n",
       "      <td>0.0</td>\n",
       "    </tr>\n",
       "    <tr>\n",
       "      <th>(0, 1, 0)</th>\n",
       "      <td>0.0</td>\n",
       "    </tr>\n",
       "    <tr>\n",
       "      <th>(0, 0, 1)</th>\n",
       "      <td>0.0</td>\n",
       "    </tr>\n",
       "    <tr>\n",
       "      <th>(1, 0, 1)</th>\n",
       "      <td>0.0</td>\n",
       "    </tr>\n",
       "  </tbody>\n",
       "</table>\n",
       "</div>"
      ],
      "text/plain": [
       "           s1(msg|w)\n",
       "signals             \n",
       "(1, 1, 0)        0.0\n",
       "(0, 0, 0)        0.0\n",
       "(0, 1, 1)        1.0\n",
       "(1, 0, 0)        0.0\n",
       "(0, 1, 0)        0.0\n",
       "(0, 0, 1)        0.0\n",
       "(1, 0, 1)        0.0"
      ]
     },
     "execution_count": 53,
     "metadata": {},
     "output_type": "execute_result"
    }
   ],
   "source": [
    "s1_2Token((0,1,1), '1').round(4)"
   ]
  },
  {
   "cell_type": "code",
   "execution_count": 54,
   "metadata": {
    "ExecuteTime": {
     "end_time": "2020-09-16T15:08:16.427452Z",
     "start_time": "2020-09-16T15:08:16.343977Z"
    }
   },
   "outputs": [
    {
     "data": {
      "text/html": [
       "<div>\n",
       "<style scoped>\n",
       "    .dataframe tbody tr th:only-of-type {\n",
       "        vertical-align: middle;\n",
       "    }\n",
       "\n",
       "    .dataframe tbody tr th {\n",
       "        vertical-align: top;\n",
       "    }\n",
       "\n",
       "    .dataframe thead th {\n",
       "        text-align: right;\n",
       "    }\n",
       "</style>\n",
       "<table border=\"1\" class=\"dataframe\">\n",
       "  <thead>\n",
       "    <tr style=\"text-align: right;\">\n",
       "      <th></th>\n",
       "      <th>l1(w|msg)</th>\n",
       "    </tr>\n",
       "    <tr>\n",
       "      <th>intentions</th>\n",
       "      <th></th>\n",
       "    </tr>\n",
       "  </thead>\n",
       "  <tbody>\n",
       "    <tr>\n",
       "      <th>(0, 1, 1)</th>\n",
       "      <td>1.145299e-143</td>\n",
       "    </tr>\n",
       "    <tr>\n",
       "      <th>(1, 1, 0)</th>\n",
       "      <td>1.000000e+00</td>\n",
       "    </tr>\n",
       "    <tr>\n",
       "      <th>(1, 0, 1)</th>\n",
       "      <td>1.145299e-143</td>\n",
       "    </tr>\n",
       "  </tbody>\n",
       "</table>\n",
       "</div>"
      ],
      "text/plain": [
       "                l1(w|msg)\n",
       "intentions               \n",
       "(0, 1, 1)   1.145299e-143\n",
       "(1, 1, 0)    1.000000e+00\n",
       "(1, 0, 1)   1.145299e-143"
      ]
     },
     "execution_count": 54,
     "metadata": {},
     "output_type": "execute_result"
    }
   ],
   "source": [
    "l1_2Token((1,1,0))"
   ]
  },
  {
   "cell_type": "markdown",
   "metadata": {},
   "source": [
    "## Inversion Condition"
   ]
  },
  {
   "cell_type": "code",
   "execution_count": 74,
   "metadata": {
    "ExecuteTime": {
     "end_time": "2020-09-16T15:28:05.559414Z",
     "start_time": "2020-09-16T15:28:04.044037Z"
    },
    "scrolled": false
   },
   "outputs": [],
   "source": [
    "getGenerativeSignaler_Inversion = SignalerZero(oneTokenSignalSpace, signalIsConsistent_Boxes)\n",
    "getReceiverZero_Inversion = ReceiverZero(commonGroundDictionary=inversionCondition, \n",
    "                                         constructMind=getMind, \n",
    "                                         getSignalerZero=getGenerativeSignaler_Inversion, \n",
    "                                         signalCategoryPrior=signalCategoryPrior)\n",
    "\n",
    "getSignalerOne_Inversion = SignalerOne(alpha=a, \n",
    "                                       signalSpace=oneTokenSignalSpace,  \n",
    "                                       getActionUtility=getActionUtility, \n",
    "                                       getReceiverZero=getReceiverZero_Inversion, \n",
    "                                       getSignalCost=getSignalCost)\n",
    "\n",
    "getReceiverOne_Inversion = ReceiverOne(commonGroundDictionary=inversionCondition, \n",
    "                                        constructMind=getMind, \n",
    "                                        getSignalerZero=getSignalerOne_Inversion, \n",
    "                                        signalIsConsistent=signalIsConsistent_Boxes)"
   ]
  },
  {
   "cell_type": "code",
   "execution_count": 75,
   "metadata": {
    "ExecuteTime": {
     "end_time": "2020-09-16T15:28:06.309497Z",
     "start_time": "2020-09-16T15:28:06.282278Z"
    }
   },
   "outputs": [
    {
     "data": {
      "text/html": [
       "<div>\n",
       "<style scoped>\n",
       "    .dataframe tbody tr th:only-of-type {\n",
       "        vertical-align: middle;\n",
       "    }\n",
       "\n",
       "    .dataframe tbody tr th {\n",
       "        vertical-align: top;\n",
       "    }\n",
       "\n",
       "    .dataframe thead th {\n",
       "        text-align: right;\n",
       "    }\n",
       "</style>\n",
       "<table border=\"1\" class=\"dataframe\">\n",
       "  <thead>\n",
       "    <tr style=\"text-align: right;\">\n",
       "      <th></th>\n",
       "      <th></th>\n",
       "      <th></th>\n",
       "      <th></th>\n",
       "      <th>p(mind|signal)</th>\n",
       "    </tr>\n",
       "    <tr>\n",
       "      <th>intentions</th>\n",
       "      <th>worlds</th>\n",
       "      <th>actions</th>\n",
       "      <th>desires</th>\n",
       "      <th></th>\n",
       "    </tr>\n",
       "  </thead>\n",
       "  <tbody>\n",
       "    <tr>\n",
       "      <th rowspan=\"21\" valign=\"top\">1</th>\n",
       "      <th rowspan=\"7\" valign=\"top\">(0, 1, 1)</th>\n",
       "      <th>(0, 0, 0)</th>\n",
       "      <th>1</th>\n",
       "      <td>0.000000</td>\n",
       "    </tr>\n",
       "    <tr>\n",
       "      <th>(0, 0, 1)</th>\n",
       "      <th>1</th>\n",
       "      <td>0.000000</td>\n",
       "    </tr>\n",
       "    <tr>\n",
       "      <th>(0, 1, 0)</th>\n",
       "      <th>1</th>\n",
       "      <td>0.000000</td>\n",
       "    </tr>\n",
       "    <tr>\n",
       "      <th>(0, 1, 1)</th>\n",
       "      <th>1</th>\n",
       "      <td>0.333333</td>\n",
       "    </tr>\n",
       "    <tr>\n",
       "      <th>(1, 0, 0)</th>\n",
       "      <th>1</th>\n",
       "      <td>0.000000</td>\n",
       "    </tr>\n",
       "    <tr>\n",
       "      <th>(1, 0, 1)</th>\n",
       "      <th>1</th>\n",
       "      <td>0.000000</td>\n",
       "    </tr>\n",
       "    <tr>\n",
       "      <th>(1, 1, 0)</th>\n",
       "      <th>1</th>\n",
       "      <td>0.000000</td>\n",
       "    </tr>\n",
       "    <tr>\n",
       "      <th rowspan=\"7\" valign=\"top\">(1, 0, 1)</th>\n",
       "      <th>(0, 0, 0)</th>\n",
       "      <th>1</th>\n",
       "      <td>0.000000</td>\n",
       "    </tr>\n",
       "    <tr>\n",
       "      <th>(0, 0, 1)</th>\n",
       "      <th>1</th>\n",
       "      <td>0.000000</td>\n",
       "    </tr>\n",
       "    <tr>\n",
       "      <th>(0, 1, 0)</th>\n",
       "      <th>1</th>\n",
       "      <td>0.000000</td>\n",
       "    </tr>\n",
       "    <tr>\n",
       "      <th>(0, 1, 1)</th>\n",
       "      <th>1</th>\n",
       "      <td>0.000000</td>\n",
       "    </tr>\n",
       "    <tr>\n",
       "      <th>(1, 0, 0)</th>\n",
       "      <th>1</th>\n",
       "      <td>0.000000</td>\n",
       "    </tr>\n",
       "    <tr>\n",
       "      <th>(1, 0, 1)</th>\n",
       "      <th>1</th>\n",
       "      <td>0.333333</td>\n",
       "    </tr>\n",
       "    <tr>\n",
       "      <th>(1, 1, 0)</th>\n",
       "      <th>1</th>\n",
       "      <td>0.000000</td>\n",
       "    </tr>\n",
       "    <tr>\n",
       "      <th rowspan=\"7\" valign=\"top\">(1, 1, 0)</th>\n",
       "      <th>(0, 0, 0)</th>\n",
       "      <th>1</th>\n",
       "      <td>0.000000</td>\n",
       "    </tr>\n",
       "    <tr>\n",
       "      <th>(0, 0, 1)</th>\n",
       "      <th>1</th>\n",
       "      <td>0.000000</td>\n",
       "    </tr>\n",
       "    <tr>\n",
       "      <th>(0, 1, 0)</th>\n",
       "      <th>1</th>\n",
       "      <td>0.000000</td>\n",
       "    </tr>\n",
       "    <tr>\n",
       "      <th>(0, 1, 1)</th>\n",
       "      <th>1</th>\n",
       "      <td>0.000000</td>\n",
       "    </tr>\n",
       "    <tr>\n",
       "      <th>(1, 0, 0)</th>\n",
       "      <th>1</th>\n",
       "      <td>0.000000</td>\n",
       "    </tr>\n",
       "    <tr>\n",
       "      <th>(1, 0, 1)</th>\n",
       "      <th>1</th>\n",
       "      <td>0.000000</td>\n",
       "    </tr>\n",
       "    <tr>\n",
       "      <th>(1, 1, 0)</th>\n",
       "      <th>1</th>\n",
       "      <td>0.333333</td>\n",
       "    </tr>\n",
       "  </tbody>\n",
       "</table>\n",
       "</div>"
      ],
      "text/plain": [
       "                                        p(mind|signal)\n",
       "intentions worlds    actions   desires                \n",
       "1          (0, 1, 1) (0, 0, 0) 1              0.000000\n",
       "                     (0, 0, 1) 1              0.000000\n",
       "                     (0, 1, 0) 1              0.000000\n",
       "                     (0, 1, 1) 1              0.333333\n",
       "                     (1, 0, 0) 1              0.000000\n",
       "                     (1, 0, 1) 1              0.000000\n",
       "                     (1, 1, 0) 1              0.000000\n",
       "           (1, 0, 1) (0, 0, 0) 1              0.000000\n",
       "                     (0, 0, 1) 1              0.000000\n",
       "                     (0, 1, 0) 1              0.000000\n",
       "                     (0, 1, 1) 1              0.000000\n",
       "                     (1, 0, 0) 1              0.000000\n",
       "                     (1, 0, 1) 1              0.333333\n",
       "                     (1, 1, 0) 1              0.000000\n",
       "           (1, 1, 0) (0, 0, 0) 1              0.000000\n",
       "                     (0, 0, 1) 1              0.000000\n",
       "                     (0, 1, 0) 1              0.000000\n",
       "                     (0, 1, 1) 1              0.000000\n",
       "                     (1, 0, 0) 1              0.000000\n",
       "                     (1, 0, 1) 1              0.000000\n",
       "                     (1, 1, 0) 1              0.333333"
      ]
     },
     "execution_count": 75,
     "metadata": {},
     "output_type": "execute_result"
    }
   ],
   "source": [
    "getReceiverZero_Inversion((1,0,0))"
   ]
  },
  {
   "cell_type": "code",
   "execution_count": 76,
   "metadata": {
    "ExecuteTime": {
     "end_time": "2020-09-16T15:28:08.251401Z",
     "start_time": "2020-09-16T15:28:08.211249Z"
    },
    "scrolled": true
   },
   "outputs": [
    {
     "data": {
      "text/html": [
       "<div>\n",
       "<style scoped>\n",
       "    .dataframe tbody tr th:only-of-type {\n",
       "        vertical-align: middle;\n",
       "    }\n",
       "\n",
       "    .dataframe tbody tr th {\n",
       "        vertical-align: top;\n",
       "    }\n",
       "\n",
       "    .dataframe thead th {\n",
       "        text-align: right;\n",
       "    }\n",
       "</style>\n",
       "<table border=\"1\" class=\"dataframe\">\n",
       "  <thead>\n",
       "    <tr style=\"text-align: right;\">\n",
       "      <th></th>\n",
       "      <th>probability</th>\n",
       "    </tr>\n",
       "    <tr>\n",
       "      <th>signals</th>\n",
       "      <th></th>\n",
       "    </tr>\n",
       "  </thead>\n",
       "  <tbody>\n",
       "    <tr>\n",
       "      <th>(1, 0, 0)</th>\n",
       "      <td>0.25</td>\n",
       "    </tr>\n",
       "    <tr>\n",
       "      <th>(0, 1, 0)</th>\n",
       "      <td>0.25</td>\n",
       "    </tr>\n",
       "    <tr>\n",
       "      <th>(0, 0, 1)</th>\n",
       "      <td>0.25</td>\n",
       "    </tr>\n",
       "    <tr>\n",
       "      <th>(0, 0, 0)</th>\n",
       "      <td>0.25</td>\n",
       "    </tr>\n",
       "  </tbody>\n",
       "</table>\n",
       "</div>"
      ],
      "text/plain": [
       "           probability\n",
       "signals               \n",
       "(1, 0, 0)         0.25\n",
       "(0, 1, 0)         0.25\n",
       "(0, 0, 1)         0.25\n",
       "(0, 0, 0)         0.25"
      ]
     },
     "execution_count": 76,
     "metadata": {},
     "output_type": "execute_result"
    }
   ],
   "source": [
    "observedWorld = {'worlds':(1,1,0)}\n",
    "getSignalerOne_Inversion(observedWorld).round(4)"
   ]
  },
  {
   "cell_type": "code",
   "execution_count": 72,
   "metadata": {
    "ExecuteTime": {
     "end_time": "2020-09-16T15:25:50.994132Z",
     "start_time": "2020-09-16T15:25:50.888410Z"
    }
   },
   "outputs": [
    {
     "data": {
      "text/html": [
       "<div>\n",
       "<style scoped>\n",
       "    .dataframe tbody tr th:only-of-type {\n",
       "        vertical-align: middle;\n",
       "    }\n",
       "\n",
       "    .dataframe tbody tr th {\n",
       "        vertical-align: top;\n",
       "    }\n",
       "\n",
       "    .dataframe thead th {\n",
       "        text-align: right;\n",
       "    }\n",
       "</style>\n",
       "<table border=\"1\" class=\"dataframe\">\n",
       "  <thead>\n",
       "    <tr style=\"text-align: right;\">\n",
       "      <th></th>\n",
       "      <th></th>\n",
       "      <th></th>\n",
       "      <th></th>\n",
       "      <th>p(mind|signal)</th>\n",
       "    </tr>\n",
       "    <tr>\n",
       "      <th>intentions</th>\n",
       "      <th>worlds</th>\n",
       "      <th>actions</th>\n",
       "      <th>desires</th>\n",
       "      <th></th>\n",
       "    </tr>\n",
       "  </thead>\n",
       "  <tbody>\n",
       "    <tr>\n",
       "      <th rowspan=\"21\" valign=\"top\">1</th>\n",
       "      <th rowspan=\"7\" valign=\"top\">(0, 1, 1)</th>\n",
       "      <th>(0, 0, 0)</th>\n",
       "      <th>1</th>\n",
       "      <td>0.000000</td>\n",
       "    </tr>\n",
       "    <tr>\n",
       "      <th>(0, 0, 1)</th>\n",
       "      <th>1</th>\n",
       "      <td>0.000000</td>\n",
       "    </tr>\n",
       "    <tr>\n",
       "      <th>(0, 1, 0)</th>\n",
       "      <th>1</th>\n",
       "      <td>0.000000</td>\n",
       "    </tr>\n",
       "    <tr>\n",
       "      <th>(0, 1, 1)</th>\n",
       "      <th>1</th>\n",
       "      <td>0.333333</td>\n",
       "    </tr>\n",
       "    <tr>\n",
       "      <th>(1, 0, 0)</th>\n",
       "      <th>1</th>\n",
       "      <td>0.000000</td>\n",
       "    </tr>\n",
       "    <tr>\n",
       "      <th>(1, 0, 1)</th>\n",
       "      <th>1</th>\n",
       "      <td>0.000000</td>\n",
       "    </tr>\n",
       "    <tr>\n",
       "      <th>(1, 1, 0)</th>\n",
       "      <th>1</th>\n",
       "      <td>0.000000</td>\n",
       "    </tr>\n",
       "    <tr>\n",
       "      <th rowspan=\"7\" valign=\"top\">(1, 0, 1)</th>\n",
       "      <th>(0, 0, 0)</th>\n",
       "      <th>1</th>\n",
       "      <td>0.000000</td>\n",
       "    </tr>\n",
       "    <tr>\n",
       "      <th>(0, 0, 1)</th>\n",
       "      <th>1</th>\n",
       "      <td>0.000000</td>\n",
       "    </tr>\n",
       "    <tr>\n",
       "      <th>(0, 1, 0)</th>\n",
       "      <th>1</th>\n",
       "      <td>0.000000</td>\n",
       "    </tr>\n",
       "    <tr>\n",
       "      <th>(0, 1, 1)</th>\n",
       "      <th>1</th>\n",
       "      <td>0.000000</td>\n",
       "    </tr>\n",
       "    <tr>\n",
       "      <th>(1, 0, 0)</th>\n",
       "      <th>1</th>\n",
       "      <td>0.000000</td>\n",
       "    </tr>\n",
       "    <tr>\n",
       "      <th>(1, 0, 1)</th>\n",
       "      <th>1</th>\n",
       "      <td>0.333333</td>\n",
       "    </tr>\n",
       "    <tr>\n",
       "      <th>(1, 1, 0)</th>\n",
       "      <th>1</th>\n",
       "      <td>0.000000</td>\n",
       "    </tr>\n",
       "    <tr>\n",
       "      <th rowspan=\"7\" valign=\"top\">(1, 1, 0)</th>\n",
       "      <th>(0, 0, 0)</th>\n",
       "      <th>1</th>\n",
       "      <td>0.000000</td>\n",
       "    </tr>\n",
       "    <tr>\n",
       "      <th>(0, 0, 1)</th>\n",
       "      <th>1</th>\n",
       "      <td>0.000000</td>\n",
       "    </tr>\n",
       "    <tr>\n",
       "      <th>(0, 1, 0)</th>\n",
       "      <th>1</th>\n",
       "      <td>0.000000</td>\n",
       "    </tr>\n",
       "    <tr>\n",
       "      <th>(0, 1, 1)</th>\n",
       "      <th>1</th>\n",
       "      <td>0.000000</td>\n",
       "    </tr>\n",
       "    <tr>\n",
       "      <th>(1, 0, 0)</th>\n",
       "      <th>1</th>\n",
       "      <td>0.000000</td>\n",
       "    </tr>\n",
       "    <tr>\n",
       "      <th>(1, 0, 1)</th>\n",
       "      <th>1</th>\n",
       "      <td>0.000000</td>\n",
       "    </tr>\n",
       "    <tr>\n",
       "      <th>(1, 1, 0)</th>\n",
       "      <th>1</th>\n",
       "      <td>0.333333</td>\n",
       "    </tr>\n",
       "  </tbody>\n",
       "</table>\n",
       "</div>"
      ],
      "text/plain": [
       "                                        p(mind|signal)\n",
       "intentions worlds    actions   desires                \n",
       "1          (0, 1, 1) (0, 0, 0) 1              0.000000\n",
       "                     (0, 0, 1) 1              0.000000\n",
       "                     (0, 1, 0) 1              0.000000\n",
       "                     (0, 1, 1) 1              0.333333\n",
       "                     (1, 0, 0) 1              0.000000\n",
       "                     (1, 0, 1) 1              0.000000\n",
       "                     (1, 1, 0) 1              0.000000\n",
       "           (1, 0, 1) (0, 0, 0) 1              0.000000\n",
       "                     (0, 0, 1) 1              0.000000\n",
       "                     (0, 1, 0) 1              0.000000\n",
       "                     (0, 1, 1) 1              0.000000\n",
       "                     (1, 0, 0) 1              0.000000\n",
       "                     (1, 0, 1) 1              0.333333\n",
       "                     (1, 1, 0) 1              0.000000\n",
       "           (1, 1, 0) (0, 0, 0) 1              0.000000\n",
       "                     (0, 0, 1) 1              0.000000\n",
       "                     (0, 1, 0) 1              0.000000\n",
       "                     (0, 1, 1) 1              0.000000\n",
       "                     (1, 0, 0) 1              0.000000\n",
       "                     (1, 0, 1) 1              0.000000\n",
       "                     (1, 1, 0) 1              0.333333"
      ]
     },
     "execution_count": 72,
     "metadata": {},
     "output_type": "execute_result"
    }
   ],
   "source": [
    "getReceiverOne_Inversion((1,0,0))"
   ]
  },
  {
   "cell_type": "code",
   "execution_count": 77,
   "metadata": {
    "ExecuteTime": {
     "end_time": "2020-09-16T15:28:43.788277Z",
     "start_time": "2020-09-16T15:28:43.777448Z"
    }
   },
   "outputs": [],
   "source": [
    "rsaRationality = 17\n",
    "rsaPrior = {'1':.6, '-1':.4}\n",
    "\n",
    "getS0Inversion = ursa.LiteralSpeaker(lexicon=ursa.consistencyLexiconRSA_Misyak, \n",
    "                            messageSet=oneTokenSignalSpace, \n",
    "                            messageCostFunction = lambda x: 0, \n",
    "                            lambdaRationalityParameter = rsaRationality)\n",
    "\n",
    "unifStatePrior = {world: 1/len(twoRewardWorldSpace) for world in twoRewardWorldSpace}\n",
    "getL1Inversion = ursa.PragmaticListener(getSpeaker = getS0Inversion, \n",
    "                               targetPrior = unifStatePrior, \n",
    "                               meaningPrior = rsaPrior)\n",
    "\n",
    "getS1Inversion = ursa.PragmaticSpeaker(getListener=getL1Inversion, \n",
    "                              messageSet = oneTokenSignalSpace, \n",
    "                              messageCostFunction= lambda x:0, \n",
    "                              lambdaRationalityParameter = rsaRationality)\n",
    "twoTokenWorld = (1,1,0)"
   ]
  },
  {
   "cell_type": "code",
   "execution_count": 78,
   "metadata": {
    "ExecuteTime": {
     "end_time": "2020-09-16T15:28:44.702370Z",
     "start_time": "2020-09-16T15:28:44.664502Z"
    }
   },
   "outputs": [
    {
     "data": {
      "text/html": [
       "<div>\n",
       "<style scoped>\n",
       "    .dataframe tbody tr th:only-of-type {\n",
       "        vertical-align: middle;\n",
       "    }\n",
       "\n",
       "    .dataframe tbody tr th {\n",
       "        vertical-align: top;\n",
       "    }\n",
       "\n",
       "    .dataframe thead th {\n",
       "        text-align: right;\n",
       "    }\n",
       "</style>\n",
       "<table border=\"1\" class=\"dataframe\">\n",
       "  <thead>\n",
       "    <tr style=\"text-align: right;\">\n",
       "      <th></th>\n",
       "      <th>s1(msg|w)</th>\n",
       "    </tr>\n",
       "    <tr>\n",
       "      <th>signals</th>\n",
       "      <th></th>\n",
       "    </tr>\n",
       "  </thead>\n",
       "  <tbody>\n",
       "    <tr>\n",
       "      <th>(1, 0, 0)</th>\n",
       "      <td>0.25</td>\n",
       "    </tr>\n",
       "    <tr>\n",
       "      <th>(0, 1, 0)</th>\n",
       "      <td>0.25</td>\n",
       "    </tr>\n",
       "    <tr>\n",
       "      <th>(0, 0, 0)</th>\n",
       "      <td>0.25</td>\n",
       "    </tr>\n",
       "    <tr>\n",
       "      <th>(0, 0, 1)</th>\n",
       "      <td>0.25</td>\n",
       "    </tr>\n",
       "  </tbody>\n",
       "</table>\n",
       "</div>"
      ],
      "text/plain": [
       "           s1(msg|w)\n",
       "signals             \n",
       "(1, 0, 0)       0.25\n",
       "(0, 1, 0)       0.25\n",
       "(0, 0, 0)       0.25\n",
       "(0, 0, 1)       0.25"
      ]
     },
     "execution_count": 78,
     "metadata": {},
     "output_type": "execute_result"
    }
   ],
   "source": [
    "getS1Inversion(twoTokenWorld)"
   ]
  },
  {
   "cell_type": "markdown",
   "metadata": {},
   "source": [
    "## Wall Condition"
   ]
  },
  {
   "cell_type": "code",
   "execution_count": 14,
   "metadata": {
    "ExecuteTime": {
     "end_time": "2020-09-09T16:51:45.583152Z",
     "start_time": "2020-09-09T16:51:43.316007Z"
    }
   },
   "outputs": [],
   "source": [
    "getGenerativeSignaler_Wall = SignalerZero(oneTokenSignalSpace, signalIsConsistent_Boxes)\n",
    "getReceiverZero_Wall = ReceiverZero(commonGroundDictionary=wallCondition, constructMind=getMind, getSignalerZero=getGenerativeSignaler_Wall, signalCategoryPrior=signalCategoryPrior)\n",
    "getSignalerOne_Wall = SignalerOne(alpha=a, signalSpace=oneTokenSignalSpace,  getActionUtility=getActionUtility, getReceiverZero=getReceiverZero_Wall, getSignalCost=getSignalCost)"
   ]
  },
  {
   "cell_type": "code",
   "execution_count": 15,
   "metadata": {
    "ExecuteTime": {
     "end_time": "2020-09-09T16:51:45.631763Z",
     "start_time": "2020-09-09T16:51:45.584417Z"
    }
   },
   "outputs": [
    {
     "data": {
      "text/html": [
       "<div>\n",
       "<style scoped>\n",
       "    .dataframe tbody tr th:only-of-type {\n",
       "        vertical-align: middle;\n",
       "    }\n",
       "\n",
       "    .dataframe tbody tr th {\n",
       "        vertical-align: top;\n",
       "    }\n",
       "\n",
       "    .dataframe thead th {\n",
       "        text-align: right;\n",
       "    }\n",
       "</style>\n",
       "<table border=\"1\" class=\"dataframe\">\n",
       "  <thead>\n",
       "    <tr style=\"text-align: right;\">\n",
       "      <th></th>\n",
       "      <th>probability</th>\n",
       "    </tr>\n",
       "    <tr>\n",
       "      <th>signals</th>\n",
       "      <th></th>\n",
       "    </tr>\n",
       "  </thead>\n",
       "  <tbody>\n",
       "    <tr>\n",
       "      <th>(1, 0, 0)</th>\n",
       "      <td>0.3638</td>\n",
       "    </tr>\n",
       "    <tr>\n",
       "      <th>(0, 1, 0)</th>\n",
       "      <td>0.3638</td>\n",
       "    </tr>\n",
       "    <tr>\n",
       "      <th>(0, 0, 1)</th>\n",
       "      <td>0.1122</td>\n",
       "    </tr>\n",
       "    <tr>\n",
       "      <th>(0, 0, 0)</th>\n",
       "      <td>0.1601</td>\n",
       "    </tr>\n",
       "  </tbody>\n",
       "</table>\n",
       "</div>"
      ],
      "text/plain": [
       "           probability\n",
       "signals               \n",
       "(1, 0, 0)       0.3638\n",
       "(0, 1, 0)       0.3638\n",
       "(0, 0, 1)       0.1122\n",
       "(0, 0, 0)       0.1601"
      ]
     },
     "execution_count": 15,
     "metadata": {},
     "output_type": "execute_result"
    }
   ],
   "source": [
    "observedWorld = {'worlds':(1,1,0)}\n",
    "getSignalerOne_Wall(observedWorld).round(4)"
   ]
  },
  {
   "cell_type": "code",
   "execution_count": 16,
   "metadata": {
    "ExecuteTime": {
     "end_time": "2020-09-09T16:51:45.642981Z",
     "start_time": "2020-09-09T16:51:45.633539Z"
    }
   },
   "outputs": [],
   "source": [
    "getS0Wall = ursa.LiteralSpeaker(lexicon=ursa.consistencyLexiconRSA_Misyak, \n",
    "                            messageSet=oneTokenSignalSpace, \n",
    "                            messageCostFunction = lambda x: 0, \n",
    "                            lambdaRationalityParameter = rsaRationality)\n",
    "\n",
    "unifStatePrior = {world: 1/len(twoRewardWorldSpace) for world in wallWorldSpace}\n",
    "getL1Wall = ursa.PragmaticListener(getSpeaker = getS0Wall, \n",
    "                               targetPrior = unifStatePrior, \n",
    "                               meaningPrior = rsaPrior)\n",
    "\n",
    "getS1Wall = ursa.PragmaticSpeaker(getListener=getL1Wall, \n",
    "                              messageSet = oneTokenSignalSpace, \n",
    "                              messageCostFunction= lambda x:0, \n",
    "                              lambdaRationalityParameter = rsaRationality)\n",
    "twoTokenWorld = (1,1,0)"
   ]
  },
  {
   "cell_type": "code",
   "execution_count": 17,
   "metadata": {
    "ExecuteTime": {
     "end_time": "2020-09-09T16:51:45.726359Z",
     "start_time": "2020-09-09T16:51:45.644159Z"
    }
   },
   "outputs": [
    {
     "data": {
      "text/html": [
       "<div>\n",
       "<style scoped>\n",
       "    .dataframe tbody tr th:only-of-type {\n",
       "        vertical-align: middle;\n",
       "    }\n",
       "\n",
       "    .dataframe tbody tr th {\n",
       "        vertical-align: top;\n",
       "    }\n",
       "\n",
       "    .dataframe thead th {\n",
       "        text-align: right;\n",
       "    }\n",
       "</style>\n",
       "<table border=\"1\" class=\"dataframe\">\n",
       "  <thead>\n",
       "    <tr style=\"text-align: right;\">\n",
       "      <th></th>\n",
       "      <th>s1(msg|w)</th>\n",
       "    </tr>\n",
       "    <tr>\n",
       "      <th>signals</th>\n",
       "      <th></th>\n",
       "    </tr>\n",
       "  </thead>\n",
       "  <tbody>\n",
       "    <tr>\n",
       "      <th>(1, 0, 0)</th>\n",
       "      <td>0.332389</td>\n",
       "    </tr>\n",
       "    <tr>\n",
       "      <th>(0, 1, 0)</th>\n",
       "      <td>0.332389</td>\n",
       "    </tr>\n",
       "    <tr>\n",
       "      <th>(0, 0, 0)</th>\n",
       "      <td>0.002833</td>\n",
       "    </tr>\n",
       "    <tr>\n",
       "      <th>(0, 0, 1)</th>\n",
       "      <td>0.332389</td>\n",
       "    </tr>\n",
       "  </tbody>\n",
       "</table>\n",
       "</div>"
      ],
      "text/plain": [
       "           s1(msg|w)\n",
       "signals             \n",
       "(1, 0, 0)   0.332389\n",
       "(0, 1, 0)   0.332389\n",
       "(0, 0, 0)   0.002833\n",
       "(0, 0, 1)   0.332389"
      ]
     },
     "execution_count": 17,
     "metadata": {},
     "output_type": "execute_result"
    }
   ],
   "source": [
    "getS1Wall(twoTokenWorld)"
   ]
  },
  {
   "cell_type": "markdown",
   "metadata": {},
   "source": [
    "## Axe Condition"
   ]
  },
  {
   "cell_type": "code",
   "execution_count": 18,
   "metadata": {
    "ExecuteTime": {
     "end_time": "2020-09-09T16:51:53.284827Z",
     "start_time": "2020-09-09T16:51:52.845474Z"
    }
   },
   "outputs": [],
   "source": [
    "getGenerativeSignaler_OneAxe = SignalerZero(oneTokenSignalSpace, signalIsConsistent_Boxes)\n",
    "getReceiverZero_OneAxe = ReceiverZero(commonGroundDictionary=oneAxeCondition, constructMind=getMind, getSignalerZero=getGenerativeSignaler_OneAxe, signalCategoryPrior=signalCategoryPrior)\n",
    "getSignalerOne_OneAxe = SignalerOne(alpha=a, signalSpace=oneTokenSignalSpace,  getActionUtility=getActionUtility, getReceiverZero=getReceiverZero_OneAxe, getSignalCost=getSignalCost)"
   ]
  },
  {
   "cell_type": "code",
   "execution_count": 19,
   "metadata": {
    "ExecuteTime": {
     "end_time": "2020-09-09T16:51:53.321465Z",
     "start_time": "2020-09-09T16:51:53.286038Z"
    },
    "scrolled": true
   },
   "outputs": [
    {
     "data": {
      "text/html": [
       "<div>\n",
       "<style scoped>\n",
       "    .dataframe tbody tr th:only-of-type {\n",
       "        vertical-align: middle;\n",
       "    }\n",
       "\n",
       "    .dataframe tbody tr th {\n",
       "        vertical-align: top;\n",
       "    }\n",
       "\n",
       "    .dataframe thead th {\n",
       "        text-align: right;\n",
       "    }\n",
       "</style>\n",
       "<table border=\"1\" class=\"dataframe\">\n",
       "  <thead>\n",
       "    <tr style=\"text-align: right;\">\n",
       "      <th></th>\n",
       "      <th>probability</th>\n",
       "    </tr>\n",
       "    <tr>\n",
       "      <th>signals</th>\n",
       "      <th></th>\n",
       "    </tr>\n",
       "  </thead>\n",
       "  <tbody>\n",
       "    <tr>\n",
       "      <th>(1, 0, 0)</th>\n",
       "      <td>0.1891</td>\n",
       "    </tr>\n",
       "    <tr>\n",
       "      <th>(0, 1, 0)</th>\n",
       "      <td>0.1891</td>\n",
       "    </tr>\n",
       "    <tr>\n",
       "      <th>(0, 0, 1)</th>\n",
       "      <td>0.3825</td>\n",
       "    </tr>\n",
       "    <tr>\n",
       "      <th>(0, 0, 0)</th>\n",
       "      <td>0.2392</td>\n",
       "    </tr>\n",
       "  </tbody>\n",
       "</table>\n",
       "</div>"
      ],
      "text/plain": [
       "           probability\n",
       "signals               \n",
       "(1, 0, 0)       0.1891\n",
       "(0, 1, 0)       0.1891\n",
       "(0, 0, 1)       0.3825\n",
       "(0, 0, 0)       0.2392"
      ]
     },
     "execution_count": 19,
     "metadata": {},
     "output_type": "execute_result"
    }
   ],
   "source": [
    "observedWorld = {'worlds':(1,1,0)}\n",
    "getSignalerOne_OneAxe(observedWorld).round(4)"
   ]
  },
  {
   "cell_type": "code",
   "execution_count": 20,
   "metadata": {
    "ExecuteTime": {
     "end_time": "2020-09-09T16:51:53.439313Z",
     "start_time": "2020-09-09T16:51:53.426783Z"
    }
   },
   "outputs": [],
   "source": [
    "getS0Axe = ursa.LiteralSpeaker(lexicon=ursa.consistencyLexiconRSA_Misyak, \n",
    "                            messageSet=oneTokenSignalSpace, \n",
    "                            messageCostFunction = lambda x: 0, \n",
    "                            lambdaRationalityParameter = rsaRationality)\n",
    "\n",
    "unifStatePrior = {world: 1/len(twoRewardWorldSpace) for world in twoRewardWorldSpace}\n",
    "getL1Axe = ursa.PragmaticListener(getSpeaker = getS0Axe, \n",
    "                               targetPrior = unifStatePrior, \n",
    "                               meaningPrior = rsaPrior)\n",
    "\n",
    "getS1Axe = ursa.PragmaticSpeaker(getListener=getL1Axe, \n",
    "                              messageSet = oneTokenSignalSpace, \n",
    "                              messageCostFunction= lambda x:0, \n",
    "                              lambdaRationalityParameter = rsaRationality)\n",
    "twoTokenWorld = (1,1,0)"
   ]
  },
  {
   "cell_type": "code",
   "execution_count": 21,
   "metadata": {
    "ExecuteTime": {
     "end_time": "2020-09-09T16:51:55.376295Z",
     "start_time": "2020-09-09T16:51:55.331559Z"
    }
   },
   "outputs": [
    {
     "data": {
      "text/html": [
       "<div>\n",
       "<style scoped>\n",
       "    .dataframe tbody tr th:only-of-type {\n",
       "        vertical-align: middle;\n",
       "    }\n",
       "\n",
       "    .dataframe tbody tr th {\n",
       "        vertical-align: top;\n",
       "    }\n",
       "\n",
       "    .dataframe thead th {\n",
       "        text-align: right;\n",
       "    }\n",
       "</style>\n",
       "<table border=\"1\" class=\"dataframe\">\n",
       "  <thead>\n",
       "    <tr style=\"text-align: right;\">\n",
       "      <th></th>\n",
       "      <th>s1(msg|w)</th>\n",
       "    </tr>\n",
       "    <tr>\n",
       "      <th>signals</th>\n",
       "      <th></th>\n",
       "    </tr>\n",
       "  </thead>\n",
       "  <tbody>\n",
       "    <tr>\n",
       "      <th>(1, 0, 0)</th>\n",
       "      <td>0.25</td>\n",
       "    </tr>\n",
       "    <tr>\n",
       "      <th>(0, 1, 0)</th>\n",
       "      <td>0.25</td>\n",
       "    </tr>\n",
       "    <tr>\n",
       "      <th>(0, 0, 0)</th>\n",
       "      <td>0.25</td>\n",
       "    </tr>\n",
       "    <tr>\n",
       "      <th>(0, 0, 1)</th>\n",
       "      <td>0.25</td>\n",
       "    </tr>\n",
       "  </tbody>\n",
       "</table>\n",
       "</div>"
      ],
      "text/plain": [
       "           s1(msg|w)\n",
       "signals             \n",
       "(1, 0, 0)       0.25\n",
       "(0, 1, 0)       0.25\n",
       "(0, 0, 0)       0.25\n",
       "(0, 0, 1)       0.25"
      ]
     },
     "execution_count": 21,
     "metadata": {},
     "output_type": "execute_result"
    }
   ],
   "source": [
    "getS1Axe(twoTokenWorld)"
   ]
  },
  {
   "cell_type": "code",
   "execution_count": null,
   "metadata": {},
   "outputs": [],
   "source": []
  }
 ],
 "metadata": {
  "kernelspec": {
   "display_name": "Python 3",
   "language": "python",
   "name": "python3"
  },
  "language_info": {
   "codemirror_mode": {
    "name": "ipython",
    "version": 3
   },
   "file_extension": ".py",
   "mimetype": "text/x-python",
   "name": "python",
   "nbconvert_exporter": "python",
   "pygments_lexer": "ipython3",
   "version": "3.5.6"
  },
  "toc": {
   "base_numbering": 1,
   "nav_menu": {},
   "number_sections": true,
   "sideBar": false,
   "skip_h1_title": false,
   "title_cell": "Table of Contents",
   "title_sidebar": "Contents",
   "toc_cell": false,
   "toc_position": {
    "height": "1465.42px",
    "left": "49px",
    "top": "110.883px",
    "width": "165px"
   },
   "toc_section_display": true,
   "toc_window_display": false
  }
 },
 "nbformat": 4,
 "nbformat_minor": 2
}
