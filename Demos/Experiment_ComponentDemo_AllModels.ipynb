{
 "cells": [
  {
   "cell_type": "code",
   "execution_count": null,
   "metadata": {},
   "outputs": [],
   "source": [
    "# need to load in rsa and utility infrastructure"
   ]
  },
  {
   "cell_type": "code",
   "execution_count": 1,
   "metadata": {
    "ExecuteTime": {
     "end_time": "2020-07-20T16:19:20.214857Z",
     "start_time": "2020-07-20T16:19:19.801331Z"
    }
   },
   "outputs": [],
   "source": [
    "import sys\n",
    "import numpy as np\n",
    "import pandas as pd\n",
    "import matplotlib.pyplot as plt\n",
    "import matplotlib.patches as mpatches \n",
    "import seaborn as sns"
   ]
  },
  {
   "cell_type": "code",
   "execution_count": 2,
   "metadata": {
    "ExecuteTime": {
     "end_time": "2020-07-20T16:19:20.227245Z",
     "start_time": "2020-07-20T16:19:20.215923Z"
    }
   },
   "outputs": [],
   "source": [
    "%load_ext autoreload\n",
    "%autoreload 2"
   ]
  },
  {
   "cell_type": "code",
   "execution_count": 14,
   "metadata": {
    "ExecuteTime": {
     "end_time": "2020-07-20T16:36:44.571529Z",
     "start_time": "2020-07-20T16:36:44.559425Z"
    }
   },
   "outputs": [],
   "source": [
    "# Imagined We\n",
    "sys.path.append('/home/stacyste/Documents/Research/OverloadedSignaling/Algorithms/ImaginedWe')\n",
    "from mindConstruction import *\n",
    "from GenerativeSignaler import SignalerZero\n",
    "from OverloadedReceiver import ReceiverZero\n",
    "from OverloadedSignaler import SignalerOne\n",
    "from PragmaticReceiver import ReceiverOne\n",
    "\n",
    "sys.path.append('/home/stacyste/Documents/Research/OverloadedSignaling/Algorithms')\n",
    "import constantNames as NC\n",
    "\n",
    "sys.path.append('/home/stacyste/Documents/Research/OverloadedSignaling/Environments/Experiment')\n",
    "from consistentSignalChecks_Experiment import SignalIsConsistent_Experiment, SignalIsConsistent_ExperimentSeparatedSignals\n",
    "from experimentConstruction import *\n",
    "from setupInference_Experiment import SetupExperiment_SignalsSeparated"
   ]
  },
  {
   "cell_type": "code",
   "execution_count": 5,
   "metadata": {
    "ExecuteTime": {
     "end_time": "2020-07-20T16:19:28.541230Z",
     "start_time": "2020-07-20T16:19:28.531030Z"
    }
   },
   "outputs": [],
   "source": [
    "#RSA\n",
    "sys.path.append('/home/stacyste/Documents/Research/OverloadedSignaling/Algorithms/RSA')\n",
    "from RSAClassical import *\n",
    "from SetupRSAInference import *\n",
    "from visualizationRSA import *\n",
    "from RSAExtensionsForAction import SpeakerActionSignalDistribution"
   ]
  },
  {
   "cell_type": "code",
   "execution_count": 6,
   "metadata": {
    "ExecuteTime": {
     "end_time": "2020-07-20T16:19:29.456535Z",
     "start_time": "2020-07-20T16:19:29.431216Z"
    }
   },
   "outputs": [],
   "source": [
    "#Utility\n",
    "sys.path.append('/home/stacyste/Documents/Research/OverloadedSignaling/Algorithms/JointUtility')\n",
    "from utilityOnlyModel import UtilityDrivenReceiver, UtilityDrivenSignaler, UtilityDrivenSignaler_NoReceiverCosts"
   ]
  },
  {
   "cell_type": "markdown",
   "metadata": {},
   "source": [
    "# Imagined We"
   ]
  },
  {
   "cell_type": "markdown",
   "metadata": {},
   "source": [
    "## Example Trial - Irrational Signaler"
   ]
  },
  {
   "cell_type": "code",
   "execution_count": null,
   "metadata": {
    "ExecuteTime": {
     "end_time": "2020-06-09T16:49:14.416474Z",
     "start_time": "2020-06-09T16:49:14.395841Z"
    }
   },
   "outputs": [],
   "source": [
    "rationality = 4\n",
    "reward = 8\n",
    "s = (4,0)\n",
    "r = (4,7)"
   ]
  },
  {
   "cell_type": "code",
   "execution_count": null,
   "metadata": {
    "ExecuteTime": {
     "end_time": "2020-06-09T16:49:15.987079Z",
     "start_time": "2020-06-09T16:49:15.967905Z"
    }
   },
   "outputs": [],
   "source": [
    "runInference = SetupExperiment_SignalsSeparated(rationality, reward)"
   ]
  },
  {
   "cell_type": "code",
   "execution_count": null,
   "metadata": {
    "ExecuteTime": {
     "end_time": "2020-06-09T16:49:20.610971Z",
     "start_time": "2020-06-09T16:49:19.748416Z"
    }
   },
   "outputs": [],
   "source": [
    "signals = ['purple', 'red', 'green', 'triangle']\n",
    "trgtD = {(3, 6): 'red triangle', (5, 5): 'red circle', (8, 9): 'red square'}\n",
    "receiverX, signalerX, pragReceiverX = runInference(s, r, signals, trgtD)"
   ]
  },
  {
   "cell_type": "code",
   "execution_count": null,
   "metadata": {
    "ExecuteTime": {
     "end_time": "2020-06-09T16:49:21.326014Z",
     "start_time": "2020-06-09T16:49:21.245963Z"
    }
   },
   "outputs": [],
   "source": [
    "receiverX('purple')"
   ]
  },
  {
   "cell_type": "code",
   "execution_count": null,
   "metadata": {
    "ExecuteTime": {
     "end_time": "2020-06-09T16:49:23.539031Z",
     "start_time": "2020-06-09T16:49:22.764091Z"
    },
    "scrolled": true
   },
   "outputs": [],
   "source": [
    "pragReceiverX('purple')"
   ]
  },
  {
   "cell_type": "markdown",
   "metadata": {
    "ExecuteTime": {
     "end_time": "2020-06-09T16:49:56.004701Z",
     "start_time": "2020-06-09T16:49:55.993880Z"
    }
   },
   "source": [
    " Example 2 Costless Reciever"
   ]
  },
  {
   "cell_type": "code",
   "execution_count": 6,
   "metadata": {
    "ExecuteTime": {
     "end_time": "2020-06-09T16:57:01.582263Z",
     "start_time": "2020-06-09T16:57:00.694670Z"
    }
   },
   "outputs": [],
   "source": [
    "rationality = 4\n",
    "reward = 8\n",
    "s = (4,0)\n",
    "r = (4,7)\n",
    "signalSpace_GC = ['green', 'circle']\n",
    "targetDict_GcGtPc = {(0,7): 'green circle', (4,3):'green triangle' , (8,7):'purple circle'}\n",
    "\n",
    "runInference_costlessReceiver = SetupExperiment_SignalsSeparated(rationality, reward, JointActionUtility_CostlessReceiver)\n",
    "receiver3, signaler3, pragReceiver3 = runInference_costlessReceiver(s, r, signalSpace_GC, targetDict_GcGtPc)"
   ]
  },
  {
   "cell_type": "code",
   "execution_count": 7,
   "metadata": {
    "ExecuteTime": {
     "end_time": "2020-06-09T16:57:02.690892Z",
     "start_time": "2020-06-09T16:57:02.533954Z"
    },
    "scrolled": true
   },
   "outputs": [
    {
     "data": {
      "text/html": [
       "<div>\n",
       "<style scoped>\n",
       "    .dataframe tbody tr th:only-of-type {\n",
       "        vertical-align: middle;\n",
       "    }\n",
       "\n",
       "    .dataframe tbody tr th {\n",
       "        vertical-align: top;\n",
       "    }\n",
       "\n",
       "    .dataframe thead th {\n",
       "        text-align: right;\n",
       "    }\n",
       "</style>\n",
       "<table border=\"1\" class=\"dataframe\">\n",
       "  <thead>\n",
       "    <tr style=\"text-align: right;\">\n",
       "      <th></th>\n",
       "      <th>probability</th>\n",
       "    </tr>\n",
       "    <tr>\n",
       "      <th>signals</th>\n",
       "      <th></th>\n",
       "    </tr>\n",
       "  </thead>\n",
       "  <tbody>\n",
       "    <tr>\n",
       "      <th>circle</th>\n",
       "      <td>4.999891e-01</td>\n",
       "    </tr>\n",
       "    <tr>\n",
       "      <th>green</th>\n",
       "      <td>5.000109e-01</td>\n",
       "    </tr>\n",
       "    <tr>\n",
       "      <th>green circle</th>\n",
       "      <td>7.160647e-11</td>\n",
       "    </tr>\n",
       "  </tbody>\n",
       "</table>\n",
       "</div>"
      ],
      "text/plain": [
       "               probability\n",
       "signals                   \n",
       "circle        4.999891e-01\n",
       "green         5.000109e-01\n",
       "green circle  7.160647e-11"
      ]
     },
     "execution_count": 7,
     "metadata": {},
     "output_type": "execute_result"
    }
   ],
   "source": [
    "signaler3({'intentions': 'green circle'})"
   ]
  },
  {
   "cell_type": "code",
   "execution_count": 8,
   "metadata": {
    "ExecuteTime": {
     "end_time": "2020-06-09T16:57:07.710944Z",
     "start_time": "2020-06-09T16:57:07.605412Z"
    }
   },
   "outputs": [
    {
     "data": {
      "text/html": [
       "<div>\n",
       "<style scoped>\n",
       "    .dataframe tbody tr th:only-of-type {\n",
       "        vertical-align: middle;\n",
       "    }\n",
       "\n",
       "    .dataframe tbody tr th {\n",
       "        vertical-align: top;\n",
       "    }\n",
       "\n",
       "    .dataframe thead th {\n",
       "        text-align: right;\n",
       "    }\n",
       "</style>\n",
       "<table border=\"1\" class=\"dataframe\">\n",
       "  <thead>\n",
       "    <tr style=\"text-align: right;\">\n",
       "      <th></th>\n",
       "      <th>probability</th>\n",
       "    </tr>\n",
       "    <tr>\n",
       "      <th>signals</th>\n",
       "      <th></th>\n",
       "    </tr>\n",
       "  </thead>\n",
       "  <tbody>\n",
       "    <tr>\n",
       "      <th>circle</th>\n",
       "      <td>4.299891e-10</td>\n",
       "    </tr>\n",
       "    <tr>\n",
       "      <th>green</th>\n",
       "      <td>7.913843e-01</td>\n",
       "    </tr>\n",
       "    <tr>\n",
       "      <th>green triangle</th>\n",
       "      <td>2.086157e-01</td>\n",
       "    </tr>\n",
       "  </tbody>\n",
       "</table>\n",
       "</div>"
      ],
      "text/plain": [
       "                 probability\n",
       "signals                     \n",
       "circle          4.299891e-10\n",
       "green           7.913843e-01\n",
       "green triangle  2.086157e-01"
      ]
     },
     "execution_count": 8,
     "metadata": {},
     "output_type": "execute_result"
    }
   ],
   "source": [
    "signaler3({'intentions': 'green triangle'})"
   ]
  },
  {
   "cell_type": "markdown",
   "metadata": {},
   "source": [
    "## Example: Signaler Should Quit"
   ]
  },
  {
   "cell_type": "code",
   "execution_count": null,
   "metadata": {},
   "outputs": [],
   "source": [
    "rationality = 4\n",
    "reward = 8\n",
    "s = (4,0)\n",
    "r = (4,7)\n",
    "signals = ['purple', 'red', 'green', 'triangle']\n",
    "trgtD = {(3, 6): 'red triangle', (5, 5): 'red circle', (8, 9): 'red square'}"
   ]
  },
  {
   "cell_type": "code",
   "execution_count": null,
   "metadata": {},
   "outputs": [],
   "source": [
    "runInference = SetupExperiment_SignalsSeparated(rationality, reward)\n",
    "receiverX, signalerX, pragReceiverX = runInference(s, r, signals, trgtD)"
   ]
  },
  {
   "cell_type": "code",
   "execution_count": null,
   "metadata": {},
   "outputs": [],
   "source": []
  },
  {
   "cell_type": "code",
   "execution_count": null,
   "metadata": {},
   "outputs": [],
   "source": []
  },
  {
   "cell_type": "markdown",
   "metadata": {},
   "source": [
    "## Step By Step Components"
   ]
  },
  {
   "cell_type": "markdown",
   "metadata": {},
   "source": [
    "### Setup Params"
   ]
  },
  {
   "cell_type": "code",
   "execution_count": 36,
   "metadata": {
    "ExecuteTime": {
     "end_time": "2020-07-20T16:44:53.784498Z",
     "start_time": "2020-07-20T16:44:53.772871Z"
    }
   },
   "outputs": [],
   "source": [
    "signalerLocation = (4,0)\n",
    "receiverLocation = (4,7)\n",
    "targetDictionary = {(0,2): 'green triangle', (0,3): 'green circle' , (1,3): 'purple circle'}\n",
    "\n",
    "beta = 4\n",
    "valueOfReward = 8\n",
    "signalSpace = ['green', 'circle']"
   ]
  },
  {
   "cell_type": "code",
   "execution_count": 37,
   "metadata": {
    "ExecuteTime": {
     "end_time": "2020-07-20T16:44:54.077827Z",
     "start_time": "2020-07-20T16:44:54.055873Z"
    }
   },
   "outputs": [],
   "source": [
    "getCost = calculateLocationCost_TaxicabMetric\n",
    "\n",
    "getUtility = JointActionUtility(costFunction=getCost, \n",
    "                                valueOfReward=valueOfReward, \n",
    "                                signalerLocation=signalerLocation, \n",
    "                                receiverLocation=receiverLocation, \n",
    "                                targetDictionary= targetDictionary)\n",
    "\n",
    "getActionDistribution = ActionDistributionGivenWorldGoal(beta, getUtility)\n",
    "getMind = GenerateMind(getWorldProbabiltiy_Uniform, getDesireProbability_Uniform, getGoalGivenWorldAndDesire_Uniform, getActionDistribution)\n",
    "\n",
    "\n",
    "actionSpace = getActionSpace_SignalsSeparated(targetDictionary=targetDictionary,\n",
    "            signalerPosition = signalerLocation, \n",
    "            receiverPosition = receiverLocation)\n",
    "#condition parameters\n",
    "condition1 = {'worlds': [1], \n",
    "              'desires': [1], \n",
    "              'intentions': ['green triangle', 'green circle', 'purple circle'], \n",
    "              'actions': actionSpace}\n",
    "signalCategoryPrior = {'1':1}\n",
    "signalIsConsistent = SignalIsConsistent_ExperimentSeparatedSignals(targetDictionary, signalerLocation, receiverLocation)"
   ]
  },
  {
   "cell_type": "code",
   "execution_count": 38,
   "metadata": {
    "ExecuteTime": {
     "end_time": "2020-07-20T16:44:54.990347Z",
     "start_time": "2020-07-20T16:44:54.519193Z"
    }
   },
   "outputs": [
    {
     "data": {
      "text/html": [
       "<div>\n",
       "<style scoped>\n",
       "    .dataframe tbody tr th:only-of-type {\n",
       "        vertical-align: middle;\n",
       "    }\n",
       "\n",
       "    .dataframe tbody tr th {\n",
       "        vertical-align: top;\n",
       "    }\n",
       "\n",
       "    .dataframe thead th {\n",
       "        text-align: right;\n",
       "    }\n",
       "</style>\n",
       "<table border=\"1\" class=\"dataframe\">\n",
       "  <thead>\n",
       "    <tr style=\"text-align: right;\">\n",
       "      <th></th>\n",
       "      <th></th>\n",
       "      <th></th>\n",
       "      <th></th>\n",
       "      <th>p(mind)</th>\n",
       "    </tr>\n",
       "    <tr>\n",
       "      <th>intentions</th>\n",
       "      <th>actions</th>\n",
       "      <th>worlds</th>\n",
       "      <th>desires</th>\n",
       "      <th></th>\n",
       "    </tr>\n",
       "  </thead>\n",
       "  <tbody>\n",
       "    <tr>\n",
       "      <th rowspan=\"2\" valign=\"top\">green circle</th>\n",
       "      <th>((0, 3), (4, 7))</th>\n",
       "      <th>1</th>\n",
       "      <th>1</th>\n",
       "      <td>0.327338</td>\n",
       "    </tr>\n",
       "    <tr>\n",
       "      <th>((4, 0), (0, 3))</th>\n",
       "      <th>1</th>\n",
       "      <th>1</th>\n",
       "      <td>0.005995</td>\n",
       "    </tr>\n",
       "    <tr>\n",
       "      <th>green triangle</th>\n",
       "      <th>((0, 2), (4, 7))</th>\n",
       "      <th>1</th>\n",
       "      <th>1</th>\n",
       "      <td>0.333331</td>\n",
       "    </tr>\n",
       "    <tr>\n",
       "      <th rowspan=\"2\" valign=\"top\">purple circle</th>\n",
       "      <th>((1, 3), (4, 7))</th>\n",
       "      <th>1</th>\n",
       "      <th>1</th>\n",
       "      <td>0.327338</td>\n",
       "    </tr>\n",
       "    <tr>\n",
       "      <th>((4, 0), (1, 3))</th>\n",
       "      <th>1</th>\n",
       "      <th>1</th>\n",
       "      <td>0.005995</td>\n",
       "    </tr>\n",
       "  </tbody>\n",
       "</table>\n",
       "</div>"
      ],
      "text/plain": [
       "                                                 p(mind)\n",
       "intentions     actions          worlds desires          \n",
       "green circle   ((0, 3), (4, 7)) 1      1        0.327338\n",
       "               ((4, 0), (0, 3)) 1      1        0.005995\n",
       "green triangle ((0, 2), (4, 7)) 1      1        0.333331\n",
       "purple circle  ((1, 3), (4, 7)) 1      1        0.327338\n",
       "               ((4, 0), (1, 3)) 1      1        0.005995"
      ]
     },
     "execution_count": 38,
     "metadata": {},
     "output_type": "execute_result"
    }
   ],
   "source": [
    "mindPrior = getMind(condition1)\n",
    "mindPrior.loc[mindPrior['p(mind)']>.001]"
   ]
  },
  {
   "cell_type": "markdown",
   "metadata": {},
   "source": [
    "Utility"
   ]
  },
  {
   "cell_type": "code",
   "execution_count": null,
   "metadata": {},
   "outputs": [],
   "source": []
  },
  {
   "cell_type": "code",
   "execution_count": null,
   "metadata": {
    "ExecuteTime": {
     "end_time": "2020-06-09T16:45:42.401223Z",
     "start_time": "2020-06-09T16:45:42.389455Z"
    }
   },
   "outputs": [],
   "source": [
    "getU = JointActionUtility_CostlessReceiver(costFunction=calculateLocationCost_TaxicabMetric, \n",
    "                                    valueOfReward=valueOfReward, \n",
    "                                    signalerLocation=signalerLocation, \n",
    "                                    receiverLocation=receiverLocation, \n",
    "                                    targetDictionary=targetDictionary)"
   ]
  },
  {
   "cell_type": "code",
   "execution_count": null,
   "metadata": {
    "ExecuteTime": {
     "end_time": "2020-06-09T16:48:50.066009Z",
     "start_time": "2020-06-09T16:48:50.054008Z"
    }
   },
   "outputs": [],
   "source": [
    "a = ((5,0), (5,6))\n",
    "w = 1\n",
    "g = 'green circle'\n",
    "getU(a, w, g)"
   ]
  },
  {
   "cell_type": "markdown",
   "metadata": {},
   "source": [
    "Mind PDFs"
   ]
  },
  {
   "cell_type": "code",
   "execution_count": null,
   "metadata": {
    "ExecuteTime": {
     "end_time": "2020-06-09T16:33:39.537903Z",
     "start_time": "2020-06-09T16:33:39.461874Z"
    }
   },
   "outputs": [],
   "source": [
    "#P(a|w,i)\n",
    "actionSpace = getActionSpace(targetDictionary, signalDictionary, signalerLocation, receiverLocation, False)\n",
    "actionPDF = getActionDistribution(actionSpace, 1, 'green triangle')\n",
    "actionPDF.loc[actionPDF[NC.P_ACTION] > .001]"
   ]
  },
  {
   "cell_type": "code",
   "execution_count": null,
   "metadata": {
    "ExecuteTime": {
     "end_time": "2020-06-09T16:34:07.746253Z",
     "start_time": "2020-06-09T16:34:07.723402Z"
    }
   },
   "outputs": [],
   "source": [
    "#P(i|w,d)\n",
    "getGoalGivenWorldAndDesire_Uniform (['green triangle', 'green circle', 'purple circle'], 1, 1)"
   ]
  },
  {
   "cell_type": "markdown",
   "metadata": {},
   "source": [
    "Example P(mind) prior distribution"
   ]
  },
  {
   "cell_type": "code",
   "execution_count": null,
   "metadata": {
    "ExecuteTime": {
     "end_time": "2020-06-01T23:38:09.802530Z",
     "start_time": "2020-06-01T23:38:09.267275Z"
    }
   },
   "outputs": [],
   "source": [
    "#condition parameters\n",
    "condition2 = {'worlds': [1], \n",
    "              'desires': [1], \n",
    "              'intentions': ['green circle'], \n",
    "              'actions': actionSpace}\n",
    "mind2 = getMind(condition2)"
   ]
  },
  {
   "cell_type": "code",
   "execution_count": null,
   "metadata": {
    "ExecuteTime": {
     "end_time": "2020-06-01T23:38:09.987257Z",
     "start_time": "2020-06-01T23:38:09.970031Z"
    }
   },
   "outputs": [],
   "source": [
    "mind2.loc[mind2['p(mind)'] > .001]"
   ]
  },
  {
   "cell_type": "markdown",
   "metadata": {},
   "source": [
    "Signaler Zero - Generative"
   ]
  },
  {
   "cell_type": "code",
   "execution_count": null,
   "metadata": {
    "ExecuteTime": {
     "end_time": "2020-06-01T23:38:11.543004Z",
     "start_time": "2020-06-01T23:38:11.483242Z"
    }
   },
   "outputs": [],
   "source": [
    "generativeSignaler2 = getGenerativeSignaler(targetMind=mind2, signalerCategory=1)\n",
    "generativeSignaler2.loc[generativeSignaler2['p(signal|mind,c)'] > .01]"
   ]
  },
  {
   "cell_type": "code",
   "execution_count": null,
   "metadata": {
    "ExecuteTime": {
     "end_time": "2020-06-01T23:38:19.835931Z",
     "start_time": "2020-06-01T23:38:19.702506Z"
    },
    "scrolled": false
   },
   "outputs": [],
   "source": [
    "#another example\n",
    "mind1 = getMind(condition1)\n",
    "generativeSignaler = getGenerativeSignaler(targetMind=mind1, signalerCategory=1)\n",
    "generativeSignaler.loc[generativeSignaler['p(signal|mind,c)'] > .01]"
   ]
  },
  {
   "cell_type": "markdown",
   "metadata": {},
   "source": [
    "Receiver Zero"
   ]
  },
  {
   "cell_type": "code",
   "execution_count": null,
   "metadata": {
    "ExecuteTime": {
     "end_time": "2020-06-01T23:38:22.722492Z",
     "start_time": "2020-06-01T23:38:22.576177Z"
    },
    "scrolled": false
   },
   "outputs": [],
   "source": [
    "rec_green = getReceiverZero('green')\n",
    "rec_green.loc[rec_green['p(mind|signal)'] > .0001]"
   ]
  },
  {
   "cell_type": "code",
   "execution_count": null,
   "metadata": {
    "ExecuteTime": {
     "end_time": "2020-06-01T23:38:23.426942Z",
     "start_time": "2020-06-01T23:38:23.271485Z"
    }
   },
   "outputs": [],
   "source": [
    "rec_green = getReceiverZero('circle')\n",
    "rec_green.loc[rec_green['p(mind|signal)'] > .0001]"
   ]
  },
  {
   "cell_type": "markdown",
   "metadata": {},
   "source": [
    "Pragmatic Signaler"
   ]
  },
  {
   "cell_type": "code",
   "execution_count": null,
   "metadata": {
    "ExecuteTime": {
     "end_time": "2020-06-01T23:38:28.472893Z",
     "start_time": "2020-06-01T23:38:27.766155Z"
    }
   },
   "outputs": [],
   "source": [
    "getSignalerOne({'intentions':'green circle'})"
   ]
  },
  {
   "cell_type": "code",
   "execution_count": null,
   "metadata": {
    "ExecuteTime": {
     "end_time": "2020-06-01T23:38:29.770995Z",
     "start_time": "2020-06-01T23:38:29.066850Z"
    }
   },
   "outputs": [],
   "source": [
    "getSignalerOne({'intentions':'green triangle'})"
   ]
  },
  {
   "cell_type": "code",
   "execution_count": null,
   "metadata": {
    "ExecuteTime": {
     "end_time": "2020-06-01T23:38:31.052211Z",
     "start_time": "2020-06-01T23:38:30.316319Z"
    }
   },
   "outputs": [],
   "source": [
    "a = getSignalerOne({'intentions':'purple circle'})\n",
    "a"
   ]
  },
  {
   "cell_type": "markdown",
   "metadata": {},
   "source": [
    "# RSA"
   ]
  },
  {
   "cell_type": "markdown",
   "metadata": {},
   "source": [
    "## Example Trial"
   ]
  },
  {
   "cell_type": "code",
   "execution_count": 20,
   "metadata": {
    "ExecuteTime": {
     "end_time": "2020-07-01T00:01:13.470434Z",
     "start_time": "2020-07-01T00:01:13.457183Z"
    }
   },
   "outputs": [],
   "source": [
    "rationality = 4\n",
    "reward = 8\n",
    "setupRSAExperimentSpeaker = SetupExperiment_RSASpeakerWithActionChoice(rationality=rationality, valueOfReward=reward)\n",
    "setupRSAExperimentSpeaker_R0 = SetupExperiment_RSASpeakerWithActionChoice(rationality=rationality, valueOfReward=reward, SpeakerWActionPDF = SpeakerActionSignalDistribution_NoReceiverCost)\n",
    "setupRSAExperimentSpeakerLanguageOnly = SetupExperiment_RSASpeakerInference(rationality=rationality)\n",
    "setupRSAExperimentReceiver = SetupExperiment_RSAListenerInference(rationality=rationality)"
   ]
  },
  {
   "cell_type": "code",
   "execution_count": 16,
   "metadata": {
    "ExecuteTime": {
     "end_time": "2020-06-30T23:59:03.255338Z",
     "start_time": "2020-06-30T23:59:03.242612Z"
    }
   },
   "outputs": [],
   "source": [
    "s = (4,0)\n",
    "r = (4,7)\n",
    "signalSpace_GC = ['green', 'circle']\n",
    "targetDict_GcGtPc = {(0,7): 'green circle', (4,3):'green triangle' , (8,7):'purple circle'}\n",
    "\n",
    "uniformPrior_3Item = {'green triangle': 1.0/3, 'green circle': 1.0/3, 'purple circle': 1.0/3}"
   ]
  },
  {
   "cell_type": "code",
   "execution_count": 17,
   "metadata": {
    "ExecuteTime": {
     "end_time": "2020-06-30T23:59:04.734916Z",
     "start_time": "2020-06-30T23:59:04.691165Z"
    },
    "scrolled": true
   },
   "outputs": [
    {
     "data": {
      "text/html": [
       "<div>\n",
       "<style scoped>\n",
       "    .dataframe tbody tr th:only-of-type {\n",
       "        vertical-align: middle;\n",
       "    }\n",
       "\n",
       "    .dataframe tbody tr th {\n",
       "        vertical-align: top;\n",
       "    }\n",
       "\n",
       "    .dataframe thead th {\n",
       "        text-align: right;\n",
       "    }\n",
       "</style>\n",
       "<table border=\"1\" class=\"dataframe\">\n",
       "  <thead>\n",
       "    <tr style=\"text-align: right;\">\n",
       "      <th></th>\n",
       "      <th>probability</th>\n",
       "    </tr>\n",
       "    <tr>\n",
       "      <th>signals</th>\n",
       "      <th></th>\n",
       "    </tr>\n",
       "  </thead>\n",
       "  <tbody>\n",
       "    <tr>\n",
       "      <th>circle</th>\n",
       "      <td>2.319522e-16</td>\n",
       "    </tr>\n",
       "    <tr>\n",
       "      <th>green</th>\n",
       "      <td>4.269209e-07</td>\n",
       "    </tr>\n",
       "    <tr>\n",
       "      <th>green triangle</th>\n",
       "      <td>9.999996e-01</td>\n",
       "    </tr>\n",
       "  </tbody>\n",
       "</table>\n",
       "</div>"
      ],
      "text/plain": [
       "                 probability\n",
       "signals                     \n",
       "circle          2.319522e-16\n",
       "green           4.269209e-07\n",
       "green triangle  9.999996e-01"
      ]
     },
     "execution_count": 17,
     "metadata": {},
     "output_type": "execute_result"
    }
   ],
   "source": [
    "rsaSpeaker = setupRSAExperimentSpeaker(targetPrior = uniformPrior_3Item, signalSpace=signalSpace_GC, targetDictionary=targetDict_GcGtPc, signalerLocation=s, receiverLocation=r)\n",
    "rsaSpeaker('green triangle')"
   ]
  },
  {
   "cell_type": "code",
   "execution_count": 21,
   "metadata": {
    "ExecuteTime": {
     "end_time": "2020-07-01T00:01:18.850542Z",
     "start_time": "2020-07-01T00:01:18.806204Z"
    }
   },
   "outputs": [
    {
     "data": {
      "text/html": [
       "<div>\n",
       "<style scoped>\n",
       "    .dataframe tbody tr th:only-of-type {\n",
       "        vertical-align: middle;\n",
       "    }\n",
       "\n",
       "    .dataframe tbody tr th {\n",
       "        vertical-align: top;\n",
       "    }\n",
       "\n",
       "    .dataframe thead th {\n",
       "        text-align: right;\n",
       "    }\n",
       "</style>\n",
       "<table border=\"1\" class=\"dataframe\">\n",
       "  <thead>\n",
       "    <tr style=\"text-align: right;\">\n",
       "      <th></th>\n",
       "      <th>probability</th>\n",
       "    </tr>\n",
       "    <tr>\n",
       "      <th>signals</th>\n",
       "      <th></th>\n",
       "    </tr>\n",
       "  </thead>\n",
       "  <tbody>\n",
       "    <tr>\n",
       "      <th>circle</th>\n",
       "      <td>4.299742e-10</td>\n",
       "    </tr>\n",
       "    <tr>\n",
       "      <th>green</th>\n",
       "      <td>7.913915e-01</td>\n",
       "    </tr>\n",
       "    <tr>\n",
       "      <th>green triangle</th>\n",
       "      <td>2.086085e-01</td>\n",
       "    </tr>\n",
       "  </tbody>\n",
       "</table>\n",
       "</div>"
      ],
      "text/plain": [
       "                 probability\n",
       "signals                     \n",
       "circle          4.299742e-10\n",
       "green           7.913915e-01\n",
       "green triangle  2.086085e-01"
      ]
     },
     "execution_count": 21,
     "metadata": {},
     "output_type": "execute_result"
    }
   ],
   "source": [
    "rsaSpeaker = setupRSAExperimentSpeaker_R0(targetPrior = uniformPrior_3Item, signalSpace=signalSpace_GC, targetDictionary=targetDict_GcGtPc, signalerLocation=s, receiverLocation=r)\n",
    "rsaSpeaker('green triangle')"
   ]
  },
  {
   "cell_type": "code",
   "execution_count": null,
   "metadata": {},
   "outputs": [],
   "source": [
    "rsaSpeaker = setupRSAExperimentSpeaker(targetPrior = uniformPrior_3Item, signalSpace=signalSpace_GC, targetDictionary=targetDict_GcGtPc, signalerLocation=s, receiverLocation=r)\n",
    "rsaSpeaker('green triangle')"
   ]
  },
  {
   "cell_type": "code",
   "execution_count": 12,
   "metadata": {
    "ExecuteTime": {
     "end_time": "2020-06-30T18:16:28.213231Z",
     "start_time": "2020-06-30T18:16:28.143259Z"
    }
   },
   "outputs": [
    {
     "data": {
      "text/html": [
       "<div>\n",
       "<style scoped>\n",
       "    .dataframe tbody tr th:only-of-type {\n",
       "        vertical-align: middle;\n",
       "    }\n",
       "\n",
       "    .dataframe tbody tr th {\n",
       "        vertical-align: top;\n",
       "    }\n",
       "\n",
       "    .dataframe thead th {\n",
       "        text-align: right;\n",
       "    }\n",
       "</style>\n",
       "<table border=\"1\" class=\"dataframe\">\n",
       "  <thead>\n",
       "    <tr style=\"text-align: right;\">\n",
       "      <th></th>\n",
       "      <th>probability</th>\n",
       "    </tr>\n",
       "    <tr>\n",
       "      <th>signals</th>\n",
       "      <th></th>\n",
       "    </tr>\n",
       "  </thead>\n",
       "  <tbody>\n",
       "    <tr>\n",
       "      <th>circle</th>\n",
       "      <td>0.499682</td>\n",
       "    </tr>\n",
       "    <tr>\n",
       "      <th>green</th>\n",
       "      <td>0.499682</td>\n",
       "    </tr>\n",
       "    <tr>\n",
       "      <th>green circle</th>\n",
       "      <td>0.000636</td>\n",
       "    </tr>\n",
       "  </tbody>\n",
       "</table>\n",
       "</div>"
      ],
      "text/plain": [
       "              probability\n",
       "signals                  \n",
       "circle           0.499682\n",
       "green            0.499682\n",
       "green circle     0.000636"
      ]
     },
     "execution_count": 12,
     "metadata": {},
     "output_type": "execute_result"
    }
   ],
   "source": [
    "rsaSpeaker = setupRSAExperimentSpeaker(targetPrior = uniformPrior_3Item, signalSpace=signalSpace_GC, targetDictionary=targetDict_GcGtPc, signalerLocation=s, receiverLocation=r)\n",
    "rsaSpeaker('green circle')"
   ]
  },
  {
   "cell_type": "markdown",
   "metadata": {},
   "source": [
    "## Same Example but no receiver costs"
   ]
  },
  {
   "cell_type": "code",
   "execution_count": 29,
   "metadata": {
    "ExecuteTime": {
     "end_time": "2020-06-09T18:31:39.783141Z",
     "start_time": "2020-06-09T18:31:39.757229Z"
    }
   },
   "outputs": [],
   "source": [
    "setupRSASpeaker_NoReceiverCosts = SetupExperiment_RSASpeakerWithActionChoice_NoReceiverCost(rationality=rationality, valueOfReward=reward)"
   ]
  },
  {
   "cell_type": "code",
   "execution_count": 30,
   "metadata": {
    "ExecuteTime": {
     "end_time": "2020-06-09T18:31:49.541958Z",
     "start_time": "2020-06-09T18:31:49.503670Z"
    }
   },
   "outputs": [
    {
     "data": {
      "text/html": [
       "<div>\n",
       "<style scoped>\n",
       "    .dataframe tbody tr th:only-of-type {\n",
       "        vertical-align: middle;\n",
       "    }\n",
       "\n",
       "    .dataframe tbody tr th {\n",
       "        vertical-align: top;\n",
       "    }\n",
       "\n",
       "    .dataframe thead th {\n",
       "        text-align: right;\n",
       "    }\n",
       "</style>\n",
       "<table border=\"1\" class=\"dataframe\">\n",
       "  <thead>\n",
       "    <tr style=\"text-align: right;\">\n",
       "      <th></th>\n",
       "      <th>probability</th>\n",
       "    </tr>\n",
       "    <tr>\n",
       "      <th>signals</th>\n",
       "      <th></th>\n",
       "    </tr>\n",
       "  </thead>\n",
       "  <tbody>\n",
       "    <tr>\n",
       "      <th>circle</th>\n",
       "      <td>5.000000e-01</td>\n",
       "    </tr>\n",
       "    <tr>\n",
       "      <th>green</th>\n",
       "      <td>5.000000e-01</td>\n",
       "    </tr>\n",
       "    <tr>\n",
       "      <th>green circle</th>\n",
       "      <td>7.160803e-11</td>\n",
       "    </tr>\n",
       "  </tbody>\n",
       "</table>\n",
       "</div>"
      ],
      "text/plain": [
       "               probability\n",
       "signals                   \n",
       "circle        5.000000e-01\n",
       "green         5.000000e-01\n",
       "green circle  7.160803e-11"
      ]
     },
     "execution_count": 30,
     "metadata": {},
     "output_type": "execute_result"
    }
   ],
   "source": [
    "rsaSpeaker_noReceiverCosts = setupRSASpeaker_NoReceiverCosts(targetPrior = uniformPrior_3Item, signalSpace=signalSpace_GC, targetDictionary=targetDict_GcGtPc, signalerLocation=s, receiverLocation=r)\n",
    "rsaSpeaker_noReceiverCosts('green circle')"
   ]
  },
  {
   "cell_type": "code",
   "execution_count": 31,
   "metadata": {
    "ExecuteTime": {
     "end_time": "2020-06-09T18:32:02.065261Z",
     "start_time": "2020-06-09T18:32:02.026015Z"
    }
   },
   "outputs": [
    {
     "data": {
      "text/html": [
       "<div>\n",
       "<style scoped>\n",
       "    .dataframe tbody tr th:only-of-type {\n",
       "        vertical-align: middle;\n",
       "    }\n",
       "\n",
       "    .dataframe tbody tr th {\n",
       "        vertical-align: top;\n",
       "    }\n",
       "\n",
       "    .dataframe thead th {\n",
       "        text-align: right;\n",
       "    }\n",
       "</style>\n",
       "<table border=\"1\" class=\"dataframe\">\n",
       "  <thead>\n",
       "    <tr style=\"text-align: right;\">\n",
       "      <th></th>\n",
       "      <th>probability</th>\n",
       "    </tr>\n",
       "    <tr>\n",
       "      <th>signals</th>\n",
       "      <th></th>\n",
       "    </tr>\n",
       "  </thead>\n",
       "  <tbody>\n",
       "    <tr>\n",
       "      <th>circle</th>\n",
       "      <td>4.299742e-10</td>\n",
       "    </tr>\n",
       "    <tr>\n",
       "      <th>green</th>\n",
       "      <td>7.913915e-01</td>\n",
       "    </tr>\n",
       "    <tr>\n",
       "      <th>green triangle</th>\n",
       "      <td>2.086085e-01</td>\n",
       "    </tr>\n",
       "  </tbody>\n",
       "</table>\n",
       "</div>"
      ],
      "text/plain": [
       "                 probability\n",
       "signals                     \n",
       "circle          4.299742e-10\n",
       "green           7.913915e-01\n",
       "green triangle  2.086085e-01"
      ]
     },
     "execution_count": 31,
     "metadata": {},
     "output_type": "execute_result"
    }
   ],
   "source": [
    "rsaSpeaker_noReceiverCosts('green triangle')"
   ]
  },
  {
   "cell_type": "markdown",
   "metadata": {},
   "source": [
    "## Example Case: More Vocab than observed features"
   ]
  },
  {
   "cell_type": "code",
   "execution_count": 15,
   "metadata": {
    "ExecuteTime": {
     "end_time": "2020-06-09T18:16:05.454621Z",
     "start_time": "2020-06-09T18:16:05.437628Z"
    }
   },
   "outputs": [],
   "source": [
    "items_RT_GC = ['red triangle', 'green circle']\n",
    "prior_RT_GC = {item:.5 for item in items_RT_GC}\n",
    "signalSpace_RT_GC = ['green', 'red', 'triangle', 'purple']\n",
    "targetDict_RT_GC = {(2,8): 'red triangle', (4,3): 'green circle'}\n",
    "s = (4,0)\n",
    "r = (4,7)"
   ]
  },
  {
   "cell_type": "code",
   "execution_count": 16,
   "metadata": {
    "ExecuteTime": {
     "end_time": "2020-06-09T18:16:06.026812Z",
     "start_time": "2020-06-09T18:16:05.980679Z"
    }
   },
   "outputs": [
    {
     "data": {
      "text/html": [
       "<div>\n",
       "<style scoped>\n",
       "    .dataframe tbody tr th:only-of-type {\n",
       "        vertical-align: middle;\n",
       "    }\n",
       "\n",
       "    .dataframe tbody tr th {\n",
       "        vertical-align: top;\n",
       "    }\n",
       "\n",
       "    .dataframe thead th {\n",
       "        text-align: right;\n",
       "    }\n",
       "</style>\n",
       "<table border=\"1\" class=\"dataframe\">\n",
       "  <thead>\n",
       "    <tr style=\"text-align: right;\">\n",
       "      <th></th>\n",
       "      <th>probability</th>\n",
       "    </tr>\n",
       "    <tr>\n",
       "      <th>signals</th>\n",
       "      <th></th>\n",
       "    </tr>\n",
       "  </thead>\n",
       "  <tbody>\n",
       "    <tr>\n",
       "      <th>green</th>\n",
       "      <td>1.798618e-02</td>\n",
       "    </tr>\n",
       "    <tr>\n",
       "      <th>purple</th>\n",
       "      <td>1.590464e-06</td>\n",
       "    </tr>\n",
       "    <tr>\n",
       "      <th>red</th>\n",
       "      <td>1.243637e-14</td>\n",
       "    </tr>\n",
       "    <tr>\n",
       "      <th>triangle</th>\n",
       "      <td>1.243637e-14</td>\n",
       "    </tr>\n",
       "    <tr>\n",
       "      <th>green circle</th>\n",
       "      <td>9.820122e-01</td>\n",
       "    </tr>\n",
       "  </tbody>\n",
       "</table>\n",
       "</div>"
      ],
      "text/plain": [
       "               probability\n",
       "signals                   \n",
       "green         1.798618e-02\n",
       "purple        1.590464e-06\n",
       "red           1.243637e-14\n",
       "triangle      1.243637e-14\n",
       "green circle  9.820122e-01"
      ]
     },
     "execution_count": 16,
     "metadata": {},
     "output_type": "execute_result"
    }
   ],
   "source": [
    "speaker_TooMuchVocab = setupExperimentSpeaker(targetPrior = prior_RT_GC, signalSpace=signalSpace_RT_GC, targetDictionary=targetDict_RT_GC, signalerLocation=s, receiverLocation=r)\n",
    "speaker_TooMuchVocab('green circle')"
   ]
  },
  {
   "cell_type": "code",
   "execution_count": 17,
   "metadata": {
    "ExecuteTime": {
     "end_time": "2020-06-09T18:16:06.741138Z",
     "start_time": "2020-06-09T18:16:06.719997Z"
    }
   },
   "outputs": [
    {
     "data": {
      "text/html": [
       "<div>\n",
       "<style scoped>\n",
       "    .dataframe tbody tr th:only-of-type {\n",
       "        vertical-align: middle;\n",
       "    }\n",
       "\n",
       "    .dataframe tbody tr th {\n",
       "        vertical-align: top;\n",
       "    }\n",
       "\n",
       "    .dataframe thead th {\n",
       "        text-align: right;\n",
       "    }\n",
       "</style>\n",
       "<table border=\"1\" class=\"dataframe\">\n",
       "  <thead>\n",
       "    <tr style=\"text-align: right;\">\n",
       "      <th></th>\n",
       "      <th>s1(msg|w)</th>\n",
       "    </tr>\n",
       "    <tr>\n",
       "      <th>signals</th>\n",
       "      <th></th>\n",
       "    </tr>\n",
       "  </thead>\n",
       "  <tbody>\n",
       "    <tr>\n",
       "      <th>purple</th>\n",
       "      <td>1.649485e-01</td>\n",
       "    </tr>\n",
       "    <tr>\n",
       "      <th>triangle</th>\n",
       "      <td>1.336082e-143</td>\n",
       "    </tr>\n",
       "    <tr>\n",
       "      <th>red</th>\n",
       "      <td>1.336082e-143</td>\n",
       "    </tr>\n",
       "    <tr>\n",
       "      <th>green</th>\n",
       "      <td>8.350515e-01</td>\n",
       "    </tr>\n",
       "  </tbody>\n",
       "</table>\n",
       "</div>"
      ],
      "text/plain": [
       "              s1(msg|w)\n",
       "signals                \n",
       "purple     1.649485e-01\n",
       "triangle  1.336082e-143\n",
       "red       1.336082e-143\n",
       "green      8.350515e-01"
      ]
     },
     "execution_count": 17,
     "metadata": {},
     "output_type": "execute_result"
    }
   ],
   "source": [
    "speaker_TooMuchVocab_Language = setupExperimentSpeakerLanguageOnly(targetPrior = prior_RT_GC, signalSpace=signalSpace_RT_GC)\n",
    "speaker_TooMuchVocab_Language('green circle')"
   ]
  },
  {
   "cell_type": "code",
   "execution_count": 18,
   "metadata": {
    "ExecuteTime": {
     "end_time": "2020-06-09T18:16:07.582008Z",
     "start_time": "2020-06-09T18:16:07.562301Z"
    }
   },
   "outputs": [
    {
     "name": "stderr",
     "output_type": "stream",
     "text": [
      "/home/stacyste/Documents/Research/OverloadedSignaling/Algorithms/ImaginedWe/../../Algorithms/RSA/RSAClassical.py:31: UserWarning: RSA: Normalizing a distribution w/o mass\n",
      "  warnings.warn('RSA: Normalizing a distribution w/o mass')\n",
      "/home/stacyste/Documents/Research/OverloadedSignaling/Algorithms/ImaginedWe/../../Algorithms/RSA/RSAClassical.py:31: UserWarning: RSA: Normalizing a distribution w/o mass\n",
      "  warnings.warn('RSA: Normalizing a distribution w/o mass')\n"
     ]
    },
    {
     "data": {
      "text/html": [
       "<div>\n",
       "<style scoped>\n",
       "    .dataframe tbody tr th:only-of-type {\n",
       "        vertical-align: middle;\n",
       "    }\n",
       "\n",
       "    .dataframe tbody tr th {\n",
       "        vertical-align: top;\n",
       "    }\n",
       "\n",
       "    .dataframe thead th {\n",
       "        text-align: right;\n",
       "    }\n",
       "</style>\n",
       "<table border=\"1\" class=\"dataframe\">\n",
       "  <thead>\n",
       "    <tr style=\"text-align: right;\">\n",
       "      <th></th>\n",
       "      <th>l1(w|msg)</th>\n",
       "    </tr>\n",
       "    <tr>\n",
       "      <th>intentions</th>\n",
       "      <th></th>\n",
       "    </tr>\n",
       "  </thead>\n",
       "  <tbody>\n",
       "    <tr>\n",
       "      <th>green circle</th>\n",
       "      <td>2.000000e-36</td>\n",
       "    </tr>\n",
       "    <tr>\n",
       "      <th>red triangle</th>\n",
       "      <td>1.000000e+00</td>\n",
       "    </tr>\n",
       "  </tbody>\n",
       "</table>\n",
       "</div>"
      ],
      "text/plain": [
       "                 l1(w|msg)\n",
       "intentions                \n",
       "green circle  2.000000e-36\n",
       "red triangle  1.000000e+00"
      ]
     },
     "execution_count": 18,
     "metadata": {},
     "output_type": "execute_result"
    }
   ],
   "source": [
    "receiver_TooMuchVocab = setupExperimentReceiver(targetPrior = prior_RT_GC, signalSpace=signalSpace_RT_GC)\n",
    "receiver_TooMuchVocab('red')"
   ]
  },
  {
   "cell_type": "markdown",
   "metadata": {},
   "source": [
    "# Utility Only Model"
   ]
  },
  {
   "cell_type": "code",
   "execution_count": 34,
   "metadata": {
    "ExecuteTime": {
     "end_time": "2020-06-09T19:07:38.581583Z",
     "start_time": "2020-06-09T19:07:38.562219Z"
    }
   },
   "outputs": [],
   "source": [
    "# Scenario setups\n",
    "s = (4,0)\n",
    "r = (4,7)\n",
    "rationality = 4\n",
    "reward = 8\n",
    "\n",
    "signalSpace_PT = ['purple', 'triangle']\n",
    "targetDict_PcGtPtGc = {(0,7): 'purple circle', (4,3):'green triangle' , (7,6): 'purple triangle', (8,7):'green circle'}\n",
    "\n",
    "getUtilReceiverSetup4 = UtilityDrivenReceiver(signalerLocation=s, \n",
    "                                          receiverLocation=r, \n",
    "                                          targetDictionary=targetDict_PcGtPtGc, \n",
    "                                          valueOfReward=reward, \n",
    "                                          rationality=rationality)\n",
    "\n",
    "getUtilSignalerSetup4 = UtilityDrivenSignaler(signalSpace=signalSpace_PT, \n",
    "                                          signalerLocation=s, \n",
    "                                          receiverLocation=r, \n",
    "                                          targetDictionary=targetDict_PcGtPtGc, \n",
    "                                          valueOfReward=reward, \n",
    "                                          rationality=rationality) \n",
    "\n",
    "\n",
    "\n",
    "getUtilReceiverSetup4_NoRecCosts = UtilityDrivenReceiver(signalerLocation=s, \n",
    "                                          receiverLocation=r, \n",
    "                                          targetDictionary=targetDict_PcGtPtGc, \n",
    "                                          valueOfReward=reward, \n",
    "                                          rationality=rationality, \n",
    "                                          utilityFn = JointActionUtility_CostlessReceiver)\n",
    "\n",
    "getUtilSignalerSetup4_NoRecCosts = UtilityDrivenSignaler_NoReceiverCosts(signalSpace=signalSpace_PT, \n",
    "                                          signalerLocation=s, \n",
    "                                          receiverLocation=r, \n",
    "                                          targetDictionary=targetDict_PcGtPtGc, \n",
    "                                          valueOfReward=reward, \n",
    "                                          rationality=rationality) "
   ]
  },
  {
   "cell_type": "code",
   "execution_count": 37,
   "metadata": {
    "ExecuteTime": {
     "end_time": "2020-06-09T19:08:34.280427Z",
     "start_time": "2020-06-09T19:08:33.844792Z"
    },
    "scrolled": false
   },
   "outputs": [
    {
     "data": {
      "text/html": [
       "<div>\n",
       "<style scoped>\n",
       "    .dataframe tbody tr th:only-of-type {\n",
       "        vertical-align: middle;\n",
       "    }\n",
       "\n",
       "    .dataframe tbody tr th {\n",
       "        vertical-align: top;\n",
       "    }\n",
       "\n",
       "    .dataframe thead th {\n",
       "        text-align: right;\n",
       "    }\n",
       "</style>\n",
       "<table border=\"1\" class=\"dataframe\">\n",
       "  <thead>\n",
       "    <tr style=\"text-align: right;\">\n",
       "      <th></th>\n",
       "      <th></th>\n",
       "      <th></th>\n",
       "      <th></th>\n",
       "      <th>p(mind)</th>\n",
       "    </tr>\n",
       "    <tr>\n",
       "      <th>intentions</th>\n",
       "      <th>worlds</th>\n",
       "      <th>desires</th>\n",
       "      <th>actions</th>\n",
       "      <th></th>\n",
       "    </tr>\n",
       "  </thead>\n",
       "  <tbody>\n",
       "    <tr>\n",
       "      <th rowspan=\"8\" valign=\"top\">purple circle</th>\n",
       "      <th rowspan=\"8\" valign=\"top\">1</th>\n",
       "      <th rowspan=\"8\" valign=\"top\">1</th>\n",
       "      <th>((0, 7), (4, 7))</th>\n",
       "      <td>0.0</td>\n",
       "    </tr>\n",
       "    <tr>\n",
       "      <th>((4, 0), (0, 7))</th>\n",
       "      <td>0.5</td>\n",
       "    </tr>\n",
       "    <tr>\n",
       "      <th>((4, 0), (4, 3))</th>\n",
       "      <td>0.0</td>\n",
       "    </tr>\n",
       "    <tr>\n",
       "      <th>((4, 0), (7, 6))</th>\n",
       "      <td>0.0</td>\n",
       "    </tr>\n",
       "    <tr>\n",
       "      <th>((4, 0), (8, 7))</th>\n",
       "      <td>0.0</td>\n",
       "    </tr>\n",
       "    <tr>\n",
       "      <th>((4, 3), (4, 7))</th>\n",
       "      <td>0.0</td>\n",
       "    </tr>\n",
       "    <tr>\n",
       "      <th>((7, 6), (4, 7))</th>\n",
       "      <td>0.0</td>\n",
       "    </tr>\n",
       "    <tr>\n",
       "      <th>((8, 7), (4, 7))</th>\n",
       "      <td>0.0</td>\n",
       "    </tr>\n",
       "    <tr>\n",
       "      <th rowspan=\"8\" valign=\"top\">purple triangle</th>\n",
       "      <th rowspan=\"8\" valign=\"top\">1</th>\n",
       "      <th rowspan=\"8\" valign=\"top\">1</th>\n",
       "      <th>((0, 7), (4, 7))</th>\n",
       "      <td>0.0</td>\n",
       "    </tr>\n",
       "    <tr>\n",
       "      <th>((4, 0), (0, 7))</th>\n",
       "      <td>0.0</td>\n",
       "    </tr>\n",
       "    <tr>\n",
       "      <th>((4, 0), (4, 3))</th>\n",
       "      <td>0.0</td>\n",
       "    </tr>\n",
       "    <tr>\n",
       "      <th>((4, 0), (7, 6))</th>\n",
       "      <td>0.5</td>\n",
       "    </tr>\n",
       "    <tr>\n",
       "      <th>((4, 0), (8, 7))</th>\n",
       "      <td>0.0</td>\n",
       "    </tr>\n",
       "    <tr>\n",
       "      <th>((4, 3), (4, 7))</th>\n",
       "      <td>0.0</td>\n",
       "    </tr>\n",
       "    <tr>\n",
       "      <th>((7, 6), (4, 7))</th>\n",
       "      <td>0.0</td>\n",
       "    </tr>\n",
       "    <tr>\n",
       "      <th>((8, 7), (4, 7))</th>\n",
       "      <td>0.0</td>\n",
       "    </tr>\n",
       "  </tbody>\n",
       "</table>\n",
       "</div>"
      ],
      "text/plain": [
       "                                                 p(mind)\n",
       "intentions      worlds desires actions                  \n",
       "purple circle   1      1       ((0, 7), (4, 7))      0.0\n",
       "                               ((4, 0), (0, 7))      0.5\n",
       "                               ((4, 0), (4, 3))      0.0\n",
       "                               ((4, 0), (7, 6))      0.0\n",
       "                               ((4, 0), (8, 7))      0.0\n",
       "                               ((4, 3), (4, 7))      0.0\n",
       "                               ((7, 6), (4, 7))      0.0\n",
       "                               ((8, 7), (4, 7))      0.0\n",
       "purple triangle 1      1       ((0, 7), (4, 7))      0.0\n",
       "                               ((4, 0), (0, 7))      0.0\n",
       "                               ((4, 0), (4, 3))      0.0\n",
       "                               ((4, 0), (7, 6))      0.5\n",
       "                               ((4, 0), (8, 7))      0.0\n",
       "                               ((4, 3), (4, 7))      0.0\n",
       "                               ((7, 6), (4, 7))      0.0\n",
       "                               ((8, 7), (4, 7))      0.0"
      ]
     },
     "execution_count": 37,
     "metadata": {},
     "output_type": "execute_result"
    }
   ],
   "source": [
    "getUtilReceiverSetup4('purple').round(4)"
   ]
  },
  {
   "cell_type": "code",
   "execution_count": 38,
   "metadata": {
    "ExecuteTime": {
     "end_time": "2020-06-09T19:09:37.406755Z",
     "start_time": "2020-06-09T19:09:36.974513Z"
    }
   },
   "outputs": [
    {
     "data": {
      "text/html": [
       "<div>\n",
       "<style scoped>\n",
       "    .dataframe tbody tr th:only-of-type {\n",
       "        vertical-align: middle;\n",
       "    }\n",
       "\n",
       "    .dataframe tbody tr th {\n",
       "        vertical-align: top;\n",
       "    }\n",
       "\n",
       "    .dataframe thead th {\n",
       "        text-align: right;\n",
       "    }\n",
       "</style>\n",
       "<table border=\"1\" class=\"dataframe\">\n",
       "  <thead>\n",
       "    <tr style=\"text-align: right;\">\n",
       "      <th></th>\n",
       "      <th></th>\n",
       "      <th></th>\n",
       "      <th></th>\n",
       "      <th>p(mind)</th>\n",
       "    </tr>\n",
       "    <tr>\n",
       "      <th>intentions</th>\n",
       "      <th>worlds</th>\n",
       "      <th>desires</th>\n",
       "      <th>actions</th>\n",
       "      <th></th>\n",
       "    </tr>\n",
       "  </thead>\n",
       "  <tbody>\n",
       "    <tr>\n",
       "      <th rowspan=\"8\" valign=\"top\">green triangle</th>\n",
       "      <th rowspan=\"8\" valign=\"top\">1</th>\n",
       "      <th rowspan=\"8\" valign=\"top\">1</th>\n",
       "      <th>((0, 7), (4, 7))</th>\n",
       "      <td>0.0000</td>\n",
       "    </tr>\n",
       "    <tr>\n",
       "      <th>((4, 0), (0, 7))</th>\n",
       "      <td>0.0000</td>\n",
       "    </tr>\n",
       "    <tr>\n",
       "      <th>((4, 0), (4, 3))</th>\n",
       "      <td>0.0177</td>\n",
       "    </tr>\n",
       "    <tr>\n",
       "      <th>((4, 0), (7, 6))</th>\n",
       "      <td>0.0000</td>\n",
       "    </tr>\n",
       "    <tr>\n",
       "      <th>((4, 0), (8, 7))</th>\n",
       "      <td>0.0000</td>\n",
       "    </tr>\n",
       "    <tr>\n",
       "      <th>((4, 3), (4, 7))</th>\n",
       "      <td>0.0000</td>\n",
       "    </tr>\n",
       "    <tr>\n",
       "      <th>((7, 6), (4, 7))</th>\n",
       "      <td>0.0000</td>\n",
       "    </tr>\n",
       "    <tr>\n",
       "      <th>((8, 7), (4, 7))</th>\n",
       "      <td>0.0000</td>\n",
       "    </tr>\n",
       "    <tr>\n",
       "      <th rowspan=\"8\" valign=\"top\">purple triangle</th>\n",
       "      <th rowspan=\"8\" valign=\"top\">1</th>\n",
       "      <th rowspan=\"8\" valign=\"top\">1</th>\n",
       "      <th>((0, 7), (4, 7))</th>\n",
       "      <td>0.0000</td>\n",
       "    </tr>\n",
       "    <tr>\n",
       "      <th>((4, 0), (0, 7))</th>\n",
       "      <td>0.0000</td>\n",
       "    </tr>\n",
       "    <tr>\n",
       "      <th>((4, 0), (4, 3))</th>\n",
       "      <td>0.0000</td>\n",
       "    </tr>\n",
       "    <tr>\n",
       "      <th>((4, 0), (7, 6))</th>\n",
       "      <td>0.9823</td>\n",
       "    </tr>\n",
       "    <tr>\n",
       "      <th>((4, 0), (8, 7))</th>\n",
       "      <td>0.0000</td>\n",
       "    </tr>\n",
       "    <tr>\n",
       "      <th>((4, 3), (4, 7))</th>\n",
       "      <td>0.0000</td>\n",
       "    </tr>\n",
       "    <tr>\n",
       "      <th>((7, 6), (4, 7))</th>\n",
       "      <td>0.0000</td>\n",
       "    </tr>\n",
       "    <tr>\n",
       "      <th>((8, 7), (4, 7))</th>\n",
       "      <td>0.0000</td>\n",
       "    </tr>\n",
       "  </tbody>\n",
       "</table>\n",
       "</div>"
      ],
      "text/plain": [
       "                                                 p(mind)\n",
       "intentions      worlds desires actions                  \n",
       "green triangle  1      1       ((0, 7), (4, 7))   0.0000\n",
       "                               ((4, 0), (0, 7))   0.0000\n",
       "                               ((4, 0), (4, 3))   0.0177\n",
       "                               ((4, 0), (7, 6))   0.0000\n",
       "                               ((4, 0), (8, 7))   0.0000\n",
       "                               ((4, 3), (4, 7))   0.0000\n",
       "                               ((7, 6), (4, 7))   0.0000\n",
       "                               ((8, 7), (4, 7))   0.0000\n",
       "purple triangle 1      1       ((0, 7), (4, 7))   0.0000\n",
       "                               ((4, 0), (0, 7))   0.0000\n",
       "                               ((4, 0), (4, 3))   0.0000\n",
       "                               ((4, 0), (7, 6))   0.9823\n",
       "                               ((4, 0), (8, 7))   0.0000\n",
       "                               ((4, 3), (4, 7))   0.0000\n",
       "                               ((7, 6), (4, 7))   0.0000\n",
       "                               ((8, 7), (4, 7))   0.0000"
      ]
     },
     "execution_count": 38,
     "metadata": {},
     "output_type": "execute_result"
    }
   ],
   "source": [
    "getUtilReceiverSetup4('triangle').round(4)"
   ]
  },
  {
   "cell_type": "code",
   "execution_count": 35,
   "metadata": {
    "ExecuteTime": {
     "end_time": "2020-06-09T19:08:09.489264Z",
     "start_time": "2020-06-09T19:08:09.476074Z"
    },
    "scrolled": true
   },
   "outputs": [
    {
     "data": {
      "text/html": [
       "<div>\n",
       "<style scoped>\n",
       "    .dataframe tbody tr th:only-of-type {\n",
       "        vertical-align: middle;\n",
       "    }\n",
       "\n",
       "    .dataframe tbody tr th {\n",
       "        vertical-align: top;\n",
       "    }\n",
       "\n",
       "    .dataframe thead th {\n",
       "        text-align: right;\n",
       "    }\n",
       "</style>\n",
       "<table border=\"1\" class=\"dataframe\">\n",
       "  <thead>\n",
       "    <tr style=\"text-align: right;\">\n",
       "      <th></th>\n",
       "      <th>probability</th>\n",
       "    </tr>\n",
       "    <tr>\n",
       "      <th>signals</th>\n",
       "      <th></th>\n",
       "    </tr>\n",
       "  </thead>\n",
       "  <tbody>\n",
       "    <tr>\n",
       "      <th>purple</th>\n",
       "      <td>1.000000e+00</td>\n",
       "    </tr>\n",
       "    <tr>\n",
       "      <th>purple circle</th>\n",
       "      <td>6.914400e-13</td>\n",
       "    </tr>\n",
       "  </tbody>\n",
       "</table>\n",
       "</div>"
      ],
      "text/plain": [
       "                probability\n",
       "signals                    \n",
       "purple         1.000000e+00\n",
       "purple circle  6.914400e-13"
      ]
     },
     "execution_count": 35,
     "metadata": {},
     "output_type": "execute_result"
    }
   ],
   "source": [
    "getUtilSignalerSetup4({'intentions':'purple circle'})"
   ]
  },
  {
   "cell_type": "code",
   "execution_count": 39,
   "metadata": {
    "ExecuteTime": {
     "end_time": "2020-06-09T19:09:53.105904Z",
     "start_time": "2020-06-09T19:09:53.080342Z"
    },
    "scrolled": true
   },
   "outputs": [
    {
     "data": {
      "text/html": [
       "<div>\n",
       "<style scoped>\n",
       "    .dataframe tbody tr th:only-of-type {\n",
       "        vertical-align: middle;\n",
       "    }\n",
       "\n",
       "    .dataframe tbody tr th {\n",
       "        vertical-align: top;\n",
       "    }\n",
       "\n",
       "    .dataframe thead th {\n",
       "        text-align: right;\n",
       "    }\n",
       "</style>\n",
       "<table border=\"1\" class=\"dataframe\">\n",
       "  <thead>\n",
       "    <tr style=\"text-align: right;\">\n",
       "      <th></th>\n",
       "      <th>probability</th>\n",
       "    </tr>\n",
       "    <tr>\n",
       "      <th>signals</th>\n",
       "      <th></th>\n",
       "    </tr>\n",
       "  </thead>\n",
       "  <tbody>\n",
       "    <tr>\n",
       "      <th>purple</th>\n",
       "      <td>5.000000e-01</td>\n",
       "    </tr>\n",
       "    <tr>\n",
       "      <th>triangle</th>\n",
       "      <td>5.000000e-01</td>\n",
       "    </tr>\n",
       "    <tr>\n",
       "      <th>purple triangle</th>\n",
       "      <td>2.061154e-09</td>\n",
       "    </tr>\n",
       "  </tbody>\n",
       "</table>\n",
       "</div>"
      ],
      "text/plain": [
       "                  probability\n",
       "signals                      \n",
       "purple           5.000000e-01\n",
       "triangle         5.000000e-01\n",
       "purple triangle  2.061154e-09"
      ]
     },
     "execution_count": 39,
     "metadata": {},
     "output_type": "execute_result"
    }
   ],
   "source": [
    "getUtilSignalerSetup4({'intentions':'purple triangle'})"
   ]
  },
  {
   "cell_type": "code",
   "execution_count": 44,
   "metadata": {
    "ExecuteTime": {
     "end_time": "2020-06-09T19:12:20.690071Z",
     "start_time": "2020-06-09T19:12:20.676014Z"
    }
   },
   "outputs": [
    {
     "data": {
      "text/html": [
       "<div>\n",
       "<style scoped>\n",
       "    .dataframe tbody tr th:only-of-type {\n",
       "        vertical-align: middle;\n",
       "    }\n",
       "\n",
       "    .dataframe tbody tr th {\n",
       "        vertical-align: top;\n",
       "    }\n",
       "\n",
       "    .dataframe thead th {\n",
       "        text-align: right;\n",
       "    }\n",
       "</style>\n",
       "<table border=\"1\" class=\"dataframe\">\n",
       "  <thead>\n",
       "    <tr style=\"text-align: right;\">\n",
       "      <th></th>\n",
       "      <th>probability</th>\n",
       "    </tr>\n",
       "    <tr>\n",
       "      <th>signals</th>\n",
       "      <th></th>\n",
       "    </tr>\n",
       "  </thead>\n",
       "  <tbody>\n",
       "    <tr>\n",
       "      <th>triangle</th>\n",
       "      <td>0.017986</td>\n",
       "    </tr>\n",
       "    <tr>\n",
       "      <th>green triangle</th>\n",
       "      <td>0.982014</td>\n",
       "    </tr>\n",
       "  </tbody>\n",
       "</table>\n",
       "</div>"
      ],
      "text/plain": [
       "                probability\n",
       "signals                    \n",
       "triangle           0.017986\n",
       "green triangle     0.982014"
      ]
     },
     "execution_count": 44,
     "metadata": {},
     "output_type": "execute_result"
    }
   ],
   "source": [
    "getUtilSignalerSetup4({'intentions':'green triangle'})"
   ]
  },
  {
   "cell_type": "markdown",
   "metadata": {},
   "source": [
    "## No Receiver Costs, same setup"
   ]
  },
  {
   "cell_type": "code",
   "execution_count": 40,
   "metadata": {
    "ExecuteTime": {
     "end_time": "2020-06-09T19:10:45.940887Z",
     "start_time": "2020-06-09T19:10:45.507595Z"
    }
   },
   "outputs": [
    {
     "data": {
      "text/html": [
       "<div>\n",
       "<style scoped>\n",
       "    .dataframe tbody tr th:only-of-type {\n",
       "        vertical-align: middle;\n",
       "    }\n",
       "\n",
       "    .dataframe tbody tr th {\n",
       "        vertical-align: top;\n",
       "    }\n",
       "\n",
       "    .dataframe thead th {\n",
       "        text-align: right;\n",
       "    }\n",
       "</style>\n",
       "<table border=\"1\" class=\"dataframe\">\n",
       "  <thead>\n",
       "    <tr style=\"text-align: right;\">\n",
       "      <th></th>\n",
       "      <th></th>\n",
       "      <th></th>\n",
       "      <th></th>\n",
       "      <th>p(mind)</th>\n",
       "    </tr>\n",
       "    <tr>\n",
       "      <th>intentions</th>\n",
       "      <th>worlds</th>\n",
       "      <th>desires</th>\n",
       "      <th>actions</th>\n",
       "      <th></th>\n",
       "    </tr>\n",
       "  </thead>\n",
       "  <tbody>\n",
       "    <tr>\n",
       "      <th rowspan=\"8\" valign=\"top\">purple circle</th>\n",
       "      <th rowspan=\"8\" valign=\"top\">1</th>\n",
       "      <th rowspan=\"8\" valign=\"top\">1</th>\n",
       "      <th>((0, 7), (4, 7))</th>\n",
       "      <td>0.0</td>\n",
       "    </tr>\n",
       "    <tr>\n",
       "      <th>((4, 0), (0, 7))</th>\n",
       "      <td>0.5</td>\n",
       "    </tr>\n",
       "    <tr>\n",
       "      <th>((4, 0), (4, 3))</th>\n",
       "      <td>0.0</td>\n",
       "    </tr>\n",
       "    <tr>\n",
       "      <th>((4, 0), (7, 6))</th>\n",
       "      <td>0.0</td>\n",
       "    </tr>\n",
       "    <tr>\n",
       "      <th>((4, 0), (8, 7))</th>\n",
       "      <td>0.0</td>\n",
       "    </tr>\n",
       "    <tr>\n",
       "      <th>((4, 3), (4, 7))</th>\n",
       "      <td>0.0</td>\n",
       "    </tr>\n",
       "    <tr>\n",
       "      <th>((7, 6), (4, 7))</th>\n",
       "      <td>0.0</td>\n",
       "    </tr>\n",
       "    <tr>\n",
       "      <th>((8, 7), (4, 7))</th>\n",
       "      <td>0.0</td>\n",
       "    </tr>\n",
       "    <tr>\n",
       "      <th rowspan=\"8\" valign=\"top\">purple triangle</th>\n",
       "      <th rowspan=\"8\" valign=\"top\">1</th>\n",
       "      <th rowspan=\"8\" valign=\"top\">1</th>\n",
       "      <th>((0, 7), (4, 7))</th>\n",
       "      <td>0.0</td>\n",
       "    </tr>\n",
       "    <tr>\n",
       "      <th>((4, 0), (0, 7))</th>\n",
       "      <td>0.0</td>\n",
       "    </tr>\n",
       "    <tr>\n",
       "      <th>((4, 0), (4, 3))</th>\n",
       "      <td>0.0</td>\n",
       "    </tr>\n",
       "    <tr>\n",
       "      <th>((4, 0), (7, 6))</th>\n",
       "      <td>0.5</td>\n",
       "    </tr>\n",
       "    <tr>\n",
       "      <th>((4, 0), (8, 7))</th>\n",
       "      <td>0.0</td>\n",
       "    </tr>\n",
       "    <tr>\n",
       "      <th>((4, 3), (4, 7))</th>\n",
       "      <td>0.0</td>\n",
       "    </tr>\n",
       "    <tr>\n",
       "      <th>((7, 6), (4, 7))</th>\n",
       "      <td>0.0</td>\n",
       "    </tr>\n",
       "    <tr>\n",
       "      <th>((8, 7), (4, 7))</th>\n",
       "      <td>0.0</td>\n",
       "    </tr>\n",
       "  </tbody>\n",
       "</table>\n",
       "</div>"
      ],
      "text/plain": [
       "                                                 p(mind)\n",
       "intentions      worlds desires actions                  \n",
       "purple circle   1      1       ((0, 7), (4, 7))      0.0\n",
       "                               ((4, 0), (0, 7))      0.5\n",
       "                               ((4, 0), (4, 3))      0.0\n",
       "                               ((4, 0), (7, 6))      0.0\n",
       "                               ((4, 0), (8, 7))      0.0\n",
       "                               ((4, 3), (4, 7))      0.0\n",
       "                               ((7, 6), (4, 7))      0.0\n",
       "                               ((8, 7), (4, 7))      0.0\n",
       "purple triangle 1      1       ((0, 7), (4, 7))      0.0\n",
       "                               ((4, 0), (0, 7))      0.0\n",
       "                               ((4, 0), (4, 3))      0.0\n",
       "                               ((4, 0), (7, 6))      0.5\n",
       "                               ((4, 0), (8, 7))      0.0\n",
       "                               ((4, 3), (4, 7))      0.0\n",
       "                               ((7, 6), (4, 7))      0.0\n",
       "                               ((8, 7), (4, 7))      0.0"
      ]
     },
     "execution_count": 40,
     "metadata": {},
     "output_type": "execute_result"
    }
   ],
   "source": [
    "getUtilReceiverSetup4_NoRecCosts('purple').round(4)"
   ]
  },
  {
   "cell_type": "code",
   "execution_count": 41,
   "metadata": {
    "ExecuteTime": {
     "end_time": "2020-06-09T19:11:03.232672Z",
     "start_time": "2020-06-09T19:11:02.798457Z"
    }
   },
   "outputs": [
    {
     "data": {
      "text/html": [
       "<div>\n",
       "<style scoped>\n",
       "    .dataframe tbody tr th:only-of-type {\n",
       "        vertical-align: middle;\n",
       "    }\n",
       "\n",
       "    .dataframe tbody tr th {\n",
       "        vertical-align: top;\n",
       "    }\n",
       "\n",
       "    .dataframe thead th {\n",
       "        text-align: right;\n",
       "    }\n",
       "</style>\n",
       "<table border=\"1\" class=\"dataframe\">\n",
       "  <thead>\n",
       "    <tr style=\"text-align: right;\">\n",
       "      <th></th>\n",
       "      <th></th>\n",
       "      <th></th>\n",
       "      <th></th>\n",
       "      <th>p(mind)</th>\n",
       "    </tr>\n",
       "    <tr>\n",
       "      <th>intentions</th>\n",
       "      <th>worlds</th>\n",
       "      <th>desires</th>\n",
       "      <th>actions</th>\n",
       "      <th></th>\n",
       "    </tr>\n",
       "  </thead>\n",
       "  <tbody>\n",
       "    <tr>\n",
       "      <th rowspan=\"8\" valign=\"top\">green triangle</th>\n",
       "      <th rowspan=\"8\" valign=\"top\">1</th>\n",
       "      <th rowspan=\"8\" valign=\"top\">1</th>\n",
       "      <th>((0, 7), (4, 7))</th>\n",
       "      <td>0.0</td>\n",
       "    </tr>\n",
       "    <tr>\n",
       "      <th>((4, 0), (0, 7))</th>\n",
       "      <td>0.0</td>\n",
       "    </tr>\n",
       "    <tr>\n",
       "      <th>((4, 0), (4, 3))</th>\n",
       "      <td>0.5</td>\n",
       "    </tr>\n",
       "    <tr>\n",
       "      <th>((4, 0), (7, 6))</th>\n",
       "      <td>0.0</td>\n",
       "    </tr>\n",
       "    <tr>\n",
       "      <th>((4, 0), (8, 7))</th>\n",
       "      <td>0.0</td>\n",
       "    </tr>\n",
       "    <tr>\n",
       "      <th>((4, 3), (4, 7))</th>\n",
       "      <td>0.0</td>\n",
       "    </tr>\n",
       "    <tr>\n",
       "      <th>((7, 6), (4, 7))</th>\n",
       "      <td>0.0</td>\n",
       "    </tr>\n",
       "    <tr>\n",
       "      <th>((8, 7), (4, 7))</th>\n",
       "      <td>0.0</td>\n",
       "    </tr>\n",
       "    <tr>\n",
       "      <th rowspan=\"8\" valign=\"top\">purple triangle</th>\n",
       "      <th rowspan=\"8\" valign=\"top\">1</th>\n",
       "      <th rowspan=\"8\" valign=\"top\">1</th>\n",
       "      <th>((0, 7), (4, 7))</th>\n",
       "      <td>0.0</td>\n",
       "    </tr>\n",
       "    <tr>\n",
       "      <th>((4, 0), (0, 7))</th>\n",
       "      <td>0.0</td>\n",
       "    </tr>\n",
       "    <tr>\n",
       "      <th>((4, 0), (4, 3))</th>\n",
       "      <td>0.0</td>\n",
       "    </tr>\n",
       "    <tr>\n",
       "      <th>((4, 0), (7, 6))</th>\n",
       "      <td>0.5</td>\n",
       "    </tr>\n",
       "    <tr>\n",
       "      <th>((4, 0), (8, 7))</th>\n",
       "      <td>0.0</td>\n",
       "    </tr>\n",
       "    <tr>\n",
       "      <th>((4, 3), (4, 7))</th>\n",
       "      <td>0.0</td>\n",
       "    </tr>\n",
       "    <tr>\n",
       "      <th>((7, 6), (4, 7))</th>\n",
       "      <td>0.0</td>\n",
       "    </tr>\n",
       "    <tr>\n",
       "      <th>((8, 7), (4, 7))</th>\n",
       "      <td>0.0</td>\n",
       "    </tr>\n",
       "  </tbody>\n",
       "</table>\n",
       "</div>"
      ],
      "text/plain": [
       "                                                 p(mind)\n",
       "intentions      worlds desires actions                  \n",
       "green triangle  1      1       ((0, 7), (4, 7))      0.0\n",
       "                               ((4, 0), (0, 7))      0.0\n",
       "                               ((4, 0), (4, 3))      0.5\n",
       "                               ((4, 0), (7, 6))      0.0\n",
       "                               ((4, 0), (8, 7))      0.0\n",
       "                               ((4, 3), (4, 7))      0.0\n",
       "                               ((7, 6), (4, 7))      0.0\n",
       "                               ((8, 7), (4, 7))      0.0\n",
       "purple triangle 1      1       ((0, 7), (4, 7))      0.0\n",
       "                               ((4, 0), (0, 7))      0.0\n",
       "                               ((4, 0), (4, 3))      0.0\n",
       "                               ((4, 0), (7, 6))      0.5\n",
       "                               ((4, 0), (8, 7))      0.0\n",
       "                               ((4, 3), (4, 7))      0.0\n",
       "                               ((7, 6), (4, 7))      0.0\n",
       "                               ((8, 7), (4, 7))      0.0"
      ]
     },
     "execution_count": 41,
     "metadata": {},
     "output_type": "execute_result"
    }
   ],
   "source": [
    "getUtilReceiverSetup4_NoRecCosts('triangle').round(4)"
   ]
  },
  {
   "cell_type": "code",
   "execution_count": 42,
   "metadata": {
    "ExecuteTime": {
     "end_time": "2020-06-09T19:11:32.954172Z",
     "start_time": "2020-06-09T19:11:32.933796Z"
    }
   },
   "outputs": [
    {
     "data": {
      "text/html": [
       "<div>\n",
       "<style scoped>\n",
       "    .dataframe tbody tr th:only-of-type {\n",
       "        vertical-align: middle;\n",
       "    }\n",
       "\n",
       "    .dataframe tbody tr th {\n",
       "        vertical-align: top;\n",
       "    }\n",
       "\n",
       "    .dataframe thead th {\n",
       "        text-align: right;\n",
       "    }\n",
       "</style>\n",
       "<table border=\"1\" class=\"dataframe\">\n",
       "  <thead>\n",
       "    <tr style=\"text-align: right;\">\n",
       "      <th></th>\n",
       "      <th>probability</th>\n",
       "    </tr>\n",
       "    <tr>\n",
       "      <th>signals</th>\n",
       "      <th></th>\n",
       "    </tr>\n",
       "  </thead>\n",
       "  <tbody>\n",
       "    <tr>\n",
       "      <th>purple</th>\n",
       "      <td>1.000000e+00</td>\n",
       "    </tr>\n",
       "    <tr>\n",
       "      <th>purple circle</th>\n",
       "      <td>7.781132e-20</td>\n",
       "    </tr>\n",
       "  </tbody>\n",
       "</table>\n",
       "</div>"
      ],
      "text/plain": [
       "                probability\n",
       "signals                    \n",
       "purple         1.000000e+00\n",
       "purple circle  7.781132e-20"
      ]
     },
     "execution_count": 42,
     "metadata": {},
     "output_type": "execute_result"
    }
   ],
   "source": [
    "getUtilSignalerSetup4_NoRecCosts({'intentions':'purple circle'})"
   ]
  },
  {
   "cell_type": "code",
   "execution_count": 43,
   "metadata": {
    "ExecuteTime": {
     "end_time": "2020-06-09T19:11:44.002343Z",
     "start_time": "2020-06-09T19:11:43.987726Z"
    }
   },
   "outputs": [
    {
     "data": {
      "text/html": [
       "<div>\n",
       "<style scoped>\n",
       "    .dataframe tbody tr th:only-of-type {\n",
       "        vertical-align: middle;\n",
       "    }\n",
       "\n",
       "    .dataframe tbody tr th {\n",
       "        vertical-align: top;\n",
       "    }\n",
       "\n",
       "    .dataframe thead th {\n",
       "        text-align: right;\n",
       "    }\n",
       "</style>\n",
       "<table border=\"1\" class=\"dataframe\">\n",
       "  <thead>\n",
       "    <tr style=\"text-align: right;\">\n",
       "      <th></th>\n",
       "      <th>probability</th>\n",
       "    </tr>\n",
       "    <tr>\n",
       "      <th>signals</th>\n",
       "      <th></th>\n",
       "    </tr>\n",
       "  </thead>\n",
       "  <tbody>\n",
       "    <tr>\n",
       "      <th>purple</th>\n",
       "      <td>5.000000e-01</td>\n",
       "    </tr>\n",
       "    <tr>\n",
       "      <th>triangle</th>\n",
       "      <td>5.000000e-01</td>\n",
       "    </tr>\n",
       "    <tr>\n",
       "      <th>purple triangle</th>\n",
       "      <td>2.319523e-16</td>\n",
       "    </tr>\n",
       "  </tbody>\n",
       "</table>\n",
       "</div>"
      ],
      "text/plain": [
       "                  probability\n",
       "signals                      \n",
       "purple           5.000000e-01\n",
       "triangle         5.000000e-01\n",
       "purple triangle  2.319523e-16"
      ]
     },
     "execution_count": 43,
     "metadata": {},
     "output_type": "execute_result"
    }
   ],
   "source": [
    "getUtilSignalerSetup4_NoRecCosts({'intentions':'purple triangle'})"
   ]
  },
  {
   "cell_type": "code",
   "execution_count": 45,
   "metadata": {
    "ExecuteTime": {
     "end_time": "2020-06-09T19:12:37.660466Z",
     "start_time": "2020-06-09T19:12:37.646096Z"
    }
   },
   "outputs": [
    {
     "data": {
      "text/html": [
       "<div>\n",
       "<style scoped>\n",
       "    .dataframe tbody tr th:only-of-type {\n",
       "        vertical-align: middle;\n",
       "    }\n",
       "\n",
       "    .dataframe tbody tr th {\n",
       "        vertical-align: top;\n",
       "    }\n",
       "\n",
       "    .dataframe thead th {\n",
       "        text-align: right;\n",
       "    }\n",
       "</style>\n",
       "<table border=\"1\" class=\"dataframe\">\n",
       "  <thead>\n",
       "    <tr style=\"text-align: right;\">\n",
       "      <th></th>\n",
       "      <th>probability</th>\n",
       "    </tr>\n",
       "    <tr>\n",
       "      <th>signals</th>\n",
       "      <th></th>\n",
       "    </tr>\n",
       "  </thead>\n",
       "  <tbody>\n",
       "    <tr>\n",
       "      <th>triangle</th>\n",
       "      <td>0.999994</td>\n",
       "    </tr>\n",
       "    <tr>\n",
       "      <th>green triangle</th>\n",
       "      <td>0.000006</td>\n",
       "    </tr>\n",
       "  </tbody>\n",
       "</table>\n",
       "</div>"
      ],
      "text/plain": [
       "                probability\n",
       "signals                    \n",
       "triangle           0.999994\n",
       "green triangle     0.000006"
      ]
     },
     "execution_count": 45,
     "metadata": {},
     "output_type": "execute_result"
    }
   ],
   "source": [
    "getUtilSignalerSetup4_NoRecCosts({'intentions':'green triangle'})"
   ]
  }
 ],
 "metadata": {
  "kernelspec": {
   "display_name": "Python 3",
   "language": "python",
   "name": "python3"
  },
  "language_info": {
   "codemirror_mode": {
    "name": "ipython",
    "version": 3
   },
   "file_extension": ".py",
   "mimetype": "text/x-python",
   "name": "python",
   "nbconvert_exporter": "python",
   "pygments_lexer": "ipython3",
   "version": "3.5.6"
  },
  "toc": {
   "base_numbering": 1,
   "nav_menu": {},
   "number_sections": true,
   "sideBar": true,
   "skip_h1_title": false,
   "title_cell": "Table of Contents",
   "title_sidebar": "Contents",
   "toc_cell": false,
   "toc_position": {},
   "toc_section_display": true,
   "toc_window_display": false
  }
 },
 "nbformat": 4,
 "nbformat_minor": 2
}
