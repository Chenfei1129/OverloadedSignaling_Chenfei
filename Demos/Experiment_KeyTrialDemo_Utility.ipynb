{
 "cells": [
  {
   "cell_type": "code",
   "execution_count": 1,
   "metadata": {
    "ExecuteTime": {
     "end_time": "2020-06-09T19:09:02.895363Z",
     "start_time": "2020-06-09T19:09:02.886756Z"
    }
   },
   "outputs": [],
   "source": [
    "%load_ext autoreload\n",
    "%autoreload 2"
   ]
  },
  {
   "cell_type": "code",
   "execution_count": 2,
   "metadata": {
    "ExecuteTime": {
     "end_time": "2020-06-09T19:09:03.317575Z",
     "start_time": "2020-06-09T19:09:02.897009Z"
    }
   },
   "outputs": [],
   "source": [
    "import sys\n",
    "import numpy as np\n",
    "import pandas as pd\n",
    "\n",
    "sys.path.append('/home/stacyste/Documents/Research/OverloadedSignaling/Algorithms/JointUtility')\n",
    "from utilityOnlyModel import UtilityDrivenReceiver, UtilityDrivenSignaler, UtilityDrivenSignaler_NoReceiverCosts\n",
    "\n",
    "sys.path.append('/home/stacyste/Documents/Research/OverloadedSignaling/Environments/Experiment')\n",
    "from visualizations_Experiment import visualizeExperimentTrial"
   ]
  },
  {
   "cell_type": "markdown",
   "metadata": {},
   "source": [
    "## Setup Parameters"
   ]
  },
  {
   "cell_type": "code",
   "execution_count": 3,
   "metadata": {
    "ExecuteTime": {
     "end_time": "2020-06-09T19:09:03.329906Z",
     "start_time": "2020-06-09T19:09:03.318746Z"
    }
   },
   "outputs": [],
   "source": [
    "# Scenario setups\n",
    "s = (4,0)\n",
    "r = (4,7)\n",
    "\n",
    "signalSpace_GC = ['green', 'circle']\n",
    "signalSpace_PT = ['purple', 'triangle']\n",
    "\n",
    "targetDict_GtGcPc = {(0,7): 'green triangle', (4,3):'green circle' , (8,7):'purple circle'}\n",
    "targetDict_GcGtPc = {(0,7): 'green circle', (4,3):'green triangle' , (8,7):'purple circle'}\n",
    "targetDict_GtPcGc = {(0,7): 'green triangle', (4,3):'purple circle' , (8,7):'green circle'}\n",
    "targetDict_PcGtGc = {(0,7): 'purple circle', (4,3):'green triangle' , (8,7):'green circle'}\n",
    "\n",
    "targetDict_PcGtPtGc = {(0,7): 'purple circle', (4,3):'green triangle' , (7,6): 'purple triangle', (8,7):'green circle'}\n",
    "\n",
    "rationality = 4\n",
    "reward = 8\n",
    "\n",
    "gridDims = (9,10)"
   ]
  },
  {
   "cell_type": "code",
   "execution_count": 4,
   "metadata": {
    "ExecuteTime": {
     "end_time": "2020-06-09T19:09:03.342322Z",
     "start_time": "2020-06-09T19:09:03.331009Z"
    }
   },
   "outputs": [],
   "source": [
    "getReceiverSetup1 = UtilityDrivenReceiver(signalerLocation=s, \n",
    "                                          receiverLocation=r, \n",
    "                                          targetDictionary=targetDict_GtGcPc, \n",
    "                                          valueOfReward=reward, \n",
    "                                          rationality=rationality)\n",
    "\n",
    "getReceiverSetup2 = UtilityDrivenReceiver(signalerLocation=s, \n",
    "                                          receiverLocation=r, \n",
    "                                          targetDictionary=targetDict_GtGcPc, \n",
    "                                          valueOfReward=reward, \n",
    "                                          rationality=rationality)\n",
    "\n",
    "getReceiverSetup3 = UtilityDrivenReceiver(signalerLocation=s, \n",
    "                                          receiverLocation=r, \n",
    "                                          targetDictionary=targetDict_GcGtPc, \n",
    "                                          valueOfReward=reward, \n",
    "                                          rationality=rationality)\n",
    "\n",
    "getReceiverSetup4 = UtilityDrivenReceiver(signalerLocation=s, \n",
    "                                          receiverLocation=r, \n",
    "                                          targetDictionary=targetDict_PcGtPtGc, \n",
    "                                          valueOfReward=reward, \n",
    "                                          rationality=rationality)"
   ]
  },
  {
   "cell_type": "code",
   "execution_count": 5,
   "metadata": {
    "ExecuteTime": {
     "end_time": "2020-06-09T19:09:03.354046Z",
     "start_time": "2020-06-09T19:09:03.343495Z"
    }
   },
   "outputs": [],
   "source": [
    "getSignalerSetup1 = UtilityDrivenSignaler(signalSpace=signalSpace_PT, \n",
    "                                          signalerLocation=s, \n",
    "                                          receiverLocation=r, \n",
    "                                          targetDictionary=targetDict_GtGcPc, \n",
    "                                          valueOfReward=reward, \n",
    "                                          rationality=rationality) \n",
    "\n",
    "getSignalerSetup2 = UtilityDrivenSignaler(signalSpace=signalSpace_GC, \n",
    "                                          signalerLocation=s, \n",
    "                                          receiverLocation=r, \n",
    "                                          targetDictionary=targetDict_GtGcPc, \n",
    "                                          valueOfReward=reward, \n",
    "                                          rationality=rationality) \n",
    "\n",
    "getSignalerSetup3 = UtilityDrivenSignaler(signalSpace=signalSpace_GC, \n",
    "                                          signalerLocation=s, \n",
    "                                          receiverLocation=r, \n",
    "                                          targetDictionary=targetDict_GcGtPc, \n",
    "                                          valueOfReward=reward, \n",
    "                                          rationality=rationality) \n",
    "\n",
    "getSignalerSetup4 = UtilityDrivenSignaler(signalSpace=signalSpace_PT, \n",
    "                                          signalerLocation=s, \n",
    "                                          receiverLocation=r, \n",
    "                                          targetDictionary=targetDict_PcGtPtGc, \n",
    "                                          valueOfReward=reward, \n",
    "                                          rationality=rationality) "
   ]
  },
  {
   "cell_type": "markdown",
   "metadata": {},
   "source": [
    "# Condition 0: Sanity Signaler\n",
    "- goal: green circle\n",
    "(a case where the signaler should just do it themself)"
   ]
  },
  {
   "cell_type": "code",
   "execution_count": 6,
   "metadata": {
    "ExecuteTime": {
     "end_time": "2020-06-09T19:09:03.594240Z",
     "start_time": "2020-06-09T19:09:03.355161Z"
    }
   },
   "outputs": [
    {
     "data": {
      "image/png": "[encoded data removed]",
      "text/plain": [
       "<Figure size 403.2x453.6 with 1 Axes>"
      ]
     },
     "metadata": {
      "needs_background": "light"
     },
     "output_type": "display_data"
    }
   ],
   "source": [
    "visualizeExperimentTrial(gridDims, s, r, signalSpace_PT, targetDict_GtGcPc, True)"
   ]
  },
  {
   "cell_type": "code",
   "execution_count": 7,
   "metadata": {
    "ExecuteTime": {
     "end_time": "2020-06-09T19:09:03.666957Z",
     "start_time": "2020-06-09T19:09:03.595586Z"
    },
    "scrolled": true
   },
   "outputs": [
    {
     "data": {
      "text/html": [
       "<div>\n",
       "<style scoped>\n",
       "    .dataframe tbody tr th:only-of-type {\n",
       "        vertical-align: middle;\n",
       "    }\n",
       "\n",
       "    .dataframe tbody tr th {\n",
       "        vertical-align: top;\n",
       "    }\n",
       "\n",
       "    .dataframe thead th {\n",
       "        text-align: right;\n",
       "    }\n",
       "</style>\n",
       "<table border=\"1\" class=\"dataframe\">\n",
       "  <thead>\n",
       "    <tr style=\"text-align: right;\">\n",
       "      <th></th>\n",
       "      <th>probability</th>\n",
       "    </tr>\n",
       "    <tr>\n",
       "      <th>signals</th>\n",
       "      <th></th>\n",
       "    </tr>\n",
       "  </thead>\n",
       "  <tbody>\n",
       "    <tr>\n",
       "      <th>green circle</th>\n",
       "      <td>1.0</td>\n",
       "    </tr>\n",
       "  </tbody>\n",
       "</table>\n",
       "</div>"
      ],
      "text/plain": [
       "              probability\n",
       "signals                  \n",
       "green circle          1.0"
      ]
     },
     "execution_count": 7,
     "metadata": {},
     "output_type": "execute_result"
    }
   ],
   "source": [
    "getSignalerSetup1({'intentions':'green circle'})"
   ]
  },
  {
   "cell_type": "markdown",
   "metadata": {},
   "source": [
    "# Condition 1 : Baseline\n",
    "    - Target:Green Triangle"
   ]
  },
  {
   "cell_type": "code",
   "execution_count": 8,
   "metadata": {
    "ExecuteTime": {
     "end_time": "2020-06-09T19:09:03.879181Z",
     "start_time": "2020-06-09T19:09:03.668645Z"
    }
   },
   "outputs": [
    {
     "data": {
      "image/png": "[encoded data removed]",
      "text/plain": [
       "<Figure size 403.2x453.6 with 1 Axes>"
      ]
     },
     "metadata": {
      "needs_background": "light"
     },
     "output_type": "display_data"
    }
   ],
   "source": [
    "visualizeExperimentTrial(gridDims, s, r, signalSpace_PT, targetDict_GtGcPc, True)"
   ]
  },
  {
   "cell_type": "code",
   "execution_count": 9,
   "metadata": {
    "ExecuteTime": {
     "end_time": "2020-06-09T19:09:04.053634Z",
     "start_time": "2020-06-09T19:09:03.880312Z"
    }
   },
   "outputs": [
    {
     "data": {
      "text/html": [
       "<div>\n",
       "<style scoped>\n",
       "    .dataframe tbody tr th:only-of-type {\n",
       "        vertical-align: middle;\n",
       "    }\n",
       "\n",
       "    .dataframe tbody tr th {\n",
       "        vertical-align: top;\n",
       "    }\n",
       "\n",
       "    .dataframe thead th {\n",
       "        text-align: right;\n",
       "    }\n",
       "</style>\n",
       "<table border=\"1\" class=\"dataframe\">\n",
       "  <thead>\n",
       "    <tr style=\"text-align: right;\">\n",
       "      <th></th>\n",
       "      <th></th>\n",
       "      <th></th>\n",
       "      <th></th>\n",
       "      <th>p(mind)</th>\n",
       "    </tr>\n",
       "    <tr>\n",
       "      <th>desires</th>\n",
       "      <th>worlds</th>\n",
       "      <th>actions</th>\n",
       "      <th>intentions</th>\n",
       "      <th></th>\n",
       "    </tr>\n",
       "  </thead>\n",
       "  <tbody>\n",
       "    <tr>\n",
       "      <th rowspan=\"6\" valign=\"top\">1</th>\n",
       "      <th rowspan=\"6\" valign=\"top\">1</th>\n",
       "      <th>((0, 7), (4, 7))</th>\n",
       "      <th>green triangle</th>\n",
       "      <td>0.0</td>\n",
       "    </tr>\n",
       "    <tr>\n",
       "      <th>((4, 0), (0, 7))</th>\n",
       "      <th>green triangle</th>\n",
       "      <td>1.0</td>\n",
       "    </tr>\n",
       "    <tr>\n",
       "      <th>((4, 0), (4, 3))</th>\n",
       "      <th>green triangle</th>\n",
       "      <td>0.0</td>\n",
       "    </tr>\n",
       "    <tr>\n",
       "      <th>((4, 0), (8, 7))</th>\n",
       "      <th>green triangle</th>\n",
       "      <td>0.0</td>\n",
       "    </tr>\n",
       "    <tr>\n",
       "      <th>((4, 3), (4, 7))</th>\n",
       "      <th>green triangle</th>\n",
       "      <td>0.0</td>\n",
       "    </tr>\n",
       "    <tr>\n",
       "      <th>((8, 7), (4, 7))</th>\n",
       "      <th>green triangle</th>\n",
       "      <td>0.0</td>\n",
       "    </tr>\n",
       "  </tbody>\n",
       "</table>\n",
       "</div>"
      ],
      "text/plain": [
       "                                                p(mind)\n",
       "desires worlds actions          intentions             \n",
       "1       1      ((0, 7), (4, 7)) green triangle      0.0\n",
       "               ((4, 0), (0, 7)) green triangle      1.0\n",
       "               ((4, 0), (4, 3)) green triangle      0.0\n",
       "               ((4, 0), (8, 7)) green triangle      0.0\n",
       "               ((4, 3), (4, 7)) green triangle      0.0\n",
       "               ((8, 7), (4, 7)) green triangle      0.0"
      ]
     },
     "execution_count": 9,
     "metadata": {},
     "output_type": "execute_result"
    }
   ],
   "source": [
    "getReceiverSetup1('triangle').round(4)"
   ]
  },
  {
   "cell_type": "code",
   "execution_count": 10,
   "metadata": {
    "ExecuteTime": {
     "end_time": "2020-06-09T19:09:04.068770Z",
     "start_time": "2020-06-09T19:09:04.054957Z"
    }
   },
   "outputs": [
    {
     "data": {
      "text/html": [
       "<div>\n",
       "<style scoped>\n",
       "    .dataframe tbody tr th:only-of-type {\n",
       "        vertical-align: middle;\n",
       "    }\n",
       "\n",
       "    .dataframe tbody tr th {\n",
       "        vertical-align: top;\n",
       "    }\n",
       "\n",
       "    .dataframe thead th {\n",
       "        text-align: right;\n",
       "    }\n",
       "</style>\n",
       "<table border=\"1\" class=\"dataframe\">\n",
       "  <thead>\n",
       "    <tr style=\"text-align: right;\">\n",
       "      <th></th>\n",
       "      <th>probability</th>\n",
       "    </tr>\n",
       "    <tr>\n",
       "      <th>signals</th>\n",
       "      <th></th>\n",
       "    </tr>\n",
       "  </thead>\n",
       "  <tbody>\n",
       "    <tr>\n",
       "      <th>green triangle</th>\n",
       "      <td>6.914400e-13</td>\n",
       "    </tr>\n",
       "    <tr>\n",
       "      <th>triangle</th>\n",
       "      <td>1.000000e+00</td>\n",
       "    </tr>\n",
       "  </tbody>\n",
       "</table>\n",
       "</div>"
      ],
      "text/plain": [
       "                 probability\n",
       "signals                     \n",
       "green triangle  6.914400e-13\n",
       "triangle        1.000000e+00"
      ]
     },
     "execution_count": 10,
     "metadata": {},
     "output_type": "execute_result"
    }
   ],
   "source": [
    "getSignalerSetup1({'intentions':'green triangle'})"
   ]
  },
  {
   "cell_type": "markdown",
   "metadata": {},
   "source": [
    "# Condition 2: Utility Not Enough\n",
    "- Target: Purple Circle"
   ]
  },
  {
   "cell_type": "code",
   "execution_count": 11,
   "metadata": {
    "ExecuteTime": {
     "end_time": "2020-06-09T19:09:04.283845Z",
     "start_time": "2020-06-09T19:09:04.070081Z"
    }
   },
   "outputs": [
    {
     "data": {
      "image/png": "[encoded data removed]",
      "text/plain": [
       "<Figure size 403.2x453.6 with 1 Axes>"
      ]
     },
     "metadata": {
      "needs_background": "light"
     },
     "output_type": "display_data"
    }
   ],
   "source": [
    "visualizeExperimentTrial(gridDims, s, r, signalSpace_GC, targetDict_GcGtPc)"
   ]
  },
  {
   "cell_type": "code",
   "execution_count": 12,
   "metadata": {
    "ExecuteTime": {
     "end_time": "2020-06-09T19:09:04.597030Z",
     "start_time": "2020-06-09T19:09:04.285145Z"
    }
   },
   "outputs": [
    {
     "data": {
      "text/html": [
       "<div>\n",
       "<style scoped>\n",
       "    .dataframe tbody tr th:only-of-type {\n",
       "        vertical-align: middle;\n",
       "    }\n",
       "\n",
       "    .dataframe tbody tr th {\n",
       "        vertical-align: top;\n",
       "    }\n",
       "\n",
       "    .dataframe thead th {\n",
       "        text-align: right;\n",
       "    }\n",
       "</style>\n",
       "<table border=\"1\" class=\"dataframe\">\n",
       "  <thead>\n",
       "    <tr style=\"text-align: right;\">\n",
       "      <th></th>\n",
       "      <th></th>\n",
       "      <th></th>\n",
       "      <th></th>\n",
       "      <th>p(mind)</th>\n",
       "    </tr>\n",
       "    <tr>\n",
       "      <th>desires</th>\n",
       "      <th>worlds</th>\n",
       "      <th>actions</th>\n",
       "      <th>intentions</th>\n",
       "      <th></th>\n",
       "    </tr>\n",
       "  </thead>\n",
       "  <tbody>\n",
       "    <tr>\n",
       "      <th rowspan=\"12\" valign=\"top\">1</th>\n",
       "      <th rowspan=\"12\" valign=\"top\">1</th>\n",
       "      <th rowspan=\"2\" valign=\"top\">((0, 7), (4, 7))</th>\n",
       "      <th>green circle</th>\n",
       "      <td>0.0</td>\n",
       "    </tr>\n",
       "    <tr>\n",
       "      <th>purple circle</th>\n",
       "      <td>0.0</td>\n",
       "    </tr>\n",
       "    <tr>\n",
       "      <th rowspan=\"2\" valign=\"top\">((4, 0), (0, 7))</th>\n",
       "      <th>green circle</th>\n",
       "      <td>0.5</td>\n",
       "    </tr>\n",
       "    <tr>\n",
       "      <th>purple circle</th>\n",
       "      <td>0.0</td>\n",
       "    </tr>\n",
       "    <tr>\n",
       "      <th rowspan=\"2\" valign=\"top\">((4, 0), (4, 3))</th>\n",
       "      <th>green circle</th>\n",
       "      <td>0.0</td>\n",
       "    </tr>\n",
       "    <tr>\n",
       "      <th>purple circle</th>\n",
       "      <td>0.0</td>\n",
       "    </tr>\n",
       "    <tr>\n",
       "      <th rowspan=\"2\" valign=\"top\">((4, 0), (8, 7))</th>\n",
       "      <th>green circle</th>\n",
       "      <td>0.0</td>\n",
       "    </tr>\n",
       "    <tr>\n",
       "      <th>purple circle</th>\n",
       "      <td>0.5</td>\n",
       "    </tr>\n",
       "    <tr>\n",
       "      <th rowspan=\"2\" valign=\"top\">((4, 3), (4, 7))</th>\n",
       "      <th>green circle</th>\n",
       "      <td>0.0</td>\n",
       "    </tr>\n",
       "    <tr>\n",
       "      <th>purple circle</th>\n",
       "      <td>0.0</td>\n",
       "    </tr>\n",
       "    <tr>\n",
       "      <th rowspan=\"2\" valign=\"top\">((8, 7), (4, 7))</th>\n",
       "      <th>green circle</th>\n",
       "      <td>0.0</td>\n",
       "    </tr>\n",
       "    <tr>\n",
       "      <th>purple circle</th>\n",
       "      <td>0.0</td>\n",
       "    </tr>\n",
       "  </tbody>\n",
       "</table>\n",
       "</div>"
      ],
      "text/plain": [
       "                                               p(mind)\n",
       "desires worlds actions          intentions            \n",
       "1       1      ((0, 7), (4, 7)) green circle       0.0\n",
       "                                purple circle      0.0\n",
       "               ((4, 0), (0, 7)) green circle       0.5\n",
       "                                purple circle      0.0\n",
       "               ((4, 0), (4, 3)) green circle       0.0\n",
       "                                purple circle      0.0\n",
       "               ((4, 0), (8, 7)) green circle       0.0\n",
       "                                purple circle      0.5\n",
       "               ((4, 3), (4, 7)) green circle       0.0\n",
       "                                purple circle      0.0\n",
       "               ((8, 7), (4, 7)) green circle       0.0\n",
       "                                purple circle      0.0"
      ]
     },
     "execution_count": 12,
     "metadata": {},
     "output_type": "execute_result"
    }
   ],
   "source": [
    "rec3 = getReceiverSetup3('circle').round(4)\n",
    "rec3"
   ]
  },
  {
   "cell_type": "code",
   "execution_count": 13,
   "metadata": {
    "ExecuteTime": {
     "end_time": "2020-06-09T19:09:04.611989Z",
     "start_time": "2020-06-09T19:09:04.598112Z"
    }
   },
   "outputs": [
    {
     "data": {
      "text/html": [
       "<div>\n",
       "<style scoped>\n",
       "    .dataframe tbody tr th:only-of-type {\n",
       "        vertical-align: middle;\n",
       "    }\n",
       "\n",
       "    .dataframe tbody tr th {\n",
       "        vertical-align: top;\n",
       "    }\n",
       "\n",
       "    .dataframe thead th {\n",
       "        text-align: right;\n",
       "    }\n",
       "</style>\n",
       "<table border=\"1\" class=\"dataframe\">\n",
       "  <thead>\n",
       "    <tr style=\"text-align: right;\">\n",
       "      <th></th>\n",
       "      <th>probability</th>\n",
       "    </tr>\n",
       "    <tr>\n",
       "      <th>signals</th>\n",
       "      <th></th>\n",
       "    </tr>\n",
       "  </thead>\n",
       "  <tbody>\n",
       "    <tr>\n",
       "      <th>circle</th>\n",
       "      <td>1.000000e+00</td>\n",
       "    </tr>\n",
       "    <tr>\n",
       "      <th>purple circle</th>\n",
       "      <td>6.914400e-13</td>\n",
       "    </tr>\n",
       "  </tbody>\n",
       "</table>\n",
       "</div>"
      ],
      "text/plain": [
       "                probability\n",
       "signals                    \n",
       "circle         1.000000e+00\n",
       "purple circle  6.914400e-13"
      ]
     },
     "execution_count": 13,
     "metadata": {},
     "output_type": "execute_result"
    }
   ],
   "source": [
    "getSignalerSetup3({'intentions':'purple circle'})"
   ]
  },
  {
   "cell_type": "markdown",
   "metadata": {},
   "source": [
    "# Condition 3: Pragmatics Not Enough\n",
    "- Target: Green Circle"
   ]
  },
  {
   "cell_type": "code",
   "execution_count": 14,
   "metadata": {
    "ExecuteTime": {
     "end_time": "2020-06-09T19:09:04.829141Z",
     "start_time": "2020-06-09T19:09:04.613382Z"
    }
   },
   "outputs": [
    {
     "data": {
      "image/png": "[encoded data removed]",
      "text/plain": [
       "<Figure size 403.2x453.6 with 1 Axes>"
      ]
     },
     "metadata": {
      "needs_background": "light"
     },
     "output_type": "display_data"
    }
   ],
   "source": [
    "visualizeExperimentTrial(gridDims, s, r, signalSpace_GC, targetDict_GcGtPc)"
   ]
  },
  {
   "cell_type": "code",
   "execution_count": 15,
   "metadata": {
    "ExecuteTime": {
     "end_time": "2020-06-09T19:09:05.151212Z",
     "start_time": "2020-06-09T19:09:04.830453Z"
    },
    "scrolled": false
   },
   "outputs": [
    {
     "data": {
      "text/html": [
       "<div>\n",
       "<style scoped>\n",
       "    .dataframe tbody tr th:only-of-type {\n",
       "        vertical-align: middle;\n",
       "    }\n",
       "\n",
       "    .dataframe tbody tr th {\n",
       "        vertical-align: top;\n",
       "    }\n",
       "\n",
       "    .dataframe thead th {\n",
       "        text-align: right;\n",
       "    }\n",
       "</style>\n",
       "<table border=\"1\" class=\"dataframe\">\n",
       "  <thead>\n",
       "    <tr style=\"text-align: right;\">\n",
       "      <th></th>\n",
       "      <th></th>\n",
       "      <th></th>\n",
       "      <th></th>\n",
       "      <th>p(mind)</th>\n",
       "    </tr>\n",
       "    <tr>\n",
       "      <th>desires</th>\n",
       "      <th>worlds</th>\n",
       "      <th>actions</th>\n",
       "      <th>intentions</th>\n",
       "      <th></th>\n",
       "    </tr>\n",
       "  </thead>\n",
       "  <tbody>\n",
       "    <tr>\n",
       "      <th rowspan=\"12\" valign=\"top\">1</th>\n",
       "      <th rowspan=\"12\" valign=\"top\">1</th>\n",
       "      <th rowspan=\"2\" valign=\"top\">((0, 7), (4, 7))</th>\n",
       "      <th>green circle</th>\n",
       "      <td>0.0000</td>\n",
       "    </tr>\n",
       "    <tr>\n",
       "      <th>green triangle</th>\n",
       "      <td>0.0000</td>\n",
       "    </tr>\n",
       "    <tr>\n",
       "      <th rowspan=\"2\" valign=\"top\">((4, 0), (0, 7))</th>\n",
       "      <th>green circle</th>\n",
       "      <td>0.9823</td>\n",
       "    </tr>\n",
       "    <tr>\n",
       "      <th>green triangle</th>\n",
       "      <td>0.0000</td>\n",
       "    </tr>\n",
       "    <tr>\n",
       "      <th rowspan=\"2\" valign=\"top\">((4, 0), (4, 3))</th>\n",
       "      <th>green circle</th>\n",
       "      <td>0.0000</td>\n",
       "    </tr>\n",
       "    <tr>\n",
       "      <th>green triangle</th>\n",
       "      <td>0.0177</td>\n",
       "    </tr>\n",
       "    <tr>\n",
       "      <th rowspan=\"2\" valign=\"top\">((4, 0), (8, 7))</th>\n",
       "      <th>green circle</th>\n",
       "      <td>0.0000</td>\n",
       "    </tr>\n",
       "    <tr>\n",
       "      <th>green triangle</th>\n",
       "      <td>0.0000</td>\n",
       "    </tr>\n",
       "    <tr>\n",
       "      <th rowspan=\"2\" valign=\"top\">((4, 3), (4, 7))</th>\n",
       "      <th>green circle</th>\n",
       "      <td>0.0000</td>\n",
       "    </tr>\n",
       "    <tr>\n",
       "      <th>green triangle</th>\n",
       "      <td>0.0000</td>\n",
       "    </tr>\n",
       "    <tr>\n",
       "      <th rowspan=\"2\" valign=\"top\">((8, 7), (4, 7))</th>\n",
       "      <th>green circle</th>\n",
       "      <td>0.0000</td>\n",
       "    </tr>\n",
       "    <tr>\n",
       "      <th>green triangle</th>\n",
       "      <td>0.0000</td>\n",
       "    </tr>\n",
       "  </tbody>\n",
       "</table>\n",
       "</div>"
      ],
      "text/plain": [
       "                                                p(mind)\n",
       "desires worlds actions          intentions             \n",
       "1       1      ((0, 7), (4, 7)) green circle     0.0000\n",
       "                                green triangle   0.0000\n",
       "               ((4, 0), (0, 7)) green circle     0.9823\n",
       "                                green triangle   0.0000\n",
       "               ((4, 0), (4, 3)) green circle     0.0000\n",
       "                                green triangle   0.0177\n",
       "               ((4, 0), (8, 7)) green circle     0.0000\n",
       "                                green triangle   0.0000\n",
       "               ((4, 3), (4, 7)) green circle     0.0000\n",
       "                                green triangle   0.0000\n",
       "               ((8, 7), (4, 7)) green circle     0.0000\n",
       "                                green triangle   0.0000"
      ]
     },
     "execution_count": 15,
     "metadata": {},
     "output_type": "execute_result"
    }
   ],
   "source": [
    "getReceiverSetup3('green').round(4)"
   ]
  },
  {
   "cell_type": "code",
   "execution_count": 16,
   "metadata": {
    "ExecuteTime": {
     "end_time": "2020-06-09T19:09:05.166962Z",
     "start_time": "2020-06-09T19:09:05.152831Z"
    }
   },
   "outputs": [
    {
     "data": {
      "text/html": [
       "<div>\n",
       "<style scoped>\n",
       "    .dataframe tbody tr th:only-of-type {\n",
       "        vertical-align: middle;\n",
       "    }\n",
       "\n",
       "    .dataframe tbody tr th {\n",
       "        vertical-align: top;\n",
       "    }\n",
       "\n",
       "    .dataframe thead th {\n",
       "        text-align: right;\n",
       "    }\n",
       "</style>\n",
       "<table border=\"1\" class=\"dataframe\">\n",
       "  <thead>\n",
       "    <tr style=\"text-align: right;\">\n",
       "      <th></th>\n",
       "      <th>probability</th>\n",
       "    </tr>\n",
       "    <tr>\n",
       "      <th>signals</th>\n",
       "      <th></th>\n",
       "    </tr>\n",
       "  </thead>\n",
       "  <tbody>\n",
       "    <tr>\n",
       "      <th>green circle</th>\n",
       "      <td>6.914400e-13</td>\n",
       "    </tr>\n",
       "    <tr>\n",
       "      <th>circle</th>\n",
       "      <td>5.000000e-01</td>\n",
       "    </tr>\n",
       "    <tr>\n",
       "      <th>green</th>\n",
       "      <td>5.000000e-01</td>\n",
       "    </tr>\n",
       "  </tbody>\n",
       "</table>\n",
       "</div>"
      ],
      "text/plain": [
       "               probability\n",
       "signals                   \n",
       "green circle  6.914400e-13\n",
       "circle        5.000000e-01\n",
       "green         5.000000e-01"
      ]
     },
     "execution_count": 16,
     "metadata": {},
     "output_type": "execute_result"
    }
   ],
   "source": [
    "sig3 = getSignalerSetup3({'intentions':'green circle'})\n",
    "sig3"
   ]
  },
  {
   "cell_type": "markdown",
   "metadata": {},
   "source": [
    "# Condition 4: Neither Alone is Enough\n",
    "- Target: Purple Circle"
   ]
  },
  {
   "cell_type": "code",
   "execution_count": 17,
   "metadata": {
    "ExecuteTime": {
     "end_time": "2020-06-09T19:09:05.382156Z",
     "start_time": "2020-06-09T19:09:05.168097Z"
    }
   },
   "outputs": [
    {
     "data": {
      "image/png": "[encoded data removed]",
      "text/plain": [
       "<Figure size 403.2x453.6 with 1 Axes>"
      ]
     },
     "metadata": {
      "needs_background": "light"
     },
     "output_type": "display_data"
    }
   ],
   "source": [
    "visualizeExperimentTrial(gridDims, s, r, signalSpace_PT, targetDict_PcGtPtGc) "
   ]
  },
  {
   "cell_type": "code",
   "execution_count": 18,
   "metadata": {
    "ExecuteTime": {
     "end_time": "2020-06-09T19:09:05.821065Z",
     "start_time": "2020-06-09T19:09:05.383615Z"
    },
    "scrolled": false
   },
   "outputs": [
    {
     "data": {
      "text/html": [
       "<div>\n",
       "<style scoped>\n",
       "    .dataframe tbody tr th:only-of-type {\n",
       "        vertical-align: middle;\n",
       "    }\n",
       "\n",
       "    .dataframe tbody tr th {\n",
       "        vertical-align: top;\n",
       "    }\n",
       "\n",
       "    .dataframe thead th {\n",
       "        text-align: right;\n",
       "    }\n",
       "</style>\n",
       "<table border=\"1\" class=\"dataframe\">\n",
       "  <thead>\n",
       "    <tr style=\"text-align: right;\">\n",
       "      <th></th>\n",
       "      <th></th>\n",
       "      <th></th>\n",
       "      <th></th>\n",
       "      <th>p(mind)</th>\n",
       "    </tr>\n",
       "    <tr>\n",
       "      <th>desires</th>\n",
       "      <th>worlds</th>\n",
       "      <th>actions</th>\n",
       "      <th>intentions</th>\n",
       "      <th></th>\n",
       "    </tr>\n",
       "  </thead>\n",
       "  <tbody>\n",
       "    <tr>\n",
       "      <th rowspan=\"16\" valign=\"top\">1</th>\n",
       "      <th rowspan=\"16\" valign=\"top\">1</th>\n",
       "      <th rowspan=\"2\" valign=\"top\">((0, 7), (4, 7))</th>\n",
       "      <th>purple circle</th>\n",
       "      <td>0.0</td>\n",
       "    </tr>\n",
       "    <tr>\n",
       "      <th>purple triangle</th>\n",
       "      <td>0.0</td>\n",
       "    </tr>\n",
       "    <tr>\n",
       "      <th rowspan=\"2\" valign=\"top\">((4, 0), (0, 7))</th>\n",
       "      <th>purple circle</th>\n",
       "      <td>0.5</td>\n",
       "    </tr>\n",
       "    <tr>\n",
       "      <th>purple triangle</th>\n",
       "      <td>0.0</td>\n",
       "    </tr>\n",
       "    <tr>\n",
       "      <th rowspan=\"2\" valign=\"top\">((4, 0), (4, 3))</th>\n",
       "      <th>purple circle</th>\n",
       "      <td>0.0</td>\n",
       "    </tr>\n",
       "    <tr>\n",
       "      <th>purple triangle</th>\n",
       "      <td>0.0</td>\n",
       "    </tr>\n",
       "    <tr>\n",
       "      <th rowspan=\"2\" valign=\"top\">((4, 0), (7, 6))</th>\n",
       "      <th>purple circle</th>\n",
       "      <td>0.0</td>\n",
       "    </tr>\n",
       "    <tr>\n",
       "      <th>purple triangle</th>\n",
       "      <td>0.5</td>\n",
       "    </tr>\n",
       "    <tr>\n",
       "      <th rowspan=\"2\" valign=\"top\">((4, 0), (8, 7))</th>\n",
       "      <th>purple circle</th>\n",
       "      <td>0.0</td>\n",
       "    </tr>\n",
       "    <tr>\n",
       "      <th>purple triangle</th>\n",
       "      <td>0.0</td>\n",
       "    </tr>\n",
       "    <tr>\n",
       "      <th rowspan=\"2\" valign=\"top\">((4, 3), (4, 7))</th>\n",
       "      <th>purple circle</th>\n",
       "      <td>0.0</td>\n",
       "    </tr>\n",
       "    <tr>\n",
       "      <th>purple triangle</th>\n",
       "      <td>0.0</td>\n",
       "    </tr>\n",
       "    <tr>\n",
       "      <th rowspan=\"2\" valign=\"top\">((7, 6), (4, 7))</th>\n",
       "      <th>purple circle</th>\n",
       "      <td>0.0</td>\n",
       "    </tr>\n",
       "    <tr>\n",
       "      <th>purple triangle</th>\n",
       "      <td>0.0</td>\n",
       "    </tr>\n",
       "    <tr>\n",
       "      <th rowspan=\"2\" valign=\"top\">((8, 7), (4, 7))</th>\n",
       "      <th>purple circle</th>\n",
       "      <td>0.0</td>\n",
       "    </tr>\n",
       "    <tr>\n",
       "      <th>purple triangle</th>\n",
       "      <td>0.0</td>\n",
       "    </tr>\n",
       "  </tbody>\n",
       "</table>\n",
       "</div>"
      ],
      "text/plain": [
       "                                                 p(mind)\n",
       "desires worlds actions          intentions              \n",
       "1       1      ((0, 7), (4, 7)) purple circle        0.0\n",
       "                                purple triangle      0.0\n",
       "               ((4, 0), (0, 7)) purple circle        0.5\n",
       "                                purple triangle      0.0\n",
       "               ((4, 0), (4, 3)) purple circle        0.0\n",
       "                                purple triangle      0.0\n",
       "               ((4, 0), (7, 6)) purple circle        0.0\n",
       "                                purple triangle      0.5\n",
       "               ((4, 0), (8, 7)) purple circle        0.0\n",
       "                                purple triangle      0.0\n",
       "               ((4, 3), (4, 7)) purple circle        0.0\n",
       "                                purple triangle      0.0\n",
       "               ((7, 6), (4, 7)) purple circle        0.0\n",
       "                                purple triangle      0.0\n",
       "               ((8, 7), (4, 7)) purple circle        0.0\n",
       "                                purple triangle      0.0"
      ]
     },
     "execution_count": 18,
     "metadata": {},
     "output_type": "execute_result"
    }
   ],
   "source": [
    "getReceiverSetup4('purple').round(4)"
   ]
  },
  {
   "cell_type": "code",
   "execution_count": 19,
   "metadata": {
    "ExecuteTime": {
     "end_time": "2020-06-09T19:09:05.835256Z",
     "start_time": "2020-06-09T19:09:05.822255Z"
    },
    "scrolled": true
   },
   "outputs": [
    {
     "data": {
      "text/html": [
       "<div>\n",
       "<style scoped>\n",
       "    .dataframe tbody tr th:only-of-type {\n",
       "        vertical-align: middle;\n",
       "    }\n",
       "\n",
       "    .dataframe tbody tr th {\n",
       "        vertical-align: top;\n",
       "    }\n",
       "\n",
       "    .dataframe thead th {\n",
       "        text-align: right;\n",
       "    }\n",
       "</style>\n",
       "<table border=\"1\" class=\"dataframe\">\n",
       "  <thead>\n",
       "    <tr style=\"text-align: right;\">\n",
       "      <th></th>\n",
       "      <th>probability</th>\n",
       "    </tr>\n",
       "    <tr>\n",
       "      <th>signals</th>\n",
       "      <th></th>\n",
       "    </tr>\n",
       "  </thead>\n",
       "  <tbody>\n",
       "    <tr>\n",
       "      <th>purple</th>\n",
       "      <td>1.000000e+00</td>\n",
       "    </tr>\n",
       "    <tr>\n",
       "      <th>purple circle</th>\n",
       "      <td>6.914400e-13</td>\n",
       "    </tr>\n",
       "  </tbody>\n",
       "</table>\n",
       "</div>"
      ],
      "text/plain": [
       "                probability\n",
       "signals                    \n",
       "purple         1.000000e+00\n",
       "purple circle  6.914400e-13"
      ]
     },
     "execution_count": 19,
     "metadata": {},
     "output_type": "execute_result"
    }
   ],
   "source": [
    "getSignalerSetup4({'intentions':'purple circle'})"
   ]
  }
 ],
 "metadata": {
  "kernelspec": {
   "display_name": "Python 3",
   "language": "python",
   "name": "python3"
  },
  "language_info": {
   "codemirror_mode": {
    "name": "ipython",
    "version": 3
   },
   "file_extension": ".py",
   "mimetype": "text/x-python",
   "name": "python",
   "nbconvert_exporter": "python",
   "pygments_lexer": "ipython3",
   "version": "3.5.6"
  },
  "toc": {
   "base_numbering": 1,
   "nav_menu": {},
   "number_sections": true,
   "sideBar": true,
   "skip_h1_title": false,
   "title_cell": "Table of Contents",
   "title_sidebar": "Contents",
   "toc_cell": false,
   "toc_position": {},
   "toc_section_display": true,
   "toc_window_display": false
  }
 },
 "nbformat": 4,
 "nbformat_minor": 2
}
