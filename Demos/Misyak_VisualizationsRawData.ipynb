{
 "cells": [
  {
   "cell_type": "code",
   "execution_count": null,
   "metadata": {
    "ExecuteTime": {
     "end_time": "2020-08-26T02:56:53.604107Z",
     "start_time": "2020-08-26T02:56:52.208229Z"
    },
    "scrolled": true
   },
   "outputs": [],
   "source": [
    "import sys\n",
    "import pandas as pd\n",
    "import matplotlib.pyplot as plt\n",
    "import matplotlib.patches as mpatches \n",
    "import seaborn as sns\n",
    "import itertools as it\n",
    "\n",
    "\n",
    "sys.path.append('/home/stacyste/Documents/Research/OverloadedSignaling/Algorithms/ImaginedWe')\n",
    "sys.path.append('/home/stacyste/Documents/Research/OverloadedSignaling/Algorithms/RSA')\n",
    "sys.path.append('/home/stacyste/Documents/Research/OverloadedSignaling/Environments/Misyak')\n",
    "\n",
    "sys.path.append('../src/')\n",
    "sys.path.append('../envs/misyak/')\n",
    "sys.path.append('../envs/misyak/Misyak_RawData')\n",
    "sys.path.append('../../IWCompetingModels/')\n",
    "\n",
    "from GenerativeSignaler import SignalerZero\n",
    "from OverloadedReceiver import ReceiverZero\n",
    "from OverloadedSignaler import SignalerOne\n",
    "from mindConstruction import *\n",
    "\n",
    "from consistentSignalChecks_Misyak import signalIsConsistent_Boxes\n",
    "from misyakConstruction import *\n"
   ]
  },
  {
   "cell_type": "markdown",
   "metadata": {},
   "source": [
    "### Setup Parameters"
   ]
  },
  {
   "cell_type": "code",
   "execution_count": null,
   "metadata": {
    "ExecuteTime": {
     "end_time": "2020-08-18T17:58:15.578055Z",
     "start_time": "2020-08-18T17:58:15.572910Z"
    },
    "scrolled": true
   },
   "outputs": [],
   "source": [
    "#world spaces\n",
    "twoRewardWorldSpace = getWorldSpace(wall = False, nBoxes = 3, nRewards = 2)\n",
    "\n",
    "#action spaces\n",
    "twoAxeActionSpace = getActionSpace(nBoxes = 3, nReceiverChoices = 2)\n",
    "twoAxeActionSpace.remove((0,0,0))\n",
    "\n",
    "#signal spaces\n",
    "oneTokenSignalSpace = getSignalSpace(nBoxes=3, nSignals = 1)\n",
    "oneTokenSignalSpace.remove((0,0,0))\n",
    "\n",
    "#condition common ground spaces\n",
    "inversionCondition = {'worlds': twoRewardWorldSpace, 'desires': [1], 'intentions': [1], 'actions': twoAxeActionSpace}"
   ]
  },
  {
   "cell_type": "markdown",
   "metadata": {},
   "source": [
    "# Signaling Distributions"
   ]
  },
  {
   "cell_type": "code",
   "execution_count": null,
   "metadata": {
    "ExecuteTime": {
     "end_time": "2020-08-18T17:58:16.374090Z",
     "start_time": "2020-08-18T17:58:16.369019Z"
    }
   },
   "outputs": [],
   "source": [
    "#parameters consistent across conditions\n",
    "a = 2\n",
    "#signalCategoryPrior = {'1':.57, '-1':.43}\n",
    "signalCategoryPrior = {'1':.5, '-1':.5}\n",
    "getActionUtility = ActionUtility(costOfLocation=0,\n",
    "                                 costOfNonReward=0,\n",
    "                                 valueOfReward=5)\n",
    "getActionDistribution = ActionDistributionGivenWorldGoal(a, getActionUtility, False)\n",
    "getMind = GenerateMind(getWorldProbabiltiy_Uniform, getDesireProbability_Uniform, getGoalGivenWorldAndDesire_Uniform, getActionDistribution)\n",
    "signalCost = 0\n",
    "getSignalCost = SignalCost_Misyak(signalCost)"
   ]
  },
  {
   "cell_type": "markdown",
   "metadata": {},
   "source": [
    "## Inversion Condition"
   ]
  },
  {
   "cell_type": "code",
   "execution_count": null,
   "metadata": {
    "ExecuteTime": {
     "end_time": "2020-08-18T17:58:18.213888Z",
     "start_time": "2020-08-18T17:58:17.492872Z"
    },
    "scrolled": false
   },
   "outputs": [],
   "source": [
    "getGenerativeSignaler_Inversion = SignalerZero(oneTokenSignalSpace, signalIsConsistent_Boxes)\n",
    "getReceiverZero_Inversion = ReceiverZero(commonGroundDictionary=inversionCondition, constructMind=getMind, getSignalerZero=getGenerativeSignaler_Inversion, signalCategoryPrior=signalCategoryPrior)\n",
    "getSignalerOne_Inversion = SignalerOne(alpha=a, signalSpace=oneTokenSignalSpace,  getActionUtility=getActionUtility, getReceiverZero=getReceiverZero_Inversion, getSignalCost=getSignalCost)"
   ]
  },
  {
   "cell_type": "code",
   "execution_count": null,
   "metadata": {
    "ExecuteTime": {
     "end_time": "2020-08-18T17:58:18.235242Z",
     "start_time": "2020-08-18T17:58:18.215040Z"
    }
   },
   "outputs": [],
   "source": [
    "getReceiverZero_Inversion((1,0,0))"
   ]
  },
  {
   "cell_type": "code",
   "execution_count": null,
   "metadata": {
    "ExecuteTime": {
     "end_time": "2020-08-18T17:58:20.381827Z",
     "start_time": "2020-08-18T17:58:20.346265Z"
    }
   },
   "outputs": [],
   "source": [
    "observedWorld = {'worlds':(1,1,0)}\n",
    "getSignalerOne_Inversion(observedWorld)"
   ]
  },
  {
   "cell_type": "code",
   "execution_count": null,
   "metadata": {},
   "outputs": [],
   "source": []
  },
  {
   "cell_type": "code",
   "execution_count": null,
   "metadata": {},
   "outputs": [],
   "source": []
  },
  {
   "cell_type": "code",
   "execution_count": null,
   "metadata": {},
   "outputs": [],
   "source": []
  },
  {
   "cell_type": "markdown",
   "metadata": {},
   "source": [
    "## Visualization"
   ]
  },
  {
   "cell_type": "code",
   "execution_count": null,
   "metadata": {
    "ExecuteTime": {
     "end_time": "2020-05-10T17:19:59.687147Z",
     "start_time": "2020-05-10T17:19:59.671409Z"
    }
   },
   "outputs": [],
   "source": [
    "worlds = getWorldProbabiltiy_Uniform(twoRewardWorldSpace)\n",
    "worlds"
   ]
  },
  {
   "cell_type": "code",
   "execution_count": null,
   "metadata": {
    "ExecuteTime": {
     "end_time": "2020-05-10T18:58:36.828587Z",
     "start_time": "2020-05-10T18:58:36.764636Z"
    }
   },
   "outputs": [],
   "source": [
    "sns.set(style=\"white\", context=\"talk\")\n",
    "\n",
    "# Set up the matplotlib figure\n",
    "f, ax1 = plt.subplots(1, 1, figsize=(7, 2.7), sharex=True)\n",
    "\n",
    "# extract correct x, y from pandas dataframe\n",
    "\n",
    "x = ['', '.', ',']\n",
    "y1 = [0.070509, 0.070509, 0.858981]\n",
    "sns.barplot(x=x, y=y1, color = '#045658', ax=ax1, orientation = 'vertical')\n",
    "\n",
    "ax1.axhline(0, color=\"k\", clip_on=False)\n",
    "ax1.set_ylabel('')\n",
    "ax1.set_xticklabels(x, rotation=90)\n",
    "ax1.set_yticklabels([0,.5,1], rotation=90)\n",
    "ax1.set_ylim(0, 1)\n",
    "\n",
    "\n",
    "# Finalize the plot\n",
    "sns.despine(bottom=True)\n",
    "plt.setp(f.axes, yticks=[0,.5,1])\n",
    "plt.tight_layout(h_pad=2)"
   ]
  },
  {
   "cell_type": "code",
   "execution_count": null,
   "metadata": {
    "ExecuteTime": {
     "end_time": "2020-05-10T01:55:22.331379Z",
     "start_time": "2020-05-10T01:55:22.263357Z"
    }
   },
   "outputs": [],
   "source": [
    "sns.set(style=\"white\", context=\"talk\")\n",
    "\n",
    "# Set up the matplotlib figure\n",
    "f, ax1 = plt.subplots(1, 1, figsize=(4, 2.7), sharex=True)\n",
    "\n",
    "# extract correct x, y from pandas dataframe\n",
    "\n",
    "x = ['a', 'b', 'c']\n",
    "y1 = [1.0/3,1.0/3, 1.0/3]\n",
    "sns.barplot(x=x, y=y1, color = '#045658', ax=ax1, orientation = 'vertical')\n",
    "\n",
    "ax1.axhline(0, color=\"k\", clip_on=False)\n",
    "ax1.set_ylabel('p(mind)')\n",
    "ax1.set_xticklabels(x, rotation=90)\n",
    "ax1.set_yticklabels([0,.5,1], rotation=90)\n",
    "ax1.set_ylim(0, 1)\n",
    "\n",
    "\n",
    "# Finalize the plot\n",
    "sns.despine(bottom=True)\n",
    "plt.setp(f.axes, yticks=[0,.5,1])\n",
    "plt.tight_layout(h_pad=2)"
   ]
  },
  {
   "cell_type": "code",
   "execution_count": null,
   "metadata": {
    "ExecuteTime": {
     "end_time": "2020-05-09T23:43:02.181533Z",
     "start_time": "2020-05-09T23:43:01.588480Z"
    },
    "scrolled": true
   },
   "outputs": [],
   "source": [
    "getMind(inversionCondition)"
   ]
  },
  {
   "cell_type": "code",
   "execution_count": null,
   "metadata": {
    "ExecuteTime": {
     "end_time": "2020-05-10T00:16:54.602047Z",
     "start_time": "2020-05-10T00:16:54.508693Z"
    }
   },
   "outputs": [],
   "source": [
    "rec = getReceiverZero_Inversion((1,0,0))\n",
    "rec"
   ]
  },
  {
   "cell_type": "code",
   "execution_count": null,
   "metadata": {
    "ExecuteTime": {
     "end_time": "2020-05-10T00:22:25.397139Z",
     "start_time": "2020-05-10T00:22:25.390136Z"
    }
   },
   "outputs": [],
   "source": [
    "list(zip(rec.index.get_level_values('worlds'), rec.index.get_level_values('actions')))"
   ]
  },
  {
   "cell_type": "code",
   "execution_count": null,
   "metadata": {
    "ExecuteTime": {
     "end_time": "2020-05-10T01:07:14.830687Z",
     "start_time": "2020-05-10T01:07:14.826250Z"
    }
   },
   "outputs": [],
   "source": [
    "def plotReceiverActionDistribution(rec, save = False, filename = 'receiverPosterior', figuresize = (7, 3), color = '#045658', ylabel = 'probability'):\n",
    "    sns.set(style=\"white\", context=\"talk\")\n",
    "\n",
    "    # Set up the matplotlib figure\n",
    "    f, ax1 = plt.subplots(1, 1, figsize=(7, 3.7), sharex=True)\n",
    "\n",
    "    # extract correct x, y from pandas dataframe\n",
    "\n",
    "    s = list(zip(rec.index.get_level_values('worlds'), rec.index.get_level_values('actions')))\n",
    "    x = [str(x) for x in s]\n",
    "    y1 = rec['p(mind|signal)'].values\n",
    "    sns.barplot(x=x, y=y1, color = '#045658', ax=ax1, orientation = 'vertical')\n",
    "\n",
    "    ax1.axhline(0, color=\"k\", clip_on=False)\n",
    "    ax1.set_ylabel('probabilities')\n",
    "    ax1.set_xticklabels(x, rotation=90)\n",
    "    ax1.set_yticklabels([0,.5,1], rotation=90)\n",
    "    ax1.set_ylim(0, 1)\n",
    "\n",
    "\n",
    "    # Finalize the plot\n",
    "    sns.despine(bottom=True)\n",
    "    plt.setp(f.axes, yticks=[0,.5,1])\n",
    "    plt.tight_layout(h_pad=2)\n",
    "    if save:\n",
    "    \tplt.savefig(\"Sig_{}.png\".format(filename))"
   ]
  },
  {
   "cell_type": "code",
   "execution_count": null,
   "metadata": {
    "ExecuteTime": {
     "end_time": "2020-05-10T01:07:15.790304Z",
     "start_time": "2020-05-10T01:07:15.608385Z"
    }
   },
   "outputs": [],
   "source": [
    "plotReceiverActionDistribution(rec)"
   ]
  },
  {
   "cell_type": "code",
   "execution_count": null,
   "metadata": {
    "ExecuteTime": {
     "end_time": "2020-05-09T23:42:14.280747Z",
     "start_time": "2020-05-09T23:42:14.044025Z"
    },
    "scrolled": false
   },
   "outputs": [],
   "source": [
    "observedWorld = {'worlds':(1,1,0)}\n",
    "getSignalerOne_Inversion(observedWorld)"
   ]
  },
  {
   "cell_type": "markdown",
   "metadata": {},
   "source": [
    "# RSA Implementation"
   ]
  },
  {
   "cell_type": "code",
   "execution_count": null,
   "metadata": {},
   "outputs": [],
   "source": [
    "def consistencyLexiconRSA_Misyak():\n",
    "    pass"
   ]
  },
  {
   "cell_type": "code",
   "execution_count": null,
   "metadata": {},
   "outputs": [],
   "source": [
    "items = ['purple circle', 'green triangle', 'green circle']\n",
    "uniformPrior = {item : 1.0/3 for item in items}\n",
    "nonUnifPrior = {'green square':.5, 'purple square': .1, 'green triangle': .1, 'purple triangle': .3}\n",
    "\n",
    "getListener0 = LiteralListener_ListenerRSA(uniformPrior, consistencyLexiconRSA_Experiment)\n",
    "\n",
    "getPragmaticSpeaker = PragmaticSpeaker_ListenerRSA(LiteralListener=getListener0, \n",
    "                                                messageSet=['green', 'circle'], \n",
    "                                                messageCostFunction = costOfMessage, \n",
    "                                                lambdaRationalityParameter = 1)\n",
    "\n",
    "getPragmaticListener  = PragmaticListener_ListenerRSA(pragmaticSpeaker=getPragmaticSpeaker, targetPrior=uniformPrior)"
   ]
  },
  {
   "cell_type": "markdown",
   "metadata": {},
   "source": [
    "# Raw Data"
   ]
  },
  {
   "cell_type": "code",
   "execution_count": 1,
   "metadata": {
    "ExecuteTime": {
     "end_time": "2020-08-26T04:23:17.687406Z",
     "start_time": "2020-08-26T04:23:17.519595Z"
    }
   },
   "outputs": [],
   "source": [
    "import pandas as pd\n",
    "import math"
   ]
  },
  {
   "cell_type": "code",
   "execution_count": 2,
   "metadata": {
    "ExecuteTime": {
     "end_time": "2020-08-26T04:23:19.164455Z",
     "start_time": "2020-08-26T04:23:19.095234Z"
    }
   },
   "outputs": [],
   "source": [
    "mis = pd.read_csv('/home/stacyste/Documents/Research/OverloadedSignaling/Environments/Misyak/data/expt2RawReceiver_processed_SS.csv')\n",
    "mis['achievedRewards'] =[ [int(mis.loc[i,'opened'].split(', ')[j]) + int(mis.loc[i,'world'].split(', ')[j]) for j in range(3)].count(2) for i in mis.index]\n",
    "mis['totalPossibleRewards'] = [ min(mis.loc[i,'n_axes'], mis.loc[i,'n_bananas']) for i in mis.index]\n",
    "\n",
    "data_unprocessed = pd.read_csv('/home/stacyste/Documents/Research/OverloadedSignaling/Environments/Misyak/data/rawReceiver_trimmed_SS.csv', index_col='id')\n",
    "#data_unprocessed = pd.read_csv('/home/stacyste/Documents/Research/OverloadedSignaling/envs/misyak/Misyak_RawData/rawReceiver_trimmed_SS.csv')"
   ]
  },
  {
   "cell_type": "code",
   "execution_count": null,
   "metadata": {
    "ExecuteTime": {
     "end_time": "2020-08-26T03:28:50.396788Z",
     "start_time": "2020-08-26T03:28:50.365687Z"
    }
   },
   "outputs": [],
   "source": [
    "mis.loc[0:5]"
   ]
  },
  {
   "cell_type": "code",
   "execution_count": null,
   "metadata": {
    "ExecuteTime": {
     "end_time": "2020-08-18T19:37:27.594831Z",
     "start_time": "2020-08-18T19:37:27.582747Z"
    },
    "scrolled": true
   },
   "outputs": [],
   "source": [
    "data_unprocessed.loc[6096:6120]"
   ]
  },
  {
   "cell_type": "code",
   "execution_count": 3,
   "metadata": {
    "ExecuteTime": {
     "end_time": "2020-08-26T04:23:22.681938Z",
     "start_time": "2020-08-26T04:23:22.673626Z"
    }
   },
   "outputs": [],
   "source": [
    "def getWorldCondition(x):\n",
    "    box0 = x['box0_content'].values[0]\n",
    "    box1 = x['box1_content'].values[0]\n",
    "    box2 = x['box2_content'].values[0]\n",
    "    \n",
    "    sb_world = (box0, box1, box2)\n",
    "    binary_world = [0 if box == 'scorpion' else 1 for box in sb_world]\n",
    "    return(tuple(binary_world))\n",
    "\n",
    "def getsignal(x):\n",
    "    token1Loc = x['token0_box'].values[0]\n",
    "    token2Loc = x['token1_box'].values[0]\n",
    "    tokens = [token1Loc, token2Loc]\n",
    "    signal = [-1,-1,-1]\n",
    "    binary_signal = [1 if index in tokens else 0 for index, sig in enumerate(signal)]\n",
    "    return(tuple(binary_signal))\n",
    "\n",
    "def getReceiverOpened(x):\n",
    "    axe1Loc = x['axe0_box'].values[0]\n",
    "    axe2Loc = x['axe1_box'].values[0]\n",
    "    opened = [axe1Loc, axe2Loc]\n",
    "    signal = [-1,-1,-1]\n",
    "    openedBoxes = [1 if index in opened else 0 for index, sig in enumerate(signal)]\n",
    "    return(tuple(openedBoxes))\n",
    "\n",
    "def achievedRewards(x):\n",
    "    world = x['world'].values[0]\n",
    "    opened = x['openedBoxes'].values[0]\n",
    "    addedTuples = [w+o for w, o in zip(world, opened)]\n",
    "    nRewardsAchieved = addedTuples.count(2)\n",
    "    return(nRewardsAchieved)\n",
    "    \n",
    "def signalingStrategy(x):\n",
    "    world = x['world'].values[0]\n",
    "    signal = x['signal'].values[0]\n",
    "    markedItems = [w for s, w in zip(signal, world) if s==1]\n",
    "    #silence\n",
    "    if signal == (0,0,0):\n",
    "        signalerType = 'silent'\n",
    "    elif all([x == 0 for x in markedItems]):\n",
    "        signalerType = 'avoid'\n",
    "    elif all([x == 1 for x in markedItems]):\n",
    "        signalerType = 'open'\n",
    "    else:\n",
    "        signalerType = 'mixed'\n",
    "    return(signalerType)    "
   ]
  },
  {
   "cell_type": "markdown",
   "metadata": {},
   "source": [
    "### Add new Columns for Analysis"
   ]
  },
  {
   "cell_type": "code",
   "execution_count": 4,
   "metadata": {
    "ExecuteTime": {
     "end_time": "2020-08-26T04:23:25.144999Z",
     "start_time": "2020-08-26T04:23:24.780298Z"
    }
   },
   "outputs": [],
   "source": [
    "worldSeries = data_unprocessed.groupby(data_unprocessed.index.names).apply(getWorldCondition)\n",
    "data_unprocessed['world'] = data_unprocessed.index.get_level_values(0).map(worldSeries.get)\n",
    "signalSeries = data_unprocessed.groupby(data_unprocessed.index.names).apply(getsignal)\n",
    "data_unprocessed['signal'] = data_unprocessed.index.get_level_values(0).map(signalSeries.get)\n",
    "openedSeries = data_unprocessed.groupby(data_unprocessed.index.names).apply(getReceiverOpened)\n",
    "data_unprocessed['openedBoxes'] = data_unprocessed.index.get_level_values(0).map(openedSeries.get)\n",
    "data_unprocessed['maxRewardsPossible'] = data_unprocessed[['n_axes','n_bananas']].min(axis=1)\n",
    "rewards = data_unprocessed.groupby(data_unprocessed.index.names).apply(achievedRewards)\n",
    "data_unprocessed['achievedRewards'] = data_unprocessed.index.get_level_values(0).map(rewards.get)\n",
    "strategy = data_unprocessed.groupby(data_unprocessed.index.names).apply(signalingStrategy)\n",
    "data_unprocessed['strategy'] = data_unprocessed.index.get_level_values(0).map(strategy.get)"
   ]
  },
  {
   "cell_type": "code",
   "execution_count": 7,
   "metadata": {
    "ExecuteTime": {
     "end_time": "2020-08-26T04:23:55.192840Z",
     "start_time": "2020-08-26T04:23:55.170259Z"
    },
    "scrolled": true
   },
   "outputs": [
    {
     "data": {
      "text/html": [
       "<div>\n",
       "<style scoped>\n",
       "    .dataframe tbody tr th:only-of-type {\n",
       "        vertical-align: middle;\n",
       "    }\n",
       "\n",
       "    .dataframe tbody tr th {\n",
       "        vertical-align: top;\n",
       "    }\n",
       "\n",
       "    .dataframe thead th {\n",
       "        text-align: right;\n",
       "    }\n",
       "</style>\n",
       "<table border=\"1\" class=\"dataframe\">\n",
       "  <thead>\n",
       "    <tr style=\"text-align: right;\">\n",
       "      <th></th>\n",
       "      <th>n_tokens</th>\n",
       "      <th>n_axes</th>\n",
       "      <th>show_imprints</th>\n",
       "      <th>n_bananas</th>\n",
       "      <th>n_scorpions</th>\n",
       "      <th>box0_content</th>\n",
       "      <th>box1_content</th>\n",
       "      <th>box2_content</th>\n",
       "      <th>token0_box</th>\n",
       "      <th>token1_box</th>\n",
       "      <th>axe0_box</th>\n",
       "      <th>axe1_box</th>\n",
       "      <th>response_time_sender</th>\n",
       "      <th>response_time_interpreter</th>\n",
       "      <th>world</th>\n",
       "      <th>signal</th>\n",
       "      <th>openedBoxes</th>\n",
       "      <th>maxRewardsPossible</th>\n",
       "      <th>achievedRewards</th>\n",
       "      <th>strategy</th>\n",
       "    </tr>\n",
       "    <tr>\n",
       "      <th>id</th>\n",
       "      <th></th>\n",
       "      <th></th>\n",
       "      <th></th>\n",
       "      <th></th>\n",
       "      <th></th>\n",
       "      <th></th>\n",
       "      <th></th>\n",
       "      <th></th>\n",
       "      <th></th>\n",
       "      <th></th>\n",
       "      <th></th>\n",
       "      <th></th>\n",
       "      <th></th>\n",
       "      <th></th>\n",
       "      <th></th>\n",
       "      <th></th>\n",
       "      <th></th>\n",
       "      <th></th>\n",
       "      <th></th>\n",
       "      <th></th>\n",
       "    </tr>\n",
       "  </thead>\n",
       "  <tbody>\n",
       "    <tr>\n",
       "      <th>6096</th>\n",
       "      <td>2</td>\n",
       "      <td>1</td>\n",
       "      <td>0</td>\n",
       "      <td>2</td>\n",
       "      <td>1</td>\n",
       "      <td>scorpion</td>\n",
       "      <td>banana</td>\n",
       "      <td>banana</td>\n",
       "      <td>0.0</td>\n",
       "      <td>1.0</td>\n",
       "      <td>1.0</td>\n",
       "      <td>NaN</td>\n",
       "      <td>50059</td>\n",
       "      <td>6611</td>\n",
       "      <td>(0, 1, 1)</td>\n",
       "      <td>(1, 1, 0)</td>\n",
       "      <td>(0, 1, 0)</td>\n",
       "      <td>1</td>\n",
       "      <td>1</td>\n",
       "      <td>mixed</td>\n",
       "    </tr>\n",
       "    <tr>\n",
       "      <th>6189</th>\n",
       "      <td>1</td>\n",
       "      <td>1</td>\n",
       "      <td>1</td>\n",
       "      <td>2</td>\n",
       "      <td>1</td>\n",
       "      <td>scorpion</td>\n",
       "      <td>banana</td>\n",
       "      <td>banana</td>\n",
       "      <td>0.0</td>\n",
       "      <td>NaN</td>\n",
       "      <td>1.0</td>\n",
       "      <td>NaN</td>\n",
       "      <td>10370</td>\n",
       "      <td>7929</td>\n",
       "      <td>(0, 1, 1)</td>\n",
       "      <td>(1, 0, 0)</td>\n",
       "      <td>(0, 1, 0)</td>\n",
       "      <td>1</td>\n",
       "      <td>1</td>\n",
       "      <td>avoid</td>\n",
       "    </tr>\n",
       "    <tr>\n",
       "      <th>6032</th>\n",
       "      <td>1</td>\n",
       "      <td>1</td>\n",
       "      <td>0</td>\n",
       "      <td>1</td>\n",
       "      <td>2</td>\n",
       "      <td>scorpion</td>\n",
       "      <td>banana</td>\n",
       "      <td>scorpion</td>\n",
       "      <td>1.0</td>\n",
       "      <td>NaN</td>\n",
       "      <td>1.0</td>\n",
       "      <td>NaN</td>\n",
       "      <td>10452</td>\n",
       "      <td>3690</td>\n",
       "      <td>(0, 1, 0)</td>\n",
       "      <td>(0, 1, 0)</td>\n",
       "      <td>(0, 1, 0)</td>\n",
       "      <td>1</td>\n",
       "      <td>1</td>\n",
       "      <td>open</td>\n",
       "    </tr>\n",
       "    <tr>\n",
       "      <th>6190</th>\n",
       "      <td>2</td>\n",
       "      <td>2</td>\n",
       "      <td>0</td>\n",
       "      <td>1</td>\n",
       "      <td>2</td>\n",
       "      <td>scorpion</td>\n",
       "      <td>banana</td>\n",
       "      <td>scorpion</td>\n",
       "      <td>1.0</td>\n",
       "      <td>NaN</td>\n",
       "      <td>1.0</td>\n",
       "      <td>NaN</td>\n",
       "      <td>4549</td>\n",
       "      <td>3157</td>\n",
       "      <td>(0, 1, 0)</td>\n",
       "      <td>(0, 1, 0)</td>\n",
       "      <td>(0, 1, 0)</td>\n",
       "      <td>1</td>\n",
       "      <td>1</td>\n",
       "      <td>open</td>\n",
       "    </tr>\n",
       "    <tr>\n",
       "      <th>6123</th>\n",
       "      <td>2</td>\n",
       "      <td>1</td>\n",
       "      <td>0</td>\n",
       "      <td>1</td>\n",
       "      <td>2</td>\n",
       "      <td>scorpion</td>\n",
       "      <td>banana</td>\n",
       "      <td>scorpion</td>\n",
       "      <td>1.0</td>\n",
       "      <td>NaN</td>\n",
       "      <td>1.0</td>\n",
       "      <td>NaN</td>\n",
       "      <td>3370</td>\n",
       "      <td>3534</td>\n",
       "      <td>(0, 1, 0)</td>\n",
       "      <td>(0, 1, 0)</td>\n",
       "      <td>(0, 1, 0)</td>\n",
       "      <td>1</td>\n",
       "      <td>1</td>\n",
       "      <td>open</td>\n",
       "    </tr>\n",
       "    <tr>\n",
       "      <th>6122</th>\n",
       "      <td>1</td>\n",
       "      <td>1</td>\n",
       "      <td>0</td>\n",
       "      <td>2</td>\n",
       "      <td>1</td>\n",
       "      <td>banana</td>\n",
       "      <td>scorpion</td>\n",
       "      <td>banana</td>\n",
       "      <td>0.0</td>\n",
       "      <td>NaN</td>\n",
       "      <td>0.0</td>\n",
       "      <td>NaN</td>\n",
       "      <td>2674</td>\n",
       "      <td>4035</td>\n",
       "      <td>(1, 0, 1)</td>\n",
       "      <td>(1, 0, 0)</td>\n",
       "      <td>(1, 0, 0)</td>\n",
       "      <td>1</td>\n",
       "      <td>1</td>\n",
       "      <td>open</td>\n",
       "    </tr>\n",
       "    <tr>\n",
       "      <th>6192</th>\n",
       "      <td>1</td>\n",
       "      <td>2</td>\n",
       "      <td>1</td>\n",
       "      <td>2</td>\n",
       "      <td>1</td>\n",
       "      <td>banana</td>\n",
       "      <td>banana</td>\n",
       "      <td>scorpion</td>\n",
       "      <td>2.0</td>\n",
       "      <td>NaN</td>\n",
       "      <td>2.0</td>\n",
       "      <td>NaN</td>\n",
       "      <td>2624</td>\n",
       "      <td>4563</td>\n",
       "      <td>(1, 1, 0)</td>\n",
       "      <td>(0, 0, 1)</td>\n",
       "      <td>(0, 0, 1)</td>\n",
       "      <td>2</td>\n",
       "      <td>0</td>\n",
       "      <td>avoid</td>\n",
       "    </tr>\n",
       "    <tr>\n",
       "      <th>6127</th>\n",
       "      <td>2</td>\n",
       "      <td>2</td>\n",
       "      <td>0</td>\n",
       "      <td>1</td>\n",
       "      <td>2</td>\n",
       "      <td>scorpion</td>\n",
       "      <td>scorpion</td>\n",
       "      <td>banana</td>\n",
       "      <td>2.0</td>\n",
       "      <td>NaN</td>\n",
       "      <td>2.0</td>\n",
       "      <td>NaN</td>\n",
       "      <td>9621</td>\n",
       "      <td>3421</td>\n",
       "      <td>(0, 0, 1)</td>\n",
       "      <td>(0, 0, 1)</td>\n",
       "      <td>(0, 0, 1)</td>\n",
       "      <td>1</td>\n",
       "      <td>1</td>\n",
       "      <td>open</td>\n",
       "    </tr>\n",
       "    <tr>\n",
       "      <th>6126</th>\n",
       "      <td>2</td>\n",
       "      <td>2</td>\n",
       "      <td>1</td>\n",
       "      <td>2</td>\n",
       "      <td>1</td>\n",
       "      <td>banana</td>\n",
       "      <td>banana</td>\n",
       "      <td>scorpion</td>\n",
       "      <td>0.0</td>\n",
       "      <td>1.0</td>\n",
       "      <td>0.0</td>\n",
       "      <td>1.0</td>\n",
       "      <td>4433</td>\n",
       "      <td>5614</td>\n",
       "      <td>(1, 1, 0)</td>\n",
       "      <td>(1, 1, 0)</td>\n",
       "      <td>(1, 1, 0)</td>\n",
       "      <td>2</td>\n",
       "      <td>2</td>\n",
       "      <td>open</td>\n",
       "    </tr>\n",
       "    <tr>\n",
       "      <th>6120</th>\n",
       "      <td>2</td>\n",
       "      <td>1</td>\n",
       "      <td>0</td>\n",
       "      <td>2</td>\n",
       "      <td>1</td>\n",
       "      <td>banana</td>\n",
       "      <td>banana</td>\n",
       "      <td>scorpion</td>\n",
       "      <td>0.0</td>\n",
       "      <td>NaN</td>\n",
       "      <td>0.0</td>\n",
       "      <td>NaN</td>\n",
       "      <td>6559</td>\n",
       "      <td>2852</td>\n",
       "      <td>(1, 1, 0)</td>\n",
       "      <td>(1, 0, 0)</td>\n",
       "      <td>(1, 0, 0)</td>\n",
       "      <td>1</td>\n",
       "      <td>1</td>\n",
       "      <td>open</td>\n",
       "    </tr>\n",
       "  </tbody>\n",
       "</table>\n",
       "</div>"
      ],
      "text/plain": [
       "      n_tokens  n_axes  show_imprints  n_bananas  n_scorpions box0_content  \\\n",
       "id                                                                           \n",
       "6096         2       1              0          2            1     scorpion   \n",
       "6189         1       1              1          2            1     scorpion   \n",
       "6032         1       1              0          1            2     scorpion   \n",
       "6190         2       2              0          1            2     scorpion   \n",
       "6123         2       1              0          1            2     scorpion   \n",
       "6122         1       1              0          2            1       banana   \n",
       "6192         1       2              1          2            1       banana   \n",
       "6127         2       2              0          1            2     scorpion   \n",
       "6126         2       2              1          2            1       banana   \n",
       "6120         2       1              0          2            1       banana   \n",
       "\n",
       "     box1_content box2_content  token0_box  token1_box  axe0_box  axe1_box  \\\n",
       "id                                                                           \n",
       "6096       banana       banana         0.0         1.0       1.0       NaN   \n",
       "6189       banana       banana         0.0         NaN       1.0       NaN   \n",
       "6032       banana     scorpion         1.0         NaN       1.0       NaN   \n",
       "6190       banana     scorpion         1.0         NaN       1.0       NaN   \n",
       "6123       banana     scorpion         1.0         NaN       1.0       NaN   \n",
       "6122     scorpion       banana         0.0         NaN       0.0       NaN   \n",
       "6192       banana     scorpion         2.0         NaN       2.0       NaN   \n",
       "6127     scorpion       banana         2.0         NaN       2.0       NaN   \n",
       "6126       banana     scorpion         0.0         1.0       0.0       1.0   \n",
       "6120       banana     scorpion         0.0         NaN       0.0       NaN   \n",
       "\n",
       "      response_time_sender  response_time_interpreter      world     signal  \\\n",
       "id                                                                            \n",
       "6096                 50059                       6611  (0, 1, 1)  (1, 1, 0)   \n",
       "6189                 10370                       7929  (0, 1, 1)  (1, 0, 0)   \n",
       "6032                 10452                       3690  (0, 1, 0)  (0, 1, 0)   \n",
       "6190                  4549                       3157  (0, 1, 0)  (0, 1, 0)   \n",
       "6123                  3370                       3534  (0, 1, 0)  (0, 1, 0)   \n",
       "6122                  2674                       4035  (1, 0, 1)  (1, 0, 0)   \n",
       "6192                  2624                       4563  (1, 1, 0)  (0, 0, 1)   \n",
       "6127                  9621                       3421  (0, 0, 1)  (0, 0, 1)   \n",
       "6126                  4433                       5614  (1, 1, 0)  (1, 1, 0)   \n",
       "6120                  6559                       2852  (1, 1, 0)  (1, 0, 0)   \n",
       "\n",
       "     openedBoxes  maxRewardsPossible  achievedRewards strategy  \n",
       "id                                                              \n",
       "6096   (0, 1, 0)                   1                1    mixed  \n",
       "6189   (0, 1, 0)                   1                1    avoid  \n",
       "6032   (0, 1, 0)                   1                1     open  \n",
       "6190   (0, 1, 0)                   1                1     open  \n",
       "6123   (0, 1, 0)                   1                1     open  \n",
       "6122   (1, 0, 0)                   1                1     open  \n",
       "6192   (0, 0, 1)                   2                0    avoid  \n",
       "6127   (0, 0, 1)                   1                1     open  \n",
       "6126   (1, 1, 0)                   2                2     open  \n",
       "6120   (1, 0, 0)                   1                1     open  "
      ]
     },
     "execution_count": 7,
     "metadata": {},
     "output_type": "execute_result"
    }
   ],
   "source": [
    "data_unprocessed.loc[6096:6120]"
   ]
  },
  {
   "cell_type": "code",
   "execution_count": 8,
   "metadata": {
    "ExecuteTime": {
     "end_time": "2020-08-26T04:24:51.816560Z",
     "start_time": "2020-08-26T04:24:51.805322Z"
    }
   },
   "outputs": [],
   "source": [
    "data_unprocessed.to_pickle(\"./conditionsForCommonGround2020-8-25.pkl\")"
   ]
  },
  {
   "cell_type": "markdown",
   "metadata": {},
   "source": [
    "### Process to group by conditions and create a PDF"
   ]
  },
  {
   "cell_type": "code",
   "execution_count": null,
   "metadata": {
    "ExecuteTime": {
     "end_time": "2020-05-12T16:18:07.842225Z",
     "start_time": "2020-05-12T16:18:07.818209Z"
    }
   },
   "outputs": [],
   "source": [
    "#summaryOfStrategies = pd.DataFrame(data_unprocessed.groupby(['n_tokens','n_axes', 'show_imprints','n_bananas']).apply(lambda x: x['strategy'].value_counts(normalize=True)))"
   ]
  },
  {
   "cell_type": "code",
   "execution_count": null,
   "metadata": {
    "ExecuteTime": {
     "end_time": "2020-08-18T19:38:32.536783Z",
     "start_time": "2020-08-18T19:38:32.505255Z"
    }
   },
   "outputs": [],
   "source": [
    "summaryOfStrategies = data_unprocessed.groupby(['n_tokens','n_axes', 'show_imprints','n_bananas']).apply(lambda x: x['strategy'].value_counts(normalize=True)\n",
    ").unstack().fillna(0).reset_index(\n",
    ").melt(id_vars=['n_tokens','n_axes','show_imprints','n_bananas'],\n",
    "       value_vars=['avoid','mixed','open', 'silent'],\n",
    "       var_name='strategy',value_name='humanResults'\n",
    ").sort_values(['n_tokens','n_axes','show_imprints','n_bananas','strategy']\n",
    ").set_index(['n_tokens','n_axes','show_imprints','n_bananas','strategy']\n",
    ")#.to_pickle(\"../envs/misyak/Misyak_RawData/humanResultsStrategyPDFs.pkl\")"
   ]
  },
  {
   "cell_type": "code",
   "execution_count": null,
   "metadata": {
    "ExecuteTime": {
     "end_time": "2020-08-18T19:38:37.635054Z",
     "start_time": "2020-08-18T19:38:37.608097Z"
    },
    "scrolled": true
   },
   "outputs": [],
   "source": [
    "summaryOfStrategies #.to_pickle(\"../envs/misyak/Misyak_RawData/humanResultsStrategyPDFs.pkl\")"
   ]
  },
  {
   "cell_type": "code",
   "execution_count": null,
   "metadata": {
    "ExecuteTime": {
     "end_time": "2020-08-18T20:02:59.985882Z",
     "start_time": "2020-08-18T20:02:59.967056Z"
    },
    "scrolled": true
   },
   "outputs": [],
   "source": [
    "summaryOfStrategies.groupby(['n_tokens','n_axes','show_imprints','n_bananas']).apply(lambda x: x.index.get_level_values('n_tokens')[0])"
   ]
  },
  {
   "cell_type": "code",
   "execution_count": null,
   "metadata": {
    "ExecuteTime": {
     "end_time": "2020-08-18T20:03:05.162628Z",
     "start_time": "2020-08-18T20:03:05.155754Z"
    }
   },
   "outputs": [],
   "source": [
    "summaryOfStrategies['modelResults'] = 0"
   ]
  },
  {
   "cell_type": "code",
   "execution_count": null,
   "metadata": {
    "ExecuteTime": {
     "end_time": "2020-08-18T20:03:06.582354Z",
     "start_time": "2020-08-18T20:03:06.574327Z"
    }
   },
   "outputs": [],
   "source": [
    "filter1 = summaryOfStrategies.index.get_level_values('n_tokens') == 1 \n",
    "filter2 = summaryOfStrategies.index.get_level_values('n_axes') == 1\n",
    "filter5 =  summaryOfStrategies.index.get_level_values('n_axes') == 2\n",
    "filter3 = summaryOfStrategies.index.get_level_values('show_imprints') == 1\n",
    "filter4 = summaryOfStrategies.index.get_level_values('n_bananas') == 2\n",
    "#summaryOfStrategies.iloc[(filter1 & filter2 & filter3 & filter4) | (filter1 & filter5 & filter3 & filter4)]"
   ]
  },
  {
   "cell_type": "code",
   "execution_count": null,
   "metadata": {
    "ExecuteTime": {
     "end_time": "2020-08-18T20:03:07.921085Z",
     "start_time": "2020-08-18T20:03:07.912184Z"
    }
   },
   "outputs": [],
   "source": [
    "#(2,2,1,2),(1,2,1,2),(1,1,1,2),(1,2,0,2)\n",
    "summaryOfStrategies.loc[2].loc[2].loc[1].loc[2]"
   ]
  },
  {
   "cell_type": "code",
   "execution_count": null,
   "metadata": {
    "ExecuteTime": {
     "end_time": "2020-08-18T20:03:10.294505Z",
     "start_time": "2020-08-18T20:03:10.273561Z"
    }
   },
   "outputs": [],
   "source": [
    "summaryOfStrategies.loc[1].loc[2].loc[1].loc[2]"
   ]
  },
  {
   "cell_type": "code",
   "execution_count": null,
   "metadata": {
    "ExecuteTime": {
     "end_time": "2020-08-18T20:03:10.871362Z",
     "start_time": "2020-08-18T20:03:10.848868Z"
    }
   },
   "outputs": [],
   "source": [
    "summaryOfStrategies.loc[1].loc[1].loc[1].loc[2]"
   ]
  },
  {
   "cell_type": "code",
   "execution_count": null,
   "metadata": {
    "ExecuteTime": {
     "end_time": "2020-08-18T20:03:12.167678Z",
     "start_time": "2020-08-18T20:03:12.159470Z"
    }
   },
   "outputs": [],
   "source": [
    "summaryOfStrategies.loc[1].loc[2].loc[0].loc[2]"
   ]
  },
  {
   "cell_type": "code",
   "execution_count": null,
   "metadata": {
    "ExecuteTime": {
     "end_time": "2020-08-18T20:03:13.954042Z",
     "start_time": "2020-08-18T20:03:13.934437Z"
    }
   },
   "outputs": [],
   "source": [
    "summaryOfStrategies.groupby('strategy').mean()"
   ]
  },
  {
   "cell_type": "code",
   "execution_count": null,
   "metadata": {
    "ExecuteTime": {
     "end_time": "2020-08-18T20:04:58.712019Z",
     "start_time": "2020-08-18T20:04:58.708874Z"
    }
   },
   "outputs": [],
   "source": [
    "sum((summaryOfStrategies['humanResults'] - summaryOfStrategies['modelResults'])**2)/summaryOfStrategies.shape[0]"
   ]
  },
  {
   "cell_type": "code",
   "execution_count": null,
   "metadata": {
    "ExecuteTime": {
     "end_time": "2020-08-18T20:05:00.244921Z",
     "start_time": "2020-08-18T20:05:00.227720Z"
    },
    "scrolled": false
   },
   "outputs": [],
   "source": [
    "summaryOfStrategies.reset_index().groupby(['n_tokens','n_axes','show_imprints','n_bananas']).apply(lambda x: sum((x.humanResults - x.modelResults)**2)/x.shape[0]).reset_index()"
   ]
  },
  {
   "cell_type": "code",
   "execution_count": null,
   "metadata": {
    "ExecuteTime": {
     "end_time": "2020-08-18T20:05:04.674287Z",
     "start_time": "2020-08-18T20:05:04.654840Z"
    }
   },
   "outputs": [],
   "source": [
    "summaryOfStrategies.reset_index().loc[((summaryOfStrategies.reset_index()['n_tokens']     ==2) & \n",
    "                                       (summaryOfStrategies.reset_index()['n_axes']       ==2) & \n",
    "                                       (summaryOfStrategies.reset_index()['show_imprints']==1) &  \n",
    "                                       (summaryOfStrategies.reset_index()['n_bananas']    ==2))\n",
    "                                     ].set_index(['n_tokens','n_axes','show_imprints','n_bananas'])"
   ]
  },
  {
   "cell_type": "code",
   "execution_count": null,
   "metadata": {
    "ExecuteTime": {
     "end_time": "2020-08-18T20:05:06.787104Z",
     "start_time": "2020-08-18T20:05:06.768840Z"
    },
    "scrolled": true
   },
   "outputs": [],
   "source": [
    "summaryOfStrategies"
   ]
  },
  {
   "cell_type": "code",
   "execution_count": null,
   "metadata": {},
   "outputs": [],
   "source": []
  }
 ],
 "metadata": {
  "kernelspec": {
   "display_name": "Python 3",
   "language": "python",
   "name": "python3"
  },
  "language_info": {
   "codemirror_mode": {
    "name": "ipython",
    "version": 3
   },
   "file_extension": ".py",
   "mimetype": "text/x-python",
   "name": "python",
   "nbconvert_exporter": "python",
   "pygments_lexer": "ipython3",
   "version": "3.5.6"
  },
  "toc": {
   "base_numbering": 1,
   "nav_menu": {},
   "number_sections": true,
   "sideBar": false,
   "skip_h1_title": false,
   "title_cell": "Table of Contents",
   "title_sidebar": "Contents",
   "toc_cell": false,
   "toc_position": {
    "height": "1465.42px",
    "left": "49px",
    "top": "110.883px",
    "width": "165px"
   },
   "toc_section_display": true,
   "toc_window_display": false
  }
 },
 "nbformat": 4,
 "nbformat_minor": 2
}
