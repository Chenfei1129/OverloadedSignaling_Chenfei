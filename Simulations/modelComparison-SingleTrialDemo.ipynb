{
 "cells": [
  {
   "cell_type": "code",
   "execution_count": 2,
   "metadata": {
    "ExecuteTime": {
     "end_time": "2020-08-06T22:07:55.121893Z",
     "start_time": "2020-08-06T22:07:54.965016Z"
    }
   },
   "outputs": [],
   "source": [
    "import matplotlib.pyplot as plt\n",
    "from matplotlib.patches import Rectangle, RegularPolygon, Circle\n",
    "import matplotlib as mpl\n"
   ]
  },
  {
   "cell_type": "code",
   "execution_count": null,
   "metadata": {},
   "outputs": [],
   "source": [
    "red b10d2f\n",
    "purple ad9ad0\n",
    "green 95a84c\n",
    "\n",
    "colorDict = {'green': '#56bc52', 'purple': '#906ae7', 'red': '#d40a00', 'grey': '#808080'}\n",
    "if 'circle' in targetFeatures:\n",
    "            ax.add_patch(Circle((targetx, targety),.3, fill=True, color = colorDict[targetColor], linewidth = 2))\n",
    "        if 'triangle' in targetFeatures:\n",
    "            ax.add_patch(RegularPolygon((targetx, targety),3,.3, fill=True, color = colorDict[targetColor], linewidth=2))\n",
    "        if 'square' in targetFeatures:\n",
    "            ax.add_patch(Rectangle((targetx-gridAdjust/2, targety-gridAdjust/2),.5,.5, fill=True, color = colorDict[targetColor], linewidth=2))"
   ]
  },
  {
   "cell_type": "code",
   "execution_count": 30,
   "metadata": {
    "ExecuteTime": {
     "end_time": "2020-08-06T22:23:27.325637Z",
     "start_time": "2020-08-06T22:23:27.069675Z"
    }
   },
   "outputs": [
    {
     "data": {
      "image/png": "[encoded data removed]",
      "text/plain": [
       "<Figure size 360x360 with 1 Axes>"
      ]
     },
     "metadata": {
      "needs_background": "light"
     },
     "output_type": "display_data"
    }
   ],
   "source": [
    "#circle = plt.Circle((.5, .5), 0.5, color='#95a84c')\n",
    "#triangle = RegularPolygon((.5, .5),3,.5, fill=True, color = '#b10d2f')\n",
    "square = Rectangle((0, 0), 1, 1, fill=True, color ='#b10d2f')\n",
    "fig, ax = plt.subplots(figsize  = (5,5))\n",
    "ax.axis('off')\n",
    "ax.add_artist(square)\n",
    "\n",
    "plt.savefig('redSquare.png',dpi=300, bbox_inches='tight', transparent=True)"
   ]
  },
  {
   "cell_type": "code",
   "execution_count": null,
   "metadata": {},
   "outputs": [],
   "source": []
  },
  {
   "cell_type": "code",
   "execution_count": null,
   "metadata": {
    "ExecuteTime": {
     "end_time": "2020-08-02T20:21:33.391236Z",
     "start_time": "2020-08-02T20:21:33.379057Z"
    }
   },
   "outputs": [],
   "source": [
    "import sys\n",
    "import numpy as np\n",
    "import pandas as pd\n",
    "import itertools\n",
    "\n",
    "import modelLabels as ML"
   ]
  },
  {
   "cell_type": "code",
   "execution_count": null,
   "metadata": {
    "ExecuteTime": {
     "end_time": "2020-08-02T20:21:33.743433Z",
     "start_time": "2020-08-02T20:21:33.731547Z"
    }
   },
   "outputs": [],
   "source": [
    "%load_ext autoreload\n",
    "%autoreload 2"
   ]
  },
  {
   "cell_type": "code",
   "execution_count": null,
   "metadata": {
    "ExecuteTime": {
     "end_time": "2020-07-30T21:53:26.139706Z",
     "start_time": "2020-07-30T21:53:26.136616Z"
    }
   },
   "outputs": [],
   "source": [
    "sys.path.append('/home/stacyste/Documents/Research/OverloadedSignaling/Algorithms')\n",
    "sys.path.append('/home/stacyste/Documents/Research/OverloadedSignaling/Algorithms/ImaginedWe')\n",
    "sys.path.append('/home/stacyste/Documents/Research/OverloadedSignaling/Environments/Experiment/')\n",
    "sys.path.append('/home/stacyste/Documents/Research/OverloadedSignaling/Algorithms/RSA/')\n",
    "sys.path.append('/home/stacyste/Documents/Research/OverloadedSignaling/Algorithms/JointUtility/')\n",
    "\n",
    "import constantNames as NC\n"
   ]
  },
  {
   "cell_type": "code",
   "execution_count": null,
   "metadata": {
    "ExecuteTime": {
     "end_time": "2020-07-30T21:53:26.405085Z",
     "start_time": "2020-07-30T21:53:26.140797Z"
    }
   },
   "outputs": [],
   "source": [
    "import experimentConstruction as ec\n",
    "from consistentSignalChecks_Experiment import SignalIsConsistent_Experiment\n",
    "from visualizations_Experiment import *\n",
    "\n",
    "from setupInference_Experiment import SetupExperiment_SignalsSeparated\n",
    "from SetupRSAInference import *\n",
    "from utilityOnlyModel import *\n",
    "\n",
    "from setupModelInferences import SetupModels\n",
    "from setupSampledTrials import SampleExperimentEnvironment\n",
    "from setupMetrics import SimulateModelFromDF, SingleAgentUtility_TaxicabMetric, SingleAgentUtility_CustomCostFunction, CostlessReceiverUtility"
   ]
  },
  {
   "cell_type": "markdown",
   "metadata": {},
   "source": [
    "# Work Through Example - Single Trial Setup, Modeling Distributions"
   ]
  },
  {
   "cell_type": "code",
   "execution_count": null,
   "metadata": {
    "ExecuteTime": {
     "end_time": "2020-08-02T20:21:36.742601Z",
     "start_time": "2020-08-02T20:21:36.534594Z"
    }
   },
   "outputs": [],
   "source": [
    "from setupSampledTrials import SampleExperimentEnvironment\n",
    "sys.path.append('/home/stacyste/Documents/Research/OverloadedSignaling/Environments/Experiment/')\n",
    "from visualizations_Experiment import *\n",
    "from experimentConstruction import calculateLocationCost_TaxicabMetric\n",
    "from setupModelInferences import SetupModels"
   ]
  },
  {
   "cell_type": "markdown",
   "metadata": {},
   "source": [
    "## Hyper Params of the example"
   ]
  },
  {
   "cell_type": "code",
   "execution_count": null,
   "metadata": {
    "ExecuteTime": {
     "end_time": "2020-08-02T20:22:43.948767Z",
     "start_time": "2020-08-02T20:22:43.930390Z"
    }
   },
   "outputs": [],
   "source": [
    "seedNum=20\n",
    "fixEnvironment_squit = False"
   ]
  },
  {
   "cell_type": "markdown",
   "metadata": {},
   "source": [
    "## Sampled Environment"
   ]
  },
  {
   "cell_type": "code",
   "execution_count": null,
   "metadata": {
    "ExecuteTime": {
     "end_time": "2020-08-02T20:22:44.774902Z",
     "start_time": "2020-08-02T20:22:44.764314Z"
    }
   },
   "outputs": [],
   "source": [
    "# Scenario setups\n",
    "gridDims = (9,10) #0-8, by 0-9\n",
    "s = (4,0)\n",
    "r = (4,7)\n",
    "rationality = 4\n",
    "rew = 8\n",
    "\n",
    "\n",
    "itemSpace = ML.itemSpace_3Color3Shape\n",
    "signalSpace = ML.featureSpace_3Color3Shape\n",
    "\n",
    "fixedEnvironmentParameters = {'gridSize': gridDims, 'signalerPosition': s, 'receiverPosition': r}\n",
    "fluidParameterSpaces = {'targets': itemSpace,'signals': signalSpace}"
   ]
  },
  {
   "cell_type": "code",
   "execution_count": null,
   "metadata": {
    "ExecuteTime": {
     "end_time": "2020-08-02T20:22:44.961092Z",
     "start_time": "2020-08-02T20:22:44.942749Z"
    },
    "scrolled": true
   },
   "outputs": [],
   "source": [
    "np.random.seed(seedNum)\n",
    "getEnvironment = SampleExperimentEnvironment(fixedEnvironmentParameters, fluidParameterSpaces)\n",
    "goal, signalSpace, targetDict, nTargets, propRelevantVocab = getEnvironment(3, 1.0, True)"
   ]
  },
  {
   "cell_type": "code",
   "execution_count": null,
   "metadata": {
    "ExecuteTime": {
     "end_time": "2020-08-02T20:22:45.108697Z",
     "start_time": "2020-08-02T20:22:45.090261Z"
    }
   },
   "outputs": [],
   "source": [
    "environmentParameters= {'observation': {'intentions':goal}, 'signals': signalSpace, 'targetDictionary':targetDict, 'signalerLocation':s, 'receiverLocation':r}"
   ]
  },
  {
   "cell_type": "markdown",
   "metadata": {},
   "source": [
    "### Alternative - Fixed Environment"
   ]
  },
  {
   "cell_type": "code",
   "execution_count": null,
   "metadata": {
    "ExecuteTime": {
     "end_time": "2020-08-02T20:22:46.036991Z",
     "start_time": "2020-08-02T20:22:46.025792Z"
    },
    "scrolled": true
   },
   "outputs": [],
   "source": [
    "if fixEnvironment_squit:\n",
    "    # Environment where signaler should choose to quit\n",
    "    environmentParameters = {'observation': {'intentions':'red square'}, \n",
    "                        'signals': ['green', 'purple', 'triangle', 'square', 'circle', 'red'], \n",
    "                        'targetDictionary':{(0, 9): 'green circle',\n",
    "                         (1, 1): 'purple circle',\n",
    "                         (1, 6): 'red circle',\n",
    "                         (1, 8): 'green square',\n",
    "                         (5, 6): 'purple square',\n",
    "                         (7, 7): 'green triangle',\n",
    "                         (8, 9): 'red square'}, \n",
    "                        'signalerLocation':s, 'receiverLocation':r}"
   ]
  },
  {
   "cell_type": "markdown",
   "metadata": {},
   "source": [
    "### Visualization of specific trial"
   ]
  },
  {
   "cell_type": "code",
   "execution_count": null,
   "metadata": {
    "ExecuteTime": {
     "end_time": "2020-08-02T20:22:47.565875Z",
     "start_time": "2020-08-02T20:22:47.555129Z"
    }
   },
   "outputs": [],
   "source": [
    "#Which environment parameters are goint to be used\n",
    "environmentParameters"
   ]
  },
  {
   "cell_type": "code",
   "execution_count": null,
   "metadata": {
    "ExecuteTime": {
     "end_time": "2020-08-02T20:22:48.406883Z",
     "start_time": "2020-08-02T20:22:48.172632Z"
    }
   },
   "outputs": [],
   "source": [
    "visualizeExperimentTrial(gridDims, s, r, \n",
    "                         environmentParameters['signals'],\n",
    "                         environmentParameters['targetDictionary'], \n",
    "                         barriers = [],\n",
    "                         save=False, \n",
    "                         filename = './exptDemo.png')"
   ]
  },
  {
   "cell_type": "markdown",
   "metadata": {},
   "source": [
    "## Modeling Of Environment"
   ]
  },
  {
   "cell_type": "code",
   "execution_count": null,
   "metadata": {
    "ExecuteTime": {
     "end_time": "2020-07-30T22:49:49.018385Z",
     "start_time": "2020-07-30T22:49:49.015977Z"
    }
   },
   "outputs": [],
   "source": [
    "modelParameters = {'rationality':rationality, 'reward': rew, 'costFunction': calculateLocationCost_TaxicabMetric, 'signalerInaction': True}\n",
    "modelsToBuild = modelList"
   ]
  },
  {
   "cell_type": "code",
   "execution_count": null,
   "metadata": {
    "ExecuteTime": {
     "end_time": "2020-07-30T22:50:20.200097Z",
     "start_time": "2020-07-30T22:50:19.277648Z"
    },
    "scrolled": true
   },
   "outputs": [],
   "source": [
    "setupInference = SetupModels(modelParameters=modelParameters, modelNames = modelsToBuild)\n",
    "modelDictionary = setupInference(environmentParameters=environmentParameters)"
   ]
  },
  {
   "cell_type": "markdown",
   "metadata": {},
   "source": [
    "## Modeling Distribution Results"
   ]
  },
  {
   "cell_type": "code",
   "execution_count": null,
   "metadata": {
    "ExecuteTime": {
     "end_time": "2020-07-30T22:50:24.666956Z",
     "start_time": "2020-07-30T22:50:24.663790Z"
    }
   },
   "outputs": [],
   "source": [
    "trueGoal = environmentParameters['observation']['intentions']\n",
    "trueGoal"
   ]
  },
  {
   "cell_type": "markdown",
   "metadata": {
    "ExecuteTime": {
     "end_time": "2020-07-30T21:43:32.893750Z",
     "start_time": "2020-07-30T21:43:32.884213Z"
    }
   },
   "source": [
    "### RSA"
   ]
  },
  {
   "cell_type": "code",
   "execution_count": null,
   "metadata": {
    "ExecuteTime": {
     "end_time": "2020-07-30T22:50:26.305395Z",
     "start_time": "2020-07-30T22:50:26.300987Z"
    }
   },
   "outputs": [],
   "source": [
    "modelList"
   ]
  },
  {
   "cell_type": "code",
   "execution_count": null,
   "metadata": {
    "ExecuteTime": {
     "end_time": "2020-07-30T22:50:26.771766Z",
     "start_time": "2020-07-30T22:50:26.769351Z"
    }
   },
   "outputs": [],
   "source": [
    "RSAModelName = 'RSA_S1R1'"
   ]
  },
  {
   "cell_type": "code",
   "execution_count": null,
   "metadata": {
    "ExecuteTime": {
     "end_time": "2020-07-30T22:50:28.174393Z",
     "start_time": "2020-07-30T22:50:28.109363Z"
    },
    "scrolled": false
   },
   "outputs": [],
   "source": [
    "rsa_sig = modelDictionary[RSAModelName][0](environmentParameters['observation']['intentions'])\n",
    "rsa_sig.round(3)"
   ]
  },
  {
   "cell_type": "code",
   "execution_count": null,
   "metadata": {
    "ExecuteTime": {
     "end_time": "2020-07-30T22:50:28.758918Z",
     "start_time": "2020-07-30T22:50:28.748253Z"
    }
   },
   "outputs": [],
   "source": [
    "sampledSignalerChoice_RSA = rsa_sig.sample(weights = rsa_sig.columns[0]).index[0]\n",
    "sampledSignalerChoice_RSA"
   ]
  },
  {
   "cell_type": "code",
   "execution_count": null,
   "metadata": {
    "ExecuteTime": {
     "end_time": "2020-07-30T22:50:30.263876Z",
     "start_time": "2020-07-30T22:50:30.243717Z"
    }
   },
   "outputs": [],
   "source": [
    "#return an empty df if the signaler chooses to go to the goal\n",
    "getModelReciever = lambda modelName, signalerChoice: pd.DataFrame() if (signalerChoice == trueGoal or signalerChoice == 'quit') else modelName(signalerChoice)\n",
    "\n",
    "rsa_rec = getModelReciever(modelDictionary[RSAModelName][1], sampledSignalerChoice_RSA)\n",
    "rsa_rec.round(3)"
   ]
  },
  {
   "cell_type": "code",
   "execution_count": null,
   "metadata": {
    "ExecuteTime": {
     "end_time": "2020-07-30T22:50:30.841459Z",
     "start_time": "2020-07-30T22:50:30.833780Z"
    }
   },
   "outputs": [],
   "source": [
    "sampleReceiverChoice = lambda receiverPDF: \"\" if receiverPDF.shape == (0,0) else receiverPDF.sample(weights = receiverPDF.columns[0]).index[0]\n",
    "sampledRecChoice_RSA = sampleReceiverChoice(rsa_rec)\n",
    "sampledRecChoice_RSA"
   ]
  },
  {
   "cell_type": "code",
   "execution_count": null,
   "metadata": {
    "ExecuteTime": {
     "end_time": "2020-07-30T22:50:32.127805Z",
     "start_time": "2020-07-30T22:50:32.122414Z"
    }
   },
   "outputs": [],
   "source": [
    "if sampledRecChoice_RSA == trueGoal:\n",
    "    print(\"For model\", RSAModelName, \" receiver achieves goal\")\n",
    "elif sampledSignalerChoice_RSA == trueGoal:\n",
    "    print(\"For model\", RSAModelName, \" signaler achieves goal\")\n",
    "else:\n",
    "    print(\"For model\", RSAModelName, \"goal is not achieved\")"
   ]
  },
  {
   "cell_type": "markdown",
   "metadata": {},
   "source": [
    "### Imagined We"
   ]
  },
  {
   "cell_type": "code",
   "execution_count": null,
   "metadata": {
    "ExecuteTime": {
     "end_time": "2020-07-30T22:50:33.038813Z",
     "start_time": "2020-07-30T22:50:33.033412Z"
    }
   },
   "outputs": [],
   "source": [
    "modelList"
   ]
  },
  {
   "cell_type": "code",
   "execution_count": null,
   "metadata": {
    "ExecuteTime": {
     "end_time": "2020-07-30T22:50:34.312594Z",
     "start_time": "2020-07-30T22:50:34.310679Z"
    }
   },
   "outputs": [],
   "source": [
    "IWModelName = 'IW_S1R1'"
   ]
  },
  {
   "cell_type": "code",
   "execution_count": null,
   "metadata": {
    "ExecuteTime": {
     "end_time": "2020-07-30T22:50:34.933945Z",
     "start_time": "2020-07-30T22:50:34.893547Z"
    },
    "scrolled": false
   },
   "outputs": [],
   "source": [
    "iw_sig = modelDictionary[IWModelName][0]({'intentions':environmentParameters['observation']['intentions']})\n",
    "iw_sig.round(3)"
   ]
  },
  {
   "cell_type": "code",
   "execution_count": null,
   "metadata": {
    "ExecuteTime": {
     "end_time": "2020-07-30T22:50:36.543710Z",
     "start_time": "2020-07-30T22:50:36.538990Z"
    }
   },
   "outputs": [],
   "source": [
    "sampledSignalerChoice_IW = iw_sig.sample(weights = iw_sig.columns[0]).index[0]\n",
    "sampledSignalerChoice_IW"
   ]
  },
  {
   "cell_type": "code",
   "execution_count": null,
   "metadata": {
    "ExecuteTime": {
     "end_time": "2020-07-30T22:50:37.715790Z",
     "start_time": "2020-07-30T22:50:37.595885Z"
    }
   },
   "outputs": [],
   "source": [
    "#return an empty df if the signaler chooses to go to the goal\n",
    "\n",
    "iw_rec = getModelReciever(modelDictionary[IWModelName][1], sampledSignalerChoice_IW)\n",
    "iw_rec.round(3)"
   ]
  },
  {
   "cell_type": "code",
   "execution_count": null,
   "metadata": {
    "ExecuteTime": {
     "end_time": "2020-07-30T22:50:39.742353Z",
     "start_time": "2020-07-30T22:50:39.736551Z"
    }
   },
   "outputs": [],
   "source": [
    "sampledRecChoice_IW = sampleReceiverChoice(iw_rec)\n",
    "sampledRecChoice_IW"
   ]
  },
  {
   "cell_type": "code",
   "execution_count": null,
   "metadata": {
    "ExecuteTime": {
     "end_time": "2020-07-30T22:50:40.379618Z",
     "start_time": "2020-07-30T22:50:40.370950Z"
    }
   },
   "outputs": [],
   "source": [
    "if sampledRecChoice_IW[1] == trueGoal:\n",
    "    print(\"For model\", IWModelName, \" receiver achieves goal\")\n",
    "elif sampledSignalerChoice_IW[1] == trueGoal:\n",
    "    print(\"For model\", IWModelName, \" signaler achieves goal\")\n",
    "else:\n",
    "    print(\"For model\", IWModelName, \"goal is not achieved\")"
   ]
  },
  {
   "cell_type": "markdown",
   "metadata": {},
   "source": [
    "### Joint Utility"
   ]
  },
  {
   "cell_type": "code",
   "execution_count": null,
   "metadata": {
    "ExecuteTime": {
     "end_time": "2020-07-30T22:50:42.891290Z",
     "start_time": "2020-07-30T22:50:42.885942Z"
    }
   },
   "outputs": [],
   "source": [
    "ju_sig = modelDictionary['JU'][0]({'intentions':environmentParameters['observation']['intentions']})\n",
    "ju_sig"
   ]
  },
  {
   "cell_type": "code",
   "execution_count": null,
   "metadata": {
    "ExecuteTime": {
     "end_time": "2020-07-30T22:50:44.120266Z",
     "start_time": "2020-07-30T22:50:44.115285Z"
    }
   },
   "outputs": [],
   "source": [
    "sampledSignalerChoice_JU = ju_sig.sample(weights = ju_sig.columns[0]).index[0]\n",
    "sampledSignalerChoice_JU"
   ]
  },
  {
   "cell_type": "code",
   "execution_count": null,
   "metadata": {
    "ExecuteTime": {
     "end_time": "2020-07-30T22:50:45.173730Z",
     "start_time": "2020-07-30T22:50:44.864007Z"
    }
   },
   "outputs": [],
   "source": [
    "#return an empty df if the signaler chooses to go to the goal\n",
    "ju_rec = getModelReciever(modelDictionary['JU'][1], sampledSignalerChoice_JU)\n",
    "ju_rec.round(3)"
   ]
  },
  {
   "cell_type": "code",
   "execution_count": null,
   "metadata": {
    "ExecuteTime": {
     "end_time": "2020-07-30T22:50:45.699694Z",
     "start_time": "2020-07-30T22:50:45.689645Z"
    }
   },
   "outputs": [],
   "source": [
    "sampledRecChoice_JU = sampleReceiverChoice(ju_rec)\n",
    "sampledRecChoice_JU"
   ]
  },
  {
   "cell_type": "code",
   "execution_count": null,
   "metadata": {
    "ExecuteTime": {
     "end_time": "2020-07-30T22:51:17.787669Z",
     "start_time": "2020-07-30T22:51:17.782662Z"
    }
   },
   "outputs": [],
   "source": [
    "if sampledRecChoice_JU[1] == trueGoal:\n",
    "    print(\"For model Joint Utility receiver achieves goal\")\n",
    "elif sampledSignalerChoice_JU[1] == trueGoal:\n",
    "    print(\"For model Joint Utility signaler achieves goal\")\n",
    "else:\n",
    "    print(\"For model Joint Utility goal is not achieved\")"
   ]
  },
  {
   "cell_type": "markdown",
   "metadata": {},
   "source": [
    "# Small Scale Example Simulation - No Barrier Environment, Signaler Inaction and Custom Cost Options"
   ]
  },
  {
   "cell_type": "code",
   "execution_count": null,
   "metadata": {
    "ExecuteTime": {
     "end_time": "2020-07-30T23:01:38.405652Z",
     "start_time": "2020-07-30T23:01:38.129434Z"
    }
   },
   "outputs": [],
   "source": [
    "sys.path.append('/home/stacyste/Documents/Research/OverloadedSignaling/Simulations/')\n",
    "from setupSampledTrials import SampleExperimentEnvironment\n",
    "from setupModelInferences import SetupModels\n",
    "from setupMetrics import SingleAgentUtility_TaxicabMetric, SimulateModelFromDF\n",
    "\n",
    "sys.path.append('/home/stacyste/Documents/Research/OverloadedSignaling/Environments/Experiment/')\n",
    "from experimentConstruction import calculateLocationCost_TaxicabMetric\n",
    "from visualizations_Experiment import visualizeExperimentTrial_Tight"
   ]
  },
  {
   "cell_type": "code",
   "execution_count": null,
   "metadata": {
    "ExecuteTime": {
     "end_time": "2020-07-30T23:30:31.853209Z",
     "start_time": "2020-07-30T23:30:31.837958Z"
    }
   },
   "outputs": [],
   "source": [
    "randomSeed = 978\n",
    "nruns = 20\n",
    "signalerCanQuit = True"
   ]
  },
  {
   "cell_type": "code",
   "execution_count": null,
   "metadata": {
    "ExecuteTime": {
     "end_time": "2020-07-30T23:30:32.550713Z",
     "start_time": "2020-07-30T23:30:32.539799Z"
    }
   },
   "outputs": [],
   "source": [
    "#Fixed Parameters\n",
    "alpha = 4\n",
    "rewardValue = 8\n",
    "\n",
    "#Sampling spaces\n",
    "gridDims = (9,10) #0-8, by 0-9\n",
    "s = (4,0)\n",
    "r = (4,7)\n",
    "fixedEnvironmentParameters = {'gridSize': gridDims, 'signalerPosition': s, 'receiverPosition': r}\n",
    "\n",
    "itemSpace = ML.itemSpace_3Color3Shape\n",
    "signalSpace = ML.featureSpace_3Color3Shape\n",
    "fluidParameterSpaces = {'targets': itemSpace,'signals': signalSpace}"
   ]
  },
  {
   "cell_type": "code",
   "execution_count": null,
   "metadata": {
    "ExecuteTime": {
     "end_time": "2020-07-30T23:30:33.913053Z",
     "start_time": "2020-07-30T23:30:33.861894Z"
    }
   },
   "outputs": [],
   "source": [
    "#Parameters specific to this simualation:\n",
    "#nItems = 3\n",
    "signalProp = 1.0\n",
    "prop = True\n",
    "\n",
    "# Trial Setup\n",
    "np.random.seed(randomSeed)\n",
    "getEnvironment = SampleExperimentEnvironment(fixedEnvironmentParameters, fluidParameterSpaces)\n",
    "simulatedTrials = pd.DataFrame(columns = ML.SAMPLED_TRIAL_PARAMETERS)\n",
    "\n",
    "for indx in range(nruns):\n",
    "    nItems = np.random.choice(range(2,10))\n",
    "    goal, sigSpace, targetD, nTargets, relevantSignalProp = getEnvironment(numberOfPossibleTargets = nItems, numberOfSignals = signalProp, vocabProportion = prop)\n",
    "    simulatedTrials.loc[indx] = [s, r, goal, sigSpace, targetD, nTargets, relevantSignalProp]"
   ]
  },
  {
   "cell_type": "code",
   "execution_count": null,
   "metadata": {
    "ExecuteTime": {
     "end_time": "2020-07-30T23:30:38.754892Z",
     "start_time": "2020-07-30T23:30:38.744433Z"
    }
   },
   "outputs": [],
   "source": [
    "#Setup no barrier\n",
    "params = {'rationality':alpha, 'reward': rewardValue, 'costFunction': calculateLocationCost_TaxicabMetric, 'signalerInaction': signalerCanQuit}\n",
    "modNames = ['RSA_S0R0', 'RSA_S1R1', 'IW_S1R0', 'IW_S1R1', 'JU']\n",
    "setupModInference = SetupModels(modelParameters=params, modelNames = modNames)\n",
    "getSAUtil = SingleAgentUtility_TaxicabMetric(reward = params['reward'])"
   ]
  },
  {
   "cell_type": "code",
   "execution_count": null,
   "metadata": {
    "ExecuteTime": {
     "end_time": "2020-07-30T23:32:44.792177Z",
     "start_time": "2020-07-30T23:30:40.842938Z"
    }
   },
   "outputs": [],
   "source": [
    "# Cost Receiver\n",
    "getModelMetrics = SimulateModelFromDF(buildModels=setupModInference, getUtility= getSAUtil, signalerCanQuit=signalerCanQuit)\n",
    "regularReceiverSimulation = simulatedTrials.apply(getModelMetrics, axis=1)"
   ]
  },
  {
   "cell_type": "code",
   "execution_count": null,
   "metadata": {
    "ExecuteTime": {
     "end_time": "2020-07-30T23:49:08.621805Z",
     "start_time": "2020-07-30T23:49:08.577220Z"
    },
    "scrolled": true
   },
   "outputs": [],
   "source": [
    "simulatedTrialsWithRegReceiver = simulatedTrials.join(regularReceiverSimulation)\n",
    "simulatedTrialsWithRegReceiver.loc[10:]"
   ]
  },
  {
   "cell_type": "code",
   "execution_count": null,
   "metadata": {
    "ExecuteTime": {
     "end_time": "2020-07-31T00:00:51.304804Z",
     "start_time": "2020-07-31T00:00:51.272502Z"
    },
    "scrolled": true
   },
   "outputs": [],
   "source": [
    "# Special look at example 17 where quitting is likely\n",
    "simulatedTrialsWithRegReceiver.loc[17][['RSA_S0R0_sChoice', 'RSA_S1R1_sChoice', 'IW_S1R0_sChoice', 'IW_S1R1_sChoice', 'JU_sChoice', 'CentralControl_utility', 'DIYSignaler_utility']]"
   ]
  },
  {
   "cell_type": "markdown",
   "metadata": {},
   "source": [
    "# Small Scale Simulation with Barrier/Obstacle Environment"
   ]
  },
  {
   "cell_type": "code",
   "execution_count": null,
   "metadata": {
    "ExecuteTime": {
     "end_time": "2020-07-31T23:45:27.864899Z",
     "start_time": "2020-07-31T23:45:27.854077Z"
    }
   },
   "outputs": [],
   "source": [
    "sys.path.append('/home/stacyste/Documents/Research/OverloadedSignaling/Environments/Experiment/barrierConstruction/')\n",
    "from utilityFromPolicyDictionary import SetupPolicyTableForEnvironment, SetupIndividualActionCost\n",
    "from transitionTable import createTransitionTable"
   ]
  },
  {
   "cell_type": "code",
   "execution_count": null,
   "metadata": {
    "ExecuteTime": {
     "end_time": "2020-07-31T23:47:01.439576Z",
     "start_time": "2020-07-31T23:47:01.431686Z"
    }
   },
   "outputs": [],
   "source": [
    "def createHorizontalBarrier(yLevelBottom, xEnd1=3, xEnd2=8):\n",
    "    upBarriers = [((x,yLevelBottom), (0,1)) for x in range(xEnd1, xEnd2+1)]\n",
    "    downBarriers = [((x,yLevelBottom+1), (0,-1)) for x in range(xEnd1, xEnd2+1)]\n",
    "    return(upBarriers+downBarriers)"
   ]
  },
  {
   "cell_type": "markdown",
   "metadata": {},
   "source": [
    "### Hyper-parameters"
   ]
  },
  {
   "cell_type": "code",
   "execution_count": null,
   "metadata": {
    "ExecuteTime": {
     "end_time": "2020-07-31T23:47:30.728290Z",
     "start_time": "2020-07-31T23:47:30.714663Z"
    }
   },
   "outputs": [],
   "source": [
    "randomSeed = 978\n",
    "nruns = 20\n",
    "modNames = ['RSA_S0R0', 'RSA_S0R1', 'RSA_S0R2', 'IW_S1R1']\n",
    "barrierHz2  = createHorizontalBarrier(2)"
   ]
  },
  {
   "cell_type": "code",
   "execution_count": null,
   "metadata": {
    "ExecuteTime": {
     "end_time": "2020-07-31T23:47:31.933155Z",
     "start_time": "2020-07-31T23:47:31.924956Z"
    }
   },
   "outputs": [],
   "source": [
    "#Fixed Parameters\n",
    "alpha = 4\n",
    "rewardValue = 8\n",
    "\n",
    "#Sampling spaces\n",
    "gridDims = (9,10) #0-8, by 0-9\n",
    "s = (4,0)\n",
    "r = (4,7)\n",
    "fixedEnvironmentParameters = {'gridSize': gridDims, 'signalerPosition': s, 'receiverPosition': r}\n",
    "\n",
    "itemSpace = ML.itemSpace_3Color3Shape\n",
    "signalSpace = ML.featureSpace_3Color3Shape\n",
    "fluidParameterSpaces = {'targets': itemSpace,'signals': signalSpace}"
   ]
  },
  {
   "cell_type": "markdown",
   "metadata": {},
   "source": [
    "### Setup Environment Transition and Policy for a custom cost function"
   ]
  },
  {
   "cell_type": "code",
   "execution_count": null,
   "metadata": {
    "ExecuteTime": {
     "end_time": "2020-08-02T21:45:49.331367Z",
     "start_time": "2020-08-02T21:38:03.806447Z"
    },
    "scrolled": true
   },
   "outputs": [],
   "source": [
    "gridWidth = 9\n",
    "gridHeight = 10\n",
    "actionSet = [(1,0), (-1,0), (0,1), (0,-1)]\n",
    "stateSet = [(i,j) for i in range(gridWidth) for j in range(gridHeight)]\n",
    "\n",
    "getPolicyDict = SetupPolicyTableForEnvironment(stateSet, actionSet)\n",
    "policies, valueTs = getPolicyDict(barrierHz2)\n",
    "\n",
    "getTransitionTable = createTransitionTable(gridWidth, gridHeight, actionSet)\n",
    "transitionTable = getTransitionTable(barrierHz2)\n",
    "getCost_barrierSet1 = SetupIndividualActionCost(policies, transitionTable, 1)"
   ]
  },
  {
   "cell_type": "code",
   "execution_count": null,
   "metadata": {
    "ExecuteTime": {
     "end_time": "2020-08-02T22:30:49.255048Z",
     "start_time": "2020-08-02T22:30:49.241165Z"
    },
    "scrolled": true
   },
   "outputs": [],
   "source": [
    "sGoal = (7,4)\n",
    "states = [(i,j) for i in range(9) for j in range(10)]"
   ]
  },
  {
   "cell_type": "markdown",
   "metadata": {},
   "source": [
    "### Visualizations for heatmap value tables (3 environments)"
   ]
  },
  {
   "cell_type": "code",
   "execution_count": null,
   "metadata": {
    "ExecuteTime": {
     "end_time": "2020-08-03T01:26:59.819525Z",
     "start_time": "2020-08-03T01:26:12.859273Z"
    }
   },
   "outputs": [],
   "source": [
    "sns.set_context('paper')\n",
    "fig, ax = plt.subplots(10,10,figsize=(20,20),sharey=True,sharex=True)\n",
    "\n",
    "for a in range(9):\n",
    "    for b in range(10):\n",
    "        mat_pol = np.zeros((9,10))\n",
    "        for i in range(9):\n",
    "            for j in range(9,-1,-1):\n",
    "                mat_pol[i,j] = valueTs[(a,b)][(i,j)]\n",
    "        mat_pol = pd.DataFrame(mat_pol).transpose().loc[[x for x in range(9,-1,-1)]]\n",
    "\n",
    "        ax[a,b] = sns.heatmap(mat_pol,cbar=False,square=True,ax=ax[a,b])\n",
    "\n",
    "sns.despine()"
   ]
  },
  {
   "cell_type": "code",
   "execution_count": null,
   "metadata": {
    "ExecuteTime": {
     "end_time": "2020-08-03T03:49:52.298812Z",
     "start_time": "2020-08-03T03:42:47.662195Z"
    }
   },
   "outputs": [],
   "source": [
    "policies_noB, valueTs_noB = getPolicyDict([])\n",
    "transitionTable_noB = getTransitionTable([])"
   ]
  },
  {
   "cell_type": "code",
   "execution_count": null,
   "metadata": {
    "ExecuteTime": {
     "end_time": "2020-08-03T03:54:15.238706Z",
     "start_time": "2020-08-03T03:54:15.227918Z"
    }
   },
   "outputs": [],
   "source": [
    "x=7\n",
    "y=3"
   ]
  },
  {
   "cell_type": "code",
   "execution_count": null,
   "metadata": {
    "ExecuteTime": {
     "end_time": "2020-08-03T03:54:55.058332Z",
     "start_time": "2020-08-03T03:54:54.723860Z"
    }
   },
   "outputs": [],
   "source": [
    "sns.set_context('poster')\n",
    "fig, ax = plt.subplots(figsize=(5,5))\n",
    "\n",
    "\n",
    "\n",
    "mat_pol = np.zeros((9,10))\n",
    "\n",
    "for i in range(9):\n",
    "    for j in range(9,-1,-1):\n",
    "        mat_pol[i,j] = valueTs[(x,y)][(i,j)]\n",
    "mat_pol = pd.DataFrame(mat_pol).transpose().loc[[x for x in range(9,-1,-1)]]\n",
    "\n",
    "ax = sns.heatmap( mat_pol, cbar=False, square=True, ax=ax)\n",
    "fig.savefig('./JUHeatmapBarrier.png',dpi=300, bbox_inches='tight')"
   ]
  },
  {
   "cell_type": "code",
   "execution_count": null,
   "metadata": {
    "ExecuteTime": {
     "end_time": "2020-08-03T03:54:55.952699Z",
     "start_time": "2020-08-03T03:54:55.618175Z"
    }
   },
   "outputs": [],
   "source": [
    "sns.set_context('poster')\n",
    "fig, ax = plt.subplots(figsize=(5,5))\n",
    "\n",
    "mat_pol_nb = np.zeros((9,10))\n",
    "\n",
    "for i in range(9):\n",
    "    for j in range(9,-1,-1):\n",
    "        mat_pol_nb[i,j] = valueTs_noB[(x,y)][(i,j)]\n",
    "mat_pol_nb = pd.DataFrame(mat_pol_nb).transpose().loc[[x for x in range(9,-1,-1)]]\n",
    "\n",
    "ax = sns.heatmap( mat_pol_nb, cbar=False, square=True, ax=ax)\n",
    "fig.savefig('./JUHeatmapNoBarrier.png',dpi=300, bbox_inches='tight')"
   ]
  },
  {
   "cell_type": "code",
   "execution_count": null,
   "metadata": {
    "ExecuteTime": {
     "end_time": "2020-08-03T17:51:57.587019Z",
     "start_time": "2020-08-03T17:44:33.850786Z"
    }
   },
   "outputs": [],
   "source": [
    "bnrec = [((3, 5), (0, 1)),\n",
    " ((4, 5), (0, 1)),\n",
    " ((5, 5), (0, 1)),\n",
    " ((6, 5), (0, 1)),\n",
    " ((7, 5), (0, 1)),\n",
    " ((8, 5), (0, 1)),\n",
    " ((3, 6), (0, -1)),\n",
    " ((4, 6), (0, -1)),\n",
    " ((5, 6), (0, -1)),\n",
    " ((6, 6), (0, -1)),\n",
    " ((7, 6), (0, -1)),\n",
    " ((8, 6), (0, -1))]\n",
    "policies_BnearRec, valueTs_BnearRec = getPolicyDict(bnrec)\n",
    "transitionTable_BnearRec = getTransitionTable(bnrec)"
   ]
  },
  {
   "cell_type": "code",
   "execution_count": null,
   "metadata": {},
   "outputs": [],
   "source": []
  },
  {
   "cell_type": "code",
   "execution_count": null,
   "metadata": {},
   "outputs": [],
   "source": []
  },
  {
   "cell_type": "code",
   "execution_count": null,
   "metadata": {},
   "outputs": [],
   "source": []
  },
  {
   "cell_type": "code",
   "execution_count": null,
   "metadata": {},
   "outputs": [],
   "source": []
  },
  {
   "cell_type": "code",
   "execution_count": null,
   "metadata": {},
   "outputs": [],
   "source": []
  },
  {
   "cell_type": "code",
   "execution_count": null,
   "metadata": {},
   "outputs": [],
   "source": []
  },
  {
   "cell_type": "code",
   "execution_count": null,
   "metadata": {},
   "outputs": [],
   "source": []
  },
  {
   "cell_type": "code",
   "execution_count": null,
   "metadata": {
    "ExecuteTime": {
     "end_time": "2020-07-30T21:53:33.968823Z",
     "start_time": "2020-07-30T21:53:26.041Z"
    }
   },
   "outputs": [],
   "source": [
    "#Setup custom cost function with barrier\n",
    "params_a4r8 = {'rationality':alpha, 'reward':rewardValue, 'costFunction':getCost_barrierSet1}\n",
    "setupModInference = SetupModels(modelParameters=params_a4r8, modelNames = modNames)\n",
    "getSAUtil = SingleAgentUtility_CustomCostFunction(reward = params_a4r8['reward'], \n",
    "                                                  getCostFunction=getCost_barrierSet1)"
   ]
  },
  {
   "cell_type": "code",
   "execution_count": null,
   "metadata": {},
   "outputs": [],
   "source": [
    "# Cost Receiver\n",
    "getModelMetrics = SimulateModelFromDF(buildModels=setupModInference, getUtility= getSAUtil)\n",
    "regularReceiverSimulation = simulatedTrials.apply(getModelMetrics, axis=1)"
   ]
  },
  {
   "cell_type": "code",
   "execution_count": null,
   "metadata": {},
   "outputs": [],
   "source": [
    "simulatedTrialsWithRegReceiver = simulatedTrials.join(regularReceiverSimulation)"
   ]
  },
  {
   "cell_type": "markdown",
   "metadata": {},
   "source": [
    "# Costless Receiver"
   ]
  },
  {
   "cell_type": "code",
   "execution_count": null,
   "metadata": {
    "ExecuteTime": {
     "end_time": "2020-07-30T21:53:33.972625Z",
     "start_time": "2020-07-30T21:53:26.063Z"
    }
   },
   "outputs": [],
   "source": [
    "from RSAExtensionForCostlessReceiver import SetupExperiment_RSASpeakerWithActionChoice_NoReceiverCost\n",
    "from setupModelInferences_CostlessReceiver import SetupModels_CostlessReceiver"
   ]
  },
  {
   "cell_type": "code",
   "execution_count": null,
   "metadata": {
    "ExecuteTime": {
     "end_time": "2020-07-30T21:53:33.973280Z",
     "start_time": "2020-07-30T21:53:26.066Z"
    }
   },
   "outputs": [],
   "source": [
    "params_a4r8 = {'rationality':4, 'reward': 8}\n",
    "modNames = ['RSA_S0R0', 'RSA_S0R1', 'RSA_S1R0','RSA_S0R3', 'IW_S1R0']\n",
    "setupModInference_C0R = SetupModels_CostlessReceiver(modelParameters=params_a4r8, modelNames = modNames)\n",
    "getSAUtil = SingleAgentUtility_TaxicabMetric(reward = 8)\n",
    "getReceiverUtil = CostlessReceiverUtility(reward = 8)"
   ]
  },
  {
   "cell_type": "code",
   "execution_count": null,
   "metadata": {
    "ExecuteTime": {
     "end_time": "2020-07-30T21:53:33.974118Z",
     "start_time": "2020-07-30T21:53:26.069Z"
    }
   },
   "outputs": [],
   "source": [
    "getModelMetrics_R0 = SimulateModelFromDF(buildModels=setupModInference_C0R, getUtility= getSAUtil, receiverSpecificUtility = getReceiverUtil)\n",
    "costlessReceiverSimulation = simulatedTrials.apply(getModelMetrics_R0, axis=1)"
   ]
  },
  {
   "cell_type": "code",
   "execution_count": null,
   "metadata": {
    "ExecuteTime": {
     "end_time": "2020-07-30T21:53:33.974711Z",
     "start_time": "2020-07-30T21:53:26.070Z"
    },
    "scrolled": false
   },
   "outputs": [],
   "source": [
    "simulatedTrialsWithCostlessReceiver = simulatedTrials.join(costlessReceiverSimulation)\n",
    "simulatedTrialsWithCostlessReceiver"
   ]
  }
 ],
 "metadata": {
  "kernelspec": {
   "display_name": "Python 3",
   "language": "python",
   "name": "python3"
  },
  "language_info": {
   "codemirror_mode": {
    "name": "ipython",
    "version": 3
   },
   "file_extension": ".py",
   "mimetype": "text/x-python",
   "name": "python",
   "nbconvert_exporter": "python",
   "pygments_lexer": "ipython3",
   "version": "3.5.6"
  },
  "toc": {
   "base_numbering": 1,
   "nav_menu": {},
   "number_sections": true,
   "sideBar": true,
   "skip_h1_title": false,
   "title_cell": "Table of Contents",
   "title_sidebar": "Contents",
   "toc_cell": false,
   "toc_position": {},
   "toc_section_display": true,
   "toc_window_display": false
  }
 },
 "nbformat": 4,
 "nbformat_minor": 2
}
