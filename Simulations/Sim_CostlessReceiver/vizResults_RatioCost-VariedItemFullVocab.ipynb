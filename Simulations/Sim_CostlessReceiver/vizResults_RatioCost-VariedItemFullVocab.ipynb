import pandas as pd
import numpy as np
sim_r0 = pd.read_pickle('./simulation_costRatioReceiver_a4_r8_seed423_2-9ItemFullVocab.pkl')

print(sim_r0.shape)


def getUtilityDifferenceSummaryStatistics(df):
    summaryDF = pd.DataFrame(df.mean(axis=0)).rename(columns={0:'means'})
    summaryDF['stds'] = df.std(axis=0)
    numObs = df.shape[0]
    summaryDF['marginOfError'] = 1.96*summaryDF['stds']/np.sqrt(numObs)
    summaryDF['CI_low'] = summaryDF['means'] - summaryDF['marginOfError']
    summaryDF['CI_high'] = summaryDF['means'] + summaryDF['marginOfError']
    return(summaryDF)
print(getUtilityDifferenceSummaryStatistics(sim_r0))
