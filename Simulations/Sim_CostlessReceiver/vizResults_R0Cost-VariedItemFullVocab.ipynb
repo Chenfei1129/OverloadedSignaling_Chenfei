{
 "cells": [
  {
   "cell_type": "markdown",
   "metadata": {},
   "source": [
    "# Import"
   ]
  },
  {
   "cell_type": "markdown",
   "metadata": {},
   "source": [
    "Run from 7/8/2020"
   ]
  },
  {
   "cell_type": "code",
   "execution_count": 1,
   "metadata": {
    "ExecuteTime": {
     "end_time": "2020-07-30T18:03:37.602971Z",
     "start_time": "2020-07-30T18:03:37.288476Z"
    }
   },
   "outputs": [],
   "source": [
    "import sys\n",
    "import numpy as np\n",
    "import pandas as pd\n",
    "import re\n",
    "import matplotlib.pyplot as plt\n",
    "\n",
    "#sys.path.append('/home/stacyste/Documents/Research/OverloadedSignaling/Simulations')\n",
    "#from simViz_R0 import *"
   ]
  },
  {
   "cell_type": "code",
   "execution_count": 2,
   "metadata": {
    "ExecuteTime": {
     "end_time": "2020-07-30T18:03:37.616265Z",
     "start_time": "2020-07-30T18:03:37.604353Z"
    }
   },
   "outputs": [],
   "source": [
    "%load_ext autoreload\n",
    "%autoreload 2"
   ]
  },
  {
   "cell_type": "markdown",
   "metadata": {},
   "source": [
    "# Functions"
   ]
  },
  {
   "cell_type": "code",
   "execution_count": 3,
   "metadata": {
    "ExecuteTime": {
     "end_time": "2020-07-30T18:03:37.626619Z",
     "start_time": "2020-07-30T18:03:37.617966Z"
    }
   },
   "outputs": [],
   "source": [
    "def getSignalerDIYUtility(dfRow):\n",
    "    signalerLoc = dfRow['signalerLocation']\n",
    "    targetDict = dfRow['targetDictionary']\n",
    "    goal = dfRow['intention']\n",
    "    goalLocation = [loc for loc, trg in targetDict.items() if trg==goal][0]\n",
    "    \n",
    "    getDistance = lambda a, b: abs(a-b)\n",
    "    getCost = lambda startCoords, endCoords: -sum([getDistance(p, q) for p, q in zip(startCoords, endCoords)])\n",
    "    \n",
    "    cost = getCost(signalerLoc, goalLocation)\n",
    "    reward = 8\n",
    "    utility = cost+reward\n",
    "    return(utility)"
   ]
  },
  {
   "cell_type": "code",
   "execution_count": 4,
   "metadata": {
    "ExecuteTime": {
     "end_time": "2020-07-30T18:03:37.641651Z",
     "start_time": "2020-07-30T18:03:37.627769Z"
    }
   },
   "outputs": [],
   "source": [
    "def getProportionTargetReached(df):\n",
    "    propTrialsTargetReached = pd.DataFrame(columns=['signaler', 'receiver'])\n",
    "    getPropTrue =  lambda colName: df[colName].value_counts(normalize=True).loc[True] if (True in df[colName].value_counts(normalize=True).index) else 0.0\n",
    "\n",
    "    sToGoal = [x for x in df.columns if 'sAchievesGoal' in x]\n",
    "    rToGoal = [x for x in df.columns if 'rAchievesGoal' in x]\n",
    "    \n",
    "    for sToGoalColumn, rToGoalColumn in zip(sToGoal, rToGoal):\n",
    "        colName = re.findall(r\"[A-Z]+_S[0-9]R[0-9]\", sToGoalColumn)[0]+'_C0R' if 'C0R' in sToGoalColumn else re.findall(r\"[A-Z]+_S[0-9]R[0-9]\", sToGoalColumn)[0]\n",
    "        propTrialsTargetReached.loc[colName] = [getPropTrue(sToGoalColumn), getPropTrue(rToGoalColumn)]\n",
    "\n",
    "    propTrialsTargetReached['total'] = propTrialsTargetReached['signaler'] + propTrialsTargetReached['receiver']\n",
    "\n",
    "    propTrialsTargetReached['marginOfErrorS'] =  1.96*np.sqrt((propTrialsTargetReached['signaler']*(1-propTrialsTargetReached['signaler']))/df.shape[0])\n",
    "    propTrialsTargetReached['marginOfErrorR'] =  1.96*np.sqrt((propTrialsTargetReached['receiver']*(1-propTrialsTargetReached['receiver']))/df.shape[0])\n",
    "\n",
    "    return(propTrialsTargetReached)"
   ]
  },
  {
   "cell_type": "code",
   "execution_count": 5,
   "metadata": {
    "ExecuteTime": {
     "end_time": "2020-07-30T18:03:37.655399Z",
     "start_time": "2020-07-30T18:03:37.643318Z"
    }
   },
   "outputs": [],
   "source": [
    "def plotAccuracyStackedBars(df, save=False, filename='./accuracies.png', rColor = '#484D60', sColor = '#9FA5BD', fSize = (7,6)):\n",
    "    fig = plt.figure(figsize =fSize)\n",
    "    ax = fig.add_axes([0,0,1,1])\n",
    "    width=.5\n",
    "    \n",
    "    modelNames = list(df.index)\n",
    "    y_signalerAchievesGoal = df['signaler'].values\n",
    "    y_receiverAchievesGoal = df['receiver'].values\n",
    "    me_rec = df['marginOfErrorR']\n",
    "    me_sig = df['marginOfErrorS']\n",
    "    \n",
    "    \n",
    "    p1 = plt.bar(modelNames, y_receiverAchievesGoal, width, yerr = me_rec, label = 'Receiver', color = rColor,edgecolor='white')\n",
    "    p2 = plt.bar(modelNames, y_signalerAchievesGoal, width,yerr = me_sig, label = 'Signaler', color = sColor, edgecolor='white',bottom=y_receiverAchievesGoal)\n",
    "    \n",
    "    ax.set_yticks([0,.5,1])\n",
    "    ax.set_xticklabels(modelNames, rotation=90)\n",
    "    \n",
    "    plt.legend(loc='upper left', bbox_to_anchor=(1,1), ncol=1)\n",
    "    if save:\n",
    "        fig.savefig(filename,dpi=300, bbox_inches='tight')\n",
    "    plt.show()\n"
   ]
  },
  {
   "cell_type": "code",
   "execution_count": 6,
   "metadata": {
    "ExecuteTime": {
     "end_time": "2020-07-30T18:03:37.668806Z",
     "start_time": "2020-07-30T18:03:37.657875Z"
    }
   },
   "outputs": [],
   "source": [
    "def getPercentFromOptimalUtilityDF(df):\n",
    "    percentFromOptimalUtil = pd.DataFrame(index=df.index)\n",
    "    utilityColumns = [x for x in df.columns if 'utility' in x]\n",
    "    \n",
    "    for utilityName in utilityColumns:\n",
    "        u_optimal = 'CentralControl_utility'\n",
    "        percentFromOptimalUtil[utilityName] = 100.0*(df[utilityName]/df[u_optimal])#df[utilityName]-df[u_optimal] #\n",
    "    return(percentFromOptimalUtil)"
   ]
  },
  {
   "cell_type": "code",
   "execution_count": 7,
   "metadata": {
    "ExecuteTime": {
     "end_time": "2020-07-30T18:03:37.682217Z",
     "start_time": "2020-07-30T18:03:37.670791Z"
    }
   },
   "outputs": [],
   "source": [
    "def getUtilityDifferenceSummaryStatistics(df):\n",
    "    summaryDF = pd.DataFrame(df.mean(axis=0)).rename(columns={0:'means'})\n",
    "    summaryDF['stds'] = df.std(axis=0)\n",
    "    numObs = df.shape[0]\n",
    "    summaryDF['marginOfError'] = 1.96*summaryDF['stds']/np.sqrt(numObs)\n",
    "    summaryDF['CI_low'] = summaryDF['means'] - summaryDF['marginOfError']\n",
    "    summaryDF['CI_high'] = summaryDF['means'] + summaryDF['marginOfError']\n",
    "    return(summaryDF)"
   ]
  },
  {
   "cell_type": "markdown",
   "metadata": {},
   "source": [
    "# Processing"
   ]
  },
  {
   "cell_type": "code",
   "execution_count": 8,
   "metadata": {
    "ExecuteTime": {
     "end_time": "2020-07-30T18:03:37.769100Z",
     "start_time": "2020-07-30T18:03:37.683979Z"
    }
   },
   "outputs": [],
   "source": [
    "sim_r0 = pd.read_pickle('./simulation_costlessReceiver_a4_r8_seed423_2-9ItemFullVocab.pkl')"
   ]
  },
  {
   "cell_type": "code",
   "execution_count": 9,
   "metadata": {
    "ExecuteTime": {
     "end_time": "2020-07-30T18:03:37.783076Z",
     "start_time": "2020-07-30T18:03:37.770871Z"
    }
   },
   "outputs": [
    {
     "data": {
      "text/plain": [
       "(2000, 28)"
      ]
     },
     "execution_count": 9,
     "metadata": {},
     "output_type": "execute_result"
    }
   ],
   "source": [
    "sim_r0.shape"
   ]
  },
  {
   "cell_type": "code",
   "execution_count": 10,
   "metadata": {
    "ExecuteTime": {
     "end_time": "2020-07-30T18:03:37.836649Z",
     "start_time": "2020-07-30T18:03:37.784186Z"
    }
   },
   "outputs": [],
   "source": [
    "dfr0 = sim_r0.copy(deep=True)\n",
    "communicationDF = dfr0.copy().loc[dfr0['CentralControl_actor'] == 'receiver']\n",
    "dlen = lambda x: len(x['targetDictionary'])\n",
    "communicationDF['nTargets'] = communicationDF.apply(dlen, axis=1) "
   ]
  },
  {
   "cell_type": "code",
   "execution_count": 11,
   "metadata": {
    "ExecuteTime": {
     "end_time": "2020-07-30T18:03:37.917103Z",
     "start_time": "2020-07-30T18:03:37.837829Z"
    }
   },
   "outputs": [],
   "source": [
    "dfr0['DIYUtility'] = dfr0.apply(getSignalerDIYUtility, axis=1)"
   ]
  },
  {
   "cell_type": "code",
   "execution_count": 12,
   "metadata": {
    "ExecuteTime": {
     "end_time": "2020-07-30T18:03:37.954801Z",
     "start_time": "2020-07-30T18:03:37.919747Z"
    }
   },
   "outputs": [
    {
     "data": {
      "text/html": [
       "<div>\n",
       "<style scoped>\n",
       "    .dataframe tbody tr th:only-of-type {\n",
       "        vertical-align: middle;\n",
       "    }\n",
       "\n",
       "    .dataframe tbody tr th {\n",
       "        vertical-align: top;\n",
       "    }\n",
       "\n",
       "    .dataframe thead th {\n",
       "        text-align: right;\n",
       "    }\n",
       "</style>\n",
       "<table border=\"1\" class=\"dataframe\">\n",
       "  <thead>\n",
       "    <tr style=\"text-align: right;\">\n",
       "      <th></th>\n",
       "      <th>signaler</th>\n",
       "      <th>receiver</th>\n",
       "      <th>total</th>\n",
       "      <th>marginOfErrorS</th>\n",
       "      <th>marginOfErrorR</th>\n",
       "    </tr>\n",
       "  </thead>\n",
       "  <tbody>\n",
       "    <tr>\n",
       "      <th>RSA_S0R0</th>\n",
       "      <td>0.0000</td>\n",
       "      <td>0.576</td>\n",
       "      <td>0.5760</td>\n",
       "      <td>0.000000</td>\n",
       "      <td>0.021659</td>\n",
       "    </tr>\n",
       "    <tr>\n",
       "      <th>RSA_S1R1</th>\n",
       "      <td>0.1635</td>\n",
       "      <td>0.620</td>\n",
       "      <td>0.7835</td>\n",
       "      <td>0.016208</td>\n",
       "      <td>0.021273</td>\n",
       "    </tr>\n",
       "    <tr>\n",
       "      <th>IW_S1R1</th>\n",
       "      <td>0.1635</td>\n",
       "      <td>0.656</td>\n",
       "      <td>0.8195</td>\n",
       "      <td>0.016208</td>\n",
       "      <td>0.020820</td>\n",
       "    </tr>\n",
       "  </tbody>\n",
       "</table>\n",
       "</div>"
      ],
      "text/plain": [
       "          signaler  receiver   total  marginOfErrorS  marginOfErrorR\n",
       "RSA_S0R0    0.0000     0.576  0.5760        0.000000        0.021659\n",
       "RSA_S1R1    0.1635     0.620  0.7835        0.016208        0.021273\n",
       "IW_S1R1     0.1635     0.656  0.8195        0.016208        0.020820"
      ]
     },
     "execution_count": 12,
     "metadata": {},
     "output_type": "execute_result"
    }
   ],
   "source": [
    "targetReached = getProportionTargetReached(dfr0)\n",
    "targetReached"
   ]
  },
  {
   "cell_type": "code",
   "execution_count": 13,
   "metadata": {
    "ExecuteTime": {
     "end_time": "2020-07-30T18:03:37.965353Z",
     "start_time": "2020-07-30T18:03:37.956431Z"
    }
   },
   "outputs": [],
   "source": [
    "modelNames = ['RSA_S0R0', 'RSA_S1R1', 'IW_S1R1']"
   ]
  },
  {
   "cell_type": "code",
   "execution_count": 14,
   "metadata": {
    "ExecuteTime": {
     "end_time": "2020-07-30T18:03:37.977640Z",
     "start_time": "2020-07-30T18:03:37.966796Z"
    }
   },
   "outputs": [],
   "source": [
    "dfItems = dfr0"
   ]
  },
  {
   "cell_type": "code",
   "execution_count": 15,
   "metadata": {
    "ExecuteTime": {
     "end_time": "2020-07-30T18:03:38.163010Z",
     "start_time": "2020-07-30T18:03:37.980614Z"
    }
   },
   "outputs": [
    {
     "name": "stdout",
     "output_type": "stream",
     "text": [
      "items:  2 data points:  269\n",
      "items:  3 data points:  253\n",
      "items:  4 data points:  235\n",
      "items:  5 data points:  271\n",
      "items:  6 data points:  237\n",
      "items:  7 data points:  264\n",
      "items:  8 data points:  217\n",
      "items:  9 data points:  254\n"
     ]
    }
   ],
   "source": [
    "accuracy = pd.DataFrame(index=modelNames)\n",
    "accuracyME = pd.DataFrame(index=modelNames)\n",
    "\n",
    "utility = pd.DataFrame()\n",
    "utilityME = pd.DataFrame()\n",
    "\n",
    "minItems = min(dfItems['nTargets'])\n",
    "maxItems = max(dfItems['nTargets'])+1\n",
    "\n",
    "for itemSetSize in range(minItems, maxItems):\n",
    "    df_item = dfItems.loc[dfItems['nTargets'] == itemSetSize]\n",
    "    print(\"items: \", itemSetSize, 'data points: ', df_item.shape[0])\n",
    "\n",
    "    df_acc = getProportionTargetReached(df_item)\n",
    "    accLabel = 'recAcc_' + str(itemSetSize)\n",
    "    accuracy[accLabel] = df_acc['receiver']\n",
    "    meLab = 'ME_'+ str(itemSetSize)\n",
    "    accuracyME[meLab] = df_acc['marginOfErrorR']\n",
    "\n",
    "    df_util = getPercentFromOptimalUtilityDF(df_item)\n",
    "    utilSummary = getUtilityDifferenceSummaryStatistics(df_util)\n",
    "    utilLabel = 'util' + str(itemSetSize)\n",
    "    utility[utilLabel] = utilSummary['means']\n",
    "    utilityME[meLab] = utilSummary['marginOfError']\n",
    "#return(accuracy.transpose(), accuracyME.transpose(),utility.transpose(), utilityME.transpose())"
   ]
  },
  {
   "cell_type": "code",
   "execution_count": 16,
   "metadata": {
    "ExecuteTime": {
     "end_time": "2020-07-30T18:03:38.181971Z",
     "start_time": "2020-07-30T18:03:38.164944Z"
    }
   },
   "outputs": [
    {
     "data": {
      "text/html": [
       "<div>\n",
       "<style scoped>\n",
       "    .dataframe tbody tr th:only-of-type {\n",
       "        vertical-align: middle;\n",
       "    }\n",
       "\n",
       "    .dataframe tbody tr th {\n",
       "        vertical-align: top;\n",
       "    }\n",
       "\n",
       "    .dataframe thead th {\n",
       "        text-align: right;\n",
       "    }\n",
       "</style>\n",
       "<table border=\"1\" class=\"dataframe\">\n",
       "  <thead>\n",
       "    <tr style=\"text-align: right;\">\n",
       "      <th></th>\n",
       "      <th>util2</th>\n",
       "      <th>util3</th>\n",
       "      <th>util4</th>\n",
       "      <th>util5</th>\n",
       "      <th>util6</th>\n",
       "      <th>util7</th>\n",
       "      <th>util8</th>\n",
       "      <th>util9</th>\n",
       "    </tr>\n",
       "  </thead>\n",
       "  <tbody>\n",
       "    <tr>\n",
       "      <th>RSA_S0R0_utility</th>\n",
       "      <td>86.617100</td>\n",
       "      <td>79.051383</td>\n",
       "      <td>71.063830</td>\n",
       "      <td>54.612546</td>\n",
       "      <td>51.054852</td>\n",
       "      <td>39.772727</td>\n",
       "      <td>43.778802</td>\n",
       "      <td>32.677165</td>\n",
       "    </tr>\n",
       "    <tr>\n",
       "      <th>RSA_S1R1_utility</th>\n",
       "      <td>100.000000</td>\n",
       "      <td>97.529644</td>\n",
       "      <td>91.223404</td>\n",
       "      <td>75.922509</td>\n",
       "      <td>65.031646</td>\n",
       "      <td>52.840909</td>\n",
       "      <td>50.403226</td>\n",
       "      <td>41.289370</td>\n",
       "    </tr>\n",
       "    <tr>\n",
       "      <th>IW_S1R1_utility</th>\n",
       "      <td>100.000000</td>\n",
       "      <td>98.913043</td>\n",
       "      <td>93.404255</td>\n",
       "      <td>82.841328</td>\n",
       "      <td>69.198312</td>\n",
       "      <td>63.162879</td>\n",
       "      <td>51.900922</td>\n",
       "      <td>42.667323</td>\n",
       "    </tr>\n",
       "    <tr>\n",
       "      <th>CentralControl_utility</th>\n",
       "      <td>100.000000</td>\n",
       "      <td>100.000000</td>\n",
       "      <td>100.000000</td>\n",
       "      <td>100.000000</td>\n",
       "      <td>100.000000</td>\n",
       "      <td>100.000000</td>\n",
       "      <td>100.000000</td>\n",
       "      <td>100.000000</td>\n",
       "    </tr>\n",
       "    <tr>\n",
       "      <th>DIYSignaler_utility</th>\n",
       "      <td>18.959108</td>\n",
       "      <td>12.549407</td>\n",
       "      <td>11.276596</td>\n",
       "      <td>13.791513</td>\n",
       "      <td>15.084388</td>\n",
       "      <td>20.265152</td>\n",
       "      <td>13.997696</td>\n",
       "      <td>16.929134</td>\n",
       "    </tr>\n",
       "  </tbody>\n",
       "</table>\n",
       "</div>"
      ],
      "text/plain": [
       "                             util2       util3       util4       util5  \\\n",
       "RSA_S0R0_utility         86.617100   79.051383   71.063830   54.612546   \n",
       "RSA_S1R1_utility        100.000000   97.529644   91.223404   75.922509   \n",
       "IW_S1R1_utility         100.000000   98.913043   93.404255   82.841328   \n",
       "CentralControl_utility  100.000000  100.000000  100.000000  100.000000   \n",
       "DIYSignaler_utility      18.959108   12.549407   11.276596   13.791513   \n",
       "\n",
       "                             util6       util7       util8       util9  \n",
       "RSA_S0R0_utility         51.054852   39.772727   43.778802   32.677165  \n",
       "RSA_S1R1_utility         65.031646   52.840909   50.403226   41.289370  \n",
       "IW_S1R1_utility          69.198312   63.162879   51.900922   42.667323  \n",
       "CentralControl_utility  100.000000  100.000000  100.000000  100.000000  \n",
       "DIYSignaler_utility      15.084388   20.265152   13.997696   16.929134  "
      ]
     },
     "execution_count": 16,
     "metadata": {},
     "output_type": "execute_result"
    }
   ],
   "source": [
    "utility"
   ]
  },
  {
   "cell_type": "code",
   "execution_count": 17,
   "metadata": {
    "ExecuteTime": {
     "end_time": "2020-07-30T18:03:38.198274Z",
     "start_time": "2020-07-30T18:03:38.183583Z"
    }
   },
   "outputs": [
    {
     "data": {
      "text/html": [
       "<div>\n",
       "<style scoped>\n",
       "    .dataframe tbody tr th:only-of-type {\n",
       "        vertical-align: middle;\n",
       "    }\n",
       "\n",
       "    .dataframe tbody tr th {\n",
       "        vertical-align: top;\n",
       "    }\n",
       "\n",
       "    .dataframe thead th {\n",
       "        text-align: right;\n",
       "    }\n",
       "</style>\n",
       "<table border=\"1\" class=\"dataframe\">\n",
       "  <thead>\n",
       "    <tr style=\"text-align: right;\">\n",
       "      <th></th>\n",
       "      <th>RSA_S0R0</th>\n",
       "      <th>RSA_S1R1</th>\n",
       "      <th>IW_S1R1</th>\n",
       "    </tr>\n",
       "  </thead>\n",
       "  <tbody>\n",
       "    <tr>\n",
       "      <th>recAcc_2</th>\n",
       "      <td>0.866171</td>\n",
       "      <td>1.000000</td>\n",
       "      <td>1.000000</td>\n",
       "    </tr>\n",
       "    <tr>\n",
       "      <th>recAcc_3</th>\n",
       "      <td>0.790514</td>\n",
       "      <td>0.952569</td>\n",
       "      <td>0.968379</td>\n",
       "    </tr>\n",
       "    <tr>\n",
       "      <th>recAcc_4</th>\n",
       "      <td>0.710638</td>\n",
       "      <td>0.863830</td>\n",
       "      <td>0.889362</td>\n",
       "    </tr>\n",
       "    <tr>\n",
       "      <th>recAcc_5</th>\n",
       "      <td>0.546125</td>\n",
       "      <td>0.675277</td>\n",
       "      <td>0.745387</td>\n",
       "    </tr>\n",
       "    <tr>\n",
       "      <th>recAcc_6</th>\n",
       "      <td>0.510549</td>\n",
       "      <td>0.527426</td>\n",
       "      <td>0.573840</td>\n",
       "    </tr>\n",
       "    <tr>\n",
       "      <th>recAcc_7</th>\n",
       "      <td>0.397727</td>\n",
       "      <td>0.375000</td>\n",
       "      <td>0.477273</td>\n",
       "    </tr>\n",
       "    <tr>\n",
       "      <th>recAcc_8</th>\n",
       "      <td>0.437788</td>\n",
       "      <td>0.313364</td>\n",
       "      <td>0.327189</td>\n",
       "    </tr>\n",
       "    <tr>\n",
       "      <th>recAcc_9</th>\n",
       "      <td>0.326772</td>\n",
       "      <td>0.204724</td>\n",
       "      <td>0.212598</td>\n",
       "    </tr>\n",
       "  </tbody>\n",
       "</table>\n",
       "</div>"
      ],
      "text/plain": [
       "          RSA_S0R0  RSA_S1R1   IW_S1R1\n",
       "recAcc_2  0.866171  1.000000  1.000000\n",
       "recAcc_3  0.790514  0.952569  0.968379\n",
       "recAcc_4  0.710638  0.863830  0.889362\n",
       "recAcc_5  0.546125  0.675277  0.745387\n",
       "recAcc_6  0.510549  0.527426  0.573840\n",
       "recAcc_7  0.397727  0.375000  0.477273\n",
       "recAcc_8  0.437788  0.313364  0.327189\n",
       "recAcc_9  0.326772  0.204724  0.212598"
      ]
     },
     "execution_count": 17,
     "metadata": {},
     "output_type": "execute_result"
    }
   ],
   "source": [
    "accuracy.transpose()"
   ]
  },
  {
   "cell_type": "code",
   "execution_count": 18,
   "metadata": {
    "ExecuteTime": {
     "end_time": "2020-07-30T18:03:38.216660Z",
     "start_time": "2020-07-30T18:03:38.200624Z"
    }
   },
   "outputs": [],
   "source": [
    "def plotMetricByItem(accDf, meDF, save = False, filename = './acc.png', yAxisLabel = 'Proportion successful communication', yTicks = [0,.1, .2, .3, .4, .5,.6, .7, .8, .9, 1], fSize= (8,5),minItems = 2, maxItems = 9):\n",
    "    fig = plt.figure(figsize =fSize)\n",
    "    ax = fig.add_axes([0,0,1,1])\n",
    "    labelDict = {'RSA_S0R0': 'Naive RSA', \n",
    "                'RSA_S1R1': 'Pragmatic RSA', \n",
    "                 'IW_S1R1': 'Pragmatic IW', \n",
    "                 'DIY Signaler': 'Signaler Does', \n",
    "                 'Central Control': 'Optimal'}\n",
    "\n",
    "    colorDict = {'RSA_S0R0': '#feb954', \n",
    "                'RSA_S1R1': '#fed554', \n",
    "                 'IW_S1R1': '#b10d2f', \n",
    "                 'DIY Signaler': '#000650', \n",
    "                 'Central Control': '#555555'} \n",
    "\n",
    "    modelLabels = accDf.columns\n",
    "\n",
    "    x = [a for a in range(minItems, maxItems+1)]\n",
    "\n",
    "    for modelLabel in modelLabels:\n",
    "        plt.errorbar(x, accDf[modelLabel].values, yerr = meDF[modelLabel].values, color = colorDict[modelLabel],label=labelDict[modelLabel], linewidth=3)\n",
    "    plt.xlabel('Number of Items')\n",
    "    plt.ylabel(yAxisLabel)\n",
    "    plt.legend(loc='best')\n",
    "    ax.set_yticks(yTicks)\n",
    "    ax.tick_params(labelsize=24)\n",
    "    if save:\n",
    "        fig.savefig(filename,dpi=300, bbox_inches='tight')\n",
    "    plt.show()"
   ]
  },
  {
   "cell_type": "code",
   "execution_count": 19,
   "metadata": {
    "ExecuteTime": {
     "end_time": "2020-07-30T18:03:38.955993Z",
     "start_time": "2020-07-30T18:03:38.217805Z"
    }
   },
   "outputs": [
    {
     "data": {
      "image/png": "[encoded data removed]",
      "text/plain": [
       "<Figure size 576x360 with 1 Axes>"
      ]
     },
     "metadata": {
      "needs_background": "light"
     },
     "output_type": "display_data"
    }
   ],
   "source": [
    "plotMetricByItem(accuracy.transpose(), accuracyME.transpose(), save=True, filename = './successfulCommunicationCostlessReceiver.png')"
   ]
  },
  {
   "cell_type": "code",
   "execution_count": 20,
   "metadata": {
    "ExecuteTime": {
     "end_time": "2020-07-30T18:03:38.971665Z",
     "start_time": "2020-07-30T18:03:38.957682Z"
    }
   },
   "outputs": [],
   "source": [
    "fUtil = utility.transpose()\n",
    "fUtil.columns = ['RSA_S0R0', 'RSA_S1R1', 'IW_S1R1', 'Central Control', 'DIY Signaler']\n",
    "fUtilMe = utilityME.transpose()\n",
    "fUtilMe.columns = ['RSA_S0R0', 'RSA_S1R1', 'IW_S1R1', 'Central Control', 'DIY Signaler']"
   ]
  },
  {
   "cell_type": "code",
   "execution_count": 21,
   "metadata": {
    "ExecuteTime": {
     "end_time": "2020-07-30T18:03:39.671324Z",
     "start_time": "2020-07-30T18:03:38.972863Z"
    },
    "scrolled": false
   },
   "outputs": [
    {
     "data": {
      "image/png": "[encoded data removed]",
      "text/plain": [
       "<Figure size 576x360 with 1 Axes>"
      ]
     },
     "metadata": {
      "needs_background": "light"
     },
     "output_type": "display_data"
    }
   ],
   "source": [
    "plotMetricByItem(fUtil, fUtilMe,yTicks = [0,25, 50, 75, 100],yAxisLabel = 'Percent Utility Difference from Optimal', save=True, filename = './utilityPercentCostlessReceiver.png')"
   ]
  },
  {
   "cell_type": "code",
   "execution_count": null,
   "metadata": {},
   "outputs": [],
   "source": []
  }
 ],
 "metadata": {
  "kernelspec": {
   "display_name": "Python 3",
   "language": "python",
   "name": "python3"
  },
  "language_info": {
   "codemirror_mode": {
    "name": "ipython",
    "version": 3
   },
   "file_extension": ".py",
   "mimetype": "text/x-python",
   "name": "python",
   "nbconvert_exporter": "python",
   "pygments_lexer": "ipython3",
   "version": "3.5.6"
  },
  "toc": {
   "base_numbering": 1,
   "nav_menu": {},
   "number_sections": true,
   "sideBar": true,
   "skip_h1_title": false,
   "title_cell": "Table of Contents",
   "title_sidebar": "Contents",
   "toc_cell": false,
   "toc_position": {},
   "toc_section_display": true,
   "toc_window_display": false
  }
 },
 "nbformat": 4,
 "nbformat_minor": 2
}
