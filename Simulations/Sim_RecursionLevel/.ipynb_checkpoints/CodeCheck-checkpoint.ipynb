{
 "cells": [
  {
   "cell_type": "code",
   "execution_count": 2,
   "metadata": {
    "ExecuteTime": {
     "end_time": "2020-07-14T00:00:22.811578Z",
     "start_time": "2020-07-14T00:00:22.654885Z"
    }
   },
   "outputs": [],
   "source": [
    "import sys\n",
    "import numpy as np\n",
    "import pandas as pd\n",
    "sys.path.append('/home/stacyste/Documents/Research/OverloadedSignaling/Simulations')"
   ]
  },
  {
   "cell_type": "code",
   "execution_count": 3,
   "metadata": {
    "ExecuteTime": {
     "end_time": "2020-07-14T00:00:23.009940Z",
     "start_time": "2020-07-14T00:00:22.991263Z"
    }
   },
   "outputs": [],
   "source": [
    "%load_ext autoreload\n",
    "%autoreload 2"
   ]
  },
  {
   "cell_type": "code",
   "execution_count": 5,
   "metadata": {
    "ExecuteTime": {
     "end_time": "2020-07-14T00:00:29.222997Z",
     "start_time": "2020-07-14T00:00:29.184062Z"
    }
   },
   "outputs": [],
   "source": [
    "df = pd.read_pickle('./simulation_checkAgainstFVByItemSim.pkl')"
   ]
  },
  {
   "cell_type": "code",
   "execution_count": 6,
   "metadata": {
    "ExecuteTime": {
     "end_time": "2020-07-14T00:00:33.306986Z",
     "start_time": "2020-07-14T00:00:33.298040Z"
    }
   },
   "outputs": [],
   "source": [
    "def getPercentFromOptimalUtilityDF(df):\n",
    "    percentFromOptimalUtil = pd.DataFrame(index=df.index)\n",
    "    utilityColumns = [x for x in df.columns if 'utility' in x]\n",
    "    \n",
    "    for utilityName in utilityColumns:\n",
    "        u_optimal = 'CentralControl_utility'\n",
    "        percentFromOptimalUtil[utilityName] = 100.0*(df[utilityName]/df[u_optimal])#df[utilityName]-df[u_optimal] #\n",
    "    return(percentFromOptimalUtil)"
   ]
  },
  {
   "cell_type": "code",
   "execution_count": 7,
   "metadata": {
    "ExecuteTime": {
     "end_time": "2020-07-14T00:00:33.636516Z",
     "start_time": "2020-07-14T00:00:33.617042Z"
    }
   },
   "outputs": [],
   "source": [
    "def getProportionTargetReached(df):\n",
    "    propTrialsTargetReached = pd.DataFrame(columns=['signaler', 'receiver'])\n",
    "    getPropTrue =  lambda colName: df[colName].value_counts(normalize=True).loc[True] if (True in df[colName].value_counts(normalize=True).index) else 0.0\n",
    "    \n",
    "    sLabels = [x for x in df.columns if 'sAchievesGoal' in x]\n",
    "    rLabels = [x for x in df.columns if 'rAchievesGoal' in x]\n",
    "    for s, r in zip(sLabels, rLabels):\n",
    "        propTrialsTargetReached.loc[s] = [getPropTrue(s), getPropTrue(r)]\n",
    "\n",
    "    propTrialsTargetReached['total'] = propTrialsTargetReached['signaler'] + propTrialsTargetReached['receiver']\n",
    "\n",
    "    propTrialsTargetReached['marginOfErrorS'] =  1.96*np.sqrt((propTrialsTargetReached['signaler']*(1-propTrialsTargetReached['signaler']))/df.shape[0])\n",
    "    propTrialsTargetReached['marginOfErrorR'] =  1.96*np.sqrt((propTrialsTargetReached['receiver']*(1-propTrialsTargetReached['receiver']))/df.shape[0])\n",
    "\n",
    "    return(propTrialsTargetReached)"
   ]
  },
  {
   "cell_type": "code",
   "execution_count": 8,
   "metadata": {
    "ExecuteTime": {
     "end_time": "2020-07-14T00:00:58.651203Z",
     "start_time": "2020-07-14T00:00:58.607905Z"
    }
   },
   "outputs": [],
   "source": [
    "rsaAcc = getProportionTargetReached(df)"
   ]
  },
  {
   "cell_type": "code",
   "execution_count": 10,
   "metadata": {
    "ExecuteTime": {
     "end_time": "2020-07-14T00:02:32.210089Z",
     "start_time": "2020-07-14T00:02:32.191413Z"
    },
    "scrolled": false
   },
   "outputs": [
    {
     "data": {
      "text/html": [
       "<div>\n",
       "<style scoped>\n",
       "    .dataframe tbody tr th:only-of-type {\n",
       "        vertical-align: middle;\n",
       "    }\n",
       "\n",
       "    .dataframe tbody tr th {\n",
       "        vertical-align: top;\n",
       "    }\n",
       "\n",
       "    .dataframe thead th {\n",
       "        text-align: right;\n",
       "    }\n",
       "</style>\n",
       "<table border=\"1\" class=\"dataframe\">\n",
       "  <thead>\n",
       "    <tr style=\"text-align: right;\">\n",
       "      <th></th>\n",
       "      <th>signaler</th>\n",
       "      <th>receiver</th>\n",
       "      <th>total</th>\n",
       "      <th>marginOfErrorS</th>\n",
       "      <th>marginOfErrorR</th>\n",
       "    </tr>\n",
       "  </thead>\n",
       "  <tbody>\n",
       "    <tr>\n",
       "      <th>IW_N_sAchievesGoal</th>\n",
       "      <td>0.464268</td>\n",
       "      <td>0.462269</td>\n",
       "      <td>0.926537</td>\n",
       "      <td>0.021852</td>\n",
       "      <td>0.021846</td>\n",
       "    </tr>\n",
       "    <tr>\n",
       "      <th>IW_S1R0_sAchievesGoal</th>\n",
       "      <td>0.462769</td>\n",
       "      <td>0.462269</td>\n",
       "      <td>0.925037</td>\n",
       "      <td>0.021847</td>\n",
       "      <td>0.021846</td>\n",
       "    </tr>\n",
       "    <tr>\n",
       "      <th>IW_P_sAchievesGoal</th>\n",
       "      <td>0.463768</td>\n",
       "      <td>0.505247</td>\n",
       "      <td>0.969015</td>\n",
       "      <td>0.021850</td>\n",
       "      <td>0.021907</td>\n",
       "    </tr>\n",
       "    <tr>\n",
       "      <th>IW_S1R1_sAchievesGoal</th>\n",
       "      <td>0.464768</td>\n",
       "      <td>0.498751</td>\n",
       "      <td>0.963518</td>\n",
       "      <td>0.021854</td>\n",
       "      <td>0.021908</td>\n",
       "    </tr>\n",
       "    <tr>\n",
       "      <th>RSA_PA_sAchievesGoal</th>\n",
       "      <td>0.576212</td>\n",
       "      <td>0.331334</td>\n",
       "      <td>0.907546</td>\n",
       "      <td>0.021652</td>\n",
       "      <td>0.020624</td>\n",
       "    </tr>\n",
       "    <tr>\n",
       "      <th>RSA_S1R1_sAchievesGoal</th>\n",
       "      <td>0.582709</td>\n",
       "      <td>0.330835</td>\n",
       "      <td>0.913543</td>\n",
       "      <td>0.021606</td>\n",
       "      <td>0.020616</td>\n",
       "    </tr>\n",
       "  </tbody>\n",
       "</table>\n",
       "</div>"
      ],
      "text/plain": [
       "                        signaler  receiver     total  marginOfErrorS  \\\n",
       "IW_N_sAchievesGoal      0.464268  0.462269  0.926537        0.021852   \n",
       "IW_S1R0_sAchievesGoal   0.462769  0.462269  0.925037        0.021847   \n",
       "IW_P_sAchievesGoal      0.463768  0.505247  0.969015        0.021850   \n",
       "IW_S1R1_sAchievesGoal   0.464768  0.498751  0.963518        0.021854   \n",
       "RSA_PA_sAchievesGoal    0.576212  0.331334  0.907546        0.021652   \n",
       "RSA_S1R1_sAchievesGoal  0.582709  0.330835  0.913543        0.021606   \n",
       "\n",
       "                        marginOfErrorR  \n",
       "IW_N_sAchievesGoal            0.021846  \n",
       "IW_S1R0_sAchievesGoal         0.021846  \n",
       "IW_P_sAchievesGoal            0.021907  \n",
       "IW_S1R1_sAchievesGoal         0.021908  \n",
       "RSA_PA_sAchievesGoal          0.020624  \n",
       "RSA_S1R1_sAchievesGoal        0.020616  "
      ]
     },
     "execution_count": 10,
     "metadata": {},
     "output_type": "execute_result"
    }
   ],
   "source": [
    "rsaAcc.loc[['IW_N_sAchievesGoal', 'IW_S1R0_sAchievesGoal', 'IW_P_sAchievesGoal', 'IW_S1R1_sAchievesGoal', 'RSA_PA_sAchievesGoal', 'RSA_S1R1_sAchievesGoal']]"
   ]
  },
  {
   "cell_type": "code",
   "execution_count": 13,
   "metadata": {
    "ExecuteTime": {
     "end_time": "2020-07-14T00:04:31.599775Z",
     "start_time": "2020-07-14T00:04:31.584614Z"
    },
    "scrolled": true
   },
   "outputs": [
    {
     "data": {
      "text/plain": [
       "IW_N_utility        82.630946\n",
       "IW_S1R0_utility     82.316699\n",
       "IW_P_utility        90.391233\n",
       "IW_S1R1_utility     89.451584\n",
       "RSA_PA_utility      67.668666\n",
       "RSA_S1R1_utility    67.874753\n",
       "dtype: float64"
      ]
     },
     "execution_count": 13,
     "metadata": {},
     "output_type": "execute_result"
    }
   ],
   "source": [
    "meanUtilDifferenceRSA = getPercentFromOptimalUtilityDF(df).mean()\n",
    "meanUtilDifferenceRSA.loc[['IW_N_utility', 'IW_S1R0_utility', 'IW_P_utility', 'IW_S1R1_utility', 'RSA_PA_utility', 'RSA_S1R1_utility']]"
   ]
  }
 ],
 "metadata": {
  "kernelspec": {
   "display_name": "Python 3",
   "language": "python",
   "name": "python3"
  },
  "language_info": {
   "codemirror_mode": {
    "name": "ipython",
    "version": 3
   },
   "file_extension": ".py",
   "mimetype": "text/x-python",
   "name": "python",
   "nbconvert_exporter": "python",
   "pygments_lexer": "ipython3",
   "version": "3.5.6"
  },
  "toc": {
   "base_numbering": 1,
   "nav_menu": {},
   "number_sections": true,
   "sideBar": true,
   "skip_h1_title": false,
   "title_cell": "Table of Contents",
   "title_sidebar": "Contents",
   "toc_cell": false,
   "toc_position": {},
   "toc_section_display": true,
   "toc_window_display": false
  }
 },
 "nbformat": 4,
 "nbformat_minor": 2
}
