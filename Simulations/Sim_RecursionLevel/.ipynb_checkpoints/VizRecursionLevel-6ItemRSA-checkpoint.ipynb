{
 "cells": [
  {
   "cell_type": "code",
   "execution_count": 2,
   "metadata": {
    "ExecuteTime": {
     "end_time": "2020-07-13T19:57:45.576141Z",
     "start_time": "2020-07-13T19:57:45.440223Z"
    }
   },
   "outputs": [],
   "source": [
    "import sys\n",
    "import numpy as np\n",
    "import pandas as pd\n",
    "sys.path.append('/home/stacyste/Documents/Research/OverloadedSignaling/Simulations')"
   ]
  },
  {
   "cell_type": "code",
   "execution_count": 3,
   "metadata": {
    "ExecuteTime": {
     "end_time": "2020-07-13T19:57:45.804815Z",
     "start_time": "2020-07-13T19:57:45.791650Z"
    }
   },
   "outputs": [],
   "source": [
    "%load_ext autoreload\n",
    "%autoreload 2"
   ]
  },
  {
   "cell_type": "code",
   "execution_count": 4,
   "metadata": {
    "ExecuteTime": {
     "end_time": "2020-07-13T19:57:46.297525Z",
     "start_time": "2020-07-13T19:57:46.218448Z"
    }
   },
   "outputs": [],
   "source": [
    "simRSARec1 = pd.read_pickle('./simulation_recursion_a4_r8_seed192_6ItemFullVocabRSA_100Runs.pkl')\n",
    "simRSARec2 = pd.read_pickle('./simulation_recursion_a4_r8_seed193_6ItemFullVocabRSA_100Runs.pkl')\n",
    "simIW1 = pd.read_pickle('./simulation_recursion_a4_r8_seed192_6ItemFullVocabIW_100Runs_MaxLayer2.pkl')\n",
    "simIW2 = pd.read_pickle('./simulation_recursion_a4_r8_seed193_6ItemFullVocabIW_100Runs_MaxLayer2.pkl')\n",
    "\n",
    "simRSA = pd.concat([simRSARec1, simRSARec2], ignore_index=True)\n",
    "simIW = pd.concat([simIW1, simIW2], ignore_index=True)\n",
    "\n",
    "\n",
    "rsaDF = simRSA.loc[simRSA['CentralControl_actor'] == 'receiver']\n",
    "iwDF = simIW.loc[simIW['CentralControl_actor'] == 'receiver']"
   ]
  },
  {
   "cell_type": "code",
   "execution_count": 5,
   "metadata": {
    "ExecuteTime": {
     "end_time": "2020-07-13T19:57:48.688253Z",
     "start_time": "2020-07-13T19:57:48.674570Z"
    }
   },
   "outputs": [
    {
     "data": {
      "text/plain": [
       "0    {(3, 0): 'red circle', (8, 5): 'green circle',...\n",
       "1    {(1, 8): 'green triangle', (0, 5): 'purple tri...\n",
       "2    {(5, 9): 'purple triangle', (3, 9): 'purple ci...\n",
       "3    {(3, 8): 'purple square', (7, 4): 'green squar...\n",
       "4    {(6, 9): 'red square', (4, 3): 'green square',...\n",
       "5    {(3, 8): 'green square', (6, 4): 'red circle',...\n",
       "Name: targetDictionary, dtype: object"
      ]
     },
     "execution_count": 5,
     "metadata": {},
     "output_type": "execute_result"
    }
   ],
   "source": [
    "simRSARec2.loc[0:5]['targetDictionary']"
   ]
  },
  {
   "cell_type": "code",
   "execution_count": 6,
   "metadata": {
    "ExecuteTime": {
     "end_time": "2020-07-13T19:57:49.111007Z",
     "start_time": "2020-07-13T19:57:49.087915Z"
    }
   },
   "outputs": [
    {
     "data": {
      "text/plain": [
       "0    {(3, 0): 'red circle', (8, 5): 'green circle',...\n",
       "1    {(1, 8): 'green triangle', (0, 5): 'purple tri...\n",
       "2    {(5, 9): 'purple triangle', (3, 9): 'purple ci...\n",
       "3    {(3, 8): 'purple square', (7, 4): 'green squar...\n",
       "4    {(6, 9): 'red square', (4, 3): 'green square',...\n",
       "5    {(3, 8): 'green square', (6, 4): 'red circle',...\n",
       "Name: targetDictionary, dtype: object"
      ]
     },
     "execution_count": 6,
     "metadata": {},
     "output_type": "execute_result"
    }
   ],
   "source": [
    "simIW2.loc[0:5]['targetDictionary']"
   ]
  },
  {
   "cell_type": "code",
   "execution_count": 7,
   "metadata": {
    "ExecuteTime": {
     "end_time": "2020-07-13T19:57:49.996040Z",
     "start_time": "2020-07-13T19:57:49.985535Z"
    }
   },
   "outputs": [],
   "source": [
    "def getPercentFromOptimalUtilityDF(df):\n",
    "    percentFromOptimalUtil = pd.DataFrame(index=df.index)\n",
    "    utilityColumns = [x for x in df.columns if 'utility' in x]\n",
    "    \n",
    "    for utilityName in utilityColumns:\n",
    "        u_optimal = 'CentralControl_utility'\n",
    "        percentFromOptimalUtil[utilityName] = 100.0*(df[utilityName]/df[u_optimal])#df[utilityName]-df[u_optimal] #\n",
    "    return(percentFromOptimalUtil)"
   ]
  },
  {
   "cell_type": "code",
   "execution_count": 8,
   "metadata": {
    "ExecuteTime": {
     "end_time": "2020-07-13T19:57:50.230229Z",
     "start_time": "2020-07-13T19:57:50.220011Z"
    }
   },
   "outputs": [],
   "source": [
    "def getProportionTargetReached(df):\n",
    "    propTrialsTargetReached = pd.DataFrame(columns=['signaler', 'receiver'])\n",
    "    getPropTrue =  lambda colName: df[colName].value_counts(normalize=True).loc[True] if (True in df[colName].value_counts(normalize=True).index) else 0.0\n",
    "    \n",
    "    sLabels = [x for x in df.columns if 'sAchievesGoal' in x]\n",
    "    rLabels = [x for x in df.columns if 'rAchievesGoal' in x]\n",
    "    for s, r in zip(sLabels, rLabels):\n",
    "        propTrialsTargetReached.loc[s] = [getPropTrue(s), getPropTrue(r)]\n",
    "\n",
    "    propTrialsTargetReached['total'] = propTrialsTargetReached['signaler'] + propTrialsTargetReached['receiver']\n",
    "\n",
    "    propTrialsTargetReached['marginOfErrorS'] =  1.96*np.sqrt((propTrialsTargetReached['signaler']*(1-propTrialsTargetReached['signaler']))/df.shape[0])\n",
    "    propTrialsTargetReached['marginOfErrorR'] =  1.96*np.sqrt((propTrialsTargetReached['receiver']*(1-propTrialsTargetReached['receiver']))/df.shape[0])\n",
    "\n",
    "    return(propTrialsTargetReached)"
   ]
  },
  {
   "cell_type": "code",
   "execution_count": 9,
   "metadata": {
    "ExecuteTime": {
     "end_time": "2020-07-13T19:57:51.454947Z",
     "start_time": "2020-07-13T19:57:51.380630Z"
    }
   },
   "outputs": [],
   "source": [
    "rsaAcc = getProportionTargetReached(rsaDF)\n",
    "iwAcc = getProportionTargetReached(iwDF)"
   ]
  },
  {
   "cell_type": "code",
   "execution_count": 10,
   "metadata": {
    "ExecuteTime": {
     "end_time": "2020-07-13T19:57:51.687723Z",
     "start_time": "2020-07-13T19:57:51.671246Z"
    },
    "scrolled": false
   },
   "outputs": [
    {
     "data": {
      "text/html": [
       "<div>\n",
       "<style scoped>\n",
       "    .dataframe tbody tr th:only-of-type {\n",
       "        vertical-align: middle;\n",
       "    }\n",
       "\n",
       "    .dataframe tbody tr th {\n",
       "        vertical-align: top;\n",
       "    }\n",
       "\n",
       "    .dataframe thead th {\n",
       "        text-align: right;\n",
       "    }\n",
       "</style>\n",
       "<table border=\"1\" class=\"dataframe\">\n",
       "  <thead>\n",
       "    <tr style=\"text-align: right;\">\n",
       "      <th></th>\n",
       "      <th>signaler</th>\n",
       "      <th>receiver</th>\n",
       "      <th>total</th>\n",
       "      <th>marginOfErrorS</th>\n",
       "      <th>marginOfErrorR</th>\n",
       "    </tr>\n",
       "  </thead>\n",
       "  <tbody>\n",
       "    <tr>\n",
       "      <th>RSA_S1R0_sAchievesGoal</th>\n",
       "      <td>0.352459</td>\n",
       "      <td>0.418033</td>\n",
       "      <td>0.770492</td>\n",
       "      <td>0.084774</td>\n",
       "      <td>0.087525</td>\n",
       "    </tr>\n",
       "    <tr>\n",
       "      <th>RSA_S1R1_sAchievesGoal</th>\n",
       "      <td>0.360656</td>\n",
       "      <td>0.450820</td>\n",
       "      <td>0.811475</td>\n",
       "      <td>0.085210</td>\n",
       "      <td>0.088295</td>\n",
       "    </tr>\n",
       "    <tr>\n",
       "      <th>RSA_S1R2_sAchievesGoal</th>\n",
       "      <td>0.327869</td>\n",
       "      <td>0.459016</td>\n",
       "      <td>0.786885</td>\n",
       "      <td>0.083302</td>\n",
       "      <td>0.088426</td>\n",
       "    </tr>\n",
       "    <tr>\n",
       "      <th>RSA_S1R3_sAchievesGoal</th>\n",
       "      <td>0.344262</td>\n",
       "      <td>0.459016</td>\n",
       "      <td>0.803279</td>\n",
       "      <td>0.084311</td>\n",
       "      <td>0.088426</td>\n",
       "    </tr>\n",
       "    <tr>\n",
       "      <th>RSA_S2R0_sAchievesGoal</th>\n",
       "      <td>0.295082</td>\n",
       "      <td>0.442623</td>\n",
       "      <td>0.737705</td>\n",
       "      <td>0.080931</td>\n",
       "      <td>0.088139</td>\n",
       "    </tr>\n",
       "    <tr>\n",
       "      <th>RSA_S2R1_sAchievesGoal</th>\n",
       "      <td>0.278689</td>\n",
       "      <td>0.524590</td>\n",
       "      <td>0.803279</td>\n",
       "      <td>0.079560</td>\n",
       "      <td>0.088618</td>\n",
       "    </tr>\n",
       "    <tr>\n",
       "      <th>RSA_S2R2_sAchievesGoal</th>\n",
       "      <td>0.286885</td>\n",
       "      <td>0.565574</td>\n",
       "      <td>0.852459</td>\n",
       "      <td>0.080262</td>\n",
       "      <td>0.087959</td>\n",
       "    </tr>\n",
       "    <tr>\n",
       "      <th>RSA_S2R3_sAchievesGoal</th>\n",
       "      <td>0.278689</td>\n",
       "      <td>0.540984</td>\n",
       "      <td>0.819672</td>\n",
       "      <td>0.079560</td>\n",
       "      <td>0.088426</td>\n",
       "    </tr>\n",
       "    <tr>\n",
       "      <th>RSA_S3R0_sAchievesGoal</th>\n",
       "      <td>0.245902</td>\n",
       "      <td>0.491803</td>\n",
       "      <td>0.737705</td>\n",
       "      <td>0.076414</td>\n",
       "      <td>0.088713</td>\n",
       "    </tr>\n",
       "    <tr>\n",
       "      <th>RSA_S3R1_sAchievesGoal</th>\n",
       "      <td>0.270492</td>\n",
       "      <td>0.557377</td>\n",
       "      <td>0.827869</td>\n",
       "      <td>0.078826</td>\n",
       "      <td>0.088139</td>\n",
       "    </tr>\n",
       "    <tr>\n",
       "      <th>RSA_S3R2_sAchievesGoal</th>\n",
       "      <td>0.245902</td>\n",
       "      <td>0.614754</td>\n",
       "      <td>0.860656</td>\n",
       "      <td>0.076414</td>\n",
       "      <td>0.086357</td>\n",
       "    </tr>\n",
       "    <tr>\n",
       "      <th>RSA_S3R3_sAchievesGoal</th>\n",
       "      <td>0.270492</td>\n",
       "      <td>0.590164</td>\n",
       "      <td>0.860656</td>\n",
       "      <td>0.078826</td>\n",
       "      <td>0.087271</td>\n",
       "    </tr>\n",
       "  </tbody>\n",
       "</table>\n",
       "</div>"
      ],
      "text/plain": [
       "                        signaler  receiver     total  marginOfErrorS  \\\n",
       "RSA_S1R0_sAchievesGoal  0.352459  0.418033  0.770492        0.084774   \n",
       "RSA_S1R1_sAchievesGoal  0.360656  0.450820  0.811475        0.085210   \n",
       "RSA_S1R2_sAchievesGoal  0.327869  0.459016  0.786885        0.083302   \n",
       "RSA_S1R3_sAchievesGoal  0.344262  0.459016  0.803279        0.084311   \n",
       "RSA_S2R0_sAchievesGoal  0.295082  0.442623  0.737705        0.080931   \n",
       "RSA_S2R1_sAchievesGoal  0.278689  0.524590  0.803279        0.079560   \n",
       "RSA_S2R2_sAchievesGoal  0.286885  0.565574  0.852459        0.080262   \n",
       "RSA_S2R3_sAchievesGoal  0.278689  0.540984  0.819672        0.079560   \n",
       "RSA_S3R0_sAchievesGoal  0.245902  0.491803  0.737705        0.076414   \n",
       "RSA_S3R1_sAchievesGoal  0.270492  0.557377  0.827869        0.078826   \n",
       "RSA_S3R2_sAchievesGoal  0.245902  0.614754  0.860656        0.076414   \n",
       "RSA_S3R3_sAchievesGoal  0.270492  0.590164  0.860656        0.078826   \n",
       "\n",
       "                        marginOfErrorR  \n",
       "RSA_S1R0_sAchievesGoal        0.087525  \n",
       "RSA_S1R1_sAchievesGoal        0.088295  \n",
       "RSA_S1R2_sAchievesGoal        0.088426  \n",
       "RSA_S1R3_sAchievesGoal        0.088426  \n",
       "RSA_S2R0_sAchievesGoal        0.088139  \n",
       "RSA_S2R1_sAchievesGoal        0.088618  \n",
       "RSA_S2R2_sAchievesGoal        0.087959  \n",
       "RSA_S2R3_sAchievesGoal        0.088426  \n",
       "RSA_S3R0_sAchievesGoal        0.088713  \n",
       "RSA_S3R1_sAchievesGoal        0.088139  \n",
       "RSA_S3R2_sAchievesGoal        0.086357  \n",
       "RSA_S3R3_sAchievesGoal        0.087271  "
      ]
     },
     "execution_count": 10,
     "metadata": {},
     "output_type": "execute_result"
    }
   ],
   "source": [
    "rsaAcc"
   ]
  },
  {
   "cell_type": "code",
   "execution_count": 11,
   "metadata": {
    "ExecuteTime": {
     "end_time": "2020-07-13T19:57:52.168358Z",
     "start_time": "2020-07-13T19:57:52.154789Z"
    }
   },
   "outputs": [
    {
     "data": {
      "text/html": [
       "<div>\n",
       "<style scoped>\n",
       "    .dataframe tbody tr th:only-of-type {\n",
       "        vertical-align: middle;\n",
       "    }\n",
       "\n",
       "    .dataframe tbody tr th {\n",
       "        vertical-align: top;\n",
       "    }\n",
       "\n",
       "    .dataframe thead th {\n",
       "        text-align: right;\n",
       "    }\n",
       "</style>\n",
       "<table border=\"1\" class=\"dataframe\">\n",
       "  <thead>\n",
       "    <tr style=\"text-align: right;\">\n",
       "      <th></th>\n",
       "      <th>signaler</th>\n",
       "      <th>receiver</th>\n",
       "      <th>total</th>\n",
       "      <th>marginOfErrorS</th>\n",
       "      <th>marginOfErrorR</th>\n",
       "    </tr>\n",
       "  </thead>\n",
       "  <tbody>\n",
       "    <tr>\n",
       "      <th>IW_S1R0_sAchievesGoal</th>\n",
       "      <td>0.131148</td>\n",
       "      <td>0.737705</td>\n",
       "      <td>0.868852</td>\n",
       "      <td>0.059900</td>\n",
       "      <td>0.078057</td>\n",
       "    </tr>\n",
       "    <tr>\n",
       "      <th>IW_S1R1_sAchievesGoal</th>\n",
       "      <td>0.114754</td>\n",
       "      <td>0.827869</td>\n",
       "      <td>0.942623</td>\n",
       "      <td>0.056558</td>\n",
       "      <td>0.066986</td>\n",
       "    </tr>\n",
       "    <tr>\n",
       "      <th>IW_S1R2_sAchievesGoal</th>\n",
       "      <td>0.114754</td>\n",
       "      <td>0.827869</td>\n",
       "      <td>0.942623</td>\n",
       "      <td>0.056558</td>\n",
       "      <td>0.066986</td>\n",
       "    </tr>\n",
       "    <tr>\n",
       "      <th>IW_S2R0_sAchievesGoal</th>\n",
       "      <td>0.040984</td>\n",
       "      <td>0.713115</td>\n",
       "      <td>0.754098</td>\n",
       "      <td>0.035180</td>\n",
       "      <td>0.080262</td>\n",
       "    </tr>\n",
       "    <tr>\n",
       "      <th>IW_S2R1_sAchievesGoal</th>\n",
       "      <td>0.032787</td>\n",
       "      <td>0.918033</td>\n",
       "      <td>0.950820</td>\n",
       "      <td>0.031600</td>\n",
       "      <td>0.048677</td>\n",
       "    </tr>\n",
       "    <tr>\n",
       "      <th>IW_S2R2_sAchievesGoal</th>\n",
       "      <td>0.024590</td>\n",
       "      <td>0.950820</td>\n",
       "      <td>0.975410</td>\n",
       "      <td>0.027482</td>\n",
       "      <td>0.038373</td>\n",
       "    </tr>\n",
       "  </tbody>\n",
       "</table>\n",
       "</div>"
      ],
      "text/plain": [
       "                       signaler  receiver     total  marginOfErrorS  \\\n",
       "IW_S1R0_sAchievesGoal  0.131148  0.737705  0.868852        0.059900   \n",
       "IW_S1R1_sAchievesGoal  0.114754  0.827869  0.942623        0.056558   \n",
       "IW_S1R2_sAchievesGoal  0.114754  0.827869  0.942623        0.056558   \n",
       "IW_S2R0_sAchievesGoal  0.040984  0.713115  0.754098        0.035180   \n",
       "IW_S2R1_sAchievesGoal  0.032787  0.918033  0.950820        0.031600   \n",
       "IW_S2R2_sAchievesGoal  0.024590  0.950820  0.975410        0.027482   \n",
       "\n",
       "                       marginOfErrorR  \n",
       "IW_S1R0_sAchievesGoal        0.078057  \n",
       "IW_S1R1_sAchievesGoal        0.066986  \n",
       "IW_S1R2_sAchievesGoal        0.066986  \n",
       "IW_S2R0_sAchievesGoal        0.080262  \n",
       "IW_S2R1_sAchievesGoal        0.048677  \n",
       "IW_S2R2_sAchievesGoal        0.038373  "
      ]
     },
     "execution_count": 11,
     "metadata": {},
     "output_type": "execute_result"
    }
   ],
   "source": [
    "iwAcc"
   ]
  },
  {
   "cell_type": "code",
   "execution_count": 12,
   "metadata": {
    "ExecuteTime": {
     "end_time": "2020-07-13T19:57:53.402289Z",
     "start_time": "2020-07-13T19:57:53.385980Z"
    },
    "scrolled": true
   },
   "outputs": [
    {
     "data": {
      "text/plain": [
       "RSA_S1R0_utility           32.010148\n",
       "RSA_S1R1_utility           39.059329\n",
       "RSA_S1R2_utility           36.122170\n",
       "RSA_S1R3_utility           41.889149\n",
       "RSA_S2R0_utility           28.087432\n",
       "RSA_S2R1_utility           46.885246\n",
       "RSA_S2R2_utility           57.238486\n",
       "RSA_S2R3_utility           50.316159\n",
       "RSA_S3R0_utility           27.291179\n",
       "RSA_S3R1_utility           51.284153\n",
       "RSA_S3R2_utility           59.875098\n",
       "RSA_S3R3_utility           55.517174\n",
       "CentralControl_utility    100.000000\n",
       "DIYSignaler_utility       -27.224824\n",
       "dtype: float64"
      ]
     },
     "execution_count": 12,
     "metadata": {},
     "output_type": "execute_result"
    }
   ],
   "source": [
    "meanUtilDifferenceRSA = getPercentFromOptimalUtilityDF(rsaDF).mean()\n",
    "meanUtilDifferenceRSA"
   ]
  },
  {
   "cell_type": "code",
   "execution_count": 13,
   "metadata": {
    "ExecuteTime": {
     "end_time": "2020-07-13T19:57:54.413117Z",
     "start_time": "2020-07-13T19:57:54.399567Z"
    }
   },
   "outputs": [
    {
     "data": {
      "text/plain": [
       "IW_S1R0_utility            69.478923\n",
       "IW_S1R1_utility            83.481655\n",
       "IW_S1R2_utility            83.850507\n",
       "IW_S2R0_utility            47.320453\n",
       "IW_S2R1_utility            89.836066\n",
       "IW_S2R2_utility            95.450820\n",
       "CentralControl_utility    100.000000\n",
       "DIYSignaler_utility       -27.224824\n",
       "dtype: float64"
      ]
     },
     "execution_count": 13,
     "metadata": {},
     "output_type": "execute_result"
    }
   ],
   "source": [
    "meanUtilDifferenceIW = getPercentFromOptimalUtilityDF(iwDF).mean()\n",
    "meanUtilDifferenceIW"
   ]
  },
  {
   "cell_type": "markdown",
   "metadata": {},
   "source": [
    "## Format Utilities"
   ]
  },
  {
   "cell_type": "code",
   "execution_count": 14,
   "metadata": {
    "ExecuteTime": {
     "end_time": "2020-07-13T19:57:57.625111Z",
     "start_time": "2020-07-13T19:57:57.616113Z"
    }
   },
   "outputs": [],
   "source": [
    "x = list(meanUtilDifferenceRSA.loc['RSA_S1R0_utility':'RSA_S3R3_utility'])\n",
    "y = x[-4:] + x[-8:-4]+ x[-12:-8]\n",
    "utilGrid_RSA = np.array(y).reshape(3,4)\n",
    "\n",
    "\n",
    "\n",
    "##### FIX THIS\n",
    "a = list(meanUtilDifferenceIW.loc['IW_S1R0_utility':'IW_S2R2_utility'])\n",
    "b = x[-3:] + x[-6:-3]\n",
    "utilGrid_IW = np.array(b).reshape(2,3)"
   ]
  },
  {
   "cell_type": "code",
   "execution_count": 15,
   "metadata": {
    "ExecuteTime": {
     "end_time": "2020-07-13T19:57:58.208995Z",
     "start_time": "2020-07-13T19:57:58.199901Z"
    }
   },
   "outputs": [
    {
     "data": {
      "text/plain": [
       "array([[27.29117877, 51.28415301, 59.87509758, 55.51717408],\n",
       "       [28.08743169, 46.8852459 , 57.23848556, 50.31615925],\n",
       "       [32.01014832, 39.05932865, 36.12217018, 41.8891491 ]])"
      ]
     },
     "execution_count": 15,
     "metadata": {},
     "output_type": "execute_result"
    }
   ],
   "source": [
    "utilGrid_RSA"
   ]
  },
  {
   "cell_type": "code",
   "execution_count": 16,
   "metadata": {
    "ExecuteTime": {
     "end_time": "2020-07-13T19:58:00.476947Z",
     "start_time": "2020-07-13T19:58:00.467884Z"
    }
   },
   "outputs": [
    {
     "data": {
      "text/plain": [
       "array([[51.28415301, 59.87509758, 55.51717408],\n",
       "       [57.23848556, 50.31615925, 27.29117877]])"
      ]
     },
     "execution_count": 16,
     "metadata": {},
     "output_type": "execute_result"
    }
   ],
   "source": [
    "utilGrid_IW"
   ]
  },
  {
   "cell_type": "code",
   "execution_count": 18,
   "metadata": {
    "ExecuteTime": {
     "end_time": "2020-07-11T00:59:51.645927Z",
     "start_time": "2020-07-11T00:59:51.333713Z"
    }
   },
   "outputs": [],
   "source": [
    "import seaborn as sns"
   ]
  },
  {
   "cell_type": "code",
   "execution_count": 19,
   "metadata": {
    "ExecuteTime": {
     "end_time": "2020-07-11T00:59:52.014644Z",
     "start_time": "2020-07-11T00:59:51.749754Z"
    }
   },
   "outputs": [
    {
     "data": {
      "text/plain": [
       "Text(33.0, 0.5, 'Signaler')"
      ]
     },
     "execution_count": 19,
     "metadata": {},
     "output_type": "execute_result"
    },
    {
     "data": {
      "image/png": "[encoded data removed]",
      "text/plain": [
       "<Figure size 432x288 with 2 Axes>"
      ]
     },
     "metadata": {
      "needs_background": "light"
     },
     "output_type": "display_data"
    }
   ],
   "source": [
    "ax = sns.heatmap(utilGrid_RSA, linewidths = .05, annot = True,xticklabels = [0, 1, 2, 3],yticklabels = [3, 2,1] )\n",
    "ax.set_xlabel(\"Receiver\")\n",
    "ax.set_ylabel(\"Signaler\")"
   ]
  },
  {
   "cell_type": "code",
   "execution_count": 21,
   "metadata": {
    "ExecuteTime": {
     "end_time": "2020-07-11T01:01:04.178082Z",
     "start_time": "2020-07-11T01:01:03.996938Z"
    }
   },
   "outputs": [
    {
     "data": {
      "text/plain": [
       "Text(33.0, 0.5, 'Signaler')"
      ]
     },
     "execution_count": 21,
     "metadata": {},
     "output_type": "execute_result"
    },
    {
     "data": {
      "image/png": "[encoded data removed]",
      "text/plain": [
       "<Figure size 432x288 with 2 Axes>"
      ]
     },
     "metadata": {
      "needs_background": "light"
     },
     "output_type": "display_data"
    }
   ],
   "source": [
    "axIW = sns.heatmap(utilGrid_IW, linewidths = .05, annot = True, xticklabels = [0, 1, 2],yticklabels = [2,1])\n",
    "axIW.set_xlabel(\"Receiver\")\n",
    "axIW.set_ylabel(\"Signaler\")"
   ]
  },
  {
   "cell_type": "code",
   "execution_count": 49,
   "metadata": {
    "ExecuteTime": {
     "end_time": "2020-07-13T21:17:53.531554Z",
     "start_time": "2020-07-13T21:17:53.516301Z"
    }
   },
   "outputs": [],
   "source": [
    "import numpy as np\n",
    "import matplotlib as mpl\n",
    "import matplotlib.pyplot as plt\n",
    "\n",
    "\n",
    "def heatmap(data, row_labels, col_labels, ax=None,\n",
    "            cbar_kw={}, cbarlabel=\"\", **kwargs):\n",
    "    \"\"\"\n",
    "    Create a heatmap from a numpy array and two lists of labels.\n",
    "\n",
    "    Parameters\n",
    "    ----------\n",
    "    data\n",
    "        A 2D numpy array of shape (N, M).\n",
    "    row_labels\n",
    "        A list or array of length N with the labels for the rows.\n",
    "    col_labels\n",
    "        A list or array of length M with the labels for the columns.\n",
    "    ax\n",
    "        A `matplotlib.axes.Axes` instance to which the heatmap is plotted.  If\n",
    "        not provided, use current axes or create a new one.  Optional.\n",
    "    cbar_kw\n",
    "        A dictionary with arguments to `matplotlib.Figure.colorbar`.  Optional.\n",
    "    cbarlabel\n",
    "        The label for the colorbar.  Optional.\n",
    "    **kwargs\n",
    "        All other arguments are forwarded to `imshow`.\n",
    "    \"\"\"\n",
    "\n",
    "    if not ax:\n",
    "        ax = plt.gca()\n",
    "        \n",
    "    #Custom Color mapping\n",
    "    im.set_clim(vmin=0,vmax=100)\n",
    "    colors = [(177, 13, 47), (100, 100, 100), (145, 175, 236)]  # R -> G -> B\n",
    "    cm = LinearSegmentedColormap.from_list('IWred_cmap', colors, N=100)\n",
    "\n",
    "    # Plot the heatmap\n",
    "    im = ax.imshow(data, interpolation='nearest', cmap=cm, **kwargs)\n",
    "\n",
    "    # Create colorbar    \n",
    "    cbar = ax.figure.colorbar(im, ax=ax, drawedges = False, **cbar_kw)\n",
    "    \n",
    "    #cbar = mpl.colorbar.ColorbarBase(ax, cmap=\"YlGn\", norm=mpl.colors.Normalize(vmin=0, vmax=100))\n",
    "    \n",
    "    cbar.ax.set_ylabel(cbarlabel, rotation=-90, va=\"bottom\")\n",
    "\n",
    "    # We want to show all ticks...\n",
    "    ax.set_xticks(np.arange(data.shape[1]))\n",
    "    ax.set_yticks(np.arange(data.shape[0]))\n",
    "    # ... and label them with the respective list entries.\n",
    "    ax.set_xticklabels(col_labels)\n",
    "    ax.set_yticklabels(row_labels)\n",
    "\n",
    "\n",
    "    # Rotate the tick labels and set their alignment.\n",
    "    #plt.setp(ax.get_xticklabels(), rotation=-30, ha=\"right\",\n",
    "    #         rotation_mode=\"anchor\")\n",
    "\n",
    "    # Turn spines off and create white grid.\n",
    "    for edge, spine in ax.spines.items():\n",
    "        spine.set_visible(False)\n",
    "\n",
    "    ax.set_xticks(np.arange(data.shape[1]+1)-.5, minor=True)\n",
    "    ax.set_yticks(np.arange(data.shape[0]+1)-.5, minor=True)\n",
    "    ax.grid(which=\"minor\", color=\"w\", linestyle='-', linewidth=3)\n",
    "    ax.tick_params(which=\"minor\", bottom=False, left=False)\n",
    "    \n",
    "    # Label X and Y axes\n",
    "    ax.set_xlabel(\"Receiver\")\n",
    "    ax.set_ylabel(\"Signaler\")\n",
    "\n",
    "    return im, cbar\n",
    "\n",
    "\n",
    "def annotate_heatmap(im, data=None, valfmt=\"{x:.2f}\",\n",
    "                     textcolors=[\"black\", \"white\"],\n",
    "                     threshold=None, **textkw):\n",
    "    \"\"\"\n",
    "    A function to annotate a heatmap.\n",
    "\n",
    "    Parameters\n",
    "    ----------\n",
    "    im\n",
    "        The AxesImage to be labeled.\n",
    "    data\n",
    "        Data used to annotate.  If None, the image's data is used.  Optional.\n",
    "    valfmt\n",
    "        The format of the annotations inside the heatmap.  This should either\n",
    "        use the string format method, e.g. \"$ {x:.2f}\", or be a\n",
    "        `matplotlib.ticker.Formatter`.  Optional.\n",
    "    textcolors\n",
    "        A list or array of two color specifications.  The first is used for\n",
    "        values below a threshold, the second for those above.  Optional.\n",
    "    threshold\n",
    "        Value in data units according to which the colors from textcolors are\n",
    "        applied.  If None (the default) uses the middle of the colormap as\n",
    "        separation.  Optional.\n",
    "    **kwargs\n",
    "        All other arguments are forwarded to each call to `text` used to create\n",
    "        the text labels.\n",
    "    \"\"\"\n",
    "\n",
    "    if not isinstance(data, (list, np.ndarray)):\n",
    "        data = im.get_array()\n",
    "\n",
    "    # Normalize the threshold to the images color range.\n",
    "    if threshold is not None:\n",
    "        threshold = im.norm(threshold)\n",
    "    else:\n",
    "        threshold = im.norm(data.max())/2.\n",
    "\n",
    "    # Set default alignment to center, but allow it to be\n",
    "    # overwritten by textkw.\n",
    "    kw = dict(horizontalalignment=\"center\",\n",
    "              verticalalignment=\"center\")\n",
    "    kw.update(textkw)\n",
    "\n",
    "    # Get the formatter in case a string is supplied\n",
    "    if isinstance(valfmt, str):\n",
    "        valfmt = matplotlib.ticker.StrMethodFormatter(valfmt)\n",
    "\n",
    "    # Loop over the data and create a `Text` for each \"pixel\".\n",
    "    # Change the text's color depending on the data.\n",
    "    texts = []\n",
    "    for i in range(data.shape[0]):\n",
    "        for j in range(data.shape[1]):\n",
    "            kw.update(color=textcolors[int(im.norm(data[i, j]) > threshold)])\n",
    "            text = im.axes.text(j, i, valfmt(data[i, j], None), **kw)\n",
    "            texts.append(text)\n",
    "\n",
    "    return texts"
   ]
  },
  {
   "cell_type": "code",
   "execution_count": 50,
   "metadata": {
    "ExecuteTime": {
     "end_time": "2020-07-13T21:17:54.154867Z",
     "start_time": "2020-07-13T21:17:54.145819Z"
    }
   },
   "outputs": [
    {
     "data": {
      "text/plain": [
       "'#b10d2f'"
      ]
     },
     "execution_count": 50,
     "metadata": {},
     "output_type": "execute_result"
    }
   ],
   "source": [
    "'#b10d2f'"
   ]
  },
  {
   "cell_type": "code",
   "execution_count": 51,
   "metadata": {
    "ExecuteTime": {
     "end_time": "2020-07-13T21:17:54.813051Z",
     "start_time": "2020-07-13T21:17:54.660480Z"
    }
   },
   "outputs": [
    {
     "data": {
      "image/png": "[encoded data removed]",
      "text/plain": [
       "<Figure size 432x288 with 2 Axes>"
      ]
     },
     "metadata": {
      "needs_background": "light"
     },
     "output_type": "display_data"
    }
   ],
   "source": [
    "fig, ax = plt.subplots()\n",
    "\n",
    "im, cbar = heatmap(utilGrid_RSA, [3,2,1], [0,1,2,3], ax=ax,\n",
    "                   cmap=\"YlGn\", cbarlabel=\"Utility Pct From Optimal\")\n",
    "texts = annotate_heatmap(im, valfmt=\"{x:.1f} \", threshold= 50)\n",
    "\n",
    "fig.tight_layout()\n",
    "plt.show()"
   ]
  },
  {
   "cell_type": "code",
   "execution_count": null,
   "metadata": {},
   "outputs": [],
   "source": [
    "colors = [(1, 0, 0), (0, 1, 0), (0, 0, 1)]  # R -> G -> B\n",
    "n_bins = [3, 6, 10, 100]  # Discretizes the interpolation into bins\n",
    "cmap_name = 'my_list'\n",
    "fig, axs = plt.subplots(2, 2, figsize=(6, 9))\n",
    "fig.subplots_adjust(left=0.02, bottom=0.06, right=0.95, top=0.94, wspace=0.05)\n",
    "for n_bin, ax in zip(n_bins, axs.ravel()):\n",
    "    # Create the colormap\n",
    "    cm = LinearSegmentedColormap.from_list(cmap_name, colors, N=n_bin)\n",
    "    # Fewer bins will result in \"coarser\" colomap interpolation\n",
    "    im = ax.imshow(Z, interpolation='nearest', origin='lower', cmap=cm)\n",
    "    ax.set_title(\"N bins: %s\" % n_bin)\n",
    "    fig.colorbar(im, ax=ax)"
   ]
  }
 ],
 "metadata": {
  "kernelspec": {
   "display_name": "Python 3",
   "language": "python",
   "name": "python3"
  },
  "language_info": {
   "codemirror_mode": {
    "name": "ipython",
    "version": 3
   },
   "file_extension": ".py",
   "mimetype": "text/x-python",
   "name": "python",
   "nbconvert_exporter": "python",
   "pygments_lexer": "ipython3",
   "version": "3.5.6"
  },
  "toc": {
   "base_numbering": 1,
   "nav_menu": {},
   "number_sections": true,
   "sideBar": true,
   "skip_h1_title": false,
   "title_cell": "Table of Contents",
   "title_sidebar": "Contents",
   "toc_cell": false,
   "toc_position": {},
   "toc_section_display": true,
   "toc_window_display": false
  }
 },
 "nbformat": 4,
 "nbformat_minor": 2
}
