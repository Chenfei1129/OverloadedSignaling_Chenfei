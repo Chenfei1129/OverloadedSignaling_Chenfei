{
 "cells": [
  {
   "cell_type": "code",
   "execution_count": 2,
   "metadata": {
    "ExecuteTime": {
     "end_time": "2020-08-02T20:13:02.801167Z",
     "start_time": "2020-08-02T20:13:02.627243Z"
    }
   },
   "outputs": [],
   "source": [
    "import sys\n",
    "import numpy as np\n",
    "import pandas as pd\n",
    "sys.path.append('/home/stacyste/Documents/Research/OverloadedSignaling/Simulations')"
   ]
  },
  {
   "cell_type": "code",
   "execution_count": 3,
   "metadata": {
    "ExecuteTime": {
     "end_time": "2020-08-02T20:13:02.923035Z",
     "start_time": "2020-08-02T20:13:02.914586Z"
    }
   },
   "outputs": [],
   "source": [
    "%load_ext autoreload\n",
    "%autoreload 2"
   ]
  },
  {
   "cell_type": "markdown",
   "metadata": {},
   "source": [
    "# Read in and Combine Data"
   ]
  },
  {
   "cell_type": "code",
   "execution_count": 62,
   "metadata": {
    "ExecuteTime": {
     "end_time": "2020-08-02T20:59:29.988506Z",
     "start_time": "2020-08-02T20:59:29.955929Z"
    }
   },
   "outputs": [],
   "source": [
    "obsNearR = pd.read_pickle('./simulation_recursion_obstacleHNearRec_SQuit_a4_r8_seed987_6ItemFullVocab_300Runs.pkl')\n",
    "obsNearS = pd.read_pickle('./simulation_recursion_obstacleHNearSig_SQuit_a4_r8_seed2802_6ItemFullVocab_300Runs.pkl')\n",
    "\n",
    "\n",
    "recB_CommOptimal = obsNearR.loc[obsNearR['CentralControl_actor'] == 'receiver']\n",
    "sigB_CommOptimal = obsNearS.loc[obsNearS['CentralControl_actor'] == 'receiver']\n",
    "sigB_CommOptimal = sigB_CommOptimal.drop(297)"
   ]
  },
  {
   "cell_type": "code",
   "execution_count": 84,
   "metadata": {
    "ExecuteTime": {
     "end_time": "2020-08-02T21:40:20.395300Z",
     "start_time": "2020-08-02T21:40:20.379867Z"
    }
   },
   "outputs": [
    {
     "data": {
      "text/plain": [
       "(180, 82)"
      ]
     },
     "execution_count": 84,
     "metadata": {},
     "output_type": "execute_result"
    }
   ],
   "source": [
    "sigB_CommOptimal.shape"
   ]
  },
  {
   "cell_type": "code",
   "execution_count": 85,
   "metadata": {
    "ExecuteTime": {
     "end_time": "2020-08-02T21:40:26.579770Z",
     "start_time": "2020-08-02T21:40:26.568215Z"
    }
   },
   "outputs": [
    {
     "data": {
      "text/plain": [
       "(137, 82)"
      ]
     },
     "execution_count": 85,
     "metadata": {},
     "output_type": "execute_result"
    }
   ],
   "source": [
    "recB_CommOptimal.shape"
   ]
  },
  {
   "cell_type": "code",
   "execution_count": 64,
   "metadata": {
    "ExecuteTime": {
     "end_time": "2020-08-02T20:59:44.886452Z",
     "start_time": "2020-08-02T20:59:44.865300Z"
    }
   },
   "outputs": [],
   "source": [
    "import numpy as np\n",
    "import matplotlib as mpl\n",
    "import matplotlib.pyplot as plt\n",
    "\n",
    "\n",
    "def heatmap(data, row_labels, col_labels, ax=None,\n",
    "            cbar_kw={}, cbarlabel=\"\", **kwargs):\n",
    "\n",
    "    if not ax:\n",
    "        ax = plt.gca()\n",
    "        \n",
    "    #Custom Color mapping\n",
    "    #colors = [(177, 13, 47), (100, 100, 100), (145, 175, 236)]  # R -> G -> B\n",
    "    #cm = mpl.colors.LinearSegmentedColormap.from_list('IWred_cmap', colors, N=100)\n",
    "\n",
    "    # Plot the heatmap\n",
    "    im = ax.imshow(data, interpolation='nearest', cmap='coolwarm', **kwargs)\n",
    "\n",
    "    # Create colorbar \n",
    "    #im.set_clim(vmin=20,vmax=100)\n",
    "    im.set_clim(vmin=20,vmax=100)\n",
    "    cbar = ax.figure.colorbar(im, ax=ax, drawedges = False, **cbar_kw)\n",
    "    \n",
    "    #cbar = mpl.colorbar.ColorbarBase(ax, cmap=\"YlGn\", norm=mpl.colors.Normalize(vmin=0, vmax=100))\n",
    "    \n",
    "    cbar.ax.set_ylabel(cbarlabel, rotation=-90, va=\"bottom\")\n",
    "\n",
    "    # We want to show all ticks...\n",
    "    ax.set_xticks(np.arange(data.shape[1]))\n",
    "    ax.set_yticks(np.arange(data.shape[0]))\n",
    "    # ... and label them with the respective list entries.\n",
    "    ax.set_xticklabels(col_labels)\n",
    "    ax.set_yticklabels(row_labels)\n",
    "\n",
    "\n",
    "    # Rotate the tick labels and set their alignment.\n",
    "    #plt.setp(ax.get_xticklabels(), rotation=-30, ha=\"right\",\n",
    "    #         rotation_mode=\"anchor\")\n",
    "\n",
    "    # Turn spines off and create white grid.\n",
    "    for edge, spine in ax.spines.items():\n",
    "        spine.set_visible(False)\n",
    "\n",
    "    ax.set_xticks(np.arange(data.shape[1]+1)-.5, minor=True)\n",
    "    ax.set_yticks(np.arange(data.shape[0]+1)-.5, minor=True)\n",
    "    ax.grid(which=\"minor\", color=\"w\", linestyle='-', linewidth=3)\n",
    "    ax.tick_params(which=\"minor\", bottom=False, left=False)\n",
    "    \n",
    "    # Label X and Y axes\n",
    "    ax.set_xlabel(\"Receiver\")\n",
    "    ax.set_ylabel(\"Signaler\")\n",
    "\n",
    "    return im, cbar\n",
    "\n",
    "\n",
    "def annotate_heatmap(im, data=None, valfmt=\"{x:.2f}\",\n",
    "                     textcolors=[\"black\", \"white\"],\n",
    "                     threshold=None, **textkw):\n",
    "\n",
    "    if not isinstance(data, (list, np.ndarray)):\n",
    "        data = im.get_array()\n",
    "\n",
    "    # Normalize the threshold to the images color range.\n",
    "    if threshold is not None:\n",
    "        threshold = im.norm(threshold)\n",
    "    else:\n",
    "        threshold = im.norm(data.max())/2.\n",
    "\n",
    "    # Set default alignment to center, but allow it to be\n",
    "    # overwritten by textkw.\n",
    "    kw = dict(horizontalalignment=\"center\",\n",
    "              verticalalignment=\"center\")\n",
    "    kw.update(textkw)\n",
    "\n",
    "    # Get the formatter in case a string is supplied\n",
    "    if isinstance(valfmt, str):\n",
    "        valfmt = mpl.ticker.StrMethodFormatter(valfmt)\n",
    "\n",
    "    # Loop over the data and create a `Text` for each \"pixel\".\n",
    "    # Change the text's color depending on the data.\n",
    "    texts = []\n",
    "    for i in range(data.shape[0]):\n",
    "        for j in range(data.shape[1]):\n",
    "            #getThreshold = lambda dt: textcolors[int(im.norm(data[i, j]) > threshold)]\n",
    "            kw.update(color=textcolors[int(im.norm(data[i, j]) > threshold)])\n",
    "            text = im.axes.text(j, i, valfmt(data[i, j], None), **kw)\n",
    "            texts.append(text)\n",
    "\n",
    "    return texts"
   ]
  },
  {
   "cell_type": "markdown",
   "metadata": {},
   "source": [
    "# Specific Examples to Look at"
   ]
  },
  {
   "cell_type": "code",
   "execution_count": 65,
   "metadata": {
    "ExecuteTime": {
     "end_time": "2020-08-02T20:59:45.738689Z",
     "start_time": "2020-08-02T20:59:45.720581Z"
    }
   },
   "outputs": [
    {
     "data": {
      "text/plain": [
       "Int64Index([  0,   1,   8,  13,  23,  25,  26,  36,  43,  44,  55,  57,  59,\n",
       "             75,  77,  81,  84,  86, 109, 129, 158, 163, 166, 184, 189, 204,\n",
       "            206, 211, 212, 213, 222, 224, 225, 235, 241, 262, 269, 272, 274,\n",
       "            276, 285, 288],\n",
       "           dtype='int64')"
      ]
     },
     "execution_count": 65,
     "metadata": {},
     "output_type": "execute_result"
    }
   ],
   "source": [
    "sigB_CommOptimal.loc[(sigB_CommOptimal['IW_S1R0_rAchievesGoal']==True) & (sigB_CommOptimal['RSA_S2R2_sChoice'] == 'quit')].index"
   ]
  },
  {
   "cell_type": "code",
   "execution_count": 66,
   "metadata": {
    "ExecuteTime": {
     "end_time": "2020-08-02T20:59:46.046245Z",
     "start_time": "2020-08-02T20:59:46.028341Z"
    }
   },
   "outputs": [],
   "source": [
    "sys.path.append('/home/stacyste/Documents/Research/OverloadedSignaling/Environments/Experiment/')\n",
    "from visualizations_Experiment import visualizeExperimentTrial"
   ]
  },
  {
   "cell_type": "code",
   "execution_count": null,
   "metadata": {},
   "outputs": [],
   "source": [
    "#25"
   ]
  },
  {
   "cell_type": "code",
   "execution_count": 40,
   "metadata": {
    "ExecuteTime": {
     "end_time": "2020-08-02T20:31:28.326431Z",
     "start_time": "2020-08-02T20:31:28.045057Z"
    }
   },
   "outputs": [
    {
     "data": {
      "image/png": "[encoded data removed]",
      "text/plain": [
       "<Figure size 403.2x453.6 with 1 Axes>"
      ]
     },
     "metadata": {
      "needs_background": "light"
     },
     "output_type": "display_data"
    }
   ],
   "source": [
    "idxToViz = 43\n",
    "visualizeExperimentTrial((9,10), sigB_CommOptimal.loc[idxToViz]['signalerLocation'], \n",
    "                         sigB_CommOptimal.loc[idxToViz]['receiverLocation'], \n",
    "                         sigB_CommOptimal.loc[idxToViz]['signalSpace'],\n",
    "                         sigB_CommOptimal.loc[idxToViz]['targetDictionary'], \n",
    "                         barriers = [((3, 2), (0, 1)),\n",
    "                                     ((4, 2), (0, 1)),\n",
    "                                     ((5, 2), (0, 1)),\n",
    "                                     ((6, 2), (0, 1)),\n",
    "                                     ((7, 2), (0, 1)),\n",
    "                                     ((8, 2), (0, 1)),\n",
    "                                     ((3, 3), (0, -1)),\n",
    "                                     ((4, 3), (0, -1)),\n",
    "                                     ((5, 3), (0, -1)),\n",
    "                                     ((6, 3), (0, -1)),\n",
    "                                     ((7, 3), (0, -1)),\n",
    "                                     ((8, 3), (0, -1))],\n",
    "                         save=False, \n",
    "                         filename = './exptDemo.png')"
   ]
  },
  {
   "cell_type": "code",
   "execution_count": 37,
   "metadata": {
    "ExecuteTime": {
     "end_time": "2020-08-02T20:29:25.695775Z",
     "start_time": "2020-08-02T20:29:25.680114Z"
    }
   },
   "outputs": [
    {
     "data": {
      "text/plain": [
       "'green triangle'"
      ]
     },
     "execution_count": 37,
     "metadata": {},
     "output_type": "execute_result"
    }
   ],
   "source": [
    "sigB_CommOptimal.loc[idxToViz]['intention']"
   ]
  },
  {
   "cell_type": "markdown",
   "metadata": {},
   "source": [
    "## Barrier Set 2 (near receiver)"
   ]
  },
  {
   "cell_type": "code",
   "execution_count": 39,
   "metadata": {
    "ExecuteTime": {
     "end_time": "2020-08-02T20:30:21.577626Z",
     "start_time": "2020-08-02T20:30:21.564148Z"
    }
   },
   "outputs": [
    {
     "data": {
      "text/plain": [
       "Int64Index([  0,   3,  11,  20,  32,  39,  44,  49,  58,  59,  72,  81,  84,\n",
       "             85,  88,  92, 100, 104, 123, 126, 129, 131, 136, 141, 142, 144,\n",
       "            158, 161, 172, 173, 180, 198, 209, 212, 219, 237, 244, 252, 255,\n",
       "            264, 293, 296],\n",
       "           dtype='int64')"
      ]
     },
     "execution_count": 39,
     "metadata": {},
     "output_type": "execute_result"
    }
   ],
   "source": [
    "recB_CommOptimal.loc[(recB_CommOptimal['IW_S1R0_rAchievesGoal']==True) & (recB_CommOptimal['RSA_S2R2_sChoice'] == 'quit')].index"
   ]
  },
  {
   "cell_type": "code",
   "execution_count": 43,
   "metadata": {
    "ExecuteTime": {
     "end_time": "2020-08-02T20:32:28.565646Z",
     "start_time": "2020-08-02T20:32:28.323659Z"
    }
   },
   "outputs": [
    {
     "data": {
      "image/png": "[encoded data removed]",
      "text/plain": [
       "<Figure size 403.2x453.6 with 1 Axes>"
      ]
     },
     "metadata": {
      "needs_background": "light"
     },
     "output_type": "display_data"
    }
   ],
   "source": [
    "idxToViz = 3\n",
    "visualizeExperimentTrial((9,10), recB_CommOptimal.loc[idxToViz]['signalerLocation'], \n",
    "                         recB_CommOptimal.loc[idxToViz]['receiverLocation'], \n",
    "                         recB_CommOptimal.loc[idxToViz]['signalSpace'],\n",
    "                         recB_CommOptimal.loc[idxToViz]['targetDictionary'], \n",
    "                         barriers = [((3, 5), (0, 1)),\n",
    "                                     ((4, 5), (0, 1)),\n",
    "                                     ((5, 5), (0, 1)),\n",
    "                                     ((6, 5), (0, 1)),\n",
    "                                     ((7, 5), (0, 1)),\n",
    "                                     ((8, 5), (0, 1)),\n",
    "                                     ((3, 6), (0, -1)),\n",
    "                                     ((4, 6), (0, -1)),\n",
    "                                     ((5, 6), (0, -1)),\n",
    "                                     ((6, 6), (0, -1)),\n",
    "                                     ((7, 6), (0, -1)),\n",
    "                                     ((8, 6), (0, -1))],\n",
    "                         save=False, \n",
    "                         filename = './exptDemo.png')"
   ]
  },
  {
   "cell_type": "code",
   "execution_count": 44,
   "metadata": {
    "ExecuteTime": {
     "end_time": "2020-08-02T20:32:28.714459Z",
     "start_time": "2020-08-02T20:32:28.697118Z"
    }
   },
   "outputs": [
    {
     "data": {
      "text/plain": [
       "'green triangle'"
      ]
     },
     "execution_count": 44,
     "metadata": {},
     "output_type": "execute_result"
    }
   ],
   "source": [
    "recB_CommOptimal.loc[idxToViz]['intention']"
   ]
  },
  {
   "cell_type": "markdown",
   "metadata": {},
   "source": [
    "# Calculate Metrics"
   ]
  },
  {
   "cell_type": "code",
   "execution_count": 67,
   "metadata": {
    "ExecuteTime": {
     "end_time": "2020-08-02T20:59:50.692834Z",
     "start_time": "2020-08-02T20:59:50.677626Z"
    }
   },
   "outputs": [],
   "source": [
    "from visualizationsRE import getPercentFromOptimalUtilityDF, getProportionTargetReached"
   ]
  },
  {
   "cell_type": "code",
   "execution_count": 68,
   "metadata": {
    "ExecuteTime": {
     "end_time": "2020-08-02T20:59:51.142637Z",
     "start_time": "2020-08-02T20:59:51.016297Z"
    }
   },
   "outputs": [],
   "source": [
    "recB_targetReached = getProportionTargetReached(recB_CommOptimal)\n",
    "sigB_targetReached = getProportionTargetReached(sigB_CommOptimal)"
   ]
  },
  {
   "cell_type": "code",
   "execution_count": 69,
   "metadata": {
    "ExecuteTime": {
     "end_time": "2020-08-02T20:59:51.395714Z",
     "start_time": "2020-08-02T20:59:51.370582Z"
    },
    "scrolled": false
   },
   "outputs": [
    {
     "data": {
      "text/html": [
       "<div>\n",
       "<style scoped>\n",
       "    .dataframe tbody tr th:only-of-type {\n",
       "        vertical-align: middle;\n",
       "    }\n",
       "\n",
       "    .dataframe tbody tr th {\n",
       "        vertical-align: top;\n",
       "    }\n",
       "\n",
       "    .dataframe thead th {\n",
       "        text-align: right;\n",
       "    }\n",
       "</style>\n",
       "<table border=\"1\" class=\"dataframe\">\n",
       "  <thead>\n",
       "    <tr style=\"text-align: right;\">\n",
       "      <th></th>\n",
       "      <th>signaler</th>\n",
       "      <th>receiver</th>\n",
       "      <th>quit</th>\n",
       "      <th>total</th>\n",
       "      <th>receiver failure</th>\n",
       "      <th>marginOfErrorS</th>\n",
       "      <th>marginOfErrorR</th>\n",
       "      <th>marginOfErrorQ</th>\n",
       "      <th>marginOfErrorRF</th>\n",
       "      <th>marginOfErrorT</th>\n",
       "    </tr>\n",
       "  </thead>\n",
       "  <tbody>\n",
       "    <tr>\n",
       "      <th>IW_S1R0_sAchievesGoal</th>\n",
       "      <td>0.021898</td>\n",
       "      <td>0.839416</td>\n",
       "      <td>0.043796</td>\n",
       "      <td>0.861314</td>\n",
       "      <td>0.094891</td>\n",
       "      <td>0.024507</td>\n",
       "      <td>0.061480</td>\n",
       "      <td>0.034268</td>\n",
       "      <td>0.049075</td>\n",
       "      <td>0.057875</td>\n",
       "    </tr>\n",
       "    <tr>\n",
       "      <th>IW_S1R1_sAchievesGoal</th>\n",
       "      <td>0.029197</td>\n",
       "      <td>0.890511</td>\n",
       "      <td>0.051095</td>\n",
       "      <td>0.919708</td>\n",
       "      <td>0.029197</td>\n",
       "      <td>0.028192</td>\n",
       "      <td>0.052288</td>\n",
       "      <td>0.036872</td>\n",
       "      <td>0.028192</td>\n",
       "      <td>0.045505</td>\n",
       "    </tr>\n",
       "    <tr>\n",
       "      <th>IW_S1R2_sAchievesGoal</th>\n",
       "      <td>0.029197</td>\n",
       "      <td>0.890511</td>\n",
       "      <td>0.051095</td>\n",
       "      <td>0.919708</td>\n",
       "      <td>0.029197</td>\n",
       "      <td>0.028192</td>\n",
       "      <td>0.052288</td>\n",
       "      <td>0.036872</td>\n",
       "      <td>0.028192</td>\n",
       "      <td>0.045505</td>\n",
       "    </tr>\n",
       "    <tr>\n",
       "      <th>IW_S2R0_sAchievesGoal</th>\n",
       "      <td>0.000000</td>\n",
       "      <td>0.890511</td>\n",
       "      <td>0.007299</td>\n",
       "      <td>0.890511</td>\n",
       "      <td>0.102190</td>\n",
       "      <td>0.000000</td>\n",
       "      <td>0.052288</td>\n",
       "      <td>0.014254</td>\n",
       "      <td>0.050721</td>\n",
       "      <td>0.052288</td>\n",
       "    </tr>\n",
       "    <tr>\n",
       "      <th>IW_S2R1_sAchievesGoal</th>\n",
       "      <td>0.014599</td>\n",
       "      <td>0.963504</td>\n",
       "      <td>0.000000</td>\n",
       "      <td>0.978102</td>\n",
       "      <td>0.021898</td>\n",
       "      <td>0.020084</td>\n",
       "      <td>0.031401</td>\n",
       "      <td>0.000000</td>\n",
       "      <td>0.024507</td>\n",
       "      <td>0.024507</td>\n",
       "    </tr>\n",
       "    <tr>\n",
       "      <th>IW_S2R2_sAchievesGoal</th>\n",
       "      <td>0.000000</td>\n",
       "      <td>0.985401</td>\n",
       "      <td>0.007299</td>\n",
       "      <td>0.985401</td>\n",
       "      <td>0.007299</td>\n",
       "      <td>0.000000</td>\n",
       "      <td>0.020084</td>\n",
       "      <td>0.014254</td>\n",
       "      <td>0.014254</td>\n",
       "      <td>0.020084</td>\n",
       "    </tr>\n",
       "    <tr>\n",
       "      <th>RSA_S1R0_sAchievesGoal</th>\n",
       "      <td>0.102190</td>\n",
       "      <td>0.284672</td>\n",
       "      <td>0.474453</td>\n",
       "      <td>0.386861</td>\n",
       "      <td>0.138686</td>\n",
       "      <td>0.050721</td>\n",
       "      <td>0.075565</td>\n",
       "      <td>0.083618</td>\n",
       "      <td>0.057875</td>\n",
       "      <td>0.081555</td>\n",
       "    </tr>\n",
       "    <tr>\n",
       "      <th>RSA_S1R1_sAchievesGoal</th>\n",
       "      <td>0.116788</td>\n",
       "      <td>0.321168</td>\n",
       "      <td>0.430657</td>\n",
       "      <td>0.437956</td>\n",
       "      <td>0.131387</td>\n",
       "      <td>0.053781</td>\n",
       "      <td>0.078189</td>\n",
       "      <td>0.082918</td>\n",
       "      <td>0.056570</td>\n",
       "      <td>0.083080</td>\n",
       "    </tr>\n",
       "    <tr>\n",
       "      <th>RSA_S1R2_sAchievesGoal</th>\n",
       "      <td>0.109489</td>\n",
       "      <td>0.328467</td>\n",
       "      <td>0.474453</td>\n",
       "      <td>0.437956</td>\n",
       "      <td>0.087591</td>\n",
       "      <td>0.052288</td>\n",
       "      <td>0.078646</td>\n",
       "      <td>0.083618</td>\n",
       "      <td>0.047339</td>\n",
       "      <td>0.083080</td>\n",
       "    </tr>\n",
       "    <tr>\n",
       "      <th>RSA_S2R0_sAchievesGoal</th>\n",
       "      <td>0.087591</td>\n",
       "      <td>0.394161</td>\n",
       "      <td>0.313869</td>\n",
       "      <td>0.481752</td>\n",
       "      <td>0.204380</td>\n",
       "      <td>0.047339</td>\n",
       "      <td>0.081830</td>\n",
       "      <td>0.077709</td>\n",
       "      <td>0.067525</td>\n",
       "      <td>0.083671</td>\n",
       "    </tr>\n",
       "    <tr>\n",
       "      <th>RSA_S2R1_sAchievesGoal</th>\n",
       "      <td>0.102190</td>\n",
       "      <td>0.430657</td>\n",
       "      <td>0.321168</td>\n",
       "      <td>0.532847</td>\n",
       "      <td>0.145985</td>\n",
       "      <td>0.050721</td>\n",
       "      <td>0.082918</td>\n",
       "      <td>0.078189</td>\n",
       "      <td>0.059127</td>\n",
       "      <td>0.083546</td>\n",
       "    </tr>\n",
       "    <tr>\n",
       "      <th>RSA_S2R2_sAchievesGoal</th>\n",
       "      <td>0.109489</td>\n",
       "      <td>0.467153</td>\n",
       "      <td>0.328467</td>\n",
       "      <td>0.576642</td>\n",
       "      <td>0.094891</td>\n",
       "      <td>0.052288</td>\n",
       "      <td>0.083546</td>\n",
       "      <td>0.078646</td>\n",
       "      <td>0.049075</td>\n",
       "      <td>0.082738</td>\n",
       "    </tr>\n",
       "  </tbody>\n",
       "</table>\n",
       "</div>"
      ],
      "text/plain": [
       "                        signaler  receiver      quit     total  \\\n",
       "IW_S1R0_sAchievesGoal   0.021898  0.839416  0.043796  0.861314   \n",
       "IW_S1R1_sAchievesGoal   0.029197  0.890511  0.051095  0.919708   \n",
       "IW_S1R2_sAchievesGoal   0.029197  0.890511  0.051095  0.919708   \n",
       "IW_S2R0_sAchievesGoal   0.000000  0.890511  0.007299  0.890511   \n",
       "IW_S2R1_sAchievesGoal   0.014599  0.963504  0.000000  0.978102   \n",
       "IW_S2R2_sAchievesGoal   0.000000  0.985401  0.007299  0.985401   \n",
       "RSA_S1R0_sAchievesGoal  0.102190  0.284672  0.474453  0.386861   \n",
       "RSA_S1R1_sAchievesGoal  0.116788  0.321168  0.430657  0.437956   \n",
       "RSA_S1R2_sAchievesGoal  0.109489  0.328467  0.474453  0.437956   \n",
       "RSA_S2R0_sAchievesGoal  0.087591  0.394161  0.313869  0.481752   \n",
       "RSA_S2R1_sAchievesGoal  0.102190  0.430657  0.321168  0.532847   \n",
       "RSA_S2R2_sAchievesGoal  0.109489  0.467153  0.328467  0.576642   \n",
       "\n",
       "                        receiver failure  marginOfErrorS  marginOfErrorR  \\\n",
       "IW_S1R0_sAchievesGoal           0.094891        0.024507        0.061480   \n",
       "IW_S1R1_sAchievesGoal           0.029197        0.028192        0.052288   \n",
       "IW_S1R2_sAchievesGoal           0.029197        0.028192        0.052288   \n",
       "IW_S2R0_sAchievesGoal           0.102190        0.000000        0.052288   \n",
       "IW_S2R1_sAchievesGoal           0.021898        0.020084        0.031401   \n",
       "IW_S2R2_sAchievesGoal           0.007299        0.000000        0.020084   \n",
       "RSA_S1R0_sAchievesGoal          0.138686        0.050721        0.075565   \n",
       "RSA_S1R1_sAchievesGoal          0.131387        0.053781        0.078189   \n",
       "RSA_S1R2_sAchievesGoal          0.087591        0.052288        0.078646   \n",
       "RSA_S2R0_sAchievesGoal          0.204380        0.047339        0.081830   \n",
       "RSA_S2R1_sAchievesGoal          0.145985        0.050721        0.082918   \n",
       "RSA_S2R2_sAchievesGoal          0.094891        0.052288        0.083546   \n",
       "\n",
       "                        marginOfErrorQ  marginOfErrorRF  marginOfErrorT  \n",
       "IW_S1R0_sAchievesGoal         0.034268         0.049075        0.057875  \n",
       "IW_S1R1_sAchievesGoal         0.036872         0.028192        0.045505  \n",
       "IW_S1R2_sAchievesGoal         0.036872         0.028192        0.045505  \n",
       "IW_S2R0_sAchievesGoal         0.014254         0.050721        0.052288  \n",
       "IW_S2R1_sAchievesGoal         0.000000         0.024507        0.024507  \n",
       "IW_S2R2_sAchievesGoal         0.014254         0.014254        0.020084  \n",
       "RSA_S1R0_sAchievesGoal        0.083618         0.057875        0.081555  \n",
       "RSA_S1R1_sAchievesGoal        0.082918         0.056570        0.083080  \n",
       "RSA_S1R2_sAchievesGoal        0.083618         0.047339        0.083080  \n",
       "RSA_S2R0_sAchievesGoal        0.077709         0.067525        0.083671  \n",
       "RSA_S2R1_sAchievesGoal        0.078189         0.059127        0.083546  \n",
       "RSA_S2R2_sAchievesGoal        0.078646         0.049075        0.082738  "
      ]
     },
     "execution_count": 69,
     "metadata": {},
     "output_type": "execute_result"
    }
   ],
   "source": [
    "recB_targetReached"
   ]
  },
  {
   "cell_type": "code",
   "execution_count": 70,
   "metadata": {
    "ExecuteTime": {
     "end_time": "2020-08-02T20:59:51.907077Z",
     "start_time": "2020-08-02T20:59:51.877398Z"
    }
   },
   "outputs": [
    {
     "data": {
      "text/html": [
       "<div>\n",
       "<style scoped>\n",
       "    .dataframe tbody tr th:only-of-type {\n",
       "        vertical-align: middle;\n",
       "    }\n",
       "\n",
       "    .dataframe tbody tr th {\n",
       "        vertical-align: top;\n",
       "    }\n",
       "\n",
       "    .dataframe thead th {\n",
       "        text-align: right;\n",
       "    }\n",
       "</style>\n",
       "<table border=\"1\" class=\"dataframe\">\n",
       "  <thead>\n",
       "    <tr style=\"text-align: right;\">\n",
       "      <th></th>\n",
       "      <th>signaler</th>\n",
       "      <th>receiver</th>\n",
       "      <th>quit</th>\n",
       "      <th>total</th>\n",
       "      <th>receiver failure</th>\n",
       "      <th>marginOfErrorS</th>\n",
       "      <th>marginOfErrorR</th>\n",
       "      <th>marginOfErrorQ</th>\n",
       "      <th>marginOfErrorRF</th>\n",
       "      <th>marginOfErrorT</th>\n",
       "    </tr>\n",
       "  </thead>\n",
       "  <tbody>\n",
       "    <tr>\n",
       "      <th>IW_S1R0_sAchievesGoal</th>\n",
       "      <td>0.027778</td>\n",
       "      <td>0.722222</td>\n",
       "      <td>0.133333</td>\n",
       "      <td>0.750000</td>\n",
       "      <td>0.116667</td>\n",
       "      <td>0.024008</td>\n",
       "      <td>0.065434</td>\n",
       "      <td>0.049661</td>\n",
       "      <td>0.046898</td>\n",
       "      <td>0.063259</td>\n",
       "    </tr>\n",
       "    <tr>\n",
       "      <th>IW_S1R1_sAchievesGoal</th>\n",
       "      <td>0.038889</td>\n",
       "      <td>0.711111</td>\n",
       "      <td>0.161111</td>\n",
       "      <td>0.750000</td>\n",
       "      <td>0.088889</td>\n",
       "      <td>0.028244</td>\n",
       "      <td>0.066215</td>\n",
       "      <td>0.053707</td>\n",
       "      <td>0.041575</td>\n",
       "      <td>0.063259</td>\n",
       "    </tr>\n",
       "    <tr>\n",
       "      <th>IW_S1R2_sAchievesGoal</th>\n",
       "      <td>0.027778</td>\n",
       "      <td>0.772222</td>\n",
       "      <td>0.161111</td>\n",
       "      <td>0.800000</td>\n",
       "      <td>0.038889</td>\n",
       "      <td>0.024008</td>\n",
       "      <td>0.061270</td>\n",
       "      <td>0.053707</td>\n",
       "      <td>0.028244</td>\n",
       "      <td>0.058436</td>\n",
       "    </tr>\n",
       "    <tr>\n",
       "      <th>IW_S2R0_sAchievesGoal</th>\n",
       "      <td>0.005556</td>\n",
       "      <td>0.744444</td>\n",
       "      <td>0.022222</td>\n",
       "      <td>0.750000</td>\n",
       "      <td>0.227778</td>\n",
       "      <td>0.010859</td>\n",
       "      <td>0.063720</td>\n",
       "      <td>0.021534</td>\n",
       "      <td>0.061270</td>\n",
       "      <td>0.063259</td>\n",
       "    </tr>\n",
       "    <tr>\n",
       "      <th>IW_S2R1_sAchievesGoal</th>\n",
       "      <td>0.000000</td>\n",
       "      <td>0.911111</td>\n",
       "      <td>0.016667</td>\n",
       "      <td>0.911111</td>\n",
       "      <td>0.072222</td>\n",
       "      <td>0.000000</td>\n",
       "      <td>0.041575</td>\n",
       "      <td>0.018702</td>\n",
       "      <td>0.037816</td>\n",
       "      <td>0.041575</td>\n",
       "    </tr>\n",
       "    <tr>\n",
       "      <th>IW_S2R2_sAchievesGoal</th>\n",
       "      <td>0.011111</td>\n",
       "      <td>0.950000</td>\n",
       "      <td>0.005556</td>\n",
       "      <td>0.961111</td>\n",
       "      <td>0.033333</td>\n",
       "      <td>0.015313</td>\n",
       "      <td>0.031840</td>\n",
       "      <td>0.010859</td>\n",
       "      <td>0.026224</td>\n",
       "      <td>0.028244</td>\n",
       "    </tr>\n",
       "    <tr>\n",
       "      <th>RSA_S1R0_sAchievesGoal</th>\n",
       "      <td>0.150000</td>\n",
       "      <td>0.383333</td>\n",
       "      <td>0.377778</td>\n",
       "      <td>0.533333</td>\n",
       "      <td>0.088889</td>\n",
       "      <td>0.052164</td>\n",
       "      <td>0.071029</td>\n",
       "      <td>0.070829</td>\n",
       "      <td>0.041575</td>\n",
       "      <td>0.072882</td>\n",
       "    </tr>\n",
       "    <tr>\n",
       "      <th>RSA_S1R1_sAchievesGoal</th>\n",
       "      <td>0.122222</td>\n",
       "      <td>0.355556</td>\n",
       "      <td>0.394444</td>\n",
       "      <td>0.477778</td>\n",
       "      <td>0.127778</td>\n",
       "      <td>0.047851</td>\n",
       "      <td>0.069930</td>\n",
       "      <td>0.071399</td>\n",
       "      <td>0.048771</td>\n",
       "      <td>0.072973</td>\n",
       "    </tr>\n",
       "    <tr>\n",
       "      <th>RSA_S1R2_sAchievesGoal</th>\n",
       "      <td>0.111111</td>\n",
       "      <td>0.377778</td>\n",
       "      <td>0.411111</td>\n",
       "      <td>0.488889</td>\n",
       "      <td>0.100000</td>\n",
       "      <td>0.045912</td>\n",
       "      <td>0.070829</td>\n",
       "      <td>0.071881</td>\n",
       "      <td>0.043827</td>\n",
       "      <td>0.073027</td>\n",
       "    </tr>\n",
       "    <tr>\n",
       "      <th>RSA_S2R0_sAchievesGoal</th>\n",
       "      <td>0.105556</td>\n",
       "      <td>0.405556</td>\n",
       "      <td>0.300000</td>\n",
       "      <td>0.511111</td>\n",
       "      <td>0.188889</td>\n",
       "      <td>0.044889</td>\n",
       "      <td>0.071730</td>\n",
       "      <td>0.066947</td>\n",
       "      <td>0.057183</td>\n",
       "      <td>0.073027</td>\n",
       "    </tr>\n",
       "    <tr>\n",
       "      <th>RSA_S2R1_sAchievesGoal</th>\n",
       "      <td>0.100000</td>\n",
       "      <td>0.477778</td>\n",
       "      <td>0.294444</td>\n",
       "      <td>0.577778</td>\n",
       "      <td>0.127778</td>\n",
       "      <td>0.043827</td>\n",
       "      <td>0.072973</td>\n",
       "      <td>0.066587</td>\n",
       "      <td>0.048771</td>\n",
       "      <td>0.072156</td>\n",
       "    </tr>\n",
       "    <tr>\n",
       "      <th>RSA_S2R2_sAchievesGoal</th>\n",
       "      <td>0.100000</td>\n",
       "      <td>0.494444</td>\n",
       "      <td>0.327778</td>\n",
       "      <td>0.594444</td>\n",
       "      <td>0.077778</td>\n",
       "      <td>0.043827</td>\n",
       "      <td>0.073040</td>\n",
       "      <td>0.068575</td>\n",
       "      <td>0.039126</td>\n",
       "      <td>0.071730</td>\n",
       "    </tr>\n",
       "  </tbody>\n",
       "</table>\n",
       "</div>"
      ],
      "text/plain": [
       "                        signaler  receiver      quit     total  \\\n",
       "IW_S1R0_sAchievesGoal   0.027778  0.722222  0.133333  0.750000   \n",
       "IW_S1R1_sAchievesGoal   0.038889  0.711111  0.161111  0.750000   \n",
       "IW_S1R2_sAchievesGoal   0.027778  0.772222  0.161111  0.800000   \n",
       "IW_S2R0_sAchievesGoal   0.005556  0.744444  0.022222  0.750000   \n",
       "IW_S2R1_sAchievesGoal   0.000000  0.911111  0.016667  0.911111   \n",
       "IW_S2R2_sAchievesGoal   0.011111  0.950000  0.005556  0.961111   \n",
       "RSA_S1R0_sAchievesGoal  0.150000  0.383333  0.377778  0.533333   \n",
       "RSA_S1R1_sAchievesGoal  0.122222  0.355556  0.394444  0.477778   \n",
       "RSA_S1R2_sAchievesGoal  0.111111  0.377778  0.411111  0.488889   \n",
       "RSA_S2R0_sAchievesGoal  0.105556  0.405556  0.300000  0.511111   \n",
       "RSA_S2R1_sAchievesGoal  0.100000  0.477778  0.294444  0.577778   \n",
       "RSA_S2R2_sAchievesGoal  0.100000  0.494444  0.327778  0.594444   \n",
       "\n",
       "                        receiver failure  marginOfErrorS  marginOfErrorR  \\\n",
       "IW_S1R0_sAchievesGoal           0.116667        0.024008        0.065434   \n",
       "IW_S1R1_sAchievesGoal           0.088889        0.028244        0.066215   \n",
       "IW_S1R2_sAchievesGoal           0.038889        0.024008        0.061270   \n",
       "IW_S2R0_sAchievesGoal           0.227778        0.010859        0.063720   \n",
       "IW_S2R1_sAchievesGoal           0.072222        0.000000        0.041575   \n",
       "IW_S2R2_sAchievesGoal           0.033333        0.015313        0.031840   \n",
       "RSA_S1R0_sAchievesGoal          0.088889        0.052164        0.071029   \n",
       "RSA_S1R1_sAchievesGoal          0.127778        0.047851        0.069930   \n",
       "RSA_S1R2_sAchievesGoal          0.100000        0.045912        0.070829   \n",
       "RSA_S2R0_sAchievesGoal          0.188889        0.044889        0.071730   \n",
       "RSA_S2R1_sAchievesGoal          0.127778        0.043827        0.072973   \n",
       "RSA_S2R2_sAchievesGoal          0.077778        0.043827        0.073040   \n",
       "\n",
       "                        marginOfErrorQ  marginOfErrorRF  marginOfErrorT  \n",
       "IW_S1R0_sAchievesGoal         0.049661         0.046898        0.063259  \n",
       "IW_S1R1_sAchievesGoal         0.053707         0.041575        0.063259  \n",
       "IW_S1R2_sAchievesGoal         0.053707         0.028244        0.058436  \n",
       "IW_S2R0_sAchievesGoal         0.021534         0.061270        0.063259  \n",
       "IW_S2R1_sAchievesGoal         0.018702         0.037816        0.041575  \n",
       "IW_S2R2_sAchievesGoal         0.010859         0.026224        0.028244  \n",
       "RSA_S1R0_sAchievesGoal        0.070829         0.041575        0.072882  \n",
       "RSA_S1R1_sAchievesGoal        0.071399         0.048771        0.072973  \n",
       "RSA_S1R2_sAchievesGoal        0.071881         0.043827        0.073027  \n",
       "RSA_S2R0_sAchievesGoal        0.066947         0.057183        0.073027  \n",
       "RSA_S2R1_sAchievesGoal        0.066587         0.048771        0.072156  \n",
       "RSA_S2R2_sAchievesGoal        0.068575         0.039126        0.071730  "
      ]
     },
     "execution_count": 70,
     "metadata": {},
     "output_type": "execute_result"
    }
   ],
   "source": [
    "sigB_targetReached"
   ]
  },
  {
   "cell_type": "code",
   "execution_count": 71,
   "metadata": {
    "ExecuteTime": {
     "end_time": "2020-08-02T20:59:53.122735Z",
     "start_time": "2020-08-02T20:59:53.104953Z"
    },
    "scrolled": true
   },
   "outputs": [
    {
     "data": {
      "text/plain": [
       "IW_S1R0_utility            79.278763\n",
       "IW_S1R1_utility            88.965937\n",
       "IW_S1R2_utility            88.126521\n",
       "IW_S2R0_utility            80.604797\n",
       "IW_S2R1_utility            88.442822\n",
       "IW_S2R2_utility            98.357664\n",
       "RSA_S1R0_utility           23.580118\n",
       "RSA_S1R1_utility           28.050052\n",
       "RSA_S1R2_utility           31.136601\n",
       "RSA_S2R0_utility           24.157108\n",
       "RSA_S2R1_utility           35.180744\n",
       "RSA_S2R2_utility           44.499479\n",
       "CentralControl_utility    100.000000\n",
       "DIYSignaler_utility         5.048662\n",
       "dtype: float64"
      ]
     },
     "execution_count": 71,
     "metadata": {},
     "output_type": "execute_result"
    }
   ],
   "source": [
    "meanUtilDiff_recB = getPercentFromOptimalUtilityDF(recB_CommOptimal).mean()\n",
    "meanUtilDiff_recB"
   ]
  },
  {
   "cell_type": "code",
   "execution_count": 72,
   "metadata": {
    "ExecuteTime": {
     "end_time": "2020-08-02T20:59:53.663495Z",
     "start_time": "2020-08-02T20:59:53.640849Z"
    }
   },
   "outputs": [
    {
     "data": {
      "text/plain": [
       "IW_S1R0_utility            65.887204\n",
       "IW_S1R1_utility            68.249534\n",
       "IW_S1R2_utility            77.067039\n",
       "IW_S2R0_utility            49.646182\n",
       "IW_S2R1_utility            86.527002\n",
       "IW_S2R2_utility            90.912477\n",
       "RSA_S1R0_utility           36.491088\n",
       "RSA_S1R1_utility           31.967279\n",
       "RSA_S1R2_utility           35.094440\n",
       "RSA_S2R0_utility           25.895185\n",
       "RSA_S2R1_utility           43.165736\n",
       "RSA_S2R2_utility           47.085661\n",
       "CentralControl_utility    100.000000\n",
       "DIYSignaler_utility         4.702048\n",
       "dtype: float64"
      ]
     },
     "execution_count": 72,
     "metadata": {},
     "output_type": "execute_result"
    }
   ],
   "source": [
    "meanUtilDiff_sigB = getPercentFromOptimalUtilityDF(sigB_CommOptimal).mean()\n",
    "meanUtilDiff_sigB"
   ]
  },
  {
   "cell_type": "code",
   "execution_count": null,
   "metadata": {},
   "outputs": [],
   "source": []
  },
  {
   "cell_type": "code",
   "execution_count": null,
   "metadata": {},
   "outputs": [],
   "source": []
  },
  {
   "cell_type": "code",
   "execution_count": null,
   "metadata": {},
   "outputs": [],
   "source": []
  },
  {
   "cell_type": "markdown",
   "metadata": {},
   "source": [
    "# Format Metrics"
   ]
  },
  {
   "cell_type": "code",
   "execution_count": 74,
   "metadata": {
    "ExecuteTime": {
     "end_time": "2020-08-02T21:00:02.065108Z",
     "start_time": "2020-08-02T21:00:02.049384Z"
    }
   },
   "outputs": [],
   "source": [
    "def formatUtilities(df, maxSignalerLevel, maxReceiverLevel):\n",
    "    utilityArray = np.zeros((maxSignalerLevel, maxReceiverLevel+1))\n",
    "    \n",
    "    for signaler_row in range(1, maxSignalerLevel+1):\n",
    "        for receiver_col in range(maxReceiverLevel+1):\n",
    "            utilIndex = [ind for ind in df.index if 'S' + str(signaler_row) in ind and 'R' + str(receiver_col) in ind][0]\n",
    "            utilityArray[maxSignalerLevel-signaler_row, receiver_col] = df.loc[utilIndex]\n",
    "    return(utilityArray)"
   ]
  },
  {
   "cell_type": "code",
   "execution_count": 75,
   "metadata": {
    "ExecuteTime": {
     "end_time": "2020-08-02T21:01:02.490860Z",
     "start_time": "2020-08-02T21:01:02.471090Z"
    }
   },
   "outputs": [],
   "source": [
    "sigBarrierGrid_RSA = formatUtilities(df=meanUtilDiff_sigB.loc[['RSA_S1R0_utility', 'RSA_S1R1_utility', 'RSA_S1R2_utility','RSA_S2R0_utility', 'RSA_S2R1_utility', 'RSA_S2R2_utility']], maxSignalerLevel=2, maxReceiverLevel=2)\n",
    "sigBarrierGrid_IW = formatUtilities(df=meanUtilDiff_sigB.loc[['IW_S1R0_utility', 'IW_S1R1_utility', 'IW_S1R2_utility','IW_S2R0_utility', 'IW_S2R1_utility', 'IW_S2R2_utility']], maxSignalerLevel=2, maxReceiverLevel=2)\n",
    "\n",
    "recBarrierGrid_RSA = formatUtilities(df=meanUtilDiff_recB.loc[['RSA_S1R0_utility', 'RSA_S1R1_utility', 'RSA_S1R2_utility','RSA_S2R0_utility', 'RSA_S2R1_utility', 'RSA_S2R2_utility']], maxSignalerLevel=2, maxReceiverLevel=2)\n",
    "recBarrierGrid_IW = formatUtilities(df=meanUtilDiff_recB.loc[['IW_S1R0_utility', 'IW_S1R1_utility', 'IW_S1R2_utility','IW_S2R0_utility', 'IW_S2R1_utility', 'IW_S2R2_utility']], maxSignalerLevel=2, maxReceiverLevel=2)"
   ]
  },
  {
   "cell_type": "markdown",
   "metadata": {},
   "source": [
    "# Plot Metrics"
   ]
  },
  {
   "cell_type": "markdown",
   "metadata": {},
   "source": [
    "## Util Diff - 190/300 Runs Level 2"
   ]
  },
  {
   "cell_type": "code",
   "execution_count": 80,
   "metadata": {
    "ExecuteTime": {
     "end_time": "2020-08-02T21:04:17.975231Z",
     "start_time": "2020-08-02T21:04:17.359672Z"
    }
   },
   "outputs": [
    {
     "data": {
      "image/png": "[encoded data removed]",
      "text/plain": [
       "<Figure size 403.2x453.6 with 2 Axes>"
      ]
     },
     "metadata": {
      "needs_background": "light"
     },
     "output_type": "display_data"
    }
   ],
   "source": [
    "fig, ax = plt.subplots()\n",
    "\n",
    "im, cbar = heatmap(sigBarrierGrid_RSA, [2,1], [0,1,2], ax=ax, cbarlabel=\"Utility Pct From Optimal\")\n",
    "texts = annotate_heatmap(im, valfmt=\"{x:.1f} \", threshold= 50)\n",
    "fig.tight_layout()\n",
    "#fig.savefig('./recursionUtil_RSA_sigBarrier.png',dpi=300, bbox_inches='tight')\n",
    "plt.show()"
   ]
  },
  {
   "cell_type": "code",
   "execution_count": 81,
   "metadata": {
    "ExecuteTime": {
     "end_time": "2020-08-02T21:04:59.402533Z",
     "start_time": "2020-08-02T21:04:58.809264Z"
    }
   },
   "outputs": [
    {
     "data": {
      "image/png": "[encoded data removed]",
      "text/plain": [
       "<Figure size 403.2x453.6 with 2 Axes>"
      ]
     },
     "metadata": {
      "needs_background": "light"
     },
     "output_type": "display_data"
    }
   ],
   "source": [
    "fig, ax = plt.subplots()\n",
    "\n",
    "im, cbar = heatmap(sigBarrierGrid_IW, [2,1], [0,1,2], ax=ax, cbarlabel=\"Utility Pct From Optimal\")\n",
    "texts = annotate_heatmap(im, valfmt=\"{x:.1f} \", threshold= 50)\n",
    "fig.tight_layout()\n",
    "#fig.savefig('./recursionUtil_IW_sigBarrier.png',dpi=300, bbox_inches='tight')\n",
    "plt.show()"
   ]
  },
  {
   "cell_type": "markdown",
   "metadata": {},
   "source": [
    "## Util Diff - Barrier 2"
   ]
  },
  {
   "cell_type": "code",
   "execution_count": 87,
   "metadata": {
    "ExecuteTime": {
     "end_time": "2020-08-02T23:10:11.237089Z",
     "start_time": "2020-08-02T23:10:10.457264Z"
    }
   },
   "outputs": [
    {
     "data": {
      "image/png": "[encoded data removed]",
      "text/plain": [
       "<Figure size 403.2x453.6 with 2 Axes>"
      ]
     },
     "metadata": {
      "needs_background": "light"
     },
     "output_type": "display_data"
    }
   ],
   "source": [
    "fig, ax = plt.subplots()\n",
    "\n",
    "im, cbar = heatmap(recBarrierGrid_RSA, [2,1], [0,1,2], ax=ax, cbarlabel=\"Utility Pct From Optimal\")\n",
    "texts = annotate_heatmap(im, valfmt=\"{x:.1f} \", threshold= 50)\n",
    "fig.tight_layout()\n",
    "#fig.savefig('./recursionUtil_RSA_recBarrier.png',dpi=300, bbox_inches='tight')\n",
    "plt.show()\n"
   ]
  },
  {
   "cell_type": "code",
   "execution_count": 88,
   "metadata": {
    "ExecuteTime": {
     "end_time": "2020-08-02T23:10:19.176743Z",
     "start_time": "2020-08-02T23:10:18.388167Z"
    }
   },
   "outputs": [
    {
     "data": {
      "image/png": "[encoded data removed]",
      "text/plain": [
       "<Figure size 403.2x453.6 with 2 Axes>"
      ]
     },
     "metadata": {
      "needs_background": "light"
     },
     "output_type": "display_data"
    }
   ],
   "source": [
    "fig, ax = plt.subplots()\n",
    "\n",
    "im, cbar = heatmap(recBarrierGrid_IW, [2,1], [0,1,2], ax=ax, cbarlabel=\"Utility Pct From Optimal\")\n",
    "texts = annotate_heatmap(im, valfmt=\"{x:.1f} \", threshold= 50)\n",
    "fig.tight_layout()\n",
    "#fig.savefig('./recursionUtil_IW_recBarrier.png',dpi=300, bbox_inches='tight')\n",
    "plt.show()"
   ]
  },
  {
   "cell_type": "code",
   "execution_count": null,
   "metadata": {},
   "outputs": [],
   "source": []
  },
  {
   "cell_type": "code",
   "execution_count": null,
   "metadata": {},
   "outputs": [],
   "source": []
  },
  {
   "cell_type": "code",
   "execution_count": null,
   "metadata": {},
   "outputs": [],
   "source": []
  },
  {
   "cell_type": "code",
   "execution_count": null,
   "metadata": {},
   "outputs": [],
   "source": []
  },
  {
   "cell_type": "markdown",
   "metadata": {},
   "source": [
    "## Total acc -190/300 Runs L2"
   ]
  },
  {
   "cell_type": "code",
   "execution_count": null,
   "metadata": {
    "ExecuteTime": {
     "end_time": "2020-07-19T21:07:10.982986Z",
     "start_time": "2020-07-19T21:07:10.413Z"
    }
   },
   "outputs": [],
   "source": [
    "fig, ax = plt.subplots()\n",
    "\n",
    "im, cbar = heatmap(rsaGrid_totalAcc, [2,1], [0,1,2], ax=ax, cbarlabel=\"Total Accuracy (Proportion)\")\n",
    "texts = annotate_heatmap(im, valfmt=\"{x:.2f} \", threshold= 50)\n",
    "fig.tight_layout()\n",
    "fig.savefig('./recursionTotalAcc_RSA_300Runs.png',dpi=300, bbox_inches='tight')\n",
    "plt.show()\n",
    "\n"
   ]
  },
  {
   "cell_type": "code",
   "execution_count": null,
   "metadata": {
    "ExecuteTime": {
     "end_time": "2020-07-19T21:07:10.983601Z",
     "start_time": "2020-07-19T21:07:10.415Z"
    }
   },
   "outputs": [],
   "source": [
    "fig, ax = plt.subplots()\n",
    "\n",
    "im, cbar = heatmap(iwGrid_totalAcc, [2,1], [0,1,2], ax=ax, cbarlabel=\"Total Accuracy (Proportion)\")\n",
    "texts = annotate_heatmap(im, valfmt=\"{x:.2f} \", threshold= 50)\n",
    "fig.tight_layout()\n",
    "fig.savefig('./recursionTotalAcc_IW_300Runs.png',dpi=300, bbox_inches='tight')\n",
    "plt.show()\n"
   ]
  },
  {
   "cell_type": "markdown",
   "metadata": {},
   "source": [
    "## Successful Communication -190/300 Runs L2"
   ]
  },
  {
   "cell_type": "code",
   "execution_count": null,
   "metadata": {
    "ExecuteTime": {
     "end_time": "2020-07-19T21:07:10.984130Z",
     "start_time": "2020-07-19T21:07:10.421Z"
    }
   },
   "outputs": [],
   "source": [
    "fig, ax = plt.subplots()\n",
    "\n",
    "im, cbar = heatmap(rsaGrid_SuccessComm, [2,1], [0,1,2], ax=ax, cbarlabel=\"Successful Communication (Proportion)\")\n",
    "texts = annotate_heatmap(im, valfmt=\"{x:.2f} \", threshold= 50)\n",
    "fig.tight_layout()\n",
    "fig.savefig('./recursionCommSucc_RSA_300Runs.png',dpi=300, bbox_inches='tight')\n",
    "plt.show()"
   ]
  },
  {
   "cell_type": "code",
   "execution_count": null,
   "metadata": {
    "ExecuteTime": {
     "end_time": "2020-07-19T21:07:10.984777Z",
     "start_time": "2020-07-19T21:07:10.423Z"
    }
   },
   "outputs": [],
   "source": [
    "fig, ax = plt.subplots()\n",
    "\n",
    "im, cbar = heatmap(iwGrid_SuccessComm, [2,1], [0,1,2], ax=ax, cbarlabel=\"Successful Communication (Proportion)\")\n",
    "texts = annotate_heatmap(im, valfmt=\"{x:.2f} \", threshold= 50)\n",
    "fig.tight_layout()\n",
    "fig.savefig('./recursionCommSucc_IW_300Runs.png',dpi=300, bbox_inches='tight')\n",
    "plt.show()"
   ]
  },
  {
   "cell_type": "code",
   "execution_count": null,
   "metadata": {},
   "outputs": [],
   "source": []
  }
 ],
 "metadata": {
  "kernelspec": {
   "display_name": "Python 3",
   "language": "python",
   "name": "python3"
  },
  "language_info": {
   "codemirror_mode": {
    "name": "ipython",
    "version": 3
   },
   "file_extension": ".py",
   "mimetype": "text/x-python",
   "name": "python",
   "nbconvert_exporter": "python",
   "pygments_lexer": "ipython3",
   "version": "3.5.6"
  },
  "toc": {
   "base_numbering": 1,
   "nav_menu": {},
   "number_sections": true,
   "sideBar": true,
   "skip_h1_title": false,
   "title_cell": "Table of Contents",
   "title_sidebar": "Contents",
   "toc_cell": false,
   "toc_position": {},
   "toc_section_display": true,
   "toc_window_display": false
  }
 },
 "nbformat": 4,
 "nbformat_minor": 2
}
