{
 "cells": [
  {
   "cell_type": "code",
   "execution_count": 1,
   "metadata": {},
   "outputs": [],
   "source": [
    "%load_ext autoreload\n",
    "%autoreload 2"
   ]
  },
  {
   "cell_type": "code",
   "execution_count": 2,
   "metadata": {},
   "outputs": [],
   "source": [
    "import pandas as pd\n",
    "import numpy as np\n",
    "import os\n",
    "import sys\n",
    "import seaborn as sns\n",
    "\n",
    "import matplotlib.pyplot as plt\n",
    "import math\n",
    "import numpy as np"
   ]
  },
  {
   "cell_type": "code",
   "execution_count": 3,
   "metadata": {},
   "outputs": [],
   "source": [
    "sim_r0 = pd.read_pickle('./simulation_4_dimensions_round_1.pkl')\n",
    "sim_r2 = pd.read_pickle('./simulation_4_dimensions_round_2.pkl')\n",
    "sim_r0 = sim_r0.append(sim_r2)\n",
    "sim_r3 = pd.read_pickle('./simulation_4_dimensions_round_3.pkl')\n",
    "sim_r0 = sim_r0.append(sim_r3)\n",
    "sim_r4 = pd.read_pickle('./simulation_4_dimensions_round___4.pkl')\n",
    "sim_r0 = sim_r0.append(sim_r4)"
   ]
  },
  {
   "cell_type": "code",
   "execution_count": 5,
   "metadata": {},
   "outputs": [],
   "source": [
    "sim_r0.to_pickle('dim4ft3_challengingEnv-sigQuit-aMax-R8-Seed282_Cost0_06_2000runs.pkl')"
   ]
  },
  {
   "cell_type": "code",
   "execution_count": null,
   "metadata": {},
   "outputs": [],
   "source": []
  }
 ],
 "metadata": {
  "kernelspec": {
   "display_name": "Python 3",
   "language": "python",
   "name": "python3"
  },
  "language_info": {
   "codemirror_mode": {
    "name": "ipython",
    "version": 3
   },
   "file_extension": ".py",
   "mimetype": "text/x-python",
   "name": "python",
   "nbconvert_exporter": "python",
   "pygments_lexer": "ipython3",
   "version": "3.7.7"
  }
 },
 "nbformat": 4,
 "nbformat_minor": 4
}
