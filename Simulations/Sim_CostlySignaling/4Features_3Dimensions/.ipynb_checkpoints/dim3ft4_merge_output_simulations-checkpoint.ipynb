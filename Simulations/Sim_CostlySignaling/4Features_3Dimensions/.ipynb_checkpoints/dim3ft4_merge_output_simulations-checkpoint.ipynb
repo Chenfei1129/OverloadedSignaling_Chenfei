{
 "cells": [
  {
   "cell_type": "code",
   "execution_count": 1,
   "metadata": {},
   "outputs": [],
   "source": [
    "%load_ext autoreload\n",
    "%autoreload 2"
   ]
  },
  {
   "cell_type": "code",
   "execution_count": 2,
   "metadata": {},
   "outputs": [],
   "source": [
    "import pandas as pd\n",
    "import numpy as np\n",
    "import os\n",
    "import sys\n",
    "import seaborn as sns\n",
    "\n",
    "import matplotlib.pyplot as plt\n",
    "import math\n",
    "import numpy as np\n"
   ]
  },
  {
   "cell_type": "code",
   "execution_count": 5,
   "metadata": {},
   "outputs": [],
   "source": [
    "sim_01 = pd.read_pickle('./dim3ft4_challengingEnv-sigQuit-aMax-R8-Seed282_Cost0_500runs_round1.pkl')\n",
    "sim_01_1 = pd.read_pickle('./dim3ft4_challengingEnv-sigQuit-aMax-R8-Seed282_Cost0_500runs_round2.pkl')\n",
    "sim_01_2 = pd.read_pickle('./dim3ft4_challengingEnv-sigQuit-aMax-R8-Seed282_Cost0_1000runs.pkl')\n"
   ]
  },
  {
   "cell_type": "code",
   "execution_count": 6,
   "metadata": {},
   "outputs": [],
   "source": [
    "\n",
    "#sim_r0, sim_r, sim_r2\n",
    "sim_r0 = sim_r0.append(sim_r)\n",
    "sim_r02 = sim_r02.append(sim_r)\n",
    "sim_r0 = sim_r0.append(sim_r2)\n",
    "sim_r02 = sim_r02.append(sim_r2)\n",
    "#s\n",
    "sim_cost_0 = sim_01.append(sim_01_1)\n",
    "sim_cost_0 = sim_cost_0.append(sim_01_2)"
   ]
  },
  {
   "cell_type": "code",
   "execution_count": 8,
   "metadata": {},
   "outputs": [
    {
     "data": {
      "text/plain": [
       "Index(['signalerLocation', 'receiverLocation', 'intention', 'signalSpace',\n",
       "       'targetDictionary', 'nTargets', 'propRelevantSignalsInVocab',\n",
       "       'IW_S1R0_sChoice', 'IW_S1R0_rChoice', 'IW_S1R0_sAchievesGoal',\n",
       "       'IW_S1R0_rAchievesGoal', 'IW_S1R0_goalAchieved', 'IW_S1R0_utility',\n",
       "       'CentralControl_utility', 'CentralControl_actor',\n",
       "       'DIYSignaler_utility'],\n",
       "      dtype='object')"
      ]
     },
     "execution_count": 8,
     "metadata": {},
     "output_type": "execute_result"
    }
   ],
   "source": [
    "sim_cost_0.keys()"
   ]
  },
  {
   "cell_type": "code",
   "execution_count": 10,
   "metadata": {},
   "outputs": [
    {
     "data": {
      "text/plain": [
       "Index(['signalerLocation', 'receiverLocation', 'intention', 'signalSpace',\n",
       "       'targetDictionary', 'nTargets', 'propRelevantSignalsInVocab',\n",
       "       'IW_S1R0_sChoice', 'IW_S1R0_rChoice', 'IW_S1R0_sAchievesGoal',\n",
       "       'IW_S1R0_rAchievesGoal', 'IW_S1R0_goalAchieved', 'IW_S1R0_utility',\n",
       "       'CentralControl_utility', 'CentralControl_actor', 'DIYSignaler_utility',\n",
       "       'IW_S1R0_sChoiceS_C0.2', 'IW_S1R0_rChoiceS_C0.2',\n",
       "       'IW_S1R0_sAchievesGoalS_C0.2', 'IW_S1R0_rAchievesGoalS_C0.2',\n",
       "       'IW_S1R0_goalAchievedS_C0.2', 'IW_S1R0_utilityS_C0.2',\n",
       "       'CentralControl_utilityS_C0.2', 'CentralControl_actorS_C0.2',\n",
       "       'DIYSignaler_utilityS_C0.2', 'IW_S1R0_sChoiceS_C0.3',\n",
       "       'IW_S1R0_rChoiceS_C0.3', 'IW_S1R0_sAchievesGoalS_C0.3',\n",
       "       'IW_S1R0_rAchievesGoalS_C0.3', 'IW_S1R0_goalAchievedS_C0.3',\n",
       "       'IW_S1R0_utilityS_C0.3', 'CentralControl_utilityS_C0.3',\n",
       "       'CentralControl_actorS_C0.3', 'DIYSignaler_utilityS_C0.3',\n",
       "       'IW_S1R0_sChoiceS_C0.4', 'IW_S1R0_rChoiceS_C0.4',\n",
       "       'IW_S1R0_sAchievesGoalS_C0.4', 'IW_S1R0_rAchievesGoalS_C0.4',\n",
       "       'IW_S1R0_goalAchievedS_C0.4', 'IW_S1R0_utilityS_C0.4',\n",
       "       'CentralControl_utilityS_C0.4', 'CentralControl_actorS_C0.4',\n",
       "       'DIYSignaler_utilityS_C0.4', 'IW_S1R0_sChoiceS_C0.5',\n",
       "       'IW_S1R0_rChoiceS_C0.5', 'IW_S1R0_sAchievesGoalS_C0.5',\n",
       "       'IW_S1R0_rAchievesGoalS_C0.5', 'IW_S1R0_goalAchievedS_C0.5',\n",
       "       'IW_S1R0_utilityS_C0.5', 'CentralControl_utilityS_C0.5',\n",
       "       'CentralControl_actorS_C0.5', 'DIYSignaler_utilityS_C0.5',\n",
       "       'IW_S1R0_sChoiceS_C0.6', 'IW_S1R0_rChoiceS_C0.6',\n",
       "       'IW_S1R0_sAchievesGoalS_C0.6', 'IW_S1R0_rAchievesGoalS_C0.6',\n",
       "       'IW_S1R0_goalAchievedS_C0.6', 'IW_S1R0_utilityS_C0.6',\n",
       "       'CentralControl_utilityS_C0.6', 'CentralControl_actorS_C0.6',\n",
       "       'DIYSignaler_utilityS_C0.6'],\n",
       "      dtype='object')"
      ]
     },
     "execution_count": 10,
     "metadata": {},
     "output_type": "execute_result"
    }
   ],
   "source": [
    "sim_r0.keys()\n"
   ]
  },
  {
   "cell_type": "code",
   "execution_count": 11,
   "metadata": {},
   "outputs": [
    {
     "data": {
      "text/plain": [
       "Index(['signalerLocation', 'receiverLocation', 'intention', 'signalSpace',\n",
       "       'targetDictionary', 'nTargets', 'propRelevantSignalsInVocab',\n",
       "       'IW_S1R0_sChoice', 'IW_S1R0_rChoice', 'IW_S1R0_sAchievesGoal',\n",
       "       'IW_S1R0_rAchievesGoal', 'IW_S1R0_goalAchieved', 'IW_S1R0_utility',\n",
       "       'CentralControl_utility', 'CentralControl_actor', 'DIYSignaler_utility',\n",
       "       'IW_S1R0_sChoiceS_C0.2', 'IW_S1R0_rChoiceS_C0.2',\n",
       "       'IW_S1R0_sAchievesGoalS_C0.2', 'IW_S1R0_rAchievesGoalS_C0.2',\n",
       "       'IW_S1R0_goalAchievedS_C0.2', 'IW_S1R0_utilityS_C0.2',\n",
       "       'CentralControl_utilityS_C0.2', 'CentralControl_actorS_C0.2',\n",
       "       'DIYSignaler_utilityS_C0.2', 'IW_S1R0_sChoiceS_C0.3',\n",
       "       'IW_S1R0_rChoiceS_C0.3', 'IW_S1R0_sAchievesGoalS_C0.3',\n",
       "       'IW_S1R0_rAchievesGoalS_C0.3', 'IW_S1R0_goalAchievedS_C0.3',\n",
       "       'IW_S1R0_utilityS_C0.3', 'CentralControl_utilityS_C0.3',\n",
       "       'CentralControl_actorS_C0.3', 'DIYSignaler_utilityS_C0.3',\n",
       "       'IW_S1R0_sChoiceS_C0.4', 'IW_S1R0_rChoiceS_C0.4',\n",
       "       'IW_S1R0_sAchievesGoalS_C0.4', 'IW_S1R0_rAchievesGoalS_C0.4',\n",
       "       'IW_S1R0_goalAchievedS_C0.4', 'IW_S1R0_utilityS_C0.4',\n",
       "       'CentralControl_utilityS_C0.4', 'CentralControl_actorS_C0.4',\n",
       "       'DIYSignaler_utilityS_C0.4', 'IW_S1R0_sChoiceS_C0.5',\n",
       "       'IW_S1R0_rChoiceS_C0.5', 'IW_S1R0_sAchievesGoalS_C0.5',\n",
       "       'IW_S1R0_rAchievesGoalS_C0.5', 'IW_S1R0_goalAchievedS_C0.5',\n",
       "       'IW_S1R0_utilityS_C0.5', 'CentralControl_utilityS_C0.5',\n",
       "       'CentralControl_actorS_C0.5', 'DIYSignaler_utilityS_C0.5',\n",
       "       'IW_S1R0_sChoiceS_C0.6', 'IW_S1R0_rChoiceS_C0.6',\n",
       "       'IW_S1R0_sAchievesGoalS_C0.6', 'IW_S1R0_rAchievesGoalS_C0.6',\n",
       "       'IW_S1R0_goalAchievedS_C0.6', 'IW_S1R0_utilityS_C0.6',\n",
       "       'CentralControl_utilityS_C0.6', 'CentralControl_actorS_C0.6',\n",
       "       'DIYSignaler_utilityS_C0.6'],\n",
       "      dtype='object')"
      ]
     },
     "execution_count": 11,
     "metadata": {},
     "output_type": "execute_result"
    }
   ],
   "source": [
    "sim_r02.keys()"
   ]
  },
  {
   "cell_type": "code",
   "execution_count": 12,
   "metadata": {},
   "outputs": [
    {
     "name": "stdout",
     "output_type": "stream",
     "text": [
      "(2000, 61)\n",
      "(2000, 61)\n"
     ]
    }
   ],
   "source": [
    "print(sim_r0.shape)\n",
    "print(sim_r02.shape)"
   ]
  },
  {
   "cell_type": "code",
   "execution_count": null,
   "metadata": {},
   "outputs": [],
   "source": []
  }
 ],
 "metadata": {
  "kernelspec": {
   "display_name": "Python 3",
   "language": "python",
   "name": "python3"
  },
  "language_info": {
   "codemirror_mode": {
    "name": "ipython",
    "version": 3
   },
   "file_extension": ".py",
   "mimetype": "text/x-python",
   "name": "python",
   "nbconvert_exporter": "python",
   "pygments_lexer": "ipython3",
   "version": "3.7.7"
  }
 },
 "nbformat": 4,
 "nbformat_minor": 4
}
