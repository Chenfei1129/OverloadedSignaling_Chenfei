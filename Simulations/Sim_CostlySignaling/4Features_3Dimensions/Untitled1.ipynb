{
 "cells": [
  {
   "cell_type": "code",
   "execution_count": 4,
   "metadata": {},
   "outputs": [],
   "source": [
    "def getSignalLength(dfrow, signalCostString, modelPrefix='IW_S1R0_sChoice'):\n",
    "    colName = modelPrefix + signalCostString\n",
    "    if 'do' in dfrow[colName]:#[0:2]:\n",
    "        signalLength = 'do'\n",
    "    elif 'quit' in dfrow[colName]:\n",
    "        signalLength = 'quit'\n",
    "    else:\n",
    "        signalLength = len(dfrow[colName].split())\n",
    "    return(signalLength)\n",
    "\n",
    "def calculateBits(dfrow, columnName, numDimensions, numFeatures):\n",
    "    #separate analysis of the data. summary. Raw number as a table. \n",
    "    if dfrow[columnName] == 'do' or dfrow[columnName] == 'quit':\n",
    "        return 0\n",
    "    product_length = 1\n",
    "    for length in range(numDimensions + 1 - dfrow[columnName], numDimensions + 1):\n",
    "        product_length = product_length * length\n",
    "    bitsOfSignal = np.log2(product_length * (numFeatures ** dfrow[columnName]))\n",
    "    return bitsOfSignal"
   ]
  },
  {
   "cell_type": "code",
   "execution_count": 6,
   "metadata": {},
   "outputs": [
    {
     "name": "stdout",
     "output_type": "stream",
     "text": [
      "               count_bits  count_bits_std  marginOfErrorStd\n",
      "IW_S1R0          7.728753        1.224308          0.073325\n",
      "IW_S1R0S_C0.1    6.354337        1.749242          0.104764\n",
      "IW_S1R0S_C0.2    6.354337        1.749242          0.104764\n",
      "IW_S1R0S_C0.3    6.354337        1.749242          0.104764\n",
      "IW_S1R0S_C0.4    6.354337        1.749242          0.104764\n",
      "IW_S1R0S_C0.5    6.354337        1.749242          0.104764\n",
      "IW_S1R0S_C0.6    6.354337        1.749242          0.104764\n"
     ]
    }
   ],
   "source": [
    "import pandas as pd\n",
    "import numpy as np\n",
    "import os\n",
    "import sys\n",
    "import seaborn as sns\n",
    "#dirName = os.path.dirname(__file__)\n",
    "#sys.path.append(os.path.join(dirName, '..'))\n",
    "#from processCostlySignalingSimulation import findNumberofWordsinBaseline, getBaselineActionChoice, getSignalLength, calculateBits, getUtilityWithSignalCost\n",
    "\n",
    "data = pd.read_pickle('./dim3ft4_challengingEnv-sigQuit-aMax-R8-Seed282_Cost0_06_2000runs.pkl')\n",
    "data['SigLength'] = data.apply(lambda row: getSignalLength(row, ''), axis = 1)\n",
    "data['SigLength_1'] = data.apply(lambda row: getSignalLength(row, 'S_C0.1'), axis = 1)\n",
    "data['SigLength_2'] = data.apply(lambda row: getSignalLength(row, 'S_C0.2'), axis = 1)\n",
    "data['SigLength_3'] = data.apply(lambda row: getSignalLength(row, 'S_C0.3'), axis = 1)\n",
    "data['SigLength_4'] = data.apply(lambda row: getSignalLength(row, 'S_C0.4'), axis = 1)\n",
    "data['SigLength_5'] = data.apply(lambda row: getSignalLength(row, 'S_C0.5'), axis = 1)\n",
    "data['SigLength_6'] = data.apply(lambda row: getSignalLength(row, 'S_C0.6'), axis = 1)\n",
    "\n",
    "data['bits_0'] = data.apply(lambda row: calculateBits(row, 'SigLength', 3, 4), axis = 1)\n",
    "data['bits_1'] = data.apply(lambda row: calculateBits(row, 'SigLength_1', 3, 4), axis = 1)\n",
    "data['bits_2'] = data.apply(lambda row: calculateBits(row, 'SigLength_2', 3, 4), axis = 1)\n",
    "data['bits_3'] = data.apply(lambda row: calculateBits(row, 'SigLength_3', 3, 4), axis = 1)\n",
    "data['bits_4'] = data.apply(lambda row: calculateBits(row, 'SigLength_4', 3, 4), axis = 1)\n",
    "data['bits_5'] = data.apply(lambda row: calculateBits(row, 'SigLength_5', 3, 4), axis = 1)\n",
    "data['bits_6'] = data.apply(lambda row: calculateBits(row, 'SigLength_6', 3, 4), axis = 1)\n",
    "\n",
    "\n",
    "\n",
    "def getProportionTargetReached355(df):\n",
    "    getPropTrue =  lambda colName: df[colName].value_counts(normalize=True).loc[True] if (True in df[colName].value_counts(normalize=True).index) else 0.0\n",
    "    getPropSignalerQuits =  lambda colName: df[colName].value_counts(normalize=True).loc['quit'] if ('quit' in df[colName].value_counts(normalize=True).index) else 0.0  \n",
    "    dfNew = {\n",
    "             'count_bits_std': [df['bits_0'].std(),df['bits_1'].std(),df['bits_2'].std(), df['bits_3'].std(),df['bits_4'].std(), df['bits_5'].std(), df['bits_6'].std()],\n",
    "             'count_bits' : [df['bits_0'].mean(),df['bits_1'].mean(),df['bits_2'].mean(), df['bits_3'].mean(),df['bits_4'].mean(), df['bits_5'].mean(), df['bits_6'].mean()]\n",
    "             \n",
    "             \n",
    "             }\n",
    "    propTrialsTargetReached = pd.DataFrame(dfNew, columns = ['count_bits', 'count_bits_std'], index=['IW_S1R0', 'IW_S1R0S_C0.1','IW_S1R0S_C0.2', 'IW_S1R0S_C0.3','IW_S1R0S_C0.4', 'IW_S1R0S_C0.5','IW_S1R0S_C0.6' ])\n",
    "\n",
    "    #propTrialsTargetReached['marginOfErrorR'] =  1.96*np.sqrt((propTrialsTargetReached['receiver']*(1-propTrialsTargetReached['receiver']))/df.shape[0])\n",
    "    propTrialsTargetReached['marginOfErrorStd'] =  1.96*np.sqrt(propTrialsTargetReached['count_bits_std'] * propTrialsTargetReached['count_bits_std'] /df.shape[0])\n",
    "    #propTrialsTargetReached['marginOfErrorStd_base'] =  1.96*np.sqrt(propTrialsTargetReached['count_base_std'] * propTrialsTargetReached['count_base_std'] /df.shape[0])    \n",
    "    #propTrialsTargetReached['receiver failure'] = 1-(propTrialsTargetReached['receiver']+propTrialsTargetReached['quit']+ propTrialsTargetReached['signaler'])\n",
    "    #propTrialsTargetReached['receiver_failure'] = 1-(propTrialsTargetReached['receiver']+propTrialsTargetReached['quit']+ propTrialsTargetReached['signaler_does'])\n",
    "    return propTrialsTargetReached\n",
    "\n",
    "sq_comm = data.loc[data['CentralControl_actor'] == 'receiver']\n",
    "log2(9*6(3))\n",
    "print(getProportionTargetReached355(sq_commCount))"
   ]
  },
  {
   "cell_type": "code",
   "execution_count": 7,
   "metadata": {},
   "outputs": [
    {
     "data": {
      "text/plain": [
       "8.584962500721156"
      ]
     },
     "execution_count": 7,
     "metadata": {},
     "output_type": "execute_result"
    }
   ],
   "source": [
    "np.log2(12*8*4)"
   ]
  },
  {
   "cell_type": "code",
   "execution_count": 16,
   "metadata": {},
   "outputs": [
    {
     "data": {
      "text/plain": [
       "1        green oval smallest\n",
       "2     purple triangle medium\n",
       "4        purple circle small\n",
       "7        green oval smallest\n",
       "9          blue square small\n",
       "10            red oval small\n",
       "12          red square large\n",
       "13       red circle smallest\n",
       "14       blue triangle small\n",
       "Name: IW_S1R0_rChoiceS_C0.1, dtype: object"
      ]
     },
     "execution_count": 16,
     "metadata": {},
     "output_type": "execute_result"
    }
   ],
   "source": [
    "sq_commCount['IW_S1R0_rChoiceS_C0.1'][1:10]"
   ]
  },
  {
   "cell_type": "code",
   "execution_count": 17,
   "metadata": {},
   "outputs": [
    {
     "data": {
      "text/plain": [
       "1        green oval smallest\n",
       "2     purple triangle medium\n",
       "4        purple circle small\n",
       "7        green oval smallest\n",
       "9          blue square small\n",
       "10            red oval small\n",
       "12          red square large\n",
       "13       red circle smallest\n",
       "14       blue triangle small\n",
       "Name: IW_S1R0_rChoiceS_C0.6, dtype: object"
      ]
     },
     "execution_count": 17,
     "metadata": {},
     "output_type": "execute_result"
    }
   ],
   "source": [
    "sq_commCount['IW_S1R0_rChoiceS_C0.6'][1:10]"
   ]
  },
  {
   "cell_type": "code",
   "execution_count": null,
   "metadata": {},
   "outputs": [],
   "source": []
  }
 ],
 "metadata": {
  "kernelspec": {
   "display_name": "Python 3",
   "language": "python",
   "name": "python3"
  },
  "language_info": {
   "codemirror_mode": {
    "name": "ipython",
    "version": 3
   },
   "file_extension": ".py",
   "mimetype": "text/x-python",
   "name": "python",
   "nbconvert_exporter": "python",
   "pygments_lexer": "ipython3",
   "version": "3.7.7"
  }
 },
 "nbformat": 4,
 "nbformat_minor": 4
}
