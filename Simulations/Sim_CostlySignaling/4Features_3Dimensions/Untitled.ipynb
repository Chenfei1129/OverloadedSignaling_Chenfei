{
 "cells": [
  {
   "cell_type": "code",
   "execution_count": 2,
   "metadata": {},
   "outputs": [],
   "source": [
    "import pandas as pd\n",
    "import numpy as np\n",
    "import os\n",
    "import sys\n",
    "import seaborn as sns\n",
    "data = pd.read_pickle('./dim3ft4_challengingEnv-sigQuit-aMax-R8-Seed282_Cost0_06_2000runs.pkl')"
   ]
  },
  {
   "cell_type": "code",
   "execution_count": 6,
   "metadata": {},
   "outputs": [
    {
     "data": {
      "text/plain": [
       "Index(['signalerLocation', 'receiverLocation', 'intention', 'signalSpace',\n",
       "       'targetDictionary', 'nTargets', 'propRelevantSignalsInVocab',\n",
       "       'IW_S1R0_sChoice', 'IW_S1R0_rChoice', 'IW_S1R0_sAchievesGoal',\n",
       "       'IW_S1R0_rAchievesGoal', 'IW_S1R0_goalAchieved', 'IW_S1R0_utility',\n",
       "       'CentralControl_utility', 'CentralControl_actor', 'DIYSignaler_utility',\n",
       "       'signalerLocation', 'receiverLocation', 'intention', 'signalSpace',\n",
       "       'targetDictionary', 'nTargets', 'propRelevantSignalsInVocab',\n",
       "       'IW_S1R0_sChoice', 'IW_S1R0_rChoice', 'IW_S1R0_sAchievesGoal',\n",
       "       'IW_S1R0_rAchievesGoal', 'IW_S1R0_goalAchieved', 'IW_S1R0_utility',\n",
       "       'CentralControl_utility', 'CentralControl_actor', 'DIYSignaler_utility',\n",
       "       'IW_S1R0_sChoiceS_C0.2', 'IW_S1R0_rChoiceS_C0.2',\n",
       "       'IW_S1R0_sAchievesGoalS_C0.2', 'IW_S1R0_rAchievesGoalS_C0.2',\n",
       "       'IW_S1R0_goalAchievedS_C0.2', 'IW_S1R0_utilityS_C0.2',\n",
       "       'CentralControl_utilityS_C0.2', 'CentralControl_actorS_C0.2',\n",
       "       'DIYSignaler_utilityS_C0.2', 'IW_S1R0_sChoiceS_C0.3',\n",
       "       'IW_S1R0_rChoiceS_C0.3', 'IW_S1R0_sAchievesGoalS_C0.3',\n",
       "       'IW_S1R0_rAchievesGoalS_C0.3', 'IW_S1R0_goalAchievedS_C0.3',\n",
       "       'IW_S1R0_utilityS_C0.3', 'CentralControl_utilityS_C0.3',\n",
       "       'CentralControl_actorS_C0.3', 'DIYSignaler_utilityS_C0.3',\n",
       "       'IW_S1R0_sChoiceS_C0.4', 'IW_S1R0_rChoiceS_C0.4',\n",
       "       'IW_S1R0_sAchievesGoalS_C0.4', 'IW_S1R0_rAchievesGoalS_C0.4',\n",
       "       'IW_S1R0_goalAchievedS_C0.4', 'IW_S1R0_utilityS_C0.4',\n",
       "       'CentralControl_utilityS_C0.4', 'CentralControl_actorS_C0.4',\n",
       "       'DIYSignaler_utilityS_C0.4', 'IW_S1R0_sChoiceS_C0.5',\n",
       "       'IW_S1R0_rChoiceS_C0.5', 'IW_S1R0_sAchievesGoalS_C0.5',\n",
       "       'IW_S1R0_rAchievesGoalS_C0.5', 'IW_S1R0_goalAchievedS_C0.5',\n",
       "       'IW_S1R0_utilityS_C0.5', 'CentralControl_utilityS_C0.5',\n",
       "       'CentralControl_actorS_C0.5', 'DIYSignaler_utilityS_C0.5',\n",
       "       'IW_S1R0_sChoiceS_C0.6', 'IW_S1R0_rChoiceS_C0.6',\n",
       "       'IW_S1R0_sAchievesGoalS_C0.6', 'IW_S1R0_rAchievesGoalS_C0.6',\n",
       "       'IW_S1R0_goalAchievedS_C0.6', 'IW_S1R0_utilityS_C0.6',\n",
       "       'CentralControl_utilityS_C0.6', 'CentralControl_actorS_C0.6',\n",
       "       'DIYSignaler_utilityS_C0.6'],\n",
       "      dtype='object')"
      ]
     },
     "execution_count": 6,
     "metadata": {},
     "output_type": "execute_result"
    }
   ],
   "source": [
    "(data.keys())"
   ]
  },
  {
   "cell_type": "code",
   "execution_count": null,
   "metadata": {},
   "outputs": [],
   "source": []
  }
 ],
 "metadata": {
  "kernelspec": {
   "display_name": "Python 3",
   "language": "python",
   "name": "python3"
  },
  "language_info": {
   "codemirror_mode": {
    "name": "ipython",
    "version": 3
   },
   "file_extension": ".py",
   "mimetype": "text/x-python",
   "name": "python",
   "nbconvert_exporter": "python",
   "pygments_lexer": "ipython3",
   "version": "3.7.7"
  }
 },
 "nbformat": 4,
 "nbformat_minor": 4
}
